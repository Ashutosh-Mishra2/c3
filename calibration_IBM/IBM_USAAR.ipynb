{
 "cells": [
  {
   "cell_type": "markdown",
   "metadata": {},
   "source": [
    "# IBM / USAAR collaboration deliverables\n",
    "Federico and Max will use these ~2 weeks together to set a common ground to tehn collaborate and compare results.\n",
    "These are listed below as Work Packages (WP) with delivarables (D)."
   ]
  },
  {
   "cell_type": "markdown",
   "metadata": {},
   "source": [
    "### WP1 Soft Backend\n",
    "<b> D1 Model Hamiltonian: </b> <br>\n",
    "<ul>\n",
    "    <li> 2 qubits, 1 drive each, 1 resonator each, 3 levels each\n",
    "    <li> 1 coupler with drive\n",
    "    <li> solver of Schrodinger eq. (simulation)\n",
    "</ul>\n",
    "<b> D2 Pulse Generator: </b> <br>\n",
    "<ul>\n",
    "    <li> based on parameter list return pulse/drive\n",
    "</ul>\n",
    "<b> D3 RB generator/simulator: </b> <br>\n",
    "<ul>\n",
    "    <li> given unitaries from model hamiltonian generate RB fidelity, dependent on seq. length\n",
    "    <li> V1 analytically, v2 full simulation\n",
    "</ul>\n",
    "<b> D4 Noise Models: </b> <br>\n",
    "<ul>\n",
    "    <li> Given particular errors add to uncertainty of fidelities (SPAM, dephasing, ...)\n",
    "</ul>"
   ]
  },
  {
   "cell_type": "markdown",
   "metadata": {},
   "source": [
    "### WP2 Algorithm IMprovements \n",
    "Determined optimal behaviour of algorithm given: <br>\n",
    "<ul>\n",
    "    <li> changes in RB length (i.e. determination of RB length)\n",
    "    <li> monitoring (exit conditions) and plotting\n",
    "    <li> resource management (pop. size, RB reps / seq.sampling, seq. reps)\n",
    "</ul>"
   ]
  }
 ],
 "metadata": {
  "kernelspec": {
   "display_name": "Python 3",
   "language": "python",
   "name": "python3"
  },
  "language_info": {
   "codemirror_mode": {
    "name": "ipython",
    "version": 3
   },
   "file_extension": ".py",
   "mimetype": "text/x-python",
   "name": "python",
   "nbconvert_exporter": "python",
   "pygments_lexer": "ipython3",
   "version": "3.6.1"
  }
 },
 "nbformat": 4,
 "nbformat_minor": 2
}
