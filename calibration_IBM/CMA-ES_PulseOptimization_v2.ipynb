{
 "cells": [
  {
   "cell_type": "code",
   "execution_count": 1,
   "metadata": {},
   "outputs": [
    {
     "name": "stderr",
     "output_type": "stream",
     "text": [
      "WARNING:ibmqc.plotting_root:ROOT not imported\n"
     ]
    }
   ],
   "source": [
    "from zrl import oc\n",
    "import matplotlib.pyplot as plt\n",
    "import os\n",
    "import yaml\n",
    "# Define plot characteristics\n",
    "BASE_DIR = '/home/measure/measurements/2019-03-15_XLD1_F_chip13/'\n",
    "SQORE_DIR = '/home/measure/qc_code/ibmqc_package/share/sqore/OptimalControl/'\n",
    "RUN_SQORE = 'run_sqore'"
   ]
  },
  {
   "cell_type": "markdown",
   "metadata": {},
   "source": [
    "# Run the CMA-ES optimizer with a function call to qc_code measurement"
   ]
  },
  {
   "cell_type": "code",
   "execution_count": 2,
   "metadata": {
    "code_folding": [],
    "scrolled": false
   },
   "outputs": [
    {
     "data": {
      "image/png": "[encoded data removed]",
      "text/plain": [
       "<matplotlib.figure.Figure at 0x7f2dd7ce0748>"
      ]
     },
     "metadata": {},
     "output_type": "display_data"
    },
    {
     "name": "stdout",
     "output_type": "stream",
     "text": [
      "final/bestever f-value = -3.967462e-01 -1.190116e+01\n",
      "incumbent solution: [1.0088614375615976, 1.0131000724553161, 1.0916202305923133]\n",
      "std deviation: [0.043971436723657949, 0.017849041156383277, 0.69987288511105095]\n",
      "['/home/measure/analysis/ZRLLabScripts/jupyter_scripts/gatedef_OC.txt', None]\n",
      "Q1; |start; X90p; Y90m; Y90m; @barrier3; Y90m; X90m; Y90m; @barrier7; Y90p; X90p; Y90m; @barrier11; Y90p; X90m; @barrier14; QId; @barrier16; Y90p; X90p; @barrier19; Y90m; Y90m; @barrier22; Y90p; X90p; @barrier25; X90m; Y90m; Y90m; @barrier29; X90p; @barrier31; X90m; Y90m; Y90m; @barrier35; xval(0,10); |meas; $\n",
      "\n",
      "M1; |start; |meas; M; $\n",
      "\n",
      "TRIG; TRIG; |start; $\n",
      "\n",
      "MTRIG; TRIG; |meas; $\n",
      "\n",
      "['/home/measure/analysis/ZRLLabScripts/jupyter_scripts/gatedef_OC.txt', None]\n",
      "['/home/measure/analysis/ZRLLabScripts/jupyter_scripts/gatedef_OC.txt', None]\n",
      "Q1; |start; X90p; Y90m; Y90m; @barrier3; Y90p; X90m; @barrier6; Y90p; X90p; @barrier9; Y90p; X90m; @barrier12; X90p; Y90m; Y90m; @barrier16; X90p; X90p; Y90m; @barrier20; Y90m; @barrier22; X90p; X90p; Y90m; @barrier26; X90m; Y90p; @barrier29; Y90m; X90p; @barrier32; X90p; X90p; Y90m; @barrier36; xval(0,10); |meas; $\n",
      "\n",
      "M1; |start; |meas; M; $\n",
      "\n",
      "TRIG; TRIG; |start; $\n",
      "\n",
      "MTRIG; TRIG; |meas; $\n",
      "\n",
      "run_sqore -b --dir 2019-03-28_17.30.49_testcmaes --name CMASearchIter3Batch1 --set rounds=300 OCRB.yaml\n"
     ]
    },
    {
     "ename": "KeyboardInterrupt",
     "evalue": "",
     "output_type": "error",
     "traceback": [
      "\u001b[0;31m---------------------------------------------------------------------------\u001b[0m",
      "\u001b[0;31mKeyboardInterrupt\u001b[0m                         Traceback (most recent call last)",
      "\u001b[0;32m<ipython-input-2-6f4f6b2ce2aa>\u001b[0m in \u001b[0;36m<module>\u001b[0;34m()\u001b[0m\n\u001b[1;32m     17\u001b[0m               }}\n\u001b[1;32m     18\u001b[0m \u001b[0;34m\u001b[0m\u001b[0m\n\u001b[0;32m---> 19\u001b[0;31m \u001b[0moc\u001b[0m\u001b[0;34m.\u001b[0m\u001b[0mcmaes_par_search\u001b[0m\u001b[0;34m(\u001b[0m\u001b[0minitial_parameters\u001b[0m\u001b[0;34m,\u001b[0m \u001b[0merror_bars\u001b[0m\u001b[0;34m,\u001b[0m \u001b[0mebr\u001b[0m\u001b[0;34m,\u001b[0m \u001b[0mqubits\u001b[0m\u001b[0;34m=\u001b[0m\u001b[0mqubit\u001b[0m\u001b[0;34m,\u001b[0m\u001b[0mrep\u001b[0m\u001b[0;34m=\u001b[0m\u001b[0;36m2\u001b[0m\u001b[0;34m,\u001b[0m \u001b[0mrb_len\u001b[0m\u001b[0;34m=\u001b[0m\u001b[0;36m10\u001b[0m\u001b[0;34m)\u001b[0m\u001b[0;34m\u001b[0m\u001b[0m\n\u001b[0m\u001b[1;32m     20\u001b[0m \u001b[0;34m\u001b[0m\u001b[0m\n\u001b[1;32m     21\u001b[0m \u001b[0mos\u001b[0m\u001b[0;34m.\u001b[0m\u001b[0mchdir\u001b[0m\u001b[0;34m(\u001b[0m\u001b[0mcurrent_dir\u001b[0m\u001b[0;34m)\u001b[0m\u001b[0;34m\u001b[0m\u001b[0m\n",
      "\u001b[0;32m/home/measure/analysis/ZRLLabScripts/zrl/oc_backend.py\u001b[0m in \u001b[0;36mcmaes_par_search\u001b[0;34m(initial_values, error_bars, br, pop_size, rb_len, rep, change_RB_seq, qubits)\u001b[0m\n\u001b[1;32m    110\u001b[0m         \u001b[0msequences\u001b[0m \u001b[0;34m=\u001b[0m \u001b[0mbr\u001b[0m\u001b[0;34m.\u001b[0m\u001b[0msingle_length_RB\u001b[0m\u001b[0;34m(\u001b[0m\u001b[0mrep\u001b[0m\u001b[0;34m,\u001b[0m \u001b[0mrb_len\u001b[0m\u001b[0;34m)\u001b[0m\u001b[0;34m\u001b[0m\u001b[0m\n\u001b[1;32m    111\u001b[0m         \u001b[0;31m# Query backend for new infidelities\u001b[0m\u001b[0;34m\u001b[0m\u001b[0;34m\u001b[0m\u001b[0m\n\u001b[0;32m--> 112\u001b[0;31m         \u001b[0mresults\u001b[0m \u001b[0;34m=\u001b[0m \u001b[0mbr\u001b[0m\u001b[0;34m.\u001b[0m\u001b[0mevaluate_sequences\u001b[0m\u001b[0;34m(\u001b[0m\u001b[0msequences\u001b[0m\u001b[0;34m,\u001b[0m \u001b[0mvalue_batch\u001b[0m\u001b[0;34m,\u001b[0m \u001b[0mrounds\u001b[0m\u001b[0;34m=\u001b[0m\u001b[0;36m300\u001b[0m\u001b[0;34m)\u001b[0m\u001b[0;34m\u001b[0m\u001b[0m\n\u001b[0m\u001b[1;32m    113\u001b[0m         \u001b[0mprint\u001b[0m\u001b[0;34m(\u001b[0m\u001b[0mresults\u001b[0m\u001b[0;34m)\u001b[0m\u001b[0;34m\u001b[0m\u001b[0m\n\u001b[1;32m    114\u001b[0m         \u001b[0mupdate_plot\u001b[0m\u001b[0;34m(\u001b[0m\u001b[0mbr\u001b[0m\u001b[0;34m,\u001b[0m \u001b[0mresults\u001b[0m\u001b[0;34m,\u001b[0m \u001b[0max\u001b[0m\u001b[0;34m,\u001b[0m \u001b[0mfig\u001b[0m\u001b[0;34m)\u001b[0m\u001b[0;34m\u001b[0m\u001b[0m\n",
      "\u001b[0;32m/home/measure/analysis/ZRLLabScripts/zrl/oc.py\u001b[0m in \u001b[0;36mevaluate_sequences\u001b[0;34m(self, sequences, solutions, batch_num, rounds)\u001b[0m\n\u001b[1;32m    205\u001b[0m         \u001b[0;31m# Run until we get data\u001b[0m\u001b[0;34m\u001b[0m\u001b[0;34m\u001b[0m\u001b[0m\n\u001b[1;32m    206\u001b[0m         \u001b[0;32mwhile\u001b[0m \u001b[0mret_val\u001b[0m \u001b[0;34m!=\u001b[0m \u001b[0;36m0\u001b[0m\u001b[0;34m:\u001b[0m\u001b[0;34m\u001b[0m\u001b[0m\n\u001b[0;32m--> 207\u001b[0;31m             \u001b[0mret_val\u001b[0m \u001b[0;34m=\u001b[0m \u001b[0mexecute\u001b[0m\u001b[0;34m.\u001b[0m\u001b[0mrun_warn\u001b[0m\u001b[0;34m(\u001b[0m\u001b[0mcmd\u001b[0m\u001b[0;34m)\u001b[0m\u001b[0;34m\u001b[0m\u001b[0m\n\u001b[0m\u001b[1;32m    208\u001b[0m \u001b[0;34m\u001b[0m\u001b[0m\n\u001b[1;32m    209\u001b[0m             \u001b[0;31m# delete the dir if the run fails and measure again.\u001b[0m\u001b[0;34m\u001b[0m\u001b[0;34m\u001b[0m\u001b[0m\n",
      "\u001b[0;32m/home/measure/qc_code/py_site/ibmqc/util/execute.py\u001b[0m in \u001b[0;36mrun_warn\u001b[0;34m(cmd, description)\u001b[0m\n\u001b[1;32m    164\u001b[0m     \"\"\"\n\u001b[1;32m    165\u001b[0m     \u001b[0;32mtry\u001b[0m\u001b[0;34m:\u001b[0m\u001b[0;34m\u001b[0m\u001b[0m\n\u001b[0;32m--> 166\u001b[0;31m         \u001b[0;32mreturn\u001b[0m \u001b[0mrun\u001b[0m\u001b[0;34m(\u001b[0m\u001b[0mcmd\u001b[0m\u001b[0;34m,\u001b[0m \u001b[0mdescription\u001b[0m\u001b[0;34m)\u001b[0m\u001b[0;34m\u001b[0m\u001b[0m\n\u001b[0m\u001b[1;32m    167\u001b[0m     \u001b[0;32mexcept\u001b[0m \u001b[0mRunError\u001b[0m \u001b[0;32mas\u001b[0m \u001b[0merror\u001b[0m\u001b[0;34m:\u001b[0m\u001b[0;34m\u001b[0m\u001b[0m\n\u001b[1;32m    168\u001b[0m         \u001b[0mprint\u001b[0m\u001b[0;34m(\u001b[0m\u001b[0;34m'*'\u001b[0m \u001b[0;34m*\u001b[0m \u001b[0;36m79\u001b[0m\u001b[0;34m)\u001b[0m\u001b[0;34m\u001b[0m\u001b[0m\n",
      "\u001b[0;32m/home/measure/qc_code/py_site/ibmqc/util/execute.py\u001b[0m in \u001b[0;36mrun\u001b[0;34m(cmd, description)\u001b[0m\n\u001b[1;32m    140\u001b[0m     \u001b[0;32mif\u001b[0m \u001b[0mDEBUG\u001b[0m\u001b[0;34m:\u001b[0m\u001b[0;34m\u001b[0m\u001b[0m\n\u001b[1;32m    141\u001b[0m         \u001b[0;32mreturn\u001b[0m \u001b[0mSUCCESS\u001b[0m\u001b[0;34m\u001b[0m\u001b[0m\n\u001b[0;32m--> 142\u001b[0;31m     \u001b[0mret_val\u001b[0m \u001b[0;34m=\u001b[0m \u001b[0msubprocess\u001b[0m\u001b[0;34m.\u001b[0m\u001b[0mcall\u001b[0m\u001b[0;34m(\u001b[0m\u001b[0mcmd\u001b[0m\u001b[0;34m,\u001b[0m \u001b[0mshell\u001b[0m\u001b[0;34m=\u001b[0m\u001b[0;32mTrue\u001b[0m\u001b[0;34m)\u001b[0m\u001b[0;34m\u001b[0m\u001b[0m\n\u001b[0m\u001b[1;32m    143\u001b[0m     \u001b[0;32mif\u001b[0m \u001b[0mret_val\u001b[0m \u001b[0;34m!=\u001b[0m \u001b[0mSUCCESS\u001b[0m\u001b[0;34m:\u001b[0m\u001b[0;34m\u001b[0m\u001b[0m\n\u001b[1;32m    144\u001b[0m         \u001b[0;32mraise\u001b[0m \u001b[0mRunError\u001b[0m\u001b[0;34m(\u001b[0m\u001b[0mcmd\u001b[0m\u001b[0;34m,\u001b[0m \u001b[0mret_val\u001b[0m\u001b[0;34m)\u001b[0m\u001b[0;34m\u001b[0m\u001b[0m\n",
      "\u001b[0;32m/opt/anaconda3/envs/qc_code3/lib/python3.6/subprocess.py\u001b[0m in \u001b[0;36mcall\u001b[0;34m(timeout, *popenargs, **kwargs)\u001b[0m\n\u001b[1;32m    267\u001b[0m     \u001b[0;32mwith\u001b[0m \u001b[0mPopen\u001b[0m\u001b[0;34m(\u001b[0m\u001b[0;34m*\u001b[0m\u001b[0mpopenargs\u001b[0m\u001b[0;34m,\u001b[0m \u001b[0;34m**\u001b[0m\u001b[0mkwargs\u001b[0m\u001b[0;34m)\u001b[0m \u001b[0;32mas\u001b[0m \u001b[0mp\u001b[0m\u001b[0;34m:\u001b[0m\u001b[0;34m\u001b[0m\u001b[0m\n\u001b[1;32m    268\u001b[0m         \u001b[0;32mtry\u001b[0m\u001b[0;34m:\u001b[0m\u001b[0;34m\u001b[0m\u001b[0m\n\u001b[0;32m--> 269\u001b[0;31m             \u001b[0;32mreturn\u001b[0m \u001b[0mp\u001b[0m\u001b[0;34m.\u001b[0m\u001b[0mwait\u001b[0m\u001b[0;34m(\u001b[0m\u001b[0mtimeout\u001b[0m\u001b[0;34m=\u001b[0m\u001b[0mtimeout\u001b[0m\u001b[0;34m)\u001b[0m\u001b[0;34m\u001b[0m\u001b[0m\n\u001b[0m\u001b[1;32m    270\u001b[0m         \u001b[0;32mexcept\u001b[0m\u001b[0;34m:\u001b[0m\u001b[0;34m\u001b[0m\u001b[0m\n\u001b[1;32m    271\u001b[0m             \u001b[0mp\u001b[0m\u001b[0;34m.\u001b[0m\u001b[0mkill\u001b[0m\u001b[0;34m(\u001b[0m\u001b[0;34m)\u001b[0m\u001b[0;34m\u001b[0m\u001b[0m\n",
      "\u001b[0;32m/opt/anaconda3/envs/qc_code3/lib/python3.6/subprocess.py\u001b[0m in \u001b[0;36mwait\u001b[0;34m(self, timeout, endtime)\u001b[0m\n\u001b[1;32m   1444\u001b[0m                         \u001b[0;32mif\u001b[0m \u001b[0mself\u001b[0m\u001b[0;34m.\u001b[0m\u001b[0mreturncode\u001b[0m \u001b[0;32mis\u001b[0m \u001b[0;32mnot\u001b[0m \u001b[0;32mNone\u001b[0m\u001b[0;34m:\u001b[0m\u001b[0;34m\u001b[0m\u001b[0m\n\u001b[1;32m   1445\u001b[0m                             \u001b[0;32mbreak\u001b[0m  \u001b[0;31m# Another thread waited.\u001b[0m\u001b[0;34m\u001b[0m\u001b[0m\n\u001b[0;32m-> 1446\u001b[0;31m                         \u001b[0;34m(\u001b[0m\u001b[0mpid\u001b[0m\u001b[0;34m,\u001b[0m \u001b[0msts\u001b[0m\u001b[0;34m)\u001b[0m \u001b[0;34m=\u001b[0m \u001b[0mself\u001b[0m\u001b[0;34m.\u001b[0m\u001b[0m_try_wait\u001b[0m\u001b[0;34m(\u001b[0m\u001b[0;36m0\u001b[0m\u001b[0;34m)\u001b[0m\u001b[0;34m\u001b[0m\u001b[0m\n\u001b[0m\u001b[1;32m   1447\u001b[0m                         \u001b[0;31m# Check the pid and loop as waitpid has been known to\u001b[0m\u001b[0;34m\u001b[0m\u001b[0;34m\u001b[0m\u001b[0m\n\u001b[1;32m   1448\u001b[0m                         \u001b[0;31m# return 0 even without WNOHANG in odd situations.\u001b[0m\u001b[0;34m\u001b[0m\u001b[0;34m\u001b[0m\u001b[0m\n",
      "\u001b[0;32m/opt/anaconda3/envs/qc_code3/lib/python3.6/subprocess.py\u001b[0m in \u001b[0;36m_try_wait\u001b[0;34m(self, wait_flags)\u001b[0m\n\u001b[1;32m   1391\u001b[0m             \u001b[0;34m\"\"\"All callers to this function MUST hold self._waitpid_lock.\"\"\"\u001b[0m\u001b[0;34m\u001b[0m\u001b[0m\n\u001b[1;32m   1392\u001b[0m             \u001b[0;32mtry\u001b[0m\u001b[0;34m:\u001b[0m\u001b[0;34m\u001b[0m\u001b[0m\n\u001b[0;32m-> 1393\u001b[0;31m                 \u001b[0;34m(\u001b[0m\u001b[0mpid\u001b[0m\u001b[0;34m,\u001b[0m \u001b[0msts\u001b[0m\u001b[0;34m)\u001b[0m \u001b[0;34m=\u001b[0m \u001b[0mos\u001b[0m\u001b[0;34m.\u001b[0m\u001b[0mwaitpid\u001b[0m\u001b[0;34m(\u001b[0m\u001b[0mself\u001b[0m\u001b[0;34m.\u001b[0m\u001b[0mpid\u001b[0m\u001b[0;34m,\u001b[0m \u001b[0mwait_flags\u001b[0m\u001b[0;34m)\u001b[0m\u001b[0;34m\u001b[0m\u001b[0m\n\u001b[0m\u001b[1;32m   1394\u001b[0m             \u001b[0;32mexcept\u001b[0m \u001b[0mChildProcessError\u001b[0m\u001b[0;34m:\u001b[0m\u001b[0;34m\u001b[0m\u001b[0m\n\u001b[1;32m   1395\u001b[0m                 \u001b[0;31m# This happens if SIGCLD is set to be ignored or waiting\u001b[0m\u001b[0;34m\u001b[0m\u001b[0;34m\u001b[0m\u001b[0m\n",
      "\u001b[0;31mKeyboardInterrupt\u001b[0m: "
     ]
    }
   ],
   "source": [
    "#cal_dir = oc.get_cal_dir_name(BASE_DIR)\n",
    "current_dir = os.getcwd()\n",
    "os.chdir(BASE_DIR)\n",
    "qubit = 1 \n",
    "with open(BASE_DIR+'/exp_params.yaml', 'r') as f:\n",
    "    exp_params = yaml.load(f)\n",
    "    \n",
    "ebr = oc.ExpCMARunner('testcmaes', BASE_DIR, SQORE_DIR, run_sqore='run_sqore')\n",
    "\n",
    "\n",
    "initial_parameters  = {'Q1':\n",
    "                      {'X90p': {'amp':0.4222,'delta':-0.43382388359314228,'freq_offset': 1000}, 'Y90p': {'mapto': 'X90p'}, 'X90m': {'mapto': 'X90p'}, 'Y90m': {'mapto': 'X90p'}, \n",
    "                      }}\n",
    "\n",
    "error_bars  = {'Q1':\n",
    "              {'X90p': {'amp':0.02,'delta':-0.01,'freq_offset': 1000}, 'Y90p': {'mapto': 'X90p'}, 'X90m': {'mapto': 'X90p'}, 'Y90m': {'mapto': 'X90p'}, \n",
    "              }}\n",
    "\n",
    "oc.cmaes_par_search(initial_parameters, error_bars, ebr, qubits=qubit,rep=2, rb_len=10)\n",
    "\n",
    "os.chdir(current_dir)"
   ]
  },
  {
   "cell_type": "code",
   "execution_count": 6,
   "metadata": {
    "code_folding": [],
    "scrolled": false
   },
   "outputs": [
    {
     "data": {
      "image/png": "[encoded data removed]",
      "text/plain": [
       "<Figure size 432x288 with 1 Axes>"
      ]
     },
     "metadata": {},
     "output_type": "display_data"
    },
    {
     "name": "stdout",
     "output_type": "stream",
     "text": [
      "[0.00223618 0.00223618 0.00223618]\n",
      "{'result': inf, 'parameters': []}\n",
      "termination on tolfun=1e-08\n",
      "final/bestever f-value = 2.236179e-03 2.236179e-03\n",
      "incumbent solution: [0.9617969606967677, 0.978561068559032, 2.2395831065108927]\n",
      "std deviation: [0.04482146959981584, 0.02243915224772577, 0.9769011907834227]\n",
      "termination on tolfun=1e-08\n",
      "final/bestever f-value = 2.236179e-03 2.236179e-03\n",
      "incumbent solution: [0.9617969606967677, 0.978561068559032, 2.2395831065108927]\n",
      "std deviation: [0.04482146959981584, 0.02243915224772577, 0.9769011907834227]\n",
      "best fidelity 0.0022361790220717217\n"
     ]
    },
    {
     "ename": "NameError",
     "evalue": "name 'best' is not defined",
     "output_type": "error",
     "traceback": [
      "\u001b[1;31m---------------------------------------------------------------------------\u001b[0m",
      "\u001b[1;31mNameError\u001b[0m                                 Traceback (most recent call last)",
      "\u001b[1;32m<ipython-input-6-343841f3d34b>\u001b[0m in \u001b[0;36m<module>\u001b[1;34m()\u001b[0m\n\u001b[0;32m     28\u001b[0m               {'X90p': {'amp':0.02,'delta':-0.01,'freq_offset': 1000}, 'Y90p': {'mapto': 'X90p'}}}\n\u001b[0;32m     29\u001b[0m \u001b[1;33m\u001b[0m\u001b[0m\n\u001b[1;32m---> 30\u001b[1;33m \u001b[0mcmaes_par_search\u001b[0m\u001b[1;33m(\u001b[0m\u001b[0minitial_parameters\u001b[0m\u001b[1;33m,\u001b[0m \u001b[0merror_bars\u001b[0m\u001b[1;33m,\u001b[0m \u001b[0mbr\u001b[0m\u001b[1;33m,\u001b[0m\u001b[0mrep\u001b[0m\u001b[1;33m=\u001b[0m\u001b[1;36m2\u001b[0m\u001b[1;33m,\u001b[0m \u001b[0mrb_len\u001b[0m\u001b[1;33m=\u001b[0m\u001b[1;36m10\u001b[0m\u001b[1;33m,\u001b[0m\u001b[0mpop_size\u001b[0m\u001b[1;33m=\u001b[0m\u001b[1;36m3\u001b[0m\u001b[1;33m)\u001b[0m\u001b[1;33m\u001b[0m\u001b[0m\n\u001b[0m\u001b[0;32m     31\u001b[0m \u001b[1;33m\u001b[0m\u001b[0m\n\u001b[0;32m     32\u001b[0m \u001b[0mos\u001b[0m\u001b[1;33m.\u001b[0m\u001b[0mchdir\u001b[0m\u001b[1;33m(\u001b[0m\u001b[0mcurrent_dir\u001b[0m\u001b[1;33m)\u001b[0m\u001b[1;33m\u001b[0m\u001b[0m\n",
      "\u001b[1;32m<ipython-input-3-079a5bb2d849>\u001b[0m in \u001b[0;36mcmaes_par_search\u001b[1;34m(initial_values, error_bars, br, pop_size, rb_len, rep, change_RB_seq, qubits)\u001b[0m\n\u001b[0;32m     77\u001b[0m     \u001b[1;31m# print again\u001b[0m\u001b[1;33m\u001b[0m\u001b[1;33m\u001b[0m\u001b[0m\n\u001b[0;32m     78\u001b[0m     \u001b[0mprint\u001b[0m\u001b[1;33m(\u001b[0m\u001b[1;34m'best fidelity'\u001b[0m\u001b[1;33m,\u001b[0m \u001b[0mres\u001b[0m\u001b[1;33m[\u001b[0m\u001b[1;36m1\u001b[0m\u001b[1;33m]\u001b[0m\u001b[1;33m)\u001b[0m\u001b[1;33m\u001b[0m\u001b[0m\n\u001b[1;32m---> 79\u001b[1;33m     \u001b[0mprint\u001b[0m\u001b[1;33m(\u001b[0m\u001b[1;34m'at parameters'\u001b[0m\u001b[1;33m,\u001b[0m \u001b[0mbest\u001b[0m\u001b[1;33m)\u001b[0m\u001b[1;33m\u001b[0m\u001b[0m\n\u001b[0m\u001b[0;32m     80\u001b[0m \u001b[1;33m\u001b[0m\u001b[0m\n\u001b[0;32m     81\u001b[0m     \u001b[1;31m#return the values of the parameters\u001b[0m\u001b[1;33m\u001b[0m\u001b[1;33m\u001b[0m\u001b[0m\n",
      "\u001b[1;31mNameError\u001b[0m: name 'best' is not defined"
     ]
    },
    {
     "data": {
      "image/png": "[encoded data removed]",
      "text/plain": [
       "<Figure size 432x288 with 1 Axes>"
      ]
     },
     "metadata": {},
     "output_type": "display_data"
    }
   ],
   "source": [
    "#cal_dir = get_cal_dir_name(BASE_DIR)\n",
    "\n",
    "# Define system parameters\n",
    "omega_r = 9e9 * 2 * np.pi\n",
    "omega_q = 6e9 * 2 * np.pi\n",
    "w_d = omega_q\n",
    "delta = 100e6 * 2 * np.pi\n",
    "g = 200e6 * 2 * np.pi\n",
    "hbar = 1\n",
    "\n",
    "# Define Hilbert space\n",
    "N_r = 3\n",
    "N_q = 4\n",
    "a = tensor(destroy(N_r), qeye(N_q))\n",
    "b = tensor(qeye(N_r), destroy(N_q))\n",
    "qubit_control = b.dag() + b\n",
    "H0 = oc.jc_hamiltonian(omega_r, a, omega_q, delta, b, g)\n",
    "\n",
    "current_dir = os.getcwd()\n",
    "br = oc.SimCMARunner(H0,w_d)\n",
    "#ebr = oc.ExpCMARunner('testcmaes', base_dir, SQORE_DIR, run_sqore='run_sqore_precalh')\n",
    "\n",
    "\n",
    "initial_parameters  = {'Q1':\n",
    "                      {'X90p': {'amp':0.4222,'delta':-0.43382388359314228,'freq_offset': 1000}, 'Y90p': {'mapto': 'X90p'}}}\n",
    "\n",
    "error_bars  = {'Q1':\n",
    "              {'X90p': {'amp':0.02,'delta':-0.01,'freq_offset': 1000}, 'Y90p': {'mapto': 'X90p'}}}\n",
    "\n",
    "cmaes_par_search(initial_parameters, error_bars, br,rep=2, rb_len=10,pop_size=3)\n",
    "\n",
    "os.chdir(current_dir)"
   ]
  },
  {
   "cell_type": "markdown",
   "metadata": {},
   "source": [
    "# Documentation"
   ]
  },
  {
   "cell_type": "markdown",
   "metadata": {},
   "source": [
    "## Pulse parameter representation\n",
    "\n",
    "The optimizer internally represents its parameters as a list. When asking for new solutions the optimizer also returns a list. However, the experiment needs to know how to map values in this list to parameters in the different pulses played on the different logical channels (e.g. 'Q1' pulse 'Xp'). Thus, the experiment needs a dictionnary of the form"
   ]
  },
  {
   "cell_type": "code",
   "execution_count": null,
   "metadata": {
    "collapsed": true
   },
   "outputs": [],
   "source": [
    "{\n",
    "    'logical_channel1': {\n",
    "        'pulse1': {'param1': 0.2, 'param2': 1},\n",
    "        'pulse2': {'param1': 0.2, 'param2': 2}\n",
    "    },\n",
    "    'logical_channel2': {\n",
    "        'pulseA': {'paramA': 2}\n",
    "    }\n",
    "}"
   ]
  },
  {
   "cell_type": "markdown",
   "metadata": {},
   "source": [
    "The class CMARunner implements the two functions unwrap_parameters and wrap_parameters that are necessary to convert the dictionnary to a list and to convert the list back to a dictionnary, respectively."
   ]
  },
  {
   "cell_type": "markdown",
   "metadata": {},
   "source": [
    "# Tutorials\n",
    "\n",
    "These tutorials show how to use the optimal control routines from ZRL."
   ]
  },
  {
   "cell_type": "markdown",
   "metadata": {},
   "source": [
    "## Preparing the sqore files\n",
    "\n",
    "Read this tutorial to find out how sqore files for OC are produced. Experimental functionality is provided by oc.py and can be called through standalone functions or through the Experimental batch runner object:"
   ]
  },
  {
   "cell_type": "code",
   "execution_count": 4,
   "metadata": {
    "collapsed": true
   },
   "outputs": [],
   "source": [
    "ebr = oc.ExpCMARunner('testcmaes', BASE_DIR, SQORE_DIR, run_sqore='run_sqore')"
   ]
  },
  {
   "cell_type": "markdown",
   "metadata": {},
   "source": [
    "ebr.single_length_RB returns a list of qasm sequences as strings. These strings specify randomized benchmarking sequences that will serve to generate the sqore files. An example of one sequence with lenghth two is shown below."
   ]
  },
  {
   "cell_type": "code",
   "execution_count": 14,
   "metadata": {},
   "outputs": [
    {
     "name": "stdout",
     "output_type": "stream",
     "text": [
      "# basisfile = /home/measure/sw-backend-qsoft-legacy/setup/benchmarking/x90y90_basis.qasm\n",
      "# n1 = 1\n",
      "# m = [2 ... 2, step 1] \n",
      "# RB Type = 1\n",
      "# loading Clifford groups from \"/home/measure/sw-backend-qsoft-legacy/setup/benchmarking/x90y90_basis.qasm.dir\" ...\n",
      "# single qubit elements: 24\n",
      "# two qubit elements: 576\n",
      "# seed = 1553782496185\n",
      "# length 2\n",
      "Y90p 1\n",
      "X90p 1\n",
      "Y90m 1\n",
      "#SIM BARRIER END\n",
      "X90p 1\n",
      "Y90m 1\n",
      "Y90m 1\n",
      "#SIM BARRIER END\n",
      "Y90m 1\n",
      "X90m 1\n",
      "#SIM BARRIER END\n",
      "#XVAL(0,2)\n",
      "# maximum non-unitarity of any sequence 1.13687e-13\n",
      "\n"
     ]
    }
   ],
   "source": [
    "qasm_list = ebr.single_length_RB(1, 2)\n",
    "qasm_str = qasm_list[0]\n",
    "print(qasm_str)"
   ]
  },
  {
   "cell_type": "markdown",
   "metadata": {},
   "source": [
    "The qasm string is converted to a **generic sqore file**, shown below, that can be used to generate the pulse sequences. The generic sqore file has placeholders for the parameters of the pulses. Each individual in the CMA-ES population, corresponding to a pulse sequence, has different values of the parameters of the pulses. The different pulse sequences are therefore created by replacing the placeholders with the parameters of the pulses for each individual."
   ]
  },
  {
   "cell_type": "code",
   "execution_count": 13,
   "metadata": {
    "scrolled": false
   },
   "outputs": [
    {
     "name": "stdout",
     "output_type": "stream",
     "text": [
      "['/home/measure/analysis/ZRLLabScripts/jupyter_scripts/gatedef_OC.txt', None]\n",
      "Q1; |start; QId; |meas; xval(nan,0); $\n",
      "Q1; |start; QId; |meas; xval(nan,0); $\n",
      "Q1; |start; QId; |meas; xval(nan,0); $\n",
      "Q1; |start; QId; |meas; xval(nan,0); $\n",
      "Q1; |start; Xp; |meas; xval(nan,1); $\n",
      "Q1; |start; Xp; |meas; xval(nan,1); $\n",
      "Q1; |start; Xp; |meas; xval(nan,1); $\n",
      "Q1; |start; Xp; |meas; xval(nan,1); $\n",
      "Q1; |start; Y90m; @barrier1; Y90m; X90p; @barrier4; X90m; Y90m; Y90m; @barrier8; xval(0,2); |meas; $\n",
      "\n",
      "M1; |start; |meas; M; $\n",
      "M1; |start; |meas; M; $\n",
      "M1; |start; |meas; M; $\n",
      "M1; |start; |meas; M; $\n",
      "M1; |start; |meas; M; $\n",
      "M1; |start; |meas; M; $\n",
      "M1; |start; |meas; M; $\n",
      "M1; |start; |meas; M; $\n",
      "M1; |start; |meas; M; $\n",
      "\n",
      "TRIG; TRIG; |start; $\n",
      "TRIG; TRIG; |start; $\n",
      "TRIG; TRIG; |start; $\n",
      "TRIG; TRIG; |start; $\n",
      "TRIG; TRIG; |start; $\n",
      "TRIG; TRIG; |start; $\n",
      "TRIG; TRIG; |start; $\n",
      "TRIG; TRIG; |start; $\n",
      "TRIG; TRIG; |start; $\n",
      "\n",
      "MTRIG; TRIG; |meas; $\n",
      "MTRIG; TRIG; |meas; $\n",
      "MTRIG; TRIG; |meas; $\n",
      "MTRIG; TRIG; |meas; $\n",
      "MTRIG; TRIG; |meas; $\n",
      "MTRIG; TRIG; |meas; $\n",
      "MTRIG; TRIG; |meas; $\n",
      "MTRIG; TRIG; |meas; $\n",
      "MTRIG; TRIG; |meas; $\n",
      "\n"
     ]
    }
   ],
   "source": [
    "sqore_file = oc.build_sqore(qasm_str, 4)\n",
    "sq_str = sqore_file.print_sq2()"
   ]
  },
  {
   "cell_type": "markdown",
   "metadata": {},
   "source": [
    "The example below shows the contents of the sqore file that is produced. The function $\\texttt{make_template_sqore_file}$ internally calls the previous functions on any qasm input to produce this sqore file. Such sqore files are run each time the fidelity of a CMA-ES point needs to be evaluated."
   ]
  },
  {
   "cell_type": "code",
   "execution_count": 16,
   "metadata": {
    "scrolled": false
   },
   "outputs": [
    {
     "name": "stdout",
     "output_type": "stream",
     "text": [
      "['/home/measure/analysis/ZRLLabScripts/jupyter_scripts/gatedef_OC.txt', None]\n",
      "Q1; |start; Y90p; X90p; Y90m; @barrier3; X90p; Y90m; Y90m; @barrier7; Y90m; X90m; @barrier10; xval(0,2); |meas; $\n",
      "\n",
      "M1; |start; |meas; M; $\n",
      "\n",
      "TRIG; TRIG; |start; $\n",
      "\n",
      "MTRIG; TRIG; |meas; $\n",
      "\n",
      "['/home/measure/analysis/ZRLLabScripts/jupyter_scripts/gatedef_OC.txt', None]\n",
      "Q1; |start; QId; |meas; xval(nan,0); $\n",
      "Q1; |start; QId; |meas; xval(nan,0); $\n",
      "Q1; |start; QId; |meas; xval(nan,0); $\n",
      "Q1; |start; Xp; |meas; xval(nan,1); $\n",
      "Q1; |start; Xp; |meas; xval(nan,1); $\n",
      "Q1; |start; Xp; |meas; xval(nan,1); $\n",
      "Q1; |start; Y90p; X90p('amp': 0.9, 'delta': 0.1); Y90m; @barrier3; X90p('amp': 0.9, 'delta': 0.1); Y90m; Y90m; @barrier7; Y90m; X90m('delta': 10, 'amp': 0.9); @barrier10; xval(0,0); |meas; $\n",
      "\n",
      "M1; |start; |meas; M; $\n",
      "M1; |start; |meas; M; $\n",
      "M1; |start; |meas; M; $\n",
      "M1; |start; |meas; M; $\n",
      "M1; |start; |meas; M; $\n",
      "M1; |start; |meas; M; $\n",
      "M1; |start; |meas; M; $\n",
      "\n",
      "TRIG; TRIG; |start; $\n",
      "TRIG; TRIG; |start; $\n",
      "TRIG; TRIG; |start; $\n",
      "TRIG; TRIG; |start; $\n",
      "TRIG; TRIG; |start; $\n",
      "TRIG; TRIG; |start; $\n",
      "TRIG; TRIG; |start; $\n",
      "\n",
      "MTRIG; TRIG; |meas; $\n",
      "MTRIG; TRIG; |meas; $\n",
      "MTRIG; TRIG; |meas; $\n",
      "MTRIG; TRIG; |meas; $\n",
      "MTRIG; TRIG; |meas; $\n",
      "MTRIG; TRIG; |meas; $\n",
      "MTRIG; TRIG; |meas; $\n",
      "\n",
      "Q1; |start; Y90p; X90p('amp': 0.7, 'delta': 0.2); Y90m; @barrier3; X90p('amp': 0.7, 'delta': 0.2); Y90m; Y90m; @barrier7; Y90m; X90m('delta': 20, 'amp': 0.7); @barrier10; xval(0,1); |meas; $\n",
      "\n",
      "M1; |start; |meas; M; $\n",
      "\n",
      "TRIG; TRIG; |start; $\n",
      "\n",
      "MTRIG; TRIG; |meas; $\n",
      "\n",
      "\n",
      "\n"
     ]
    }
   ],
   "source": [
    "parameters = [{'Q1':{'X90p':{'amp': 0.9, 'delta': 0.1}, 'X90m':{'mapto': 'X90p', 'delta': 10}}, 'Q2': {'Y90p': {'delta': 0.0}}}, \n",
    "              {'Q1':{'X90p':{'amp': 0.7, 'delta': 0.2}, 'X90m':{'mapto': 'X90p', 'delta': 20}}, 'Q2': {'Y90p': {'delta': 0.0001}}}] \n",
    "\n",
    "ebr.make_template_sqore_file(qasm_list, parameters, SQORE_DIR)\n",
    "\n",
    "with open(SQORE_DIR + 'CMASearch.sq2', 'r') as fin:\n",
    "    print(fin.read())"
   ]
  },
  {
   "cell_type": "markdown",
   "metadata": {},
   "source": [
    "## Acquiring data"
   ]
  },
  {
   "cell_type": "code",
   "execution_count": null,
   "metadata": {
    "collapsed": true
   },
   "outputs": [],
   "source": [
    "ebr = ExpBatchRunner('test_cmaes', SQORE_DIR)\n",
    "\n",
    "ebr.evaluate_sequences(3, 50, [{'amp': 0.90}, {'amp': 0.85}, {'amp': 0.80}])"
   ]
  },
  {
   "cell_type": "code",
   "execution_count": null,
   "metadata": {
    "collapsed": true
   },
   "outputs": [],
   "source": [
    "ebr.evaluate_sequences(3, 50, [{'amp': 0.90}, {'amp': 0.85}, {'amp': 0.80}])"
   ]
  },
  {
   "cell_type": "code",
   "execution_count": null,
   "metadata": {
    "collapsed": true
   },
   "outputs": [],
   "source": [
    "#cal_dir = get_cal_dir_name(BASE_DIR)\n",
    "current_dir = os.getcwd()\n",
    "os.chdir(BASE_DIR)\n",
    "qubit = 'Q1'\n",
    "with open(BASE_DIR+'/exp_params.yaml', 'r') as f:\n",
    "    exp_params = yaml.load(f)\n",
    "initial_parameters  = {'Q1':\n",
    "                      {'X90p': {'amp':0.2,'delta':0.1}}, 'Y90p': {'mapto': 'X90p', 'delta': 0.2}, 'X90m': {'mapto': 'X90p'}, 'Y90m': {'mapto': 'X90p'}, \n",
    "                      }\n",
    "\n",
    "error_bars  = {'Q1':\n",
    "              {'X90p': {'amp':0.2,'delta':0.1}}, 'Y90p': {'mapto': 'X90p'}, 'X90m': {'mapto': 'X90p'}, 'Y90m': {'mapto': 'X90p'}, \n",
    "              }\n",
    "cmaes_par_search(initial_parameters,error_bars)\n",
    "\n",
    "os.chdir(current_dir)"
   ]
  },
  {
   "cell_type": "markdown",
   "metadata": {},
   "source": [
    "Initialize by retrieving the initial values from exp_params file and start cma es optimizer"
   ]
  }
 ],
 "metadata": {
  "kernelspec": {
   "display_name": "Python 3",
   "language": "python",
   "name": "python3"
  },
  "language_info": {
   "codemirror_mode": {
    "name": "ipython",
    "version": 3
   },
   "file_extension": ".py",
   "mimetype": "text/x-python",
   "name": "python",
   "nbconvert_exporter": "python",
   "pygments_lexer": "ipython3",
   "version": "3.6.5"
  },
  "latex_envs": {
   "bibliofile": "biblio.bib",
   "cite_by": "apalike",
   "current_citInitial": 1,
   "eqLabelWithNumbers": true,
   "eqNumInitial": 0
  },
  "nav_menu": {},
  "toc": {
   "navigate_menu": true,
   "number_sections": true,
   "sideBar": true,
   "threshold": 6,
   "toc_cell": false,
   "toc_section_display": "block",
   "toc_window_display": false
  },
  "widgets": {
   "state": {},
   "version": "1.1.2"
  }
 },
 "nbformat": 4,
 "nbformat_minor": 2
}
