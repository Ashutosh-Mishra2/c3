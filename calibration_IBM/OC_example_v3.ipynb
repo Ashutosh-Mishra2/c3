{
 "cells": [
  {
   "cell_type": "code",
   "execution_count": 1,
   "metadata": {},
   "outputs": [],
   "source": [
    "import numpy as np\n",
    "from qutip import *\n",
    "import matplotlib.pyplot as plt\n",
    "import time\n",
    "#from oc import*\n",
    "from oc_backend import *\n",
    "from scipy.special import erf\n",
    "from IPython.display import clear_output"
   ]
  },
  {
   "cell_type": "code",
   "execution_count": 2,
   "metadata": {},
   "outputs": [],
   "source": [
    "# Define system parameters\n",
    "omega_r = 9e9 * 2 * np.pi\n",
    "omega_q = 6e9 * 2 * np.pi\n",
    "omega_dr = 37407165859.10755   # value from frequency scan for this amplitude\n",
    "\n",
    "delta = 100e6 * 2 * np.pi\n",
    "g = 200e6 * 2 * np.pi\n",
    "hbar = 1\n",
    "\n",
    "# Define Hilbert space\n",
    "N_r = 3\n",
    "N_q = 4\n",
    "a = tensor(destroy(N_r), qeye(N_q))\n",
    "b = tensor(qeye(N_r), destroy(N_q))\n",
    "qubit_control = b.dag() + b\n",
    "H0 = jc_hamiltonian(omega_r-omega_dr, a, omega_q-omega_dr, delta, b, g)\n",
    "\n",
    "psi_init = tensor(basis(N_r,0),basis(N_q,0))\n"
   ]
  },
  {
   "cell_type": "code",
   "execution_count": 3,
   "metadata": {},
   "outputs": [
    {
     "name": "stderr",
     "output_type": "stream",
     "text": [
      "C:\\Users\\maw\\AppData\\Local\\Continuum\\anaconda3\\lib\\site-packages\\ipykernel_launcher.py:3: DeprecationWarning: object of type <class 'float'> cannot be safely interpreted as an integer.\n",
      "  This is separate from the ipykernel package so we can avoid doing imports until\n"
     ]
    },
    {
     "ename": "ValueError",
     "evalue": "dimension mismatch",
     "output_type": "error",
     "traceback": [
      "\u001b[1;31m---------------------------------------------------------------------------\u001b[0m",
      "\u001b[1;31mValueError\u001b[0m                                Traceback (most recent call last)",
      "\u001b[1;32m<ipython-input-3-a56160ab2286>\u001b[0m in \u001b[0;36m<module>\u001b[1;34m()\u001b[0m\n\u001b[0;32m     18\u001b[0m \u001b[0mdrive\u001b[0m \u001b[1;33m=\u001b[0m \u001b[1;32mlambda\u001b[0m \u001b[0mt\u001b[0m\u001b[1;33m:\u001b[0m \u001b[0mbr\u001b[0m\u001b[1;33m.\u001b[0m\u001b[0mget_drive\u001b[0m\u001b[1;33m(\u001b[0m\u001b[1;33m{\u001b[0m\u001b[1;34m'amp'\u001b[0m\u001b[1;33m:\u001b[0m \u001b[1;36m1\u001b[0m\u001b[1;33m,\u001b[0m\u001b[1;34m'delta'\u001b[0m\u001b[1;33m:\u001b[0m\u001b[1;36m1\u001b[0m\u001b[1;33m,\u001b[0m\u001b[1;34m'phase'\u001b[0m\u001b[1;33m:\u001b[0m\u001b[1;36m0\u001b[0m\u001b[1;33m}\u001b[0m\u001b[1;33m,\u001b[0m\u001b[0mb\u001b[0m\u001b[1;33m,\u001b[0m\u001b[0mt\u001b[0m\u001b[1;33m)\u001b[0m\u001b[1;33m\u001b[0m\u001b[0m\n\u001b[0;32m     19\u001b[0m \u001b[1;33m\u001b[0m\u001b[0m\n\u001b[1;32m---> 20\u001b[1;33m \u001b[0mplt\u001b[0m\u001b[1;33m.\u001b[0m\u001b[0mplot\u001b[0m\u001b[1;33m(\u001b[0m\u001b[0mts\u001b[0m\u001b[1;33m,\u001b[0m\u001b[0mdrive\u001b[0m\u001b[1;33m(\u001b[0m\u001b[0mts\u001b[0m\u001b[1;33m)\u001b[0m\u001b[1;33m)\u001b[0m\u001b[1;33m\u001b[0m\u001b[0m\n\u001b[0m",
      "\u001b[1;32m<ipython-input-3-a56160ab2286>\u001b[0m in \u001b[0;36m<lambda>\u001b[1;34m(t)\u001b[0m\n\u001b[0;32m     16\u001b[0m \u001b[0mDriveY\u001b[0m \u001b[1;33m=\u001b[0m \u001b[1;32mlambda\u001b[0m \u001b[0mt\u001b[0m\u001b[1;33m:\u001b[0m \u001b[1;33m(\u001b[0m\u001b[0mQ\u001b[0m\u001b[1;33m(\u001b[0m\u001b[0mt\u001b[0m\u001b[1;33m)\u001b[0m \u001b[1;33m*\u001b[0m \u001b[0mnp\u001b[0m\u001b[1;33m.\u001b[0m\u001b[0mcos\u001b[0m\u001b[1;33m(\u001b[0m\u001b[0momega_dr\u001b[0m \u001b[1;33m*\u001b[0m \u001b[0mt\u001b[0m \u001b[1;33m+\u001b[0m \u001b[0mnp\u001b[0m\u001b[1;33m.\u001b[0m\u001b[0mpi\u001b[0m\u001b[1;33m/\u001b[0m\u001b[1;36m2\u001b[0m\u001b[1;33m)\u001b[0m \u001b[1;33m+\u001b[0m \u001b[0mI\u001b[0m\u001b[1;33m(\u001b[0m\u001b[0mt\u001b[0m\u001b[1;33m)\u001b[0m \u001b[1;33m*\u001b[0m \u001b[0mnp\u001b[0m\u001b[1;33m.\u001b[0m\u001b[0msin\u001b[0m\u001b[1;33m(\u001b[0m\u001b[0momega_dr\u001b[0m \u001b[1;33m*\u001b[0m \u001b[0mt\u001b[0m\u001b[1;33m)\u001b[0m \u001b[1;33m+\u001b[0m \u001b[0mnp\u001b[0m\u001b[1;33m.\u001b[0m\u001b[0mpi\u001b[0m\u001b[1;33m/\u001b[0m\u001b[1;36m2\u001b[0m\u001b[1;33m)\u001b[0m\u001b[1;33m\u001b[0m\u001b[0m\n\u001b[0;32m     17\u001b[0m \u001b[1;33m\u001b[0m\u001b[0m\n\u001b[1;32m---> 18\u001b[1;33m \u001b[0mdrive\u001b[0m \u001b[1;33m=\u001b[0m \u001b[1;32mlambda\u001b[0m \u001b[0mt\u001b[0m\u001b[1;33m:\u001b[0m \u001b[0mbr\u001b[0m\u001b[1;33m.\u001b[0m\u001b[0mget_drive\u001b[0m\u001b[1;33m(\u001b[0m\u001b[1;33m{\u001b[0m\u001b[1;34m'amp'\u001b[0m\u001b[1;33m:\u001b[0m \u001b[1;36m1\u001b[0m\u001b[1;33m,\u001b[0m\u001b[1;34m'delta'\u001b[0m\u001b[1;33m:\u001b[0m\u001b[1;36m1\u001b[0m\u001b[1;33m,\u001b[0m\u001b[1;34m'phase'\u001b[0m\u001b[1;33m:\u001b[0m\u001b[1;36m0\u001b[0m\u001b[1;33m}\u001b[0m\u001b[1;33m,\u001b[0m\u001b[0mb\u001b[0m\u001b[1;33m,\u001b[0m\u001b[0mt\u001b[0m\u001b[1;33m)\u001b[0m\u001b[1;33m\u001b[0m\u001b[0m\n\u001b[0m\u001b[0;32m     19\u001b[0m \u001b[1;33m\u001b[0m\u001b[0m\n\u001b[0;32m     20\u001b[0m \u001b[0mplt\u001b[0m\u001b[1;33m.\u001b[0m\u001b[0mplot\u001b[0m\u001b[1;33m(\u001b[0m\u001b[0mts\u001b[0m\u001b[1;33m,\u001b[0m\u001b[0mdrive\u001b[0m\u001b[1;33m(\u001b[0m\u001b[0mts\u001b[0m\u001b[1;33m)\u001b[0m\u001b[1;33m)\u001b[0m\u001b[1;33m\u001b[0m\u001b[0m\n",
      "\u001b[1;32m~\\Documents\\Python Scripts\\IBM_USAAR\\oc_backend.py\u001b[0m in \u001b[0;36mget_drive\u001b[1;34m(self, value, a, t)\u001b[0m\n\u001b[0;32m    417\u001b[0m         \u001b[1;31m## based on params build a pulse specified in the BatchRunner\u001b[0m\u001b[1;33m\u001b[0m\u001b[1;33m\u001b[0m\u001b[0m\n\u001b[0;32m    418\u001b[0m         \u001b[0mT\u001b[0m \u001b[1;33m=\u001b[0m \u001b[0mself\u001b[0m\u001b[1;33m.\u001b[0m\u001b[0mts\u001b[0m\u001b[1;33m[\u001b[0m\u001b[1;33m-\u001b[0m\u001b[1;36m1\u001b[0m\u001b[1;33m]\u001b[0m\u001b[1;33m\u001b[0m\u001b[0m\n\u001b[1;32m--> 419\u001b[1;33m         \u001b[0mdrive\u001b[0m \u001b[1;33m=\u001b[0m \u001b[0mgaussian\u001b[0m\u001b[1;33m(\u001b[0m\u001b[0mt\u001b[0m\u001b[1;33m,\u001b[0m \u001b[0mT\u001b[0m\u001b[1;33m,\u001b[0m \u001b[0mvalue\u001b[0m\u001b[1;33m[\u001b[0m\u001b[1;34m'amp'\u001b[0m\u001b[1;33m]\u001b[0m\u001b[1;33m)\u001b[0m\u001b[1;33m*\u001b[0m\u001b[1;33m(\u001b[0m\u001b[0ma\u001b[0m\u001b[1;33m.\u001b[0m\u001b[0mdag\u001b[0m\u001b[1;33m(\u001b[0m\u001b[1;33m)\u001b[0m \u001b[1;33m+\u001b[0m \u001b[0ma\u001b[0m\u001b[1;33m)\u001b[0m \u001b[1;33m-\u001b[0m \u001b[1;36m1.0j\u001b[0m \u001b[1;33m*\u001b[0m \u001b[0mgaussian_der\u001b[0m\u001b[1;33m(\u001b[0m\u001b[0mt\u001b[0m\u001b[1;33m,\u001b[0m \u001b[0mT\u001b[0m\u001b[1;33m,\u001b[0m \u001b[0mvalue\u001b[0m\u001b[1;33m[\u001b[0m\u001b[1;34m'amp'\u001b[0m\u001b[1;33m]\u001b[0m\u001b[1;33m)\u001b[0m \u001b[1;33m*\u001b[0m \u001b[1;33m(\u001b[0m\u001b[0ma\u001b[0m\u001b[1;33m.\u001b[0m\u001b[0mdag\u001b[0m\u001b[1;33m(\u001b[0m\u001b[1;33m)\u001b[0m \u001b[1;33m-\u001b[0m \u001b[0ma\u001b[0m\u001b[1;33m)\u001b[0m \u001b[1;33m/\u001b[0m \u001b[0mvalue\u001b[0m\u001b[1;33m[\u001b[0m\u001b[1;34m'delta'\u001b[0m\u001b[1;33m]\u001b[0m\u001b[1;33m\u001b[0m\u001b[0m\n\u001b[0m\u001b[0;32m    420\u001b[0m         \u001b[1;32mreturn\u001b[0m \u001b[0mdrive\u001b[0m\u001b[1;31m# return 0.5*np.exp(1.0j*value['phase'])*drive\u001b[0m\u001b[1;33m\u001b[0m\u001b[0m\n\u001b[0;32m    421\u001b[0m \u001b[1;33m\u001b[0m\u001b[0m\n",
      "\u001b[1;32m~\\AppData\\Local\\Continuum\\anaconda3\\lib\\site-packages\\qutip\\qobj.py\u001b[0m in \u001b[0;36m__rmul__\u001b[1;34m(self, other)\u001b[0m\n\u001b[0;32m    582\u001b[0m                                             dtype=object)\n\u001b[0;32m    583\u001b[0m             \u001b[1;32melse\u001b[0m\u001b[1;33m:\u001b[0m\u001b[1;33m\u001b[0m\u001b[0m\n\u001b[1;32m--> 584\u001b[1;33m                 \u001b[1;32mreturn\u001b[0m \u001b[0mother\u001b[0m \u001b[1;33m*\u001b[0m \u001b[0mself\u001b[0m\u001b[1;33m.\u001b[0m\u001b[0mdata\u001b[0m\u001b[1;33m\u001b[0m\u001b[0m\n\u001b[0m\u001b[0;32m    585\u001b[0m \u001b[1;33m\u001b[0m\u001b[0m\n\u001b[0;32m    586\u001b[0m         \u001b[1;32melif\u001b[0m \u001b[0misinstance\u001b[0m\u001b[1;33m(\u001b[0m\u001b[0mother\u001b[0m\u001b[1;33m,\u001b[0m \u001b[0mlist\u001b[0m\u001b[1;33m)\u001b[0m\u001b[1;33m:\u001b[0m\u001b[1;33m\u001b[0m\u001b[0m\n",
      "\u001b[1;32m~\\AppData\\Local\\Continuum\\anaconda3\\lib\\site-packages\\scipy\\sparse\\base.py\u001b[0m in \u001b[0;36m__rmul__\u001b[1;34m(self, other)\u001b[0m\n\u001b[0;32m    547\u001b[0m             \u001b[1;32mexcept\u001b[0m \u001b[0mAttributeError\u001b[0m\u001b[1;33m:\u001b[0m\u001b[1;33m\u001b[0m\u001b[0m\n\u001b[0;32m    548\u001b[0m                 \u001b[0mtr\u001b[0m \u001b[1;33m=\u001b[0m \u001b[0mnp\u001b[0m\u001b[1;33m.\u001b[0m\u001b[0masarray\u001b[0m\u001b[1;33m(\u001b[0m\u001b[0mother\u001b[0m\u001b[1;33m)\u001b[0m\u001b[1;33m.\u001b[0m\u001b[0mtranspose\u001b[0m\u001b[1;33m(\u001b[0m\u001b[1;33m)\u001b[0m\u001b[1;33m\u001b[0m\u001b[0m\n\u001b[1;32m--> 549\u001b[1;33m             \u001b[1;32mreturn\u001b[0m \u001b[1;33m(\u001b[0m\u001b[0mself\u001b[0m\u001b[1;33m.\u001b[0m\u001b[0mtranspose\u001b[0m\u001b[1;33m(\u001b[0m\u001b[1;33m)\u001b[0m \u001b[1;33m*\u001b[0m \u001b[0mtr\u001b[0m\u001b[1;33m)\u001b[0m\u001b[1;33m.\u001b[0m\u001b[0mtranspose\u001b[0m\u001b[1;33m(\u001b[0m\u001b[1;33m)\u001b[0m\u001b[1;33m\u001b[0m\u001b[0m\n\u001b[0m\u001b[0;32m    550\u001b[0m \u001b[1;33m\u001b[0m\u001b[0m\n\u001b[0;32m    551\u001b[0m     \u001b[1;31m#####################################\u001b[0m\u001b[1;33m\u001b[0m\u001b[1;33m\u001b[0m\u001b[0m\n",
      "\u001b[1;32m~\\AppData\\Local\\Continuum\\anaconda3\\lib\\site-packages\\scipy\\sparse\\base.py\u001b[0m in \u001b[0;36m__mul__\u001b[1;34m(self, other)\u001b[0m\n\u001b[0;32m    495\u001b[0m             \u001b[1;31m# dense row or column vector\u001b[0m\u001b[1;33m\u001b[0m\u001b[1;33m\u001b[0m\u001b[0m\n\u001b[0;32m    496\u001b[0m             \u001b[1;32mif\u001b[0m \u001b[0mother\u001b[0m\u001b[1;33m.\u001b[0m\u001b[0mshape\u001b[0m \u001b[1;33m!=\u001b[0m \u001b[1;33m(\u001b[0m\u001b[0mN\u001b[0m\u001b[1;33m,\u001b[0m\u001b[1;33m)\u001b[0m \u001b[1;32mand\u001b[0m \u001b[0mother\u001b[0m\u001b[1;33m.\u001b[0m\u001b[0mshape\u001b[0m \u001b[1;33m!=\u001b[0m \u001b[1;33m(\u001b[0m\u001b[0mN\u001b[0m\u001b[1;33m,\u001b[0m \u001b[1;36m1\u001b[0m\u001b[1;33m)\u001b[0m\u001b[1;33m:\u001b[0m\u001b[1;33m\u001b[0m\u001b[0m\n\u001b[1;32m--> 497\u001b[1;33m                 \u001b[1;32mraise\u001b[0m \u001b[0mValueError\u001b[0m\u001b[1;33m(\u001b[0m\u001b[1;34m'dimension mismatch'\u001b[0m\u001b[1;33m)\u001b[0m\u001b[1;33m\u001b[0m\u001b[0m\n\u001b[0m\u001b[0;32m    498\u001b[0m \u001b[1;33m\u001b[0m\u001b[0m\n\u001b[0;32m    499\u001b[0m             \u001b[0mresult\u001b[0m \u001b[1;33m=\u001b[0m \u001b[0mself\u001b[0m\u001b[1;33m.\u001b[0m\u001b[0m_mul_vector\u001b[0m\u001b[1;33m(\u001b[0m\u001b[0mnp\u001b[0m\u001b[1;33m.\u001b[0m\u001b[0mravel\u001b[0m\u001b[1;33m(\u001b[0m\u001b[0mother\u001b[0m\u001b[1;33m)\u001b[0m\u001b[1;33m)\u001b[0m\u001b[1;33m\u001b[0m\u001b[0m\n",
      "\u001b[1;31mValueError\u001b[0m: dimension mismatch"
     ]
    }
   ],
   "source": [
    "t_final = 2e-8\n",
    "dt = 1e-11\n",
    "ts = np.linspace(0,t_final,t_final/dt)\n",
    "#amp = 12e6 * 2 * np.pi\n",
    "sigma = t_final / 6\n",
    "area = np.pi\n",
    "\n",
    "t_g=t_final\n",
    "\n",
    "br = SimCMARunner(H0,psi_init,omega_dr)\n",
    "gaussian = lambda t: area * ( np.exp(-(t-t_g/2)**2/(2*sigma**2)) - np.exp(-t_g**2/(8*sigma**2)) ) / \\\n",
    "                     (np.sqrt(2*np.pi*sigma**2)*erf(t_g/(np.sqrt(8)*sigma)) - t_g*np.exp(-t_g**2/(8*sigma**2)))\n",
    "gauss_der = lambda t: area * (np.exp(-(t-t_g/2)**2/(2*sigma**2))) * (t-t_g/2)/sigma**2 / \\\n",
    "                     (np.sqrt(2*np.pi*sigma**2)*erf(t_g/(np.sqrt(8)*sigma)) - t_g*np.exp(-t_g**2/(8*sigma**2)))\n",
    "Q = lambda t: gaussian(t)  # put your envelope here\n",
    "I = lambda t: -gauss_der(t) *0.9/ delta \n",
    "DriveX = lambda t: (Q(t) * np.cos(omega_dr * t) + I(t) * np.sin(omega_dr * t))\n",
    "DriveY = lambda t: (Q(t) * np.cos(omega_dr * t + np.pi/2) + I(t) * np.sin(omega_dr * t) + np.pi/2)\n",
    "\n",
    "drive = lambda t: br.get_drive({'amp': 1,'delta':1,'phase':0},b,t)\n",
    "\n",
    "plt.plot(ts,drive(ts))"
   ]
  },
  {
   "cell_type": "code",
   "execution_count": 74,
   "metadata": {},
   "outputs": [
    {
     "data": {
      "text/plain": [
       "[<matplotlib.lines.Line2D at 0x1ee285d6400>]"
      ]
     },
     "execution_count": 74,
     "metadata": {},
     "output_type": "execute_result"
    },
    {
     "data": {
      "image/png": "[encoded data removed]",
      "text/plain": [
       "<Figure size 432x288 with 1 Axes>"
      ]
     },
     "metadata": {},
     "output_type": "display_data"
    }
   ],
   "source": [
    "# Define Hamiltonian\n",
    "H_X = lambda t: H0 + qubit_control * DriveX(t)\n",
    "H_Y = lambda t: H0 + qubit_control * DriveY(t)\n",
    "\n",
    "# Let's propagate\n",
    "U0 = tensor(qeye(N_r),qeye(N_q))\n",
    "U = {}\n",
    "U['X90p'] = evolution(H_X,U0,ts,history=True)\n",
    "U['Y90p'] = evolution(H_Y,U0,ts,history=True)\n",
    "\n",
    "# Initial state\n",
    "psi_init = tensor(basis(N_r,0),basis(N_q,0))\n",
    "psi_0 = []\n",
    "psi_1 = []\n",
    "psi_2 = []\n",
    "psi_3 = []\n",
    "psi_now = psi_init\n",
    "for i in range(4):\n",
    "    psi_init = psi_now\n",
    "    for u in U['X90p']:   \n",
    "        psi_now = (u*psi_init)\n",
    "        psi_0.append(psi_now.ptrace(1)[0][0][0]) #extra middle zero index is due to how the Qobj is stored\n",
    "        psi_1.append(psi_now.ptrace(1)[1][0][1])\n",
    "        psi_2.append(psi_now.ptrace(1)[2][0][2])\n",
    "        psi_3.append(psi_now.ptrace(1)[3][0][3])\n",
    "plt.plot(np.abs(psi_0))\n",
    "#plt.plot(np.abs(psi_01))\n",
    "plt.plot(np.abs(psi_1))\n",
    "plt.plot(np.abs(psi_2))\n",
    "plt.plot(np.abs(psi_3))\n",
    "plt.plot(np.abs(psi_3)+np.abs(psi_2)+np.abs(psi_1)+np.abs(psi_0))"
   ]
  },
  {
   "cell_type": "code",
   "execution_count": 26,
   "metadata": {},
   "outputs": [
    {
     "ename": "TypeError",
     "evalue": "evolution() missing 1 required positional argument: 'ts'",
     "output_type": "error",
     "traceback": [
      "\u001b[1;31m---------------------------------------------------------------------------\u001b[0m",
      "\u001b[1;31mTypeError\u001b[0m                                 Traceback (most recent call last)",
      "\u001b[1;32m<ipython-input-26-4c7470fd8bc0>\u001b[0m in \u001b[0;36m<module>\u001b[1;34m()\u001b[0m\n\u001b[0;32m      5\u001b[0m \u001b[1;32mfor\u001b[0m \u001b[0momega_d\u001b[0m \u001b[1;32min\u001b[0m \u001b[0mdrive_freqs\u001b[0m\u001b[1;33m:\u001b[0m\u001b[1;33m\u001b[0m\u001b[0m\n\u001b[0;32m      6\u001b[0m     \u001b[0mH\u001b[0m \u001b[1;33m=\u001b[0m \u001b[1;32mlambda\u001b[0m \u001b[0mt\u001b[0m\u001b[1;33m:\u001b[0m \u001b[0mH0\u001b[0m \u001b[1;33m+\u001b[0m \u001b[0mqubit_control\u001b[0m \u001b[1;33m*\u001b[0m \u001b[0mDrive\u001b[0m\u001b[1;33m(\u001b[0m\u001b[0mt\u001b[0m\u001b[1;33m)\u001b[0m\u001b[1;33m\u001b[0m\u001b[0m\n\u001b[1;32m----> 7\u001b[1;33m     \u001b[0mU\u001b[0m \u001b[1;33m=\u001b[0m \u001b[0mevolution\u001b[0m\u001b[1;33m(\u001b[0m\u001b[0mH\u001b[0m\u001b[1;33m,\u001b[0m\u001b[0mts\u001b[0m\u001b[1;33m)\u001b[0m\u001b[1;33m\u001b[0m\u001b[0m\n\u001b[0m\u001b[0;32m      8\u001b[0m     \u001b[0mU_final\u001b[0m\u001b[1;33m.\u001b[0m\u001b[0mappend\u001b[0m\u001b[1;33m(\u001b[0m\u001b[0mU\u001b[0m\u001b[1;33m[\u001b[0m\u001b[1;33m-\u001b[0m\u001b[1;36m1\u001b[0m\u001b[1;33m]\u001b[0m\u001b[1;33m)\u001b[0m\u001b[1;33m\u001b[0m\u001b[0m\n\u001b[0;32m      9\u001b[0m     \u001b[0mfinal\u001b[0m\u001b[1;33m.\u001b[0m\u001b[0mappend\u001b[0m\u001b[1;33m(\u001b[0m\u001b[1;33m(\u001b[0m\u001b[0mU\u001b[0m\u001b[1;33m[\u001b[0m\u001b[1;33m-\u001b[0m\u001b[1;36m1\u001b[0m\u001b[1;33m]\u001b[0m\u001b[1;33m*\u001b[0m\u001b[0mpsi_init\u001b[0m\u001b[1;33m)\u001b[0m\u001b[1;33m.\u001b[0m\u001b[0mptrace\u001b[0m\u001b[1;33m(\u001b[0m\u001b[1;36m1\u001b[0m\u001b[1;33m)\u001b[0m\u001b[1;33m[\u001b[0m\u001b[1;36m0\u001b[0m\u001b[1;33m]\u001b[0m\u001b[1;33m[\u001b[0m\u001b[1;36m0\u001b[0m\u001b[1;33m]\u001b[0m\u001b[1;33m[\u001b[0m\u001b[1;36m0\u001b[0m\u001b[1;33m]\u001b[0m\u001b[1;33m)\u001b[0m\u001b[1;33m\u001b[0m\u001b[0m\n",
      "\u001b[1;31mTypeError\u001b[0m: evolution() missing 1 required positional argument: 'ts'"
     ]
    }
   ],
   "source": [
    "drive_freqs = np.linspace(omega_q-200e6*2*np.pi,omega_q+200e6*2*np.pi,100)\n",
    "i=0\n",
    "U_final = []\n",
    "final= []\n",
    "for omega_d in drive_freqs:\n",
    "    H = lambda t: H0 + qubit_control * Drive(t)\n",
    "    U = evolution(H,ts)\n",
    "    U_final.append(U[-1])\n",
    "    final.append((U[-1]*psi_init).ptrace(1)[0][0][0])\n",
    "    print(i)\n",
    "plt.plot(drive_freqs,final)"
   ]
  },
  {
   "cell_type": "code",
   "execution_count": null,
   "metadata": {},
   "outputs": [],
   "source": [
    "drive_freqs = np.linspace(omega_q-200e6*2*np.pi,omega_q+200e6*2*np.pi,100)\n",
    "i=0\n",
    "U_final = []\n",
    "final= []\n",
    "for Drag in np.linspace(0,2,101):\n",
    "    Drive = lambda t: (Q(t) * np.cos(omega_d * t) + Drag * I(t) * np.sin(omega_d * t))\n",
    "    H = lambda t: H0 + qubit_control * Drive(t)\n",
    "    U = evolution(H,ts)\n",
    "    U_final.append(U[-1])\n",
    "    final.append((U[-1]*psi_init).ptrace(1)[1][0][1])\n",
    "    clear_output()\n",
    "    print(i)\n",
    "    i+=1"
   ]
  },
  {
   "cell_type": "code",
   "execution_count": 66,
   "metadata": {},
   "outputs": [
    {
     "name": "stdout",
     "output_type": "stream",
     "text": [
      "4\n",
      "6\n",
      "8\n",
      "10\n",
      "12\n",
      "14\n",
      "16\n",
      "18\n"
     ]
    },
    {
     "data": {
      "text/plain": [
       "[<matplotlib.lines.Line2D at 0x1ee27301630>]"
      ]
     },
     "execution_count": 66,
     "metadata": {},
     "output_type": "execute_result"
    },
    {
     "data": {
      "image/png": "[encoded data removed]",
      "text/plain": [
       "<Figure size 432x288 with 1 Axes>"
      ]
     },
     "metadata": {},
     "output_type": "display_data"
    }
   ],
   "source": [
    "br = SimCMARunner(H0,U0,5)\n",
    "n = [] \n",
    "fidelity = []\n",
    "for i in range(4,20,2):\n",
    "    print(i)\n",
    "    sequence = br.single_length_RB(100,i)\n",
    "    n.append(i)\n",
    "    psi = psi_init\n",
    "    for seq in sequence:\n",
    "        F = []\n",
    "        for clifford in seq:\n",
    "            psi = (U[clifford][-1]*psi)\n",
    "            F.append(tracedist(psi.ptrace(1),psi_init.ptrace(1)))\n",
    "    fidelity.append(np.average(F))\n",
    "plt.plot(n,fidelity)"
   ]
  },
  {
   "cell_type": "code",
   "execution_count": 51,
   "metadata": {},
   "outputs": [
    {
     "data": {
      "text/plain": [
       "0.6989999964535525"
      ]
     },
     "execution_count": 51,
     "metadata": {},
     "output_type": "execute_result"
    }
   ],
   "source": [
    "np.average(fidelity)\n"
   ]
  },
  {
   "cell_type": "code",
   "execution_count": 38,
   "metadata": {},
   "outputs": [],
   "source": [
    "\n",
    "X90p = Qobj(np.sqrt(2)/2 * np.array([ [1,-1j] ,\n",
    "                                 [-1j,1] ], \n",
    "                                 dtype = np.complex128))"
   ]
  },
  {
   "cell_type": "code",
   "execution_count": 46,
   "metadata": {},
   "outputs": [
    {
     "data": {
      "text/plain": [
       "'Y90p'"
      ]
     },
     "execution_count": 46,
     "metadata": {},
     "output_type": "execute_result"
    }
   ],
   "source": [
    "seq\n",
    "\n"
   ]
  },
  {
   "cell_type": "code",
   "execution_count": 40,
   "metadata": {},
   "outputs": [
    {
     "data": {
      "text/latex": [
       "Quantum object: dims = [[2], [2]], shape = (2, 2), type = oper, isherm = False\\begin{equation*}\\left(\\begin{array}{*{11}c}0.0 & -1.0j\\\\-1.0j & 0.0\\\\\\end{array}\\right)\\end{equation*}"
      ],
      "text/plain": [
       "Quantum object: dims = [[2], [2]], shape = (2, 2), type = oper, isherm = False\n",
       "Qobj data =\n",
       "[[0.+0.j 0.-1.j]\n",
       " [0.-1.j 0.+0.j]]"
      ]
     },
     "execution_count": 40,
     "metadata": {},
     "output_type": "execute_result"
    }
   ],
   "source": [
    "X90p*X90p"
   ]
  },
  {
   "cell_type": "code",
   "execution_count": 68,
   "metadata": {},
   "outputs": [
    {
     "data": {
      "text/latex": [
       "Quantum object: dims = [[3, 4], [3, 4]], shape = (12, 12), type = oper, isherm = False\\begin{equation*}\\left(\\begin{array}{*{11}c}(0.643+0.295j) & (-0.633-0.305j) & (0.003+0.045j) & (-4.884\\times10^{-04}-1.910\\times10^{-04}j) & (0.047+0.028j) & \\cdots & (-1.251\\times10^{-05}-9.991\\times10^{-04}j) & (-0.001-4.394\\times10^{-04}j) & (-0.001-5.314\\times10^{-04}j) & (8.294\\times10^{-05}+1.038\\times10^{-04}j) & (-1.729\\times10^{-04}-7.972\\times10^{-05}j)\\\\(-0.516+0.479j) & (-0.526+0.464j) & (0.026-0.040j) & (-0.003+0.004j) & (0.064-0.068j) & \\cdots & (-5.741\\times10^{-04}+8.872\\times10^{-04}j) & (0.002-0.003j) & (0.001-0.002j) & (7.141\\times10^{-04}-0.001j) & (1.152\\times10^{-04}-3.207\\times10^{-04}j)\\\\(0.028-0.030j) & (-0.029-0.039j) & (-0.310-0.931j) & (4.651\\times10^{-04}+5.431\\times10^{-04}j) & (0.039+0.059j) & \\cdots & (-0.015+0.024j) & (-0.009-0.009j) & (-0.002-7.144\\times10^{-04}j) & (0.004-0.002j) & (1.335\\times10^{-04}+9.661\\times10^{-05}j)\\\\(-2.777\\times10^{-04}+2.504\\times10^{-04}j) & (-0.004+0.003j) & (6.946\\times10^{-04}-3.348\\times10^{-04}j) & (0.491-0.840j) & (-0.003-0.004j) & \\cdots & (1.118\\times10^{-04}-3.902\\times10^{-04}j) & (-3.376\\times10^{-04}+0.002j) & (0.022-0.021j) & (1.347\\times10^{-04}-7.551\\times10^{-05}j) & (0.005-0.005j)\\\\(0.029-0.024j) & (0.065-0.068j) & (-0.041+0.058j) & (0.005-3.951\\times10^{-04}j) & (0.440-0.550j) & \\cdots & (7.645\\times10^{-04}-8.937\\times10^{-04}j) & (0.036-0.048j) & (-0.009-0.006j) & (0.011-0.015j) & (-0.001+7.398\\times10^{-05}j)\\\\\\vdots & \\vdots & \\vdots & \\vdots & \\vdots & \\ddots & \\vdots & \\vdots & \\vdots & \\vdots & \\vdots\\\\(-5.889\\times10^{-04}+7.130\\times10^{-04}j) & (6.196\\times10^{-04}+8.530\\times10^{-04}j) & (-0.015+0.024j) & (-3.440\\times10^{-04}-2.707\\times10^{-04}j) & (-7.938\\times10^{-04}-0.001j) & \\cdots & (-0.946+0.139j) & (2.833\\times10^{-04}+4.715\\times10^{-04}j) & (-2.700\\times10^{-04}-2.476\\times10^{-04}j) & (0.272+0.104j) & (1.043\\times10^{-04}+8.551\\times10^{-04}j)\\\\(-0.001-7.867\\times10^{-04}j) & (-0.003-0.004j) & (-0.009-0.009j) & (-0.002+4.028\\times10^{-04}j) & (-0.041-0.054j) & \\cdots & (1.926\\times10^{-04}+5.639\\times10^{-05}j) & (-0.939+0.005j) & (-0.303+0.010j) & (0.004+6.233\\times10^{-04}j) & (0.002-1.356\\times10^{-04}j)\\\\(-6.812\\times10^{-04}+7.993\\times10^{-04}j) & (0.002-0.001j) & (8.840\\times10^{-04}-2.202\\times10^{-04}j) & (0.022-0.021j) & (5.476\\times10^{-04}-0.003j) & \\cdots & (1.177\\times10^{-04}-3.318\\times10^{-04}j) & (-0.102+0.288j) & (0.266-0.883j) & (0.002-0.005j) & (-0.006+0.006j)\\\\(1.537\\times10^{-04}-1.018\\times10^{-04}j) & (-8.419\\times10^{-04}-0.001j) & (0.004-0.002j) & (1.698\\times10^{-04}+1.123\\times10^{-04}j) & (-0.010-0.015j) & \\cdots & (0.272+0.104j) & (0.004+0.003j) & (-0.003-0.003j) & (0.611+0.736j) & (2.063\\times10^{-04}+0.005j)\\\\(-1.376\\times10^{-04}+1.313\\times10^{-04}j) & (2.582\\times10^{-04}-2.629\\times10^{-04}j) & (1.568\\times10^{-04}-1.038\\times10^{-04}j) & (0.005-0.005j) & (8.116\\times10^{-04}+9.507\\times10^{-04}j) & \\cdots & (7.099\\times10^{-04}+3.670\\times10^{-04}j) & (4.229\\times10^{-04}-0.001j) & (-0.006+0.006j) & (0.004+0.001j) & (-0.558-0.829j)\\\\\\end{array}\\right)\\end{equation*}"
      ],
      "text/plain": [
       "Quantum object: dims = [[3, 4], [3, 4]], shape = (12, 12), type = oper, isherm = False\n",
       "Qobj data =\n",
       "[[ 6.43403039e-01+2.94895540e-01j -6.33304185e-01-3.04659143e-01j\n",
       "   3.08520166e-03+4.45998072e-02j -4.88434355e-04-1.90970505e-04j\n",
       "   4.71267871e-02+2.80093152e-02j -3.39512871e-03-6.92703248e-04j\n",
       "   1.13048961e-02+5.35007049e-03j -1.25057094e-05-9.99090320e-04j\n",
       "  -1.35105096e-03-4.39394381e-04j -1.26096373e-03-5.31389843e-04j\n",
       "   8.29424856e-05+1.03787938e-04j -1.72885341e-04-7.97203590e-05j]\n",
       " [-5.16125109e-01+4.78867665e-01j -5.25516651e-01+4.63912319e-01j\n",
       "   2.56075905e-02-4.02335617e-02j -3.35794993e-03+3.56749769e-03j\n",
       "   6.39192078e-02-6.81835748e-02j -2.33302028e-02+3.60481916e-02j\n",
       "  -3.86882302e-03-2.11952607e-03j -5.74121224e-04+8.87198140e-04j\n",
       "   2.36968649e-03-3.01885657e-03j  1.24425310e-03-1.65443383e-03j\n",
       "   7.14064522e-04-1.04788615e-03j  1.15179781e-04-3.20678009e-04j]\n",
       " [ 2.82277072e-02-3.02355684e-02j -2.90350178e-02-3.85912554e-02j\n",
       "  -3.09640027e-01-9.31499616e-01j  4.65114187e-04+5.43093573e-04j\n",
       "   3.91143517e-02+5.94459279e-02j  7.00652899e-02+1.46238783e-01j\n",
       "  -3.82933739e-03-2.12196334e-03j -1.45164947e-02+2.44244347e-02j\n",
       "  -9.43599297e-03-9.48784246e-03j -1.54709638e-03-7.14404643e-04j\n",
       "   4.15163127e-03-1.82962009e-03j  1.33479507e-04+9.66119006e-05j]\n",
       " [-2.77675343e-04+2.50382006e-04j -4.05239473e-03+3.21206464e-03j\n",
       "   6.94572350e-04-3.34750822e-04j  4.90891621e-01-8.39949110e-01j\n",
       "  -3.03237447e-03-3.78519078e-03j -5.25293643e-03+3.89551590e-03j\n",
       "  -1.72279476e-01+1.50906112e-01j  1.11805512e-04-3.90189164e-04j\n",
       "  -3.37551909e-04+1.99138969e-03j  2.17721039e-02-2.09455345e-02j\n",
       "   1.34708774e-04-7.55077185e-05j  4.88372281e-03-4.83872009e-03j]\n",
       " [ 2.88889294e-02-2.42087262e-02j  6.51886781e-02-6.76669458e-02j\n",
       "  -4.10557290e-02+5.81110702e-02j  5.33401211e-03-3.95055133e-04j\n",
       "   4.40482163e-01-5.50375532e-01j -4.01944959e-01+5.66080238e-01j\n",
       "   4.10356405e-02-1.55597342e-03j  7.64540446e-04-8.93739055e-04j\n",
       "   3.58784828e-02-4.77893930e-02j -8.63152927e-03-6.33751754e-03j\n",
       "   1.06422299e-02-1.50662576e-02j -1.34967421e-03+7.39763595e-05j]\n",
       " [-5.84256718e-03+6.58015476e-03j  3.58580152e-02+4.62009663e-02j\n",
       "   7.04043191e-02+1.45235772e-01j -5.44998543e-03-3.51137632e-03j\n",
       "   3.78519671e-01+5.80016233e-01j  4.02065550e-01+5.53440124e-01j\n",
       "  -4.56452766e-02-2.82776290e-02j  6.35308373e-03-5.09970855e-04j\n",
       "  -1.26898134e-01-5.23360521e-02j -2.99976997e-02-6.35331883e-03j\n",
       "   5.40785570e-03+4.76132576e-03j  1.49770299e-03+1.02014811e-03j]\n",
       " [ 9.12328530e-03-8.55438466e-03j -8.31368706e-03-3.91472705e-03j\n",
       "  -4.62571535e-03+3.75852352e-03j -1.72292210e-01+1.50899578e-01j\n",
       "  -2.61350230e-02-2.88181457e-02j -4.14566737e-02+3.19413780e-02j\n",
       "  -8.72790402e-01+3.51571746e-01j  1.29627888e-03-3.30932321e-03j\n",
       "  -9.84861098e-03+3.61528463e-02j  1.59164646e-01-1.71317542e-01j\n",
       "   1.28031729e-03-9.19882691e-04j  1.01190709e-02-3.80197474e-02j]\n",
       " [-5.88890884e-04+7.13038468e-04j  6.19645056e-04+8.53026512e-04j\n",
       "  -1.45348332e-02+2.44515896e-02j -3.44048109e-04-2.70745953e-04j\n",
       "  -7.93780423e-04-1.15587738e-03j  6.17662503e-03-2.33254784e-04j\n",
       "  -2.59257764e-03-2.16223199e-03j -9.46068265e-01+1.38656751e-01j\n",
       "   2.83314987e-04+4.71487104e-04j -2.70021048e-04-2.47556524e-04j\n",
       "   2.71991575e-01+1.04334464e-01j  1.04320091e-04+8.55078976e-04j]\n",
       " [-1.23423657e-03-7.86663526e-04j -3.28295042e-03-3.81508581e-03j\n",
       "  -9.44326715e-03-9.48099865e-03j -1.98571265e-03+4.02771059e-04j\n",
       "  -4.14180009e-02-5.44218692e-02j -1.26911110e-01-5.23994025e-02j\n",
       "  -3.71947213e-02+3.91888739e-03j  1.92601945e-04+5.63912213e-05j\n",
       "  -9.39498876e-01+5.31058023e-03j -3.03414096e-01+9.95031227e-03j\n",
       "   3.60511234e-03+6.23349106e-04j  1.52521877e-03-1.35638111e-04j]\n",
       " [-6.81222805e-04+7.99331316e-04j  1.82873352e-03-1.41725763e-03j\n",
       "   8.84045215e-04-2.20151458e-04j  2.16148170e-02-2.10092342e-02j\n",
       "   5.47594498e-04-2.60350666e-03j  3.74957846e-03+1.20886436e-02j\n",
       "   1.57891280e-01-1.71833616e-01j  1.17683273e-04-3.31822621e-04j\n",
       "  -1.01806671e-01+2.87928228e-01j  2.66256868e-01-8.83291183e-01j\n",
       "   1.74719892e-03-5.19264445e-03j -5.94768076e-03+5.62078620e-03j]\n",
       " [ 1.53706829e-04-1.01828598e-04j -8.41931876e-04-1.17429701e-03j\n",
       "   4.15211846e-03-1.80894464e-03j  1.69751094e-04+1.12341203e-04j\n",
       "  -1.00591911e-02-1.53740980e-02j  5.47953710e-03+4.96108739e-03j\n",
       "   1.16560560e-03+8.17684950e-04j  2.71986781e-01+1.04342387e-01j\n",
       "   4.03219903e-03+3.21335950e-03j -2.77404717e-03-3.16199970e-03j\n",
       "   6.10695788e-01+7.36005708e-01j  2.06321831e-04+4.57141088e-03j]\n",
       " [-1.37588180e-04+1.31303900e-04j  2.58237368e-04-2.62903654e-04j\n",
       "   1.56840166e-04-1.03759091e-04j  4.88375945e-03-4.83885109e-03j\n",
       "   8.11599013e-04+9.50738705e-04j  1.46354247e-03-1.02524534e-03j\n",
       "   1.01144774e-02-3.80244405e-02j  7.09868473e-04+3.67026004e-04j\n",
       "   4.22872337e-04-1.46080368e-03j -6.01636463e-03+5.57124473e-03j\n",
       "   4.33039173e-03+1.45532367e-03j -5.57597377e-01-8.29092105e-01j]]"
      ]
     },
     "execution_count": 68,
     "metadata": {},
     "output_type": "execute_result"
    }
   ],
   "source": [
    "U['X90p'][-1]"
   ]
  },
  {
   "cell_type": "code",
   "execution_count": null,
   "metadata": {},
   "outputs": [],
   "source": []
  }
 ],
 "metadata": {
  "kernelspec": {
   "display_name": "Python 3",
   "language": "python",
   "name": "python3"
  },
  "language_info": {
   "codemirror_mode": {
    "name": "ipython",
    "version": 3
   },
   "file_extension": ".py",
   "mimetype": "text/x-python",
   "name": "python",
   "nbconvert_exporter": "python",
   "pygments_lexer": "ipython3",
   "version": "3.6.5"
  }
 },
 "nbformat": 4,
 "nbformat_minor": 2
}
