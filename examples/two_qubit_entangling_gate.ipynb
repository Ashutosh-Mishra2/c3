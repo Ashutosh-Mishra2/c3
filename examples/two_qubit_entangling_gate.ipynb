{
 "cells": [
  {
   "cell_type": "markdown",
   "metadata": {},
   "source": [
    "### Entangling gate on two coupled qubits"
   ]
  },
  {
   "cell_type": "markdown",
   "metadata": {},
   "source": [
    "#### Imports"
   ]
  },
  {
   "cell_type": "code",
   "execution_count": 1,
   "metadata": {
    "pycharm": {
     "name": "#%%\n"
    }
   },
   "outputs": [],
   "source": [
    "!pip install -q -U pip\n",
    "!pip install -q matplotlib"
   ]
  },
  {
   "cell_type": "code",
   "execution_count": 2,
   "metadata": {
    "ExecuteTime": {
     "end_time": "2020-06-10T13:45:05.684014Z",
     "start_time": "2020-06-10T13:45:04.441825Z"
    }
   },
   "outputs": [
    {
     "name": "stderr",
     "output_type": "stream",
     "text": [
      "2021-12-08 12:26:53.528802: W tensorflow/stream_executor/platform/default/dso_loader.cc:60] Could not load dynamic library 'libcudart.so.11.0'; dlerror: libcudart.so.11.0: cannot open shared object file: No such file or directory\n",
      "2021-12-08 12:26:53.528832: I tensorflow/stream_executor/cuda/cudart_stub.cc:29] Ignore above cudart dlerror if you do not have a GPU set up on your machine.\n"
     ]
    }
   ],
   "source": [
    "# System imports\n",
    "import copy\n",
    "import numpy as np\n",
    "import time\n",
    "import itertools\n",
    "import matplotlib.pyplot as plt\n",
    "import tensorflow as tf\n",
    "import tensorflow_probability as tfp\n",
    "from typing import List\n",
    "\n",
    "# Main C3 objects\n",
    "from c3.c3objs import Quantity as Qty\n",
    "from c3.parametermap import ParameterMap as PMap\n",
    "from c3.experiment import Experiment as Exp\n",
    "from c3.model import Model as Mdl\n",
    "from c3.generator.generator import Generator as Gnr\n",
    "\n",
    "# Building blocks\n",
    "import c3.generator.devices as devices\n",
    "import c3.signal.gates as gates\n",
    "import c3.libraries.chip as chip\n",
    "import c3.signal.pulse as pulse\n",
    "import c3.libraries.tasks as tasks\n",
    "\n",
    "# Libs and helpers\n",
    "import c3.libraries.algorithms as algorithms\n",
    "import c3.libraries.hamiltonians as hamiltonians\n",
    "import c3.libraries.fidelities as fidelities\n",
    "import c3.libraries.envelopes as envelopes\n",
    "import c3.utils.qt_utils as qt_utils\n",
    "import c3.utils.tf_utils as tf_utils"
   ]
  },
  {
   "cell_type": "markdown",
   "metadata": {},
   "source": [
    "#### Model components\n",
    "The model consists of two qubits with 3 levels each and slightly different parameters:"
   ]
  },
  {
   "cell_type": "code",
   "execution_count": 3,
   "metadata": {
    "ExecuteTime": {
     "end_time": "2020-06-10T13:45:05.684014Z",
     "start_time": "2020-06-10T13:45:04.441825Z"
    }
   },
   "outputs": [
    {
     "name": "stderr",
     "output_type": "stream",
     "text": [
      "2021-12-08 12:26:55.601657: I tensorflow/compiler/jit/xla_cpu_device.cc:41] Not creating XLA devices, tf_xla_enable_xla_devices not set\n",
      "2021-12-08 12:26:55.601864: W tensorflow/stream_executor/platform/default/dso_loader.cc:60] Could not load dynamic library 'libcuda.so.1'; dlerror: libcuda.so.1: cannot open shared object file: No such file or directory\n",
      "2021-12-08 12:26:55.601877: W tensorflow/stream_executor/cuda/cuda_driver.cc:326] failed call to cuInit: UNKNOWN ERROR (303)\n",
      "2021-12-08 12:26:55.601899: I tensorflow/stream_executor/cuda/cuda_diagnostics.cc:156] kernel driver does not appear to be running on this host (localhost.localdomain): /proc/driver/nvidia/version does not exist\n",
      "2021-12-08 12:26:55.602374: I tensorflow/compiler/jit/xla_gpu_device.cc:99] Not creating XLA devices, tf_xla_enable_xla_devices not set\n"
     ]
    }
   ],
   "source": [
    "qubit_lvls = 3\n",
    "freq_q1 = 5e9\n",
    "anhar_q1 = -210e6\n",
    "t1_q1 = 27e-6\n",
    "t2star_q1 = 39e-6\n",
    "qubit_temp = 50e-3\n",
    "\n",
    "q1 = chip.Qubit(\n",
    "    name=\"Q1\",\n",
    "    desc=\"Qubit 1\",\n",
    "    freq=Qty(value=freq_q1, min_val=4.995e9, max_val=5.005e9, unit='Hz 2pi'),\n",
    "    anhar=Qty(value=anhar_q1, min_val=-380e6, max_val=-120e6, unit='Hz 2pi'),\n",
    "    hilbert_dim=qubit_lvls,\n",
    "    t1=Qty(value=t1_q1, min_val=1e-6, max_val=90e-6, unit='s'),\n",
    "    t2star=Qty(value=t2star_q1, min_val=10e-6, max_val=90e-3, unit='s'),\n",
    "    temp=Qty(value=qubit_temp, min_val=0.0, max_val=0.12, unit='K')\n",
    ")\n",
    "\n",
    "freq_q2 = 5.6e9\n",
    "anhar_q2 = -240e6\n",
    "t1_q2 = 23e-6\n",
    "t2star_q2 = 31e-6\n",
    "q2 = chip.Qubit(\n",
    "    name=\"Q2\",\n",
    "    desc=\"Qubit 2\",\n",
    "    freq=Qty(value=freq_q2, min_val=5.595e9, max_val=5.605e9, unit='Hz 2pi'),\n",
    "    anhar=Qty(value=anhar_q2, min_val=-380e6, max_val=-120e6, unit='Hz 2pi'),\n",
    "    hilbert_dim=qubit_lvls,\n",
    "    t1=Qty(value=t1_q2, min_val=1e-6, max_val=90e-6,unit='s'),\n",
    "    t2star=Qty(value=t2star_q2, min_val=10e-6, max_val=90e-6, unit='s'),\n",
    "    temp=Qty(value=qubit_temp, min_val=0.0, max_val=0.12, unit='K')\n",
    ")"
   ]
  },
  {
   "cell_type": "markdown",
   "metadata": {},
   "source": [
    "There is a static coupling in x-direction between them: $(b_1+b_1^\\dagger)(b_2+b_2^\\dagger)$"
   ]
  },
  {
   "cell_type": "code",
   "execution_count": 4,
   "metadata": {
    "ExecuteTime": {
     "end_time": "2020-06-10T13:45:05.684014Z",
     "start_time": "2020-06-10T13:45:04.441825Z"
    }
   },
   "outputs": [],
   "source": [
    "coupling_strength = 50e6\n",
    "q1q2 = chip.Coupling(\n",
    "    name=\"Q1-Q2\",\n",
    "    desc=\"coupling\",\n",
    "    comment=\"Coupling qubit 1 to qubit 2\",\n",
    "    connected=[\"Q1\", \"Q2\"],\n",
    "    strength=Qty(\n",
    "        value=coupling_strength,\n",
    "        min_val=-1 * 1e3 ,\n",
    "        max_val=200e6 ,\n",
    "        unit='Hz 2pi'\n",
    "    ),\n",
    "    hamiltonian_func=hamiltonians.int_XX\n",
    ")"
   ]
  },
  {
   "cell_type": "markdown",
   "metadata": {},
   "source": [
    "and each qubit has a drive line"
   ]
  },
  {
   "cell_type": "code",
   "execution_count": 5,
   "metadata": {
    "ExecuteTime": {
     "end_time": "2020-06-10T13:45:05.684014Z",
     "start_time": "2020-06-10T13:45:04.441825Z"
    }
   },
   "outputs": [],
   "source": [
    "drive1 = chip.Drive(\n",
    "    name=\"d1\",\n",
    "    desc=\"Drive 1\",\n",
    "    comment=\"Drive line 1 on qubit 1\",\n",
    "    connected=[\"Q1\"],\n",
    "    hamiltonian_func=hamiltonians.x_drive\n",
    ")\n",
    "drive2 = chip.Drive(\n",
    "    name=\"d2\",\n",
    "    desc=\"Drive 2\",\n",
    "    comment=\"Drive line 2 on qubit 2\",\n",
    "    connected=[\"Q2\"],\n",
    "    hamiltonian_func=hamiltonians.x_drive\n",
    ")"
   ]
  },
  {
   "cell_type": "markdown",
   "metadata": {},
   "source": [
    "All parts are collected in the model. The initial state will be thermal at a non-vanishing temperature."
   ]
  },
  {
   "cell_type": "code",
   "execution_count": 6,
   "metadata": {
    "pycharm": {
     "name": "#%%\n"
    }
   },
   "outputs": [],
   "source": [
    "init_temp = 50e-3\n",
    "init_ground = tasks.InitialiseGround(\n",
    "    init_temp=Qty(value=init_temp, min_val=-0.001, max_val=0.22, unit='K')\n",
    ")\n",
    "\n",
    "model = Mdl(\n",
    "    [q1, q2], # Individual, self-contained components\n",
    "    [drive1, drive2, q1q2],  # Interactions between components\n",
    "    [init_ground] # SPAM processing\n",
    ")\n",
    "model.set_lindbladian(False)\n",
    "model.set_dressed(True)"
   ]
  },
  {
   "cell_type": "markdown",
   "metadata": {},
   "source": [
    "#### Control signals\n",
    "The devices for the control line are set up"
   ]
  },
  {
   "cell_type": "code",
   "execution_count": 7,
   "metadata": {
    "ExecuteTime": {
     "end_time": "2020-06-10T13:45:05.684014Z",
     "start_time": "2020-06-10T13:45:04.441825Z"
    }
   },
   "outputs": [],
   "source": [
    "sim_res = 100e9 # Resolution for numerical simulation\n",
    "awg_res = 2e9 # Realistic, limited resolution of an AWG\n",
    "v2hz = 1e9\n",
    "\n",
    "lo = devices.LO(name='lo', resolution=sim_res)\n",
    "awg = devices.AWG(name='awg', resolution=awg_res)\n",
    "mixer = devices.Mixer(name='mixer')\n",
    "resp = devices.Response(\n",
    "    name='resp',\n",
    "    rise_time=Qty(value=0.3e-9, min_val=0.05e-9, max_val=0.6e-9, unit='s'),\n",
    "    resolution=sim_res\n",
    ")\n",
    "dig_to_an = devices.DigitalToAnalog(name=\"dac\", resolution=sim_res)\n",
    "v_to_hz = devices.VoltsToHertz(\n",
    "    name='v_to_hz',\n",
    "    V_to_Hz=Qty(value=v2hz, min_val=0.9e9, max_val=1.1e9, unit='Hz/V')\n",
    ")"
   ]
  },
  {
   "cell_type": "markdown",
   "metadata": {},
   "source": [
    "The generator combines the parts of the signal generation and assignes a signal chain to each control line."
   ]
  },
  {
   "cell_type": "code",
   "execution_count": 8,
   "metadata": {
    "ExecuteTime": {
     "end_time": "2020-06-10T13:45:05.684014Z",
     "start_time": "2020-06-10T13:45:04.441825Z"
    }
   },
   "outputs": [],
   "source": [
    "generator = Gnr(\n",
    "        devices={\n",
    "            \"LO\": lo,\n",
    "            \"AWG\": awg,\n",
    "            \"DigitalToAnalog\": dig_to_an,\n",
    "            \"Response\": resp,\n",
    "            \"Mixer\": mixer,\n",
    "            \"VoltsToHertz\": v_to_hz\n",
    "        },\n",
    "        chains={\n",
    "            \"d1\": {\n",
    "                \"LO\": [],\n",
    "                \"AWG\": [],\n",
    "                \"DigitalToAnalog\": [\"AWG\"],\n",
    "                \"Response\": [\"DigitalToAnalog\"],\n",
    "                \"Mixer\": [\"LO\", \"Response\"],\n",
    "                \"VoltsToHertz\": [\"Mixer\"],\n",
    "            },\n",
    "            \"d2\": {\n",
    "                \"LO\": [],\n",
    "                \"AWG\": [],\n",
    "                \"DigitalToAnalog\": [\"AWG\"],\n",
    "                \"Response\": [\"DigitalToAnalog\"],\n",
    "                \"Mixer\": [\"LO\", \"Response\"],\n",
    "                \"VoltsToHertz\": [\"Mixer\"],\n",
    "            }\n",
    "        }\n",
    "    )"
   ]
  },
  {
   "cell_type": "markdown",
   "metadata": {},
   "source": [
    "#### Gates-set and Parameter map\n",
    "Following a general cross resonance scheme, both qubits will be resonantly driven at the frequency of qubit 2 with a Gaussian envelope. We drive qubit 1 (the control) at the frequency of qubit 2 (the target) with a higher amplitude to compensate for the reduced Rabi frequency."
   ]
  },
  {
   "cell_type": "code",
   "execution_count": 9,
   "metadata": {
    "ExecuteTime": {
     "end_time": "2020-06-10T13:45:05.684014Z",
     "start_time": "2020-06-10T13:45:04.441825Z"
    }
   },
   "outputs": [],
   "source": [
    "t_final = 45e-9\n",
    "sideband = 50e6\n",
    "gauss_params_single_1 = {\n",
    "    'amp': Qty(value=0.8, min_val=0.2, max_val=3, unit=\"V\"),\n",
    "    't_final': Qty(value=t_final, min_val=0.5 * t_final, max_val=1.5 * t_final, unit=\"s\"),\n",
    "    'sigma': Qty(value=t_final / 4, min_val=t_final / 8, max_val=t_final / 2, unit=\"s\"),\n",
    "    'xy_angle': Qty(value=0.0, min_val=-0.5 * np.pi, max_val=2.5 * np.pi, unit='rad'),\n",
    "    'freq_offset': Qty(value=-sideband - 3e6, min_val=-56 * 1e6, max_val=-52 * 1e6, unit='Hz 2pi'),\n",
    "    'delta': Qty(value=-1, min_val=-5, max_val=3, unit=\"\")\n",
    "}\n",
    "\n",
    "gauss_params_single_2 = {\n",
    "    'amp': Qty(value=0.03, min_val=0.02, max_val=0.6, unit=\"V\"),\n",
    "    't_final': Qty(value=t_final, min_val=0.5 * t_final, max_val=1.5 * t_final, unit=\"s\"),\n",
    "    'sigma': Qty(value=t_final / 4, min_val=t_final / 8, max_val=t_final / 2, unit=\"s\"),\n",
    "    'xy_angle': Qty(value=0.0, min_val=-0.5 * np.pi, max_val=2.5 * np.pi, unit='rad'),\n",
    "    'freq_offset': Qty(value=-sideband - 3e6, min_val=-56 * 1e6, max_val=-52 * 1e6, unit='Hz 2pi'),\n",
    "    'delta': Qty(value=-1, min_val=-5, max_val=3, unit=\"\")\n",
    "}\n",
    "\n",
    "gauss_env_single_1 = pulse.Envelope(\n",
    "    name=\"gauss1\",\n",
    "    desc=\"Gaussian envelope on drive 1\",\n",
    "    params=gauss_params_single_1,\n",
    "    shape=envelopes.gaussian_nonorm\n",
    ")\n",
    "gauss_env_single_2 = pulse.Envelope(\n",
    "    name=\"gauss2\",\n",
    "    desc=\"Gaussian envelope on drive 2\",\n",
    "    params=gauss_params_single_2,\n",
    "    shape=envelopes.gaussian_nonorm\n",
    ")"
   ]
  },
  {
   "cell_type": "markdown",
   "metadata": {},
   "source": [
    "The carrier signal of each drive is set to the resonance frequency\n",
    "of the target qubit."
   ]
  },
  {
   "cell_type": "code",
   "execution_count": 10,
   "metadata": {
    "ExecuteTime": {
     "end_time": "2020-06-10T13:45:05.684014Z",
     "start_time": "2020-06-10T13:45:04.441825Z"
    }
   },
   "outputs": [],
   "source": [
    "lo_freq_q1 = freq_q1 + sideband\n",
    "lo_freq_q2 = freq_q2 + sideband\n",
    "\n",
    "carr_1 = pulse.Carrier(\n",
    "    name=\"carrier\",\n",
    "    desc=\"Carrier on drive 1\",\n",
    "    params={\n",
    "        'freq': Qty(value=lo_freq_q2, min_val=0.9 * lo_freq_q2, max_val=1.1 * lo_freq_q2, unit='Hz 2pi'),\n",
    "        'framechange': Qty(value=0.0, min_val=-np.pi, max_val=3 * np.pi, unit='rad')\n",
    "    }\n",
    ")\n",
    "\n",
    "carr_2 = pulse.Carrier(\n",
    "    name=\"carrier\",\n",
    "    desc=\"Carrier on drive 2\",\n",
    "    params={\n",
    "        'freq': Qty(value=lo_freq_q2, min_val=0.9 * lo_freq_q2, max_val=1.1 * lo_freq_q2, unit='Hz 2pi'),\n",
    "        'framechange': Qty(value=0.0, min_val=-np.pi, max_val=3 * np.pi, unit='rad')\n",
    "    }\n",
    ")"
   ]
  },
  {
   "cell_type": "markdown",
   "metadata": {},
   "source": [
    "#### Instructions\n",
    "The instruction to be optimised is a CNOT gates controlled by qubit 1."
   ]
  },
  {
   "cell_type": "code",
   "execution_count": 11,
   "metadata": {
    "ExecuteTime": {
     "end_time": "2020-06-10T13:45:05.684014Z",
     "start_time": "2020-06-10T13:45:04.441825Z"
    }
   },
   "outputs": [],
   "source": [
    "# CNOT comtrolled by qubit 1\n",
    "cnot12 = gates.Instruction(\n",
    "    name=\"cnot12\", targets=[0, 1], t_start=0.0, t_end=t_final, channels=[\"d1\", \"d2\"],\n",
    "    ideal=np.array([\n",
    "        [1,0,0,0],\n",
    "        [0,1,0,0],\n",
    "        [0,0,0,1],\n",
    "        [0,0,1,0]\n",
    "    ])\n",
    ")\n",
    "cnot12.add_component(gauss_env_single_1, \"d1\")\n",
    "cnot12.add_component(carr_1, \"d1\")\n",
    "cnot12.add_component(gauss_env_single_2, \"d2\")\n",
    "cnot12.add_component(carr_2, \"d2\")\n",
    "cnot12.comps[\"d1\"][\"carrier\"].params[\"framechange\"].set_value(\n",
    "    (-sideband * t_final) * 2 * np.pi % (2 * np.pi)\n",
    ")"
   ]
  },
  {
   "cell_type": "markdown",
   "metadata": {},
   "source": [
    "#### The experiment\n",
    "All components are collected in the parameter map and the experiment is set up."
   ]
  },
  {
   "cell_type": "code",
   "execution_count": 12,
   "metadata": {
    "ExecuteTime": {
     "end_time": "2020-06-10T13:45:05.684014Z",
     "start_time": "2020-06-10T13:45:04.441825Z"
    }
   },
   "outputs": [],
   "source": [
    "parameter_map = PMap(instructions=[cnot12], model=model, generator=generator)\n",
    "exp = Exp(pmap=parameter_map)"
   ]
  },
  {
   "cell_type": "markdown",
   "metadata": {},
   "source": [
    "Calculate and print the propagator before the optimisation."
   ]
  },
  {
   "cell_type": "code",
   "execution_count": 13,
   "metadata": {},
   "outputs": [
    {
     "name": "stderr",
     "output_type": "stream",
     "text": [
      "2021-12-08 12:27:01.534483: I tensorflow/compiler/mlir/mlir_graph_optimization_pass.cc:116] None of the MLIR optimization passes are enabled (registered 2)\n",
      "2021-12-08 12:27:01.551557: I tensorflow/core/platform/profile_utils/cpu_utils.cc:112] CPU Frequency: 2793495000 Hz\n"
     ]
    },
    {
     "name": "stdout",
     "output_type": "stream",
     "text": [
      "tf.Tensor(\n",
      "[[ 5.38699071e-01-7.17750563e-02j -8.34752005e-01+8.73275022e-02j\n",
      "  -6.95346256e-03-2.15875540e-03j -4.35619589e-03+3.35449682e-03j\n",
      "  -1.06942994e-02+4.11831376e-03j -6.46672021e-05-3.73989900e-05j\n",
      "  -1.67838080e-04-2.08026492e-04j -6.43312053e-05-7.70584828e-07j\n",
      "  -3.76227149e-07-6.49845314e-07j]\n",
      " [-8.22954017e-01+1.64865789e-01j -5.35373070e-01+9.17248769e-02j\n",
      "  -7.01716357e-03+7.68563193e-03j -1.04194796e-02+4.75452421e-03j\n",
      "  -1.61239175e-02-5.34774092e-03j -2.42060738e-04-1.19946128e-05j\n",
      "   3.81855912e-05+8.66289943e-06j -1.30621879e-04-2.10380577e-04j\n",
      "  -8.82654253e-07-1.33276919e-06j]\n",
      " [-7.61570279e-03+7.68089055e-04j -4.61417534e-03+9.02462832e-03j\n",
      "   3.59132066e-01-9.32828470e-01j -9.10153028e-05-6.83262609e-05j\n",
      "  -2.24711912e-04+8.79671466e-05j  2.62921224e-02-1.48696337e-03j\n",
      "  -4.75883791e-04-4.20508543e-05j  3.46114778e-05+1.64470496e-04j\n",
      "   2.10121296e-04+1.48066297e-04j]\n",
      " [ 4.65531318e-03-6.63491197e-05j  8.62792565e-03+8.22022317e-03j\n",
      "  -5.58701973e-05+1.08666061e-04j  6.94902895e-02-7.11528641e-01j\n",
      "  -6.81737268e-01-1.53183314e-01j -2.09824678e-03-1.43761730e-03j\n",
      "   1.48197730e-02-1.51149441e-02j -6.85074400e-03+1.43594091e-03j\n",
      "   4.07440635e-05-6.43168354e-05j]\n",
      " [ 9.49155432e-03+6.86731461e-03j  4.92068252e-03+1.60041286e-02j\n",
      "   1.71300460e-04+1.83910737e-04j -6.94165643e-01-7.98008223e-02j\n",
      "   1.68675369e-01-6.94722446e-01j  2.75768137e-03-5.72343874e-03j\n",
      "  -6.67593164e-03+1.87532770e-03j  1.07707017e-02+7.28665794e-03j\n",
      "   1.40030301e-04-6.25646793e-05j]\n",
      " [ 3.43460967e-05+8.01438338e-05j  1.86345824e-04+1.52916372e-04j\n",
      "  -1.74936595e-02-1.96833938e-02j -2.61695107e-03-5.33671505e-04j\n",
      "   1.02116861e-03-6.21800378e-03j -4.07849502e-01+9.12571012e-01j\n",
      "   7.51460471e-05-1.15167196e-04j  2.32056836e-04-2.97650209e-04j\n",
      "   2.03278960e-04+1.15047574e-02j]\n",
      " [ 2.54853797e-04-1.25904275e-04j  6.64845849e-05-1.08876861e-05j\n",
      "   2.38628329e-04-2.95318799e-04j -2.10696691e-02+5.90348860e-05j\n",
      "   4.21445291e-03+6.01993253e-03j -1.32690530e-04-2.44975772e-05j\n",
      "   5.90859776e-01+4.84056180e-01j -6.08336007e-01-2.14442516e-01j\n",
      "   3.13146026e-03+2.83895304e-03j]\n",
      " [ 2.96366741e-05-8.10052801e-05j  2.39607442e-04-8.47647458e-05j\n",
      "  -2.60360838e-04+2.04175607e-04j  4.95127881e-03+5.19423708e-03j\n",
      "  -5.00047077e-03-1.18242204e-02j -3.71631612e-04-5.78977628e-05j\n",
      "  -6.29480118e-01-1.40758384e-01j -7.57820104e-01+9.68476237e-02j\n",
      "   1.32060361e-03+7.25998662e-03j]\n",
      " [ 8.28054635e-07-3.59336781e-07j  1.64602058e-06-1.47364829e-06j\n",
      "  -2.13361477e-04+2.05358711e-04j -5.70978380e-05+4.73283539e-05j\n",
      "  -1.48466829e-04-3.89352221e-06j  1.00811226e-02-5.54615336e-03j\n",
      "   4.21887172e-03+1.38103179e-03j  3.74182763e-03+6.21303072e-03j\n",
      "  -5.89257172e-01+8.07818774e-01j]], shape=(9, 9), dtype=complex128)\n"
     ]
    }
   ],
   "source": [
    "unitaries = exp.compute_propagators()\n",
    "print(unitaries[cnot12.get_key()])"
   ]
  },
  {
   "cell_type": "markdown",
   "metadata": {},
   "source": [
    "#### Dynamics\n",
    "\n",
    "The system is initialised in the state $|0,1\\rangle$ so that a transition to $|1,1\\rangle$ should be visible."
   ]
  },
  {
   "cell_type": "code",
   "execution_count": 14,
   "metadata": {},
   "outputs": [
    {
     "name": "stdout",
     "output_type": "stream",
     "text": [
      "tf.Tensor(\n",
      "[[1.+0.j]\n",
      " [0.+0.j]\n",
      " [0.+0.j]\n",
      " [0.+0.j]\n",
      " [0.+0.j]\n",
      " [0.+0.j]\n",
      " [0.+0.j]\n",
      " [0.+0.j]\n",
      " [0.+0.j]], shape=(9, 1), dtype=complex128)\n"
     ]
    }
   ],
   "source": [
    "psi_init = [[0] * 9]\n",
    "psi_init[0][0] = 1\n",
    "init_state = tf.transpose(tf.constant(psi_init, tf.complex128))\n",
    "print(init_state)"
   ]
  },
  {
   "cell_type": "code",
   "execution_count": 15,
   "metadata": {},
   "outputs": [
    {
     "data": {
      "image/png": "[encoded data removed]",
      "text/plain": [
       "<Figure size 432x288 with 1 Axes>"
      ]
     },
     "metadata": {
      "needs_background": "light"
     },
     "output_type": "display_data"
    },
    {
     "data": {
      "image/png": "[encoded data removed]",
      "text/plain": [
       "<Figure size 432x288 with 2 Axes>"
      ]
     },
     "metadata": {
      "needs_background": "light"
     },
     "output_type": "display_data"
    }
   ],
   "source": [
    "def plot_dynamics(exp, psi_init, seq):\n",
    "        \"\"\"\n",
    "        Plotting code for time-resolved populations.\n",
    "\n",
    "        Parameters\n",
    "        ----------\n",
    "        psi_init: tf.Tensor\n",
    "            Initial state or density matrix.\n",
    "        seq: list\n",
    "            List of operations to apply to the initial state.\n",
    "        \"\"\"\n",
    "        model = exp.pmap.model\n",
    "        dUs = exp.partial_propagators\n",
    "        psi_t = psi_init.numpy()\n",
    "        pop_t = exp.populations(psi_t, model.lindbladian)\n",
    "        for gate in seq:\n",
    "            for du in dUs[gate]:\n",
    "                psi_t = np.matmul(du.numpy(), psi_t)\n",
    "                pops = exp.populations(psi_t, model.lindbladian)\n",
    "                pop_t = np.append(pop_t, pops, axis=1)\n",
    "\n",
    "        fig, axs = plt.subplots(1, 1)\n",
    "        ts = exp.ts\n",
    "        dt = ts[1] - ts[0]\n",
    "        ts = np.linspace(0.0, dt*pop_t.shape[1], pop_t.shape[1])\n",
    "        axs.plot(ts / 1e-9, pop_t.T)\n",
    "        axs.grid(linestyle=\"--\")\n",
    "        axs.tick_params(\n",
    "            direction=\"in\", left=True, right=True, top=True, bottom=True\n",
    "        )\n",
    "        axs.set_xlabel('Time [ns]')\n",
    "        axs.set_ylabel('Population')\n",
    "        plt.legend(model.state_labels)\n",
    "        pass\n",
    "\n",
    "def getQubitsPopulation(population: np.array, dims: List[int]) -> np.array:\n",
    "    \"\"\"\n",
    "    Splits the population of all levels of a system into the populations of levels per subsystem.\n",
    "    Parameters\n",
    "    ----------\n",
    "    population: np.array\n",
    "        The time dependent population of each energy level. First dimension: level index, second dimension: time.\n",
    "    dims: List[int]\n",
    "        The number of levels for each subsystem.\n",
    "    Returns\n",
    "    -------\n",
    "    np.array\n",
    "        The time-dependent population of energy levels for each subsystem. First dimension: subsystem index, second\n",
    "        dimension: level index, third dimension: time.\n",
    "    \"\"\"\n",
    "    numQubits = len(dims)\n",
    "\n",
    "    # create a list of all levels\n",
    "    qubit_levels = []\n",
    "    for dim in dims:\n",
    "        qubit_levels.append(list(range(dim)))\n",
    "    combined_levels = list(itertools.product(*qubit_levels))\n",
    "\n",
    "    # calculate populations\n",
    "    qubitsPopulations = np.zeros((numQubits, dims[0], population.shape[1]))\n",
    "    for idx, levels in enumerate(combined_levels):\n",
    "        for i in range(numQubits):\n",
    "            qubitsPopulations[i, levels[i]] += population[idx]\n",
    "    return qubitsPopulations\n",
    "\n",
    "def plotSplittedPopulation(\n",
    "    exp: Exp,\n",
    "    psi_init: tf.Tensor,\n",
    "    sequence: List[str]\n",
    ") -> None:\n",
    "    \"\"\"\n",
    "    Plots time dependent populations for multiple qubits in separate plots.\n",
    "    Parameters\n",
    "    ----------\n",
    "    exp: Experiment\n",
    "        The experiment containing the model and propagators\n",
    "    psi_init: np.array\n",
    "        Initial state vector\n",
    "    sequence: List[str]\n",
    "        List of gate names that will be applied to the state\n",
    "    -------\n",
    "    \"\"\"\n",
    "    # calculate the time dependent level population\n",
    "    model = exp.pmap.model\n",
    "    dUs = exp.partial_propagators\n",
    "    psi_t = psi_init.numpy()\n",
    "    pop_t = exp.populations(psi_t, model.lindbladian)\n",
    "    for gate in sequence:\n",
    "        for du in dUs[gate]:\n",
    "            psi_t = np.matmul(du, psi_t)\n",
    "            pops = exp.populations(psi_t, model.lindbladian)\n",
    "            pop_t = np.append(pop_t, pops, axis=1)\n",
    "    dims = [s.hilbert_dim for s in model.subsystems.values()]\n",
    "    splitted = getQubitsPopulation(pop_t, dims)\n",
    "\n",
    "    # timestamps\n",
    "    dt = exp.ts[1] - exp.ts[0]\n",
    "    ts = np.linspace(0.0, dt * pop_t.shape[1], pop_t.shape[1])\n",
    "\n",
    "    # create both subplots\n",
    "    titles = list(exp.pmap.model.subsystems.keys())\n",
    "    fig, axs = plt.subplots(1, len(splitted), sharey=\"all\")\n",
    "    for idx, ax in enumerate(axs):\n",
    "        ax.plot(ts / 1e-9, splitted[idx].T)\n",
    "        ax.tick_params(direction=\"in\", left=True, right=True, top=False, bottom=True)\n",
    "        ax.set_xlabel(\"Time [ns]\")\n",
    "        ax.set_ylabel(\"Population\")\n",
    "        ax.set_title(titles[idx])\n",
    "        ax.legend([str(x) for x in np.arange(dims[idx])])\n",
    "        ax.grid()\n",
    "\n",
    "    plt.tight_layout()\n",
    "    plt.show()\n",
    "\n",
    "sequence = [cnot12.get_key()]\n",
    "plot_dynamics(exp, init_state, sequence)\n",
    "plotSplittedPopulation(exp, init_state, sequence)"
   ]
  },
  {
   "cell_type": "markdown",
   "metadata": {},
   "source": [
    "#### Open-loop optimal control\n",
    "\n",
    "Now, open-loop optimisation with DRAG enabled is set up."
   ]
  },
  {
   "cell_type": "code",
   "execution_count": 16,
   "metadata": {},
   "outputs": [
    {
     "name": "stdout",
     "output_type": "stream",
     "text": [
      "cnot12[0, 1]-d1-gauss1-amp            : 800.000 mV \n",
      "cnot12[0, 1]-d1-gauss1-freq_offset    : -53.000 MHz 2pi \n",
      "cnot12[0, 1]-d1-gauss1-xy_angle       : -444.089 arad \n",
      "cnot12[0, 1]-d1-gauss1-delta          : -1.000  \n",
      "cnot12[0, 1]-d1-carrier-framechange   : 4.712 rad \n",
      "cnot12[0, 1]-d2-gauss2-amp            : 30.000 mV \n",
      "cnot12[0, 1]-d2-gauss2-freq_offset    : -53.000 MHz 2pi \n",
      "cnot12[0, 1]-d2-gauss2-xy_angle       : -444.089 arad \n",
      "cnot12[0, 1]-d2-gauss2-delta          : -1.000  \n",
      "cnot12[0, 1]-d2-carrier-framechange   : 0.000 rad \n",
      "\n"
     ]
    }
   ],
   "source": [
    "generator.devices['AWG'].enable_drag_2()\n",
    "\n",
    "opt_gates = [cnot12.get_key()]\n",
    "exp.set_opt_gates(opt_gates)\n",
    "\n",
    "gateset_opt_map=[\n",
    "    [(cnot12.get_key(), \"d1\", \"gauss1\", \"amp\")],\n",
    "    [(cnot12.get_key(), \"d1\", \"gauss1\", \"freq_offset\")],\n",
    "    [(cnot12.get_key(), \"d1\", \"gauss1\", \"xy_angle\")],\n",
    "    [(cnot12.get_key(), \"d1\", \"gauss1\", \"delta\")],\n",
    "    [(cnot12.get_key(), \"d1\", \"carrier\", \"framechange\")],\n",
    "    [(cnot12.get_key(), \"d2\", \"gauss2\", \"amp\")],\n",
    "    [(cnot12.get_key(), \"d2\", \"gauss2\", \"freq_offset\")],\n",
    "    [(cnot12.get_key(), \"d2\", \"gauss2\", \"xy_angle\")],\n",
    "    [(cnot12.get_key(), \"d2\", \"gauss2\", \"delta\")],\n",
    "    [(cnot12.get_key(), \"d2\", \"carrier\", \"framechange\")]\n",
    "]\n",
    "parameter_map.set_opt_map(gateset_opt_map)\n",
    "\n",
    "parameter_map.print_parameters()"
   ]
  },
  {
   "cell_type": "markdown",
   "metadata": {},
   "source": [
    "As a fidelity function we choose unitary fidelity as well as LBFG-S (a wrapper of the scipy implementation) from our library."
   ]
  },
  {
   "cell_type": "code",
   "execution_count": 17,
   "metadata": {},
   "outputs": [],
   "source": [
    "import os\n",
    "import tempfile\n",
    "from c3.optimizers.optimalcontrol import OptimalControl\n",
    "\n",
    "log_dir = os.path.join(tempfile.TemporaryDirectory().name, \"c3logs\")\n",
    "opt = OptimalControl(\n",
    "    dir_path=log_dir,\n",
    "    fid_func=fidelities.unitary_infid_set,\n",
    "    fid_subspace=[\"Q1\", \"Q2\"],\n",
    "    pmap=parameter_map,\n",
    "    algorithm=algorithms.lbfgs,\n",
    "    options={\n",
    "        \"maxfun\": 25\n",
    "    },\n",
    "    run_name=\"cnot12\"\n",
    ")"
   ]
  },
  {
   "cell_type": "markdown",
   "metadata": {},
   "source": [
    "Start the optimisation"
   ]
  },
  {
   "cell_type": "code",
   "execution_count": 18,
   "metadata": {},
   "outputs": [
    {
     "name": "stdout",
     "output_type": "stream",
     "text": [
      "C3:STATUS:Saving as: /tmp/tmpjx66lyg2/c3logs/cnot12/2021_12_08_T_12_27_05/open_loop.log\n",
      "1 0.8790556354859858\n",
      "2 0.9673489008768812\n",
      "3 0.758622722337525\n",
      "4 0.7679637459613755\n",
      "5 0.6962301452070802\n",
      "6 0.541321232138175\n",
      "7 0.5682335581707882\n",
      "8 0.382921410272719\n",
      "9 0.43114251105289114\n",
      "10 0.30099424375388173\n",
      "11 0.32449492775751976\n",
      "12 0.26537726105532744\n",
      "13 0.2653362073570743\n",
      "14 0.25121669688810866\n",
      "15 0.23925168937407626\n",
      "16 0.18551042816386099\n",
      "17 0.1305543307431979\n",
      "18 0.07413739981051659\n",
      "19 0.031551815290153495\n",
      "20 0.017447484467834062\n",
      "21 0.007924221221055072\n",
      "22 0.006483318391815374\n",
      "23 0.005732979353259449\n",
      "24 0.005594385264244273\n",
      "25 0.0055582927728303755\n",
      "26 0.005521343169743842\n"
     ]
    }
   ],
   "source": [
    "exp.set_opt_gates(opt_gates)\n",
    "opt.set_exp(exp)\n",
    "opt.optimize_controls()"
   ]
  },
  {
   "cell_type": "markdown",
   "metadata": {},
   "source": [
    "The final parameters and the fidelity are"
   ]
  },
  {
   "cell_type": "code",
   "execution_count": 19,
   "metadata": {},
   "outputs": [
    {
     "name": "stdout",
     "output_type": "stream",
     "text": [
      "cnot12[0, 1]-d1-gauss1-amp            : 2.359 V \n",
      "cnot12[0, 1]-d1-gauss1-freq_offset    : -53.252 MHz 2pi \n",
      "cnot12[0, 1]-d1-gauss1-xy_angle       : 587.818 mrad \n",
      "cnot12[0, 1]-d1-gauss1-delta          : -743.473 m \n",
      "cnot12[0, 1]-d1-carrier-framechange   : -815.216 mrad \n",
      "cnot12[0, 1]-d2-gauss2-amp            : 56.719 mV \n",
      "cnot12[0, 1]-d2-gauss2-freq_offset    : -53.176 MHz 2pi \n",
      "cnot12[0, 1]-d2-gauss2-xy_angle       : -135.515 mrad \n",
      "cnot12[0, 1]-d2-gauss2-delta          : -519.864 m \n",
      "cnot12[0, 1]-d2-carrier-framechange   : 598.919 mrad \n",
      "\n",
      "0.005521343169743842\n"
     ]
    }
   ],
   "source": [
    "parameter_map.print_parameters()\n",
    "print(opt.current_best_goal)"
   ]
  },
  {
   "cell_type": "markdown",
   "metadata": {},
   "source": [
    "#### Results of the optimisation\n",
    "Plotting the dynamics with the same initial state:"
   ]
  },
  {
   "cell_type": "code",
   "execution_count": 20,
   "metadata": {
    "pycharm": {
     "name": "#%%\n"
    }
   },
   "outputs": [
    {
     "data": {
      "image/png": "[encoded data removed]",
      "text/plain": [
       "<Figure size 432x288 with 1 Axes>"
      ]
     },
     "metadata": {
      "needs_background": "light"
     },
     "output_type": "display_data"
    },
    {
     "data": {
      "image/png": "[encoded data removed]",
      "text/plain": [
       "<Figure size 432x288 with 2 Axes>"
      ]
     },
     "metadata": {
      "needs_background": "light"
     },
     "output_type": "display_data"
    }
   ],
   "source": [
    "plot_dynamics(exp, init_state, sequence)\n",
    "plotSplittedPopulation(exp, init_state, sequence)"
   ]
  },
  {
   "cell_type": "markdown",
   "metadata": {
    "collapsed": false,
    "pycharm": {
     "name": "#%% md\n"
    }
   },
   "source": [
    "Now we plot the dynamics for the control in the excited state."
   ]
  },
  {
   "cell_type": "code",
   "execution_count": 23,
   "metadata": {
    "collapsed": false,
    "pycharm": {
     "name": "#%%\n"
    }
   },
   "outputs": [
    {
     "name": "stdout",
     "output_type": "stream",
     "text": [
      "tf.Tensor(\n",
      "[[0.+0.j]\n",
      " [0.+0.j]\n",
      " [0.+0.j]\n",
      " [0.+0.j]\n",
      " [1.+0.j]\n",
      " [0.+0.j]\n",
      " [0.+0.j]\n",
      " [0.+0.j]\n",
      " [0.+0.j]], shape=(9, 1), dtype=complex128)\n"
     ]
    },
    {
     "data": {
      "image/png": "[encoded data removed]",
      "text/plain": [
       "<Figure size 432x288 with 1 Axes>"
      ]
     },
     "metadata": {
      "needs_background": "light"
     },
     "output_type": "display_data"
    },
    {
     "data": {
      "image/png": "[encoded data removed]",
      "text/plain": [
       "<Figure size 432x288 with 2 Axes>"
      ]
     },
     "metadata": {
      "needs_background": "light"
     },
     "output_type": "display_data"
    }
   ],
   "source": [
    "psi_init = [[0] * 9]\n",
    "psi_init[0][4] = 1\n",
    "init_state = tf.transpose(tf.constant(psi_init, tf.complex128))\n",
    "print(init_state)\n",
    "\n",
    "plot_dynamics(exp, init_state, sequence)\n",
    "plotSplittedPopulation(exp, init_state, sequence)"
   ]
  },
  {
   "cell_type": "markdown",
   "metadata": {
    "collapsed": false,
    "pycharm": {
     "name": "#%% md\n"
    }
   },
   "source": [
    "As intended, the dynamics of the target is dependent on the control qubit performing a flip if the control is excited and an identity otherwise."
   ]
  },
  {
   "cell_type": "code",
   "execution_count": null,
   "metadata": {
    "collapsed": false,
    "pycharm": {
     "name": "#%%\n"
    }
   },
   "outputs": [],
   "source": []
  }
 ],
 "metadata": {
  "interpreter": {
   "hash": "8fc56ae400e717d872a76f4d6b257151d16696a9d0a72e6998d355f9b43887c7"
  },
  "kernelspec": {
   "display_name": "Python 3 (ipykernel)",
   "language": "python",
   "name": "python3"
  },
  "language_info": {
   "codemirror_mode": {
    "name": "ipython",
    "version": 3
   },
   "file_extension": ".py",
   "mimetype": "text/x-python",
   "name": "python",
   "nbconvert_exporter": "python",
   "pygments_lexer": "ipython3",
   "version": "3.8.12"
  }
 },
 "nbformat": 4,
 "nbformat_minor": 4
}
