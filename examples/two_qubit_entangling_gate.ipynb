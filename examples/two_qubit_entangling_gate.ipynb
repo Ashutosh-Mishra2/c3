{
 "cells": [
  {
   "cell_type": "markdown",
   "metadata": {},
   "source": [
    "### Entangling gate on two coupled qubits"
   ]
  },
  {
   "cell_type": "markdown",
   "metadata": {},
   "source": [
    "#### Imports"
   ]
  },
  {
   "cell_type": "code",
   "execution_count": 1,
   "metadata": {
    "pycharm": {
     "name": "#%%\n"
    }
   },
   "outputs": [],
   "source": [
    "!pip install -q -U pip\n",
    "!pip install -q matplotlib"
   ]
  },
  {
   "cell_type": "code",
   "execution_count": 2,
   "metadata": {
    "ExecuteTime": {
     "end_time": "2020-06-10T13:45:05.684014Z",
     "start_time": "2020-06-10T13:45:04.441825Z"
    },
    "tags": []
   },
   "outputs": [
    {
     "name": "stderr",
     "output_type": "stream",
     "text": [
      "2022-03-31 13:54:57.682485: I tensorflow/stream_executor/platform/default/dso_loader.cc:53] Successfully opened dynamic library libcudart.so.11.0\n"
     ]
    }
   ],
   "source": [
    "# System imports\n",
    "import copy\n",
    "import numpy as np\n",
    "import time\n",
    "import itertools\n",
    "import matplotlib.pyplot as plt\n",
    "import tensorflow as tf\n",
    "import tensorflow_probability as tfp\n",
    "from typing import List\n",
    "from pprint import pprint\n",
    "\n",
    "# Main C3 objects\n",
    "from c3.c3objs import Quantity as Qty\n",
    "from c3.parametermap import ParameterMap as PMap\n",
    "from c3.experiment import Experiment as Exp\n",
    "from c3.model import Model as Mdl\n",
    "from c3.generator.generator import Generator as Gnr\n",
    "\n",
    "# Building blocks\n",
    "import c3.generator.devices as devices\n",
    "import c3.signal.gates as gates\n",
    "import c3.libraries.chip as chip\n",
    "import c3.signal.pulse as pulse\n",
    "import c3.libraries.tasks as tasks\n",
    "\n",
    "# Libs and helpers\n",
    "import c3.libraries.algorithms as algorithms\n",
    "import c3.libraries.hamiltonians as hamiltonians\n",
    "import c3.libraries.fidelities as fidelities\n",
    "import c3.libraries.envelopes as envelopes\n",
    "import c3.utils.qt_utils as qt_utils\n",
    "import c3.utils.tf_utils as tf_utils\n",
    "\n",
    "# Qiskit related modules\n",
    "from c3.qiskit import C3Provider\n",
    "from c3.qiskit.c3_gates import RX90pGate\n",
    "from qiskit import QuantumCircuit, Aer, execute\n",
    "from qiskit.tools.visualization import plot_histogram"
   ]
  },
  {
   "cell_type": "markdown",
   "metadata": {},
   "source": [
    "#### Model components\n",
    "The model consists of two qubits with 3 levels each and slightly different parameters:"
   ]
  },
  {
   "cell_type": "code",
   "execution_count": 3,
   "metadata": {
    "ExecuteTime": {
     "end_time": "2020-06-10T13:45:05.684014Z",
     "start_time": "2020-06-10T13:45:04.441825Z"
    }
   },
   "outputs": [
    {
     "name": "stderr",
     "output_type": "stream",
     "text": [
      "2022-03-31 13:55:00.301743: I tensorflow/stream_executor/platform/default/dso_loader.cc:53] Successfully opened dynamic library libcuda.so.1\n",
      "2022-03-31 13:55:00.388479: E tensorflow/stream_executor/cuda/cuda_driver.cc:328] failed call to cuInit: CUDA_ERROR_NO_DEVICE: no CUDA-capable device is detected\n",
      "2022-03-31 13:55:00.388552: I tensorflow/stream_executor/cuda/cuda_diagnostics.cc:156] kernel driver does not appear to be running on this host (pop-os): /proc/driver/nvidia/version does not exist\n",
      "2022-03-31 13:55:00.389478: I tensorflow/core/platform/cpu_feature_guard.cc:142] This TensorFlow binary is optimized with oneAPI Deep Neural Network Library (oneDNN) to use the following CPU instructions in performance-critical operations:  AVX2 FMA\n",
      "To enable them in other operations, rebuild TensorFlow with the appropriate compiler flags.\n"
     ]
    }
   ],
   "source": [
    "qubit_lvls = 3\n",
    "freq_q1 = 5e9\n",
    "anhar_q1 = -210e6\n",
    "t1_q1 = 27e-6\n",
    "t2star_q1 = 39e-6\n",
    "qubit_temp = 50e-3\n",
    "\n",
    "q1 = chip.Qubit(\n",
    "    name=\"Q1\",\n",
    "    desc=\"Qubit 1\",\n",
    "    freq=Qty(value=freq_q1, min_val=4.995e9, max_val=5.005e9, unit='Hz 2pi'),\n",
    "    anhar=Qty(value=anhar_q1, min_val=-380e6, max_val=-120e6, unit='Hz 2pi'),\n",
    "    hilbert_dim=qubit_lvls,\n",
    "    t1=Qty(value=t1_q1, min_val=1e-6, max_val=90e-6, unit='s'),\n",
    "    t2star=Qty(value=t2star_q1, min_val=10e-6, max_val=90e-3, unit='s'),\n",
    "    temp=Qty(value=qubit_temp, min_val=0.0, max_val=0.12, unit='K')\n",
    ")\n",
    "\n",
    "freq_q2 = 5.6e9\n",
    "anhar_q2 = -240e6\n",
    "t1_q2 = 23e-6\n",
    "t2star_q2 = 31e-6\n",
    "q2 = chip.Qubit(\n",
    "    name=\"Q2\",\n",
    "    desc=\"Qubit 2\",\n",
    "    freq=Qty(value=freq_q2, min_val=5.595e9, max_val=5.605e9, unit='Hz 2pi'),\n",
    "    anhar=Qty(value=anhar_q2, min_val=-380e6, max_val=-120e6, unit='Hz 2pi'),\n",
    "    hilbert_dim=qubit_lvls,\n",
    "    t1=Qty(value=t1_q2, min_val=1e-6, max_val=90e-6,unit='s'),\n",
    "    t2star=Qty(value=t2star_q2, min_val=10e-6, max_val=90e-6, unit='s'),\n",
    "    temp=Qty(value=qubit_temp, min_val=0.0, max_val=0.12, unit='K')\n",
    ")"
   ]
  },
  {
   "cell_type": "markdown",
   "metadata": {},
   "source": [
    "There is a static coupling in x-direction between them: $(b_1+b_1^\\dagger)(b_2+b_2^\\dagger)$"
   ]
  },
  {
   "cell_type": "code",
   "execution_count": 4,
   "metadata": {
    "ExecuteTime": {
     "end_time": "2020-06-10T13:45:05.684014Z",
     "start_time": "2020-06-10T13:45:04.441825Z"
    }
   },
   "outputs": [],
   "source": [
    "coupling_strength = 50e6\n",
    "q1q2 = chip.Coupling(\n",
    "    name=\"Q1-Q2\",\n",
    "    desc=\"coupling\",\n",
    "    comment=\"Coupling qubit 1 to qubit 2\",\n",
    "    connected=[\"Q1\", \"Q2\"],\n",
    "    strength=Qty(\n",
    "        value=coupling_strength,\n",
    "        min_val=-1 * 1e3 ,\n",
    "        max_val=200e6 ,\n",
    "        unit='Hz 2pi'\n",
    "    ),\n",
    "    hamiltonian_func=hamiltonians.int_XX\n",
    ")"
   ]
  },
  {
   "cell_type": "markdown",
   "metadata": {},
   "source": [
    "and each qubit has a drive line"
   ]
  },
  {
   "cell_type": "code",
   "execution_count": 5,
   "metadata": {
    "ExecuteTime": {
     "end_time": "2020-06-10T13:45:05.684014Z",
     "start_time": "2020-06-10T13:45:04.441825Z"
    }
   },
   "outputs": [],
   "source": [
    "drive1 = chip.Drive(\n",
    "    name=\"d1\",\n",
    "    desc=\"Drive 1\",\n",
    "    comment=\"Drive line 1 on qubit 1\",\n",
    "    connected=[\"Q1\"],\n",
    "    hamiltonian_func=hamiltonians.x_drive\n",
    ")\n",
    "drive2 = chip.Drive(\n",
    "    name=\"d2\",\n",
    "    desc=\"Drive 2\",\n",
    "    comment=\"Drive line 2 on qubit 2\",\n",
    "    connected=[\"Q2\"],\n",
    "    hamiltonian_func=hamiltonians.x_drive\n",
    ")"
   ]
  },
  {
   "cell_type": "markdown",
   "metadata": {},
   "source": [
    "All parts are collected in the model."
   ]
  },
  {
   "cell_type": "code",
   "execution_count": 6,
   "metadata": {
    "pycharm": {
     "name": "#%%\n"
    }
   },
   "outputs": [],
   "source": [
    "model = Mdl(\n",
    "    [q1, q2], # Individual, self-contained components\n",
    "    [drive1, drive2, q1q2],  # Interactions between components\n",
    ")\n",
    "model.set_lindbladian(False)\n",
    "model.set_dressed(True)"
   ]
  },
  {
   "cell_type": "markdown",
   "metadata": {},
   "source": [
    "#### Control signals\n",
    "The devices for the control line are set up"
   ]
  },
  {
   "cell_type": "code",
   "execution_count": 7,
   "metadata": {
    "ExecuteTime": {
     "end_time": "2020-06-10T13:45:05.684014Z",
     "start_time": "2020-06-10T13:45:04.441825Z"
    }
   },
   "outputs": [],
   "source": [
    "sim_res = 100e9 # Resolution for numerical simulation\n",
    "awg_res = 2e9 # Realistic, limited resolution of an AWG\n",
    "v2hz = 1e9\n",
    "\n",
    "lo = devices.LO(name='lo', resolution=sim_res)\n",
    "awg = devices.AWG(name='awg', resolution=awg_res)\n",
    "mixer = devices.Mixer(name='mixer')\n",
    "dig_to_an = devices.DigitalToAnalog(name=\"dac\", resolution=sim_res)\n",
    "v_to_hz = devices.VoltsToHertz(\n",
    "    name='v_to_hz',\n",
    "    V_to_Hz=Qty(value=v2hz, min_val=0.9e9, max_val=1.1e9, unit='Hz/V')\n",
    ")"
   ]
  },
  {
   "cell_type": "markdown",
   "metadata": {},
   "source": [
    "The generator combines the parts of the signal generation and assignes a signal chain to each control line."
   ]
  },
  {
   "cell_type": "code",
   "execution_count": 8,
   "metadata": {
    "ExecuteTime": {
     "end_time": "2020-06-10T13:45:05.684014Z",
     "start_time": "2020-06-10T13:45:04.441825Z"
    }
   },
   "outputs": [],
   "source": [
    "generator = Gnr(\n",
    "        devices={\n",
    "            \"LO\": lo,\n",
    "            \"AWG\": awg,\n",
    "            \"DigitalToAnalog\": dig_to_an,\n",
    "            \"Mixer\": mixer,\n",
    "            \"VoltsToHertz\": v_to_hz\n",
    "        },\n",
    "        chains={\n",
    "            \"d1\": {\n",
    "                \"LO\": [],\n",
    "                \"AWG\": [],\n",
    "                \"DigitalToAnalog\": [\"AWG\"],\n",
    "                \"Mixer\": [\"LO\", \"DigitalToAnalog\"],\n",
    "                \"VoltsToHertz\": [\"Mixer\"],\n",
    "            },\n",
    "            \"d2\": {\n",
    "                \"LO\": [],\n",
    "                \"AWG\": [],\n",
    "                \"DigitalToAnalog\": [\"AWG\"],\n",
    "                \"Mixer\": [\"LO\", \"DigitalToAnalog\"],\n",
    "                \"VoltsToHertz\": [\"Mixer\"],\n",
    "            }\n",
    "        }\n",
    "    )"
   ]
  },
  {
   "cell_type": "markdown",
   "metadata": {},
   "source": [
    "#### Gates-set and Parameter map\n",
    "Following a general cross resonance scheme, both qubits will be resonantly driven at the frequency of qubit 2 with a Gaussian envelope. We drive qubit 1 (the control) at the frequency of qubit 2 (the target) with a higher amplitude to compensate for the reduced Rabi frequency."
   ]
  },
  {
   "cell_type": "code",
   "execution_count": 9,
   "metadata": {
    "ExecuteTime": {
     "end_time": "2020-06-10T13:45:05.684014Z",
     "start_time": "2020-06-10T13:45:04.441825Z"
    }
   },
   "outputs": [],
   "source": [
    "t_final_2Q = 45e-9\n",
    "sideband = 50e6\n",
    "gauss_params_2Q_1 = {\n",
    "    'amp': Qty(value=0.8, min_val=0.2, max_val=3, unit=\"V\"),\n",
    "    't_final': Qty(value=t_final_2Q, min_val=0.5 * t_final_2Q, max_val=1.5 * t_final_2Q, unit=\"s\"),\n",
    "    'sigma': Qty(value=t_final_2Q / 4, min_val=t_final_2Q / 8, max_val=t_final_2Q / 2, unit=\"s\"),\n",
    "    'xy_angle': Qty(value=0.0, min_val=-0.5 * np.pi, max_val=2.5 * np.pi, unit='rad'),\n",
    "    'freq_offset': Qty(value=-sideband - 3e6, min_val=-56 * 1e6, max_val=-52 * 1e6, unit='Hz 2pi'),\n",
    "    'delta': Qty(value=-1, min_val=-5, max_val=3, unit=\"\")\n",
    "}\n",
    "\n",
    "gauss_params_2Q_2 = {\n",
    "    'amp': Qty(value=0.03, min_val=0.02, max_val=0.6, unit=\"V\"),\n",
    "    't_final': Qty(value=t_final_2Q, min_val=0.5 * t_final_2Q, max_val=1.5 * t_final_2Q, unit=\"s\"),\n",
    "    'sigma': Qty(value=t_final_2Q / 4, min_val=t_final_2Q / 8, max_val=t_final_2Q / 2, unit=\"s\"),\n",
    "    'xy_angle': Qty(value=0.0, min_val=-0.5 * np.pi, max_val=2.5 * np.pi, unit='rad'),\n",
    "    'freq_offset': Qty(value=-sideband - 3e6, min_val=-56 * 1e6, max_val=-52 * 1e6, unit='Hz 2pi'),\n",
    "    'delta': Qty(value=-1, min_val=-5, max_val=3, unit=\"\")\n",
    "}\n",
    "\n",
    "gauss_env_2Q_1 = pulse.Envelope(\n",
    "    name=\"gauss1\",\n",
    "    desc=\"Gaussian envelope on drive 1\",\n",
    "    params=gauss_params_2Q_1,\n",
    "    shape=envelopes.gaussian_nonorm\n",
    ")\n",
    "gauss_env_2Q_2 = pulse.Envelope(\n",
    "    name=\"gauss2\",\n",
    "    desc=\"Gaussian envelope on drive 2\",\n",
    "    params=gauss_params_2Q_2,\n",
    "    shape=envelopes.gaussian_nonorm\n",
    ")"
   ]
  },
  {
   "cell_type": "markdown",
   "metadata": {},
   "source": [
    "We choose a single qubit gate time of 7ns and a gaussian envelope shape with a list of parameters."
   ]
  },
  {
   "cell_type": "code",
   "execution_count": 10,
   "metadata": {},
   "outputs": [],
   "source": [
    "t_final_1Q = 7e-9   # Time for single qubit gates\n",
    "sideband = 50e6 \n",
    "gauss_params_single = {\n",
    "    'amp': Qty(\n",
    "        value=0.5,\n",
    "        min_val=0.2,\n",
    "        max_val=0.6,\n",
    "        unit=\"V\"\n",
    "    ),\n",
    "    't_final': Qty(\n",
    "        value=t_final_1Q,\n",
    "        min_val=0.5 * t_final_1Q,\n",
    "        max_val=1.5 * t_final_1Q,\n",
    "        unit=\"s\"\n",
    "    ),\n",
    "    'sigma': Qty(\n",
    "        value=t_final_1Q / 4,\n",
    "        min_val=t_final_1Q / 8,\n",
    "        max_val=t_final_1Q / 2,\n",
    "        unit=\"s\"\n",
    "    ),\n",
    "    'xy_angle': Qty(\n",
    "        value=0.0,\n",
    "        min_val=-0.5 * np.pi,\n",
    "        max_val=2.5 * np.pi,\n",
    "        unit='rad'\n",
    "    ),\n",
    "    'freq_offset': Qty(\n",
    "        value=-sideband - 3e6 ,\n",
    "        min_val=-56 * 1e6 ,\n",
    "        max_val=-52 * 1e6 ,\n",
    "        unit='Hz 2pi'\n",
    "    ),\n",
    "    'delta': Qty(\n",
    "        value=-1,\n",
    "        min_val=-5,\n",
    "        max_val=3,\n",
    "        unit=\"\"\n",
    "    )\n",
    "}"
   ]
  },
  {
   "cell_type": "code",
   "execution_count": 11,
   "metadata": {},
   "outputs": [],
   "source": [
    "gauss_env_1Q = pulse.Envelope(\n",
    "    name=\"gauss\",\n",
    "    desc=\"Gaussian comp for single-qubit gates\",\n",
    "    params=gauss_params_single,\n",
    "    shape=envelopes.gaussian_nonorm\n",
    ")"
   ]
  },
  {
   "cell_type": "markdown",
   "metadata": {},
   "source": [
    "We also define a gate that represents no driving (used for the single qubit gates)."
   ]
  },
  {
   "cell_type": "code",
   "execution_count": 12,
   "metadata": {},
   "outputs": [],
   "source": [
    "nodrive_env = pulse.Envelope(\n",
    "    name=\"no_drive\",\n",
    "    params={\n",
    "        't_final': Qty(\n",
    "            value=t_final_1Q,\n",
    "            min_val=0.5 * t_final_1Q,\n",
    "            max_val=1.5 * t_final_1Q,\n",
    "            unit=\"s\"\n",
    "        )\n",
    "    },\n",
    "    shape=envelopes.no_drive\n",
    ")"
   ]
  },
  {
   "cell_type": "markdown",
   "metadata": {},
   "source": [
    "The carrier signal of each drive for the 2 Qubit gates is set to the resonance frequency of the target qubit."
   ]
  },
  {
   "cell_type": "code",
   "execution_count": 13,
   "metadata": {
    "ExecuteTime": {
     "end_time": "2020-06-10T13:45:05.684014Z",
     "start_time": "2020-06-10T13:45:04.441825Z"
    }
   },
   "outputs": [],
   "source": [
    "lo_freq_q1 = freq_q1 + sideband\n",
    "lo_freq_q2 = freq_q2 + sideband\n",
    "\n",
    "carr_2Q_1 = pulse.Carrier(\n",
    "    name=\"carrier\",\n",
    "    desc=\"Carrier on drive 1\",\n",
    "    params={\n",
    "        'freq': Qty(value=lo_freq_q2, min_val=0.9 * lo_freq_q2, max_val=1.1 * lo_freq_q2, unit='Hz 2pi'),\n",
    "        'framechange': Qty(value=0.0, min_val=-np.pi, max_val=3 * np.pi, unit='rad')\n",
    "    }\n",
    ")\n",
    "\n",
    "carr_2Q_2 = pulse.Carrier(\n",
    "    name=\"carrier\",\n",
    "    desc=\"Carrier on drive 2\",\n",
    "    params={\n",
    "        'freq': Qty(value=lo_freq_q2, min_val=0.9 * lo_freq_q2, max_val=1.1 * lo_freq_q2, unit='Hz 2pi'),\n",
    "        'framechange': Qty(value=0.0, min_val=-np.pi, max_val=3 * np.pi, unit='rad')\n",
    "    }\n",
    ")"
   ]
  },
  {
   "cell_type": "markdown",
   "metadata": {},
   "source": [
    "We specify the drive tones for the 1Q gates with an offset from the qubit frequencies. As is done in experiment, we will later adjust the resonance by modulating the envelope function."
   ]
  },
  {
   "cell_type": "code",
   "execution_count": 14,
   "metadata": {},
   "outputs": [],
   "source": [
    "carr_1Q_1 = pulse.Carrier(\n",
    "    name=\"carrier\",\n",
    "    desc=\"Frequency of the local oscillator\",\n",
    "    params={\n",
    "    'freq': Qty(\n",
    "        value=lo_freq_q1,\n",
    "        min_val=0.9 * lo_freq_q1 ,\n",
    "        max_val=1.1 * lo_freq_q1 ,\n",
    "        unit='Hz 2pi'\n",
    "    ),\n",
    "    'framechange': Qty(\n",
    "        value=0.0,\n",
    "        min_val= -np.pi,\n",
    "        max_val= 3 * np.pi,\n",
    "        unit='rad'\n",
    "    )\n",
    "}\n",
    ")\n",
    "\n",
    "carr_1Q_2 = pulse.Carrier(\n",
    "    name=\"carrier\",\n",
    "    desc=\"Frequency of the local oscillator\",\n",
    "    params={\n",
    "    'freq': Qty(\n",
    "        value=lo_freq_q2,\n",
    "        min_val=0.9 * lo_freq_q2 ,\n",
    "        max_val=1.1 * lo_freq_q2 ,\n",
    "        unit='Hz 2pi'\n",
    "    ),\n",
    "    'framechange': Qty(\n",
    "        value=0.0,\n",
    "        min_val= -np.pi,\n",
    "        max_val= 3 * np.pi,\n",
    "        unit='rad'\n",
    "    )\n",
    "}\n",
    ")"
   ]
  },
  {
   "cell_type": "markdown",
   "metadata": {},
   "source": [
    "#### Instructions\n",
    "The instruction to be optimised is a CNOT gates controlled by qubit 1."
   ]
  },
  {
   "cell_type": "code",
   "execution_count": 15,
   "metadata": {
    "ExecuteTime": {
     "end_time": "2020-06-10T13:45:05.684014Z",
     "start_time": "2020-06-10T13:45:04.441825Z"
    }
   },
   "outputs": [],
   "source": [
    "# CNOT comtrolled by qubit 1\n",
    "cnot12 = gates.Instruction(\n",
    "    name=\"cx\", targets=[0, 1], t_start=0.0, t_end=t_final_2Q, channels=[\"d1\", \"d2\"],\n",
    "    ideal=np.array([\n",
    "        [1,0,0,0],\n",
    "        [0,1,0,0],\n",
    "        [0,0,0,1],\n",
    "        [0,0,1,0]\n",
    "    ])\n",
    ")\n",
    "cnot12.add_component(gauss_env_2Q_1, \"d1\")\n",
    "cnot12.add_component(carr_2Q_1, \"d1\")\n",
    "cnot12.add_component(gauss_env_2Q_2, \"d2\")\n",
    "cnot12.add_component(carr_2Q_2, \"d2\")\n",
    "cnot12.comps[\"d1\"][\"carrier\"].params[\"framechange\"].set_value(\n",
    "    (-sideband * t_final_2Q) * 2 * np.pi % (2 * np.pi)\n",
    ")"
   ]
  },
  {
   "cell_type": "markdown",
   "metadata": {},
   "source": [
    "We also add some typical single qubit gates to the instruction set."
   ]
  },
  {
   "cell_type": "code",
   "execution_count": 16,
   "metadata": {},
   "outputs": [],
   "source": [
    "rx90p_q1 = gates.Instruction(\n",
    "    name=\"rx90p\", targets=[0], t_start=0.0, t_end=t_final_1Q, channels=[\"d1\", \"d2\"]\n",
    ")\n",
    "rx90p_q2 = gates.Instruction(\n",
    "    name=\"rx90p\", targets=[1], t_start=0.0, t_end=t_final_1Q, channels=[\"d1\", \"d2\"]\n",
    ")\n",
    "\n",
    "rx90p_q1.add_component(gauss_env_1Q, \"d1\")\n",
    "rx90p_q1.add_component(carr_1Q_1, \"d1\")\n",
    "\n",
    "\n",
    "rx90p_q2.add_component(gauss_env_1Q, \"d2\")\n",
    "rx90p_q2.add_component(carr_1Q_2, \"d2\")"
   ]
  },
  {
   "cell_type": "markdown",
   "metadata": {},
   "source": [
    "When later compiling gates into sequences, we have to take care of the relative rotating frames of the qubits and local oscillators. We do this by adding a phase after each gate that realigns the frames."
   ]
  },
  {
   "cell_type": "code",
   "execution_count": 17,
   "metadata": {},
   "outputs": [],
   "source": [
    "rx90p_q1.add_component(nodrive_env, \"d2\")\n",
    "rx90p_q1.add_component(copy.deepcopy(carr_1Q_2), \"d2\")\n",
    "rx90p_q1.comps[\"d2\"][\"carrier\"].params[\"framechange\"].set_value(\n",
    "    (-sideband * t_final_1Q) * 2 * np.pi % (2 * np.pi)\n",
    ")\n",
    "\n",
    "rx90p_q2.add_component(nodrive_env, \"d1\")\n",
    "rx90p_q2.add_component(copy.deepcopy(carr_1Q_1), \"d1\")\n",
    "rx90p_q2.comps[\"d1\"][\"carrier\"].params[\"framechange\"].set_value(\n",
    "    (-sideband * t_final_1Q) * 2 * np.pi % (2 * np.pi)\n",
    ")"
   ]
  },
  {
   "cell_type": "markdown",
   "metadata": {},
   "source": [
    "#### The experiment\n",
    "All components are collected in the parameter map and the experiment is set up."
   ]
  },
  {
   "cell_type": "code",
   "execution_count": 18,
   "metadata": {
    "ExecuteTime": {
     "end_time": "2020-06-10T13:45:05.684014Z",
     "start_time": "2020-06-10T13:45:04.441825Z"
    }
   },
   "outputs": [],
   "source": [
    "parameter_map = PMap(instructions=[cnot12, rx90p_q1, rx90p_q2], model=model, generator=generator)\n",
    "exp = Exp(pmap=parameter_map)"
   ]
  },
  {
   "cell_type": "markdown",
   "metadata": {},
   "source": [
    "#### Dynamics\n",
    "\n",
    "The system is initialised in the state $|0,1\\rangle$ so that a transition to $|1,1\\rangle$ should be visible."
   ]
  },
  {
   "cell_type": "code",
   "execution_count": 19,
   "metadata": {},
   "outputs": [
    {
     "name": "stdout",
     "output_type": "stream",
     "text": [
      "tf.Tensor(\n",
      "[[1.+0.j]\n",
      " [0.+0.j]\n",
      " [0.+0.j]\n",
      " [0.+0.j]\n",
      " [0.+0.j]\n",
      " [0.+0.j]\n",
      " [0.+0.j]\n",
      " [0.+0.j]\n",
      " [0.+0.j]], shape=(9, 1), dtype=complex128)\n"
     ]
    }
   ],
   "source": [
    "psi_init = [[0] * 9]\n",
    "psi_init[0][0] = 1\n",
    "init_state = tf.transpose(tf.constant(psi_init, tf.complex128))\n",
    "print(init_state)"
   ]
  },
  {
   "cell_type": "code",
   "execution_count": 20,
   "metadata": {},
   "outputs": [
    {
     "data": {
      "image/png": "[encoded data removed]",
      "text/plain": [
       "<Figure size 432x288 with 1 Axes>"
      ]
     },
     "metadata": {
      "needs_background": "light"
     },
     "output_type": "display_data"
    },
    {
     "data": {
      "image/png": "[encoded data removed]",
      "text/plain": [
       "<Figure size 432x288 with 2 Axes>"
      ]
     },
     "metadata": {
      "needs_background": "light"
     },
     "output_type": "display_data"
    }
   ],
   "source": [
    "def plot_dynamics(exp, psi_init, seq):\n",
    "        \"\"\"\n",
    "        Plotting code for time-resolved populations.\n",
    "\n",
    "        Parameters\n",
    "        ----------\n",
    "        psi_init: tf.Tensor\n",
    "            Initial state or density matrix.\n",
    "        seq: list\n",
    "            List of operations to apply to the initial state.\n",
    "        \"\"\"\n",
    "        model = exp.pmap.model\n",
    "        exp.compute_propagators()\n",
    "        dUs = exp.partial_propagators\n",
    "        psi_t = psi_init.numpy()\n",
    "        pop_t = exp.populations(psi_t, model.lindbladian)\n",
    "        for gate in seq:\n",
    "            for du in dUs[gate]:\n",
    "                psi_t = np.matmul(du.numpy(), psi_t)\n",
    "                pops = exp.populations(psi_t, model.lindbladian)\n",
    "                pop_t = np.append(pop_t, pops, axis=1)\n",
    "\n",
    "        fig, axs = plt.subplots(1, 1)\n",
    "        ts = exp.ts\n",
    "        dt = ts[1] - ts[0]\n",
    "        ts = np.linspace(0.0, dt*pop_t.shape[1], pop_t.shape[1])\n",
    "        axs.plot(ts / 1e-9, pop_t.T)\n",
    "        axs.grid(linestyle=\"--\")\n",
    "        axs.tick_params(\n",
    "            direction=\"in\", left=True, right=True, top=True, bottom=True\n",
    "        )\n",
    "        axs.set_xlabel('Time [ns]')\n",
    "        axs.set_ylabel('Population')\n",
    "        plt.legend(model.state_labels)\n",
    "        pass\n",
    "\n",
    "def getQubitsPopulation(population: np.array, dims: List[int]) -> np.array:\n",
    "    \"\"\"\n",
    "    Splits the population of all levels of a system into the populations of levels per subsystem.\n",
    "    Parameters\n",
    "    ----------\n",
    "    population: np.array\n",
    "        The time dependent population of each energy level. First dimension: level index, second dimension: time.\n",
    "    dims: List[int]\n",
    "        The number of levels for each subsystem.\n",
    "    Returns\n",
    "    -------\n",
    "    np.array\n",
    "        The time-dependent population of energy levels for each subsystem. First dimension: subsystem index, second\n",
    "        dimension: level index, third dimension: time.\n",
    "    \"\"\"\n",
    "    numQubits = len(dims)\n",
    "\n",
    "    # create a list of all levels\n",
    "    qubit_levels = []\n",
    "    for dim in dims:\n",
    "        qubit_levels.append(list(range(dim)))\n",
    "    combined_levels = list(itertools.product(*qubit_levels))\n",
    "\n",
    "    # calculate populations\n",
    "    qubitsPopulations = np.zeros((numQubits, dims[0], population.shape[1]))\n",
    "    for idx, levels in enumerate(combined_levels):\n",
    "        for i in range(numQubits):\n",
    "            qubitsPopulations[i, levels[i]] += population[idx]\n",
    "    return qubitsPopulations\n",
    "\n",
    "def plotSplittedPopulation(\n",
    "    exp: Exp,\n",
    "    psi_init: tf.Tensor,\n",
    "    sequence: List[str]\n",
    ") -> None:\n",
    "    \"\"\"\n",
    "    Plots time dependent populations for multiple qubits in separate plots.\n",
    "    Parameters\n",
    "    ----------\n",
    "    exp: Experiment\n",
    "        The experiment containing the model and propagators\n",
    "    psi_init: np.array\n",
    "        Initial state vector\n",
    "    sequence: List[str]\n",
    "        List of gate names that will be applied to the state\n",
    "    -------\n",
    "    \"\"\"\n",
    "    # calculate the time dependent level population\n",
    "    model = exp.pmap.model\n",
    "    dUs = exp.partial_propagators\n",
    "    psi_t = psi_init.numpy()\n",
    "    pop_t = exp.populations(psi_t, model.lindbladian)\n",
    "    for gate in sequence:\n",
    "        for du in dUs[gate]:\n",
    "            psi_t = np.matmul(du, psi_t)\n",
    "            pops = exp.populations(psi_t, model.lindbladian)\n",
    "            pop_t = np.append(pop_t, pops, axis=1)\n",
    "    dims = [s.hilbert_dim for s in model.subsystems.values()]\n",
    "    splitted = getQubitsPopulation(pop_t, dims)\n",
    "\n",
    "    # timestamps\n",
    "    dt = exp.ts[1] - exp.ts[0]\n",
    "    ts = np.linspace(0.0, dt * pop_t.shape[1], pop_t.shape[1])\n",
    "\n",
    "    # create both subplots\n",
    "    titles = list(exp.pmap.model.subsystems.keys())\n",
    "    fig, axs = plt.subplots(1, len(splitted), sharey=\"all\")\n",
    "    for idx, ax in enumerate(axs):\n",
    "        ax.plot(ts / 1e-9, splitted[idx].T)\n",
    "        ax.tick_params(direction=\"in\", left=True, right=True, top=False, bottom=True)\n",
    "        ax.set_xlabel(\"Time [ns]\")\n",
    "        ax.set_ylabel(\"Population\")\n",
    "        ax.set_title(titles[idx])\n",
    "        ax.legend([str(x) for x in np.arange(dims[idx])])\n",
    "        ax.grid()\n",
    "\n",
    "    plt.tight_layout()\n",
    "    plt.show()\n",
    "\n",
    "sequence = [cnot12.get_key()]\n",
    "plot_dynamics(exp, init_state, sequence)\n",
    "plotSplittedPopulation(exp, init_state, sequence)"
   ]
  },
  {
   "cell_type": "markdown",
   "metadata": {},
   "source": [
    "#### Visualisation with qiskit circuit"
   ]
  },
  {
   "cell_type": "code",
   "execution_count": 21,
   "metadata": {},
   "outputs": [
    {
     "data": {
      "text/html": [
       "<pre style=\"word-wrap: normal;white-space: pre;background: #fff0;line-height: 1.1;font-family: &quot;Courier New&quot;,Courier,monospace\">     ┌────────────┐     \n",
       "q_0: ┤ Rx90p(π/2) ├──■──\n",
       "     └────────────┘┌─┴─┐\n",
       "q_1: ──────────────┤ X ├\n",
       "                   └───┘</pre>"
      ],
      "text/plain": [
       "     ┌────────────┐     \n",
       "q_0: ┤ Rx90p(π/2) ├──■──\n",
       "     └────────────┘┌─┴─┐\n",
       "q_1: ──────────────┤ X ├\n",
       "                   └───┘"
      ]
     },
     "execution_count": 21,
     "metadata": {},
     "output_type": "execute_result"
    }
   ],
   "source": [
    "qc = QuantumCircuit(2)\n",
    "qc.append(RX90pGate(), [0])\n",
    "qc.cx(0, 1)\n",
    "qc.draw()"
   ]
  },
  {
   "cell_type": "code",
   "execution_count": 22,
   "metadata": {},
   "outputs": [],
   "source": [
    "c3_provider = C3Provider()\n",
    "c3_backend = c3_provider.get_backend(\"c3_qasm_physics_simulator\")\n",
    "c3_backend.set_c3_experiment(exp)"
   ]
  },
  {
   "cell_type": "code",
   "execution_count": 23,
   "metadata": {},
   "outputs": [
    {
     "name": "stderr",
     "output_type": "stream",
     "text": [
      "No classical registers in circuit \"circuit-0\", counts will be empty.\n"
     ]
    },
    {
     "name": "stdout",
     "output_type": "stream",
     "text": [
      "Result from unoptimized gates:\n",
      "{'(0, 0)': 0.08226171680112239,\n",
      " '(0, 1)': 0.1890913397763435,\n",
      " '(0, 2)': 1.424154452538259e-05,\n",
      " '(1, 0)': 0.36099243186572805,\n",
      " '(1, 1)': 0.3555090482677506,\n",
      " '(1, 2)': 4.815852947615158e-06,\n",
      " '(2, 0)': 0.008136069767852147,\n",
      " '(2, 1)': 0.003990097959792763,\n",
      " '(2, 2)': 2.3816370114933619e-07}\n"
     ]
    }
   ],
   "source": [
    "c3_job_unopt = c3_backend.run(qc)\n",
    "result_unopt = c3_job_unopt.result()\n",
    "res_pops_unopt = result_unopt.data()[\"state_pops\"]\n",
    "print(\"Result from unoptimized gates:\")\n",
    "pprint(res_pops_unopt)"
   ]
  },
  {
   "cell_type": "code",
   "execution_count": 24,
   "metadata": {},
   "outputs": [
    {
     "data": {
      "image/png": "[encoded data removed]",
      "text/plain": [
       "<Figure size 504x360 with 1 Axes>"
      ]
     },
     "execution_count": 24,
     "metadata": {},
     "output_type": "execute_result"
    }
   ],
   "source": [
    "plot_histogram(res_pops_unopt, title='Simulation of Qiskit circuit with Unoptimized Gates')"
   ]
  },
  {
   "cell_type": "markdown",
   "metadata": {},
   "source": [
    "#### Open-loop optimal control\n",
    "\n",
    "Now, open-loop optimisation with DRAG enabled is set up."
   ]
  },
  {
   "cell_type": "code",
   "execution_count": 25,
   "metadata": {},
   "outputs": [
    {
     "name": "stdout",
     "output_type": "stream",
     "text": [
      "cx[0, 1]-d1-gauss1-amp                : 800.000 mV \n",
      "cx[0, 1]-d1-gauss1-freq_offset        : -53.000 MHz 2pi \n",
      "cx[0, 1]-d1-gauss1-xy_angle           : -444.089 arad \n",
      "cx[0, 1]-d1-gauss1-delta              : -1.000  \n",
      "cx[0, 1]-d1-carrier-framechange       : 4.712 rad \n",
      "cx[0, 1]-d2-gauss2-amp                : 30.000 mV \n",
      "cx[0, 1]-d2-gauss2-freq_offset        : -53.000 MHz 2pi \n",
      "cx[0, 1]-d2-gauss2-xy_angle           : -444.089 arad \n",
      "cx[0, 1]-d2-gauss2-delta              : -1.000  \n",
      "cx[0, 1]-d2-carrier-framechange       : 0.000 rad \n",
      "\n"
     ]
    }
   ],
   "source": [
    "generator.devices['AWG'].enable_drag_2()\n",
    "\n",
    "opt_gates = [cnot12.get_key()]\n",
    "exp.set_opt_gates(opt_gates)\n",
    "\n",
    "gateset_opt_map=[\n",
    "    [(cnot12.get_key(), \"d1\", \"gauss1\", \"amp\")],\n",
    "    [(cnot12.get_key(), \"d1\", \"gauss1\", \"freq_offset\")],\n",
    "    [(cnot12.get_key(), \"d1\", \"gauss1\", \"xy_angle\")],\n",
    "    [(cnot12.get_key(), \"d1\", \"gauss1\", \"delta\")],\n",
    "    [(cnot12.get_key(), \"d1\", \"carrier\", \"framechange\")],\n",
    "    [(cnot12.get_key(), \"d2\", \"gauss2\", \"amp\")],\n",
    "    [(cnot12.get_key(), \"d2\", \"gauss2\", \"freq_offset\")],\n",
    "    [(cnot12.get_key(), \"d2\", \"gauss2\", \"xy_angle\")],\n",
    "    [(cnot12.get_key(), \"d2\", \"gauss2\", \"delta\")],\n",
    "    [(cnot12.get_key(), \"d2\", \"carrier\", \"framechange\")],\n",
    "]\n",
    "parameter_map.set_opt_map(gateset_opt_map)\n",
    "\n",
    "parameter_map.print_parameters()"
   ]
  },
  {
   "cell_type": "markdown",
   "metadata": {},
   "source": [
    "As a fidelity function we choose unitary fidelity as well as LBFG-S (a wrapper of the scipy implementation) from our library."
   ]
  },
  {
   "cell_type": "code",
   "execution_count": 26,
   "metadata": {},
   "outputs": [],
   "source": [
    "import os\n",
    "import tempfile\n",
    "from c3.optimizers.optimalcontrol import OptimalControl\n",
    "\n",
    "log_dir = os.path.join(tempfile.TemporaryDirectory().name, \"c3logs\")\n",
    "opt = OptimalControl(\n",
    "    dir_path=log_dir,\n",
    "    fid_func=fidelities.unitary_infid_set,\n",
    "    fid_subspace=[\"Q1\", \"Q2\"],\n",
    "    pmap=parameter_map,\n",
    "    algorithm=algorithms.lbfgs,\n",
    "    options={\n",
    "        \"maxfun\": 25\n",
    "    },\n",
    "    run_name=\"cnot12\"\n",
    ")"
   ]
  },
  {
   "cell_type": "markdown",
   "metadata": {},
   "source": [
    "Start the optimisation"
   ]
  },
  {
   "cell_type": "code",
   "execution_count": 27,
   "metadata": {},
   "outputs": [
    {
     "name": "stdout",
     "output_type": "stream",
     "text": [
      "C3:STATUS:Saving as: /tmp/tmpbyj0t9_h/c3logs/cnot12/2022_03_31_T_13_55_06/open_loop.c3log\n"
     ]
    },
    {
     "name": "stderr",
     "output_type": "stream",
     "text": [
      "2022-03-31 13:55:17.891977: I tensorflow/compiler/mlir/mlir_graph_optimization_pass.cc:176] None of the MLIR Optimization Passes are enabled (registered 2)\n",
      "2022-03-31 13:55:18.008600: I tensorflow/core/platform/profile_utils/cpu_utils.cc:114] CPU Frequency: 2199995000 Hz\n"
     ]
    }
   ],
   "source": [
    "exp.set_opt_gates(opt_gates)\n",
    "opt.set_exp(exp)\n",
    "opt.optimize_controls()"
   ]
  },
  {
   "cell_type": "markdown",
   "metadata": {},
   "source": [
    "The final parameters and the fidelity are"
   ]
  },
  {
   "cell_type": "code",
   "execution_count": 28,
   "metadata": {},
   "outputs": [
    {
     "name": "stdout",
     "output_type": "stream",
     "text": [
      "cx[0, 1]-d1-gauss1-amp                : 2.327 V \n",
      "cx[0, 1]-d1-gauss1-freq_offset        : -53.243 MHz 2pi \n",
      "cx[0, 1]-d1-gauss1-xy_angle           : 523.431 mrad \n",
      "cx[0, 1]-d1-gauss1-delta              : -761.526 m \n",
      "cx[0, 1]-d1-carrier-framechange       : -705.444 mrad \n",
      "cx[0, 1]-d2-gauss2-amp                : 52.793 mV \n",
      "cx[0, 1]-d2-gauss2-freq_offset        : -53.163 MHz 2pi \n",
      "cx[0, 1]-d2-gauss2-xy_angle           : 22.085 mrad \n",
      "cx[0, 1]-d2-gauss2-delta              : -546.271 m \n",
      "cx[0, 1]-d2-carrier-framechange       : 586.902 mrad \n",
      "\n",
      "0.0047978066863104685\n"
     ]
    }
   ],
   "source": [
    "parameter_map.print_parameters()\n",
    "print(opt.current_best_goal)"
   ]
  },
  {
   "cell_type": "markdown",
   "metadata": {},
   "source": [
    "#### Results of the optimisation\n",
    "Plotting the dynamics with the same initial state:"
   ]
  },
  {
   "cell_type": "code",
   "execution_count": 29,
   "metadata": {
    "pycharm": {
     "name": "#%%\n"
    }
   },
   "outputs": [
    {
     "data": {
      "image/png": "[encoded data removed]",
      "text/plain": [
       "<Figure size 432x288 with 1 Axes>"
      ]
     },
     "metadata": {
      "needs_background": "light"
     },
     "output_type": "display_data"
    },
    {
     "data": {
      "image/png": "[encoded data removed]",
      "text/plain": [
       "<Figure size 432x288 with 2 Axes>"
      ]
     },
     "metadata": {
      "needs_background": "light"
     },
     "output_type": "display_data"
    }
   ],
   "source": [
    "plot_dynamics(exp, init_state, sequence)\n",
    "plotSplittedPopulation(exp, init_state, sequence)"
   ]
  },
  {
   "cell_type": "markdown",
   "metadata": {
    "pycharm": {
     "name": "#%% md\n"
    }
   },
   "source": [
    "Now we plot the dynamics for the control in the excited state."
   ]
  },
  {
   "cell_type": "code",
   "execution_count": 30,
   "metadata": {
    "jupyter": {
     "outputs_hidden": false
    },
    "pycharm": {
     "name": "#%%\n"
    }
   },
   "outputs": [
    {
     "name": "stdout",
     "output_type": "stream",
     "text": [
      "tf.Tensor(\n",
      "[[0.+0.j]\n",
      " [0.+0.j]\n",
      " [0.+0.j]\n",
      " [0.+0.j]\n",
      " [1.+0.j]\n",
      " [0.+0.j]\n",
      " [0.+0.j]\n",
      " [0.+0.j]\n",
      " [0.+0.j]], shape=(9, 1), dtype=complex128)\n"
     ]
    },
    {
     "data": {
      "image/png": "[encoded data removed]",
      "text/plain": [
       "<Figure size 432x288 with 1 Axes>"
      ]
     },
     "metadata": {
      "needs_background": "light"
     },
     "output_type": "display_data"
    },
    {
     "data": {
      "image/png": "[encoded data removed]",
      "text/plain": [
       "<Figure size 432x288 with 2 Axes>"
      ]
     },
     "metadata": {
      "needs_background": "light"
     },
     "output_type": "display_data"
    }
   ],
   "source": [
    "psi_init = [[0] * 9]\n",
    "psi_init[0][4] = 1\n",
    "init_state = tf.transpose(tf.constant(psi_init, tf.complex128))\n",
    "print(init_state)\n",
    "\n",
    "plot_dynamics(exp, init_state, sequence)\n",
    "plotSplittedPopulation(exp, init_state, sequence)"
   ]
  },
  {
   "cell_type": "markdown",
   "metadata": {
    "pycharm": {
     "name": "#%% md\n"
    }
   },
   "source": [
    "As intended, the dynamics of the target is dependent on the control qubit performing a flip if the control is excited and an identity otherwise."
   ]
  },
  {
   "cell_type": "markdown",
   "metadata": {},
   "source": [
    "#### Optimizing the single qubit gate on Qubit 1"
   ]
  },
  {
   "cell_type": "code",
   "execution_count": 31,
   "metadata": {},
   "outputs": [
    {
     "name": "stdout",
     "output_type": "stream",
     "text": [
      "rx90p[0]-d1-gauss-amp                 : 500.000 mV \n",
      "rx90p[0]-d1-gauss-freq_offset         : -53.000 MHz 2pi \n",
      "rx90p[0]-d1-gauss-xy_angle            : -444.089 arad \n",
      "rx90p[0]-d1-gauss-delta               : -1.000  \n",
      "rx90p[0]-d1-carrier-framechange       : 0.000 rad \n",
      "\n"
     ]
    }
   ],
   "source": [
    "opt_gates = [rx90p_q1.get_key()]\n",
    "gateset_opt_map=[\n",
    "    [\n",
    "      (rx90p_q1.get_key(), \"d1\", \"gauss\", \"amp\"),\n",
    "    ],\n",
    "    [\n",
    "      (rx90p_q1.get_key(), \"d1\", \"gauss\", \"freq_offset\"),\n",
    "    ],\n",
    "    [\n",
    "      (rx90p_q1.get_key(), \"d1\", \"gauss\", \"xy_angle\"),\n",
    "    ],\n",
    "    [\n",
    "      (rx90p_q1.get_key(), \"d1\", \"gauss\", \"delta\"),\n",
    "    ],   \n",
    "    [\n",
    "      (rx90p_q1.get_key(), \"d1\", \"carrier\", \"framechange\"),\n",
    "    ]\n",
    "]\n",
    "parameter_map.set_opt_map(gateset_opt_map)\n",
    "parameter_map.print_parameters()"
   ]
  },
  {
   "cell_type": "code",
   "execution_count": 32,
   "metadata": {},
   "outputs": [],
   "source": [
    "opt_1Q = OptimalControl(\n",
    "    dir_path=log_dir,\n",
    "    fid_func=fidelities.unitary_infid_set,\n",
    "    fid_subspace=[\"Q1\", \"Q2\"],\n",
    "    pmap=parameter_map,\n",
    "    algorithm=algorithms.lbfgs,\n",
    "    options={\n",
    "        \"maxfun\": 25\n",
    "    },\n",
    "    run_name=\"rx90p_q1\"\n",
    ")"
   ]
  },
  {
   "cell_type": "code",
   "execution_count": 33,
   "metadata": {},
   "outputs": [
    {
     "name": "stdout",
     "output_type": "stream",
     "text": [
      "C3:STATUS:Saving as: /tmp/tmpbyj0t9_h/c3logs/rx90p_q1/2022_03_31_T_13_55_40/open_loop.c3log\n"
     ]
    }
   ],
   "source": [
    "exp.set_opt_gates(opt_gates)\n",
    "opt_1Q.set_exp(exp)\n",
    "opt_1Q.optimize_controls()"
   ]
  },
  {
   "cell_type": "code",
   "execution_count": 34,
   "metadata": {},
   "outputs": [
    {
     "name": "stdout",
     "output_type": "stream",
     "text": [
      "rx90p[0]-d1-gauss-amp                 : 386.167 mV \n",
      "rx90p[0]-d1-gauss-freq_offset         : -52.985 MHz 2pi \n",
      "rx90p[0]-d1-gauss-xy_angle            : -148.032 mrad \n",
      "rx90p[0]-d1-gauss-delta               : -960.910 m \n",
      "rx90p[0]-d1-carrier-framechange       : -293.001 mrad \n",
      "\n",
      "0.005569018116779345\n"
     ]
    }
   ],
   "source": [
    "parameter_map.print_parameters()\n",
    "print(opt_1Q.current_best_goal)"
   ]
  },
  {
   "cell_type": "markdown",
   "metadata": {},
   "source": [
    "Before running the qiskit simulation, we must call `set_opt_gates()` to ensure propagators are calculated for all the required gates"
   ]
  },
  {
   "cell_type": "code",
   "execution_count": 35,
   "metadata": {},
   "outputs": [],
   "source": [
    "exp.set_opt_gates([rx90p_q1.get_key(), cnot12.get_key()])"
   ]
  },
  {
   "cell_type": "code",
   "execution_count": 36,
   "metadata": {
    "jupyter": {
     "outputs_hidden": false
    },
    "pycharm": {
     "name": "#%%\n"
    }
   },
   "outputs": [
    {
     "name": "stderr",
     "output_type": "stream",
     "text": [
      "No classical registers in circuit \"circuit-0\", counts will be empty.\n"
     ]
    },
    {
     "name": "stdout",
     "output_type": "stream",
     "text": [
      "Result from gates:\n",
      "{'(0, 0)': 0.5031205851405698,\n",
      " '(0, 1)': 0.0007523237769721514,\n",
      " '(0, 2)': 3.7724719197046883e-07,\n",
      " '(1, 0)': 0.0019480561541019474,\n",
      " '(1, 1)': 0.4910946730272626,\n",
      " '(1, 2)': 3.094004564620503e-05,\n",
      " '(2, 0)': 0.0014615201616086152,\n",
      " '(2, 1)': 0.0015911982277944904,\n",
      " '(2, 2)': 3.262185985404622e-07}\n"
     ]
    }
   ],
   "source": [
    "c3_job_opt = c3_backend.run(qc)\n",
    "result_opt = c3_job_opt.result()\n",
    "res_pops_opt = result_opt.data()[\"state_pops\"]\n",
    "print(\"Result from gates:\") \n",
    "pprint(res_pops_opt)"
   ]
  },
  {
   "cell_type": "code",
   "execution_count": 37,
   "metadata": {},
   "outputs": [
    {
     "data": {
      "image/png": "[encoded data removed]",
      "text/plain": [
       "<Figure size 504x360 with 1 Axes>"
      ]
     },
     "execution_count": 37,
     "metadata": {},
     "output_type": "execute_result"
    }
   ],
   "source": [
    "plot_histogram(res_pops_opt, title='Simulation of Qiskit circuit with Optimized Gates')"
   ]
  }
 ],
 "metadata": {
  "interpreter": {
   "hash": "8fc56ae400e717d872a76f4d6b257151d16696a9d0a72e6998d355f9b43887c7"
  },
  "kernelspec": {
   "display_name": "Python 3",
   "language": "python",
   "name": "python3"
  },
  "language_info": {
   "codemirror_mode": {
    "name": "ipython",
    "version": 3
   },
   "file_extension": ".py",
   "mimetype": "text/x-python",
   "name": "python",
   "nbconvert_exporter": "python",
   "pygments_lexer": "ipython3",
   "version": "3.8.8"
  }
 },
 "nbformat": 4,
 "nbformat_minor": 4
}
