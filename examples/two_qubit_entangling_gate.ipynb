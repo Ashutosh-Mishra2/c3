{
 "cells": [
  {
   "cell_type": "markdown",
   "metadata": {},
   "source": [
    "### Entangling gate on two coupled qubits"
   ]
  },
  {
   "cell_type": "markdown",
   "metadata": {},
   "source": [
    "#### Imports"
   ]
  },
  {
   "cell_type": "code",
   "execution_count": null,
   "outputs": [],
   "source": [
    "# !pip install -q -U pip\n",
    "# !pip install -q matplotlib"
   ],
   "metadata": {
    "collapsed": false,
    "pycharm": {
     "name": "#%%\n"
    }
   }
  },
  {
   "cell_type": "code",
   "execution_count": null,
   "metadata": {
    "ExecuteTime": {
     "end_time": "2020-06-10T13:45:05.684014Z",
     "start_time": "2020-06-10T13:45:04.441825Z"
    }
   },
   "outputs": [],
   "source": [
    "# System imports\n",
    "import copy\n",
    "import numpy as np\n",
    "import time\n",
    "import itertools\n",
    "import matplotlib.pyplot as plt\n",
    "import tensorflow as tf\n",
    "import tensorflow_probability as tfp\n",
    "from typing import List\n",
    "\n",
    "# Main C3 objects\n",
    "from c3.c3objs import Quantity as Qty\n",
    "from c3.parametermap import ParameterMap as PMap\n",
    "from c3.experiment import Experiment as Exp\n",
    "from c3.model import Model as Mdl\n",
    "from c3.generator.generator import Generator as Gnr\n",
    "\n",
    "# Building blocks\n",
    "import c3.generator.devices as devices\n",
    "import c3.signal.gates as gates\n",
    "import c3.libraries.chip as chip\n",
    "import c3.signal.pulse as pulse\n",
    "import c3.libraries.tasks as tasks\n",
    "\n",
    "# Libs and helpers\n",
    "import c3.libraries.algorithms as algorithms\n",
    "import c3.libraries.hamiltonians as hamiltonians\n",
    "import c3.libraries.fidelities as fidelities\n",
    "import c3.libraries.envelopes as envelopes\n",
    "import c3.utils.qt_utils as qt_utils\n",
    "import c3.utils.tf_utils as tf_utils"
   ]
  },
  {
   "cell_type": "markdown",
   "metadata": {},
   "source": [
    "#### Model components\n",
    "The model consists of two qubits with 3 levels each and slightly different parameters:"
   ]
  },
  {
   "cell_type": "code",
   "execution_count": null,
   "metadata": {
    "ExecuteTime": {
     "end_time": "2020-06-10T13:45:05.684014Z",
     "start_time": "2020-06-10T13:45:04.441825Z"
    }
   },
   "outputs": [],
   "source": [
    "qubit_lvls = 3\n",
    "freq_q1 = 5e9\n",
    "anhar_q1 = -210e6\n",
    "t1_q1 = 27e-6\n",
    "t2star_q1 = 39e-6\n",
    "qubit_temp = 50e-3\n",
    "\n",
    "q1 = chip.Qubit(\n",
    "    name=\"Q1\",\n",
    "    desc=\"Qubit 1\",\n",
    "    freq=Qty(value=freq_q1, min_val=4.995e9, max_val=5.005e9, unit='Hz 2pi'),\n",
    "    anhar=Qty(value=anhar_q1, min_val=-380e6, max_val=-120e6, unit='Hz 2pi'),\n",
    "    hilbert_dim=qubit_lvls,\n",
    "    t1=Qty(value=t1_q1, min_val=1e-6, max_val=90e-6, unit='s'),\n",
    "    t2star=Qty(value=t2star_q1, min_val=10e-6, max_val=90e-3, unit='s'),\n",
    "    temp=Qty(value=qubit_temp, min_val=0.0, max_val=0.12, unit='K')\n",
    ")\n",
    "\n",
    "freq_q2 = 5.6e9\n",
    "anhar_q2 = -240e6\n",
    "t1_q2 = 23e-6\n",
    "t2star_q2 = 31e-6\n",
    "q2 = chip.Qubit(\n",
    "    name=\"Q2\",\n",
    "    desc=\"Qubit 2\",\n",
    "    freq=Qty(value=freq_q2, min_val=5.595e9, max_val=5.605e9, unit='Hz 2pi'),\n",
    "    anhar=Qty(value=anhar_q2, min_val=-380e6, max_val=-120e6, unit='Hz 2pi'),\n",
    "    hilbert_dim=qubit_lvls,\n",
    "    t1=Qty(value=t1_q2, min_val=1e-6, max_val=90e-6,unit='s'),\n",
    "    t2star=Qty(value=t2star_q2, min_val=10e-6, max_val=90e-6, unit='s'),\n",
    "    temp=Qty(value=qubit_temp, min_val=0.0, max_val=0.12, unit='K')\n",
    ")"
   ]
  },
  {
   "cell_type": "markdown",
   "metadata": {},
   "source": [
    "There is a static coupling in x-direction between them: $(b_1+b_1^\\dagger)(b_2+b_2^\\dagger)$"
   ]
  },
  {
   "cell_type": "code",
   "execution_count": null,
   "metadata": {
    "ExecuteTime": {
     "end_time": "2020-06-10T13:45:05.684014Z",
     "start_time": "2020-06-10T13:45:04.441825Z"
    }
   },
   "outputs": [],
   "source": [
    "coupling_strength = 50e6\n",
    "q1q2 = chip.Coupling(\n",
    "    name=\"Q1-Q2\",\n",
    "    desc=\"coupling\",\n",
    "    comment=\"Coupling qubit 1 to qubit 2\",\n",
    "    connected=[\"Q1\", \"Q2\"],\n",
    "    strength=Qty(\n",
    "        value=coupling_strength,\n",
    "        min_val=-1 * 1e3 ,\n",
    "        max_val=200e6 ,\n",
    "        unit='Hz 2pi'\n",
    "    ),\n",
    "    hamiltonian_func=hamiltonians.int_XX\n",
    ")"
   ]
  },
  {
   "cell_type": "markdown",
   "metadata": {},
   "source": [
    "and each qubit has a drive line"
   ]
  },
  {
   "cell_type": "code",
   "execution_count": null,
   "metadata": {
    "ExecuteTime": {
     "end_time": "2020-06-10T13:45:05.684014Z",
     "start_time": "2020-06-10T13:45:04.441825Z"
    }
   },
   "outputs": [],
   "source": [
    "drive1 = chip.Drive(\n",
    "    name=\"d1\",\n",
    "    desc=\"Drive 1\",\n",
    "    comment=\"Drive line 1 on qubit 1\",\n",
    "    connected=[\"Q1\"],\n",
    "    hamiltonian_func=hamiltonians.x_drive\n",
    ")\n",
    "drive2 = chip.Drive(\n",
    "    name=\"d2\",\n",
    "    desc=\"Drive 2\",\n",
    "    comment=\"Drive line 2 on qubit 2\",\n",
    "    connected=[\"Q2\"],\n",
    "    hamiltonian_func=hamiltonians.x_drive\n",
    ")"
   ]
  },
  {
   "cell_type": "markdown",
   "metadata": {},
   "source": [
    "All parts are collected in the model. The initial state will be thermal at a non-vanishing temperature."
   ]
  },
  {
   "cell_type": "code",
   "execution_count": null,
   "outputs": [],
   "source": [
    "init_temp = 50e-3\n",
    "init_ground = tasks.InitialiseGround(\n",
    "    init_temp=Qty(value=init_temp, min_val=-0.001, max_val=0.22, unit='K')\n",
    ")\n",
    "\n",
    "model = Mdl(\n",
    "    [q1, q2], # Individual, self-contained components\n",
    "    [drive1, drive2, q1q2],  # Interactions between components\n",
    "    [init_ground] # SPAM processing\n",
    ")\n",
    "model.set_lindbladian(False)\n",
    "model.set_dressed(True)"
   ],
   "metadata": {
    "collapsed": false,
    "pycharm": {
     "name": "#%%\n"
    }
   }
  },
  {
   "cell_type": "markdown",
   "metadata": {},
   "source": [
    "#### Control signals\n",
    "The devices for the control line are set up"
   ]
  },
  {
   "cell_type": "code",
   "execution_count": null,
   "metadata": {
    "ExecuteTime": {
     "end_time": "2020-06-10T13:45:05.684014Z",
     "start_time": "2020-06-10T13:45:04.441825Z"
    }
   },
   "outputs": [],
   "source": [
    "sim_res = 100e9 # Resolution for numerical simulation\n",
    "awg_res = 2e9 # Realistic, limited resolution of an AWG\n",
    "v2hz = 1e9\n",
    "\n",
    "lo = devices.LO(name='lo', resolution=sim_res)\n",
    "awg = devices.AWG(name='awg', resolution=awg_res)\n",
    "mixer = devices.Mixer(name='mixer')\n",
    "resp = devices.Response(\n",
    "    name='resp',\n",
    "    rise_time=Qty(value=0.3e-9, min_val=0.05e-9, max_val=0.6e-9, unit='s'),\n",
    "    resolution=sim_res\n",
    ")\n",
    "dig_to_an = devices.DigitalToAnalog(name=\"dac\", resolution=sim_res)\n",
    "v_to_hz = devices.VoltsToHertz(\n",
    "    name='v_to_hz',\n",
    "    V_to_Hz=Qty(value=v2hz, min_val=0.9e9, max_val=1.1e9, unit='Hz/V')\n",
    ")"
   ]
  },
  {
   "cell_type": "markdown",
   "metadata": {},
   "source": [
    "The generator combines the parts of the signal generation and assignes a signal chain to each control line."
   ]
  },
  {
   "cell_type": "code",
   "execution_count": null,
   "metadata": {
    "ExecuteTime": {
     "end_time": "2020-06-10T13:45:05.684014Z",
     "start_time": "2020-06-10T13:45:04.441825Z"
    }
   },
   "outputs": [],
   "source": [
    "generator = Gnr(\n",
    "        devices={\n",
    "            \"LO\": lo,\n",
    "            \"AWG\": awg,\n",
    "            \"DigitalToAnalog\": dig_to_an,\n",
    "            \"Response\": resp,\n",
    "            \"Mixer\": mixer,\n",
    "            \"VoltsToHertz\": v_to_hz\n",
    "        },\n",
    "        chains={\n",
    "            \"d1\": [\"LO\", \"AWG\", \"DigitalToAnalog\", \"Response\", \"Mixer\", \"VoltsToHertz\"],\n",
    "            \"d2\": [\"LO\", \"AWG\", \"DigitalToAnalog\", \"Response\", \"Mixer\", \"VoltsToHertz\"]\n",
    "        }\n",
    "    )"
   ]
  },
  {
   "cell_type": "markdown",
   "metadata": {},
   "source": [
    "#### Gates-set and Parameter map\n",
    "Both qubits will be resonantly driven with a Gaussian envelope."
   ]
  },
  {
   "cell_type": "code",
   "execution_count": null,
   "metadata": {
    "ExecuteTime": {
     "end_time": "2020-06-10T13:45:05.684014Z",
     "start_time": "2020-06-10T13:45:04.441825Z"
    }
   },
   "outputs": [],
   "source": [
    "t_final = 7e-9\n",
    "sideband = 50e6 \n",
    "gauss_params_single = {\n",
    "    'amp': Qty(value=0.5, min_val=0.2, max_val=0.6, unit=\"V\"),\n",
    "    't_final': Qty(value=t_final, min_val=0.5 * t_final, max_val=1.5 * t_final, unit=\"s\"),\n",
    "    'sigma': Qty(value=t_final / 4, min_val=t_final / 8, max_val=t_final / 2, unit=\"s\"),\n",
    "    'xy_angle': Qty(value=0.0, min_val=-0.5 * np.pi, max_val=2.5 * np.pi, unit='rad'),\n",
    "    'freq_offset': Qty(value=-sideband - 3e6, min_val=-56 * 1e6, max_val=-52 * 1e6, unit='Hz 2pi'),\n",
    "    'delta': Qty(value=-1, min_val=-5, max_val=3, unit=\"\")\n",
    "}\n",
    "\n",
    "gauss_env_single_1 = pulse.Envelope(\n",
    "    name=\"gauss1\",\n",
    "    desc=\"Gaussian envelope on drive 1\",\n",
    "    params=gauss_params_single,\n",
    "    shape=envelopes.gaussian_nonorm\n",
    ")\n",
    "gauss_env_single_2 = pulse.Envelope(\n",
    "    name=\"gauss2\",\n",
    "    desc=\"Gaussian envelope on drive 2\",\n",
    "    params=copy.deepcopy(gauss_params_single),\n",
    "    shape=envelopes.gaussian_nonorm\n",
    ")"
   ]
  },
  {
   "cell_type": "markdown",
   "metadata": {},
   "source": [
    "The carrier signal of each drive is set to the resonance frequency\n",
    "of the corresponding qubit."
   ]
  },
  {
   "cell_type": "code",
   "execution_count": null,
   "metadata": {
    "ExecuteTime": {
     "end_time": "2020-06-10T13:45:05.684014Z",
     "start_time": "2020-06-10T13:45:04.441825Z"
    }
   },
   "outputs": [],
   "source": [
    "lo_freq_q1 = freq_q1 + sideband\n",
    "carr_1 = pulse.Carrier(\n",
    "    name=\"carrier\",\n",
    "    desc=\"Carrier on drive 1\",\n",
    "    params={\n",
    "        'freq': Qty(value=lo_freq_q1, min_val=0.9 * lo_freq_q1, max_val=1.1 * lo_freq_q1, unit='Hz 2pi'),\n",
    "        'framechange': Qty(value=0.0, min_val=-np.pi, max_val=3 * np.pi, unit='rad')\n",
    "    }\n",
    ")\n",
    "\n",
    "lo_freq_q2 = freq_q2 + sideband\n",
    "carr_2 = pulse.Carrier(\n",
    "    name=\"carrier\",\n",
    "    desc=\"Carrier on drive 2\",\n",
    "    params={\n",
    "        'freq': Qty(value=lo_freq_q2, min_val=0.9 * lo_freq_q2, max_val=1.1 * lo_freq_q2, unit='Hz 2pi'),\n",
    "        'framechange': Qty(value=0.0, min_val=-np.pi, max_val=3 * np.pi, unit='rad')\n",
    "    }\n",
    ")"
   ]
  },
  {
   "cell_type": "markdown",
   "metadata": {},
   "source": [
    "#### Instructions\n",
    "The instruction to be optimised is a CNOT gates controlled by qubit 1."
   ]
  },
  {
   "cell_type": "code",
   "execution_count": null,
   "metadata": {
    "ExecuteTime": {
     "end_time": "2020-06-10T13:45:05.684014Z",
     "start_time": "2020-06-10T13:45:04.441825Z"
    }
   },
   "outputs": [],
   "source": [
    "# CNOT comtrolled by qubit 1\n",
    "cnot12 = gates.Instruction(\n",
    "    name=\"cnot12\", targets=[0, 1], t_start=0.0, t_end=t_final, channels=[\"d1\", \"d2\"],\n",
    "    ideal=np.array([\n",
    "        [1,0,0,0],\n",
    "        [0,1,0,0],\n",
    "        [0,0,0,1],\n",
    "        [0,0,1,0]\n",
    "    ])\n",
    ")\n",
    "cnot12.add_component(gauss_env_single_1, \"d1\")\n",
    "cnot12.add_component(carr_1, \"d1\")\n",
    "cnot12.add_component(gauss_env_single_2, \"d2\")\n",
    "cnot12.add_component(carr_2, \"d2\")\n",
    "cnot12.comps[\"d1\"][\"carrier\"].params[\"framechange\"].set_value(\n",
    "    (-sideband * t_final) * 2 * np.pi % (2 * np.pi)\n",
    ")"
   ]
  },
  {
   "cell_type": "markdown",
   "metadata": {},
   "source": [
    "#### The experiment\n",
    "All components are collected in the parameter map and the experiment is set up."
   ]
  },
  {
   "cell_type": "code",
   "execution_count": null,
   "metadata": {
    "ExecuteTime": {
     "end_time": "2020-06-10T13:45:05.684014Z",
     "start_time": "2020-06-10T13:45:04.441825Z"
    }
   },
   "outputs": [],
   "source": [
    "parameter_map = PMap(instructions=[cnot12], model=model, generator=generator)\n",
    "exp = Exp(pmap=parameter_map)"
   ]
  },
  {
   "cell_type": "markdown",
   "metadata": {},
   "source": [
    "Calculate and print the propagator before the optimisation."
   ]
  },
  {
   "cell_type": "code",
   "execution_count": null,
   "metadata": {},
   "outputs": [],
   "source": [
    "unitaries = exp.compute_propagators()\n",
    "print(unitaries[cnot12.get_key()])"
   ]
  },
  {
   "cell_type": "markdown",
   "metadata": {},
   "source": [
    "#### Dynamics\n",
    "\n",
    "The system is initialised in the state $|0,1\\rangle$ so that a transition to $|1,1\\rangle$ should be visible."
   ]
  },
  {
   "cell_type": "code",
   "execution_count": null,
   "metadata": {},
   "outputs": [],
   "source": [
    "psi_init = [[0] * 9]\n",
    "psi_init[0][1] = 1\n",
    "init_state = tf.transpose(tf.constant(psi_init, tf.complex128))\n",
    "print(init_state)"
   ]
  },
  {
   "cell_type": "code",
   "execution_count": null,
   "metadata": {},
   "outputs": [],
   "source": [
    "def plot_dynamics(exp, psi_init, seq, goal=-1):\n",
    "        \"\"\"\n",
    "        Plotting code for time-resolved populations.\n",
    "\n",
    "        Parameters\n",
    "        ----------\n",
    "        psi_init: tf.Tensor\n",
    "            Initial state or density matrix.\n",
    "        seq: list\n",
    "            List of operations to apply to the initial state.\n",
    "        goal: tf.float64\n",
    "            Value of the goal function, if used.\n",
    "        debug: boolean\n",
    "            If true, return a matplotlib figure instead of saving.\n",
    "        \"\"\"\n",
    "        model = exp.pmap.model\n",
    "        dUs = exp.partial_propagators\n",
    "        psi_t = psi_init.numpy()\n",
    "        pop_t = exp.populations(psi_t, model.lindbladian)\n",
    "        for gate in seq:\n",
    "            for du in dUs[gate]:\n",
    "                psi_t = np.matmul(du.numpy(), psi_t)\n",
    "                pops = exp.populations(psi_t, model.lindbladian)\n",
    "                pop_t = np.append(pop_t, pops, axis=1)\n",
    "\n",
    "        fig, axs = plt.subplots(1, 1)\n",
    "        ts = exp.ts\n",
    "        dt = ts[1] - ts[0]\n",
    "        ts = np.linspace(0.0, dt*pop_t.shape[1], pop_t.shape[1])\n",
    "        axs.plot(ts / 1e-9, pop_t.T)\n",
    "        axs.grid(linestyle=\"--\")\n",
    "        axs.tick_params(\n",
    "            direction=\"in\", left=True, right=True, top=True, bottom=True\n",
    "        )\n",
    "        axs.set_xlabel('Time [ns]')\n",
    "        axs.set_ylabel('Population')\n",
    "        plt.legend(model.state_labels)\n",
    "        pass\n",
    "\n",
    "def getQubitsPopulation(population: np.array, dims: List[int]) -> np.array:\n",
    "    \"\"\"\n",
    "    Splits the population of all levels of a system into the populations of levels per subsystem.\n",
    "    Parameters\n",
    "    ----------\n",
    "    population: np.array\n",
    "        The time dependent population of each energy level. First dimension: level index, second dimension: time.\n",
    "    dims: List[int]\n",
    "        The number of levels for each subsystem.\n",
    "    Returns\n",
    "    -------\n",
    "    np.array\n",
    "        The time-dependent population of energy levels for each subsystem. First dimension: subsystem index, second\n",
    "        dimension: level index, third dimension: time.\n",
    "    \"\"\"\n",
    "    numQubits = len(dims)\n",
    "\n",
    "    # create a list of all levels\n",
    "    qubit_levels = []\n",
    "    for dim in dims:\n",
    "        qubit_levels.append(list(range(dim)))\n",
    "    combined_levels = list(itertools.product(*qubit_levels))\n",
    "\n",
    "    # calculate populations\n",
    "    qubitsPopulations = np.zeros((numQubits, dims[0], population.shape[1]))\n",
    "    for idx, levels in enumerate(combined_levels):\n",
    "        for i in range(numQubits):\n",
    "            qubitsPopulations[i, levels[i]] += population[idx]\n",
    "    return qubitsPopulations\n",
    "\n",
    "def plotSplittedPopulation(\n",
    "    exp: Exp,\n",
    "    psi_init: tf.Tensor,\n",
    "    sequence: List[str],\n",
    "    filename: str = None\n",
    ") -> None:\n",
    "    \"\"\"\n",
    "    Plots time dependent populations for multiple qubits in separate plots.\n",
    "    Parameters\n",
    "    ----------\n",
    "    exp: Experiment\n",
    "        The experiment containing the model and propagators\n",
    "    psi_init: np.array\n",
    "        Initial state vector\n",
    "    sequence: List[str]\n",
    "        List of gate names that will be applied to the state\n",
    "    -------\n",
    "    \"\"\"\n",
    "    # calculate the time dependent level population\n",
    "    model = exp.pmap.model\n",
    "    dUs = exp.partial_propagators\n",
    "    psi_t = psi_init.numpy()\n",
    "    pop_t = exp.populations(psi_t, model.lindbladian)\n",
    "    for gate in sequence:\n",
    "        for du in dUs[gate]:\n",
    "            psi_t = np.matmul(du, psi_t)\n",
    "            pops = exp.populations(psi_t, model.lindbladian)\n",
    "            pop_t = np.append(pop_t, pops, axis=1)\n",
    "    dims = [s.hilbert_dim for s in model.subsystems.values()]\n",
    "    splitted = getQubitsPopulation(pop_t, dims)\n",
    "\n",
    "    # timestamps\n",
    "    dt = exp.ts[1] - exp.ts[0]\n",
    "    ts = np.linspace(0.0, dt * pop_t.shape[1], pop_t.shape[1])\n",
    "\n",
    "    # create both subplots\n",
    "    fig, axs = plt.subplots(1, len(splitted), sharey=\"all\")\n",
    "    for idx, ax in enumerate(axs):\n",
    "        ax.plot(ts / 1e-9, splitted[idx].T)\n",
    "        ax.tick_params(direction=\"in\", left=True, right=True, top=False, bottom=True)\n",
    "        ax.set_xlabel(\"Time [ns]\")\n",
    "        ax.set_ylabel(\"Population\")\n",
    "        ax.legend([str(x) for x in np.arange(dims[idx])])\n",
    "        ax.grid()\n",
    "\n",
    "    plt.tight_layout()\n",
    "    if filename:\n",
    "        plt.savefig(filename)\n",
    "    plt.show()\n",
    "\n",
    "sequence = [cnot12.get_key()]\n",
    "plot_dynamics(exp, init_state, sequence)\n",
    "#plot_dynamics(exp, init_state, sequence * 10)\n",
    "plotSplittedPopulation(exp, init_state, sequence, filename=\"dynamics_before.png\")"
   ]
  },
  {
   "cell_type": "markdown",
   "metadata": {},
   "source": [
    "#### Open-loop optimal control\n",
    "\n",
    "Now, open-loop optimisation with DRAG enabled is set up."
   ]
  },
  {
   "cell_type": "code",
   "execution_count": null,
   "metadata": {},
   "outputs": [],
   "source": [
    "generator.devices['AWG'].enable_drag_2()\n",
    "\n",
    "opt_gates = [cnot12.get_key()]\n",
    "exp.set_opt_gates(opt_gates)\n",
    "\n",
    "gateset_opt_map=[\n",
    "    [(cnot12.get_key(), \"d1\", \"gauss1\", \"amp\")],\n",
    "    [(cnot12.get_key(), \"d1\", \"gauss1\", \"freq_offset\")],\n",
    "    [(cnot12.get_key(), \"d1\", \"gauss1\", \"xy_angle\")],\n",
    "    [(cnot12.get_key(), \"d1\", \"gauss1\", \"delta\")],\n",
    "    [(cnot12.get_key(), \"d1\", \"carrier\", \"framechange\")],\n",
    "    [(cnot12.get_key(), \"d2\", \"gauss2\", \"amp\")],\n",
    "    [(cnot12.get_key(), \"d2\", \"gauss2\", \"freq_offset\")],\n",
    "    [(cnot12.get_key(), \"d2\", \"gauss2\", \"xy_angle\")],\n",
    "    [(cnot12.get_key(), \"d2\", \"gauss2\", \"delta\")],\n",
    "    [(cnot12.get_key(), \"d2\", \"carrier\", \"framechange\")]\n",
    "]\n",
    "parameter_map.set_opt_map(gateset_opt_map)\n",
    "\n",
    "parameter_map.print_parameters()"
   ]
  },
  {
   "cell_type": "markdown",
   "metadata": {},
   "source": [
    "As a fidelity function we choose average fidelity as well as LBFG-S (a wrapper of the scipy implementation) from our library."
   ]
  },
  {
   "cell_type": "code",
   "execution_count": null,
   "metadata": {},
   "outputs": [],
   "source": [
    "import os\n",
    "import tempfile\n",
    "from c3.optimizers.optimalcontrol import OptimalControl\n",
    "\n",
    "log_dir = os.path.join(tempfile.TemporaryDirectory().name, \"c3logs\")\n",
    "opt = OptimalControl(\n",
    "    dir_path=log_dir,\n",
    "    fid_func=fidelities.average_infid_set,\n",
    "    fid_subspace=[\"Q1\", \"Q2\"],\n",
    "    pmap=parameter_map,\n",
    "    algorithm=algorithms.cmaes,\n",
    "    options={\n",
    "        \"popsize\": 15,\n",
    "        \"maxfevals\": 1000\n",
    "    },\n",
    "    run_name=\"cnot12\"\n",
    ")"
   ]
  },
  {
   "cell_type": "markdown",
   "metadata": {},
   "source": [
    "Start the optimisation"
   ]
  },
  {
   "cell_type": "code",
   "execution_count": null,
   "metadata": {},
   "outputs": [],
   "source": [
    "exp.set_opt_gates(opt_gates)\n",
    "opt.set_exp(exp)\n",
    "opt.optimize_controls()"
   ]
  },
  {
   "cell_type": "markdown",
   "metadata": {},
   "source": [
    "The final parameters and the fidelity are"
   ]
  },
  {
   "cell_type": "code",
   "execution_count": null,
   "metadata": {},
   "outputs": [],
   "source": [
    "parameter_map.print_parameters()\n",
    "print(opt.current_best_goal)"
   ]
  },
  {
   "cell_type": "markdown",
   "metadata": {},
   "source": [
    "#### Results of the optimisation\n",
    "Plotting the dynamics with the same initial state:"
   ]
  },
  {
   "cell_type": "code",
   "execution_count": null,
   "metadata": {
    "pycharm": {
     "name": "#%%\n"
    }
   },
   "outputs": [],
   "source": [
    "plot_dynamics(exp, init_state, sequence)\n",
    "plotSplittedPopulation(exp, init_state, sequence, filename=\"dynamics_after.png\")"
   ]
  },
  {
   "cell_type": "code",
   "execution_count": null,
   "outputs": [],
   "source": [],
   "metadata": {
    "collapsed": false,
    "pycharm": {
     "name": "#%%\n"
    }
   }
  }
 ],
 "metadata": {
  "interpreter": {
   "hash": "8fc56ae400e717d872a76f4d6b257151d16696a9d0a72e6998d355f9b43887c7"
  },
  "kernelspec": {
   "display_name": "Python 3.8.8 64-bit ('venv': conda)",
   "name": "python3"
  },
  "language_info": {
   "name": "python",
   "version": ""
  }
 },
 "nbformat": 4,
 "nbformat_minor": 4
}