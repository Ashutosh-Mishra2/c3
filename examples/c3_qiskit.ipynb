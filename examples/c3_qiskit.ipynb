{
 "cells": [
  {
   "cell_type": "markdown",
   "metadata": {},
   "source": [
    "# C3 Simulator as a backend for Qiskit Experiments"
   ]
  },
  {
   "cell_type": "markdown",
   "metadata": {},
   "source": [
    "This notebook demonstrates the use of the C3 Simulator with a high-level quantum programming framework [Qiskit](https://www.qiskit.org). You must additionally install qiskit and matplotlib to run this example."
   ]
  },
  {
   "cell_type": "code",
   "execution_count": 1,
   "metadata": {
    "execution": {
     "iopub.execute_input": "2021-01-27T04:59:40.720341Z",
     "iopub.status.busy": "2021-01-27T04:59:40.719475Z",
     "iopub.status.idle": "2021-01-27T04:59:40.723350Z",
     "shell.execute_reply": "2021-01-27T04:59:40.724064Z"
    }
   },
   "outputs": [],
   "source": [
    "!pip install -q qiskit==0.25.0 matplotlib==3.3.4"
   ]
  },
  {
   "cell_type": "code",
   "execution_count": 2,
   "metadata": {
    "execution": {
     "iopub.execute_input": "2021-01-27T04:59:40.728399Z",
     "iopub.status.busy": "2021-01-27T04:59:40.727650Z",
     "iopub.status.idle": "2021-01-27T04:59:44.773825Z",
     "shell.execute_reply": "2021-01-27T04:59:44.773094Z"
    }
   },
   "outputs": [],
   "source": [
    "from pprint import pprint\n",
    "import numpy as np\n",
    "from c3.qiskit import C3Provider\n",
    "from qiskit import transpile, execute, QuantumCircuit, Aer\n",
    "from qiskit.tools.visualization import plot_histogram"
   ]
  },
  {
   "cell_type": "markdown",
   "metadata": {},
   "source": [
    "## Define a basic Quantum circuit"
   ]
  },
  {
   "cell_type": "code",
   "execution_count": 3,
   "metadata": {
    "execution": {
     "iopub.execute_input": "2021-01-27T04:59:44.781565Z",
     "iopub.status.busy": "2021-01-27T04:59:44.781042Z",
     "iopub.status.idle": "2021-01-27T04:59:44.786384Z",
     "shell.execute_reply": "2021-01-27T04:59:44.786926Z"
    }
   },
   "outputs": [
    {
     "data": {
      "text/plain": [
       "<qiskit.circuit.instructionset.InstructionSet at 0x28d550ac0>"
      ]
     },
     "execution_count": 3,
     "metadata": {},
     "output_type": "execute_result"
    }
   ],
   "source": [
    "qc = QuantumCircuit(3, 3)\n",
    "qc.x(0)\n",
    "qc.cx(0, 1)"
   ]
  },
  {
   "cell_type": "code",
   "execution_count": 4,
   "metadata": {
    "execution": {
     "iopub.execute_input": "2021-01-27T04:59:44.794845Z",
     "iopub.status.busy": "2021-01-27T04:59:44.794159Z",
     "iopub.status.idle": "2021-01-27T04:59:44.797431Z",
     "shell.execute_reply": "2021-01-27T04:59:44.798024Z"
    }
   },
   "outputs": [
    {
     "data": {
      "text/html": [
       "<pre style=\"word-wrap: normal;white-space: pre;background: #fff0;line-height: 1.1;font-family: &quot;Courier New&quot;,Courier,monospace\">     ┌───┐     \n",
       "q_0: ┤ X ├──■──\n",
       "     └───┘┌─┴─┐\n",
       "q_1: ─────┤ X ├\n",
       "          └───┘\n",
       "q_2: ──────────\n",
       "               \n",
       "c: 3/══════════\n",
       "               </pre>"
      ],
      "text/plain": [
       "     ┌───┐     \n",
       "q_0: ┤ X ├──■──\n",
       "     └───┘┌─┴─┐\n",
       "q_1: ─────┤ X ├\n",
       "          └───┘\n",
       "q_2: ──────────\n",
       "               \n",
       "c: 3/══════════\n",
       "               "
      ]
     },
     "execution_count": 4,
     "metadata": {},
     "output_type": "execute_result"
    }
   ],
   "source": [
    "qc.draw()"
   ]
  },
  {
   "cell_type": "markdown",
   "metadata": {},
   "source": [
    "## Get the C3 Provider and Backend"
   ]
  },
  {
   "cell_type": "code",
   "execution_count": 5,
   "metadata": {
    "execution": {
     "iopub.execute_input": "2021-01-27T04:59:44.803831Z",
     "iopub.status.busy": "2021-01-27T04:59:44.802078Z",
     "iopub.status.idle": "2021-01-27T04:59:44.805090Z",
     "shell.execute_reply": "2021-01-27T04:59:44.804567Z"
    }
   },
   "outputs": [],
   "source": [
    "c3_provider = C3Provider()\n",
    "c3_backend = c3_provider.get_backend(\"c3_qasm_physics_simulator\")"
   ]
  },
  {
   "cell_type": "code",
   "execution_count": 6,
   "metadata": {
    "execution": {
     "iopub.execute_input": "2021-01-27T04:59:44.812257Z",
     "iopub.status.busy": "2021-01-27T04:59:44.810583Z",
     "iopub.status.idle": "2021-01-27T04:59:44.813743Z",
     "shell.execute_reply": "2021-01-27T04:59:44.814289Z"
    }
   },
   "outputs": [
    {
     "name": "stdout",
     "output_type": "stream",
     "text": [
      "Name: c3_qasm_physics_simulator\n",
      "Version: 0.1\n",
      "Max Qubits: 10\n",
      "OpenPulse Support: False\n",
      "Basis Gates: ['cx', 'x']\n"
     ]
    }
   ],
   "source": [
    "config = c3_backend.configuration()\n",
    "\n",
    "print(\"Name: {0}\".format(config.backend_name))\n",
    "print(\"Version: {0}\".format(config.backend_version))\n",
    "print(\"Max Qubits: {0}\".format(config.n_qubits))\n",
    "print(\"OpenPulse Support: {0}\".format(config.open_pulse))\n",
    "print(\"Basis Gates: {0}\".format(config.basis_gates))"
   ]
  },
  {
   "cell_type": "markdown",
   "metadata": {},
   "source": [
    "## Run a physical device simulation using C3"
   ]
  },
  {
   "cell_type": "code",
   "execution_count": 7,
   "metadata": {
    "execution": {
     "iopub.execute_input": "2021-01-27T04:59:44.975298Z",
     "iopub.status.busy": "2021-01-27T04:59:44.972766Z",
     "iopub.status.idle": "2021-01-27T05:00:47.447681Z",
     "shell.execute_reply": "2021-01-27T05:00:47.448767Z"
    }
   },
   "outputs": [
    {
     "name": "stderr",
     "output_type": "stream",
     "text": [
      "No measurements in circuit \"circuit-0\", classical register will remain all zeros.\n",
      "2021-12-29 11:55:17.185809: I tensorflow/compiler/mlir/mlir_graph_optimization_pass.cc:185] None of the MLIR Optimization Passes are enabled (registered 2)\n",
      "2021-12-29 11:55:17.187947: W tensorflow/core/platform/profile_utils/cpu_utils.cc:128] Failed to get CPU frequency: 0 Hz\n"
     ]
    }
   ],
   "source": [
    "c3_backend.set_device_config(\"qiskit.cfg\")\n",
    "c3_job = execute(qc, c3_backend)\n",
    "result = c3_job.result()"
   ]
  },
  {
   "cell_type": "code",
   "execution_count": 8,
   "metadata": {
    "execution": {
     "iopub.execute_input": "2021-01-27T05:00:47.453142Z",
     "iopub.status.busy": "2021-01-27T05:00:47.452196Z",
     "iopub.status.idle": "2021-01-27T05:00:47.457321Z",
     "shell.execute_reply": "2021-01-27T05:00:47.457875Z"
    }
   },
   "outputs": [
    {
     "name": "stdout",
     "output_type": "stream",
     "text": [
      "{'000': 0.005977052024699964,\n",
      " '001': 3.309772803976941e-29,\n",
      " '010': 0.5026307720154571,\n",
      " '011': 5.253849204112465e-32,\n",
      " '100': 0.08234031004302313,\n",
      " '101': 1.185950334554713e-33,\n",
      " '110': 0.40905186591686277,\n",
      " '111': 6.79320316560621e-36}\n"
     ]
    }
   ],
   "source": [
    "res_counts = result.get_counts()\n",
    "pprint(res_counts)"
   ]
  },
  {
   "cell_type": "code",
   "execution_count": 9,
   "metadata": {
    "execution": {
     "iopub.execute_input": "2021-01-27T05:00:47.462110Z",
     "iopub.status.busy": "2021-01-27T05:00:47.461072Z",
     "iopub.status.idle": "2021-01-27T05:00:47.652753Z",
     "shell.execute_reply": "2021-01-27T05:00:47.653429Z"
    }
   },
   "outputs": [
    {
     "data": {
      "image/png": "[encoded data removed]",
      "text/plain": [
       "<Figure size 504x360 with 1 Axes>"
      ]
     },
     "execution_count": 9,
     "metadata": {},
     "output_type": "execute_result"
    }
   ],
   "source": [
    "plot_histogram(res_counts, title='C3 Physical Device simulation')"
   ]
  },
  {
   "cell_type": "markdown",
   "metadata": {},
   "source": [
    "As we can see above, the c3 simulator correctly calculates the populations taking into physical device coupling and unoptimized gate pulses."
   ]
  },
  {
   "cell_type": "markdown",
   "metadata": {},
   "source": [
    "## Run Simulation and verify results on Qiskit simulator"
   ]
  },
  {
   "cell_type": "markdown",
   "metadata": {},
   "source": [
    "Qiskit uses little-endian bit ordering while most Quantum Computing literature uses big-endian. This is reflected in the reversed ordering of qubit labels here.\n",
    "\n",
    "Ref: [Basis Vector Ordering in Qiskit](https://qiskit.org/documentation/tutorials/circuits/3_summary_of_quantum_operations.html#Basis-vector-ordering-in-Qiskit)"
   ]
  },
  {
   "cell_type": "code",
   "execution_count": 10,
   "metadata": {},
   "outputs": [
    {
     "name": "stderr",
     "output_type": "stream",
     "text": [
      "/opt/homebrew/Caskroom/miniforge/base/envs/c3-dev/lib/python3.8/site-packages/numpy/linalg/linalg.py:2158: RuntimeWarning: divide by zero encountered in det\n",
      "  r = _umath_linalg.det(a, signature=signature)\n",
      "/opt/homebrew/Caskroom/miniforge/base/envs/c3-dev/lib/python3.8/site-packages/numpy/linalg/linalg.py:2158: RuntimeWarning: invalid value encountered in det\n",
      "  r = _umath_linalg.det(a, signature=signature)\n"
     ]
    },
    {
     "data": {
      "image/png": "[encoded data removed]",
      "text/plain": [
       "<Figure size 504x360 with 1 Axes>"
      ]
     },
     "execution_count": 10,
     "metadata": {},
     "output_type": "execute_result"
    }
   ],
   "source": [
    "qiskit_simulator = Aer.get_backend('qasm_simulator')\n",
    "qc.measure([0, 1, 2], [0, 1, 2])\n",
    "qiskit_result = execute(qc, qiskit_simulator, shots=1000).result()\n",
    "counts = qiskit_result.get_counts(qc)\n",
    "plot_histogram(counts, title='Qiskit simulation')"
   ]
  }
 ],
 "metadata": {
  "kernelspec": {
   "display_name": "Python 3 (ipykernel)",
   "language": "python",
   "name": "python3"
  },
  "language_info": {
   "codemirror_mode": {
    "name": "ipython",
    "version": 3
   },
   "file_extension": ".py",
   "mimetype": "text/x-python",
   "name": "python",
   "nbconvert_exporter": "python",
   "pygments_lexer": "ipython3",
   "version": "3.8.12"
  }
 },
 "nbformat": 4,
 "nbformat_minor": 4
}
