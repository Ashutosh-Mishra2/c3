{
 "cells": [
  {
   "cell_type": "code",
   "execution_count": 18,
   "metadata": {},
   "outputs": [
    {
     "name": "stdout",
     "output_type": "stream",
     "text": [
      "The autoreload extension is already loaded. To reload it, use:\n",
      "  %reload_ext autoreload\n"
     ]
    }
   ],
   "source": [
    "%load_ext autoreload\n",
    "%autoreload 2\n",
    "\n",
    "# System imports\n",
    "import copy\n",
    "import numpy as np\n",
    "import matplotlib.pyplot as plt\n",
    "import tensorflow as tf\n",
    "import qutip as qt\n",
    "\n",
    "\n",
    "# Main C3 objects\n",
    "from c3.c3objs import Quantity as Qty\n",
    "from c3.parametermap import ParameterMap as PMap\n",
    "from c3.experiment import Experiment as Exp\n",
    "from c3.model import Model_basis_change as Model_basis_change\n",
    "from c3.generator.generator import Generator as Gnr\n",
    "\n",
    "# Building blocks\n",
    "import c3.generator.devices as devices\n",
    "import c3.signal.gates as gates\n",
    "import c3.libraries.chip as chip\n",
    "import c3.signal.pulse as pulse\n",
    "\n",
    "# Libs and helpers\n",
    "import c3.libraries.hamiltonians as hamiltonians\n",
    "import c3.libraries.envelopes as envelopes"
   ]
  },
  {
   "cell_type": "code",
   "execution_count": 19,
   "metadata": {},
   "outputs": [],
   "source": [
    "def plot_dynamics(exp, psi_init, seq, eps_pop=1e-4):\n",
    "        \"\"\"\n",
    "        Plotting code for time-resolved populations.\n",
    "\n",
    "        Parameters\n",
    "        ----------\n",
    "        psi_init: tf.Tensor\n",
    "            Initial state or density matrix.\n",
    "        seq: list\n",
    "            List of operations to apply to the initial state.\n",
    "        eps_pop: float\n",
    "            Minimum of population for state to be plotted\n",
    "        \"\"\"\n",
    "        model = exp.pmap.model\n",
    "        exp.compute_propagators()\n",
    "        dUs = exp.partial_propagators\n",
    "        psi_t = psi_init.numpy()\n",
    "        pop_t = exp.populations(psi_t, model.lindbladian)\n",
    "        for gate in seq:\n",
    "            for du in dUs[gate]:\n",
    "                psi_t = np.matmul(du.numpy(), psi_t)\n",
    "                pops = exp.populations(psi_t, model.lindbladian)\n",
    "                pop_t = np.append(pop_t, pops, axis=1)\n",
    "\n",
    "        fig, axs = plt.subplots(1, 1)\n",
    "        ts = exp.ts\n",
    "        dt = ts[1] - ts[0]\n",
    "        ts = np.linspace(0.0, dt*pop_t.shape[1], pop_t.shape[1])\n",
    "        for p, label in zip(pop_t, exp.pmap.model.state_labels):\n",
    "            if np.max(p) > eps_pop:\n",
    "                plt.plot(ts / 1e-9, p, label=label)\n",
    "        axs.grid(linestyle=\"--\")\n",
    "        axs.tick_params(\n",
    "            direction=\"in\", left=True, right=True, top=True, bottom=True\n",
    "        )\n",
    "        axs.set_xlabel('Time [ns]')\n",
    "        axs.set_ylabel('Population')\n",
    "        plt.legend()\n",
    "        pass"
   ]
  },
  {
   "cell_type": "code",
   "execution_count": 20,
   "metadata": {},
   "outputs": [],
   "source": [
    "def print_state(state_vec, model, eps_pop=1e-2):\n",
    "    \"\"\"\n",
    "    Print a state in clear text\n",
    "    \n",
    "    Parameters\n",
    "        ----------\n",
    "        state_vec: np.array\n",
    "            state in vector form.\n",
    "        model: c3 model\n",
    "            model the state belongs to\n",
    "        eps_pop: float\n",
    "            Minimum of population for basis state to be printed\n",
    "    \n",
    "    \"\"\"\n",
    "    string = \"\"\n",
    "    for i, coeff in enumerate(state_vec):\n",
    "        if np.abs(coeff) > eps_pop:\n",
    "            string += f\" + {coeff} {model.state_labels[i]}\"\n",
    "    print(string)\n",
    "\n",
    "\n",
    "def find_plus_minus_states_q_tc_q(model, print_res=False):\n",
    "\n",
    "    \"\"\"\n",
    "    Finds unitary trasnformation from bare basis to dressed +- basis in a \n",
    "    tunable coupler architecture\n",
    "    \n",
    "    Parameters\n",
    "        ----------\n",
    "        model: c3 model\n",
    "            model describing a tc architecture\n",
    "        print_res: bool\n",
    "            determines if found states are printed\n",
    "\n",
    "    Returns\n",
    "        -------\n",
    "        tf.tensor\n",
    "            Unitary transformation\n",
    "    \"\"\"\n",
    "    \n",
    "    # v describes dressed basis\n",
    "    e, v_tf = tf.linalg.eigh(model.drift_ham)\n",
    "    # U_full is tranformation from dressed to +- basis\n",
    "    U_full = np.diag([1.]*len(e))\n",
    "\n",
    "    estates = v_tf.numpy().T\n",
    "\n",
    "   \n",
    "    # Identify + state and - state\n",
    "    overlap_state = (qt.basis(list(model.dims), [1,0,0]) + qt.basis(list(model.dims), [0,1,0])).unit()\n",
    "    over_tf = tf.abs(overlap_state.data.toarray()[:,0])\n",
    "    overlap_list = [tf.reduce_sum(tf.multiply(over_tf, tf.abs(ev))) for ev in tf.transpose(v_tf)]\n",
    "    rel_idc = np.argsort(overlap_list)[::-1][:2]\n",
    "    plus_minus_list= [tf.constant(estates[rel_idc[0]], dtype=tf.float64), \n",
    "                    tf.constant(estates[rel_idc[1]], dtype=tf.float64)]\n",
    "                    \n",
    "\n",
    "    # Create transformation from dressed to +- basis\n",
    "    angle = tf.expand_dims(tf.constant(np.pi/4, dtype=tf.float64), axis=0)\n",
    "    U = tf.concat((tf.stack([tf.cos(angle), -tf.sin(angle)], axis=1),\n",
    "                    tf.stack([tf.sin(angle), tf.cos(angle)], axis = 1)), axis=0)\n",
    "    U = tf.squeeze(U)\n",
    "    U_full[np.ix_(rel_idc, rel_idc)] = U.numpy()\n",
    "\n",
    "    # Calulate new lacalized states\n",
    "    e_vector_vec = tf.transpose(tf.stack(plus_minus_list, axis=1))\n",
    "    state0 = tf.gather(tf.linalg.tensordot(U, e_vector_vec, 1), 0)\n",
    "    state1 = tf.gather(tf.linalg.tensordot(U, e_vector_vec, 1), 1)\n",
    "\n",
    "    if print_res:\n",
    "        print_state(state0, model)\n",
    "        print_state(state1, model)\n",
    "    \n",
    "    return tf.matmul(v_tf, tf.constant(U_full.T, dtype=tf.complex128))"
   ]
  },
  {
   "cell_type": "code",
   "execution_count": 21,
   "metadata": {},
   "outputs": [],
   "source": [
    "# Tunable coupler architecture\n",
    "\n",
    "phi_0 = Qty(1)\n",
    "qubit_lvls = 3\n",
    "\n",
    "freq_q1 = 5e9\n",
    "anhar_q1 = -210e6\n",
    "phi_q1 = Qty(0)\n",
    "d_q1 = Qty(0.5)\n",
    "\n",
    "q1 = chip.Transmon(\n",
    "    name=\"Q1\",\n",
    "    freq=Qty(value=freq_q1, min_val=1.e9, max_val=6e9, unit='Hz 2pi'),\n",
    "    anhar=Qty(value=anhar_q1, min_val=-380e6, max_val=-120e6, unit='Hz 2pi'),\n",
    "    hilbert_dim=qubit_lvls,\n",
    "    d=d_q1,\n",
    "    phi=phi_q1,\n",
    "    phi_0=phi_0,\n",
    ")\n",
    "\n",
    "freq_q2 = 5e9\n",
    "anhar_q2 = -210e6\n",
    "phi_q2 = Qty(0)\n",
    "d_q2 = Qty(0.5)\n",
    "\n",
    "q2 = chip.Transmon(\n",
    "    name=\"Q2\",\n",
    "    freq=Qty(value=freq_q2, min_val=1e9, max_val=6e9, unit='Hz 2pi'),\n",
    "    anhar=Qty(value=anhar_q2, min_val=-380e6, max_val=-120e6, unit='Hz 2pi'),\n",
    "    hilbert_dim=qubit_lvls,\n",
    "    d=d_q2,\n",
    "    phi=phi_q2,\n",
    "    phi_0=phi_0,\n",
    ")\n",
    "\n",
    "\n",
    "freq_tc = 5.5e9\n",
    "anhar_tc = -210e6\n",
    "phi_tc = Qty(0)\n",
    "d_tc = Qty(0.5)\n",
    "\n",
    "tc = chip.Transmon(\n",
    "    name=\"TC\",\n",
    "    freq=Qty(value=freq_tc, min_val=1e9, max_val=6e9, unit='Hz 2pi'),\n",
    "    anhar=Qty(value=anhar_tc, min_val=-380e6, max_val=-120e6, unit='Hz 2pi'),\n",
    "    hilbert_dim=qubit_lvls,\n",
    "    d=d_tc,\n",
    "    phi=phi_tc,\n",
    "    phi_0=phi_0,\n",
    ")\n",
    "\n",
    "\n",
    "\n",
    "coupling_strength_12 = 1e6\n",
    "q1q2 = chip.Coupling(\n",
    "    name=\"Q1-Q2\",\n",
    "    connected=[\"Q1\", \"Q2\"],\n",
    "    strength=Qty(\n",
    "        value=coupling_strength_12,\n",
    "        min_val=-1 * 1e3 ,\n",
    "        max_val=200e6 ,\n",
    "        unit='Hz 2pi'\n",
    "    ),\n",
    "    hamiltonian_func=hamiltonians.int_YY\n",
    ")\n",
    "\n",
    "coupling_strength_1tc = 100e6\n",
    "q1tc = chip.Coupling(\n",
    "    name=\"Q1-TC\",\n",
    "    connected=[\"Q1\", \"TC\"],\n",
    "    strength=Qty(\n",
    "        value=coupling_strength_1tc,\n",
    "        min_val=-1 * 1e3 ,\n",
    "        max_val=200e6 ,\n",
    "        unit='Hz 2pi'\n",
    "    ),\n",
    "    hamiltonian_func=hamiltonians.int_YY\n",
    ")\n",
    "\n",
    "coupling_strength_2tc = 100e6\n",
    "q2tc = chip.Coupling(\n",
    "    name=\"Q2-TC\",\n",
    "    connected=[\"Q2\", \"TC\"],\n",
    "    strength=Qty(\n",
    "        value=coupling_strength_2tc,\n",
    "        min_val=-1 * 1e3 ,\n",
    "        max_val=200e6 ,\n",
    "        unit='Hz 2pi'\n",
    "    ),\n",
    "    hamiltonian_func=hamiltonians.int_YY\n",
    ")"
   ]
  },
  {
   "cell_type": "code",
   "execution_count": 22,
   "metadata": {},
   "outputs": [],
   "source": [
    "# Frequency drive on tc\n",
    "Z_drive_tc = chip.Drive(\n",
    "    name=\"Zd_TC\",\n",
    "    connected=[\"TC\"],\n",
    "    hamiltonian_func=hamiltonians.z_drive\n",
    ")"
   ]
  },
  {
   "cell_type": "code",
   "execution_count": 23,
   "metadata": {},
   "outputs": [],
   "source": [
    "model = Model_basis_change(\n",
    "    [q1, q2, tc,], # Individual, self-contained components\n",
    "    [Z_drive_tc, q1q2, q1tc, q2tc],  # Interactions between components\n",
    ")\n",
    "model.set_lindbladian(False)\n",
    "model.update_model()"
   ]
  },
  {
   "cell_type": "code",
   "execution_count": 24,
   "metadata": {},
   "outputs": [],
   "source": [
    "sim_res = 100e9 # Resolution for numerical simulation\n",
    "awg_res = 2e9 # Realistic, limited resolution of an AWG\n",
    "\n",
    "# Standard devices\n",
    "lo = devices.LO(name='lo', resolution=sim_res)\n",
    "awg = devices.AWG(name='awg', resolution=awg_res)\n",
    "mixer = devices.Mixer(name='mixer')\n",
    "dig_to_an = devices.DigitalToAnalog(name=\"dac\", resolution=sim_res)\n",
    "\n",
    "\n",
    "# Frequency tuning of tunable coupler\n",
    "flux_tuning = devices.FluxTuning(name=\"flux_tuning\", phi_0=phi_0, phi=phi_tc, d=d_tc, omega_0=Qty(freq_tc, unit='Hz 2pi'), anhar=Qty(anhar_tc, unit='Hz 2pi'))\n",
    "\n",
    "\n",
    "generator = Gnr(\n",
    "        devices={\n",
    "            \"LO\": lo,\n",
    "            \"AWG\": awg,\n",
    "            \"DigitalToAnalog\": dig_to_an,\n",
    "            \"Mixer\": mixer,\n",
    "            \"flux_tuning\": flux_tuning,\n",
    "        },\n",
    "        chains={\n",
    "            # Line for frequency modulation\n",
    "            \"Zd_TC\": {\n",
    "                \"LO\": [],\n",
    "                \"AWG\": [],\n",
    "                \"DigitalToAnalog\": [\"AWG\"],\n",
    "                \"Mixer\": [\"LO\", \"DigitalToAnalog\"],\n",
    "                \"flux_tuning\": [\"Mixer\"],\n",
    "            },\n",
    "        }\n",
    "    )"
   ]
  },
  {
   "cell_type": "code",
   "execution_count": 25,
   "metadata": {},
   "outputs": [
    {
     "name": "stderr",
     "output_type": "stream",
     "text": [
      "/home/max/Documents/C3_freq_coupling/c3/c3/signal/gates.py:102: UserWarning: No ideal gate found for gate: gate. Use set_ideal() explicitly.\n",
      "  warnings.warn(\n"
     ]
    }
   ],
   "source": [
    "# Create an idle gate\n",
    "t_final_2Q = 20e-9\n",
    "\n",
    "gauss_params= {\n",
    "    'amp': Qty(value=00, min_val=0.0, max_val=0.6, unit=\"V\"),\n",
    "    't_final': Qty(value=t_final_2Q, min_val=0.5 * t_final_2Q, max_val=1.5 * t_final_2Q, unit=\"s\"),\n",
    "    'sigma': Qty(value=t_final_2Q / 4, min_val=t_final_2Q / 8, max_val=t_final_2Q / 2, unit=\"s\"),\n",
    "}\n",
    "\n",
    "gauss_env = pulse.EnvelopeDrag(\n",
    "    name=\"gauss1\",\n",
    "    desc=\"Gaussian envelope on drive 1\",\n",
    "    params=gauss_params,\n",
    "    shape=envelopes.gaussian_nonorm\n",
    ")\n",
    "\n",
    "lo_freq = 0e6\n",
    "carr = pulse.Carrier(\n",
    "    name=\"carrier\",\n",
    "    desc=\"Carrier on drive 1\",\n",
    "    params={\n",
    "        'freq': Qty(value=lo_freq, min_val=-1e9, max_val=1e9, unit='Hz 2pi'),\n",
    "        'framechange': Qty(value=0.0, min_val=-np.pi, max_val=3 * np.pi, unit='rad')\n",
    "    }\n",
    ")\n",
    "\n",
    "gate = gates.Instruction(\n",
    "    name=\"gate\", targets=[0, 1], t_start=0.0, t_end=t_final_2Q, channels=[\"Zd_TC\"],\n",
    ")\n",
    "gate.add_component(gauss_env, \"Zd_TC\")\n",
    "gate.add_component(carr, \"Zd_TC\")\n"
   ]
  },
  {
   "cell_type": "code",
   "execution_count": 26,
   "metadata": {},
   "outputs": [],
   "source": [
    "parameter_map = PMap(instructions=[gate], model=model, generator=generator)\n",
    "exp = Exp(pmap=parameter_map)"
   ]
  },
  {
   "cell_type": "code",
   "execution_count": 27,
   "metadata": {},
   "outputs": [],
   "source": [
    "psi_init = [[0] * 27]\n",
    "psi_init[0][3] = 1\n",
    "init_state = tf.transpose(tf.constant(psi_init, tf.complex128))"
   ]
  },
  {
   "cell_type": "code",
   "execution_count": 28,
   "metadata": {},
   "outputs": [
    {
     "data": {
      "image/png": "[encoded data removed]",
      "text/plain": [
       "<Figure size 432x288 with 1 Axes>"
      ]
     },
     "metadata": {
      "needs_background": "light"
     },
     "output_type": "display_data"
    }
   ],
   "source": [
    "# Dynamics in bare basis with leakage to the coupler\n",
    "sequence = [gate.get_key()]\n",
    "plot_dynamics(exp, init_state, sequence)"
   ]
  },
  {
   "cell_type": "code",
   "execution_count": 29,
   "metadata": {},
   "outputs": [
    {
     "name": "stdout",
     "output_type": "stream",
     "text": [
      " + 0.1803157588392066 (0, 0, 1) + 0.016579981257450416 (0, 1, 0) + -0.9833255210461824 (1, 0, 0) + -0.013541869546790253 (2, 0, 1)\n",
      " + -0.18031575883920498 (0, 0, 1) + 0.9833255210461822 (0, 1, 0) + 0.01354186954679036 (0, 2, 1) + -0.016579981257456577 (1, 0, 0)\n"
     ]
    },
    {
     "name": "stderr",
     "output_type": "stream",
     "text": [
      "/home/max/anaconda3/envs/c3-dev/lib/python3.8/site-packages/tensorflow/python/framework/constant_op.py:98: ComplexWarning: Casting complex values to real discards the imaginary part\n",
      "  return ops.EagerTensor(value, ctx.device_name, dtype)\n",
      "/home/max/Documents/C3_freq_coupling/c3/c3/model.py:640: UserWarning: C3 Warning: Some states are overly dressed, trying to recover...16 states, 4 is lowest failed state\n",
      "  for i in range(vc.shape[1]):\n"
     ]
    }
   ],
   "source": [
    "# Calculate trasnformation to +- basis\n",
    "U_transform = find_plus_minus_states_q_tc_q(model, print_res=True)\n",
    "# Create model in new basis\n",
    "model_transformed = copy.deepcopy(model)\n",
    "model_transformed.U_transform = U_transform \n",
    "model_transformed.set_dressed(True)\n",
    "model_transformed.update_model()\n",
    "\n",
    "parameter_map_transformed = PMap(instructions=[gate], model=model_transformed, generator=generator)\n",
    "exp_transformed = Exp(pmap=parameter_map_transformed)"
   ]
  },
  {
   "cell_type": "code",
   "execution_count": 30,
   "metadata": {},
   "outputs": [
    {
     "data": {
      "image/png": "[encoded data removed]",
      "text/plain": [
       "<Figure size 432x288 with 1 Axes>"
      ]
     },
     "metadata": {
      "needs_background": "light"
     },
     "output_type": "display_data"
    }
   ],
   "source": [
    "# Dynamics in trasnformed basis without leakage to the coupler\n",
    "sequence_transformed = [gate.get_key()]\n",
    "plot_dynamics(exp_transformed, init_state, sequence_transformed)"
   ]
  }
 ],
 "metadata": {
  "kernelspec": {
   "display_name": "Python 3.8.8 ('c3-dev')",
   "language": "python",
   "name": "python3"
  },
  "language_info": {
   "codemirror_mode": {
    "name": "ipython",
    "version": 3
   },
   "file_extension": ".py",
   "mimetype": "text/x-python",
   "name": "python",
   "nbconvert_exporter": "python",
   "pygments_lexer": "ipython3",
   "version": "3.8.8"
  },
  "orig_nbformat": 4,
  "vscode": {
   "interpreter": {
    "hash": "c786d6a8ee1f7bc63a64df7d2b3dd05df285c7cc5d2c354ca7d6af2bbdf58f5d"
   }
  }
 },
 "nbformat": 4,
 "nbformat_minor": 2
}
