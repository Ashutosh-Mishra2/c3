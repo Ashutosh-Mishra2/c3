{
 "cells": [
  {
   "cell_type": "markdown",
   "metadata": {},
   "source": [
    "# Simulated calibration with $C^2$\n",
    "\n",
    "Calibration of control pulses is the process of fine-tuning parameters in a feedback-loop with the experiment. We will simulate this process here by constructing a black-box simulation and interacting with it exactly like an experiment.\n",
    "\n",
    "We have manange imports and creation of the black-box the same way as in the previous example in a helper `single_qubit_blackbox_exp.py`."
   ]
  },
  {
   "cell_type": "code",
   "execution_count": 1,
   "metadata": {},
   "outputs": [],
   "source": [
    "from single_qubit_blackbox_exp import create_experiment\n",
    "\n",
    "blackbox = create_experiment()"
   ]
  },
  {
   "cell_type": "markdown",
   "metadata": {},
   "source": [
    "This blackbox is constructed the same way as in the C1 example. The difference will be in how we interact with it. First, we decide on what experiment we want to perform and need to specify it as a python function. A general, minimal example would be\n",
    "\n",
    "`def exp_communication(params):\n",
    "    # Send parameters to experiment controller\n",
    "    # and recieve a measurement result.\n",
    "    return measurement_result\n",
    " `\n",
    "\n",
    "Again, `params` is a linear vector of bare numbers. The measurement result can be a single number or a set of results. It can also include additional information about statistics, like averaging, standard deviation, etc."
   ]
  },
  {
   "cell_type": "markdown",
   "metadata": {},
   "source": [
    "### ORBIT - Single-length randomized benchmarking\n",
    "The following defines an [ORBIT](https://arxiv.org/abs/1403.0035) procedure. In short, we define sequences of gates that result in an identity gate if our individual gates are perfect. Any deviation from identity gives us a measure of the imperfections in our gates. Our helper `qt_utils` provides these sequences."
   ]
  },
  {
   "cell_type": "code",
   "execution_count": 2,
   "metadata": {},
   "outputs": [],
   "source": [
    "from c3.utils import qt_utils"
   ]
  },
  {
   "cell_type": "code",
   "execution_count": 3,
   "metadata": {},
   "outputs": [
    {
     "data": {
      "text/plain": [
       "[['Id',\n",
       "  'Id',\n",
       "  'Id',\n",
       "  'Id',\n",
       "  'Y90m',\n",
       "  'Id',\n",
       "  'Id',\n",
       "  'Id',\n",
       "  'X90p',\n",
       "  'Y90m',\n",
       "  'X90m',\n",
       "  'Id',\n",
       "  'Y90m',\n",
       "  'X90m',\n",
       "  'Id',\n",
       "  'Id',\n",
       "  'X90p',\n",
       "  'X90p',\n",
       "  'Y90p',\n",
       "  'Y90p']]"
      ]
     },
     "execution_count": 3,
     "metadata": {},
     "output_type": "execute_result"
    }
   ],
   "source": [
    "qt_utils.single_length_RB(\n",
    "            RB_number=1, RB_length=5,\n",
    "    )"
   ]
  },
  {
   "cell_type": "markdown",
   "metadata": {},
   "source": [
    "The desired number of 5 gates is selected from a specific set (the Clifford group) and has to be decomposed into the available gate-set. Here, this means 4 gates per Clifford, hence a sequence of 20 gates."
   ]
  },
  {
   "cell_type": "markdown",
   "metadata": {},
   "source": [
    "### Communication with the experiment\n",
    "Some of the following code is specific to the fact that this a *simulated* calibration."
   ]
  },
  {
   "cell_type": "code",
   "execution_count": 4,
   "metadata": {},
   "outputs": [],
   "source": [
    "import itertools\n",
    "import numpy as np\n",
    "import tensorflow as tf\n",
    "\n",
    "def ORBIT(params, exp, opt_map, qubit_labels, logdir):\n",
    "    \n",
    "    ### ORBIT meta-parameters ###\n",
    "    RB_length = 60 # How long each sequence is\n",
    "    RB_number = 40  # How many sequences\n",
    "    shots = 1000    # How many averages per readout\n",
    "\n",
    "    ################################\n",
    "    ### Simulation specific part ###\n",
    "    ################################\n",
    "    \n",
    "    do_noise = False  # Whether to add artificial noise to the results\n",
    "    \n",
    "    qubit_label = list(qubit_labels.keys())[0]\n",
    "    state_labels = qubit_labels[qubit_label]\n",
    "    state_label = [tuple(l) for l in state_labels]\n",
    "    \n",
    "    # Creating the RB sequences #\n",
    "    seqs = qt_utils.single_length_RB(\n",
    "            RB_number=RB_number, RB_length=RB_length\n",
    "    )\n",
    "\n",
    "    # Transmitting the parameters to the experiment #\n",
    "    exp.gateset.set_parameters(params, opt_map, scaled=False)\n",
    "    exp.opt_gates = list(\n",
    "        set(itertools.chain.from_iterable(seqs))\n",
    "    )\n",
    "    \n",
    "    # Simulating the gates #\n",
    "    U_dict = exp.get_gates()\n",
    "    \n",
    "    # Running the RB sequences and read-out the results #\n",
    "    pops = exp.evaluate(seqs)\n",
    "    pop1s = exp.process(pops, labels=state_label)\n",
    "    \n",
    "    results = []\n",
    "    results_std = []\n",
    "    shots_nums = []\n",
    "\n",
    "    # Collecting results and statistics, add noise #\n",
    "    if do_noise:\n",
    "        for p1 in pop1s:\n",
    "            draws = tf.keras.backend.random_binomial(\n",
    "                [shots],\n",
    "                p=p1[0],\n",
    "                dtype=tf.float64,\n",
    "            )\n",
    "            results.append([np.mean(draws)])\n",
    "            results_std.append([np.std(draws)/np.sqrt(shots)])\n",
    "            shots_nums.append([shots])\n",
    "    else:\n",
    "        for p1 in pop1s:\n",
    "            results.append(p1.numpy())\n",
    "            results_std.append([0])\n",
    "            shots_nums.append([shots])\n",
    "    \n",
    "    #######################################\n",
    "    ### End of Simulation specific part ###\n",
    "    #######################################\n",
    "    \n",
    "    goal = np.mean(results)\n",
    "    return goal, results, results_std, seqs, shots_nums"
   ]
  },
  {
   "cell_type": "markdown",
   "metadata": {},
   "source": [
    "### Optimization\n",
    "We first import algorithms and the correct optimizer object."
   ]
  },
  {
   "cell_type": "code",
   "execution_count": 5,
   "metadata": {},
   "outputs": [],
   "source": [
    "import copy\n",
    "\n",
    "from c3.experiment import Experiment as Exp\n",
    "from c3.c3objs import Quantity as Qty\n",
    "from c3.libraries import algorithms, envelopes\n",
    "from c3.signal import gates, pulse\n",
    "from c3.optimizers.c2 import C2"
   ]
  },
  {
   "cell_type": "markdown",
   "metadata": {},
   "source": [
    "Next, we define the parameters we whish to calibrate. See how these gate instructions are defined in the experiment setup example or in `single_qubit_blackbox_exp.py`. Our gate-set is made up of 4 gates, rotations of 90 degrees around the $x$ and $y$-axis in positive and negative direction. While it is possible to optimize each parameters of each gate individually, in this example all four gates share parameters. They only differ in the phase $\\phi_{xy}$ that is set in the definitions."
   ]
  },
  {
   "cell_type": "code",
   "execution_count": 6,
   "metadata": {},
   "outputs": [],
   "source": [
    "gateset_opt_map =   [\n",
    "    [\n",
    "      (\"X90p\", \"d1\", \"gauss\", \"amp\"),\n",
    "      (\"Y90p\", \"d1\", \"gauss\", \"amp\"),\n",
    "      (\"X90m\", \"d1\", \"gauss\", \"amp\"),\n",
    "      (\"Y90m\", \"d1\", \"gauss\", \"amp\")\n",
    "    ],\n",
    "    [\n",
    "      (\"X90p\", \"d1\", \"gauss\", \"delta\"),\n",
    "      (\"Y90p\", \"d1\", \"gauss\", \"delta\"),\n",
    "      (\"X90m\", \"d1\", \"gauss\", \"delta\"),\n",
    "      (\"Y90m\", \"d1\", \"gauss\", \"delta\")\n",
    "    ],\n",
    "    [\n",
    "      (\"X90p\", \"d1\", \"gauss\", \"freq_offset\"),\n",
    "      (\"Y90p\", \"d1\", \"gauss\", \"freq_offset\"),\n",
    "      (\"X90m\", \"d1\", \"gauss\", \"freq_offset\"),\n",
    "      (\"Y90m\", \"d1\", \"gauss\", \"freq_offset\")\n",
    "    ],\n",
    "    [\n",
    "      (\"Id\", \"d1\", \"carrier\", \"framechange\")\n",
    "    ]\n",
    "  ]"
   ]
  },
  {
   "cell_type": "markdown",
   "metadata": {},
   "source": [
    "### Representation of the experiment within $C^3$\n",
    "At this point we have to make sure that the gates (\"X90p\", etc.) and drive line (\"d1\") are compatible to the experiment controller operating the blackbox. We mirror the blackbox by creating an experiment in the $C^3$ context:"
   ]
  },
  {
   "cell_type": "code",
   "execution_count": 7,
   "metadata": {},
   "outputs": [],
   "source": [
    "t_final = 7e-9   # Time for single qubit gates\n",
    "sideband = 50e6 * 2 * np.pi\n",
    "lo_freq = 5e9 * 2 * np.pi + sideband\n",
    "\n",
    " # ### MAKE GATESET\n",
    "gateset = gates.GateSet()\n",
    "gauss_params_single = {\n",
    "    'amp': Qty(\n",
    "        value=0.45,\n",
    "        min=0.4,\n",
    "        max=0.6,\n",
    "        unit=\"V\"\n",
    "    ),\n",
    "    't_final': Qty(\n",
    "        value=t_final,\n",
    "        min=0.5 * t_final,\n",
    "        max=1.5 * t_final,\n",
    "        unit=\"s\"\n",
    "    ),\n",
    "    'sigma': Qty(\n",
    "        value=t_final / 4,\n",
    "        min=t_final / 8,\n",
    "        max=t_final / 2,\n",
    "        unit=\"s\"\n",
    "    ),\n",
    "    'xy_angle': Qty(\n",
    "        value=0.0,\n",
    "        min=-0.5 * np.pi,\n",
    "        max=2.5 * np.pi,\n",
    "        unit='rad'\n",
    "    ),\n",
    "    'freq_offset': Qty(\n",
    "        value=-sideband - 0.5e6 * 2 * np.pi,\n",
    "        min=-53 * 1e6 * 2 * np.pi,\n",
    "        max=-47 * 1e6 * 2 * np.pi,\n",
    "        unit='Hz 2pi'\n",
    "    ),\n",
    "    'delta': Qty(\n",
    "        value=-1,\n",
    "        min=-5,\n",
    "        max=3,\n",
    "        unit=\"\"\n",
    "    )\n",
    "}\n",
    "\n",
    "gauss_env_single = pulse.Envelope(\n",
    "    name=\"gauss\",\n",
    "    desc=\"Gaussian comp for single-qubit gates\",\n",
    "    params=gauss_params_single,\n",
    "    shape=envelopes.gaussian_nonorm\n",
    ")\n",
    "nodrive_env = pulse.Envelope(\n",
    "    name=\"no_drive\",\n",
    "    params={\n",
    "        't_final': Qty(\n",
    "            value=t_final,\n",
    "            min=0.5 * t_final,\n",
    "            max=1.5 * t_final,\n",
    "            unit=\"s\"\n",
    "        )\n",
    "    },\n",
    "    shape=envelopes.no_drive\n",
    ")\n",
    "carrier_parameters = {\n",
    "    'freq': Qty(\n",
    "        value=lo_freq,\n",
    "        min=4.5e9 * 2 * np.pi,\n",
    "        max=6e9 * 2 * np.pi,\n",
    "        unit='Hz 2pi'\n",
    "    ),\n",
    "    'framechange': Qty(\n",
    "        value=0.0,\n",
    "        min= -np.pi,\n",
    "        max= 3 * np.pi,\n",
    "        unit='rad'\n",
    "    )\n",
    "}\n",
    "carr = pulse.Carrier(\n",
    "    name=\"carrier\",\n",
    "    desc=\"Frequency of the local oscillator\",\n",
    "    params=carrier_parameters\n",
    ")\n",
    "\n",
    "X90p = gates.Instruction(\n",
    "    name=\"X90p\",\n",
    "    t_start=0.0,\n",
    "    t_end=t_final,\n",
    "    channels=[\"d1\"]\n",
    ")\n",
    "QId = gates.Instruction(\n",
    "    name=\"Id\",\n",
    "    t_start=0.0,\n",
    "    t_end=t_final,\n",
    "    channels=[\"d1\"]\n",
    ")\n",
    "\n",
    "X90p.add_component(gauss_env_single, \"d1\")\n",
    "X90p.add_component(carr, \"d1\")\n",
    "QId.add_component(nodrive_env, \"d1\")\n",
    "QId.add_component(copy.deepcopy(carr), \"d1\")\n",
    "QId.comps['d1']['carrier'].params['framechange'].set_value(\n",
    "    (-sideband * t_final) % (2*np.pi)\n",
    ")\n",
    "Y90p = copy.deepcopy(X90p)\n",
    "Y90p.name = \"Y90p\"\n",
    "X90m = copy.deepcopy(X90p)\n",
    "X90m.name = \"X90m\"\n",
    "Y90m = copy.deepcopy(X90p)\n",
    "Y90m.name = \"Y90m\"\n",
    "Y90p.comps['d1']['gauss'].params['xy_angle'].set_value(0.5 * np.pi)\n",
    "X90m.comps['d1']['gauss'].params['xy_angle'].set_value(np.pi)\n",
    "Y90m.comps['d1']['gauss'].params['xy_angle'].set_value(1.5 * np.pi)\n",
    "\n",
    "for gate in [QId, X90p, Y90p, X90m, Y90m]:\n",
    "    gateset.add_instruction(gate)\n",
    "\n",
    "# ### MAKE EXPERIMENT\n",
    "exp = Exp(gateset=gateset)"
   ]
  },
  {
   "cell_type": "markdown",
   "metadata": {},
   "source": [
    "As defined above, we have 16 parameters where 4 share their numerical value. This leaves 4 values to optimize."
   ]
  },
  {
   "cell_type": "code",
   "execution_count": 8,
   "metadata": {},
   "outputs": [
    {
     "name": "stdout",
     "output_type": "stream",
     "text": [
      "Y90m-d1-gauss-amp                     : 450.000 mV \n",
      "Y90m-d1-gauss-delta                   : -1.000  \n",
      "Y90m-d1-gauss-freq_offset             : -50.500 MHz 2pi \n",
      "Id-d1-carrier-framechange             : 4.084 rad \n",
      "\n"
     ]
    }
   ],
   "source": [
    "print(exp.gateset.print_parameters(gateset_opt_map))"
   ]
  },
  {
   "cell_type": "markdown",
   "metadata": {},
   "source": [
    "It is important to note that in this example, we are transmitting only these four parameters to the experiment. We don't know how the blackbox will implement the pulse shapes and care has to be taken that the parameters are understood on the other end. Optionally, we could specifiy a virtual AWG within $C^3$ and transmit pixilated pulse shapes directly to the physiscal AWG."
   ]
  },
  {
   "cell_type": "markdown",
   "metadata": {},
   "source": [
    "### Algorithms\n",
    "As an optimization algoritm, we choose [CMA-Es](https://en.wikipedia.org/wiki/CMA-ES) and set up some options specific to this algorithm."
   ]
  },
  {
   "cell_type": "code",
   "execution_count": 9,
   "metadata": {},
   "outputs": [],
   "source": [
    "alg_options = {\n",
    "    \"popsize\" : 10,\n",
    "    \"maxfevals\" : 450,\n",
    "    \"init_point\" : \"True\",\n",
    "    \"tolfun\" : 0.01,\n",
    "    \"spread\" : 0.1\n",
    "  }"
   ]
  },
  {
   "cell_type": "markdown",
   "metadata": {},
   "source": [
    "We define the subspace as both excited states $\\{|1>,|2>\\}$, assuming read-out can distinguish between 0, 1 and 2."
   ]
  },
  {
   "cell_type": "code",
   "execution_count": 10,
   "metadata": {},
   "outputs": [],
   "source": [
    "state_labels = {\n",
    "      \"excited\" : [(1,), (2,)]\n",
    "  }"
   ]
  },
  {
   "cell_type": "markdown",
   "metadata": {},
   "source": [
    "The interface of $C^2$ to the experiment is simple: parameters in $\\rightarrow$ results out. Thus, we have to wrap the blackbox by defining the target states and the `opt_map`."
   ]
  },
  {
   "cell_type": "code",
   "execution_count": 11,
   "metadata": {},
   "outputs": [],
   "source": [
    "def ORBIT_wrapper(p):\n",
    "    return ORBIT(\n",
    "                p, blackbox, gateset_opt_map, state_labels, \"/tmp/c3logs/blackbox\"\n",
    "            )"
   ]
  },
  {
   "cell_type": "markdown",
   "metadata": {},
   "source": [
    "In the real world, this setup needs to be handled in the experiment controller side.\n",
    "We construct the optimizer object with the options we setup:"
   ]
  },
  {
   "cell_type": "code",
   "execution_count": 12,
   "metadata": {},
   "outputs": [],
   "source": [
    "opt = C2(\n",
    "    dir_path='/tmp/c3logs/',\n",
    "    run_name=\"ORBIT_cal\",\n",
    "    eval_func=ORBIT_wrapper,\n",
    "    gateset_opt_map=gateset_opt_map,\n",
    "    algorithm=algorithms.cmaes,\n",
    "    options=alg_options\n",
    ")\n",
    "opt.set_exp(exp)"
   ]
  },
  {
   "cell_type": "markdown",
   "metadata": {},
   "source": [
    "And run the calibration:"
   ]
  },
  {
   "cell_type": "code",
   "execution_count": 13,
   "metadata": {},
   "outputs": [
    {
     "data": {
      "text/plain": [
       "<Figure size 432x288 with 0 Axes>"
      ]
     },
     "metadata": {},
     "output_type": "display_data"
    },
    {
     "data": {
      "image/png": "[encoded data removed]",
      "text/plain": [
       "<Figure size 432x288 with 1 Axes>"
      ]
     },
     "metadata": {
      "needs_background": "light"
     },
     "output_type": "display_data"
    },
    {
     "name": "stdout",
     "output_type": "stream",
     "text": [
      "   46    460 1.557234516198212e-01 7.1e+01 1.47e-02  6e-04  3e-02 30:36.2\n",
      "termination on maxfevals=450\n",
      "final/bestever f-value = 1.557235e-01 1.329754e-01\n",
      "incumbent solution: [-0.40581604993823245, -0.0005859716897853456, -0.020653590731025552, 0.1461736852226334]\n",
      "std deviation: [0.015007549485140903, 0.007691055155016825, 0.0311819805480421, 0.0006222775472235989]\n"
     ]
    },
    {
     "data": {
      "text/plain": [
       "<Figure size 432x288 with 0 Axes>"
      ]
     },
     "metadata": {},
     "output_type": "display_data"
    }
   ],
   "source": [
    "opt.optimize_controls()"
   ]
  }
 ],
 "metadata": {
  "kernelspec": {
   "display_name": "Python 3",
   "language": "python",
   "name": "python3"
  },
  "language_info": {
   "codemirror_mode": {
    "name": "ipython",
    "version": 3
   },
   "file_extension": ".py",
   "mimetype": "text/x-python",
   "name": "python",
   "nbconvert_exporter": "python",
   "pygments_lexer": "ipython3",
   "version": "3.8.6"
  }
 },
 "nbformat": 4,
 "nbformat_minor": 4
}
