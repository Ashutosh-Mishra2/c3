{
 "cells": [
  {
   "cell_type": "markdown",
   "metadata": {},
   "source": [
    "# Simulated calibration with $C^2$\n",
    "\n",
    "Calibration of control pulses is the process of fine-tuning parameters in a feedback-loop with the experiment. We will simulate this process here by constructing a black-box simulation and interacting with it exactly like an experiment.\n",
    "\n",
    "We have manange imports and creation of the black-box the same way as in the previous example in a helper `blackbox_exp.py`."
   ]
  },
  {
   "cell_type": "code",
   "execution_count": 1,
   "metadata": {},
   "outputs": [],
   "source": [
    "from blackbox_exp import create_experiment\n",
    "\n",
    "blackbox = create_experiment()"
   ]
  },
  {
   "cell_type": "markdown",
   "metadata": {},
   "source": [
    "This blackbox is constructed the same way as in the C1 example. The difference will be in how we interact with it. First, we decide on what experiment we want to perform and need to specify it as a python function. A general, minimal example would be\n",
    "\n",
    "`def exp_communication(params):\n",
    "    # Send parameters to experiment controller\n",
    "    # and recieve a measurement result.\n",
    "    return measurement_result\n",
    " `\n",
    "\n",
    "Again, `params` is a linear vector of bare numbers. The measurement result can be a single number or a set of results. It can also include additional information about statistics, like averaging, standard deviation, etc."
   ]
  },
  {
   "cell_type": "markdown",
   "metadata": {},
   "source": [
    "### ORBIT - Single-length randomized benchmarking\n",
    "The following defines an [ORBIT](https://arxiv.org/abs/1403.0035) procedure. In short, we define sequences of gates that result in an identity gate if our individual gates are perfect. Any deviation from identity gives us a measure of the imperfections in our gates. Our helper `qt_utils` provides these sequences for two qubits, labeled \"left\" or \"right\"."
   ]
  },
  {
   "cell_type": "code",
   "execution_count": 2,
   "metadata": {},
   "outputs": [],
   "source": [
    "from c3.utils import qt_utils"
   ]
  },
  {
   "cell_type": "code",
   "execution_count": 3,
   "metadata": {},
   "outputs": [
    {
     "data": {
      "text/plain": [
       "[['X90p:Id',\n",
       "  'Y90m:Id',\n",
       "  'X90p:Id',\n",
       "  'Id:Id',\n",
       "  'Y90m:Id',\n",
       "  'X90p:Id',\n",
       "  'Id:Id',\n",
       "  'Id:Id',\n",
       "  'X90p:Id',\n",
       "  'Y90p:Id',\n",
       "  'Id:Id',\n",
       "  'Id:Id',\n",
       "  'Id:Id',\n",
       "  'Id:Id',\n",
       "  'Id:Id',\n",
       "  'Id:Id',\n",
       "  'X90p:Id',\n",
       "  'Y90p:Id',\n",
       "  'X90p:Id',\n",
       "  'Id:Id']]"
      ]
     },
     "execution_count": 3,
     "metadata": {},
     "output_type": "execute_result"
    }
   ],
   "source": [
    "qt_utils.single_length_RB(\n",
    "            RB_number=1, RB_length=5, padding=\"left\"\n",
    "    )"
   ]
  },
  {
   "cell_type": "markdown",
   "metadata": {},
   "source": [
    "The desired number of 5 gates is selected from a specific set (the Clifford group) and has to be decomposed into the available gate-set. Here, this means 4 gates per Clifford, hence a sequence of 20 gates."
   ]
  },
  {
   "cell_type": "markdown",
   "metadata": {},
   "source": [
    "### Communication with the experiment\n",
    "Some of the following code is specific to the fact that this a *simulated* calibration."
   ]
  },
  {
   "cell_type": "code",
   "execution_count": 4,
   "metadata": {},
   "outputs": [],
   "source": [
    "import itertools\n",
    "import numpy as np\n",
    "import tensorflow as tf\n",
    "\n",
    "def ORBIT(params, exp_right, opt_map, qubit_labels, logdir):\n",
    "    \n",
    "    ### ORBIT meta-parameters ###\n",
    "    RB_length = 100 # How long each sequence is\n",
    "    RB_number = 25  # How many sequences\n",
    "    shots = 1000    # How many averages per readout\n",
    "\n",
    "    ################################\n",
    "    ### Simulation specific part ###\n",
    "    ################################\n",
    "    \n",
    "    do_noise = True  # Whether to add artificial noise to the results\n",
    "    \n",
    "    # Selecting one qubit from the multi-qubit chip #\n",
    "    qubit_label = list(qubit_labels.keys())[0]\n",
    "    if len(qubit_labels.keys()) > 1:\n",
    "        raise Warning(\n",
    "            'C3:WARNING: Can only do one ORBIT at a time.'\n",
    "            f\"Using qubit label {qubit_label}\"\n",
    "        )\n",
    "    state_labels = qubit_labels[qubit_label]\n",
    "    state_label = [tuple(l) for l in state_labels]\n",
    "    \n",
    "    # Creating the RB sequences #\n",
    "    seqs = qt_utils.single_length_RB(\n",
    "            RB_number=RB_number, RB_length=RB_length, padding=qubit_label\n",
    "    )\n",
    "\n",
    "    # Transmitting the parameters to the experiment #\n",
    "    exp_right.gateset.set_parameters(params, opt_map, scaled=False)\n",
    "    exp_right.opt_gates = list(\n",
    "        set(itertools.chain.from_iterable(seqs))\n",
    "    )\n",
    "    \n",
    "    # Simulating the gates #\n",
    "    U_dict = exp_right.get_gates()\n",
    "    \n",
    "    # Running the RB sequences and read-out the results #\n",
    "    exp_right.evaluate(seqs)\n",
    "    pop1s = exp_right.process(labels=state_label)\n",
    "\n",
    "    results = []\n",
    "    results_std = []\n",
    "    shots_nums = []\n",
    "\n",
    "    # Collecting results and statistics, add noise #\n",
    "    if do_noise:\n",
    "        for p1 in pop1s:\n",
    "            draws = tf.keras.backend.random_binomial(\n",
    "                [shots],\n",
    "                p=p1[0],\n",
    "                dtype=tf.float64,\n",
    "            )\n",
    "            results.append([np.mean(draws)])\n",
    "            results_std.append([np.std(draws)/np.sqrt(shots)])\n",
    "            shots_nums.append([shots])\n",
    "    else:\n",
    "        for p1 in pop1s:\n",
    "            results.append(p1.numpy())\n",
    "            results_std.append([0])\n",
    "            shots_nums.append([shots])\n",
    "    \n",
    "    #######################################\n",
    "    ### End of Simulation specific part ###\n",
    "    #######################################\n",
    "    \n",
    "    goal = np.mean(results)\n",
    "    return goal, results, results_std, seqs, shots_nums"
   ]
  },
  {
   "cell_type": "markdown",
   "metadata": {},
   "source": [
    "### Optimization\n",
    "We first import algorithms and the correct optimizer object."
   ]
  },
  {
   "cell_type": "code",
   "execution_count": 5,
   "metadata": {},
   "outputs": [],
   "source": [
    "from c3.libraries import algorithms\n",
    "from c3.optimizers.c2 import C2"
   ]
  },
  {
   "cell_type": "markdown",
   "metadata": {},
   "source": [
    "Next, we define the parameters we whish to calibrate. See how these gate instructions are defined in the experiment setup example. Our gate-set is made up of 4 gates, rotations of 90 degrees around the $x$ and $y$-axis in positive and negative direction. While it is possible to optimize each parameters of each gate individually, in this example all four gates share parameters. They only differ in the phase $\\phi_{xy}$ that is set in the definitions."
   ]
  },
  {
   "cell_type": "code",
   "execution_count": 6,
   "metadata": {},
   "outputs": [],
   "source": [
    "gateset_opt_map =   [\n",
    "    [\n",
    "      (\"X90p:Id\", \"d1\", \"gauss\", \"amp\"),\n",
    "      (\"Y90p:Id\", \"d1\", \"gauss\", \"amp\"),\n",
    "      (\"X90m:Id\", \"d1\", \"gauss\", \"amp\"),\n",
    "      (\"Y90m:Id\", \"d1\", \"gauss\", \"amp\")\n",
    "    ],\n",
    "    [\n",
    "      (\"X90p:Id\", \"d1\", \"gauss\", \"delta\"),\n",
    "      (\"Y90p:Id\", \"d1\", \"gauss\", \"delta\"),\n",
    "      (\"X90m:Id\", \"d1\", \"gauss\", \"delta\"),\n",
    "      (\"Y90m:Id\", \"d1\", \"gauss\", \"delta\")\n",
    "    ],\n",
    "    [\n",
    "      (\"X90p:Id\", \"d1\", \"gauss\", \"freq_offset\"),\n",
    "      (\"Y90p:Id\", \"d1\", \"gauss\", \"freq_offset\"),\n",
    "      (\"X90m:Id\", \"d1\", \"gauss\", \"freq_offset\"),\n",
    "      (\"Y90m:Id\", \"d1\", \"gauss\", \"freq_offset\")\n",
    "    ],\n",
    "    [\n",
    "      (\"Id:Id\", \"d1\", \"carrier\", \"framechange\"),\n",
    "      (\"Id:X90p\", \"d1\", \"carrier\", \"framechange\"),\n",
    "      (\"Id:Y90p\", \"d1\", \"carrier\", \"framechange\"),\n",
    "      (\"Id:X90m\", \"d1\", \"carrier\", \"framechange\"),\n",
    "      (\"Id:Y90m\", \"d1\", \"carrier\", \"framechange\")\n",
    "    ]\n",
    "  ]"
   ]
  },
  {
   "cell_type": "markdown",
   "metadata": {},
   "source": [
    "As defined above, we have 16 parameters where 4 share thier numerical value. This leaves 4 values to optmize."
   ]
  },
  {
   "cell_type": "code",
   "execution_count": 7,
   "metadata": {},
   "outputs": [
    {
     "name": "stdout",
     "output_type": "stream",
     "text": [
      "Y90m:Id-d1-gauss-amp        : 500.000 mV \n",
      "Y90m:Id-d1-gauss-delta      : -1.000  \n",
      "Y90m:Id-d1-gauss-freq_offset: -53.000 MHz 2pi \n",
      "Id:Y90m-d1-carrier-framechange: 4.084 rad \n",
      "\n"
     ]
    }
   ],
   "source": [
    "print(blackbox.gateset.print_parameters(gateset_opt_map))"
   ]
  },
  {
   "cell_type": "markdown",
   "metadata": {},
   "source": [
    "As an optimization algoritm, we choose [CMA-Es](https://en.wikipedia.org/wiki/CMA-ES) and set up some options specific to this algorithm."
   ]
  },
  {
   "cell_type": "code",
   "execution_count": 8,
   "metadata": {},
   "outputs": [],
   "source": [
    "alg_options = {\n",
    "    \"popsize\" : 5,\n",
    "    \"maxfevals\" : 450,\n",
    "    \"init_point\" : \"True\",\n",
    "    \"tolfun\" : 0.01,\n",
    "    \"spread\" : 0.001\n",
    "  }"
   ]
  },
  {
   "cell_type": "markdown",
   "metadata": {},
   "source": [
    "The interface of $C^2$ to the experiment is simple: parameters in -> results out. Thus, we have to wrap the blackbox by defining the target qubit and the `opt_map`."
   ]
  },
  {
   "cell_type": "code",
   "execution_count": 9,
   "metadata": {},
   "outputs": [],
   "source": [
    "state_labels = {\n",
    "      \"left\" : [[1, 0], [1, 1]]\n",
    "  }"
   ]
  },
  {
   "cell_type": "code",
   "execution_count": 10,
   "metadata": {},
   "outputs": [],
   "source": [
    "def ORBIT_wrapper(p):\n",
    "    return ORBIT(\n",
    "                p, blackbox, gateset_opt_map, state_labels, \"/tmp/c3logs/blackbox\"\n",
    "            )"
   ]
  },
  {
   "cell_type": "markdown",
   "metadata": {},
   "source": [
    "In the real world, this setup needs to be handled in the experiment controller side."
   ]
  },
  {
   "cell_type": "code",
   "execution_count": 11,
   "metadata": {},
   "outputs": [],
   "source": [
    "opt = C2(\n",
    "    dir_path='/tmp/c3logs/',\n",
    "    run_name=\"ORBIT_cal\",\n",
    "    eval_func=ORBIT_wrapper,\n",
    "    gateset_opt_map=gateset_opt_map,\n",
    "    algorithm=algorithms.cmaes,\n",
    "    options=alg_options\n",
    ")\n",
    "opt.set_exp(blackbox)"
   ]
  },
  {
   "cell_type": "code",
   "execution_count": 12,
   "metadata": {},
   "outputs": [
    {
     "data": {
      "text/plain": [
       "<Figure size 432x288 with 0 Axes>"
      ]
     },
     "metadata": {},
     "output_type": "display_data"
    },
    {
     "data": {
      "image/png": "[encoded data removed]",
      "text/plain": [
       "<Figure size 432x288 with 1 Axes>"
      ]
     },
     "metadata": {
      "needs_background": "light"
     },
     "output_type": "display_data"
    },
    {
     "data": {
      "text/plain": [
       "<Figure size 432x288 with 0 Axes>"
      ]
     },
     "metadata": {},
     "output_type": "display_data"
    }
   ],
   "source": [
    "opt.optimize_controls()"
   ]
  }
 ],
 "metadata": {
  "kernelspec": {
   "display_name": "Python 3",
   "language": "python",
   "name": "python3"
  },
  "language_info": {
   "codemirror_mode": {
    "name": "ipython",
    "version": 3
   },
   "file_extension": ".py",
   "mimetype": "text/x-python",
   "name": "python",
   "nbconvert_exporter": "python",
   "pygments_lexer": "ipython3",
   "version": "3.8.2"
  }
 },
 "nbformat": 4,
 "nbformat_minor": 4
}
