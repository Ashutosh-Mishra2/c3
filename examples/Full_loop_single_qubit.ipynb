{
 "cells": [
  {
   "cell_type": "code",
   "execution_count": 2,
   "metadata": {},
   "outputs": [],
   "source": [
    "import copy\n",
    "import numpy as np\n",
    "from c3.model import Model\n",
    "from c3.c3objs import Quantity\n",
    "from c3.parametermap import ParameterMap\n",
    "from c3.experiment import Experiment\n",
    "from c3.generator.generator import Generator\n",
    "from c3.signal import gates, pulse\n",
    "from c3.generator import devices\n",
    "from c3.libraries import chip, hamiltonians, envelopes"
   ]
  },
  {
   "cell_type": "markdown",
   "metadata": {},
   "source": [
    "# Optimal Control"
   ]
  },
  {
   "cell_type": "code",
   "execution_count": 3,
   "metadata": {},
   "outputs": [
    {
     "name": "stderr",
     "output_type": "stream",
     "text": [
      "2022-04-29 12:34:19.916527: I tensorflow/stream_executor/platform/default/dso_loader.cc:53] Successfully opened dynamic library libcuda.so.1\n",
      "2022-04-29 12:34:24.168520: E tensorflow/stream_executor/cuda/cuda_driver.cc:328] failed call to cuInit: CUDA_ERROR_NO_DEVICE: no CUDA-capable device is detected\n",
      "2022-04-29 12:34:24.168604: I tensorflow/stream_executor/cuda/cuda_diagnostics.cc:156] kernel driver does not appear to be running on this host (pop-os): /proc/driver/nvidia/version does not exist\n",
      "2022-04-29 12:34:24.271824: I tensorflow/core/platform/cpu_feature_guard.cc:142] This TensorFlow binary is optimized with oneAPI Deep Neural Network Library (oneDNN) to use the following CPU instructions in performance-critical operations:  AVX2 FMA\n",
      "To enable them in other operations, rebuild TensorFlow with the appropriate compiler flags.\n"
     ]
    }
   ],
   "source": [
    "dressed = True\n",
    "qubit_lvls = 3\n",
    "freq = 5e9\n",
    "anhar = -210e6\n",
    "init_temp = 0\n",
    "qubit_temp = 0\n",
    "t_final = 7e-9  # Time for single qubit gates\n",
    "sim_res = 100e9\n",
    "awg_res = 2e9\n",
    "sideband = 50e6\n",
    "lo_freq = 5e9 + sideband\n",
    "\n",
    "# ### MAKE MODEL\n",
    "q1 = chip.Qubit(\n",
    "    name=\"Q1\",\n",
    "    desc=\"Qubit 1\",\n",
    "    freq=Quantity(\n",
    "        value=freq,\n",
    "        min_val=4.995e9,\n",
    "        max_val=5.005e9,\n",
    "        unit=\"Hz 2pi\",\n",
    "    ),\n",
    "    anhar=Quantity(\n",
    "        value=anhar,\n",
    "        min_val=-380e6,\n",
    "        max_val=-120e6,\n",
    "        unit=\"Hz 2pi\",\n",
    "    ),\n",
    "    hilbert_dim=qubit_lvls,\n",
    "    temp=Quantity(value=qubit_temp, min_val=0.0, max_val=0.12, unit=\"K\"),\n",
    ")\n",
    "\n",
    "drive = chip.Drive(\n",
    "    name=\"d1\",\n",
    "    desc=\"Drive 1\",\n",
    "    comment=\"Drive line 1 on qubit 1\",\n",
    "    connected=[\"Q1\"],\n",
    "    hamiltonian_func=hamiltonians.x_drive,\n",
    ")\n",
    "phys_components = [q1]\n",
    "line_components = [drive]\n",
    "\n",
    "model = Model(phys_components, line_components)\n",
    "model.set_dressed(dressed)"
   ]
  },
  {
   "cell_type": "code",
   "execution_count": 4,
   "metadata": {},
   "outputs": [],
   "source": [
    "generator = Generator(\n",
    "    devices={\n",
    "        \"LO\": devices.LO(name=\"lo\", resolution=sim_res, outputs=1),\n",
    "        \"AWG\": devices.AWG(name=\"awg\", resolution=awg_res, outputs=1),\n",
    "        \"DigitalToAnalog\": devices.DigitalToAnalog(\n",
    "            name=\"dac\", resolution=sim_res, inputs=1, outputs=1\n",
    "        ),\n",
    "        \"Mixer\": devices.Mixer(name=\"mixer\", inputs=2, outputs=1),\n",
    "        \"VoltsToHertz\": devices.VoltsToHertz(\n",
    "            name=\"v_to_hz\",\n",
    "            V_to_Hz=Quantity(value=1e9, min_val=0.9e9, max_val=1.1e9, unit=\"Hz/V\"),\n",
    "            inputs=1,\n",
    "            outputs=1,\n",
    "        ),\n",
    "    },\n",
    "    chains={\n",
    "        \"d1\": {\n",
    "            \"LO\": [],\n",
    "            \"AWG\": [],\n",
    "            \"DigitalToAnalog\": [\"AWG\"],\n",
    "            \"Mixer\": [\"LO\", \"DigitalToAnalog\"],\n",
    "            \"VoltsToHertz\": [\"Mixer\"],\n",
    "        }\n",
    "    },\n",
    ")\n",
    "generator.devices[\"AWG\"].enable_drag_2()"
   ]
  },
  {
   "cell_type": "code",
   "execution_count": 5,
   "metadata": {},
   "outputs": [],
   "source": [
    "gauss_params_single = {\n",
    "    \"amp\": Quantity(value=0.45, min_val=0.35, max_val=0.5, unit=\"V\"),\n",
    "    \"t_final\": Quantity(\n",
    "        value=t_final, min_val=0.5 * t_final, max_val=1.5 * t_final, unit=\"s\"\n",
    "    ),\n",
    "    \"sigma\": Quantity(\n",
    "        value=t_final / 4, min_val=t_final / 8, max_val=t_final / 2, unit=\"s\"\n",
    "    ),\n",
    "    \"xy_angle\": Quantity(\n",
    "        value=0.0, min_val=-0.5 * np.pi, max_val=2.5 * np.pi, unit=\"rad\"\n",
    "    ),\n",
    "    \"freq_offset\": Quantity(\n",
    "        value=-sideband - 0.5e6,\n",
    "        min_val=-60 * 1e6,\n",
    "        max_val=-40 * 1e6,\n",
    "        unit=\"Hz 2pi\",\n",
    "    ),\n",
    "    \"delta\": Quantity(value=-1, min_val=-5, max_val=3, unit=\"\"),\n",
    "}\n",
    "\n",
    "gauss_env_single = pulse.Envelope(\n",
    "    name=\"gauss\",\n",
    "    desc=\"Gaussian comp for single-qubit gates\",\n",
    "    params=gauss_params_single,\n",
    "    shape=envelopes.gaussian_nonorm,\n",
    ")\n",
    "nodrive_env = pulse.Envelope(\n",
    "    name=\"no_drive\",\n",
    "    params={\n",
    "        \"t_final\": Quantity(\n",
    "            value=t_final, min_val=0.5 * t_final, max_val=1.5 * t_final, unit=\"s\"\n",
    "        )\n",
    "    },\n",
    "    shape=envelopes.no_drive,\n",
    ")\n",
    "carrier_parameters = {\n",
    "    \"freq\": Quantity(\n",
    "        value=lo_freq,\n",
    "        min_val=4.5e9,\n",
    "        max_val=6e9,\n",
    "        unit=\"Hz 2pi\",\n",
    "    ),\n",
    "    \"framechange\": Quantity(value=0.0, min_val=-np.pi, max_val=3 * np.pi, unit=\"rad\"),\n",
    "}\n",
    "carr = pulse.Carrier(\n",
    "    name=\"carrier\",\n",
    "    desc=\"Frequency of the local oscillator\",\n",
    "    params=carrier_parameters,\n",
    ")\n",
    "\n",
    "rx90p = gates.Instruction(\n",
    "    name=\"rx90p\", t_start=0.0, t_end=t_final, channels=[\"d1\"], targets=[0]\n",
    ")\n",
    "QId = gates.Instruction(\n",
    "    name=\"id\", t_start=0.0, t_end=t_final, channels=[\"d1\"], targets=[0]\n",
    ")\n",
    "\n",
    "rx90p.add_component(gauss_env_single, \"d1\")\n",
    "rx90p.add_component(carr, \"d1\")\n",
    "QId.add_component(nodrive_env, \"d1\")\n",
    "QId.add_component(copy.deepcopy(carr), \"d1\")\n",
    "QId.comps[\"d1\"][\"carrier\"].params[\"framechange\"].set_value(\n",
    "    (-sideband * t_final) % (2 * np.pi)\n",
    ")\n",
    "ry90p = copy.deepcopy(rx90p)\n",
    "ry90p.name = \"ry90p\"\n",
    "rx90m = copy.deepcopy(rx90p)\n",
    "rx90m.name = \"rx90m\"\n",
    "ry90m = copy.deepcopy(rx90p)\n",
    "ry90m.name = \"ry90m\"\n",
    "ry90p.comps[\"d1\"][\"gauss\"].params[\"xy_angle\"].set_value(0.5 * np.pi)\n",
    "rx90m.comps[\"d1\"][\"gauss\"].params[\"xy_angle\"].set_value(np.pi)\n",
    "ry90m.comps[\"d1\"][\"gauss\"].params[\"xy_angle\"].set_value(1.5 * np.pi)\n",
    "\n",
    "parameter_map = ParameterMap(\n",
    "    instructions=[QId, rx90p, ry90p, rx90m, ry90m], model=model, generator=generator\n",
    ")\n",
    "\n",
    "# ### MAKE EXPERIMENT\n",
    "simulation = Experiment(pmap=parameter_map)"
   ]
  },
  {
   "cell_type": "code",
   "execution_count": 6,
   "metadata": {},
   "outputs": [],
   "source": [
    "gateset_opt_map =   [\n",
    "    [\n",
    "      (\"rx90p[0]\", \"d1\", \"gauss\", \"amp\"),\n",
    "      (\"ry90p[0]\", \"d1\", \"gauss\", \"amp\"),\n",
    "      (\"rx90m[0]\", \"d1\", \"gauss\", \"amp\"),\n",
    "      (\"ry90m[0]\", \"d1\", \"gauss\", \"amp\")\n",
    "    ],\n",
    "    [\n",
    "      (\"rx90p[0]\", \"d1\", \"gauss\", \"delta\"),\n",
    "      (\"ry90p[0]\", \"d1\", \"gauss\", \"delta\"),\n",
    "      (\"rx90m[0]\", \"d1\", \"gauss\", \"delta\"),\n",
    "      (\"ry90m[0]\", \"d1\", \"gauss\", \"delta\")\n",
    "    ],\n",
    "    [\n",
    "      (\"rx90p[0]\", \"d1\", \"gauss\", \"freq_offset\"),\n",
    "      (\"ry90p[0]\", \"d1\", \"gauss\", \"freq_offset\"),\n",
    "      (\"rx90m[0]\", \"d1\", \"gauss\", \"freq_offset\"),\n",
    "      (\"ry90m[0]\", \"d1\", \"gauss\", \"freq_offset\")\n",
    "    ],\n",
    "    [\n",
    "      (\"rx90p[0]\", \"d1\", \"carrier\", \"framechange\"),\n",
    "      (\"ry90p[0]\", \"d1\", \"carrier\", \"framechange\"),\n",
    "      (\"rx90m[0]\", \"d1\", \"carrier\", \"framechange\"),\n",
    "      (\"ry90m[0]\", \"d1\", \"carrier\", \"framechange\")\n",
    "    ]\n",
    "  ]\n",
    "\n",
    "parameter_map.set_opt_map(gateset_opt_map)"
   ]
  },
  {
   "cell_type": "code",
   "execution_count": 7,
   "metadata": {},
   "outputs": [
    {
     "name": "stdout",
     "output_type": "stream",
     "text": [
      "rx90p[0]-d1-gauss-amp                 : 450.000 mV \n",
      "ry90p[0]-d1-gauss-amp\n",
      "rx90m[0]-d1-gauss-amp\n",
      "ry90m[0]-d1-gauss-amp\n",
      "\n",
      "rx90p[0]-d1-gauss-delta               : -1.000  \n",
      "ry90p[0]-d1-gauss-delta\n",
      "rx90m[0]-d1-gauss-delta\n",
      "ry90m[0]-d1-gauss-delta\n",
      "\n",
      "rx90p[0]-d1-gauss-freq_offset         : -50.500 MHz 2pi \n",
      "ry90p[0]-d1-gauss-freq_offset\n",
      "rx90m[0]-d1-gauss-freq_offset\n",
      "ry90m[0]-d1-gauss-freq_offset\n",
      "\n",
      "rx90p[0]-d1-carrier-framechange       : 0.000 rad \n",
      "ry90p[0]-d1-carrier-framechange\n",
      "rx90m[0]-d1-carrier-framechange\n",
      "ry90m[0]-d1-carrier-framechange\n",
      "\n",
      "\n"
     ]
    }
   ],
   "source": [
    "parameter_map.print_parameters()"
   ]
  },
  {
   "cell_type": "markdown",
   "metadata": {},
   "source": [
    "### Dynamics\n",
    "\n",
    "To investigate dynamics, we define the ground state as an initial state."
   ]
  },
  {
   "cell_type": "code",
   "execution_count": 8,
   "metadata": {},
   "outputs": [],
   "source": [
    "import tensorflow as tf"
   ]
  },
  {
   "cell_type": "code",
   "execution_count": 9,
   "metadata": {},
   "outputs": [],
   "source": [
    "psi_init = [[0] * 3]\n",
    "psi_init[0][0] = 1\n",
    "init_state = tf.transpose(tf.constant(psi_init, tf.complex128))"
   ]
  },
  {
   "cell_type": "code",
   "execution_count": 10,
   "metadata": {},
   "outputs": [
    {
     "data": {
      "text/plain": [
       "<tf.Tensor: shape=(3, 1), dtype=complex128, numpy=\n",
       "array([[1.+0.j],\n",
       "       [0.+0.j],\n",
       "       [0.+0.j]])>"
      ]
     },
     "execution_count": 10,
     "metadata": {},
     "output_type": "execute_result"
    }
   ],
   "source": [
    "init_state"
   ]
  },
  {
   "cell_type": "markdown",
   "metadata": {},
   "source": [
    "Since we stored the process matrices, we can now relatively inexpesively evaluate sequences. We start with just one gate"
   ]
  },
  {
   "cell_type": "code",
   "execution_count": 11,
   "metadata": {},
   "outputs": [],
   "source": [
    "barely_a_seq = ['rx90p[0]']"
   ]
  },
  {
   "cell_type": "markdown",
   "metadata": {},
   "source": [
    "and plot system dynamics."
   ]
  },
  {
   "cell_type": "code",
   "execution_count": 12,
   "metadata": {},
   "outputs": [],
   "source": [
    "import matplotlib.pyplot as plt\n",
    "\n",
    "def plot_dynamics(exp, psi_init, seq, goal=-1):\n",
    "        \"\"\"\n",
    "        Plotting code for time-resolved populations.\n",
    "\n",
    "        Parameters\n",
    "        ----------\n",
    "        psi_init: tf.Tensor\n",
    "            Initial state or density matrix.\n",
    "        seq: list\n",
    "            List of operations to apply to the initial state.\n",
    "        goal: tf.float64\n",
    "            Value of the goal function, if used.\n",
    "        debug: boolean\n",
    "            If true, return a matplotlib figure instead of saving.\n",
    "        \"\"\"\n",
    "        model = exp.pmap.model\n",
    "        dUs = exp.partial_propagators\n",
    "        psi_t = psi_init.numpy()\n",
    "        pop_t = exp.populations(psi_t, model.lindbladian)\n",
    "        for gate in seq:\n",
    "            for du in dUs[gate]:\n",
    "                psi_t = np.matmul(du.numpy(), psi_t)\n",
    "                pops = exp.populations(psi_t, model.lindbladian)\n",
    "                pop_t = np.append(pop_t, pops, axis=1)\n",
    "\n",
    "        fig, axs = plt.subplots(1, 1)\n",
    "        ts = exp.ts\n",
    "        dt = ts[1] - ts[0]\n",
    "        ts = np.linspace(0.0, dt*pop_t.shape[1], pop_t.shape[1])\n",
    "        axs.plot(ts / 1e-9, pop_t.T)\n",
    "        axs.grid(linestyle=\"--\")\n",
    "        axs.tick_params(\n",
    "            direction=\"in\", left=True, right=True, top=True, bottom=True\n",
    "        )\n",
    "        axs.set_xlabel('Time [ns]')\n",
    "        axs.set_ylabel('Population')\n",
    "        plt.legend(model.state_labels)\n",
    "        pass"
   ]
  },
  {
   "cell_type": "code",
   "execution_count": 13,
   "metadata": {},
   "outputs": [
    {
     "data": {
      "text/plain": [
       "{'rx90p[0]': <tf.Tensor: shape=(3, 3), dtype=complex128, numpy=\n",
       " array([[ 0.588-0.083j, -0.102-0.798j,  0.032-0.015j],\n",
       "        [-0.102-0.797j,  0.59 -0.066j,  0.023-0.018j],\n",
       "        [ 0.031-0.015j,  0.023-0.018j, -0.999+0.002j]])>}"
      ]
     },
     "execution_count": 13,
     "metadata": {},
     "output_type": "execute_result"
    }
   ],
   "source": [
    "simulation.set_opt_gates(\"rx90p[0]\")\n",
    "simulation.compute_propagators()"
   ]
  },
  {
   "cell_type": "code",
   "execution_count": 14,
   "metadata": {},
   "outputs": [
    {
     "data": {
      "image/png": "[encoded data removed]",
      "text/plain": [
       "<Figure size 432x288 with 1 Axes>"
      ]
     },
     "metadata": {
      "needs_background": "light"
     },
     "output_type": "display_data"
    }
   ],
   "source": [
    "plot_dynamics(simulation, init_state, barely_a_seq)"
   ]
  },
  {
   "cell_type": "code",
   "execution_count": 15,
   "metadata": {},
   "outputs": [],
   "source": [
    "import os\n",
    "import tempfile\n",
    "from c3.optimizers.optimalcontrol import OptimalControl\n",
    "from c3.libraries.fidelities import unitary_infid_set\n",
    "from c3.libraries.algorithms import lbfgs\n",
    "\n",
    "# Create a temporary directory to store logfiles, modify as needed\n",
    "log_dir = os.path.join(tempfile.TemporaryDirectory().name, \"c3logs\")\n",
    "\n",
    "opt = OptimalControl(\n",
    "    dir_path=log_dir,\n",
    "    fid_func=unitary_infid_set,\n",
    "    fid_subspace=[\"Q1\"],\n",
    "    pmap=parameter_map,\n",
    "    algorithm=lbfgs,\n",
    "    options={\"maxfun\" : 150},\n",
    "    run_name=\"better_X90\"\n",
    ")\n",
    "opt.set_exp(simulation)"
   ]
  },
  {
   "cell_type": "code",
   "execution_count": 16,
   "metadata": {},
   "outputs": [
    {
     "name": "stdout",
     "output_type": "stream",
     "text": [
      "C3:STATUS:Saving as: /tmp/tmp2dodlska/c3logs/better_X90/2022_04_29_T_12_34_37/open_loop.c3log\n"
     ]
    },
    {
     "name": "stderr",
     "output_type": "stream",
     "text": [
      "2022-04-29 12:34:44.446842: I tensorflow/compiler/mlir/mlir_graph_optimization_pass.cc:176] None of the MLIR Optimization Passes are enabled (registered 2)\n",
      "2022-04-29 12:34:44.627659: I tensorflow/core/platform/profile_utils/cpu_utils.cc:114] CPU Frequency: 2199995000 Hz\n"
     ]
    }
   ],
   "source": [
    "opt.optimize_controls()"
   ]
  },
  {
   "cell_type": "code",
   "execution_count": 17,
   "metadata": {},
   "outputs": [
    {
     "data": {
      "image/png": "[encoded data removed]",
      "text/plain": [
       "<Figure size 432x288 with 1 Axes>"
      ]
     },
     "metadata": {
      "needs_background": "light"
     },
     "output_type": "display_data"
    }
   ],
   "source": [
    "simulation.compute_propagators()\n",
    "plot_dynamics(simulation, init_state, barely_a_seq)"
   ]
  },
  {
   "cell_type": "code",
   "execution_count": 18,
   "metadata": {},
   "outputs": [
    {
     "data": {
      "text/plain": [
       "0.000643"
      ]
     },
     "execution_count": 18,
     "metadata": {},
     "output_type": "execute_result"
    }
   ],
   "source": [
    "opt.current_best_goal"
   ]
  },
  {
   "cell_type": "code",
   "execution_count": 19,
   "metadata": {},
   "outputs": [
    {
     "name": "stdout",
     "output_type": "stream",
     "text": [
      "rx90p[0]-d1-gauss-amp                 : 376.655 mV \n",
      "ry90p[0]-d1-gauss-amp\n",
      "rx90m[0]-d1-gauss-amp\n",
      "ry90m[0]-d1-gauss-amp\n",
      "\n",
      "rx90p[0]-d1-gauss-delta               : -954.644 m \n",
      "ry90p[0]-d1-gauss-delta\n",
      "rx90m[0]-d1-gauss-delta\n",
      "ry90m[0]-d1-gauss-delta\n",
      "\n",
      "rx90p[0]-d1-gauss-freq_offset         : -50.333 MHz 2pi \n",
      "ry90p[0]-d1-gauss-freq_offset\n",
      "rx90m[0]-d1-gauss-freq_offset\n",
      "ry90m[0]-d1-gauss-freq_offset\n",
      "\n",
      "rx90p[0]-d1-carrier-framechange       : -1.479 mrad \n",
      "ry90p[0]-d1-carrier-framechange\n",
      "rx90m[0]-d1-carrier-framechange\n",
      "ry90m[0]-d1-carrier-framechange\n",
      "\n",
      "\n"
     ]
    }
   ],
   "source": [
    "parameter_map.print_parameters()"
   ]
  },
  {
   "cell_type": "markdown",
   "metadata": {},
   "source": [
    "# Simulated calibration\n",
    "\n",
    "Calibration of control pulses is the process of fine-tuning parameters in a feedback-loop with the experiment. We will simulate this process here by constructing a black-box simulation and interacting with it exactly like an experiment.\n",
    "\n",
    "We have manange imports and creation of the black-box the same way as in the previous example in a helper `single_qubit_blackbox_exp.py`."
   ]
  },
  {
   "cell_type": "code",
   "execution_count": 20,
   "metadata": {},
   "outputs": [],
   "source": [
    "from single_qubit_experiment import create_experiment\n",
    "\n",
    "blackbox = create_experiment()"
   ]
  },
  {
   "cell_type": "markdown",
   "metadata": {},
   "source": [
    "This blackbox is constructed the same way as in the C1 example. The difference will be in how we interact with it. First, we decide on what experiment we want to perform and need to specify it as a python function. A general, minimal example would be\n",
    "\n",
    "```\n",
    "def exp_communication(params):\n",
    "    # Send parameters to experiment controller\n",
    "    # and recieve a measurement result.\n",
    "    return measurement_result\n",
    " ```\n",
    "\n",
    "Again, `params` is a linear vector of bare numbers. The measurement result can be a single number or a set of results. It can also include additional information about statistics, like averaging, standard deviation, etc."
   ]
  },
  {
   "cell_type": "markdown",
   "metadata": {},
   "source": [
    "### ORBIT - Single-length randomized benchmarking\n",
    "The following defines an [ORBIT](https://arxiv.org/abs/1403.0035) procedure. In short, we define sequences of gates that result in an identity gate if our individual gates are perfect. Any deviation from identity gives us a measure of the imperfections in our gates. Our helper `qt_utils` provides these sequences."
   ]
  },
  {
   "cell_type": "code",
   "execution_count": 21,
   "metadata": {},
   "outputs": [],
   "source": [
    "from c3.utils import qt_utils"
   ]
  },
  {
   "cell_type": "code",
   "execution_count": 22,
   "metadata": {},
   "outputs": [
    {
     "data": {
      "text/plain": [
       "[['ry90p[0]',\n",
       "  'rx90p[0]',\n",
       "  'ry90p[0]',\n",
       "  'rx90p[0]',\n",
       "  'ry90p[0]',\n",
       "  'rx90p[0]',\n",
       "  'rx90p[0]',\n",
       "  'ry90p[0]',\n",
       "  'ry90p[0]',\n",
       "  'rx90p[0]',\n",
       "  'ry90p[0]',\n",
       "  'ry90p[0]']]"
      ]
     },
     "execution_count": 22,
     "metadata": {},
     "output_type": "execute_result"
    }
   ],
   "source": [
    "qt_utils.single_length_RB(\n",
    "            RB_number=1, RB_length=5, target=0\n",
    "    )"
   ]
  },
  {
   "cell_type": "markdown",
   "metadata": {},
   "source": [
    "The desired number of 5 gates is selected from a specific set (the Clifford group) and has to be decomposed into the available gate-set. Here, this means 4 gates per Clifford, hence a sequence of 20 gates."
   ]
  },
  {
   "cell_type": "markdown",
   "metadata": {},
   "source": [
    "### Communication with the experiment\n",
    "Some of the following code is specific to the fact that this a *simulated* calibration. The interface of $C^2$ to the experiment is simple: parameters in $\\rightarrow$ results out. Thus, we have to wrap the blackbox by defining the target states and the `opt_map`."
   ]
  },
  {
   "cell_type": "code",
   "execution_count": 23,
   "metadata": {},
   "outputs": [],
   "source": [
    "import numpy as np\n",
    "import tensorflow as tf\n",
    "\n",
    "def ORBIT_wrapper(p):\n",
    "    def ORBIT(params, exp, opt_map, qubit_labels, logdir):    \n",
    "        ### ORBIT meta-parameters ###\n",
    "        RB_length = 60 # How long each sequence is\n",
    "        RB_number = 40  # How many sequences\n",
    "        shots = 1000    # How many averages per readout\n",
    "\n",
    "        ################################\n",
    "        ### Simulation specific part ###\n",
    "        ################################\n",
    "\n",
    "        do_noise = False  # Whether to add artificial noise to the results\n",
    "\n",
    "        qubit_label = list(qubit_labels.keys())[0]\n",
    "        state_labels = qubit_labels[qubit_label]\n",
    "        state_label = [tuple(l) for l in state_labels]\n",
    "\n",
    "        # Creating the RB sequences #\n",
    "        seqs = qt_utils.single_length_RB(\n",
    "                RB_number=RB_number, RB_length=RB_length, target=0\n",
    "        )\n",
    "\n",
    "        # Transmitting the parameters to the experiment #\n",
    "        exp.pmap.set_parameters(params, opt_map)\n",
    "        exp.set_opt_gates_seq(seqs)\n",
    "\n",
    "        # Simulating the gates #\n",
    "        U_dict = exp.compute_propagators()\n",
    "\n",
    "        # Running the RB sequences and read-out the results #\n",
    "        pops = exp.evaluate(seqs, init_state)\n",
    "        pop1s, _ = exp.process(pops, labels=state_label)\n",
    "\n",
    "        results = []\n",
    "        results_std = []\n",
    "        shots_nums = []\n",
    "\n",
    "        # Collecting results and statistics, add noise #\n",
    "        if do_noise:\n",
    "            for p1 in pop1s:\n",
    "                draws = tf.keras.backend.random_binomial(\n",
    "                    [shots],\n",
    "                    p=p1[0],\n",
    "                    dtype=tf.float64,\n",
    "                )\n",
    "                results.append([np.mean(draws)])\n",
    "                results_std.append([np.std(draws)/np.sqrt(shots)])\n",
    "                shots_nums.append([shots])\n",
    "        else:\n",
    "            for p1 in pop1s:\n",
    "                results.append(p1.numpy())\n",
    "                results_std.append([0])\n",
    "                shots_nums.append([shots])\n",
    "\n",
    "        #######################################\n",
    "        ### End of Simulation specific part ###\n",
    "        #######################################\n",
    "\n",
    "        goal = np.mean(results)\n",
    "        return goal, results, results_std, seqs, shots_nums\n",
    "    return ORBIT(\n",
    "                p, blackbox, gateset_opt_map, state_labels, \"/tmp/c3logs/blackbox\"\n",
    "            )"
   ]
  },
  {
   "cell_type": "markdown",
   "metadata": {},
   "source": [
    "### Optimization\n",
    "We first import algorithms and the correct optimizer object."
   ]
  },
  {
   "cell_type": "code",
   "execution_count": 24,
   "metadata": {},
   "outputs": [],
   "source": [
    "from c3.libraries.algorithms import cmaes\n",
    "from c3.optimizers.calibration import Calibration"
   ]
  },
  {
   "cell_type": "markdown",
   "metadata": {},
   "source": [
    "### Representation of the experiment within $C^3$\n",
    "At this point we have to make sure that the gates (\"RX90p\", etc.) and drive line (\"d1\") are compatible to the experiment controller operating the blackbox. We mirror the blackbox by creating an experiment in the $C^3$ context:"
   ]
  },
  {
   "cell_type": "markdown",
   "metadata": {},
   "source": [
    "It is important to note that in this example, we are transmitting only these four parameters to the experiment. We don't know how the blackbox will implement the pulse shapes and care has to be taken that the parameters are understood on the other end. Optionally, we could specifiy a virtual AWG within $C^3$ and transmit pixilated pulse shapes directly to the physiscal AWG."
   ]
  },
  {
   "cell_type": "markdown",
   "metadata": {},
   "source": [
    "### Algorithms\n",
    "As an optimization algoritm, we choose [CMA-Es](https://en.wikipedia.org/wiki/CMA-ES) and set up some options specific to this algorithm."
   ]
  },
  {
   "cell_type": "markdown",
   "metadata": {},
   "source": [
    "#### Maximum Evaluations\n",
    "We set the maximum number of evaluations to 30 for quick demonstration. Ideally around 250 function evaluations are useful for a good optimization. See [docs](https://c3-toolset.readthedocs.io/en/latest/Simulated_calibration.html#analysis) for a longer run."
   ]
  },
  {
   "cell_type": "code",
   "execution_count": 25,
   "metadata": {},
   "outputs": [],
   "source": [
    "alg_options = {\n",
    "    \"popsize\" : 10,\n",
    "    \"maxfevals\" : 300,\n",
    "    \"init_point\" : \"True\",\n",
    "    \"tolfun\" : 0.01,\n",
    "    \"spread\" : 0.1\n",
    "  }"
   ]
  },
  {
   "cell_type": "markdown",
   "metadata": {},
   "source": [
    "We define the subspace as both excited states $\\{|1>,|2>\\}$, assuming read-out can distinguish between 0, 1 and 2."
   ]
  },
  {
   "cell_type": "code",
   "execution_count": 26,
   "metadata": {},
   "outputs": [],
   "source": [
    "state_labels = {\n",
    "      \"excited\" : [(1,), (2,)]\n",
    "  }"
   ]
  },
  {
   "cell_type": "markdown",
   "metadata": {},
   "source": [
    "In the real world, this setup needs to be handled in the experiment controller side.\n",
    "We construct the optimizer object with the options we setup:"
   ]
  },
  {
   "cell_type": "code",
   "execution_count": 27,
   "metadata": {},
   "outputs": [],
   "source": [
    "# Create a temporary directory to store logfiles, modify as needed\n",
    "log_dir = \"c3example_calibration\"\n",
    "\n",
    "opt = Calibration(\n",
    "    dir_path=log_dir,\n",
    "    run_name=\"ORBIT_cal\",\n",
    "    eval_func=ORBIT_wrapper,\n",
    "    pmap=parameter_map,\n",
    "    exp_right=simulation,\n",
    "    algorithm=cmaes,\n",
    "    options=alg_options\n",
    ")"
   ]
  },
  {
   "cell_type": "markdown",
   "metadata": {},
   "source": [
    "And run the calibration:"
   ]
  },
  {
   "cell_type": "code",
   "execution_count": 28,
   "metadata": {},
   "outputs": [],
   "source": [
    "x = parameter_map.get_parameters_scaled()"
   ]
  },
  {
   "cell_type": "code",
   "execution_count": 29,
   "metadata": {},
   "outputs": [
    {
     "name": "stdout",
     "output_type": "stream",
     "text": [
      "C3:STATUS:Saving as: /home/nico/remote_repos/c3/examples/c3example_calibration/ORBIT_cal/2022_04_29_T_12_35_06/calibration.log\n",
      "(5_w,10)-aCMA-ES (mu_w=3.2,w_1=45%) in dimension 4 (seed=325010, Fri Apr 29 12:35:06 2022)\n",
      "C3:STATUS:Adding initial point to CMA sample.\n"
     ]
    },
    {
     "name": "stderr",
     "output_type": "stream",
     "text": [
      "/home/nico/.local/lib/python3.8/site-packages/cma/utilities/utils.py:343: UserWarning: input x0 should be a list or 1-D array, trying to flatten (4, 1)-array ()\n",
      "  warnings.warn(msg + ' (' +\n"
     ]
    },
    {
     "name": "stdout",
     "output_type": "stream",
     "text": [
      "Iterat #Fevals   function value  axis ratio  sigma  min&max std  t[m:s]\n",
      "    1     10 1.504368584616456e-01 1.0e+00 1.08e-01  1e-01  1e-01 0:03.2\n",
      "    2     20 1.143629778325461e-01 1.4e+00 1.06e-01  9e-02  1e-01 0:06.0\n",
      "    3     30 1.966619488318129e-01 1.8e+00 1.06e-01  8e-02  2e-01 0:08.4\n",
      "    4     40 2.250320795343961e-01 2.1e+00 9.77e-02  7e-02  2e-01 0:11.6\n",
      "    6     60 9.946183372866491e-02 2.2e+00 8.26e-02  5e-02  1e-01 0:17.0\n",
      "    9     90 1.094618761263738e-01 3.1e+00 5.50e-02  3e-02  8e-02 0:24.3\n",
      "   12    120 1.340547642258484e-01 5.2e+00 5.11e-02  1e-02  7e-02 0:32.5\n",
      "   15    150 1.052522840639767e-01 9.7e+00 4.17e-02  1e-02  6e-02 0:40.1\n",
      "   18    180 8.677238014213490e-02 1.6e+01 4.88e-02  1e-02  8e-02 0:48.3\n",
      "   21    210 8.348530150270536e-02 1.8e+01 4.94e-02  1e-02  8e-02 0:58.2\n",
      "   24    240 8.522653514086150e-02 2.0e+01 4.27e-02  8e-03  7e-02 1:09.2\n",
      "   28    280 6.849021928175440e-02 2.6e+01 3.85e-02  6e-03  6e-02 1:23.7\n",
      "   31    310 7.365925882923961e-02 3.1e+01 2.84e-02  5e-03  4e-02 1:33.8\n",
      "termination on maxfevals=300\n",
      "final/bestever f-value = 7.365926e-02 6.849022e-02\n",
      "incumbent solution: [-0.5121036029901941, -0.03716284810299337, 0.021750076604145057, -0.501617116742819]\n",
      "std deviation: [0.011685351047215095, 0.012890771191978815, 0.04136196339317777, 0.004544070016432363]\n"
     ]
    }
   ],
   "source": [
    "opt.optimize_controls()"
   ]
  },
  {
   "cell_type": "markdown",
   "metadata": {},
   "source": [
    "## Analysis\n",
    "The following code uses matplotlib to create an ORBIT plot from the logfile."
   ]
  },
  {
   "cell_type": "code",
   "execution_count": 30,
   "metadata": {},
   "outputs": [
    {
     "data": {
      "text/plain": [
       "[<matplotlib.lines.Line2D at 0x7f262c75e3d0>]"
      ]
     },
     "execution_count": 30,
     "metadata": {},
     "output_type": "execute_result"
    },
    {
     "data": {
      "image/png": "[encoded data removed]",
      "text/plain": [
       "<Figure size 432x288 with 1 Axes>"
      ]
     },
     "metadata": {
      "needs_background": "light"
     },
     "output_type": "display_data"
    }
   ],
   "source": [
    "import json\n",
    "from matplotlib.ticker import MaxNLocator\n",
    "from  matplotlib import rcParams\n",
    "from matplotlib import cycler\n",
    "import matplotlib as mpl\n",
    "import matplotlib.pyplot as plt\n",
    "\n",
    "rcParams['xtick.direction'] = 'in'\n",
    "rcParams['axes.grid'] = True\n",
    "rcParams['grid.linestyle'] = '--'\n",
    "rcParams['markers.fillstyle'] = 'none'\n",
    "rcParams['axes.prop_cycle'] = cycler(\n",
    "    'linestyle', [\"-\", \"--\"]\n",
    ")\n",
    "\n",
    "# enable usetex by setting it to True if LaTeX is installed\n",
    "rcParams['text.usetex'] = False\n",
    "rcParams['font.size'] = 16\n",
    "rcParams['font.family'] = 'serif'\n",
    "\n",
    "logfilename = opt.logdir + \"calibration.log\"\n",
    "with open(logfilename, \"r\") as filename:\n",
    "    log = filename.readlines()\n",
    "    \n",
    "\n",
    "options = json.loads(log[7])\n",
    "\n",
    "goal_function = []\n",
    "batch = 0\n",
    "batch_size = options[\"popsize\"]\n",
    "\n",
    "\n",
    "eval = 0\n",
    "for line in log[9:]:\n",
    "    if line[0] == \"{\":\n",
    "        if not eval % batch_size:\n",
    "            batch = eval // batch_size\n",
    "            goal_function.append([])\n",
    "        eval += 1\n",
    "        point = json.loads(line)\n",
    "        if 'goal' in point.keys():\n",
    "            goal_function[batch].append(point['goal'])\n",
    "\n",
    "# Clean unfinished batch\n",
    "if len(goal_function[-1])<batch_size:\n",
    "    goal_function.pop(-1)\n",
    "\n",
    "fig, ax = plt.subplots(1)\n",
    "means = []\n",
    "bests = []\n",
    "for ii in range(len(goal_function)):\n",
    "    means.append(np.mean(np.array(goal_function[ii])))\n",
    "    bests.append(np.min(np.array(goal_function[ii])))\n",
    "    for pt in goal_function[ii]:\n",
    "        ax.plot(ii+1, pt, color='tab:blue', marker=\"D\", markersize=2.5, linewidth=0)\n",
    "\n",
    "ax.xaxis.set_major_locator(MaxNLocator(integer=True))\n",
    "ax.set_ylabel('ORBIT')\n",
    "ax.set_xlabel('Iterations')\n",
    "ax.plot(\n",
    "    range(1, len(goal_function)+1), bests, color=\"tab:red\", marker=\"D\",\n",
    "    markersize=5.5, linewidth=0, fillstyle='full'\n",
    ")\n"
   ]
  },
  {
   "cell_type": "markdown",
   "metadata": {},
   "source": [
    "# Model Learning on Dataset from a Simulated Experiment"
   ]
  },
  {
   "cell_type": "markdown",
   "metadata": {},
   "source": [
    "In this notebook, we will use a dataset from a simulated experiment, more specifically, the `Simulated_calibration.ipynb` example notebook and perform Model Learning on a simple 1 qubit model."
   ]
  },
  {
   "cell_type": "markdown",
   "metadata": {},
   "source": [
    "### Imports"
   ]
  },
  {
   "cell_type": "code",
   "execution_count": 30,
   "metadata": {
    "execution": {
     "iopub.execute_input": "2021-06-30T06:29:16.689570Z",
     "iopub.status.busy": "2021-06-30T06:29:16.684069Z",
     "iopub.status.idle": "2021-06-30T06:29:24.343696Z",
     "shell.execute_reply": "2021-06-30T06:29:24.343985Z"
    }
   },
   "outputs": [],
   "source": [
    "import pickle\n",
    "from pprint import pprint\n",
    "import copy\n",
    "import numpy as np\n",
    "import os\n",
    "import ast\n",
    "import hjson\n",
    "import pandas as pd\n",
    "\n",
    "from c3.model import Model as Mdl\n",
    "from c3.c3objs import Quantity as Quantity\n",
    "from c3.parametermap import ParameterMap as PMap\n",
    "from c3.experiment import Experiment as Exp\n",
    "from c3.generator.generator import Generator as Gnr\n",
    "import c3.signal.gates as gates\n",
    "import c3.libraries.chip as chip\n",
    "import c3.generator.devices as devices\n",
    "import c3.libraries.hamiltonians as hamiltonians\n",
    "import c3.signal.pulse as pulse\n",
    "import c3.libraries.envelopes as envelopes\n",
    "import c3.libraries.tasks as tasks\n",
    "from c3.optimizers.modellearning import ModelLearning\n",
    "from c3.optimizers.sensitivity import Sensitivity"
   ]
  },
  {
   "cell_type": "markdown",
   "metadata": {},
   "source": [
    "## The Dataset"
   ]
  },
  {
   "cell_type": "markdown",
   "metadata": {},
   "source": [
    "We first take a look below at the dataset and its properties. To explore more details about how the dataset is generated, please refer to the `Simulated_calibration.ipynb` example notebook."
   ]
  },
  {
   "cell_type": "code",
   "execution_count": 31,
   "metadata": {
    "execution": {
     "iopub.execute_input": "2021-06-30T06:29:24.346337Z",
     "iopub.status.busy": "2021-06-30T06:29:24.346012Z",
     "iopub.status.idle": "2021-06-30T06:29:24.347420Z",
     "shell.execute_reply": "2021-06-30T06:29:24.347670Z"
    }
   },
   "outputs": [],
   "source": [
    "DATAFILE_PATH = \"c3example_calibration/recent/dataset.pickle\""
   ]
  },
  {
   "cell_type": "code",
   "execution_count": 32,
   "metadata": {
    "execution": {
     "iopub.execute_input": "2021-06-30T06:29:24.349797Z",
     "iopub.status.busy": "2021-06-30T06:29:24.349451Z",
     "iopub.status.idle": "2021-06-30T06:29:24.403393Z",
     "shell.execute_reply": "2021-06-30T06:29:24.403893Z"
    }
   },
   "outputs": [],
   "source": [
    "with open(DATAFILE_PATH, \"rb+\") as file:\n",
    "    data = pickle.load(file)"
   ]
  },
  {
   "cell_type": "code",
   "execution_count": 33,
   "metadata": {
    "execution": {
     "iopub.execute_input": "2021-06-30T06:29:24.414664Z",
     "iopub.status.busy": "2021-06-30T06:29:24.414128Z",
     "iopub.status.idle": "2021-06-30T06:29:24.416895Z",
     "shell.execute_reply": "2021-06-30T06:29:24.417303Z"
    }
   },
   "outputs": [
    {
     "data": {
      "text/plain": [
       "dict_keys(['seqs_grouped_by_param_set', 'opt_map'])"
      ]
     },
     "execution_count": 33,
     "metadata": {},
     "output_type": "execute_result"
    }
   ],
   "source": [
    "data.keys()"
   ]
  },
  {
   "cell_type": "markdown",
   "metadata": {},
   "source": [
    "Since this dataset was obtained from an ORBIT ([arXiv:1403.0035](https://arxiv.org/abs/1403.0035)) calibration experiment, we have the `opt_map` which will tell us about the gateset parameters being optimized."
   ]
  },
  {
   "cell_type": "code",
   "execution_count": 34,
   "metadata": {
    "execution": {
     "iopub.execute_input": "2021-06-30T06:29:24.421146Z",
     "iopub.status.busy": "2021-06-30T06:29:24.420618Z",
     "iopub.status.idle": "2021-06-30T06:29:24.423293Z",
     "shell.execute_reply": "2021-06-30T06:29:24.423687Z"
    }
   },
   "outputs": [
    {
     "data": {
      "text/plain": [
       "[['rx90p[0]-d1-gauss-amp',\n",
       "  'ry90p[0]-d1-gauss-amp',\n",
       "  'rx90m[0]-d1-gauss-amp',\n",
       "  'ry90m[0]-d1-gauss-amp'],\n",
       " ['rx90p[0]-d1-gauss-delta',\n",
       "  'ry90p[0]-d1-gauss-delta',\n",
       "  'rx90m[0]-d1-gauss-delta',\n",
       "  'ry90m[0]-d1-gauss-delta'],\n",
       " ['rx90p[0]-d1-gauss-freq_offset',\n",
       "  'ry90p[0]-d1-gauss-freq_offset',\n",
       "  'rx90m[0]-d1-gauss-freq_offset',\n",
       "  'ry90m[0]-d1-gauss-freq_offset'],\n",
       " ['rx90p[0]-d1-carrier-framechange',\n",
       "  'ry90p[0]-d1-carrier-framechange',\n",
       "  'rx90m[0]-d1-carrier-framechange',\n",
       "  'ry90m[0]-d1-carrier-framechange']]"
      ]
     },
     "execution_count": 34,
     "metadata": {},
     "output_type": "execute_result"
    }
   ],
   "source": [
    "data[\"opt_map\"]"
   ]
  },
  {
   "cell_type": "markdown",
   "metadata": {},
   "source": [
    "This `opt_map` implies the calibration experiment focussed on optimizing \n",
    "the amplitude, delta and frequency offset of the gaussian pulse, along \n",
    "with the framechange angle"
   ]
  },
  {
   "cell_type": "markdown",
   "metadata": {},
   "source": [
    "Now onto the actual measurement data from the experiment runs"
   ]
  },
  {
   "cell_type": "code",
   "execution_count": 35,
   "metadata": {
    "execution": {
     "iopub.execute_input": "2021-06-30T06:29:24.426544Z",
     "iopub.status.busy": "2021-06-30T06:29:24.426091Z",
     "iopub.status.idle": "2021-06-30T06:29:24.428263Z",
     "shell.execute_reply": "2021-06-30T06:29:24.427861Z"
    }
   },
   "outputs": [],
   "source": [
    "seqs_data = data[\"seqs_grouped_by_param_set\"]"
   ]
  },
  {
   "cell_type": "markdown",
   "metadata": {},
   "source": [
    "**How many experiment runs do we have?**"
   ]
  },
  {
   "cell_type": "code",
   "execution_count": 36,
   "metadata": {
    "execution": {
     "iopub.execute_input": "2021-06-30T06:29:24.431169Z",
     "iopub.status.busy": "2021-06-30T06:29:24.430725Z",
     "iopub.status.idle": "2021-06-30T06:29:24.433094Z",
     "shell.execute_reply": "2021-06-30T06:29:24.433444Z"
    }
   },
   "outputs": [
    {
     "data": {
      "text/plain": [
       "301"
      ]
     },
     "execution_count": 36,
     "metadata": {},
     "output_type": "execute_result"
    }
   ],
   "source": [
    "len(seqs_data)"
   ]
  },
  {
   "cell_type": "markdown",
   "metadata": {},
   "source": [
    "**What does the data from each experiment look like?**\n",
    "\n",
    "We take a look at the first data point"
   ]
  },
  {
   "cell_type": "code",
   "execution_count": 37,
   "metadata": {
    "execution": {
     "iopub.execute_input": "2021-06-30T06:29:24.436247Z",
     "iopub.status.busy": "2021-06-30T06:29:24.435800Z",
     "iopub.status.idle": "2021-06-30T06:29:24.437588Z",
     "shell.execute_reply": "2021-06-30T06:29:24.437939Z"
    }
   },
   "outputs": [],
   "source": [
    "example_data_point = seqs_data[0]"
   ]
  },
  {
   "cell_type": "code",
   "execution_count": 38,
   "metadata": {
    "execution": {
     "iopub.execute_input": "2021-06-30T06:29:24.440859Z",
     "iopub.status.busy": "2021-06-30T06:29:24.440410Z",
     "iopub.status.idle": "2021-06-30T06:29:24.443139Z",
     "shell.execute_reply": "2021-06-30T06:29:24.442720Z"
    }
   },
   "outputs": [
    {
     "data": {
      "text/plain": [
       "dict_keys(['params', 'seqs', 'results', 'results_std', 'shots'])"
      ]
     },
     "execution_count": 38,
     "metadata": {},
     "output_type": "execute_result"
    }
   ],
   "source": [
    "example_data_point.keys()"
   ]
  },
  {
   "cell_type": "markdown",
   "metadata": {},
   "source": [
    "These `keys` are useful in understanding the structure of the dataset. We look at them one by one."
   ]
  },
  {
   "cell_type": "code",
   "execution_count": 39,
   "metadata": {
    "execution": {
     "iopub.execute_input": "2021-06-30T06:29:24.447311Z",
     "iopub.status.busy": "2021-06-30T06:29:24.446850Z",
     "iopub.status.idle": "2021-06-30T06:29:24.450577Z",
     "shell.execute_reply": "2021-06-30T06:29:24.450890Z"
    }
   },
   "outputs": [
    {
     "data": {
      "text/plain": [
       "[376.655 mV, -954.644 m, -50.333 MHz 2pi, -1.479 mrad]"
      ]
     },
     "execution_count": 39,
     "metadata": {},
     "output_type": "execute_result"
    }
   ],
   "source": [
    "example_data_point[\"params\"]"
   ]
  },
  {
   "cell_type": "markdown",
   "metadata": {},
   "source": [
    "These are the parameters for our parameterised gateset, for the first experiment run. They correspond to the optimization parameters we previously discussed. "
   ]
  },
  {
   "cell_type": "markdown",
   "metadata": {},
   "source": [
    "The `seqs` key stores the sequence of gates that make up this ORBIT calibration experiment. Each ORBIT sequence consists of a set of gates, followed by a measurement operation. This is then repeated for some `n` number of shots (eg, `1000` in this case) and we only store the averaged result along with the standard deviation of these readout shots. Each experiment in turn consists of a number of these ORBIT sequences. The terms *sequence*, *set* and *experiment* are used somewhat loosely here, so we show below what these look like."
   ]
  },
  {
   "cell_type": "markdown",
   "metadata": {},
   "source": [
    "**A single ORBIT sequence**"
   ]
  },
  {
   "cell_type": "code",
   "execution_count": 40,
   "metadata": {
    "execution": {
     "iopub.execute_input": "2021-06-30T06:29:24.454002Z",
     "iopub.status.busy": "2021-06-30T06:29:24.453650Z",
     "iopub.status.idle": "2021-06-30T06:29:24.455626Z",
     "shell.execute_reply": "2021-06-30T06:29:24.455901Z"
    }
   },
   "outputs": [
    {
     "data": {
      "text/plain": [
       "['rx90p[0]',\n",
       " 'ry90p[0]',\n",
       " 'ry90p[0]',\n",
       " 'rx90m[0]',\n",
       " 'ry90p[0]',\n",
       " 'ry90p[0]',\n",
       " 'ry90p[0]',\n",
       " 'ry90m[0]',\n",
       " 'ry90p[0]',\n",
       " 'rx90p[0]',\n",
       " 'ry90p[0]',\n",
       " 'ry90p[0]',\n",
       " 'rx90p[0]',\n",
       " 'ry90m[0]',\n",
       " 'rx90p[0]',\n",
       " 'ry90p[0]',\n",
       " 'rx90p[0]',\n",
       " 'rx90p[0]',\n",
       " 'rx90p[0]',\n",
       " 'ry90p[0]',\n",
       " 'rx90p[0]',\n",
       " 'ry90m[0]',\n",
       " 'rx90m[0]',\n",
       " 'rx90p[0]',\n",
       " 'ry90m[0]',\n",
       " 'ry90p[0]',\n",
       " 'ry90m[0]',\n",
       " 'rx90m[0]',\n",
       " 'ry90m[0]',\n",
       " 'rx90p[0]',\n",
       " 'rx90p[0]',\n",
       " 'rx90m[0]',\n",
       " 'ry90p[0]',\n",
       " 'ry90p[0]',\n",
       " 'ry90m[0]',\n",
       " 'rx90p[0]',\n",
       " 'rx90m[0]',\n",
       " 'ry90p[0]',\n",
       " 'rx90p[0]',\n",
       " 'rx90p[0]',\n",
       " 'ry90p[0]',\n",
       " 'ry90p[0]',\n",
       " 'rx90p[0]',\n",
       " 'ry90m[0]',\n",
       " 'rx90p[0]',\n",
       " 'ry90p[0]',\n",
       " 'rx90p[0]',\n",
       " 'rx90p[0]',\n",
       " 'rx90m[0]',\n",
       " 'ry90m[0]',\n",
       " 'rx90p[0]',\n",
       " 'ry90m[0]',\n",
       " 'rx90m[0]',\n",
       " 'ry90p[0]',\n",
       " 'rx90m[0]',\n",
       " 'ry90m[0]',\n",
       " 'rx90p[0]',\n",
       " 'ry90m[0]',\n",
       " 'ry90m[0]',\n",
       " 'rx90p[0]',\n",
       " 'ry90m[0]',\n",
       " 'rx90m[0]',\n",
       " 'ry90m[0]',\n",
       " 'rx90p[0]',\n",
       " 'rx90p[0]',\n",
       " 'rx90p[0]',\n",
       " 'ry90p[0]',\n",
       " 'rx90p[0]',\n",
       " 'rx90p[0]',\n",
       " 'rx90p[0]',\n",
       " 'ry90m[0]',\n",
       " 'rx90m[0]',\n",
       " 'rx90p[0]',\n",
       " 'rx90p[0]',\n",
       " 'ry90p[0]',\n",
       " 'rx90m[0]',\n",
       " 'rx90m[0]',\n",
       " 'rx90p[0]',\n",
       " 'ry90p[0]',\n",
       " 'ry90p[0]',\n",
       " 'rx90p[0]',\n",
       " 'rx90m[0]',\n",
       " 'ry90p[0]',\n",
       " 'rx90p[0]',\n",
       " 'rx90p[0]',\n",
       " 'rx90p[0]',\n",
       " 'ry90m[0]',\n",
       " 'rx90p[0]',\n",
       " 'ry90m[0]',\n",
       " 'rx90m[0]',\n",
       " 'rx90p[0]',\n",
       " 'ry90p[0]',\n",
       " 'rx90m[0]',\n",
       " 'rx90p[0]',\n",
       " 'rx90p[0]',\n",
       " 'ry90p[0]',\n",
       " 'ry90p[0]',\n",
       " 'ry90m[0]',\n",
       " 'rx90p[0]',\n",
       " 'rx90p[0]',\n",
       " 'ry90p[0]',\n",
       " 'rx90m[0]',\n",
       " 'rx90p[0]',\n",
       " 'ry90p[0]',\n",
       " 'rx90m[0]',\n",
       " 'ry90m[0]',\n",
       " 'ry90p[0]',\n",
       " 'rx90m[0]',\n",
       " 'ry90p[0]',\n",
       " 'rx90p[0]',\n",
       " 'rx90m[0]',\n",
       " 'ry90m[0]',\n",
       " 'rx90p[0]',\n",
       " 'rx90p[0]',\n",
       " 'rx90m[0]',\n",
       " 'ry90m[0]',\n",
       " 'rx90m[0]',\n",
       " 'rx90p[0]',\n",
       " 'ry90p[0]',\n",
       " 'ry90p[0]',\n",
       " 'ry90m[0]',\n",
       " 'rx90p[0]',\n",
       " 'rx90p[0]',\n",
       " 'ry90m[0]',\n",
       " 'rx90p[0]',\n",
       " 'ry90p[0]',\n",
       " 'rx90p[0]',\n",
       " 'rx90p[0]']"
      ]
     },
     "execution_count": 40,
     "metadata": {},
     "output_type": "execute_result"
    }
   ],
   "source": [
    "example_data_point[\"seqs\"][0]"
   ]
  },
  {
   "cell_type": "markdown",
   "metadata": {},
   "source": [
    "**Total number of ORBIT sequences in an experiment**"
   ]
  },
  {
   "cell_type": "code",
   "execution_count": 41,
   "metadata": {
    "execution": {
     "iopub.execute_input": "2021-06-30T06:29:24.458262Z",
     "iopub.status.busy": "2021-06-30T06:29:24.457903Z",
     "iopub.status.idle": "2021-06-30T06:29:24.459781Z",
     "shell.execute_reply": "2021-06-30T06:29:24.460029Z"
    }
   },
   "outputs": [
    {
     "data": {
      "text/plain": [
       "40"
      ]
     },
     "execution_count": 41,
     "metadata": {},
     "output_type": "execute_result"
    }
   ],
   "source": [
    "len(example_data_point[\"seqs\"])"
   ]
  },
  {
   "cell_type": "markdown",
   "metadata": {},
   "source": [
    "**Total number of Measurement results**"
   ]
  },
  {
   "cell_type": "code",
   "execution_count": 42,
   "metadata": {
    "execution": {
     "iopub.execute_input": "2021-06-30T06:29:24.462194Z",
     "iopub.status.busy": "2021-06-30T06:29:24.461850Z",
     "iopub.status.idle": "2021-06-30T06:29:24.463711Z",
     "shell.execute_reply": "2021-06-30T06:29:24.463958Z"
    }
   },
   "outputs": [
    {
     "data": {
      "text/plain": [
       "40"
      ]
     },
     "execution_count": 42,
     "metadata": {},
     "output_type": "execute_result"
    }
   ],
   "source": [
    "len(example_data_point[\"results\"])"
   ]
  },
  {
   "cell_type": "markdown",
   "metadata": {},
   "source": [
    "**The measurement results and the standard deviation look like this**"
   ]
  },
  {
   "cell_type": "code",
   "execution_count": 43,
   "metadata": {
    "execution": {
     "iopub.execute_input": "2021-06-30T06:29:24.466251Z",
     "iopub.status.busy": "2021-06-30T06:29:24.465932Z",
     "iopub.status.idle": "2021-06-30T06:29:24.467336Z",
     "shell.execute_reply": "2021-06-30T06:29:24.467583Z"
    }
   },
   "outputs": [],
   "source": [
    "example_results = [\n",
    "    (example_data_point[\"results\"][i], example_data_point[\"results_std\"][i])\n",
    "    for i in range(len(example_data_point[\"results\"]))\n",
    "]"
   ]
  },
  {
   "cell_type": "code",
   "execution_count": 44,
   "metadata": {
    "execution": {
     "iopub.execute_input": "2021-06-30T06:29:24.470224Z",
     "iopub.status.busy": "2021-06-30T06:29:24.469909Z",
     "iopub.status.idle": "2021-06-30T06:29:24.473051Z",
     "shell.execute_reply": "2021-06-30T06:29:24.472782Z"
    }
   },
   "outputs": [
    {
     "name": "stdout",
     "output_type": "stream",
     "text": [
      "[(array([0.128]), [0]),\n",
      " (array([0.147]), [0]),\n",
      " (array([0.286]), [0]),\n",
      " (array([0.114]), [0]),\n",
      " (array([0.055]), [0]),\n",
      " (array([0.017]), [0]),\n",
      " (array([0.023]), [0]),\n",
      " (array([0.208]), [0]),\n",
      " (array([0.22]), [0]),\n",
      " (array([0.016]), [0]),\n",
      " (array([0.137]), [0]),\n",
      " (array([0.266]), [0]),\n",
      " (array([0.116]), [0]),\n",
      " (array([0.324]), [0]),\n",
      " (array([0.129]), [0]),\n",
      " (array([0.121]), [0]),\n",
      " (array([0.47]), [0]),\n",
      " (array([0.327]), [0]),\n",
      " (array([0.111]), [0]),\n",
      " (array([0.498]), [0]),\n",
      " (array([0.088]), [0]),\n",
      " (array([0.066]), [0]),\n",
      " (array([0.099]), [0]),\n",
      " (array([0.193]), [0]),\n",
      " (array([0.095]), [0]),\n",
      " (array([0.704]), [0]),\n",
      " (array([0.113]), [0]),\n",
      " (array([0.108]), [0]),\n",
      " (array([0.223]), [0]),\n",
      " (array([0.097]), [0]),\n",
      " (array([0.287]), [0]),\n",
      " (array([0.361]), [0]),\n",
      " (array([0.156]), [0]),\n",
      " (array([0.129]), [0]),\n",
      " (array([0.329]), [0]),\n",
      " (array([0.045]), [0]),\n",
      " (array([0.13]), [0]),\n",
      " (array([0.243]), [0]),\n",
      " (array([0.222]), [0]),\n",
      " (array([0.203]), [0])]\n"
     ]
    }
   ],
   "source": [
    "pprint(example_results)"
   ]
  },
  {
   "cell_type": "markdown",
   "metadata": {},
   "source": [
    "## The Model for Model Learning"
   ]
  },
  {
   "cell_type": "markdown",
   "metadata": {},
   "source": [
    "An initial model needs to be provided, which we refine by fitting to our calibration data. We do this below. If you want to learn more about what the various components of the model mean, please refer back to the `two_qubits.ipynb` notebook or the documentation."
   ]
  },
  {
   "cell_type": "code",
   "execution_count": 45,
   "metadata": {
    "execution": {
     "iopub.execute_input": "2021-06-30T06:29:24.517795Z",
     "iopub.status.busy": "2021-06-30T06:29:24.517477Z",
     "iopub.status.idle": "2021-06-30T06:29:24.518939Z",
     "shell.execute_reply": "2021-06-30T06:29:24.519217Z"
    }
   },
   "outputs": [],
   "source": [
    "exp_opt_map = [[('Q1', 'anhar')], [('Q1', 'freq')]]\n",
    "parameter_map.set_opt_map(exp_opt_map)"
   ]
  },
  {
   "cell_type": "markdown",
   "metadata": {},
   "source": [
    "## Optimizer "
   ]
  },
  {
   "cell_type": "code",
   "execution_count": 46,
   "metadata": {
    "execution": {
     "iopub.execute_input": "2021-06-30T06:29:24.522171Z",
     "iopub.status.busy": "2021-06-30T06:29:24.521841Z",
     "iopub.status.idle": "2021-06-30T06:29:24.523305Z",
     "shell.execute_reply": "2021-06-30T06:29:24.523566Z"
    }
   },
   "outputs": [],
   "source": [
    "datafiles = {\"orbit\": DATAFILE_PATH} # path to the dataset\n",
    "run_name = \"simple_model_learning\" # name of the optimization run\n",
    "dir_path = \"ml_logs\" # path to save the learning logs\n",
    "algorithm = \"cma_pre_lbfgs\" # algorithm for learning\n",
    "# this first does a grad-free CMA-ES and then a gradient based LBFGS\n",
    "options = {\n",
    "    \"cmaes\": {\n",
    "        \"popsize\": 12,\n",
    "        \"init_point\": \"True\",\n",
    "        \"stop_at_convergence\": 10,\n",
    "        \"ftarget\": 4,\n",
    "        \"spread\": 0.05,\n",
    "        \"stop_at_sigma\": 0.01,\n",
    "    },\n",
    "    \"lbfgs\": {\"maxfun\": 50, \"disp\": 0},\n",
    "} # options for the algorithms\n",
    "sampling = \"high_std\" # how data points are chosen from the total dataset\n",
    "batch_sizes = {\"orbit\": 2} # how many data points are chosen for learning\n",
    "state_labels = {\n",
    "    \"orbit\": [\n",
    "        [\n",
    "            1,\n",
    "        ],\n",
    "        [\n",
    "            2,\n",
    "        ],\n",
    "    ]\n",
    "} # the excited states of the qubit model, in this case it is 3-level"
   ]
  },
  {
   "cell_type": "code",
   "execution_count": 47,
   "metadata": {
    "execution": {
     "iopub.execute_input": "2021-06-30T06:29:24.525945Z",
     "iopub.status.busy": "2021-06-30T06:29:24.525624Z",
     "iopub.status.idle": "2021-06-30T06:29:24.531653Z",
     "shell.execute_reply": "2021-06-30T06:29:24.531905Z"
    }
   },
   "outputs": [],
   "source": [
    "opt = ModelLearning(\n",
    "    datafiles=datafiles,\n",
    "    run_name=run_name,\n",
    "    dir_path=dir_path,\n",
    "    algorithm=algorithm,\n",
    "    options=options,\n",
    "    sampling=sampling,\n",
    "    batch_sizes=batch_sizes,\n",
    "    state_labels=state_labels,\n",
    "    pmap=parameter_map,\n",
    ")\n",
    "\n",
    "opt.set_exp(simulation)"
   ]
  },
  {
   "cell_type": "markdown",
   "metadata": {},
   "source": [
    "## Model Learning"
   ]
  },
  {
   "cell_type": "markdown",
   "metadata": {},
   "source": [
    "We are now ready to learn from the data and improve our model"
   ]
  },
  {
   "cell_type": "code",
   "execution_count": 48,
   "metadata": {
    "execution": {
     "iopub.execute_input": "2021-06-30T06:29:24.534091Z",
     "iopub.status.busy": "2021-06-30T06:29:24.533766Z",
     "iopub.status.idle": "2021-06-30T06:33:52.900803Z",
     "shell.execute_reply": "2021-06-30T06:33:52.900453Z"
    }
   },
   "outputs": [
    {
     "name": "stdout",
     "output_type": "stream",
     "text": [
      "C3:STATUS:Saving as: /Users/n.wittler/sciebo/c3_demo/ml_logs/simple_model_learning/2022_04_13_T_16_08_29/model_learn.log\n",
      "(6_w,12)-aCMA-ES (mu_w=3.7,w_1=40%) in dimension 2 (seed=1001084, Wed Apr 13 16:08:29 2022)\n",
      "C3:STATUS:Adding initial point to CMA sample.\n"
     ]
    },
    {
     "name": "stderr",
     "output_type": "stream",
     "text": [
      "/opt/homebrew/Caskroom/miniforge/base/envs/c3-dev/lib/python3.8/site-packages/cma/utilities/utils.py:343: UserWarning: input x0 should be a list or 1-D array, trying to flatten (2, 1)-array ()\n",
      "  warnings.warn(msg + ' (' +\n"
     ]
    },
    {
     "name": "stdout",
     "output_type": "stream",
     "text": [
      "Iterat #Fevals   function value  axis ratio  sigma  min&max std  t[m:s]\n",
      "    1     13 1.608063924937252e+01 1.0e+00 4.75e-02  4e-02  5e-02 0:02.6\n",
      "    2     25 1.269620958785884e+01 1.2e+00 3.37e-02  2e-02  3e-02 0:05.1\n",
      "    3     37 6.199597207119925e+01 1.3e+00 2.73e-02  2e-02  2e-02 0:07.6\n",
      "    5     61 1.951592884083622e+01 2.0e+00 2.11e-02  7e-03  2e-02 0:12.7\n",
      "    7     85 1.866274523271212e+01 2.4e+00 1.51e-02  3e-03  1e-02 0:17.5\n",
      "   10    121 1.695081184856515e+01 5.6e+00 1.40e-02  1e-03  9e-03 0:24.6\n",
      "   13    157 9.885060234297574e+00 1.8e+01 4.27e-02  3e-03  4e-02 0:31.7\n",
      "   14    169 1.344740286789958e+00 2.1e+01 9.15e-02  8e-03  1e-01 0:34.1\n",
      "termination on ftarget=4\n",
      "final/bestever f-value = 1.344740e+00 1.344740e+00\n",
      "incumbent solution: [0.31420151291600007, 0.1360890644960327]\n",
      "std deviation: [0.008153406782199004, 0.11477223960892316]\n",
      "C3:STATUS:Saving as: /Users/n.wittler/sciebo/c3_demo/ml_logs/simple_model_learning/2022_04_13_T_16_08_29/confirm.log\n"
     ]
    }
   ],
   "source": [
    "opt.run()"
   ]
  },
  {
   "cell_type": "markdown",
   "metadata": {},
   "source": [
    "### Result of Model Learning"
   ]
  },
  {
   "cell_type": "code",
   "execution_count": 49,
   "metadata": {
    "execution": {
     "iopub.execute_input": "2021-06-30T06:33:52.903299Z",
     "iopub.status.busy": "2021-06-30T06:33:52.902952Z",
     "iopub.status.idle": "2021-06-30T06:33:52.904734Z",
     "shell.execute_reply": "2021-06-30T06:33:52.904981Z"
    }
   },
   "outputs": [
    {
     "data": {
      "text/plain": [
       "-0.5"
      ]
     },
     "execution_count": 49,
     "metadata": {},
     "output_type": "execute_result"
    }
   ],
   "source": [
    "opt.current_best_goal"
   ]
  },
  {
   "cell_type": "code",
   "execution_count": 50,
   "metadata": {
    "execution": {
     "iopub.execute_input": "2021-06-30T06:33:52.907388Z",
     "iopub.status.busy": "2021-06-30T06:33:52.907044Z",
     "iopub.status.idle": "2021-06-30T06:33:52.908879Z",
     "shell.execute_reply": "2021-06-30T06:33:52.909149Z"
    }
   },
   "outputs": [
    {
     "name": "stdout",
     "output_type": "stream",
     "text": [
      "Q1-anhar                              : -209.877 MHz 2pi \n",
      "Q1-freq                               : 5.001 GHz 2pi \n",
      "\n"
     ]
    }
   ],
   "source": [
    "print(opt.pmap.str_parameters(opt.pmap.opt_map))"
   ]
  },
  {
   "cell_type": "markdown",
   "metadata": {},
   "source": [
    "## Visualisation & Analysis of Results"
   ]
  },
  {
   "cell_type": "markdown",
   "metadata": {},
   "source": [
    "The Model Learning logs provide a useful way to visualise the learning process and also understand what's going wrong (or right). We now process these logs to read some data points and also plot some visualisations of the Model Learning process"
   ]
  },
  {
   "cell_type": "markdown",
   "metadata": {},
   "source": [
    "### Open, Clean-up and Convert Logfiles"
   ]
  },
  {
   "cell_type": "code",
   "execution_count": 51,
   "metadata": {},
   "outputs": [],
   "source": [
    "LOGDIR = opt.logdir"
   ]
  },
  {
   "cell_type": "code",
   "execution_count": 52,
   "metadata": {},
   "outputs": [],
   "source": [
    "logfile = os.path.join(LOGDIR, \"model_learn.log\")\n",
    "with open(logfile, \"r\") as f:\n",
    "    log = f.readlines()"
   ]
  },
  {
   "cell_type": "code",
   "execution_count": 53,
   "metadata": {},
   "outputs": [
    {
     "name": "stdout",
     "output_type": "stream",
     "text": [
      "['Q1-anhar', 'Q1-freq']\n"
     ]
    }
   ],
   "source": [
    "params_names = [\n",
    "    item for sublist in (ast.literal_eval(log[3].strip(\"\\n\"))) for item in sublist\n",
    "]\n",
    "print(params_names)"
   ]
  },
  {
   "cell_type": "code",
   "execution_count": 54,
   "metadata": {},
   "outputs": [],
   "source": [
    "data_list_dict = list()\n",
    "for line in log[9:]:\n",
    "    if line[0] == \"{\":\n",
    "        temp_dict = ast.literal_eval(line.strip(\"\\n\"))\n",
    "        for index, param_name in enumerate(params_names):\n",
    "            temp_dict[param_name] = temp_dict[\"params\"][index]\n",
    "        temp_dict.pop(\"params\")\n",
    "        data_list_dict.append(temp_dict)"
   ]
  },
  {
   "cell_type": "code",
   "execution_count": 55,
   "metadata": {},
   "outputs": [],
   "source": [
    "data_df = pd.DataFrame(data_list_dict)"
   ]
  },
  {
   "cell_type": "markdown",
   "metadata": {},
   "source": [
    "### Summary of Logs"
   ]
  },
  {
   "cell_type": "code",
   "execution_count": 56,
   "metadata": {},
   "outputs": [
    {
     "data": {
      "text/html": [
       "<div>\n",
       "<style scoped>\n",
       "    .dataframe tbody tr th:only-of-type {\n",
       "        vertical-align: middle;\n",
       "    }\n",
       "\n",
       "    .dataframe tbody tr th {\n",
       "        vertical-align: top;\n",
       "    }\n",
       "\n",
       "    .dataframe thead th {\n",
       "        text-align: right;\n",
       "    }\n",
       "</style>\n",
       "<table border=\"1\" class=\"dataframe\">\n",
       "  <thead>\n",
       "    <tr style=\"text-align: right;\">\n",
       "      <th></th>\n",
       "      <th>goal</th>\n",
       "      <th>Q1-anhar</th>\n",
       "      <th>Q1-freq</th>\n",
       "    </tr>\n",
       "  </thead>\n",
       "  <tbody>\n",
       "    <tr>\n",
       "      <th>count</th>\n",
       "      <td>189.000000</td>\n",
       "      <td>1.890000e+02</td>\n",
       "      <td>1.890000e+02</td>\n",
       "    </tr>\n",
       "    <tr>\n",
       "      <th>mean</th>\n",
       "      <td>76.730159</td>\n",
       "      <td>-2.079141e+08</td>\n",
       "      <td>5.000225e+09</td>\n",
       "    </tr>\n",
       "    <tr>\n",
       "      <th>std</th>\n",
       "      <td>219.430811</td>\n",
       "      <td>1.087433e+07</td>\n",
       "      <td>3.426890e+05</td>\n",
       "    </tr>\n",
       "    <tr>\n",
       "      <th>min</th>\n",
       "      <td>-0.500000</td>\n",
       "      <td>-2.215537e+08</td>\n",
       "      <td>4.999487e+09</td>\n",
       "    </tr>\n",
       "    <tr>\n",
       "      <th>25%</th>\n",
       "      <td>18.260165</td>\n",
       "      <td>-2.094650e+08</td>\n",
       "      <td>5.000065e+09</td>\n",
       "    </tr>\n",
       "    <tr>\n",
       "      <th>50%</th>\n",
       "      <td>25.400677</td>\n",
       "      <td>-2.084999e+08</td>\n",
       "      <td>5.000122e+09</td>\n",
       "    </tr>\n",
       "    <tr>\n",
       "      <th>75%</th>\n",
       "      <td>103.503465</td>\n",
       "      <td>-2.081480e+08</td>\n",
       "      <td>5.000245e+09</td>\n",
       "    </tr>\n",
       "    <tr>\n",
       "      <th>max</th>\n",
       "      <td>2786.639651</td>\n",
       "      <td>-7.984722e+07</td>\n",
       "      <td>5.001299e+09</td>\n",
       "    </tr>\n",
       "  </tbody>\n",
       "</table>\n",
       "</div>"
      ],
      "text/plain": [
       "              goal      Q1-anhar       Q1-freq\n",
       "count   189.000000  1.890000e+02  1.890000e+02\n",
       "mean     76.730159 -2.079141e+08  5.000225e+09\n",
       "std     219.430811  1.087433e+07  3.426890e+05\n",
       "min      -0.500000 -2.215537e+08  4.999487e+09\n",
       "25%      18.260165 -2.094650e+08  5.000065e+09\n",
       "50%      25.400677 -2.084999e+08  5.000122e+09\n",
       "75%     103.503465 -2.081480e+08  5.000245e+09\n",
       "max    2786.639651 -7.984722e+07  5.001299e+09"
      ]
     },
     "execution_count": 56,
     "metadata": {},
     "output_type": "execute_result"
    }
   ],
   "source": [
    "data_df.describe()"
   ]
  },
  {
   "cell_type": "markdown",
   "metadata": {},
   "source": [
    "**Best Point**"
   ]
  },
  {
   "cell_type": "code",
   "execution_count": 57,
   "metadata": {},
   "outputs": [],
   "source": [
    "best_point_file = os.path.join(LOGDIR, 'best_point_model_learn.log')"
   ]
  },
  {
   "cell_type": "code",
   "execution_count": 58,
   "metadata": {},
   "outputs": [
    {
     "name": "stdout",
     "output_type": "stream",
     "text": [
      "{'Q1-anhar': -209876500.07519886, 'Q1-freq': 5001234000.051885, 'goal': -0.4999999999999762}\n"
     ]
    }
   ],
   "source": [
    "with open(best_point_file, \"r\") as f:\n",
    "    best_point_log_dict = hjson.load(f)\n",
    "\n",
    "best_point_dict = dict(zip(params_names, best_point_log_dict[\"optim_status\"][\"params\"]))\n",
    "best_point_dict[\"goal\"] = best_point_log_dict[\"optim_status\"][\"goal\"]\n",
    "print(best_point_dict)"
   ]
  },
  {
   "cell_type": "markdown",
   "metadata": {},
   "source": [
    "### Plotting"
   ]
  },
  {
   "cell_type": "markdown",
   "metadata": {},
   "source": [
    "We use `matplotlib` to produce the plots below. Please make sure you have the same installed in your python environment."
   ]
  },
  {
   "cell_type": "code",
   "execution_count": 59,
   "metadata": {},
   "outputs": [],
   "source": [
    "from matplotlib.ticker import MaxNLocator\n",
    "from  matplotlib import rcParams\n",
    "from matplotlib import cycler\n",
    "import matplotlib as mpl\n",
    "import matplotlib.pyplot as plt "
   ]
  },
  {
   "cell_type": "code",
   "execution_count": 60,
   "metadata": {},
   "outputs": [],
   "source": [
    "rcParams[\"axes.grid\"] = True\n",
    "rcParams[\"grid.linestyle\"] = \"--\"\n",
    "\n",
    "# enable usetex by setting it to True if LaTeX is installed\n",
    "rcParams[\"text.usetex\"] = False\n",
    "rcParams[\"font.size\"] = 16\n",
    "rcParams[\"font.family\"] = \"serif\""
   ]
  },
  {
   "cell_type": "markdown",
   "metadata": {},
   "source": [
    "**In the plots below, the blue line shows the progress of the parameter optimization while the black and the red lines indicate the converged and true value respectively**"
   ]
  },
  {
   "cell_type": "markdown",
   "metadata": {},
   "source": [
    "### Qubit Anharmonicity"
   ]
  },
  {
   "cell_type": "code",
   "execution_count": 61,
   "metadata": {},
   "outputs": [
    {
     "data": {
      "text/plain": [
       "[<matplotlib.lines.Line2D at 0x174d33970>]"
      ]
     },
     "execution_count": 61,
     "metadata": {},
     "output_type": "execute_result"
    },
    {
     "data": {
      "image/png": "[encoded data removed]",
      "text/plain": [
       "<Figure size 864x576 with 1 Axes>"
      ]
     },
     "metadata": {
      "needs_background": "light"
     },
     "output_type": "display_data"
    }
   ],
   "source": [
    "plot_item = \"Q1-anhar\"\n",
    "true_value = -210e6\n",
    "\n",
    "fig = plt.figure(figsize=(12, 8))\n",
    "ax = fig.add_subplot(111)\n",
    "ax.set_xlabel(\"Iteration\")\n",
    "ax.set_ylabel(plot_item)\n",
    "ax.axhline(y=true_value, color=\"red\", linestyle=\"--\")\n",
    "ax.axhline(y=best_point_dict[plot_item], color=\"black\", linestyle=\"-.\")\n",
    "ax.plot(data_df[plot_item])"
   ]
  },
  {
   "cell_type": "markdown",
   "metadata": {},
   "source": [
    "### Qubit Frequency"
   ]
  },
  {
   "cell_type": "code",
   "execution_count": 62,
   "metadata": {},
   "outputs": [
    {
     "data": {
      "text/plain": [
       "[<matplotlib.lines.Line2D at 0x17565a040>]"
      ]
     },
     "execution_count": 62,
     "metadata": {},
     "output_type": "execute_result"
    },
    {
     "data": {
      "image/png": "[encoded data removed]",
      "text/plain": [
       "<Figure size 864x576 with 1 Axes>"
      ]
     },
     "metadata": {
      "needs_background": "light"
     },
     "output_type": "display_data"
    }
   ],
   "source": [
    "plot_item = \"Q1-freq\"\n",
    "true_value = 5e9\n",
    "\n",
    "fig = plt.figure(figsize=(12, 8))\n",
    "ax = fig.add_subplot(111)\n",
    "ax.set_xlabel(\"Iteration\")\n",
    "ax.set_ylabel(plot_item)\n",
    "ax.axhline(y=true_value, color=\"red\", linestyle=\"--\")\n",
    "ax.axhline(y=best_point_dict[plot_item], color=\"black\", linestyle=\"-.\")\n",
    "ax.plot(data_df[plot_item])"
   ]
  },
  {
   "cell_type": "markdown",
   "metadata": {},
   "source": [
    "### Goal Function"
   ]
  },
  {
   "cell_type": "code",
   "execution_count": 63,
   "metadata": {},
   "outputs": [
    {
     "data": {
      "text/plain": [
       "[<matplotlib.lines.Line2D at 0x175ee31f0>]"
      ]
     },
     "execution_count": 63,
     "metadata": {},
     "output_type": "execute_result"
    },
    {
     "data": {
      "image/png": "[encoded data removed]",
      "text/plain": [
       "<Figure size 864x576 with 1 Axes>"
      ]
     },
     "metadata": {
      "needs_background": "light"
     },
     "output_type": "display_data"
    }
   ],
   "source": [
    "plot_item = \"goal\"\n",
    "\n",
    "fig = plt.figure(figsize=(12, 8))\n",
    "ax = fig.add_subplot(111)\n",
    "ax.set_xlabel(\"Iteration\")\n",
    "ax.axhline(y=best_point_dict[plot_item], color=\"black\", linestyle=\"-.\")\n",
    "ax.set_ylabel(plot_item)\n",
    "\n",
    "ax.plot(data_df[plot_item])"
   ]
  },
  {
   "cell_type": "markdown",
   "metadata": {},
   "source": [
    "# Sensitivity Analysis"
   ]
  },
  {
   "cell_type": "markdown",
   "metadata": {},
   "source": [
    "Another interesting study to understand if our dataset is indeed helpful in improving certain model parameters is to perform a Sensitivity Analysis. The purpose of this exercise is to scan the Model Parameters of interest (eg, qubit frequency or anharmonicity) across a range of values and notice a prominent dip in the Model Learning Goal Function around the best-fit values"
   ]
  },
  {
   "cell_type": "code",
   "execution_count": 64,
   "metadata": {},
   "outputs": [],
   "source": [
    "run_name = \"Sensitivity\"\n",
    "dir_path = \"sensi_logs\"\n",
    "algorithm = \"sweep\"\n",
    "options = {\"points\": 20, \"init_point\": [-210e6, 5e9]}\n",
    "sweep_bounds = [\n",
    "    [-215e6, -205e6],\n",
    "    [4.9985e9, 5.0015e9],\n",
    "]"
   ]
  },
  {
   "cell_type": "code",
   "execution_count": 65,
   "metadata": {},
   "outputs": [],
   "source": [
    "sense_opt = Sensitivity(\n",
    "    datafiles=datafiles,\n",
    "    run_name=run_name,\n",
    "    dir_path=dir_path,\n",
    "    algorithm=algorithm,\n",
    "    options=options,\n",
    "    sampling=sampling,\n",
    "    batch_sizes=batch_sizes,\n",
    "    state_labels=state_labels,\n",
    "    pmap=parameter_map,\n",
    "    sweep_bounds=sweep_bounds,\n",
    "    sweep_map=exp_opt_map,\n",
    ")\n",
    "\n",
    "sense_opt.set_exp(simulation)"
   ]
  },
  {
   "cell_type": "code",
   "execution_count": 66,
   "metadata": {},
   "outputs": [
    {
     "name": "stdout",
     "output_type": "stream",
     "text": [
      "C3:STATUS:Sweeping [['Q1-anhar']]: [-215000000.0, -205000000.0]\n",
      "C3:STATUS:Saving as: /Users/n.wittler/sciebo/c3_demo/sensi_logs/Sensitivity/2022_04_13_T_16_09_46/sensitivity.log\n",
      "C3:STATUS:Sweeping [['Q1-freq']]: [4998500000.0, 5001500000.0]\n",
      "C3:STATUS:Saving as: /Users/n.wittler/sciebo/c3_demo/sensi_logs/Sensitivity/2022_04_13_T_16_09_51/sensitivity.log\n"
     ]
    }
   ],
   "source": [
    "sense_opt.run()"
   ]
  },
  {
   "cell_type": "markdown",
   "metadata": {},
   "source": [
    "## Anharmonicity"
   ]
  },
  {
   "cell_type": "code",
   "execution_count": 67,
   "metadata": {},
   "outputs": [],
   "source": [
    "LOGDIR = sense_opt.logdir_list[0]"
   ]
  },
  {
   "cell_type": "code",
   "execution_count": 68,
   "metadata": {},
   "outputs": [],
   "source": [
    "logfile = os.path.join(LOGDIR, \"sensitivity.log\")\n",
    "with open(logfile, \"r\") as f:\n",
    "    log = f.readlines()"
   ]
  },
  {
   "cell_type": "code",
   "execution_count": 69,
   "metadata": {},
   "outputs": [],
   "source": [
    "data_list_dict = list()\n",
    "for line in log[9:]:\n",
    "    if line[0] == \"{\":\n",
    "        temp_dict = ast.literal_eval(line.strip(\"\\n\"))\n",
    "        param = temp_dict[\"params\"][0]\n",
    "        data_list_dict.append({\"param\": param, \"goal\": temp_dict[\"goal\"]})"
   ]
  },
  {
   "cell_type": "code",
   "execution_count": 70,
   "metadata": {},
   "outputs": [],
   "source": [
    "data_df = pd.DataFrame(data_list_dict)"
   ]
  },
  {
   "cell_type": "code",
   "execution_count": 71,
   "metadata": {
    "scrolled": true
   },
   "outputs": [
    {
     "data": {
      "text/plain": [
       "<matplotlib.collections.PathCollection at 0x173a6c430>"
      ]
     },
     "execution_count": 71,
     "metadata": {},
     "output_type": "execute_result"
    },
    {
     "data": {
      "image/png": "[encoded data removed]",
      "text/plain": [
       "<Figure size 864x576 with 1 Axes>"
      ]
     },
     "metadata": {
      "needs_background": "light"
     },
     "output_type": "display_data"
    }
   ],
   "source": [
    "fig = plt.figure(figsize=(12, 8))\n",
    "ax = fig.add_subplot(111)\n",
    "ax.set_xlabel(\"Q1-Anharmonicity [Hz]\")\n",
    "ax.set_ylabel(\"Goal Function\")\n",
    "ax.axvline(x=best_point_dict[\"Q1-anhar\"], color=\"black\", linestyle=\"-.\")\n",
    "ax.scatter(data_df[\"param\"], data_df[\"goal\"])"
   ]
  },
  {
   "cell_type": "markdown",
   "metadata": {},
   "source": [
    "## Frequency"
   ]
  },
  {
   "cell_type": "code",
   "execution_count": 72,
   "metadata": {},
   "outputs": [],
   "source": [
    "LOGDIR = sense_opt.logdir_list[1]"
   ]
  },
  {
   "cell_type": "code",
   "execution_count": 73,
   "metadata": {},
   "outputs": [],
   "source": [
    "logfile = os.path.join(LOGDIR, \"sensitivity.log\")\n",
    "with open(logfile, \"r\") as f:\n",
    "    log = f.readlines()"
   ]
  },
  {
   "cell_type": "code",
   "execution_count": 74,
   "metadata": {},
   "outputs": [],
   "source": [
    "data_list_dict = list()\n",
    "for line in log[9:]:\n",
    "    if line[0] == \"{\":\n",
    "        temp_dict = ast.literal_eval(line.strip(\"\\n\"))\n",
    "        param = temp_dict[\"params\"][0]\n",
    "        data_list_dict.append({\"param\": param, \"goal\": temp_dict[\"goal\"]})"
   ]
  },
  {
   "cell_type": "code",
   "execution_count": 75,
   "metadata": {},
   "outputs": [],
   "source": [
    "data_df = pd.DataFrame(data_list_dict)"
   ]
  },
  {
   "cell_type": "code",
   "execution_count": 76,
   "metadata": {},
   "outputs": [
    {
     "data": {
      "text/plain": [
       "<matplotlib.collections.PathCollection at 0x173e48f10>"
      ]
     },
     "execution_count": 76,
     "metadata": {},
     "output_type": "execute_result"
    },
    {
     "data": {
      "image/png": "[encoded data removed]",
      "text/plain": [
       "<Figure size 864x576 with 1 Axes>"
      ]
     },
     "metadata": {
      "needs_background": "light"
     },
     "output_type": "display_data"
    }
   ],
   "source": [
    "fig = plt.figure(figsize=(12, 8))\n",
    "ax = fig.add_subplot(111)\n",
    "ax.set_xlabel(\"Q1-Frequency [Hz]\")\n",
    "ax.set_ylabel(\"Goal Function\")\n",
    "ax.axvline(x=best_point_dict[\"Q1-freq\"], color=\"black\", linestyle=\"-.\")\n",
    "ax.scatter(data_df[\"param\"], data_df[\"goal\"])"
   ]
  }
 ],
 "metadata": {
  "interpreter": {
   "hash": "8fc56ae400e717d872a76f4d6b257151d16696a9d0a72e6998d355f9b43887c7"
  },
  "kernelspec": {
   "display_name": "Python 3",
   "language": "python",
   "name": "python3"
  },
  "language_info": {
   "codemirror_mode": {
    "name": "ipython",
    "version": 3
   },
   "file_extension": ".py",
   "mimetype": "text/x-python",
   "name": "python",
   "nbconvert_exporter": "python",
   "pygments_lexer": "ipython3",
   "version": "3.8.8"
  }
 },
 "nbformat": 4,
 "nbformat_minor": 4
}
