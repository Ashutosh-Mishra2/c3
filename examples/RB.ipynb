{
 "cells": [
  {
   "cell_type": "code",
   "execution_count": 23,
   "metadata": {},
   "outputs": [],
   "source": [
    "import tensorflow as tf\n",
    "import numpy as np\n",
    "from c3.utils.qt_utils import basis, single_length_RB"
   ]
  },
  {
   "cell_type": "code",
   "execution_count": 6,
   "metadata": {},
   "outputs": [],
   "source": [
    "from single_qubit_blackbox_exp import create_experiment\n",
    "\n",
    "blackbox = create_experiment()"
   ]
  },
  {
   "cell_type": "code",
   "execution_count": 10,
   "metadata": {},
   "outputs": [
    {
     "name": "stdout",
     "output_type": "stream",
     "text": [
      "Id-d1-no_drive-t_final                : 7.000 ns \n",
      "Id-d1-no_drive-amp                    : 0.000 V \n",
      "Id-d1-no_drive-delta                  : 0.000 V \n",
      "Id-d1-no_drive-freq_offset            : 0.000 Hz 2pi \n",
      "Id-d1-no_drive-xy_angle               : 0.000 rad \n",
      "Id-d1-carrier-freq                    : 5.050 GHz 2pi \n",
      "Id-d1-carrier-framechange             : 4.084 rad \n",
      "X90p-d1-gauss-amp                     : 450.000 mV \n",
      "X90p-d1-gauss-t_final                 : 7.000 ns \n",
      "X90p-d1-gauss-sigma                   : 1.750 ns \n",
      "X90p-d1-gauss-xy_angle                : -444.089 arad \n",
      "X90p-d1-gauss-freq_offset             : -50.500 MHz 2pi \n",
      "X90p-d1-gauss-delta                   : -1.000  \n",
      "X90p-d1-carrier-freq                  : 5.050 GHz 2pi \n",
      "X90p-d1-carrier-framechange           : 0.000 rad \n",
      "Y90p-d1-gauss-amp                     : 450.000 mV \n",
      "Y90p-d1-gauss-t_final                 : 7.000 ns \n",
      "Y90p-d1-gauss-sigma                   : 1.750 ns \n",
      "Y90p-d1-gauss-xy_angle                : 1.571 rad \n",
      "Y90p-d1-gauss-freq_offset             : -50.500 MHz 2pi \n",
      "Y90p-d1-gauss-delta                   : -1.000  \n",
      "Y90p-d1-carrier-freq                  : 5.050 GHz 2pi \n",
      "Y90p-d1-carrier-framechange           : 0.000 rad \n",
      "X90m-d1-gauss-amp                     : 450.000 mV \n",
      "X90m-d1-gauss-t_final                 : 7.000 ns \n",
      "X90m-d1-gauss-sigma                   : 1.750 ns \n",
      "X90m-d1-gauss-xy_angle                : 3.142 rad \n",
      "X90m-d1-gauss-freq_offset             : -50.500 MHz 2pi \n",
      "X90m-d1-gauss-delta                   : -1.000  \n",
      "X90m-d1-carrier-freq                  : 5.050 GHz 2pi \n",
      "X90m-d1-carrier-framechange           : 0.000 rad \n",
      "Y90m-d1-gauss-amp                     : 450.000 mV \n",
      "Y90m-d1-gauss-t_final                 : 7.000 ns \n",
      "Y90m-d1-gauss-sigma                   : 1.750 ns \n",
      "Y90m-d1-gauss-xy_angle                : 4.712 rad \n",
      "Y90m-d1-gauss-freq_offset             : -50.500 MHz 2pi \n",
      "Y90m-d1-gauss-delta                   : -1.000  \n",
      "Y90m-d1-carrier-freq                  : 5.050 GHz 2pi \n",
      "Y90m-d1-carrier-framechange           : 0.000 rad \n",
      "\n"
     ]
    }
   ],
   "source": [
    "print(blackbox.gateset.print_parameters())"
   ]
  },
  {
   "cell_type": "code",
   "execution_count": 11,
   "metadata": {},
   "outputs": [
    {
     "data": {
      "text/plain": [
       "{'Id': <tf.Tensor: shape=(3, 3), dtype=complex128, numpy=\n",
       " array([[ 1.        +0.00000000e+00j,  0.        +0.00000000e+00j,\n",
       "          0.        +0.00000000e+00j],\n",
       "        [ 0.        +0.00000000e+00j,  1.        -3.95017352e-13j,\n",
       "          0.        +0.00000000e+00j],\n",
       "        [ 0.        +0.00000000e+00j,  0.        +0.00000000e+00j,\n",
       "         -0.98228725+1.87381316e-01j]])>,\n",
       " 'X90p': <tf.Tensor: shape=(3, 3), dtype=complex128, numpy=\n",
       " array([[ 0.7113148 -0.08098006j, -0.03515163-0.69637989j,\n",
       "          0.03284002+0.01464368j],\n",
       "        [-0.09987753-0.68998106j,  0.71416569-0.0586841j ,\n",
       "         -0.00925939-0.01970837j],\n",
       "        [ 0.03614727-0.01083843j, -0.01725489-0.00672552j,\n",
       "         -0.99733698+0.05959769j]])>,\n",
       " 'Y90p': <tf.Tensor: shape=(3, 3), dtype=complex128, numpy=\n",
       " array([[ 0.71182021-0.08071269j, -0.69587623+0.03552774j,\n",
       "         -0.03282141-0.01463745j],\n",
       "        [ 0.6895124 -0.0994323j ,  0.71462931-0.05905769j,\n",
       "         -0.02076395+0.008477j  ],\n",
       "        [-0.03675419+0.01150814j,  0.00600851-0.01658586j,\n",
       "         -0.99732494+0.05956894j]])>,\n",
       " 'X90m': <tf.Tensor: shape=(3, 3), dtype=complex128, numpy=\n",
       " array([[ 0.7113148 -0.08098006j,  0.03515163+0.69637989j,\n",
       "          0.03284002+0.01464368j],\n",
       "        [ 0.09987753+0.68998106j,  0.71416569-0.0586841j ,\n",
       "          0.00925939+0.01970837j],\n",
       "        [ 0.03614727-0.01083843j,  0.01725489+0.00672552j,\n",
       "         -0.99733698+0.05959769j]])>,\n",
       " 'Y90m': <tf.Tensor: shape=(3, 3), dtype=complex128, numpy=\n",
       " array([[ 0.71182021-0.08071269j,  0.69587623-0.03552774j,\n",
       "         -0.03282141-0.01463745j],\n",
       "        [-0.6895124 +0.0994323j ,  0.71462931-0.05905769j,\n",
       "          0.02076395-0.008477j  ],\n",
       "        [-0.03675419+0.01150814j, -0.00600851+0.01658586j,\n",
       "         -0.99732494+0.05956894j]])>}"
      ]
     },
     "execution_count": 11,
     "metadata": {},
     "output_type": "execute_result"
    }
   ],
   "source": [
    "blackbox.get_gates()"
   ]
  },
  {
   "cell_type": "code",
   "execution_count": 15,
   "metadata": {},
   "outputs": [
    {
     "data": {
      "text/plain": [
       "[<tf.Tensor: shape=(3, 1), dtype=float64, numpy=\n",
       " array([[0.9953031 ],\n",
       "        [0.00292125],\n",
       "        [0.00177564]])>]"
      ]
     },
     "execution_count": 15,
     "metadata": {},
     "output_type": "execute_result"
    }
   ],
   "source": [
    "blackbox.evaluate([[\"X90p\", \"X90p\"]*2])"
   ]
  },
  {
   "cell_type": "code",
   "execution_count": 34,
   "metadata": {},
   "outputs": [],
   "source": [
    "min_length = 5\n",
    "max_length = 500\n",
    "num_lengths = 50\n",
    "num_seqs = 30\n",
    "\n",
    "psi_init = tf.constant(basis(3, 0), dtype=tf.complex128)\n",
    "lengths = np.rint(np.linspace(min_length, max_length, num=num_lengths)).astype(int)\n",
    "surv_prob = []\n",
    "for L in lengths:\n",
    "    seqs = single_length_RB(num_seqs, L)\n",
    "    pops = blackbox.evaluate(seqs)\n",
    "    surv_prob.append(pops[0][0])"
   ]
  },
  {
   "cell_type": "code",
   "execution_count": 28,
   "metadata": {},
   "outputs": [
    {
     "data": {
      "text/plain": [
       "[<tf.Tensor: shape=(1,), dtype=float64, numpy=array([0.9913892])>,\n",
       " <tf.Tensor: shape=(1,), dtype=float64, numpy=array([0.83948493])>,\n",
       " <tf.Tensor: shape=(1,), dtype=float64, numpy=array([0.93912032])>,\n",
       " <tf.Tensor: shape=(1,), dtype=float64, numpy=array([0.64996066])>,\n",
       " <tf.Tensor: shape=(1,), dtype=float64, numpy=array([0.83778445])>,\n",
       " <tf.Tensor: shape=(1,), dtype=float64, numpy=array([0.64454308])>,\n",
       " <tf.Tensor: shape=(1,), dtype=float64, numpy=array([0.3965748])>,\n",
       " <tf.Tensor: shape=(1,), dtype=float64, numpy=array([0.75048128])>,\n",
       " <tf.Tensor: shape=(1,), dtype=float64, numpy=array([0.35819127])>,\n",
       " <tf.Tensor: shape=(1,), dtype=float64, numpy=array([0.76398172])>,\n",
       " <tf.Tensor: shape=(1,), dtype=float64, numpy=array([0.77433846])>,\n",
       " <tf.Tensor: shape=(1,), dtype=float64, numpy=array([0.13564257])>,\n",
       " <tf.Tensor: shape=(1,), dtype=float64, numpy=array([0.47700743])>,\n",
       " <tf.Tensor: shape=(1,), dtype=float64, numpy=array([0.67748326])>,\n",
       " <tf.Tensor: shape=(1,), dtype=float64, numpy=array([0.28274015])>,\n",
       " <tf.Tensor: shape=(1,), dtype=float64, numpy=array([0.94500253])>,\n",
       " <tf.Tensor: shape=(1,), dtype=float64, numpy=array([0.66522245])>,\n",
       " <tf.Tensor: shape=(1,), dtype=float64, numpy=array([0.22935763])>,\n",
       " <tf.Tensor: shape=(1,), dtype=float64, numpy=array([0.49624521])>,\n",
       " <tf.Tensor: shape=(1,), dtype=float64, numpy=array([0.94282384])>]"
      ]
     },
     "execution_count": 28,
     "metadata": {},
     "output_type": "execute_result"
    }
   ],
   "source": [
    "surv_prob"
   ]
  },
  {
   "cell_type": "code",
   "execution_count": 35,
   "metadata": {},
   "outputs": [
    {
     "ename": "ValueError",
     "evalue": "Residuals are not finite in the initial point.",
     "output_type": "error",
     "traceback": [
      "\u001b[0;31m---------------------------------------------------------------------------\u001b[0m",
      "\u001b[0;31mValueError\u001b[0m                                Traceback (most recent call last)",
      "\u001b[0;32m<ipython-input-35-c192d39f9e8b>\u001b[0m in \u001b[0;36m<module>\u001b[0;34m\u001b[0m\n\u001b[1;32m      6\u001b[0m \u001b[0mmeans\u001b[0m \u001b[0;34m=\u001b[0m \u001b[0mnp\u001b[0m\u001b[0;34m.\u001b[0m\u001b[0mmean\u001b[0m\u001b[0;34m(\u001b[0m\u001b[0msurv_prob\u001b[0m\u001b[0;34m,\u001b[0m \u001b[0maxis\u001b[0m\u001b[0;34m=\u001b[0m\u001b[0;36m1\u001b[0m\u001b[0;34m)\u001b[0m\u001b[0;34m\u001b[0m\u001b[0;34m\u001b[0m\u001b[0m\n\u001b[1;32m      7\u001b[0m \u001b[0mstds\u001b[0m \u001b[0;34m=\u001b[0m \u001b[0mnp\u001b[0m\u001b[0;34m.\u001b[0m\u001b[0mstd\u001b[0m\u001b[0;34m(\u001b[0m\u001b[0msurv_prob\u001b[0m\u001b[0;34m,\u001b[0m \u001b[0maxis\u001b[0m\u001b[0;34m=\u001b[0m\u001b[0;36m1\u001b[0m\u001b[0;34m)\u001b[0m \u001b[0;34m/\u001b[0m \u001b[0mnp\u001b[0m\u001b[0;34m.\u001b[0m\u001b[0msqrt\u001b[0m\u001b[0;34m(\u001b[0m\u001b[0mlen\u001b[0m\u001b[0;34m(\u001b[0m\u001b[0msurv_prob\u001b[0m\u001b[0;34m[\u001b[0m\u001b[0;36m0\u001b[0m\u001b[0;34m]\u001b[0m\u001b[0;34m)\u001b[0m\u001b[0;34m)\u001b[0m\u001b[0;34m\u001b[0m\u001b[0;34m\u001b[0m\u001b[0m\n\u001b[0;32m----> 8\u001b[0;31m solution, cov = curve_fit(RB_fit,\n\u001b[0m\u001b[1;32m      9\u001b[0m                           \u001b[0mlengths\u001b[0m\u001b[0;34m,\u001b[0m\u001b[0;34m\u001b[0m\u001b[0;34m\u001b[0m\u001b[0m\n\u001b[1;32m     10\u001b[0m                           \u001b[0mmeans\u001b[0m\u001b[0;34m,\u001b[0m\u001b[0;34m\u001b[0m\u001b[0;34m\u001b[0m\u001b[0m\n",
      "\u001b[0;32m/usr/lib/python3.8/site-packages/scipy/optimize/minpack.py\u001b[0m in \u001b[0;36mcurve_fit\u001b[0;34m(f, xdata, ydata, p0, sigma, absolute_sigma, check_finite, bounds, method, jac, **kwargs)\u001b[0m\n\u001b[1;32m    793\u001b[0m             \u001b[0mkwargs\u001b[0m\u001b[0;34m[\u001b[0m\u001b[0;34m'max_nfev'\u001b[0m\u001b[0;34m]\u001b[0m \u001b[0;34m=\u001b[0m \u001b[0mkwargs\u001b[0m\u001b[0;34m.\u001b[0m\u001b[0mpop\u001b[0m\u001b[0;34m(\u001b[0m\u001b[0;34m'maxfev'\u001b[0m\u001b[0;34m,\u001b[0m \u001b[0;32mNone\u001b[0m\u001b[0;34m)\u001b[0m\u001b[0;34m\u001b[0m\u001b[0;34m\u001b[0m\u001b[0m\n\u001b[1;32m    794\u001b[0m \u001b[0;34m\u001b[0m\u001b[0m\n\u001b[0;32m--> 795\u001b[0;31m         res = least_squares(func, p0, jac=jac, bounds=bounds, method=method,\n\u001b[0m\u001b[1;32m    796\u001b[0m                             **kwargs)\n\u001b[1;32m    797\u001b[0m \u001b[0;34m\u001b[0m\u001b[0m\n",
      "\u001b[0;32m/usr/lib/python3.8/site-packages/scipy/optimize/_lsq/least_squares.py\u001b[0m in \u001b[0;36mleast_squares\u001b[0;34m(fun, x0, jac, bounds, method, ftol, xtol, gtol, x_scale, loss, f_scale, diff_step, tr_solver, tr_options, jac_sparsity, max_nfev, verbose, args, kwargs)\u001b[0m\n\u001b[1;32m    812\u001b[0m \u001b[0;34m\u001b[0m\u001b[0m\n\u001b[1;32m    813\u001b[0m     \u001b[0;32mif\u001b[0m \u001b[0;32mnot\u001b[0m \u001b[0mnp\u001b[0m\u001b[0;34m.\u001b[0m\u001b[0mall\u001b[0m\u001b[0;34m(\u001b[0m\u001b[0mnp\u001b[0m\u001b[0;34m.\u001b[0m\u001b[0misfinite\u001b[0m\u001b[0;34m(\u001b[0m\u001b[0mf0\u001b[0m\u001b[0;34m)\u001b[0m\u001b[0;34m)\u001b[0m\u001b[0;34m:\u001b[0m\u001b[0;34m\u001b[0m\u001b[0;34m\u001b[0m\u001b[0m\n\u001b[0;32m--> 814\u001b[0;31m         \u001b[0;32mraise\u001b[0m \u001b[0mValueError\u001b[0m\u001b[0;34m(\u001b[0m\u001b[0;34m\"Residuals are not finite in the initial point.\"\u001b[0m\u001b[0;34m)\u001b[0m\u001b[0;34m\u001b[0m\u001b[0;34m\u001b[0m\u001b[0m\n\u001b[0m\u001b[1;32m    815\u001b[0m \u001b[0;34m\u001b[0m\u001b[0m\n\u001b[1;32m    816\u001b[0m     \u001b[0mn\u001b[0m \u001b[0;34m=\u001b[0m \u001b[0mx0\u001b[0m\u001b[0;34m.\u001b[0m\u001b[0msize\u001b[0m\u001b[0;34m\u001b[0m\u001b[0;34m\u001b[0m\u001b[0m\n",
      "\u001b[0;31mValueError\u001b[0m: Residuals are not finite in the initial point."
     ]
    }
   ],
   "source": [
    "from scipy.optimize import curve_fit\n",
    "def RB_fit(len, r, A, B):\n",
    "    return A * r**(len) + B\n",
    "bounds = (0, 1)\n",
    "init_guess = [0.9, 0.5, 0.5]\n",
    "means = np.mean(surv_prob, axis=1)\n",
    "stds = np.std(surv_prob, axis=1) / np.sqrt(len(surv_prob[0]))\n",
    "solution, cov = curve_fit(RB_fit,\n",
    "                          lengths,\n",
    "                          means,\n",
    "                          sigma=stds,\n",
    "                          bounds=bounds,\n",
    "                          p0=init_guess)\n",
    "r, A, B = solution\n",
    "\n",
    "epc = 0.5 * (1 - r)\n",
    "epg = 1 - ((1-epc)**(1/4))"
   ]
  },
  {
   "cell_type": "code",
   "execution_count": null,
   "metadata": {},
   "outputs": [],
   "source": [
    "fig, ax = plt.subplots()\n",
    "ax.plot(lengths,\n",
    "        surv_prob,\n",
    "        marker='o',\n",
    "        color='red',\n",
    "        linestyle='None')\n",
    "ax.errorbar(lengths,\n",
    "            means,\n",
    "            yerr=stds,\n",
    "            color='blue',\n",
    "            marker='x',\n",
    "            linestyle='None')\n",
    "plt.title('RB results')\n",
    "plt.ylabel('Population in 0')\n",
    "plt.xlabel('\\# Cliffords')\n",
    "plt.ylim(0, 1)\n",
    "plt.xlim(0, lengths[-1])\n",
    "fitted = RB_fit(lengths, r, A, B)\n",
    "ax.plot(lengths, fitted)\n",
    "plt.text(0.1, 0.1,\n",
    "         'r={:.4f}, A={:.3f}, B={:.3f}'.format(r, A, B),\n",
    "         size=16,\n",
    "         transform=ax.transAxes)\n",
    "plt.show()"
   ]
  }
 ],
 "metadata": {
  "kernelspec": {
   "display_name": "Python 3",
   "language": "python",
   "name": "python3"
  },
  "language_info": {
   "codemirror_mode": {
    "name": "ipython",
    "version": 3
   },
   "file_extension": ".py",
   "mimetype": "text/x-python",
   "name": "python",
   "nbconvert_exporter": "python",
   "pygments_lexer": "ipython3",
   "version": "3.8.6"
  }
 },
 "nbformat": 4,
 "nbformat_minor": 4
}
