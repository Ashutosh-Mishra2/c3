{
 "cells": [
  {
   "cell_type": "markdown",
   "metadata": {},
   "source": [
    "### Setup of a two-qubit chip with $C^3$\n",
    "\n",
    "In this example we will set-up a two qubit quantum processor and define a simple gate."
   ]
  },
  {
   "cell_type": "markdown",
   "metadata": {},
   "source": [
    "#### Imports"
   ]
  },
  {
   "cell_type": "code",
   "execution_count": 1,
   "metadata": {},
   "outputs": [],
   "source": [
    "!pip install -q -U pip\n",
    "!pip install -q matplotlib"
   ]
  },
  {
   "cell_type": "code",
   "execution_count": 2,
   "metadata": {
    "ExecuteTime": {
     "end_time": "2020-06-10T13:45:05.684014Z",
     "start_time": "2020-06-10T13:45:04.441825Z"
    }
   },
   "outputs": [],
   "source": [
    "# System imports\n",
    "import copy\n",
    "import numpy as np\n",
    "import time\n",
    "import itertools\n",
    "import matplotlib.pyplot as plt\n",
    "import tensorflow as tf\n",
    "import tensorflow_probability as tfp\n",
    "from pprint import pprint\n",
    "\n",
    "# Main C3 objects\n",
    "from c3.c3objs import Quantity as Qty\n",
    "from c3.parametermap import ParameterMap as PMap\n",
    "from c3.experiment import Experiment as Exp\n",
    "from c3.model import Model as Mdl\n",
    "from c3.generator.generator import Generator as Gnr\n",
    "\n",
    "# Building blocks\n",
    "import c3.generator.devices as devices\n",
    "import c3.signal.gates as gates\n",
    "import c3.libraries.chip as chip\n",
    "import c3.signal.pulse as pulse\n",
    "import c3.libraries.tasks as tasks\n",
    "\n",
    "# Libs and helpers\n",
    "import c3.libraries.algorithms as algorithms\n",
    "import c3.libraries.hamiltonians as hamiltonians\n",
    "import c3.libraries.fidelities as fidelities\n",
    "import c3.libraries.envelopes as envelopes\n",
    "import c3.utils.qt_utils as qt_utils\n",
    "import c3.utils.tf_utils as tf_utils\n",
    "\n",
    "# Qiskit related modules\n",
    "from c3.qiskit import C3Provider\n",
    "from c3.qiskit.c3_gates import RX90pGate\n",
    "from qiskit import QuantumCircuit, Aer, execute\n",
    "from qiskit.tools.visualization import plot_histogram"
   ]
  },
  {
   "cell_type": "markdown",
   "metadata": {},
   "source": [
    "#### Model components\n",
    "We first create a qubit. Each parameter is a Quantity (`Qty()`) object with bounds and a unit. In $C^3$, the default multi-level qubit is a Transmon modelled as a Duffing oscillator with frequency $\\omega$ and anharmonicity $\\delta$ :\n",
    "$$ H/\\hbar = \\omega b^\\dagger b - \\frac{\\delta}{2}                        \\left(b^\\dagger b - 1\\right) b^\\dagger b \n",
    "$$\n",
    "The \"name\" will be used to identify this qubit (or other component) later and should thus be chosen carefully."
   ]
  },
  {
   "cell_type": "code",
   "execution_count": 3,
   "metadata": {
    "ExecuteTime": {
     "end_time": "2020-06-10T13:45:05.684014Z",
     "start_time": "2020-06-10T13:45:04.441825Z"
    }
   },
   "outputs": [],
   "source": [
    "qubit_lvls = 3\n",
    "freq_q1 = 5e9\n",
    "anhar_q1 = -210e6\n",
    "t1_q1 = 27e-6\n",
    "t2star_q1 = 39e-6\n",
    "qubit_temp = 50e-3\n",
    "\n",
    "q1 = chip.Qubit(\n",
    "    name=\"Q1\",\n",
    "    desc=\"Qubit 1\",\n",
    "    freq=Qty(\n",
    "        value=freq_q1,\n",
    "        min_val=4.995e9 ,\n",
    "        max_val=5.005e9 ,\n",
    "        unit='Hz 2pi'\n",
    "    ),\n",
    "    anhar=Qty(\n",
    "        value=anhar_q1,\n",
    "        min_val=-380e6 ,\n",
    "        max_val=-120e6 ,\n",
    "        unit='Hz 2pi'\n",
    "    ),\n",
    "    hilbert_dim=qubit_lvls,\n",
    "    t1=Qty(\n",
    "        value=t1_q1,\n",
    "        min_val=1e-6,\n",
    "        max_val=90e-6,\n",
    "        unit='s'\n",
    "    ),\n",
    "    t2star=Qty(\n",
    "        value=t2star_q1,\n",
    "        min_val=10e-6,\n",
    "        max_val=90e-3,\n",
    "        unit='s'\n",
    "    ),\n",
    "    temp=Qty(\n",
    "        value=qubit_temp,\n",
    "        min_val=0.0,\n",
    "        max_val=0.12,\n",
    "        unit='K'\n",
    "    )\n",
    ")"
   ]
  },
  {
   "cell_type": "markdown",
   "metadata": {},
   "source": [
    "And the same for a second qubit."
   ]
  },
  {
   "cell_type": "code",
   "execution_count": 4,
   "metadata": {
    "ExecuteTime": {
     "end_time": "2020-06-10T13:45:05.684014Z",
     "start_time": "2020-06-10T13:45:04.441825Z"
    }
   },
   "outputs": [],
   "source": [
    "freq_q2 = 5.6e9\n",
    "anhar_q2 = -240e6\n",
    "t1_q2 = 23e-6\n",
    "t2star_q2 = 31e-6\n",
    "q2 = chip.Qubit(\n",
    "    name=\"Q2\",\n",
    "    desc=\"Qubit 2\",\n",
    "    freq=Qty(\n",
    "        value=freq_q2,\n",
    "        min_val=5.595e9 ,\n",
    "        max_val=5.605e9 ,\n",
    "        unit='Hz 2pi'\n",
    "    ),\n",
    "    anhar=Qty(\n",
    "        value=anhar_q2,\n",
    "        min_val=-380e6 ,\n",
    "        max_val=-120e6 ,\n",
    "        unit='Hz 2pi'\n",
    "    ),\n",
    "    hilbert_dim=qubit_lvls,\n",
    "    t1=Qty(\n",
    "        value=t1_q2,\n",
    "        min_val=1e-6,\n",
    "        max_val=90e-6,\n",
    "        unit='s'\n",
    "    ),\n",
    "    t2star=Qty(\n",
    "        value=t2star_q2,\n",
    "        min_val=10e-6,\n",
    "        max_val=90e-6,\n",
    "        unit='s'\n",
    "    ),\n",
    "    temp=Qty(\n",
    "        value=qubit_temp,\n",
    "        min_val=0.0,\n",
    "        max_val=0.12,\n",
    "        unit='K'\n",
    "    )\n",
    ")"
   ]
  },
  {
   "cell_type": "markdown",
   "metadata": {},
   "source": [
    "A static coupling between the two is realized in the following way. We supply the type of coupling by selecting `int_XX` $(b_1+b_1^\\dagger)(b_2+b_2^\\dagger)$ from the hamiltonian library. The \"connected\" property contains the list of qubit names to be coupled, in this case \"Q1\" and \"Q2\"."
   ]
  },
  {
   "cell_type": "code",
   "execution_count": 5,
   "metadata": {
    "ExecuteTime": {
     "end_time": "2020-06-10T13:45:05.684014Z",
     "start_time": "2020-06-10T13:45:04.441825Z"
    }
   },
   "outputs": [],
   "source": [
    "coupling_strength = 20e6\n",
    "q1q2 = chip.Coupling(\n",
    "    name=\"Q1-Q2\",\n",
    "    desc=\"coupling\",\n",
    "    comment=\"Coupling qubit 1 to qubit 2\",\n",
    "    connected=[\"Q1\", \"Q2\"],\n",
    "    strength=Qty(\n",
    "        value=coupling_strength,\n",
    "        min_val=-1 * 1e3 ,\n",
    "        max_val=200e6 ,\n",
    "        unit='Hz 2pi'\n",
    "    ),\n",
    "    hamiltonian_func=hamiltonians.int_XX\n",
    ")"
   ]
  },
  {
   "cell_type": "markdown",
   "metadata": {},
   "source": [
    "In the same spirit, we specify control Hamiltonians to drive the system. Again \"connected\" connected tells us which qubit this drive acts on and \"name\" will later be used to assign the correct control signal to this drive line."
   ]
  },
  {
   "cell_type": "code",
   "execution_count": 6,
   "metadata": {
    "ExecuteTime": {
     "end_time": "2020-06-10T13:45:05.684014Z",
     "start_time": "2020-06-10T13:45:04.441825Z"
    }
   },
   "outputs": [],
   "source": [
    "drive = chip.Drive(\n",
    "    name=\"d1\",\n",
    "    desc=\"Drive 1\",\n",
    "    comment=\"Drive line 1 on qubit 1\",\n",
    "    connected=[\"Q1\"],\n",
    "    hamiltonian_func=hamiltonians.x_drive\n",
    ")\n",
    "drive2 = chip.Drive(\n",
    "    name=\"d2\",\n",
    "    desc=\"Drive 2\",\n",
    "    comment=\"Drive line 2 on qubit 2\",\n",
    "    connected=[\"Q2\"],\n",
    "    hamiltonian_func=hamiltonians.x_drive\n",
    ")"
   ]
  },
  {
   "cell_type": "markdown",
   "metadata": {},
   "source": [
    "#### SPAM errors\n",
    "In experimental practice, the qubit state can be mis-classified during read-out. We simulate this by constructing a _confusion matrix_, containing the probabilities for one qubit state being mistaken for another."
   ]
  },
  {
   "cell_type": "code",
   "execution_count": 7,
   "metadata": {
    "ExecuteTime": {
     "end_time": "2020-06-10T13:45:05.684014Z",
     "start_time": "2020-06-10T13:45:04.441825Z"
    }
   },
   "outputs": [],
   "source": [
    "m00_q1 = 0.97  # Prop to read qubit 1 state 0 as 0\n",
    "m01_q1 = 0.04  # Prop to read qubit 1 state 0 as 1\n",
    "m00_q2 = 0.96  # Prop to read qubit 2 state 0 as 0\n",
    "m01_q2 = 0.05  # Prop to read qubit 2 state 0 as 1\n",
    "one_zeros = np.array([0] * qubit_lvls)\n",
    "zero_ones = np.array([1] * qubit_lvls)\n",
    "one_zeros[0] = 1\n",
    "zero_ones[0] = 0\n",
    "val1 = one_zeros * m00_q1 + zero_ones * m01_q1\n",
    "val2 = one_zeros * m00_q2 + zero_ones * m01_q2\n",
    "min_val = one_zeros * 0.8 + zero_ones * 0.0\n",
    "max_val = one_zeros * 1.0 + zero_ones * 0.2\n",
    "confusion_row1 = Qty(value=val1, min_val=min_val, max_val=max_val, unit=\"\")\n",
    "confusion_row2 = Qty(value=val2, min_val=min_val, max_val=max_val, unit=\"\")\n",
    "conf_matrix = tasks.ConfusionMatrix(Q1=confusion_row1, Q2=confusion_row2)"
   ]
  },
  {
   "cell_type": "markdown",
   "metadata": {},
   "source": [
    "The following task creates an initial thermal state with given temperature."
   ]
  },
  {
   "cell_type": "code",
   "execution_count": 8,
   "metadata": {
    "ExecuteTime": {
     "end_time": "2020-06-10T13:45:05.684014Z",
     "start_time": "2020-06-10T13:45:04.441825Z"
    }
   },
   "outputs": [],
   "source": [
    "init_temp = 50e-3\n",
    "init_ground = tasks.InitialiseGround(\n",
    "    init_temp=Qty(\n",
    "        value=init_temp,\n",
    "        min_val=-0.001,\n",
    "        max_val=0.22,\n",
    "        unit='K'\n",
    "    )\n",
    ")"
   ]
  },
  {
   "cell_type": "markdown",
   "metadata": {},
   "source": [
    "We collect the parts specified above in the Model."
   ]
  },
  {
   "cell_type": "code",
   "execution_count": 9,
   "metadata": {
    "ExecuteTime": {
     "end_time": "2020-06-10T13:45:05.684014Z",
     "start_time": "2020-06-10T13:45:04.441825Z"
    }
   },
   "outputs": [],
   "source": [
    "model = Mdl(\n",
    "    [q1, q2], # Individual, self-contained components\n",
    "    [drive, drive2, q1q2],  # Interactions between components\n",
    "    # [conf_matrix, init_ground] # SPAM processing\n",
    ")"
   ]
  },
  {
   "cell_type": "markdown",
   "metadata": {},
   "source": [
    "Further, we can decide between coherent or open-system dynamics using set_lindbladian() and whether to eliminate the static coupling by going to the dressed frame with set_dressed()."
   ]
  },
  {
   "cell_type": "code",
   "execution_count": 10,
   "metadata": {
    "ExecuteTime": {
     "end_time": "2020-06-10T13:45:05.684014Z",
     "start_time": "2020-06-10T13:45:04.441825Z"
    }
   },
   "outputs": [],
   "source": [
    "model.set_lindbladian(False)\n",
    "model.set_dressed(True)"
   ]
  },
  {
   "cell_type": "markdown",
   "metadata": {},
   "source": [
    "#### Control signals\n",
    "With the model taken care of, we now specify the control electronics and signal chain. Complex shaped controls are often realized by creating an envelope signal with an arbitrary waveform generator (AWG) with limited bandwith and mixing it with a fast, stable local oscillator (LO)."
   ]
  },
  {
   "cell_type": "code",
   "execution_count": 11,
   "metadata": {
    "ExecuteTime": {
     "end_time": "2020-06-10T13:45:05.684014Z",
     "start_time": "2020-06-10T13:45:04.441825Z"
    }
   },
   "outputs": [],
   "source": [
    "sim_res = 100e9 # Resolution for numerical simulation\n",
    "awg_res = 2e9 # Realistic, limited resolution of an AWG\n",
    "lo = devices.LO(name='lo', resolution=sim_res)\n",
    "awg = devices.AWG(name='awg', resolution=awg_res)\n",
    "mixer = devices.Mixer(name='mixer')"
   ]
  },
  {
   "cell_type": "markdown",
   "metadata": {},
   "source": [
    "Waveform generators exhibit a rise time, the time it takes until the target voltage is set. This has a smoothing effect on the resulting pulse shape."
   ]
  },
  {
   "cell_type": "code",
   "execution_count": 12,
   "metadata": {},
   "outputs": [],
   "source": [
    "resp = devices.Response(\n",
    "    name='resp',\n",
    "    rise_time=Qty(\n",
    "        value=0.3e-9,\n",
    "        min_val=0.05e-9,\n",
    "        max_val=0.6e-9,\n",
    "        unit='s'\n",
    "    ),\n",
    "    resolution=sim_res\n",
    ")"
   ]
  },
  {
   "cell_type": "markdown",
   "metadata": {},
   "source": [
    "In simulation, we translate between AWG resolution and simulation (or \"analog\") resolultion by including an up-sampling device."
   ]
  },
  {
   "cell_type": "code",
   "execution_count": 13,
   "metadata": {},
   "outputs": [],
   "source": [
    "dig_to_an = devices.DigitalToAnalog(\n",
    "    name=\"dac\",\n",
    "    resolution=sim_res\n",
    ")"
   ]
  },
  {
   "cell_type": "markdown",
   "metadata": {},
   "source": [
    "Control electronics apply voltages to lines, whereas in a Hamiltonian we usually write the control fields in energy or frequency units. In practice, this conversion can be highly non-trivial if it involves multiple stages of attenuation and for example the conversion of a line voltage in an antenna to a dipole field coupling to the qubit. The following device represents a simple, linear conversion factor."
   ]
  },
  {
   "cell_type": "code",
   "execution_count": 14,
   "metadata": {
    "ExecuteTime": {
     "end_time": "2020-06-10T13:45:05.684014Z",
     "start_time": "2020-06-10T13:45:04.441825Z"
    }
   },
   "outputs": [],
   "source": [
    "v2hz = 1e9\n",
    "v_to_hz = devices.VoltsToHertz(\n",
    "    name='v_to_hz',\n",
    "    V_to_Hz=Qty(\n",
    "        value=v2hz,\n",
    "        min_val=0.9e9,\n",
    "        max_val=1.1e9,\n",
    "        unit='Hz/V'\n",
    "    )\n",
    ")"
   ]
  },
  {
   "cell_type": "markdown",
   "metadata": {},
   "source": [
    "The generator combines the parts of the signal generation and assignes a signal chain to each control line."
   ]
  },
  {
   "cell_type": "code",
   "execution_count": 15,
   "metadata": {
    "ExecuteTime": {
     "end_time": "2020-06-10T13:45:05.684014Z",
     "start_time": "2020-06-10T13:45:04.441825Z"
    }
   },
   "outputs": [],
   "source": [
    "generator = Gnr(\n",
    "        devices={\n",
    "            \"LO\": devices.LO(name='lo', resolution=sim_res, outputs=1),\n",
    "            \"AWG\": devices.AWG(name='awg', resolution=awg_res, outputs=1),\n",
    "            \"DigitalToAnalog\": devices.DigitalToAnalog(\n",
    "                name=\"dac\",\n",
    "                resolution=sim_res,\n",
    "                inputs=1,\n",
    "                outputs=1\n",
    "            ),\n",
    "            \"Response\": devices.Response(\n",
    "                name='resp',\n",
    "                rise_time=Qty(\n",
    "                    value=0.3e-9,\n",
    "                    min_val=0.05e-9,\n",
    "                    max_val=0.6e-9,\n",
    "                    unit='s'\n",
    "                ),\n",
    "                resolution=sim_res,\n",
    "                inputs=1,\n",
    "                outputs=1\n",
    "            ),\n",
    "            \"Mixer\": devices.Mixer(name='mixer', inputs=2, outputs=1),\n",
    "            \"VoltsToHertz\": devices.VoltsToHertz(\n",
    "                name='v_to_hz',\n",
    "                V_to_Hz=Qty(\n",
    "                    value=1e9,\n",
    "                    min_val=0.9e9,\n",
    "                    max_val=1.1e9,\n",
    "                    unit='Hz/V'\n",
    "                ),\n",
    "                inputs=1,\n",
    "                outputs=1\n",
    "            )\n",
    "        },\n",
    "        chains= {\n",
    "            \"d1\": {\n",
    "                \"LO\": [],\n",
    "                \"AWG\": [],\n",
    "                \"DigitalToAnalog\": [\"AWG\"],\n",
    "                \"Response\": [\"DigitalToAnalog\"],\n",
    "                \"Mixer\": [\"LO\", \"Response\"],\n",
    "                \"VoltsToHertz\": [\"Mixer\"]\n",
    "            },\n",
    "            \"d2\": {\n",
    "                \"LO\": [],\n",
    "                \"AWG\": [],\n",
    "                \"DigitalToAnalog\": [\"AWG\"],\n",
    "                \"Response\": [\"DigitalToAnalog\"],\n",
    "                \"Mixer\": [\"LO\", \"Response\"],\n",
    "                \"VoltsToHertz\": [\"Mixer\"]\n",
    "            },\n",
    "        }\n",
    "    )"
   ]
  },
  {
   "cell_type": "markdown",
   "metadata": {
    "pycharm": {
     "name": "#%% md\n"
    }
   },
   "source": [
    "Optionally, we can look at the signal generated by each device by setting a callback."
   ]
  },
  {
   "cell_type": "code",
   "execution_count": 16,
   "metadata": {
    "collapsed": false,
    "jupyter": {
     "outputs_hidden": false
    },
    "pycharm": {
     "name": "#%%\n"
    }
   },
   "outputs": [],
   "source": [
    "generator.callback = lambda chain_id, device_id, signal: (\n",
    "    # do something\n",
    ")"
   ]
  },
  {
   "cell_type": "markdown",
   "metadata": {},
   "source": [
    "#### Gates-set and Parameter map\n",
    "It remains to write down what kind of operations we want to perform on the device. For a gate based quantum computing chip, we define a gate-set.\n",
    "\n",
    "We choose a gate time of 7ns and a gaussian envelope shape with a list of parameters."
   ]
  },
  {
   "cell_type": "code",
   "execution_count": 17,
   "metadata": {
    "ExecuteTime": {
     "end_time": "2020-06-10T13:45:05.684014Z",
     "start_time": "2020-06-10T13:45:04.441825Z"
    }
   },
   "outputs": [],
   "source": [
    "t_final = 7e-9   # Time for single qubit gates\n",
    "sideband = 50e6 \n",
    "gauss_params_single = {\n",
    "    'amp': Qty(\n",
    "        value=0.5,\n",
    "        min_val=0.2,\n",
    "        max_val=0.6,\n",
    "        unit=\"V\"\n",
    "    ),\n",
    "    't_final': Qty(\n",
    "        value=t_final,\n",
    "        min_val=0.5 * t_final,\n",
    "        max_val=1.5 * t_final,\n",
    "        unit=\"s\"\n",
    "    ),\n",
    "    'sigma': Qty(\n",
    "        value=t_final / 4,\n",
    "        min_val=t_final / 8,\n",
    "        max_val=t_final / 2,\n",
    "        unit=\"s\"\n",
    "    ),\n",
    "    'xy_angle': Qty(\n",
    "        value=0.0,\n",
    "        min_val=-0.5 * np.pi,\n",
    "        max_val=2.5 * np.pi,\n",
    "        unit='rad'\n",
    "    ),\n",
    "    'freq_offset': Qty(\n",
    "        value=-sideband - 3e6 ,\n",
    "        min_val=-56 * 1e6 ,\n",
    "        max_val=-52 * 1e6 ,\n",
    "        unit='Hz 2pi'\n",
    "    ),\n",
    "    'delta': Qty(\n",
    "        value=-1,\n",
    "        min_val=-5,\n",
    "        max_val=3,\n",
    "        unit=\"\"\n",
    "    )\n",
    "}"
   ]
  },
  {
   "cell_type": "markdown",
   "metadata": {},
   "source": [
    "Here we take `gaussian_nonorm()` from the libraries as the function to define the shape."
   ]
  },
  {
   "cell_type": "code",
   "execution_count": 18,
   "metadata": {
    "ExecuteTime": {
     "end_time": "2020-06-10T13:45:05.684014Z",
     "start_time": "2020-06-10T13:45:04.441825Z"
    }
   },
   "outputs": [],
   "source": [
    "gauss_env_single = pulse.Envelope(\n",
    "    name=\"gauss\",\n",
    "    desc=\"Gaussian comp for single-qubit gates\",\n",
    "    params=gauss_params_single,\n",
    "    shape=envelopes.gaussian_nonorm\n",
    ")"
   ]
  },
  {
   "cell_type": "markdown",
   "metadata": {},
   "source": [
    "We also define a gate that represents no driving."
   ]
  },
  {
   "cell_type": "code",
   "execution_count": 19,
   "metadata": {
    "ExecuteTime": {
     "end_time": "2020-06-10T13:45:05.684014Z",
     "start_time": "2020-06-10T13:45:04.441825Z"
    }
   },
   "outputs": [],
   "source": [
    "nodrive_env = pulse.Envelope(\n",
    "    name=\"no_drive\",\n",
    "    params={\n",
    "        't_final': Qty(\n",
    "            value=t_final,\n",
    "            min_val=0.5 * t_final,\n",
    "            max_val=1.5 * t_final,\n",
    "            unit=\"s\"\n",
    "        )\n",
    "    },\n",
    "    shape=envelopes.no_drive\n",
    ")"
   ]
  },
  {
   "cell_type": "markdown",
   "metadata": {},
   "source": [
    "We specify the drive tones with an offset from the qubit frequencies. As is done in experiment, we will later adjust the resonance by modulating the envelope function."
   ]
  },
  {
   "cell_type": "code",
   "execution_count": 20,
   "metadata": {
    "ExecuteTime": {
     "end_time": "2020-06-10T13:45:05.684014Z",
     "start_time": "2020-06-10T13:45:04.441825Z"
    }
   },
   "outputs": [],
   "source": [
    "lo_freq_q1 = 5e9  + sideband\n",
    "carrier_parameters = {\n",
    "    'freq': Qty(\n",
    "        value=lo_freq_q1,\n",
    "        min_val=4.5e9 ,\n",
    "        max_val=6e9 ,\n",
    "        unit='Hz 2pi'\n",
    "    ),\n",
    "    'framechange': Qty(\n",
    "        value=0.0,\n",
    "        min_val= -np.pi,\n",
    "        max_val= 3 * np.pi,\n",
    "        unit='rad'\n",
    "    )\n",
    "}\n",
    "carr = pulse.Carrier(\n",
    "    name=\"carrier\",\n",
    "    desc=\"Frequency of the local oscillator\",\n",
    "    params=carrier_parameters\n",
    ")"
   ]
  },
  {
   "cell_type": "markdown",
   "metadata": {},
   "source": [
    "For the second qubit drive tone, we copy the first one and replace the frequency. The deepcopy is to ensure that we don't just create a pointer to the first drive."
   ]
  },
  {
   "cell_type": "code",
   "execution_count": 21,
   "metadata": {
    "ExecuteTime": {
     "end_time": "2020-06-10T13:45:05.684014Z",
     "start_time": "2020-06-10T13:45:04.441825Z"
    }
   },
   "outputs": [],
   "source": [
    "lo_freq_q2 = 5.6e9  + sideband\n",
    "carr_2 = copy.deepcopy(carr)\n",
    "carr_2.params['freq'].set_value(lo_freq_q2)"
   ]
  },
  {
   "cell_type": "markdown",
   "metadata": {},
   "source": [
    "#### Instructions\n",
    "We define the gates we want to perform with a \"name\" that will identify them later and \"channels\" relating to the control Hamiltonians and drive lines we specified earlier. As a start we write down 90 degree rotations in the positive $x$-direction and identity gates for both qubits. Then we add a carrier and envelope to each."
   ]
  },
  {
   "cell_type": "code",
   "execution_count": 22,
   "metadata": {
    "ExecuteTime": {
     "end_time": "2020-06-10T13:45:05.684014Z",
     "start_time": "2020-06-10T13:45:04.441825Z"
    }
   },
   "outputs": [],
   "source": [
    "rx90p_q1 = gates.Instruction(\n",
    "    name=\"rx90p\", targets=[0], t_start=0.0, t_end=t_final, channels=[\"d1\", \"d2\"]\n",
    ")\n",
    "rx90p_q2 = gates.Instruction(\n",
    "    name=\"rx90p\", targets=[1], t_start=0.0, t_end=t_final, channels=[\"d1\", \"d2\"]\n",
    ")\n",
    "\n",
    "rx90p_q1.add_component(gauss_env_single, \"d1\")\n",
    "rx90p_q1.add_component(carr, \"d1\")\n",
    "\n",
    "\n",
    "rx90p_q2.add_component(copy.deepcopy(gauss_env_single), \"d2\")\n",
    "rx90p_q2.add_component(carr_2, \"d2\")"
   ]
  },
  {
   "cell_type": "markdown",
   "metadata": {},
   "source": [
    "When later compiling gates into sequences, we have to take care of the relative rotating frames of the qubits and local oscillators. We do this by adding a phase after each gate that realigns the frames."
   ]
  },
  {
   "cell_type": "code",
   "execution_count": 23,
   "metadata": {},
   "outputs": [],
   "source": [
    "rx90p_q1.add_component(nodrive_env, \"d2\")\n",
    "rx90p_q1.add_component(copy.deepcopy(carr_2), \"d2\")\n",
    "rx90p_q1.comps[\"d2\"][\"carrier\"].params[\"framechange\"].set_value(\n",
    "    (-sideband * t_final) * 2 * np.pi % (2 * np.pi)\n",
    ")\n",
    "\n",
    "rx90p_q2.add_component(nodrive_env, \"d1\")\n",
    "rx90p_q2.add_component(copy.deepcopy(carr), \"d1\")\n",
    "rx90p_q2.comps[\"d1\"][\"carrier\"].params[\"framechange\"].set_value(\n",
    "    (-sideband * t_final) * 2 * np.pi % (2 * np.pi)\n",
    ")"
   ]
  },
  {
   "cell_type": "markdown",
   "metadata": {},
   "source": [
    "The remainder of the gates-set can be derived from the RX90p gate by shifting its phase by multiples of $\\pi/2$."
   ]
  },
  {
   "cell_type": "code",
   "execution_count": 24,
   "metadata": {
    "ExecuteTime": {
     "end_time": "2020-06-10T13:45:05.684014Z",
     "start_time": "2020-06-10T13:45:04.441825Z"
    }
   },
   "outputs": [],
   "source": [
    "ry90p_q1 = copy.deepcopy(rx90p_q1)\n",
    "ry90p_q1.name = \"ry90p\"\n",
    "rx90m_q1 = copy.deepcopy(rx90p_q1)\n",
    "rx90m_q1.name = \"rx90m\"\n",
    "ry90m_q1 = copy.deepcopy(rx90p_q1)\n",
    "ry90m_q1.name = \"ry90m\"\n",
    "ry90p_q1.comps['d1']['gauss'].params['xy_angle'].set_value(0.5 * np.pi)\n",
    "rx90m_q1.comps['d1']['gauss'].params['xy_angle'].set_value(np.pi)\n",
    "ry90m_q1.comps['d1']['gauss'].params['xy_angle'].set_value(1.5 * np.pi)\n",
    "single_q_gates = [rx90p_q1, ry90p_q1, rx90m_q1, ry90m_q1]\n",
    "\n",
    "\n",
    "ry90p_q2 = copy.deepcopy(rx90p_q2)\n",
    "ry90p_q2.name = \"ry90p\"\n",
    "rx90m_q2 = copy.deepcopy(rx90p_q2)\n",
    "rx90m_q2.name = \"rx90m\"\n",
    "ry90m_q2 = copy.deepcopy(rx90p_q2)\n",
    "ry90m_q2.name = \"ry90m\"\n",
    "ry90p_q2.comps['d2']['gauss'].params['xy_angle'].set_value(0.5 * np.pi)\n",
    "rx90m_q2.comps['d2']['gauss'].params['xy_angle'].set_value(np.pi)\n",
    "ry90m_q2.comps['d2']['gauss'].params['xy_angle'].set_value(1.5 * np.pi)\n",
    "single_q_gates.extend([rx90p_q2, ry90p_q2, rx90m_q2, ry90m_q2])"
   ]
  },
  {
   "cell_type": "markdown",
   "metadata": {},
   "source": [
    "With every component defined, we collect them in the parameter map, our object that holds information and methods to manipulate and examine model and control parameters."
   ]
  },
  {
   "cell_type": "code",
   "execution_count": 25,
   "metadata": {
    "ExecuteTime": {
     "end_time": "2020-06-10T13:45:05.684014Z",
     "start_time": "2020-06-10T13:45:04.441825Z"
    }
   },
   "outputs": [],
   "source": [
    "parameter_map = PMap(instructions=single_q_gates, model=model, generator=generator)"
   ]
  },
  {
   "cell_type": "markdown",
   "metadata": {},
   "source": [
    "#### The experiment\n",
    "Finally everything is collected in the experiment that provides the functions to interact with the system."
   ]
  },
  {
   "cell_type": "code",
   "execution_count": 26,
   "metadata": {
    "ExecuteTime": {
     "end_time": "2020-06-10T13:45:05.684014Z",
     "start_time": "2020-06-10T13:45:04.441825Z"
    }
   },
   "outputs": [],
   "source": [
    "exp = Exp(pmap=parameter_map)"
   ]
  },
  {
   "cell_type": "markdown",
   "metadata": {},
   "source": [
    "#### Simulation\n",
    "With our experiment all set-up, we can perform simulations. We first decide which basic gates to simulate, in this case only the 90 degree rotation on one qubit and the identity."
   ]
  },
  {
   "cell_type": "code",
   "execution_count": 27,
   "metadata": {},
   "outputs": [],
   "source": [
    "exp.set_opt_gates(['rx90p[0]'])"
   ]
  },
  {
   "cell_type": "markdown",
   "metadata": {},
   "source": [
    "The actual numerical simulation is done by calling `exp.compute_propagators()`. \n",
    "This is the most resource intensive part as it involves solving the equations of motion for the system."
   ]
  },
  {
   "cell_type": "code",
   "execution_count": 28,
   "metadata": {},
   "outputs": [
    {
     "name": "stderr",
     "output_type": "stream",
     "text": [
      "2022-01-01 20:50:56.527150: I tensorflow/compiler/mlir/mlir_graph_optimization_pass.cc:185] None of the MLIR Optimization Passes are enabled (registered 2)\n",
      "2022-01-01 20:50:56.529258: W tensorflow/core/platform/profile_utils/cpu_utils.cc:128] Failed to get CPU frequency: 0 Hz\n"
     ]
    }
   ],
   "source": [
    "unitaries = exp.compute_propagators()"
   ]
  },
  {
   "cell_type": "markdown",
   "metadata": {},
   "source": [
    "After this step the unitaries or process matrices are stored in the exp object. We can look at their names and matrix representations."
   ]
  },
  {
   "cell_type": "code",
   "execution_count": 29,
   "metadata": {},
   "outputs": [
    {
     "data": {
      "text/plain": [
       "{'rx90p[0]': <tf.Tensor: shape=(9, 9), dtype=complex128, numpy=\n",
       " array([[ 5.39825284e-01+5.54517419e-02j, -1.21231184e-05-5.60980495e-05j,\n",
       "          4.38216588e-08+4.13467944e-07j, -1.29299892e-01-8.22161934e-01j,\n",
       "         -1.80728039e-04-5.35242954e-05j,  8.98184810e-07-7.04716291e-07j,\n",
       "          1.04613741e-01+4.36000401e-02j,  4.93043675e-05-1.39851622e-04j,\n",
       "         -7.74227433e-07+1.23706446e-06j],\n",
       "        [ 7.98476064e-06-7.23397325e-05j,  5.41160284e-01+3.44797298e-02j,\n",
       "         -1.37214047e-03+6.02440798e-04j, -1.66046684e-04+1.03408079e-04j,\n",
       "         -1.27492873e-01-8.23225468e-01j,  3.45385300e-04+6.12323521e-04j,\n",
       "          4.31572330e-05+3.03419421e-05j,  1.00251255e-01+4.39341472e-02j,\n",
       "         -4.32584379e-03+2.60851963e-04j],\n",
       "        [ 4.72923739e-08-3.42862743e-07j, -5.83580900e-04-1.51316067e-03j,\n",
       "         -2.23528167e-01-4.93786399e-01j,  8.72357384e-08-1.00071189e-07j,\n",
       "         -1.29723990e-03-9.36089078e-06j, -6.24355251e-01+5.51696281e-01j,\n",
       "          7.54826880e-06+2.38542677e-06j,  2.01327083e-04+1.55351353e-04j,\n",
       "         -1.49795857e-02-1.08596125e-01j],\n",
       "        [-2.14245546e-01-8.03084039e-01j,  6.75291119e-05+8.72417121e-05j,\n",
       "          4.46531956e-08+1.30575469e-07j,  4.77289095e-01-2.75981622e-01j,\n",
       "         -4.65950605e-06-2.80491339e-05j, -7.13097288e-07-4.39097221e-07j,\n",
       "         -1.88381106e-02-6.94925756e-02j, -1.31426420e-05-1.72906258e-04j,\n",
       "         -1.38594504e-06-1.73424795e-07j],\n",
       "        [ 1.45440535e-05-9.29213862e-05j, -2.14257086e-01-8.03921833e-01j,\n",
       "          2.26613210e-04+1.48313025e-03j, -1.64587369e-05-1.36540545e-05j,\n",
       "          4.87521650e-01-2.55321044e-01j,  5.85775921e-04-6.57223593e-04j,\n",
       "          2.13187267e-05-9.74723976e-06j, -1.37135264e-02-6.84239109e-02j,\n",
       "         -4.05563554e-03-6.92940069e-03j],\n",
       "        [-1.01683352e-06+1.32660405e-06j, -4.33915980e-04+6.30542809e-04j,\n",
       "         -5.64002332e-01+6.11829872e-01j,  6.64550094e-07+2.99933056e-07j,\n",
       "          2.66985483e-04+9.55208337e-04j, -4.97198598e-01-2.35737270e-01j,\n",
       "          1.00224210e-05-3.26954536e-06j, -2.55215193e-04+8.39860828e-06j,\n",
       "         -5.08677327e-02+4.68818767e-02j],\n",
       "        [ 1.17801477e-01-2.81318871e-02j,  1.68280993e-05-2.30935405e-05j,\n",
       "         -1.05406704e-05+2.15483832e-06j, -4.31206386e-02-3.87440972e-02j,\n",
       "         -3.44120282e-05-3.18706461e-05j, -7.38992388e-06+2.23479384e-06j,\n",
       "         -9.87099263e-01+8.72120030e-02j,  1.41929207e-05-1.49096160e-04j,\n",
       "         -8.36684911e-07-2.41791489e-07j],\n",
       "        [ 1.72568046e-04+6.15617825e-05j,  1.14320991e-01-2.58563473e-02j,\n",
       "          3.96759223e-05-1.85456774e-04j,  1.46044476e-04+3.54356380e-05j,\n",
       "         -3.90824786e-02-3.98188593e-02j,  9.95009234e-05+2.96226765e-04j,\n",
       "         -1.16640718e-05-1.29699874e-04j, -9.91427602e-01+1.47083695e-02j,\n",
       "         -1.95316279e-03+3.63115027e-04j],\n",
       "        [ 6.50190710e-07-8.68919633e-07j, -1.07057367e-03-4.25030246e-03j,\n",
       "         -8.18078214e-02-8.41348678e-02j,  1.03734278e-06+3.54619500e-07j,\n",
       "          6.50641262e-03-4.60221362e-03j, -1.40497784e-02+5.32396841e-02j,\n",
       "          5.82924941e-07+1.47798521e-07j, -8.61286526e-04-1.90071781e-03j,\n",
       "          5.47485038e-01+8.26661961e-01j]])>}"
      ]
     },
     "execution_count": 29,
     "metadata": {},
     "output_type": "execute_result"
    }
   ],
   "source": [
    "unitaries"
   ]
  },
  {
   "cell_type": "markdown",
   "metadata": {},
   "source": [
    "### Dynamics\n",
    "\n",
    "To investigate dynamics, we define the ground state as an initial state."
   ]
  },
  {
   "cell_type": "code",
   "execution_count": 30,
   "metadata": {},
   "outputs": [],
   "source": [
    "psi_init = [[0] * 9]\n",
    "psi_init[0][0] = 1\n",
    "init_state = tf.transpose(tf.constant(psi_init, tf.complex128))"
   ]
  },
  {
   "cell_type": "code",
   "execution_count": 31,
   "metadata": {},
   "outputs": [
    {
     "data": {
      "text/plain": [
       "<tf.Tensor: shape=(9, 1), dtype=complex128, numpy=\n",
       "array([[1.+0.j],\n",
       "       [0.+0.j],\n",
       "       [0.+0.j],\n",
       "       [0.+0.j],\n",
       "       [0.+0.j],\n",
       "       [0.+0.j],\n",
       "       [0.+0.j],\n",
       "       [0.+0.j],\n",
       "       [0.+0.j]])>"
      ]
     },
     "execution_count": 31,
     "metadata": {},
     "output_type": "execute_result"
    }
   ],
   "source": [
    "init_state"
   ]
  },
  {
   "cell_type": "markdown",
   "metadata": {},
   "source": [
    "Since we stored the process matrices, we can now relatively inexpesively evaluate sequences. We start with just one gate"
   ]
  },
  {
   "cell_type": "code",
   "execution_count": 32,
   "metadata": {},
   "outputs": [],
   "source": [
    "barely_a_seq = ['rx90p[0]']"
   ]
  },
  {
   "cell_type": "markdown",
   "metadata": {},
   "source": [
    "and plot system dynamics."
   ]
  },
  {
   "cell_type": "code",
   "execution_count": 33,
   "metadata": {},
   "outputs": [],
   "source": [
    "def plot_dynamics(exp, psi_init, seq, goal=-1):\n",
    "        \"\"\"\n",
    "        Plotting code for time-resolved populations.\n",
    "\n",
    "        Parameters\n",
    "        ----------\n",
    "        psi_init: tf.Tensor\n",
    "            Initial state or density matrix.\n",
    "        seq: list\n",
    "            List of operations to apply to the initial state.\n",
    "        goal: tf.float64\n",
    "            Value of the goal function, if used.\n",
    "        debug: boolean\n",
    "            If true, return a matplotlib figure instead of saving.\n",
    "        \"\"\"\n",
    "        model = exp.pmap.model\n",
    "        dUs = exp.partial_propagators\n",
    "        psi_t = psi_init.numpy()\n",
    "        pop_t = exp.populations(psi_t, model.lindbladian)\n",
    "        for gate in seq:\n",
    "            for du in dUs[gate]:\n",
    "                psi_t = np.matmul(du.numpy(), psi_t)\n",
    "                pops = exp.populations(psi_t, model.lindbladian)\n",
    "                pop_t = np.append(pop_t, pops, axis=1)\n",
    "\n",
    "        fig, axs = plt.subplots(1, 1)\n",
    "        ts = exp.ts\n",
    "        dt = ts[1] - ts[0]\n",
    "        ts = np.linspace(0.0, dt*pop_t.shape[1], pop_t.shape[1])\n",
    "        axs.plot(ts / 1e-9, pop_t.T)\n",
    "        axs.grid(linestyle=\"--\")\n",
    "        axs.tick_params(\n",
    "            direction=\"in\", left=True, right=True, top=True, bottom=True\n",
    "        )\n",
    "        axs.set_xlabel('Time [ns]')\n",
    "        axs.set_ylabel('Population')\n",
    "        plt.legend(model.state_labels)\n",
    "        pass"
   ]
  },
  {
   "cell_type": "code",
   "execution_count": 34,
   "metadata": {},
   "outputs": [
    {
     "data": {
      "image/png": "[encoded data removed]",
      "text/plain": [
       "<Figure size 432x288 with 1 Axes>"
      ]
     },
     "metadata": {
      "needs_background": "light"
     },
     "output_type": "display_data"
    }
   ],
   "source": [
    "plot_dynamics(exp, init_state, barely_a_seq)"
   ]
  },
  {
   "cell_type": "markdown",
   "metadata": {},
   "source": [
    "We can see an ill-defined un-optimized gate. The labels indicate qubit states in the product basis. Next we increase the number of repetitions of the same gate."
   ]
  },
  {
   "cell_type": "code",
   "execution_count": 35,
   "metadata": {},
   "outputs": [
    {
     "data": {
      "text/plain": [
       "['rx90p[0]',\n",
       " 'rx90p[0]',\n",
       " 'rx90p[0]',\n",
       " 'rx90p[0]',\n",
       " 'rx90p[0]',\n",
       " 'rx90p[0]',\n",
       " 'rx90p[0]',\n",
       " 'rx90p[0]',\n",
       " 'rx90p[0]',\n",
       " 'rx90p[0]']"
      ]
     },
     "execution_count": 35,
     "metadata": {},
     "output_type": "execute_result"
    }
   ],
   "source": [
    "barely_a_seq * 10"
   ]
  },
  {
   "cell_type": "code",
   "execution_count": 36,
   "metadata": {},
   "outputs": [
    {
     "data": {
      "image/png": "[encoded data removed]",
      "text/plain": [
       "<Figure size 432x288 with 1 Axes>"
      ]
     },
     "metadata": {
      "needs_background": "light"
     },
     "output_type": "display_data"
    }
   ],
   "source": [
    "plot_dynamics(exp, init_state, barely_a_seq * 5)"
   ]
  },
  {
   "cell_type": "code",
   "execution_count": 37,
   "metadata": {},
   "outputs": [
    {
     "data": {
      "image/png": "[encoded data removed]",
      "text/plain": [
       "<Figure size 432x288 with 1 Axes>"
      ]
     },
     "metadata": {
      "needs_background": "light"
     },
     "output_type": "display_data"
    }
   ],
   "source": [
    "plot_dynamics(exp, init_state, barely_a_seq * 10)"
   ]
  },
  {
   "cell_type": "markdown",
   "metadata": {},
   "source": [
    "Note that at this point, we only multiply already computed matrices. We don't need to solve the equations of motion again for new sequences."
   ]
  },
  {
   "cell_type": "markdown",
   "metadata": {},
   "source": [
    "#### Visualisation with qiskit circuit"
   ]
  },
  {
   "cell_type": "code",
   "execution_count": 38,
   "metadata": {},
   "outputs": [
    {
     "data": {
      "text/html": [
       "<pre style=\"word-wrap: normal;white-space: pre;background: #fff0;line-height: 1.1;font-family: &quot;Courier New&quot;,Courier,monospace\">     ┌────────────┐\n",
       "q_0: ┤ Rx90p(π/2) ├\n",
       "     └────────────┘\n",
       "q_1: ──────────────\n",
       "                   \n",
       "c: 2/══════════════\n",
       "                   </pre>"
      ],
      "text/plain": [
       "     ┌────────────┐\n",
       "q_0: ┤ Rx90p(π/2) ├\n",
       "     └────────────┘\n",
       "q_1: ──────────────\n",
       "                   \n",
       "c: 2/══════════════\n",
       "                   "
      ]
     },
     "execution_count": 38,
     "metadata": {},
     "output_type": "execute_result"
    }
   ],
   "source": [
    "qc = QuantumCircuit(2)\n",
    "qc.append(RX90pGate(), [0])\n",
    "qc.draw()"
   ]
  },
  {
   "cell_type": "code",
   "execution_count": 39,
   "metadata": {},
   "outputs": [],
   "source": [
    "c3_provider = C3Provider()\n",
    "c3_backend = c3_provider.get_backend(\"c3_qasm_physics_simulator\")\n",
    "c3_backend.set_c3_experiment(exp)"
   ]
  },
  {
   "cell_type": "code",
   "execution_count": 40,
   "metadata": {},
   "outputs": [
    {
     "name": "stderr",
     "output_type": "stream",
     "text": [
      "No measurements in circuit \"circuit-0\", classical register will remain all zeros.\n"
     ]
    },
    {
     "name": "stdout",
     "output_type": "stream",
     "text": [
      "Result from unoptimized gates:\n",
      "{'(0, 0)': 0.29448623272538377,\n",
      " '(0, 1)': 5.296793303474575e-09,\n",
      " '(0, 2)': 1.197914288220253e-13,\n",
      " '(1, 0)': 0.6908451283960438,\n",
      " '(1, 1)': 8.845913499742858e-09,\n",
      " '(1, 2)': 2.793828721775951e-12,\n",
      " '(2, 0)': 0.01466859116216453,\n",
      " '(2, 1)': 3.3569583706204546e-08,\n",
      " '(2, 2)': 1.1777692888460556e-12}\n"
     ]
    }
   ],
   "source": [
    "c3_job_unopt = c3_backend.run(qc)\n",
    "result_unopt = c3_job_unopt.result()\n",
    "res_pops_unopt = result_unopt.data()[\"state_pops\"]\n",
    "print(\"Result from unoptimized gates:\") \n",
    "pprint(res_pops_unopt)"
   ]
  },
  {
   "cell_type": "code",
   "execution_count": 41,
   "metadata": {},
   "outputs": [
    {
     "data": {
      "image/png": "[encoded data removed]",
      "text/plain": [
       "<Figure size 504x360 with 1 Axes>"
      ]
     },
     "execution_count": 41,
     "metadata": {},
     "output_type": "execute_result"
    }
   ],
   "source": [
    "plot_histogram(res_pops_unopt, title='Simulation of Qiskit circuit with Unoptimized Gates')"
   ]
  },
  {
   "cell_type": "markdown",
   "metadata": {},
   "source": [
    "#### Open-loop optimal control\n",
    "\n",
    "In order to improve the gate, we create the optimizer object for open-loop optimal control. We notice some leakage into the $|2,0>$ state and enable a DRAG option. Details on DRAG can be found here: https://arxiv.org/abs/1809.04919 The main principle is adding a phase-shifted component proportional to the derivative of the original signal. With automatic differentiation, our AWG can perform this operation automatically for arbitrary shapes."
   ]
  },
  {
   "cell_type": "code",
   "execution_count": 42,
   "metadata": {},
   "outputs": [],
   "source": [
    "generator.devices['AWG'].enable_drag_2()"
   ]
  },
  {
   "cell_type": "markdown",
   "metadata": {},
   "source": [
    "At the moment there are two implementations of DRAG, variant 2 is independent of the AWG resolution."
   ]
  },
  {
   "cell_type": "markdown",
   "metadata": {},
   "source": [
    "To define which parameters we optimize, we write the gateset_opt_map, a nested list of tuples that identifies each parameter."
   ]
  },
  {
   "cell_type": "code",
   "execution_count": 43,
   "metadata": {},
   "outputs": [],
   "source": [
    "opt_gates = [\"rx90p[0]\"]\n",
    "gateset_opt_map=[\n",
    "    [\n",
    "      (\"rx90p[0]\", \"d1\", \"gauss\", \"amp\"),\n",
    "    ],\n",
    "    [\n",
    "      (\"rx90p[0]\", \"d1\", \"gauss\", \"freq_offset\"),\n",
    "    ],\n",
    "    [\n",
    "      (\"rx90p[0]\", \"d1\", \"gauss\", \"xy_angle\"),\n",
    "    ],\n",
    "    [\n",
    "      (\"rx90p[0]\", \"d1\", \"gauss\", \"delta\"),\n",
    "    ],   \n",
    "    [\n",
    "      (\"rx90p[0]\", \"d1\", \"carrier\", \"framechange\"),\n",
    "    ]\n",
    "]\n",
    "parameter_map.set_opt_map(gateset_opt_map)"
   ]
  },
  {
   "cell_type": "markdown",
   "metadata": {},
   "source": [
    "We can look at the parameters this opt_map specified with"
   ]
  },
  {
   "cell_type": "code",
   "execution_count": 44,
   "metadata": {},
   "outputs": [
    {
     "name": "stdout",
     "output_type": "stream",
     "text": [
      "rx90p[0]-d1-gauss-amp                 : 500.000 mV \n",
      "rx90p[0]-d1-gauss-freq_offset         : -53.000 MHz 2pi \n",
      "rx90p[0]-d1-gauss-xy_angle            : -444.089 arad \n",
      "rx90p[0]-d1-gauss-delta               : -1.000  \n",
      "rx90p[0]-d1-carrier-framechange       : 0.000 rad \n",
      "\n"
     ]
    }
   ],
   "source": [
    "parameter_map.print_parameters()"
   ]
  },
  {
   "cell_type": "code",
   "execution_count": 45,
   "metadata": {},
   "outputs": [],
   "source": [
    "from c3.optimizers.optimalcontrol import OptimalControl"
   ]
  },
  {
   "cell_type": "markdown",
   "metadata": {},
   "source": [
    "The OptimalControl object will handle the optimization for us. As a fidelity function we choose average fidelity as well as LBFG-S (a wrapper of the scipy implementation) from our library. See those libraries for how these functions are defined and how to supply your own, if necessary."
   ]
  },
  {
   "cell_type": "code",
   "execution_count": 46,
   "metadata": {},
   "outputs": [],
   "source": [
    "import os\n",
    "import tempfile\n",
    "\n",
    "# Create a temporary directory to store logfiles, modify as needed\n",
    "log_dir = os.path.join(tempfile.TemporaryDirectory().name, \"c3logs\")\n",
    "\n",
    "opt = OptimalControl(\n",
    "    dir_path=log_dir,\n",
    "    fid_func=fidelities.average_infid_set,\n",
    "    fid_subspace=[\"Q1\", \"Q2\"],\n",
    "    pmap=parameter_map,\n",
    "    algorithm=algorithms.lbfgs,\n",
    "    options={\"maxfun\" : 150},\n",
    "    run_name=\"better_X90\"\n",
    ")"
   ]
  },
  {
   "cell_type": "markdown",
   "metadata": {},
   "source": [
    "Finally we supply our defined experiment."
   ]
  },
  {
   "cell_type": "code",
   "execution_count": 47,
   "metadata": {},
   "outputs": [],
   "source": [
    "exp.set_opt_gates(opt_gates)\n",
    "opt.set_exp(exp)"
   ]
  },
  {
   "cell_type": "markdown",
   "metadata": {},
   "source": [
    "Everything is in place to start the optimization."
   ]
  },
  {
   "cell_type": "code",
   "execution_count": 48,
   "metadata": {},
   "outputs": [
    {
     "name": "stdout",
     "output_type": "stream",
     "text": [
      "C3:STATUS:Saving as: /var/folders/04/np4lgk2d7sq6w0dpn758sgp80000gn/T/tmpd9fthg15/c3logs/better_X90/2022_01_01_T_20_50_58/open_loop.c3log\n"
     ]
    }
   ],
   "source": [
    "opt.optimize_controls()"
   ]
  },
  {
   "cell_type": "markdown",
   "metadata": {},
   "source": [
    "After a few steps we have improved the gate significantly, as we can check with"
   ]
  },
  {
   "cell_type": "code",
   "execution_count": 49,
   "metadata": {},
   "outputs": [
    {
     "data": {
      "text/plain": [
       "0.0008189604821950969"
      ]
     },
     "execution_count": 49,
     "metadata": {},
     "output_type": "execute_result"
    }
   ],
   "source": [
    "opt.current_best_goal"
   ]
  },
  {
   "cell_type": "markdown",
   "metadata": {},
   "source": [
    "And by looking at the same sequences as before."
   ]
  },
  {
   "cell_type": "code",
   "execution_count": 50,
   "metadata": {},
   "outputs": [
    {
     "data": {
      "image/png": "[encoded data removed]",
      "text/plain": [
       "<Figure size 432x288 with 1 Axes>"
      ]
     },
     "metadata": {
      "needs_background": "light"
     },
     "output_type": "display_data"
    }
   ],
   "source": [
    "plot_dynamics(exp, init_state, barely_a_seq)"
   ]
  },
  {
   "cell_type": "code",
   "execution_count": 51,
   "metadata": {},
   "outputs": [
    {
     "data": {
      "image/png": "[encoded data removed]",
      "text/plain": [
       "<Figure size 432x288 with 1 Axes>"
      ]
     },
     "metadata": {
      "needs_background": "light"
     },
     "output_type": "display_data"
    }
   ],
   "source": [
    "plot_dynamics(exp, init_state, barely_a_seq * 5)"
   ]
  },
  {
   "cell_type": "markdown",
   "metadata": {},
   "source": [
    "We can also display the optimal parameters:"
   ]
  },
  {
   "cell_type": "code",
   "execution_count": 52,
   "metadata": {},
   "outputs": [
    {
     "name": "stdout",
     "output_type": "stream",
     "text": [
      "rx90p[0]-d1-gauss-amp                 : 380.379 mV \n",
      "rx90p[0]-d1-gauss-freq_offset         : -52.984 MHz 2pi \n",
      "rx90p[0]-d1-gauss-xy_angle            : -16.169 mrad \n",
      "rx90p[0]-d1-gauss-delta               : -1.016  \n",
      "rx90p[0]-d1-carrier-framechange       : 65.235 mrad \n",
      "\n"
     ]
    }
   ],
   "source": [
    "parameter_map.print_parameters()"
   ]
  },
  {
   "cell_type": "code",
   "execution_count": 53,
   "metadata": {},
   "outputs": [
    {
     "name": "stderr",
     "output_type": "stream",
     "text": [
      "No measurements in circuit \"circuit-0\", classical register will remain all zeros.\n"
     ]
    },
    {
     "name": "stdout",
     "output_type": "stream",
     "text": [
      "Result from optimized gates:\n",
      "{'(0, 0)': 0.49920220857489606,\n",
      " '(0, 1)': 1.8385882437348683e-08,\n",
      " '(0, 2)': 6.220286005527354e-14,\n",
      " '(1, 0)': 0.49948418411171386,\n",
      " '(1, 1)': 1.2842762635423571e-08,\n",
      " '(1, 2)': 1.2119061152533614e-13,\n",
      " '(2, 0)': 0.00131356232929788,\n",
      " '(2, 1)': 1.3754638941062374e-08,\n",
      " '(2, 2)': 6.053407953449699e-13}\n"
     ]
    }
   ],
   "source": [
    "c3_job_opt = c3_backend.run(qc)\n",
    "result_opt = c3_job_opt.result()\n",
    "res_pops_opt = result_opt.data()[\"state_pops\"]\n",
    "print(\"Result from optimized gates:\")\n",
    "pprint(res_pops_opt)"
   ]
  },
  {
   "cell_type": "code",
   "execution_count": 54,
   "metadata": {},
   "outputs": [
    {
     "data": {
      "image/png": "[encoded data removed]",
      "text/plain": [
       "<Figure size 504x360 with 1 Axes>"
      ]
     },
     "execution_count": 54,
     "metadata": {},
     "output_type": "execute_result"
    }
   ],
   "source": [
    "plot_histogram(res_pops_opt, title='Simulation of Qiskit circuit with Optimized Gate')"
   ]
  }
 ],
 "metadata": {
  "interpreter": {
   "hash": "8fc56ae400e717d872a76f4d6b257151d16696a9d0a72e6998d355f9b43887c7"
  },
  "kernelspec": {
   "display_name": "Python 3 (ipykernel)",
   "language": "python",
   "name": "python3"
  },
  "language_info": {
   "codemirror_mode": {
    "name": "ipython",
    "version": 3
   },
   "file_extension": ".py",
   "mimetype": "text/x-python",
   "name": "python",
   "nbconvert_exporter": "python",
   "pygments_lexer": "ipython3",
   "version": "3.8.12"
  }
 },
 "nbformat": 4,
 "nbformat_minor": 4
}
