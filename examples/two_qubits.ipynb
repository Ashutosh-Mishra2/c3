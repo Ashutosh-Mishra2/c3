{
 "cells": [
  {
   "cell_type": "markdown",
   "metadata": {},
   "source": [
    "### Setup of a two-qubit chip with $C^3$\n",
    "\n",
    "In this example we will set-up a two qubit quantum processor and define a simple gate."
   ]
  },
  {
   "cell_type": "markdown",
   "metadata": {},
   "source": [
    "#### Imports"
   ]
  },
  {
   "cell_type": "code",
   "execution_count": 1,
   "metadata": {
    "ExecuteTime": {
     "end_time": "2020-06-10T13:45:05.684014Z",
     "start_time": "2020-06-10T13:45:04.441825Z"
    }
   },
   "outputs": [],
   "source": [
    "# System imports\n",
    "import copy\n",
    "import numpy as np\n",
    "import time\n",
    "import itertools\n",
    "import matplotlib.pyplot as plt\n",
    "import tensorflow as tf\n",
    "import tensorflow_probability as tfp\n",
    "\n",
    "# Main C3 objects\n",
    "from c3.c3objs import Quantity as Qty\n",
    "from c3.parametermap import ParameterMap as PMap\n",
    "from c3.experiment import Experiment as Exp\n",
    "from c3.system.model import Model as Mdl\n",
    "from c3.generator.generator import Generator as Gnr\n",
    "\n",
    "# Building blocks\n",
    "import c3.generator.devices as devices\n",
    "import c3.signal.gates as gates\n",
    "import c3.system.chip as chip\n",
    "import c3.signal.pulse as pulse\n",
    "import c3.system.tasks as tasks\n",
    "\n",
    "# Libs and helpers\n",
    "import c3.libraries.algorithms as algorithms\n",
    "import c3.libraries.hamiltonians as hamiltonians\n",
    "import c3.libraries.fidelities as fidelities\n",
    "import c3.libraries.envelopes as envelopes\n",
    "import c3.utils.qt_utils as qt_utils\n",
    "import c3.utils.tf_utils as tf_utils"
   ]
  },
  {
   "cell_type": "markdown",
   "metadata": {},
   "source": [
    "#### Model components\n",
    "We first create a qubit. Each parameter is a Quantity (Qty()) object with bounds and a unit. In $C^3$, the default multi-level qubit is a Transmon modelled as a Duffing oscillator with frequency $\\omega$ and anharmonicity $\\delta$ :\n",
    "$$ H/\\hbar = \\omega b^\\dagger b - \\frac{\\delta}{2}                        \\left(b^\\dagger b - 1\\right) b^\\dagger b \n",
    "$$\n",
    "The \"name\" will be used to identify this qubit (or other component) later and should thus be chosen carefully."
   ]
  },
  {
   "cell_type": "code",
   "execution_count": 2,
   "metadata": {
    "ExecuteTime": {
     "end_time": "2020-06-10T13:45:05.684014Z",
     "start_time": "2020-06-10T13:45:04.441825Z"
    }
   },
   "outputs": [],
   "source": [
    "qubit_lvls = 3\n",
    "freq_q1 = 5e9 * 2 * np.pi\n",
    "anhar_q1 = -210e6 * 2 * np.pi\n",
    "t1_q1 = 27e-6\n",
    "t2star_q1 = 39e-6\n",
    "qubit_temp = 50e-3\n",
    "\n",
    "q1 = chip.Qubit(\n",
    "    name=\"Q1\",\n",
    "    desc=\"Qubit 1\",\n",
    "    freq=Qty(\n",
    "        value=freq_q1,\n",
    "        min=4.995e9 * 2 * np.pi,\n",
    "        max=5.005e9 * 2 * np.pi,\n",
    "        unit='Hz 2pi'\n",
    "    ),\n",
    "    anhar=Qty(\n",
    "        value=anhar_q1,\n",
    "        min=-380e6 * 2 * np.pi,\n",
    "        max=-120e6 * 2 * np.pi,\n",
    "        unit='Hz 2pi'\n",
    "    ),\n",
    "    hilbert_dim=qubit_lvls,\n",
    "    t1=Qty(\n",
    "        value=t1_q1,\n",
    "        min=1e-6,\n",
    "        max=90e-6,\n",
    "        unit='s'\n",
    "    ),\n",
    "    t2star=Qty(\n",
    "        value=t2star_q1,\n",
    "        min=10e-6,\n",
    "        max=90e-3,\n",
    "        unit='s'\n",
    "    ),\n",
    "    temp=Qty(\n",
    "        value=qubit_temp,\n",
    "        min=0.0,\n",
    "        max=0.12,\n",
    "        unit='K'\n",
    "    )\n",
    ")"
   ]
  },
  {
   "cell_type": "markdown",
   "metadata": {},
   "source": [
    "And the same for a second qubit."
   ]
  },
  {
   "cell_type": "code",
   "execution_count": 3,
   "metadata": {
    "ExecuteTime": {
     "end_time": "2020-06-10T13:45:05.684014Z",
     "start_time": "2020-06-10T13:45:04.441825Z"
    }
   },
   "outputs": [],
   "source": [
    "freq_q2 = 5.6e9 * 2 * np.pi\n",
    "anhar_q2 = -240e6 * 2 * np.pi\n",
    "t1_q2 = 23e-6\n",
    "t2star_q2 = 31e-6\n",
    "q2 = chip.Qubit(\n",
    "    name=\"Q2\",\n",
    "    desc=\"Qubit 2\",\n",
    "    freq=Qty(\n",
    "        value=freq_q2,\n",
    "        min=5.595e9 * 2 * np.pi,\n",
    "        max=5.605e9 * 2 * np.pi,\n",
    "        unit='Hz 2pi'\n",
    "    ),\n",
    "    anhar=Qty(\n",
    "        value=anhar_q2,\n",
    "        min=-380e6 * 2 * np.pi,\n",
    "        max=-120e6 * 2 * np.pi,\n",
    "        unit='Hz 2pi'\n",
    "    ),\n",
    "    hilbert_dim=qubit_lvls,\n",
    "    t1=Qty(\n",
    "        value=t1_q2,\n",
    "        min=1e-6,\n",
    "        max=90e-6,\n",
    "        unit='s'\n",
    "    ),\n",
    "    t2star=Qty(\n",
    "        value=t2star_q2,\n",
    "        min=10e-6,\n",
    "        max=90e-6,\n",
    "        unit='s'\n",
    "    ),\n",
    "    temp=Qty(\n",
    "        value=qubit_temp,\n",
    "        min=0.0,\n",
    "        max=0.12,\n",
    "        unit='K'\n",
    "    )\n",
    ")"
   ]
  },
  {
   "cell_type": "markdown",
   "metadata": {},
   "source": [
    "A static coupling between the two is realized in the following way. We supply the type of coupling by selecting int_XX $(b_1+b_1^\\dagger)(b_2+b_2^\\dagger)$ from the hamiltonian library. The \"connected\" property contains the list of qubit names to be coupled, in this case \"Q1\" and \"Q2\"."
   ]
  },
  {
   "cell_type": "code",
   "execution_count": 4,
   "metadata": {
    "ExecuteTime": {
     "end_time": "2020-06-10T13:45:05.684014Z",
     "start_time": "2020-06-10T13:45:04.441825Z"
    }
   },
   "outputs": [],
   "source": [
    "coupling_strength = 20e6 * 2 * np.pi\n",
    "q1q2 = chip.Coupling(\n",
    "    name=\"Q1-Q2\",\n",
    "    desc=\"coupling\",\n",
    "    comment=\"Coupling qubit 1 to qubit 2\",\n",
    "    connected=[\"Q1\", \"Q2\"],\n",
    "    strength=Qty(\n",
    "        value=coupling_strength,\n",
    "        min=-1 * 1e3 * 2 * np.pi,\n",
    "        max=200e6 * 2 * np.pi,\n",
    "        unit='Hz 2pi'\n",
    "    ),\n",
    "    hamiltonian_func=hamiltonians.int_XX\n",
    ")"
   ]
  },
  {
   "cell_type": "markdown",
   "metadata": {},
   "source": [
    "In the same spirit, we specify control Hamiltonians to drive the system. Again \"connected\" connected tells us which qubit this drive acts on and \"name\" will later be used to assign the correct control signal to this drive line."
   ]
  },
  {
   "cell_type": "code",
   "execution_count": 5,
   "metadata": {
    "ExecuteTime": {
     "end_time": "2020-06-10T13:45:05.684014Z",
     "start_time": "2020-06-10T13:45:04.441825Z"
    }
   },
   "outputs": [],
   "source": [
    "drive = chip.Drive(\n",
    "    name=\"d1\",\n",
    "    desc=\"Drive 1\",\n",
    "    comment=\"Drive line 1 on qubit 1\",\n",
    "    connected=[\"Q1\"],\n",
    "    hamiltonian_func=hamiltonians.x_drive\n",
    ")\n",
    "drive2 = chip.Drive(\n",
    "    name=\"d2\",\n",
    "    desc=\"Drive 2\",\n",
    "    comment=\"Drive line 2 on qubit 2\",\n",
    "    connected=[\"Q2\"],\n",
    "    hamiltonian_func=hamiltonians.x_drive\n",
    ")"
   ]
  },
  {
   "cell_type": "markdown",
   "metadata": {},
   "source": [
    "#### SPAM errors\n",
    "In experimental practice, the qubit state can be mis-classified during read-out. We simulate this by constructing a _confusion matrix_, containing the probabilities for one qubit state being mistaken for another."
   ]
  },
  {
   "cell_type": "code",
   "execution_count": 6,
   "metadata": {
    "ExecuteTime": {
     "end_time": "2020-06-10T13:45:05.684014Z",
     "start_time": "2020-06-10T13:45:04.441825Z"
    }
   },
   "outputs": [],
   "source": [
    "m00_q1 = 0.97 # Prop to read qubit 1 state 0 as 0\n",
    "m01_q1 = 0.04 # Prop to read qubit 1 state 0 as 1\n",
    "m00_q2 = 0.96 # Prop to read qubit 2 state 0 as 0\n",
    "m01_q2 = 0.05 # Prop to read qubit 2 state 0 as 1\n",
    "one_zeros = np.array([0] * qubit_lvls)\n",
    "zero_ones = np.array([1] * qubit_lvls)\n",
    "one_zeros[0] = 1\n",
    "zero_ones[0] = 0\n",
    "val1 = one_zeros * m00_q1 + zero_ones * m01_q1\n",
    "val2 = one_zeros * m00_q2 + zero_ones * m01_q2\n",
    "min = one_zeros * 0.8 + zero_ones * 0.0\n",
    "max = one_zeros * 1.0 + zero_ones * 0.2\n",
    "confusion_row1 = Qty(value=val1, min=min, max=max, unit=\"\")\n",
    "confusion_row2 = Qty(value=val2, min=min, max=max, unit=\"\")\n",
    "conf_matrix = tasks.ConfusionMatrix(Q1=confusion_row1, Q2=confusion_row2)"
   ]
  },
  {
   "cell_type": "markdown",
   "metadata": {},
   "source": [
    "The following task creates an initial thermal state with given temperature."
   ]
  },
  {
   "cell_type": "code",
   "execution_count": 7,
   "metadata": {
    "ExecuteTime": {
     "end_time": "2020-06-10T13:45:05.684014Z",
     "start_time": "2020-06-10T13:45:04.441825Z"
    }
   },
   "outputs": [],
   "source": [
    "init_temp = 50e-3\n",
    "init_ground = tasks.InitialiseGround(\n",
    "    init_temp=Qty(\n",
    "        value=init_temp,\n",
    "        min=-0.001,\n",
    "        max=0.22,\n",
    "        unit='K'\n",
    "    )\n",
    ")"
   ]
  },
  {
   "cell_type": "markdown",
   "metadata": {},
   "source": [
    "We collect the parts specified above in the Model."
   ]
  },
  {
   "cell_type": "code",
   "execution_count": 8,
   "metadata": {
    "ExecuteTime": {
     "end_time": "2020-06-10T13:45:05.684014Z",
     "start_time": "2020-06-10T13:45:04.441825Z"
    }
   },
   "outputs": [],
   "source": [
    "model = Mdl(\n",
    "    [q1, q2], # Individual, self-contained components\n",
    "    [drive, drive2, q1q2],  # Interactions between components\n",
    "    [conf_matrix, init_ground] # SPAM processing\n",
    ")"
   ]
  },
  {
   "cell_type": "markdown",
   "metadata": {},
   "source": [
    "Further, we can decide between coherent or open-system dynamics using set_lindbladian() and whether to eliminate the static coupling by going to the dressed frame with set_dressed()."
   ]
  },
  {
   "cell_type": "code",
   "execution_count": 9,
   "metadata": {
    "ExecuteTime": {
     "end_time": "2020-06-10T13:45:05.684014Z",
     "start_time": "2020-06-10T13:45:04.441825Z"
    }
   },
   "outputs": [],
   "source": [
    "model.set_lindbladian(False)\n",
    "model.set_dressed(True)"
   ]
  },
  {
   "cell_type": "markdown",
   "metadata": {},
   "source": [
    "#### Control signals\n",
    "With the system model taken care of, we now specify the control electronics and signal chain. Complex shaped controls are often realized by creating an envelope signal with an arbitrary waveform generator (AWG) with limited bandwith and mixing it with a fast, stable local oscillator (LO)."
   ]
  },
  {
   "cell_type": "code",
   "execution_count": 10,
   "metadata": {
    "ExecuteTime": {
     "end_time": "2020-06-10T13:45:05.684014Z",
     "start_time": "2020-06-10T13:45:04.441825Z"
    }
   },
   "outputs": [],
   "source": [
    "sim_res = 100e9 # Resolution for numerical simulation\n",
    "awg_res = 2e9 # Realistic, limited resolution of an AWG\n",
    "lo = devices.LO(name='lo', resolution=sim_res)\n",
    "awg = devices.AWG(name='awg', resolution=awg_res)\n",
    "mixer = devices.Mixer(name='mixer')"
   ]
  },
  {
   "cell_type": "markdown",
   "metadata": {},
   "source": [
    "Waveform generators exhibit a rise time, the time it takes until the target voltage is set. This has a smoothing effect on the resulting pulse shape."
   ]
  },
  {
   "cell_type": "code",
   "execution_count": 11,
   "metadata": {},
   "outputs": [],
   "source": [
    "resp = devices.Response(\n",
    "    name='resp',\n",
    "    rise_time=Qty(\n",
    "        value=0.3e-9,\n",
    "        min=0.05e-9,\n",
    "        max=0.6e-9,\n",
    "        unit='s'\n",
    "    ),\n",
    "    resolution=sim_res\n",
    ")"
   ]
  },
  {
   "cell_type": "markdown",
   "metadata": {},
   "source": [
    "In simulation, we translate between AWG resolution and simulation (or \"analog\") resolultion by including an up-sampling device."
   ]
  },
  {
   "cell_type": "code",
   "execution_count": 12,
   "metadata": {},
   "outputs": [],
   "source": [
    "dig_to_an = devices.Digital_to_Analog(\n",
    "    name=\"dac\",\n",
    "    resolution=sim_res\n",
    ")"
   ]
  },
  {
   "cell_type": "markdown",
   "metadata": {},
   "source": [
    "Control electronics apply voltages to lines, whereas in a Hamiltonian we usually write the control fields in energy or frequency units. In practice, this conversion can be highly non-trivial if it involves multiple stages of attenuation and for example the conversion of a line voltage in an antenna to a dipole field coupling to the qubit. The following device represents a simple, linear conversion factor."
   ]
  },
  {
   "cell_type": "code",
   "execution_count": 13,
   "metadata": {
    "ExecuteTime": {
     "end_time": "2020-06-10T13:45:05.684014Z",
     "start_time": "2020-06-10T13:45:04.441825Z"
    }
   },
   "outputs": [],
   "source": [
    "v2hz = 1e9\n",
    "v_to_hz = devices.Volts_to_Hertz(\n",
    "    name='v_to_hz',\n",
    "    V_to_Hz=Qty(\n",
    "        value=v2hz,\n",
    "        min=0.9e9,\n",
    "        max=1.1e9,\n",
    "        unit='Hz 2pi/V'\n",
    "    )\n",
    ")"
   ]
  },
  {
   "cell_type": "markdown",
   "metadata": {},
   "source": [
    "The generator combines the parts of the signal generation."
   ]
  },
  {
   "cell_type": "code",
   "execution_count": 14,
   "metadata": {
    "ExecuteTime": {
     "end_time": "2020-06-10T13:45:05.684014Z",
     "start_time": "2020-06-10T13:45:04.441825Z"
    }
   },
   "outputs": [],
   "source": [
    "generator = Gnr([lo, awg, mixer, v_to_hz, dig_to_an, resp])"
   ]
  },
  {
   "cell_type": "markdown",
   "metadata": {},
   "source": [
    "#### Gates-set\n",
    "It remains to write down what kind of operations we want to perform on the device. For a gate based quantum computing chip, we define a gate-set.\n",
    "\n",
    "We choose a gate time and a gaussian envelope shape with a list of parameters."
   ]
  },
  {
   "cell_type": "code",
   "execution_count": 15,
   "metadata": {
    "ExecuteTime": {
     "end_time": "2020-06-10T13:45:05.684014Z",
     "start_time": "2020-06-10T13:45:04.441825Z"
    }
   },
   "outputs": [],
   "source": [
    "t_final = 7e-9   # Time for single qubit gates\n",
    "sideband = 50e6 * 2 * np.pi\n",
    "gauss_params_single = {\n",
    "    'amp': Qty(\n",
    "        value=0.5,\n",
    "        min=0.4,\n",
    "        max=0.6,\n",
    "        unit=\"V\"\n",
    "    ),\n",
    "    't_final': Qty(\n",
    "        value=t_final,\n",
    "        min=0.5 * t_final,\n",
    "        max=1.5 * t_final,\n",
    "        unit=\"s\"\n",
    "    ),\n",
    "    'sigma': Qty(\n",
    "        value=t_final / 4,\n",
    "        min=t_final / 8,\n",
    "        max=t_final / 2,\n",
    "        unit=\"s\"\n",
    "    ),\n",
    "    'xy_angle': Qty(\n",
    "        value=0.0,\n",
    "        min=-0.5 * np.pi,\n",
    "        max=2.5 * np.pi,\n",
    "        unit='rad'\n",
    "    ),\n",
    "    'freq_offset': Qty(\n",
    "        value=-sideband - 3e6 * 2 * np.pi,\n",
    "        min=-56 * 1e6 * 2 * np.pi,\n",
    "        max=-52 * 1e6 * 2 * np.pi,\n",
    "        unit='Hz 2pi'\n",
    "    ),\n",
    "    'delta': Qty(\n",
    "        value=-1,\n",
    "        min=-5,\n",
    "        max=3,\n",
    "        unit=\"\"\n",
    "    )\n",
    "}"
   ]
  },
  {
   "cell_type": "markdown",
   "metadata": {},
   "source": [
    "Here we take gaussian_nonorm() from the libraries as the function to define the shape."
   ]
  },
  {
   "cell_type": "code",
   "execution_count": 16,
   "metadata": {
    "ExecuteTime": {
     "end_time": "2020-06-10T13:45:05.684014Z",
     "start_time": "2020-06-10T13:45:04.441825Z"
    }
   },
   "outputs": [],
   "source": [
    "gauss_env_single = pulse.Envelope(\n",
    "    name=\"gauss\",\n",
    "    desc=\"Gaussian comp for single-qubit gates\",\n",
    "    params=gauss_params_single,\n",
    "    shape=envelopes.gaussian_nonorm\n",
    ")"
   ]
  },
  {
   "cell_type": "markdown",
   "metadata": {},
   "source": [
    "We also define a gate that represents no driving."
   ]
  },
  {
   "cell_type": "code",
   "execution_count": 17,
   "metadata": {
    "ExecuteTime": {
     "end_time": "2020-06-10T13:45:05.684014Z",
     "start_time": "2020-06-10T13:45:04.441825Z"
    }
   },
   "outputs": [],
   "source": [
    "nodrive_env = pulse.Envelope(\n",
    "    name=\"no_drive\",\n",
    "    params={\n",
    "        't_final': Qty(\n",
    "            value=t_final,\n",
    "            min=0.5 * t_final,\n",
    "            max=1.5 * t_final,\n",
    "            unit=\"s\"\n",
    "        )\n",
    "    },\n",
    "    shape=envelopes.no_drive\n",
    ")"
   ]
  },
  {
   "cell_type": "markdown",
   "metadata": {},
   "source": [
    "We specify the drive tones with an offset from the qubit frequencies. As in experiment, we will later adjust the resonance by modulating the envelope function."
   ]
  },
  {
   "cell_type": "code",
   "execution_count": 18,
   "metadata": {
    "ExecuteTime": {
     "end_time": "2020-06-10T13:45:05.684014Z",
     "start_time": "2020-06-10T13:45:04.441825Z"
    }
   },
   "outputs": [],
   "source": [
    "lo_freq_q1 = 5e9 * 2 * np.pi + sideband\n",
    "carrier_parameters = {\n",
    "    'freq': Qty(\n",
    "        value=lo_freq_q1,\n",
    "        min=4.5e9 * 2 * np.pi,\n",
    "        max=6e9 * 2 * np.pi,\n",
    "        unit='Hz 2pi'\n",
    "    ),\n",
    "    'framechange': Qty(\n",
    "        value=0.0,\n",
    "        min= -np.pi,\n",
    "        max= 3 * np.pi,\n",
    "        unit='rad'\n",
    "    )\n",
    "}\n",
    "carr = pulse.Carrier(\n",
    "    name=\"carrier\",\n",
    "    desc=\"Frequency of the local oscillator\",\n",
    "    params=carrier_parameters\n",
    ")"
   ]
  },
  {
   "cell_type": "markdown",
   "metadata": {},
   "source": [
    "For the second qubit drive tone, we copy the first one and replace the frequency. The deepcopy is to ensure that we don't just create a pointer to the first drive."
   ]
  },
  {
   "cell_type": "code",
   "execution_count": 19,
   "metadata": {
    "ExecuteTime": {
     "end_time": "2020-06-10T13:45:05.684014Z",
     "start_time": "2020-06-10T13:45:04.441825Z"
    }
   },
   "outputs": [],
   "source": [
    "lo_freq_q2 = 5.6e9 * 2 * np.pi + sideband\n",
    "carr_2 = copy.deepcopy(carr)\n",
    "carr_2.params['freq'].set_value(lo_freq_q2)"
   ]
  },
  {
   "cell_type": "markdown",
   "metadata": {},
   "source": [
    "#### Instructions\n",
    "We define the gates we want to perform with a \"name\" that will identify them later and \"channels\" relating to the control Hamiltonians and drive lines we specified earlier. As a start we write down 90 degree rotations in the positive $x$-direction and identity gates for both qubits. Then we add a carrier and envelope to each."
   ]
  },
  {
   "cell_type": "code",
   "execution_count": 20,
   "metadata": {
    "ExecuteTime": {
     "end_time": "2020-06-10T13:45:05.684014Z",
     "start_time": "2020-06-10T13:45:04.441825Z"
    }
   },
   "outputs": [],
   "source": [
    "X90p_q1 = gates.Instruction(\n",
    "    name=\"X90p\",\n",
    "    t_start=0.0,\n",
    "    t_end=t_final,\n",
    "    channels=[\"d1\"]\n",
    ")\n",
    "X90p_q2 = gates.Instruction(\n",
    "    name=\"X90p\",\n",
    "    t_start=0.0,\n",
    "    t_end=t_final,\n",
    "    channels=[\"d2\"]\n",
    ")\n",
    "QId_q1 = gates.Instruction(\n",
    "    name=\"Id\",\n",
    "    t_start=0.0,\n",
    "    t_end=t_final,\n",
    "    channels=[\"d1\"]\n",
    ")\n",
    "QId_q2 = gates.Instruction(\n",
    "    name=\"Id\",\n",
    "    t_start=0.0,\n",
    "    t_end=t_final,\n",
    "    channels=[\"d2\"]\n",
    ")\n",
    "\n",
    "X90p_q1.add_component(gauss_env_single, \"d1\")\n",
    "X90p_q1.add_component(carr, \"d1\")\n",
    "QId_q1.add_component(nodrive_env, \"d1\")\n",
    "QId_q1.add_component(copy.deepcopy(carr), \"d1\")\n",
    "\n",
    "X90p_q2.add_component(copy.deepcopy(gauss_env_single), \"d2\")\n",
    "X90p_q2.add_component(carr_2, \"d2\")\n",
    "QId_q2.add_component(copy.deepcopy(nodrive_env), \"d2\")\n",
    "QId_q2.add_component(copy.deepcopy(carr_2), \"d2\")"
   ]
  },
  {
   "cell_type": "markdown",
   "metadata": {},
   "source": [
    "When later compiling gates into sequences, we have to take care of the relative rotating frames of the qubits and local oscillators. We do this by adding a phase after each gate that realigns the frames."
   ]
  },
  {
   "cell_type": "code",
   "execution_count": 21,
   "metadata": {
    "ExecuteTime": {
     "end_time": "2020-06-10T13:45:05.684014Z",
     "start_time": "2020-06-10T13:45:04.441825Z"
    }
   },
   "outputs": [],
   "source": [
    "QId_q1.comps['d1']['carrier'].params['framechange'].set_value(\n",
    "    (-sideband * t_final) % (2*np.pi)\n",
    ")\n",
    "QId_q2.comps['d2']['carrier'].params['framechange'].set_value(\n",
    "    (-sideband * t_final) % (2*np.pi)\n",
    ")"
   ]
  },
  {
   "cell_type": "markdown",
   "metadata": {},
   "source": [
    "The remainder of the gates-set can be derived from the X90p gate by shifting its phase by multiples of $\\pi/2$."
   ]
  },
  {
   "cell_type": "code",
   "execution_count": 22,
   "metadata": {
    "ExecuteTime": {
     "end_time": "2020-06-10T13:45:05.684014Z",
     "start_time": "2020-06-10T13:45:04.441825Z"
    }
   },
   "outputs": [],
   "source": [
    "Y90p_q1 = copy.deepcopy(X90p_q1)\n",
    "Y90p_q1.name = \"Y90p\"\n",
    "X90m_q1 = copy.deepcopy(X90p_q1)\n",
    "X90m_q1.name = \"X90m\"\n",
    "Y90m_q1 = copy.deepcopy(X90p_q1)\n",
    "Y90m_q1.name = \"Y90m\"\n",
    "Y90p_q1.comps['d1']['gauss'].params['xy_angle'].set_value(0.5 * np.pi)\n",
    "X90m_q1.comps['d1']['gauss'].params['xy_angle'].set_value(np.pi)\n",
    "Y90m_q1.comps['d1']['gauss'].params['xy_angle'].set_value(1.5 * np.pi)\n",
    "Q1_gates = [QId_q1, X90p_q1, Y90p_q1, X90m_q1, Y90m_q1]\n",
    "\n",
    "\n",
    "Y90p_q2 = copy.deepcopy(X90p_q2)\n",
    "Y90p_q2.name = \"Y90p\"\n",
    "X90m_q2 = copy.deepcopy(X90p_q2)\n",
    "X90m_q2.name = \"X90m\"\n",
    "Y90m_q2 = copy.deepcopy(X90p_q2)\n",
    "Y90m_q2.name = \"Y90m\"\n",
    "Y90p_q2.comps['d2']['gauss'].params['xy_angle'].set_value(0.5 * np.pi)\n",
    "X90m_q2.comps['d2']['gauss'].params['xy_angle'].set_value(np.pi)\n",
    "Y90m_q2.comps['d2']['gauss'].params['xy_angle'].set_value(1.5 * np.pi)\n",
    "Q2_gates = [QId_q2, X90p_q2, Y90p_q2, X90m_q2, Y90m_q2]"
   ]
  },
  {
   "cell_type": "markdown",
   "metadata": {},
   "source": [
    "With the single qubit gates in place, we can combine them to get all possible combinations of simultaneous gates on both qubits."
   ]
  },
  {
   "cell_type": "code",
   "execution_count": 23,
   "metadata": {
    "ExecuteTime": {
     "end_time": "2020-06-10T13:45:05.684014Z",
     "start_time": "2020-06-10T13:45:04.441825Z"
    }
   },
   "outputs": [],
   "source": [
    "all_1q_gates_comb = []\n",
    "for g1 in Q1_gates:\n",
    "    for g2 in Q2_gates:\n",
    "        g = gates.Instruction(\n",
    "            name=\"NONE\",\n",
    "            t_start=0.0,\n",
    "            t_end=t_final,\n",
    "            channels=[]\n",
    "        )\n",
    "        g.name = g1.name + \":\" + g2.name\n",
    "        channels = []\n",
    "        channels.extend(g1.comps.keys())\n",
    "        channels.extend(g2.comps.keys())\n",
    "        for chan in channels:\n",
    "            g.comps[chan] = {}\n",
    "            if chan in g1.comps:\n",
    "                g.comps[chan].update(g1.comps[chan])\n",
    "            if chan in g2.comps:\n",
    "                g.comps[chan].update(g2.comps[chan])\n",
    "        all_1q_gates_comb.append(g)"
   ]
  },
  {
   "cell_type": "code",
   "execution_count": 24,
   "metadata": {
    "ExecuteTime": {
     "end_time": "2020-06-10T13:45:05.684014Z",
     "start_time": "2020-06-10T13:45:04.441825Z"
    }
   },
   "outputs": [],
   "source": [
    "parameter_map = PMap(instructions=all_1q_gates_comb, model=model, generator=generator)"
   ]
  },
  {
   "cell_type": "markdown",
   "metadata": {},
   "source": [
    "#### The experiment\n",
    "Finally everything is collected in the experiment that provides the functions to interact with the system."
   ]
  },
  {
   "cell_type": "code",
   "execution_count": 25,
   "metadata": {
    "ExecuteTime": {
     "end_time": "2020-06-10T13:45:05.684014Z",
     "start_time": "2020-06-10T13:45:04.441825Z"
    }
   },
   "outputs": [],
   "source": [
    "exp = Exp(pmap=parameter_map)"
   ]
  },
  {
   "cell_type": "markdown",
   "metadata": {},
   "source": [
    "#### Simulation\n",
    "With our experiment all set-up, we can perform simulations. We first decide which basic gates to simulate, in this case only the 90 degree rotation on one qubit and the identity."
   ]
  },
  {
   "cell_type": "code",
   "execution_count": 26,
   "metadata": {},
   "outputs": [],
   "source": [
    "exp.set_opt_gates(['X90p:Id', 'Id:Id'])"
   ]
  },
  {
   "cell_type": "markdown",
   "metadata": {},
   "source": [
    "The actual numerical simulation is done by calling exp.get_gates(). \n",
    "*WARNING:* This is resource intensive."
   ]
  },
  {
   "cell_type": "code",
   "execution_count": 27,
   "metadata": {},
   "outputs": [],
   "source": [
    "gates = exp.get_gates()"
   ]
  },
  {
   "cell_type": "markdown",
   "metadata": {},
   "source": [
    "After this step the unitaries or process matrices are stored in the exp object. We can look at their names and matrix representations."
   ]
  },
  {
   "cell_type": "code",
   "execution_count": 28,
   "metadata": {},
   "outputs": [
    {
     "data": {
      "text/plain": [
       "{'Id:Id': <tf.Tensor: shape=(9, 9), dtype=complex128, numpy=\n",
       " array([[ 9.99996157e-01+1.66312075e-03j,  3.13939806e-19+4.84770178e-19j,\n",
       "          1.28032909e-04+1.04971168e-04j,  3.34063860e-20+1.35529392e-20j,\n",
       "         -1.19100366e-03-1.86229446e-03j, -7.36426897e-21-9.06076966e-22j,\n",
       "          3.59665445e-05-6.85292544e-05j,  4.95759587e-22-1.55637415e-22j,\n",
       "         -4.92362244e-06+1.47624912e-06j],\n",
       "        [-3.03649014e-19+4.03179031e-19j,  9.98867604e-01-2.69161261e-02j,\n",
       "         -2.53962433e-16-1.47417663e-16j,  2.40032050e-02-3.08638872e-02j,\n",
       "          1.42839145e-17-2.88039109e-17j, -1.17055348e-03+2.98027845e-03j,\n",
       "          3.28404661e-16-2.37012724e-17j,  1.86788099e-04-1.07950540e-04j,\n",
       "          2.97091753e-18-5.86171744e-18j],\n",
       "        [ 9.31012050e-05-1.36907042e-04j, -2.61305302e-16-1.25520294e-16j,\n",
       "         -5.14475037e-01-8.52615045e-01j, -2.18372661e-16-1.20675725e-16j,\n",
       "          5.79580964e-02-7.07049140e-02j, -1.14689033e-18+1.06929193e-19j,\n",
       "         -5.35018127e-05+2.12336639e-03j, -1.32338599e-18+6.87189335e-19j,\n",
       "          1.09212124e-04-3.44334610e-04j],\n",
       "        [-2.96792921e-21-2.24978288e-20j, -2.37928470e-02-3.10263406e-02j,\n",
       "         -2.10217378e-16-1.20221724e-16j,  9.98661613e-01+3.37046928e-02j,\n",
       "          2.47809754e-18-1.78302974e-17j,  2.08584254e-04+3.37408485e-05j,\n",
       "          1.28876238e-17-6.42580666e-18j,  2.04506898e-03+2.45273369e-03j,\n",
       "         -9.97968160e-18+1.73851896e-17j],\n",
       "        [ 1.30266429e-03-1.78597206e-03j, -2.29874716e-18-1.43711610e-17j,\n",
       "         -3.59856665e-02+8.40437834e-02j,  1.15968527e-18+3.54160449e-18j,\n",
       "          9.92931635e-01+6.34350158e-02j,  2.93531758e-18-2.69204719e-18j,\n",
       "         -1.91009009e-02+3.62406105e-02j, -4.92295584e-20+2.00396899e-19j,\n",
       "          1.39550739e-03-4.40029880e-03j],\n",
       "        [ 9.93918174e-23-2.12791778e-21j,  1.80867614e-03-2.64215145e-03j,\n",
       "         -1.75513969e-18+1.19757425e-18j,  2.75600177e-05-2.09490721e-04j,\n",
       "          1.16077808e-18+5.51121158e-18j, -5.38424445e-01-8.38697200e-01j,\n",
       "          4.13863066e-17-7.98392804e-17j, -4.33455593e-02+6.92472174e-02j,\n",
       "         -2.56929853e-16-3.74976245e-16j],\n",
       "        [-4.55991113e-05+6.25345674e-05j,  3.27189867e-16-3.20043748e-17j,\n",
       "          2.05185014e-03+5.49052087e-04j,  2.05879439e-17-5.37415590e-18j,\n",
       "         -2.20160651e-02-3.45473462e-02j,  3.30736050e-17-8.25031184e-17j,\n",
       "         -9.88830082e-01+1.43290951e-01j, -3.84528365e-18+5.59702243e-18j,\n",
       "         -5.49763454e-05+1.35720195e-04j],\n",
       "        [-6.75601057e-23+1.72845410e-22j, -1.91269334e-04+9.97958510e-05j,\n",
       "         -3.68934401e-19+1.79772687e-18j,  1.96636032e-03-2.51627686e-03j,\n",
       "         -4.37681990e-20-3.84579475e-19j, -3.00284638e-02+7.59756673e-02j,\n",
       "         -2.27527015e-18+5.73777955e-18j, -9.94585448e-01+6.41428607e-02j,\n",
       "          1.64647981e-17+3.00896221e-17j],\n",
       "        [-1.43374319e-06-4.93623496e-06j,  4.16834705e-18-7.29913867e-18j,\n",
       "         -1.42437386e-04+3.31976636e-04j, -8.90175362e-18+1.78659560e-17j,\n",
       "          2.92908664e-03-3.56806088e-03j, -2.57093213e-16-3.75257130e-16j,\n",
       "          1.41997996e-04+3.57698051e-05j,  1.48460042e-17+2.53974741e-17j,\n",
       "          5.93404557e-01+8.04875378e-01j]])>,\n",
       " 'Id:X90p': <tf.Tensor: shape=(9, 9), dtype=complex128, numpy=\n",
       " array([[ 5.35730976e-01+6.01303599e-02j, -1.37710328e-01-8.28619863e-01j,\n",
       "          4.36952573e-02+4.34529487e-02j, -1.18728340e-03+1.27414359e-03j,\n",
       "         -1.01441788e-03-3.68269558e-04j, -1.02841059e-04+4.43964386e-05j,\n",
       "          1.96666224e-05-3.30399517e-05j, -5.58524525e-05-1.82173034e-05j,\n",
       "         -2.73182130e-08-7.96724446e-07j],\n",
       "        [-2.20780096e-01-8.09429959e-01j,  4.64350767e-01-2.77792389e-01j,\n",
       "          3.87590924e-02-2.25449441e-02j,  1.24880255e-02-1.52105302e-02j,\n",
       "         -2.67425191e-02-1.30499500e-02j,  1.05746315e-03+2.13904805e-03j,\n",
       "         -1.28765643e-04-9.85427409e-05j,  4.98035069e-05-6.68290057e-05j,\n",
       "         -3.83186134e-07-5.81204212e-06j],\n",
       "        [ 6.72831834e-02+1.56466399e-03j,  1.70931566e-02-3.06882039e-02j,\n",
       "         -5.06448734e-01-8.54800945e-01j, -6.61465826e-02-2.51497701e-02j,\n",
       "          4.40856718e-03-4.49267268e-02j, -1.55633473e-04-3.53765208e-03j,\n",
       "         -4.10619816e-05+1.02761467e-03j,  1.46847663e-03-2.21399416e-04j,\n",
       "          4.40159586e-05-2.23394734e-04j],\n",
       "        [-2.01400381e-02+2.19483795e-02j, -1.72999168e-02-8.86863988e-03j,\n",
       "         -2.45144181e-03-1.68584781e-04j,  5.32525998e-01+7.11975295e-02j,\n",
       "         -8.83275866e-02-8.35503535e-01j,  4.50113683e-02+4.66158985e-02j,\n",
       "          1.31855370e-03-2.17429998e-03j,  9.83925546e-04+1.08599895e-03j,\n",
       "          1.08796628e-04+6.75591875e-05j],\n",
       "        [-1.69182374e-03-5.52653683e-03j, -4.48001156e-03-3.85526481e-04j,\n",
       "         -3.82917136e-02+7.44380473e-02j, -1.70089610e-01-8.19141308e-01j,\n",
       "          4.86977811e-01-2.28906065e-01j,  3.85168469e-02-2.43553899e-02j,\n",
       "         -9.90632546e-03+1.81035246e-02j,  2.95566906e-02+9.19410286e-03j,\n",
       "         -6.05162925e-04-3.09877484e-03j],\n",
       "        [-2.25127741e-03-7.77639291e-04j, -8.33812362e-06-1.61817807e-03j,\n",
       "         -3.96314693e-04-1.27242307e-04j,  7.05325612e-02+3.83629825e-03j,\n",
       "          1.58280710e-02-3.16565355e-02j, -5.27684874e-01-8.42501810e-01j,\n",
       "          6.12993637e-02+1.23055852e-02j,  7.33710780e-05+3.96672858e-02j,\n",
       "          7.75763937e-04+1.94962013e-03j],\n",
       "        [-1.32924991e-04+7.55941490e-05j,  6.26635108e-05+8.39777346e-05j,\n",
       "          1.66964662e-03+7.98134831e-04j, -2.25832328e-02+2.19544669e-02j,\n",
       "         -1.64139991e-02-1.05440118e-02j, -1.65636085e-03-8.54003698e-04j,\n",
       "         -5.33857344e-01+2.91016134e-02j,  2.13816769e-01+8.14399236e-01j,\n",
       "         -4.84881188e-02-3.81365404e-02j],\n",
       "        [ 1.01662312e-04+1.09217634e-04j, -4.98461509e-05+9.05897737e-05j,\n",
       "          2.83991862e-05+1.39070482e-05j, -9.13346661e-04-5.58181217e-03j,\n",
       "         -4.86045525e-03-3.37483457e-04j, -3.23047817e-02+6.62898546e-02j,\n",
       "          2.94374936e-01+7.86482814e-01j, -4.54956030e-01+2.83417031e-01j,\n",
       "         -3.60440281e-02+2.61461371e-02j],\n",
       "        [-1.02945456e-05-2.25893939e-05j, -1.41485430e-05+2.91939212e-06j,\n",
       "         -1.46546884e-04+2.93326240e-04j, -3.26401277e-03-1.24808178e-03j,\n",
       "          2.62281218e-04-2.25958896e-03j, -1.45664748e-03-2.09712943e-04j,\n",
       "         -6.75371150e-02+5.76508234e-03j, -1.36981851e-02+3.16378602e-02j,\n",
       "          5.83533898e-01+8.08493148e-01j]])>,\n",
       " 'Id:Y90p': <tf.Tensor: shape=(9, 9), dtype=complex128, numpy=\n",
       " array([[ 5.36300981e-01+5.92166081e-02j, -8.28447612e-01+1.37038427e-01j,\n",
       "         -4.35492512e-02-4.32337046e-02j, -1.09743804e-03-1.24000440e-03j,\n",
       "         -7.77593201e-04-7.83683122e-04j, -1.20291144e-04+6.95876615e-05j,\n",
       "          1.92566941e-05-3.25825798e-05j, -1.54188659e-05+5.67183230e-05j,\n",
       "         -8.23930378e-06+2.13583995e-06j],\n",
       "        [ 8.08894706e-01-2.21228617e-01j,  4.65292617e-01-2.77207537e-01j,\n",
       "         -2.43180041e-02-3.91883444e-02j,  1.25836718e-02-1.48965918e-02j,\n",
       "         -1.31424700e-02+2.65252457e-02j, -3.58280462e-03+3.07906947e-03j,\n",
       "          9.99471572e-05-1.09606923e-04j,  4.19261992e-05-1.05047489e-04j,\n",
       "         -7.67808667e-06+1.01159310e-06j],\n",
       "        [-6.85501009e-02-2.42493343e-03j,  2.96127537e-02+1.71022094e-02j,\n",
       "         -5.06483058e-01-8.54715873e-01j,  2.50920468e-02-6.61531539e-02j,\n",
       "          4.49015077e-03-4.49267393e-02j, -3.67616956e-03+1.16036984e-04j,\n",
       "         -5.99400865e-05+9.94141408e-04j, -2.13046333e-04-1.44552178e-03j,\n",
       "          2.00039974e-04-3.82909951e-04j],\n",
       "        [-2.19267881e-02-2.01190093e-02j, -1.73342525e-02-8.88936058e-03j,\n",
       "         -1.75951947e-04+2.54132447e-03j,  5.33149818e-01+7.03090973e-02j,\n",
       "         -8.35269783e-01+8.76879665e-02j, -4.47250603e-02-4.64999209e-02j,\n",
       "          1.74261047e-03+1.63486739e-03j,  1.77920084e-03+2.65479060e-04j,\n",
       "          2.48508970e-05-1.38595187e-04j],\n",
       "        [ 3.12181342e-03+3.91176243e-03j, -8.56746249e-04-1.34060679e-03j,\n",
       "         -3.85297878e-02+7.44861994e-02j,  8.18614393e-01-1.70545204e-01j,\n",
       "          4.87879090e-01-2.28272390e-01j, -2.61462894e-02-3.88899722e-02j,\n",
       "         -1.01516850e-02+1.76774428e-02j,  9.30255981e-03-2.92660753e-02j,\n",
       "          3.72335465e-03-4.65052191e-03j],\n",
       "        [ 6.49050724e-04-2.41802941e-03j,  7.56921173e-05-1.52898411e-03j,\n",
       "         -1.59867362e-05-3.06553463e-04j, -7.18216792e-02-4.83368865e-03j,\n",
       "          3.07257138e-02+1.58118784e-02j, -5.27715499e-01-8.42403459e-01j,\n",
       "         -1.22522405e-02+6.12912454e-02j,  7.71159901e-07+3.96852289e-02j,\n",
       "          2.07569573e-03-7.41845883e-04j],\n",
       "        [ 8.54140394e-05-1.78586820e-05j, -3.86920056e-05-4.69017261e-05j,\n",
       "          1.67800862e-03+7.95935901e-04j, -2.19316839e-02-2.25618362e-02j,\n",
       "         -1.64510499e-02-1.05656268e-02j, -8.50016117e-04+1.73741179e-03j,\n",
       "         -5.34309961e-01+3.00797372e-02j,  8.14231812e-01-2.13160012e-01j,\n",
       "          4.84179815e-02+3.83790458e-02j],\n",
       "        [-1.10098154e-04+1.14438535e-04j, -4.97507264e-05+8.20937476e-05j,\n",
       "          9.19490290e-07+3.03239355e-05j,  2.97650934e-03+3.26272588e-03j,\n",
       "         -1.76698940e-03-4.56046940e-04j, -3.26711135e-02+6.63589976e-02j,\n",
       "         -7.85881178e-01+2.94731315e-01j, -4.55948030e-01+2.82915378e-01j,\n",
       "          2.79492813e-02+3.63053290e-02j],\n",
       "        [ 9.05147677e-06+1.84130205e-05j,  1.25713227e-06-7.95144880e-06j,\n",
       "         -1.48699949e-04+2.93787414e-04j,  1.19325720e-03-3.33935143e-03j,\n",
       "          2.72848851e-04-2.23497165e-03j, -6.50427031e-05-1.36227105e-03j,\n",
       "          6.91100651e-02-5.14237582e-03j, -3.08731410e-02-1.34784204e-02j,\n",
       "          5.83531237e-01+8.08399626e-01j]])>,\n",
       " 'Id:X90m': <tf.Tensor: shape=(9, 9), dtype=complex128, numpy=\n",
       " array([[ 5.35730976e-01+6.01303599e-02j,  1.37710328e-01+8.28619863e-01j,\n",
       "          4.36952573e-02+4.34529487e-02j,  1.18728340e-03-1.27414359e-03j,\n",
       "         -1.01441788e-03-3.68269558e-04j,  1.02841059e-04-4.43964386e-05j,\n",
       "          1.96666224e-05-3.30399517e-05j,  5.58524525e-05+1.82173034e-05j,\n",
       "         -2.73182130e-08-7.96724446e-07j],\n",
       "        [ 2.20780096e-01+8.09429959e-01j,  4.64350767e-01-2.77792389e-01j,\n",
       "         -3.87590924e-02+2.25449441e-02j,  1.24880255e-02-1.52105302e-02j,\n",
       "          2.67425191e-02+1.30499500e-02j,  1.05746315e-03+2.13904805e-03j,\n",
       "          1.28765643e-04+9.85427409e-05j,  4.98035069e-05-6.68290057e-05j,\n",
       "          3.83186134e-07+5.81204212e-06j],\n",
       "        [ 6.72831834e-02+1.56466399e-03j, -1.70931566e-02+3.06882039e-02j,\n",
       "         -5.06448734e-01-8.54800945e-01j,  6.61465826e-02+2.51497701e-02j,\n",
       "          4.40856718e-03-4.49267268e-02j,  1.55633473e-04+3.53765208e-03j,\n",
       "         -4.10619816e-05+1.02761467e-03j, -1.46847663e-03+2.21399416e-04j,\n",
       "          4.40159586e-05-2.23394734e-04j],\n",
       "        [ 2.01400381e-02-2.19483795e-02j, -1.72999168e-02-8.86863988e-03j,\n",
       "          2.45144181e-03+1.68584781e-04j,  5.32525998e-01+7.11975295e-02j,\n",
       "          8.83275866e-02+8.35503535e-01j,  4.50113683e-02+4.66158985e-02j,\n",
       "         -1.31855370e-03+2.17429998e-03j,  9.83925546e-04+1.08599895e-03j,\n",
       "         -1.08796628e-04-6.75591875e-05j],\n",
       "        [-1.69182374e-03-5.52653683e-03j,  4.48001156e-03+3.85526481e-04j,\n",
       "         -3.82917136e-02+7.44380473e-02j,  1.70089610e-01+8.19141308e-01j,\n",
       "          4.86977811e-01-2.28906065e-01j, -3.85168469e-02+2.43553899e-02j,\n",
       "         -9.90632546e-03+1.81035246e-02j, -2.95566906e-02-9.19410286e-03j,\n",
       "         -6.05162925e-04-3.09877484e-03j],\n",
       "        [ 2.25127741e-03+7.77639291e-04j, -8.33812362e-06-1.61817807e-03j,\n",
       "          3.96314693e-04+1.27242307e-04j,  7.05325612e-02+3.83629825e-03j,\n",
       "         -1.58280710e-02+3.16565355e-02j, -5.27684874e-01-8.42501810e-01j,\n",
       "         -6.12993637e-02-1.23055852e-02j,  7.33710780e-05+3.96672858e-02j,\n",
       "         -7.75763937e-04-1.94962013e-03j],\n",
       "        [-1.32924991e-04+7.55941490e-05j, -6.26635108e-05-8.39777346e-05j,\n",
       "          1.66964662e-03+7.98134831e-04j,  2.25832328e-02-2.19544669e-02j,\n",
       "         -1.64139991e-02-1.05440118e-02j,  1.65636085e-03+8.54003698e-04j,\n",
       "         -5.33857344e-01+2.91016134e-02j, -2.13816769e-01-8.14399236e-01j,\n",
       "         -4.84881188e-02-3.81365404e-02j],\n",
       "        [-1.01662312e-04-1.09217634e-04j, -4.98461509e-05+9.05897737e-05j,\n",
       "         -2.83991862e-05-1.39070482e-05j, -9.13346661e-04-5.58181217e-03j,\n",
       "          4.86045525e-03+3.37483457e-04j, -3.23047817e-02+6.62898546e-02j,\n",
       "         -2.94374936e-01-7.86482814e-01j, -4.54956030e-01+2.83417031e-01j,\n",
       "          3.60440281e-02-2.61461371e-02j],\n",
       "        [-1.02945456e-05-2.25893939e-05j,  1.41485430e-05-2.91939212e-06j,\n",
       "         -1.46546884e-04+2.93326240e-04j,  3.26401277e-03+1.24808178e-03j,\n",
       "          2.62281218e-04-2.25958896e-03j,  1.45664748e-03+2.09712943e-04j,\n",
       "         -6.75371150e-02+5.76508234e-03j,  1.36981851e-02-3.16378602e-02j,\n",
       "          5.83533898e-01+8.08493148e-01j]])>,\n",
       " 'Id:Y90m': <tf.Tensor: shape=(9, 9), dtype=complex128, numpy=\n",
       " array([[ 5.36300981e-01+5.92166081e-02j,  8.28447612e-01-1.37038427e-01j,\n",
       "         -4.35492512e-02-4.32337046e-02j,  1.09743804e-03+1.24000440e-03j,\n",
       "         -7.77593201e-04-7.83683122e-04j,  1.20291144e-04-6.95876615e-05j,\n",
       "          1.92566941e-05-3.25825798e-05j,  1.54188659e-05-5.67183230e-05j,\n",
       "         -8.23930378e-06+2.13583995e-06j],\n",
       "        [-8.08894706e-01+2.21228617e-01j,  4.65292617e-01-2.77207537e-01j,\n",
       "          2.43180041e-02+3.91883444e-02j,  1.25836718e-02-1.48965918e-02j,\n",
       "          1.31424700e-02-2.65252457e-02j, -3.58280462e-03+3.07906947e-03j,\n",
       "         -9.99471572e-05+1.09606923e-04j,  4.19261992e-05-1.05047489e-04j,\n",
       "          7.67808667e-06-1.01159310e-06j],\n",
       "        [-6.85501009e-02-2.42493343e-03j, -2.96127537e-02-1.71022094e-02j,\n",
       "         -5.06483058e-01-8.54715873e-01j, -2.50920468e-02+6.61531539e-02j,\n",
       "          4.49015077e-03-4.49267393e-02j,  3.67616956e-03-1.16036984e-04j,\n",
       "         -5.99400865e-05+9.94141408e-04j,  2.13046333e-04+1.44552178e-03j,\n",
       "          2.00039974e-04-3.82909951e-04j],\n",
       "        [ 2.19267881e-02+2.01190093e-02j, -1.73342525e-02-8.88936058e-03j,\n",
       "          1.75951947e-04-2.54132447e-03j,  5.33149818e-01+7.03090973e-02j,\n",
       "          8.35269783e-01-8.76879665e-02j, -4.47250603e-02-4.64999209e-02j,\n",
       "         -1.74261047e-03-1.63486739e-03j,  1.77920084e-03+2.65479060e-04j,\n",
       "         -2.48508970e-05+1.38595187e-04j],\n",
       "        [ 3.12181342e-03+3.91176243e-03j,  8.56746249e-04+1.34060679e-03j,\n",
       "         -3.85297878e-02+7.44861994e-02j, -8.18614393e-01+1.70545204e-01j,\n",
       "          4.87879090e-01-2.28272390e-01j,  2.61462894e-02+3.88899722e-02j,\n",
       "         -1.01516850e-02+1.76774428e-02j, -9.30255981e-03+2.92660753e-02j,\n",
       "          3.72335465e-03-4.65052191e-03j],\n",
       "        [-6.49050724e-04+2.41802941e-03j,  7.56921173e-05-1.52898411e-03j,\n",
       "          1.59867362e-05+3.06553463e-04j, -7.18216792e-02-4.83368865e-03j,\n",
       "         -3.07257138e-02-1.58118784e-02j, -5.27715499e-01-8.42403459e-01j,\n",
       "          1.22522405e-02-6.12912454e-02j,  7.71159901e-07+3.96852289e-02j,\n",
       "         -2.07569573e-03+7.41845883e-04j],\n",
       "        [ 8.54140394e-05-1.78586820e-05j,  3.86920056e-05+4.69017261e-05j,\n",
       "          1.67800862e-03+7.95935901e-04j,  2.19316839e-02+2.25618362e-02j,\n",
       "         -1.64510499e-02-1.05656268e-02j,  8.50016117e-04-1.73741179e-03j,\n",
       "         -5.34309961e-01+3.00797372e-02j, -8.14231812e-01+2.13160012e-01j,\n",
       "          4.84179815e-02+3.83790458e-02j],\n",
       "        [ 1.10098154e-04-1.14438535e-04j, -4.97507264e-05+8.20937476e-05j,\n",
       "         -9.19490290e-07-3.03239355e-05j,  2.97650934e-03+3.26272588e-03j,\n",
       "          1.76698940e-03+4.56046940e-04j, -3.26711135e-02+6.63589976e-02j,\n",
       "          7.85881178e-01-2.94731315e-01j, -4.55948030e-01+2.82915378e-01j,\n",
       "         -2.79492813e-02-3.63053290e-02j],\n",
       "        [ 9.05147677e-06+1.84130205e-05j, -1.25713227e-06+7.95144880e-06j,\n",
       "         -1.48699949e-04+2.93787414e-04j, -1.19325720e-03+3.33935143e-03j,\n",
       "          2.72848851e-04-2.23497165e-03j,  6.50427031e-05+1.36227105e-03j,\n",
       "          6.91100651e-02-5.14237582e-03j,  3.08731410e-02+1.34784204e-02j,\n",
       "          5.83531237e-01+8.08399626e-01j]])>,\n",
       " 'X90p:Id': <tf.Tensor: shape=(9, 9), dtype=complex128, numpy=\n",
       " array([[ 5.39819078e-01+5.54603216e-02j, -1.14694617e-03+1.16680948e-03j,\n",
       "          6.35464026e-05+5.22498534e-05j, -1.29292989e-01-8.22160640e-01j,\n",
       "         -1.13478696e-03-6.07863135e-04j,  5.07695559e-05-1.14803968e-04j,\n",
       "          1.04660103e-01+4.35502228e-02j, -5.21547147e-05-4.34546648e-05j,\n",
       "         -3.68545017e-06+2.99133416e-05j],\n",
       "        [-3.20946391e-02-1.49349729e-02j,  5.40690046e-01+3.38742176e-02j,\n",
       "          1.00683905e-03+1.03637963e-03j,  3.80517379e-03-2.30238976e-02j,\n",
       "         -1.28256906e-01-8.22334399e-01j,  5.39849908e-04+2.19723020e-03j,\n",
       "         -2.74290405e-03-1.24604716e-03j,  1.00399646e-01+4.37250681e-02j,\n",
       "         -4.12720421e-03+3.17144911e-04j],\n",
       "        [ 4.55862271e-05-3.70138706e-04j, -7.57408825e-02-3.62399352e-02j,\n",
       "         -2.25247681e-01-4.89874576e-01j, -2.36477353e-04+3.46466216e-05j,\n",
       "          1.01775803e-02-5.35513529e-02j, -6.17938712e-01+5.52587890e-01j,\n",
       "         -3.65692613e-04+2.38745771e-03j, -5.90804365e-03-3.14899019e-03j,\n",
       "         -1.62137216e-02-1.08391318e-01j],\n",
       "        [-2.13173067e-01-8.02586019e-01j, -1.37813294e-02-1.87935551e-02j,\n",
       "          3.06672692e-05-1.39087365e-04j,  4.77164475e-01-2.75205001e-01j,\n",
       "         -2.34975084e-02+2.67177710e-02j,  1.11373304e-04-7.85038499e-05j,\n",
       "         -1.87452849e-02-6.94519191e-02j,  2.54992539e-04-2.23837831e-03j,\n",
       "          1.27832515e-04+1.24361693e-04j],\n",
       "        [ 3.09187803e-03-5.78285161e-03j, -2.09209142e-01-7.99985116e-01j,\n",
       "         -2.33869397e-02+5.05069138e-02j, -4.10740441e-03-3.06221218e-04j,\n",
       "          4.85877479e-01-2.51366387e-01j,  8.27593912e-02+1.18327787e-02j,\n",
       "         -2.50311809e-02+3.61203973e-02j, -1.33138780e-02-6.81031163e-02j,\n",
       "         -9.63660252e-03-2.62639405e-03j],\n",
       "        [-1.52871789e-04+2.93090910e-05j,  5.22828939e-03-9.93229693e-03j,\n",
       "         -5.58844458e-01+6.12082603e-01j, -4.05590405e-05-1.06944909e-04j,\n",
       "         -6.89644744e-03+3.99138893e-04j, -4.96319891e-01-2.32411113e-01j,\n",
       "         -1.37630797e-05-6.73547047e-06j, -5.53989995e-02+6.84254343e-02j,\n",
       "         -5.05319019e-02+4.71057293e-02j],\n",
       "        [ 1.17690460e-01-2.79314065e-02j, -2.14679039e-02+3.02114983e-02j,\n",
       "          1.34413111e-03+1.85253979e-04j, -4.29786862e-02-3.87326669e-02j,\n",
       "         -2.26691568e-02-9.49668429e-03j, -2.79930688e-04-2.02718511e-03j,\n",
       "         -9.86225905e-01+8.59470337e-02j, -1.94376532e-03+2.26914899e-03j,\n",
       "          5.08189786e-05+5.73244432e-04j],\n",
       "        [-2.12480689e-03-6.58499213e-04j,  1.13957037e-01-2.51644745e-02j,\n",
       "          7.39473147e-02+3.54664176e-03j,  2.09964348e-04-1.55939335e-03j,\n",
       "         -3.85782380e-02-3.97851959e-02j,  1.22781042e-02+4.76891587e-02j,\n",
       "         -2.10992908e-04-1.91367437e-04j, -9.87561368e-01+9.94482769e-03j,\n",
       "          4.15215766e-03+1.16047421e-03j],\n",
       "        [-1.59167982e-05-7.11388976e-06j, -4.39740046e-03-5.28533714e-03j,\n",
       "         -8.18589077e-02-8.39623463e-02j,  7.22702367e-07+9.44157411e-06j,\n",
       "          6.69026147e-03-6.89924152e-03j, -1.37767242e-02+5.32407490e-02j,\n",
       "          1.22096659e-04+4.88962214e-05j, -1.13439824e-03-2.00491931e-03j,\n",
       "          5.47457063e-01+8.26648046e-01j]])>,\n",
       " 'X90p:X90p': <tf.Tensor: shape=(9, 9), dtype=complex128, numpy=\n",
       " array([[ 0.28718022+0.06296236j, -0.03225342-0.45337219j,\n",
       "          0.02166407+0.02720924j, -0.02346067-0.4461428j ,\n",
       "         -0.66929834+0.20665546j,  0.0306429 -0.04495125j,\n",
       "          0.05437661+0.02944339j,  0.02526711-0.08937651j,\n",
       "          0.00243829+0.00951403j],\n",
       "        [-0.09352647-0.45653113j,  0.25817116-0.10185354j,\n",
       "          0.0229579 -0.00895671j, -0.63673627+0.27161857j,\n",
       "         -0.29423844-0.3549376j , -0.02186882-0.02675498j,\n",
       "          0.01084271-0.09391514j,  0.05729047-0.00377855j,\n",
       "          0.00133244+0.00129689j],\n",
       "        [ 0.02625801+0.06791991j, -0.031022  -0.01091778j,\n",
       "         -0.22384654-0.49001792j, -0.04999137-0.05074449j,\n",
       "         -0.04134617-0.03588497j, -0.62259112+0.5437105j ,\n",
       "          0.00608321+0.00956751j,  0.00127566-0.00320714j,\n",
       "         -0.01586139-0.10810103j],\n",
       "        [-0.08192444-0.4285337j , -0.64815507+0.27909403j,\n",
       "          0.0254613 -0.04358993j,  0.29287103-0.10936907j,\n",
       "         -0.28623587-0.35048524j,  0.03495536+0.00952157j,\n",
       "         -0.00898688-0.03787706j, -0.05767908+0.02067761j,\n",
       "         -0.00159412-0.00308513j],\n",
       "        [-0.60865529+0.32911736j, -0.3159356 -0.32475524j,\n",
       "         -0.05306327+0.01941086j, -0.32095347-0.3329378j ,\n",
       "          0.16705602-0.23842049j,  0.08561171-0.00767119j,\n",
       "         -0.06428515+0.04556921j,  0.0073023 -0.01521963j,\n",
       "         -0.01536179-0.00418773j],\n",
       "        [-0.02258018-0.05810156j, -0.02715336-0.01069477j,\n",
       "         -0.56385071+0.60474965j,  0.03673914-0.01241211j,\n",
       "         -0.00424054-0.01575992j, -0.49292058-0.23661533j,\n",
       "          0.06254904+0.01745198j, -0.00736253+0.04117585j,\n",
       "         -0.05035832+0.04879109j],\n",
       "        [ 0.0911899 +0.00355908j, -0.04237784-0.07465269j,\n",
       "          0.00704791+0.00615238j, -0.0253525 -0.00377322j,\n",
       "         -0.03846372+0.03925436j, -0.00208708-0.00448767j,\n",
       "         -0.52789844-0.00127308j,  0.16626438+0.81889773j,\n",
       "         -0.04533287-0.03926876j],\n",
       "        [-0.0476115 -0.08631663j,  0.04785657-0.0382669j ,\n",
       "          0.07042298+0.00381133j, -0.02692137+0.03957327j,\n",
       "         -0.02940648-0.00722324j,  0.00566535+0.04250764j,\n",
       "          0.2475972 +0.79405302j, -0.46549586+0.25736002j,\n",
       "         -0.03305291+0.02585208j],\n",
       "        [ 0.00500002+0.00204113j, -0.00352626-0.00615764j,\n",
       "         -0.08058388-0.08373455j, -0.0063602 -0.00604022j,\n",
       "          0.0023482 -0.00684532j, -0.01508702+0.05342365j,\n",
       "         -0.06823234+0.00305961j, -0.01606085+0.02930391j,\n",
       "          0.53739059+0.82982581j]])>,\n",
       " 'X90p:Y90p': <tf.Tensor: shape=(9, 9), dtype=complex128, numpy=\n",
       " array([[ 2.85818405e-01+6.27856640e-02j, -4.54656207e-01+3.23833145e-02j,\n",
       "         -1.90847448e-02-2.56988527e-02j, -2.50127153e-02-4.47888573e-01j,\n",
       "          2.05527347e-01+6.68303892e-01j, -3.12529198e-02+4.37296225e-02j,\n",
       "          5.43717153e-02+2.94376404e-02j, -8.98698022e-02-2.55384042e-02j,\n",
       "          4.48807354e-04-6.15575930e-03j],\n",
       "        [ 4.32111853e-01-8.61554125e-02j,  2.90713064e-01-1.22626420e-01j,\n",
       "         -8.35848788e-03-1.88100142e-02j, -2.81351766e-01-6.49894750e-01j,\n",
       "         -2.75744964e-01-3.38329608e-01j, -2.75912378e-02+2.73613131e-02j,\n",
       "          9.19472633e-02+1.12214222e-02j,  6.09387303e-02-5.56260630e-03j,\n",
       "         -3.93544532e-03-2.69195103e-03j],\n",
       "        [-1.00379402e-01-1.42058518e-02j, -2.76132931e-02+1.60113983e-02j,\n",
       "         -2.19688659e-01-4.87544112e-01j,  1.18587474e-03+1.39516538e-02j,\n",
       "         -2.14423606e-03-5.49954545e-02j, -6.23725971e-01+5.46412679e-01j,\n",
       "         -1.23002448e-02-3.01210894e-03j,  7.46827542e-06+9.40388131e-04j,\n",
       "         -1.48940653e-02-1.07381693e-01j],\n",
       "        [-8.30606850e-02-4.54177921e-01j,  2.73340836e-01+6.32550781e-01j,\n",
       "         -2.52785105e-02+4.49582672e-02j,  2.55314878e-01-9.99421456e-02j,\n",
       "         -3.72597148e-01+2.98113373e-01j, -3.40426458e-02-9.12997968e-03j,\n",
       "         -7.84219958e-03-3.97009824e-02j,  2.13202755e-02+5.52503347e-02j,\n",
       "         -1.65043628e-03+7.95014467e-03j],\n",
       "        [-3.32023020e-01-6.08275004e-01j, -3.10133041e-01-3.21587870e-01j,\n",
       "         -5.20093158e-02+7.64592644e-02j,  3.37433807e-01-3.18421322e-01j,\n",
       "          1.66871204e-01-2.43450385e-01j,  5.18763227e-02+5.56727995e-03j,\n",
       "         -4.09405945e-02-3.34330146e-02j, -8.51151203e-03-5.95054349e-02j,\n",
       "         -1.05830135e-02-8.15373745e-04j],\n",
       "        [ 1.53589781e-02+4.95709995e-02j,  5.84697450e-03-3.09544632e-02j,\n",
       "         -5.63310959e-01+6.05316403e-01j, -4.16260464e-02+2.08635160e-02j,\n",
       "          1.69692247e-02+1.17027586e-03j, -4.92994579e-01-2.36358226e-01j,\n",
       "         -1.94338132e-02+6.85929794e-02j, -3.51941803e-03+4.09226743e-02j,\n",
       "         -4.77695556e-02+4.65560899e-02j],\n",
       "        [ 5.32583374e-02+1.72841394e-02j, -9.59280172e-02+5.68001006e-02j,\n",
       "         -3.33696753e-03-3.38494412e-03j, -4.06031766e-02-2.60843118e-02j,\n",
       "          2.75122282e-02+2.69080643e-02j,  1.45468497e-03+2.19217443e-03j,\n",
       "         -5.31494448e-01+6.71607218e-04j,  8.16736032e-01-1.64860882e-01j,\n",
       "          4.70342887e-02+4.07475973e-02j],\n",
       "        [ 9.10830870e-02-4.75753426e-02j,  4.62246876e-02-4.08917458e-02j,\n",
       "          6.24153898e-02+5.02244577e-03j, -3.87806488e-02-2.42470516e-02j,\n",
       "         -2.86133643e-02-9.68475282e-03j,  6.03274527e-03+4.66308718e-02j,\n",
       "         -7.93398534e-01+2.47698087e-01j, -4.66339776e-01+2.56477742e-01j,\n",
       "          2.99060200e-02+3.88643638e-02j],\n",
       "        [-1.18471954e-02-1.35127263e-03j, -8.27965609e-04-1.23776175e-03j,\n",
       "         -8.12530397e-02-8.42876418e-02j,  5.90175845e-03-7.42588135e-04j,\n",
       "          3.68027486e-03-9.29116139e-03j, -1.42261661e-02+5.20066630e-02j,\n",
       "          6.77910443e-02-1.92580904e-03j, -3.10509234e-02-1.61949555e-02j,\n",
       "          5.37408063e-01+8.29729223e-01j]])>,\n",
       " 'X90p:X90m': <tf.Tensor: shape=(9, 9), dtype=complex128, numpy=\n",
       " array([[ 2.85059994e-01+6.23535251e-02j,  3.08177279e-02+4.55535994e-01j,\n",
       "          2.05332883e-02+2.33276396e-02j, -2.28264896e-02-4.48270838e-01j,\n",
       "          6.67849627e-01-2.06542621e-01j,  3.02292931e-02-4.32499023e-02j,\n",
       "          5.42523766e-02+2.91781252e-02j, -2.53268200e-02+8.96323154e-02j,\n",
       "          2.75897526e-03+3.37683174e-03j],\n",
       "        [ 6.11748804e-02+4.40123348e-01j,  2.69817442e-01-1.54936002e-01j,\n",
       "         -2.23296007e-02+9.76323819e-03j,  6.40856560e-01-2.95150719e-01j,\n",
       "         -2.58841627e-01-3.55652384e-01j,  2.54794947e-02+2.74985881e-02j,\n",
       "         -1.30222289e-02+9.29149921e-02j,  5.91980049e-02-8.12060905e-03j,\n",
       "         -8.12440351e-03+2.30303888e-03j],\n",
       "        [ 4.52708530e-02-5.99961151e-02j, -5.38713325e-02+1.96454628e-02j,\n",
       "         -2.18663277e-01-4.90351310e-01j,  3.61965417e-02-6.08501064e-02j,\n",
       "          1.72665495e-02-1.67608458e-02j, -6.21172234e-01+5.47192888e-01j,\n",
       "          7.42820227e-03-5.76916160e-04j, -7.43365545e-03+3.39566368e-03j,\n",
       "         -1.45192879e-02-1.07721205e-01j],\n",
       "        [-5.63116052e-02-4.54397791e-01j,  6.27357781e-01-2.89811509e-01j,\n",
       "          2.69995796e-02-4.51769080e-02j,  2.45368461e-01-1.36981541e-01j,\n",
       "          2.77439213e-01+3.84136673e-01j,  3.46212682e-02+8.42544628e-03j,\n",
       "         -5.29991175e-03-3.84138250e-02j,  5.62057457e-02-2.26956362e-02j,\n",
       "          6.63577945e-03-4.30298074e-03j],\n",
       "        [ 6.09112571e-01-3.40497339e-01j, -3.02737152e-01-3.22206807e-01j,\n",
       "          4.07248745e-03+7.30619711e-02j,  3.09585154e-01+3.38741892e-01j,\n",
       "          1.63751272e-01-2.50664955e-01j,  6.50127325e-02+3.80475925e-02j,\n",
       "          3.84765614e-02-9.81365265e-03j, -5.34829020e-02-4.18262545e-02j,\n",
       "         -1.11463935e-02+3.00393078e-04j],\n",
       "        [-6.24179301e-03-5.50616365e-02j,  2.66756340e-02+1.09643906e-03j,\n",
       "         -5.62782601e-01+6.06013261e-01j,  3.21966628e-02-2.48213416e-02j,\n",
       "          5.82547541e-04+2.27510869e-02j, -4.91308004e-01-2.38787510e-01j,\n",
       "         -6.64772197e-02-2.54089931e-02j, -3.16262289e-03+4.47614211e-02j,\n",
       "         -5.12030491e-02+4.43197031e-02j],\n",
       "        [ 3.91944608e-02-2.07722859e-02j,  3.56880284e-02+1.10827949e-01j,\n",
       "          7.89957548e-03+2.76605900e-03j, -1.76607182e-02-4.13978653e-02j,\n",
       "          1.40134318e-02-3.82080643e-02j, -1.27266603e-04-4.87479346e-03j,\n",
       "         -5.31814647e-01-2.45819848e-03j, -1.67178207e-01-8.16121770e-01j,\n",
       "         -4.65569801e-02-4.11793476e-02j],\n",
       "        [ 3.95239856e-02+9.16510639e-02j,  4.53177548e-02-4.52655829e-02j,\n",
       "          6.35645894e-02+1.26870429e-02j,  2.29477818e-02-4.40839988e-02j,\n",
       "         -2.59199475e-02-1.10323654e-02j,  9.82431891e-03+4.60766334e-02j,\n",
       "         -2.47906768e-01-7.94014788e-01j, -4.65577726e-01+2.55721143e-01j,\n",
       "          4.07528775e-02-2.27011727e-02j],\n",
       "        [ 1.09594404e-02-5.23158022e-03j, -5.70842118e-03+1.57748010e-03j,\n",
       "         -8.09711053e-02-8.51624332e-02j,  9.70112769e-04+3.96979157e-04j,\n",
       "          6.11110945e-03-8.01529231e-03j, -1.32568411e-02+5.26040322e-02j,\n",
       "         -6.67122407e-02+6.99194600e-04j,  1.38388089e-02-3.22135829e-02j,\n",
       "          5.37540642e-01+8.29644296e-01j]])>,\n",
       " 'X90p:Y90m': <tf.Tensor: shape=(9, 9), dtype=complex128, numpy=\n",
       " array([[ 2.87129194e-01+6.16006833e-02j,  4.54003310e-01-2.99779422e-02j,\n",
       "         -2.29696789e-02-2.46395047e-02j, -2.29231802e-02-4.47230766e-01j,\n",
       "         -2.06530939e-01-6.68693894e-01j, -2.93806007e-02+4.41799189e-02j,\n",
       "          5.44524984e-02+2.90471051e-02j,  8.90433120e-02+2.51735793e-02j,\n",
       "         -5.66940559e-03-6.62672702e-03j],\n",
       "        [-4.64032389e-01+6.90647249e-02j,  2.38238370e-01-1.33416387e-01j,\n",
       "          1.22156308e-02+2.71538839e-02j,  2.86004070e-01+6.26688329e-01j,\n",
       "         -2.76636950e-01-3.73909128e-01j,  2.67931691e-02-2.30307394e-02j,\n",
       "         -9.48108940e-02-1.25381463e-02j,  5.56643104e-02-6.19136993e-03j,\n",
       "         -2.60925405e-03+7.00564851e-03j],\n",
       "        [ 2.75604733e-02+4.66511029e-03j, -5.72375367e-02-7.51128291e-03j,\n",
       "         -2.22909498e-01-4.92691793e-01j,  1.13625946e-02+1.00106342e-01j,\n",
       "         -2.18716599e-02+2.27521170e-03j, -6.19854233e-01+5.44515288e-01j,\n",
       "         -2.19522128e-03-1.68620363e-03j, -6.20542258e-03-7.13615168e-04j,\n",
       "         -1.50868293e-02-1.08751624e-01j],\n",
       "        [-5.69087495e-02-4.29297113e-01j, -2.94402342e-01-6.42965644e-01j,\n",
       "         -2.68512182e-02+4.32978669e-02j,  2.82993466e-01-1.47613608e-01j,\n",
       "          3.62160217e-01-2.64808680e-01j, -3.52937440e-02-8.97276478e-03j,\n",
       "         -6.58110426e-03-3.66059074e-02j, -2.19014857e-02-5.86187942e-02j,\n",
       "         -2.81927946e-03-3.25477532e-04j],\n",
       "        [ 3.38055231e-01+6.08437771e-01j, -3.08008764e-01-3.27154994e-01j,\n",
       "          1.66173255e-03+1.64975536e-02j, -3.33516534e-01+3.12202231e-01j,\n",
       "          1.65194786e-01-2.45620837e-01j,  9.94426747e-02+2.54535843e-02j,\n",
       "          1.45338741e-02+6.92245342e-02j, -3.76192606e-02+2.30257848e-03j,\n",
       "         -6.07427592e-03-5.23831462e-03j],\n",
       "        [ 1.24919558e-02+6.60722669e-02j, -6.24570799e-03+2.13929252e-02j,\n",
       "         -5.63148086e-01+6.05450028e-01j, -2.90401498e-02+1.60755807e-02j,\n",
       "         -2.05583763e-02+5.66853326e-03j, -4.91204075e-01-2.38942382e-01j,\n",
       "          2.32659700e-02-6.04690887e-02j, -7.25587668e-03+4.50830089e-02j,\n",
       "         -5.37720796e-02+4.65648625e-02j],\n",
       "        [ 7.74700278e-02-3.48858311e-02j,  8.97258933e-02-2.11317731e-02j,\n",
       "         -6.88593029e-03-4.16888146e-03j, -2.83533787e-03-1.94113602e-02j,\n",
       "         -5.00629223e-02-2.57806204e-02j,  9.56951694e-04+1.32063462e-04j,\n",
       "         -5.29210811e-01-2.46695502e-03j, -8.17791572e-01+1.67366698e-01j,\n",
       "          4.51188745e-02+4.19688624e-02j],\n",
       "        [-8.67335751e-02+3.96189559e-02j,  4.71990818e-02-4.25604980e-02j,\n",
       "          7.18285674e-02+1.18763196e-02j,  4.48433838e-02+2.55455622e-02j,\n",
       "         -2.67560324e-02-8.68184021e-03j,  9.24492962e-03+4.21619291e-02j,\n",
       "          7.93517702e-01-2.48573543e-01j, -4.66634900e-01+2.55510537e-01j,\n",
       "         -2.21982795e-02-3.55423346e-02j],\n",
       "        [-4.49389329e-03+4.42084901e-03j, -8.37934085e-03-3.40778913e-03j,\n",
       "         -8.02981342e-02-8.45865085e-02j, -4.47886180e-04+6.57740403e-03j,\n",
       "          4.78662082e-03-5.59272362e-03j, -1.41063298e-02+5.40146884e-02j,\n",
       "          7.01621897e-02-4.12444430e-04j,  2.89134019e-02+1.32073101e-02j,\n",
       "          5.37531523e-01+8.29557142e-01j]])>,\n",
       " 'Y90p:Id': <tf.Tensor: shape=(9, 9), dtype=complex128, numpy=\n",
       " array([[ 5.39863448e-01+5.65887086e-02j, -1.25747575e-03-1.11402066e-03j,\n",
       "          6.24114710e-05+5.19578442e-05j, -8.21932128e-01+1.30096985e-01j,\n",
       "         -8.09048574e-04-5.06561196e-04j, -1.13122641e-04-4.91978209e-05j,\n",
       "         -1.04543330e-01-4.37537314e-02j,  2.28619275e-04+1.49160878e-04j,\n",
       "         -6.14166591e-06-2.67575877e-05j],\n",
       "        [ 1.49355538e-02-3.20775705e-02j,  5.40764372e-01+3.49915360e-02j,\n",
       "          1.63468177e-04+3.69025390e-03j,  3.79355091e-03-2.30549654e-02j,\n",
       "         -8.22143690e-01+1.29081949e-01j, -1.16844480e-04+1.05482013e-03j,\n",
       "         -1.28942304e-03+2.67340123e-03j, -9.99737629e-02-4.39371880e-02j,\n",
       "         -2.22823799e-04-4.49858895e-03j],\n",
       "        [ 5.39133019e-05+2.39012257e-04j,  3.62469033e-02-7.56977627e-02j,\n",
       "         -2.24292751e-01-4.90594802e-01j, -1.21334894e-04-3.76807520e-06j,\n",
       "          1.01572814e-02-5.36247258e-02j,  5.53117383e-01+6.17334940e-01j,\n",
       "         -3.93069032e-04+2.40805576e-03j, -3.22189015e-03+5.73710440e-03j,\n",
       "          1.63761550e-02+1.07828422e-01j],\n",
       "        [ 8.02683307e-01-2.12623817e-01j, -1.32479901e-02-1.83467381e-02j,\n",
       "          1.94514463e-04-8.16034922e-05j,  4.76801623e-01-2.76169529e-01j,\n",
       "          2.64361102e-02+2.33894661e-02j,  9.32755178e-05-2.52810037e-05j,\n",
       "         -6.92264508e-02+1.65152213e-02j,  2.86139317e-03+7.06018846e-03j,\n",
       "         -1.43283742e-04+1.22147357e-04j],\n",
       "        [-1.68371115e-03+4.09957929e-03j,  8.00142984e-01-2.08632296e-01j,\n",
       "         -2.32835547e-02+4.95036328e-02j, -9.67980546e-04-1.03356651e-03j,\n",
       "          4.85568885e-01-2.52305142e-01j,  1.18745980e-02-8.23275942e-02j,\n",
       "         -2.54087444e-02+3.63797544e-02j, -6.77342855e-02+1.11095713e-02j,\n",
       "          1.30623528e-02-4.93776186e-03j],\n",
       "        [-4.34599395e-05-1.78447641e-04j, -3.25046414e-03+7.41991910e-03j,\n",
       "         -6.11650307e-01-5.59210131e-01j, -6.35374708e-05-9.18868299e-05j,\n",
       "         -2.22490190e-03-2.45509463e-03j, -4.96924998e-01-2.31574144e-01j,\n",
       "          9.62997154e-06+1.74734047e-05j, -5.59342312e-02+6.87815973e-02j,\n",
       "          4.50275159e-02+5.13914535e-02j],\n",
       "        [-1.16974858e-01+2.95673631e-02j, -3.01799051e-02-2.14874680e-02j,\n",
       "          1.33627754e-03+2.17659983e-04j,  3.95081287e-02-4.22069495e-02j,\n",
       "         -2.27125045e-02-9.45359243e-03j, -2.02832045e-03+2.67312863e-04j,\n",
       "         -9.86279188e-01+8.57944650e-02j,  2.23780428e-03+2.01397641e-03j,\n",
       "         -1.80774458e-04-3.45716866e-04j],\n",
       "        [ 7.78015732e-04-2.46351316e-03j, -1.13403053e-01+2.68410237e-02j,\n",
       "         -3.61942519e-03+7.38944511e-02j, -8.22396387e-05-1.63518206e-03j,\n",
       "          4.07377705e-02-3.78922421e-02j,  1.24109590e-02+4.77246861e-02j,\n",
       "          8.51100662e-06+2.09661926e-04j, -9.87569329e-01+9.79650197e-03j,\n",
       "          1.29875469e-03-4.16568136e-03j],\n",
       "        [ 1.58391860e-05+8.18901752e-07j, -3.22543964e-03-2.24727267e-03j,\n",
       "          8.26846795e-02+8.28129045e-02j, -4.97785403e-06+4.47879986e-06j,\n",
       "         -6.32672114e-03+2.29550760e-03j, -5.29358742e-02-1.54103900e-02j,\n",
       "          1.20943656e-04+4.95780683e-05j,  1.67102089e-03-5.48140212e-04j,\n",
       "          5.47471541e-01+8.26712009e-01j]])>,\n",
       " 'Y90p:X90p': <tf.Tensor: shape=(9, 9), dtype=complex128, numpy=\n",
       " array([[ 2.85388572e-01+0.06478355j, -3.08928105e-02-0.45480126j,\n",
       "          2.28518913e-02+0.02475438j, -4.47312838e-01+0.02416114j,\n",
       "          2.06687604e-01+0.66839012j, -4.44401830e-02-0.02944488j,\n",
       "         -5.41759460e-02-0.02938882j, -2.51764991e-02+0.08907527j,\n",
       "         -5.64338241e-03-0.00666753j],\n",
       "        [-6.80041434e-02-0.4647629j ,  2.37958488e-01-0.13316927j,\n",
       "          2.57588873e-02-0.00713239j,  2.86219635e-01+0.62671988j,\n",
       "         -3.72849221e-01+0.27747289j, -2.65414205e-02+0.02446355j,\n",
       "         -1.28749445e-02+0.09458689j, -5.55180426e-02+0.00614302j,\n",
       "         -6.77713968e-03-0.00310723j],\n",
       "        [-2.81764120e-02-0.00517164j,  7.55140299e-03-0.05775382j,\n",
       "         -2.21921735e-01-0.49331737j, -9.89926685e-02+0.01196011j,\n",
       "         -2.18145655e-02+0.00313749j,  5.45054347e-01+0.61940481j,\n",
       "         -2.19465458e-03-0.00141773j, -8.10576935e-04+0.00623945j,\n",
       "          1.52405110e-02+0.10826369j],\n",
       "        [ 4.29290742e-01-0.0561997j , -2.94193411e-01-0.64304347j,\n",
       "          4.36065404e-02+0.02689771j,  2.82794905e-01-0.14733865j,\n",
       "         -2.66107717e-01-0.36167204j,  3.53871448e-02+0.008884j  ,\n",
       "         -3.33319914e-02+0.00220729j,  2.23424182e-02+0.06012565j,\n",
       "          6.23602066e-04-0.00282489j],\n",
       "        [-3.36582967e-01-0.6098847j ,  3.25054410e-01-0.30876344j,\n",
       "          2.02908085e-03+0.01712668j, -3.13586638e-01-0.33203097j,\n",
       "          1.66694286e-01-0.24560053j,  2.56028288e-02-0.09804826j,\n",
       "          1.26130652e-02+0.06999904j,  2.50680239e-03+0.03666277j,\n",
       "          9.56422161e-03-0.00146944j],\n",
       "        [ 6.25680176e-02-0.0137913j ,  6.19109753e-03-0.02366578j,\n",
       "         -6.05042582e-01-0.5636817j ,  3.17181822e-02-0.01601808j,\n",
       "         -5.52954366e-03-0.01872603j, -4.91736923e-01-0.23809548j,\n",
       "          6.09988134e-02+0.02350866j, -7.34258466e-03+0.04537023j,\n",
       "          4.45429051e-02+0.05452019j],\n",
       "        [-7.71612211e-02+0.0356801j ,  2.25139469e-02+0.08890352j,\n",
       "         -6.86390860e-03-0.00406841j,  1.98329085e-02-0.00227224j,\n",
       "         -4.95199567e-02-0.02645832j,  1.65905122e-04-0.00092859j,\n",
       "         -5.28666884e-01-0.00348717j,  1.67884146e-01+0.8180911j ,\n",
       "         -4.51994142e-02-0.04176642j],\n",
       "        [ 4.16719766e-02+0.08384808j, -4.99616042e-02+0.04300832j,\n",
       "         -1.16388573e-02+0.0714772j , -4.43285869e-02-0.02800069j,\n",
       "          6.87453812e-03-0.02622174j,  9.58891018e-03+0.04217121j,\n",
       "          2.47968641e-01+0.79435353j, -4.65380092e-01+0.25607758j,\n",
       "         -3.50809225e-02+0.02039794j],\n",
       "        [-9.48223003e-03+0.00462754j, -4.27373949e-03+0.00523863j,\n",
       "          8.10103384e-02+0.08325623j,  3.19966876e-03+0.00146371j,\n",
       "         -5.80111831e-03+0.00356546j, -5.37838181e-02-0.01574122j,\n",
       "         -6.81526781e-02+0.00119688j, -1.34364787e-02+0.03001094j,\n",
       "          5.37543982e-01+0.82972615j]])>,\n",
       " 'Y90p:Y90p': <tf.Tensor: shape=(9, 9), dtype=complex128, numpy=\n",
       " array([[ 0.28538292+6.17588911e-02j, -0.45492501+3.04804997e-02j,\n",
       "         -0.02157453-2.70188018e-02j, -0.44803369+2.42095022e-02j,\n",
       "          0.66788923-2.06829309e-01j,  0.04484373+3.05674749e-02j,\n",
       "         -0.05423753-2.93611393e-02j,  0.08938126+2.55536474e-02j,\n",
       "          0.00243396+9.45442553e-03j],\n",
       "        [ 0.4566601 -9.26971531e-02j,  0.25886807-1.01126579e-01j,\n",
       "         -0.01093052-1.92167849e-02j, -0.63579121+2.72635671e-01j,\n",
       "         -0.35556438+2.94161218e-01j,  0.02356346+2.97309153e-02j,\n",
       "         -0.09367188-1.10754354e-02j, -0.05720131+3.54980785e-03j,\n",
       "         -0.00104264+1.13222779e-03j],\n",
       "        [-0.02694606-6.84884177e-02j,  0.01041875-3.10439273e-02j,\n",
       "         -0.22302529-4.90681317e-01j,  0.05183674-4.95481728e-02j,\n",
       "         -0.04047321-3.60101907e-02j,  0.54417831+6.21943006e-01j,\n",
       "          0.0060742 +9.57761023e-03j, -0.00317466-1.26311977e-03j,\n",
       "          0.01604647+1.07627907e-01j],\n",
       "        [ 0.42930138-8.22047488e-02j, -0.64799699+2.78153702e-01j,\n",
       "         -0.04333096-2.54546547e-02j,  0.29251425-1.10553661e-01j,\n",
       "         -0.35023704+2.86649319e-01j, -0.03484748-9.56451034e-03j,\n",
       "         -0.03455094+1.08940045e-02j,  0.05998478-1.72659570e-02j,\n",
       "          0.00307942-1.73624770e-03j],\n",
       "        [ 0.60908278-3.29690501e-01j,  0.32519094-3.13905025e-01j,\n",
       "         -0.05452464+1.86039457e-02j,  0.3313465 -3.20278083e-01j,\n",
       "          0.1676741 -2.41222643e-01j, -0.00846199-8.49229741e-02j,\n",
       "         -0.06482644+4.34410826e-02j, -0.01537834-8.44603141e-03j,\n",
       "          0.01897708-2.24526985e-03j],\n",
       "        [-0.05850492+1.98332995e-02j,  0.02653579+9.39090429e-03j,\n",
       "         -0.60436078-5.64101217e-01j, -0.03783422+1.59933711e-02j,\n",
       "          0.01574877-1.76778669e-03j, -0.49345401-2.35814468e-01j,\n",
       "         -0.01761021+6.31366194e-02j, -0.00745405+4.13942507e-02j,\n",
       "          0.04684691+5.12207297e-02j],\n",
       "        [-0.09088716-2.53288440e-03j,  0.07380323-4.35804962e-02j,\n",
       "          0.00711473+6.14608049e-03j,  0.00411966-2.49144391e-02j,\n",
       "         -0.03923469+3.86849828e-02j, -0.00445801+2.04243265e-03j,\n",
       "         -0.5284352 -3.54178048e-04j,  0.81876419-1.65456058e-01j,\n",
       "          0.04525533+3.94692890e-02j],\n",
       "        [-0.08458141+4.67555384e-02j, -0.04748872+4.24865466e-02j,\n",
       "         -0.00384096+7.04215337e-02j,  0.02793673-4.07086048e-02j,\n",
       "          0.00829766-2.69273828e-02j,  0.00557959+4.26875549e-02j,\n",
       "         -0.793624  +2.48056563e-01j, -0.46641512+2.56398502e-01j,\n",
       "          0.02775954+3.33827279e-02j],\n",
       "        [ 0.00509399-3.21766277e-03j, -0.00697086+3.40027822e-04j,\n",
       "          0.08125181+8.26773148e-02j, -0.00710319+2.94320735e-03j,\n",
       "         -0.00340657+4.94660362e-03j, -0.05315128-1.65279396e-02j,\n",
       "          0.06966446-1.83347903e-03j, -0.02852   -1.54927640e-02j,\n",
       "          0.53742052+8.29777327e-01j]])>,\n",
       " 'Y90p:X90m': <tf.Tensor: shape=(9, 9), dtype=complex128, numpy=\n",
       " array([[ 2.86770463e-01+6.17452775e-02j,  3.03147325e-02+4.54479124e-01j,\n",
       "          1.92511407e-02+2.58860147e-02j, -4.46936315e-01+2.30085157e-02j,\n",
       "         -2.07797561e-01-6.68200652e-01j, -4.38053242e-02-3.13363595e-02j,\n",
       "         -5.43253671e-02-2.94349845e-02j,  2.57691295e-02-8.98013463e-02j,\n",
       "          4.57599835e-04-6.22580216e-03j],\n",
       "        [ 8.48750863e-02+4.32472076e-01j,  2.90681691e-01-1.22575320e-01j,\n",
       "         -1.95868991e-02+1.14979101e-02j, -2.81796723e-01-6.50188842e-01j,\n",
       "         -3.37076996e-01+2.76342909e-01j,  2.76427181e-02-2.29404552e-02j,\n",
       "          1.15404505e-02-9.17733135e-02j, -6.07222320e-02+5.43624171e-03j,\n",
       "          2.67551525e-03-4.08097898e-03j],\n",
       "        [ 9.97082228e-02+1.38286708e-02j, -1.61554259e-02-2.70180973e-02j,\n",
       "         -2.18704717e-01-4.88407519e-01j, -1.27013632e-02+1.78084484e-03j,\n",
       "         -2.34022975e-03-5.58712404e-02j,  5.46911801e-01+6.23122829e-01j,\n",
       "         -1.20833060e-02-2.94438554e-03j,  9.02084230e-04-1.59483382e-04j,\n",
       "          1.50715020e-02+1.06923437e-01j],\n",
       "        [ 4.53667158e-01-8.14516621e-02j,  2.73804523e-01+6.32821157e-01j,\n",
       "          4.50900535e-02+2.53134639e-02j,  2.55166058e-01-1.00095028e-01j,\n",
       "          2.99070877e-01+3.72098506e-01j,  3.43241416e-02+9.00934393e-03j,\n",
       "         -4.24701581e-02+9.71381811e-03j, -1.71997809e-02-5.38089930e-02j,\n",
       "         -8.05430783e-03-1.83304370e-03j],\n",
       "        [ 3.32139520e-01+6.08340811e-01j,  3.22420443e-01-3.09462530e-01j,\n",
       "         -5.18282319e-02+7.40283095e-02j,  3.18284457e-01+3.38717548e-01j,\n",
       "          1.63420056e-01-2.44246494e-01j,  5.08655113e-03-5.23324473e-02j,\n",
       "         -3.90889328e-02-3.32113642e-02j, -6.03408709e-02+7.23882635e-03j,\n",
       "          1.41548921e-02-5.47663530e-03j],\n",
       "        [ 5.05405309e-02-1.49292550e-02j, -5.50969501e-03+3.01320027e-02j,\n",
       "         -6.04851698e-01-5.63689848e-01j,  3.71068120e-02-2.12339387e-02j,\n",
       "         -4.73317323e-04+1.96875916e-02j, -4.93712275e-01-2.35647195e-01j,\n",
       "         -6.88627354e-02-1.98932812e-02j, -3.51205589e-03+4.11798915e-02j,\n",
       "          4.44174648e-02+4.87322586e-02j],\n",
       "        [-5.28916478e-02-1.64924020e-02j, -5.80937611e-02-9.51212019e-02j,\n",
       "         -3.44609057e-03-3.22489051e-03j,  2.64332929e-02-4.01295005e-02j,\n",
       "          2.69912285e-02+2.76404873e-02j,  2.15161374e-03-1.36237030e-03j,\n",
       "         -5.31077027e-01-3.58832756e-04j, -1.65381032e-01-8.16956183e-01j,\n",
       "         -4.71125135e-02-4.05673968e-02j],\n",
       "        [-4.79212694e-02-9.24779942e-02j, -4.17724146e-02+4.18023865e-02j,\n",
       "         -4.93553769e-03+6.23905290e-02j,  3.85690454e-02+2.36629449e-02j,\n",
       "          1.25906390e-02-2.89046203e-02j,  6.18558721e-03+4.64473389e-02j,\n",
       "         -2.47296575e-01-7.93811235e-01j, -4.65773034e-01+2.56875233e-01j,\n",
       "          3.86274134e-02-2.81087535e-02j],\n",
       "        [-6.39663076e-03-1.25851154e-03j, -2.18165006e-03-2.50859633e-03j,\n",
       "          8.22208887e-02+8.32907104e-02j,  2.59543350e-03-6.68152506e-03j,\n",
       "         -4.75379879e-03+7.37977779e-03j, -5.15515688e-02-1.57213539e-02j,\n",
       "         -6.68085615e-02+2.55055960e-03j,  1.64437845e-02-3.14932102e-02j,\n",
       "          5.37398065e-01+8.29857727e-01j]])>,\n",
       " 'Y90p:Y90m': <tf.Tensor: shape=(9, 9), dtype=complex128, numpy=\n",
       " array([[ 2.87485567e-01+6.38416801e-02j,  4.54104674e-01-3.00171792e-02j,\n",
       "         -2.03822903e-02-2.34193907e-02j, -4.46919565e-01+2.46097271e-02j,\n",
       "         -6.68552384e-01+2.06516878e-01j,  4.31249201e-02+2.99665263e-02j,\n",
       "         -5.44567938e-02-2.93236992e-02j, -8.94053732e-02-2.55112696e-02j,\n",
       "          2.74487842e-03+3.34090931e-03j],\n",
       "        [-4.40035442e-01+6.07544394e-02j,  2.70723103e-01-1.53898523e-01j,\n",
       "          9.56060040e-03+2.68130169e-02j,  6.40122664e-01-2.95976723e-01j,\n",
       "         -3.56092770e-01+2.58861304e-01j, -2.68769672e-02-2.46179138e-02j,\n",
       "          9.26094918e-02+1.31606710e-02j, -5.91935556e-02+7.76951892e-03j,\n",
       "         -2.33713185e-03-8.55915843e-03j],\n",
       "        [-4.58840490e-02+5.93427032e-02j, -1.89717629e-02-5.38520034e-02j,\n",
       "         -2.17607161e-01-4.91000522e-01j,  6.20697079e-02+3.67197607e-02j,\n",
       "          1.64210400e-02-1.67457013e-02j,  5.47815737e-01+6.20476263e-01j,\n",
       "          7.60360385e-03-3.47234588e-04j,  3.20233693e-03+7.30939698e-03j,\n",
       "          1.46925519e-02+1.07221074e-01j],\n",
       "        [ 4.54220263e-01-5.71475099e-02j,  6.27802211e-01-2.88732181e-01j,\n",
       "         -4.49219250e-02-2.70375041e-02j,  2.45521402e-01-1.38061778e-01j,\n",
       "          3.83674559e-01-2.77817691e-01j, -3.44656935e-02-8.34190303e-03j,\n",
       "         -4.13317898e-02+1.17368802e-03j, -5.39426798e-02+2.22486339e-02j,\n",
       "          4.06300588e-03+6.93120562e-03j],\n",
       "        [-6.08093630e-01+3.39525530e-01j,  3.24002290e-01-3.03750657e-01j,\n",
       "          5.61625723e-03+7.21272369e-02j, -3.38610478e-01+3.11736370e-01j,\n",
       "          1.63600808e-01-2.48490488e-01j,  3.91886714e-02-6.50985939e-02j,\n",
       "          3.83132580e-02-8.24901052e-03j, -4.25987949e-02+5.22775157e-02j,\n",
       "          1.46756187e-02-6.83501321e-03j],\n",
       "        [-5.72214008e-02+7.97501095e-03j, -2.58111726e-02-2.87397167e-03j,\n",
       "         -6.05538102e-01-5.63096088e-01j, -3.28545602e-02+2.11966475e-02j,\n",
       "         -2.18905338e-02+2.64447776e-03j, -4.91960369e-01-2.37814484e-01j,\n",
       "          2.57236077e-02-6.66768116e-02j, -3.46963881e-03+4.51375258e-02j,\n",
       "          4.21071287e-02+5.20233742e-02j],\n",
       "        [-3.89859607e-02+2.18127037e-02j, -1.10026929e-01+3.68452025e-02j,\n",
       "          7.90729569e-03+2.62023265e-03j,  4.17656288e-02-1.73058111e-02j,\n",
       "          1.47153879e-02-3.75798550e-02j, -4.91033882e-03+7.80176565e-06j,\n",
       "         -5.32331862e-01-1.66218263e-03j, -8.15975020e-01+1.66453702e-01j,\n",
       "          4.64576121e-02+4.13965008e-02j],\n",
       "        [ 9.15909718e-02-4.29247626e-02j, -4.44996727e-02+4.22368304e-02j,\n",
       "         -1.32441741e-02+6.37163349e-02j, -2.36402498e-02+4.21952399e-02j,\n",
       "          1.12896594e-02-2.82213050e-02j,  9.89177434e-03+4.62511618e-02j,\n",
       "          7.93391663e-01-2.47986020e-01j, -4.66651702e-01+2.55451886e-01j,\n",
       "         -2.42894613e-02-4.11185146e-02j],\n",
       "        [ 1.11666384e-02-5.30953867e-05j,  5.84363904e-04+2.41781569e-03j,\n",
       "          8.19703032e-02+8.38466877e-02j,  1.12735910e-03+2.32541899e-03j,\n",
       "         -7.13569289e-03+5.97347864e-03j, -5.21846583e-02-1.49250599e-02j,\n",
       "          6.83048088e-02-4.99033021e-04j,  3.14519644e-02+1.39255103e-02j,\n",
       "          5.37528806e-01+8.29621152e-01j]])>,\n",
       " 'X90m:Id': <tf.Tensor: shape=(9, 9), dtype=complex128, numpy=\n",
       " array([[ 5.39819078e-01+5.54603216e-02j,  1.14694617e-03-1.16680948e-03j,\n",
       "          6.35464026e-05+5.22498534e-05j,  1.29292989e-01+8.22160640e-01j,\n",
       "         -1.13478696e-03-6.07863135e-04j, -5.07695559e-05+1.14803968e-04j,\n",
       "          1.04660103e-01+4.35502228e-02j,  5.21547147e-05+4.34546648e-05j,\n",
       "         -3.68545017e-06+2.99133416e-05j],\n",
       "        [ 3.20946391e-02+1.49349729e-02j,  5.40690046e-01+3.38742176e-02j,\n",
       "         -1.00683905e-03-1.03637963e-03j,  3.80517379e-03-2.30238976e-02j,\n",
       "          1.28256906e-01+8.22334399e-01j,  5.39849908e-04+2.19723020e-03j,\n",
       "          2.74290405e-03+1.24604716e-03j,  1.00399646e-01+4.37250681e-02j,\n",
       "          4.12720421e-03-3.17144911e-04j],\n",
       "        [ 4.55862271e-05-3.70138706e-04j,  7.57408825e-02+3.62399352e-02j,\n",
       "         -2.25247681e-01-4.89874576e-01j,  2.36477353e-04-3.46466216e-05j,\n",
       "          1.01775803e-02-5.35513529e-02j,  6.17938712e-01-5.52587890e-01j,\n",
       "         -3.65692613e-04+2.38745771e-03j,  5.90804365e-03+3.14899019e-03j,\n",
       "         -1.62137216e-02-1.08391318e-01j],\n",
       "        [ 2.13173067e-01+8.02586019e-01j, -1.37813294e-02-1.87935551e-02j,\n",
       "         -3.06672692e-05+1.39087365e-04j,  4.77164475e-01-2.75205001e-01j,\n",
       "          2.34975084e-02-2.67177710e-02j,  1.11373304e-04-7.85038499e-05j,\n",
       "          1.87452849e-02+6.94519191e-02j,  2.54992539e-04-2.23837831e-03j,\n",
       "         -1.27832515e-04-1.24361693e-04j],\n",
       "        [ 3.09187803e-03-5.78285161e-03j,  2.09209142e-01+7.99985116e-01j,\n",
       "         -2.33869397e-02+5.05069138e-02j,  4.10740441e-03+3.06221218e-04j,\n",
       "          4.85877479e-01-2.51366387e-01j, -8.27593912e-02-1.18327787e-02j,\n",
       "         -2.50311809e-02+3.61203973e-02j,  1.33138780e-02+6.81031163e-02j,\n",
       "         -9.63660252e-03-2.62639405e-03j],\n",
       "        [ 1.52871789e-04-2.93090910e-05j,  5.22828939e-03-9.93229693e-03j,\n",
       "          5.58844458e-01-6.12082603e-01j, -4.05590405e-05-1.06944909e-04j,\n",
       "          6.89644744e-03-3.99138893e-04j, -4.96319891e-01-2.32411113e-01j,\n",
       "          1.37630797e-05+6.73547047e-06j, -5.53989995e-02+6.84254343e-02j,\n",
       "          5.05319019e-02-4.71057293e-02j],\n",
       "        [ 1.17690460e-01-2.79314065e-02j,  2.14679039e-02-3.02114983e-02j,\n",
       "          1.34413111e-03+1.85253979e-04j,  4.29786862e-02+3.87326669e-02j,\n",
       "         -2.26691568e-02-9.49668429e-03j,  2.79930688e-04+2.02718511e-03j,\n",
       "         -9.86225905e-01+8.59470337e-02j,  1.94376532e-03-2.26914899e-03j,\n",
       "          5.08189786e-05+5.73244432e-04j],\n",
       "        [ 2.12480689e-03+6.58499213e-04j,  1.13957037e-01-2.51644745e-02j,\n",
       "         -7.39473147e-02-3.54664176e-03j,  2.09964348e-04-1.55939335e-03j,\n",
       "          3.85782380e-02+3.97851959e-02j,  1.22781042e-02+4.76891587e-02j,\n",
       "          2.10992908e-04+1.91367437e-04j, -9.87561368e-01+9.94482769e-03j,\n",
       "         -4.15215766e-03-1.16047421e-03j],\n",
       "        [-1.59167982e-05-7.11388976e-06j,  4.39740046e-03+5.28533714e-03j,\n",
       "         -8.18589077e-02-8.39623463e-02j, -7.22702367e-07-9.44157411e-06j,\n",
       "          6.69026147e-03-6.89924152e-03j,  1.37767242e-02-5.32407490e-02j,\n",
       "          1.22096659e-04+4.88962214e-05j,  1.13439824e-03+2.00491931e-03j,\n",
       "          5.47457063e-01+8.26648046e-01j]])>,\n",
       " 'X90m:X90p': <tf.Tensor: shape=(9, 9), dtype=complex128, numpy=\n",
       " array([[ 2.85059994e-01+6.23535251e-02j, -3.08177279e-02-4.55535994e-01j,\n",
       "          2.05332883e-02+2.33276396e-02j,  2.28264896e-02+4.48270838e-01j,\n",
       "          6.67849627e-01-2.06542621e-01j, -3.02292931e-02+4.32499023e-02j,\n",
       "          5.42523766e-02+2.91781252e-02j,  2.53268200e-02-8.96323154e-02j,\n",
       "          2.75897526e-03+3.37683174e-03j],\n",
       "        [-6.11748804e-02-4.40123348e-01j,  2.69817442e-01-1.54936002e-01j,\n",
       "          2.23296007e-02-9.76323819e-03j,  6.40856560e-01-2.95150719e-01j,\n",
       "          2.58841627e-01+3.55652384e-01j,  2.54794947e-02+2.74985881e-02j,\n",
       "          1.30222289e-02-9.29149921e-02j,  5.91980049e-02-8.12060905e-03j,\n",
       "          8.12440351e-03-2.30303888e-03j],\n",
       "        [ 4.52708530e-02-5.99961151e-02j,  5.38713325e-02-1.96454628e-02j,\n",
       "         -2.18663277e-01-4.90351310e-01j, -3.61965417e-02+6.08501064e-02j,\n",
       "          1.72665495e-02-1.67608458e-02j,  6.21172234e-01-5.47192888e-01j,\n",
       "          7.42820227e-03-5.76916160e-04j,  7.43365545e-03-3.39566368e-03j,\n",
       "         -1.45192879e-02-1.07721205e-01j],\n",
       "        [ 5.63116052e-02+4.54397791e-01j,  6.27357781e-01-2.89811509e-01j,\n",
       "         -2.69995796e-02+4.51769080e-02j,  2.45368461e-01-1.36981541e-01j,\n",
       "         -2.77439213e-01-3.84136673e-01j,  3.46212682e-02+8.42544628e-03j,\n",
       "          5.29991175e-03+3.84138250e-02j,  5.62057457e-02-2.26956362e-02j,\n",
       "         -6.63577945e-03+4.30298074e-03j],\n",
       "        [ 6.09112571e-01-3.40497339e-01j,  3.02737152e-01+3.22206807e-01j,\n",
       "          4.07248745e-03+7.30619711e-02j, -3.09585154e-01-3.38741892e-01j,\n",
       "          1.63751272e-01-2.50664955e-01j, -6.50127325e-02-3.80475925e-02j,\n",
       "          3.84765614e-02-9.81365265e-03j,  5.34829020e-02+4.18262545e-02j,\n",
       "         -1.11463935e-02+3.00393078e-04j],\n",
       "        [ 6.24179301e-03+5.50616365e-02j,  2.66756340e-02+1.09643906e-03j,\n",
       "          5.62782601e-01-6.06013261e-01j,  3.21966628e-02-2.48213416e-02j,\n",
       "         -5.82547541e-04-2.27510869e-02j, -4.91308004e-01-2.38787510e-01j,\n",
       "          6.64772197e-02+2.54089931e-02j, -3.16262289e-03+4.47614211e-02j,\n",
       "          5.12030491e-02-4.43197031e-02j],\n",
       "        [ 3.91944608e-02-2.07722859e-02j, -3.56880284e-02-1.10827949e-01j,\n",
       "          7.89957548e-03+2.76605900e-03j,  1.76607182e-02+4.13978653e-02j,\n",
       "          1.40134318e-02-3.82080643e-02j,  1.27266603e-04+4.87479346e-03j,\n",
       "         -5.31814647e-01-2.45819848e-03j,  1.67178207e-01+8.16121770e-01j,\n",
       "         -4.65569801e-02-4.11793476e-02j],\n",
       "        [-3.95239856e-02-9.16510639e-02j,  4.53177548e-02-4.52655829e-02j,\n",
       "         -6.35645894e-02-1.26870429e-02j,  2.29477818e-02-4.40839988e-02j,\n",
       "          2.59199475e-02+1.10323654e-02j,  9.82431891e-03+4.60766334e-02j,\n",
       "          2.47906768e-01+7.94014788e-01j, -4.65577726e-01+2.55721143e-01j,\n",
       "         -4.07528775e-02+2.27011727e-02j],\n",
       "        [ 1.09594404e-02-5.23158022e-03j,  5.70842118e-03-1.57748010e-03j,\n",
       "         -8.09711053e-02-8.51624332e-02j, -9.70112769e-04-3.96979157e-04j,\n",
       "          6.11110945e-03-8.01529231e-03j,  1.32568411e-02-5.26040322e-02j,\n",
       "         -6.67122407e-02+6.99194600e-04j, -1.38388089e-02+3.22135829e-02j,\n",
       "          5.37540642e-01+8.29644296e-01j]])>,\n",
       " 'X90m:Y90p': <tf.Tensor: shape=(9, 9), dtype=complex128, numpy=\n",
       " array([[ 2.87129194e-01+6.16006833e-02j, -4.54003310e-01+2.99779422e-02j,\n",
       "         -2.29696789e-02-2.46395047e-02j,  2.29231802e-02+4.47230766e-01j,\n",
       "         -2.06530939e-01-6.68693894e-01j,  2.93806007e-02-4.41799189e-02j,\n",
       "          5.44524984e-02+2.90471051e-02j, -8.90433120e-02-2.51735793e-02j,\n",
       "         -5.66940559e-03-6.62672702e-03j],\n",
       "        [ 4.64032389e-01-6.90647249e-02j,  2.38238370e-01-1.33416387e-01j,\n",
       "         -1.22156308e-02-2.71538839e-02j,  2.86004070e-01+6.26688329e-01j,\n",
       "          2.76636950e-01+3.73909128e-01j,  2.67931691e-02-2.30307394e-02j,\n",
       "          9.48108940e-02+1.25381463e-02j,  5.56643104e-02-6.19136993e-03j,\n",
       "          2.60925405e-03-7.00564851e-03j],\n",
       "        [ 2.75604733e-02+4.66511029e-03j,  5.72375367e-02+7.51128291e-03j,\n",
       "         -2.22909498e-01-4.92691793e-01j, -1.13625946e-02-1.00106342e-01j,\n",
       "         -2.18716599e-02+2.27521170e-03j,  6.19854233e-01-5.44515288e-01j,\n",
       "         -2.19522128e-03-1.68620363e-03j,  6.20542258e-03+7.13615168e-04j,\n",
       "         -1.50868293e-02-1.08751624e-01j],\n",
       "        [ 5.69087495e-02+4.29297113e-01j, -2.94402342e-01-6.42965644e-01j,\n",
       "          2.68512182e-02-4.32978669e-02j,  2.82993466e-01-1.47613608e-01j,\n",
       "         -3.62160217e-01+2.64808680e-01j, -3.52937440e-02-8.97276478e-03j,\n",
       "          6.58110426e-03+3.66059074e-02j, -2.19014857e-02-5.86187942e-02j,\n",
       "          2.81927946e-03+3.25477532e-04j],\n",
       "        [ 3.38055231e-01+6.08437771e-01j,  3.08008764e-01+3.27154994e-01j,\n",
       "          1.66173255e-03+1.64975536e-02j,  3.33516534e-01-3.12202231e-01j,\n",
       "          1.65194786e-01-2.45620837e-01j, -9.94426747e-02-2.54535843e-02j,\n",
       "          1.45338741e-02+6.92245342e-02j,  3.76192606e-02-2.30257848e-03j,\n",
       "         -6.07427592e-03-5.23831462e-03j],\n",
       "        [-1.24919558e-02-6.60722669e-02j, -6.24570799e-03+2.13929252e-02j,\n",
       "          5.63148086e-01-6.05450028e-01j, -2.90401498e-02+1.60755807e-02j,\n",
       "          2.05583763e-02-5.66853326e-03j, -4.91204075e-01-2.38942382e-01j,\n",
       "         -2.32659700e-02+6.04690887e-02j, -7.25587668e-03+4.50830089e-02j,\n",
       "          5.37720796e-02-4.65648625e-02j],\n",
       "        [ 7.74700278e-02-3.48858311e-02j, -8.97258933e-02+2.11317731e-02j,\n",
       "         -6.88593029e-03-4.16888146e-03j,  2.83533787e-03+1.94113602e-02j,\n",
       "         -5.00629223e-02-2.57806204e-02j, -9.56951694e-04-1.32063462e-04j,\n",
       "         -5.29210811e-01-2.46695502e-03j,  8.17791572e-01-1.67366698e-01j,\n",
       "          4.51188745e-02+4.19688624e-02j],\n",
       "        [ 8.67335751e-02-3.96189559e-02j,  4.71990818e-02-4.25604980e-02j,\n",
       "         -7.18285674e-02-1.18763196e-02j,  4.48433838e-02+2.55455622e-02j,\n",
       "          2.67560324e-02+8.68184021e-03j,  9.24492962e-03+4.21619291e-02j,\n",
       "         -7.93517702e-01+2.48573543e-01j, -4.66634900e-01+2.55510537e-01j,\n",
       "          2.21982795e-02+3.55423346e-02j],\n",
       "        [-4.49389329e-03+4.42084901e-03j,  8.37934085e-03+3.40778913e-03j,\n",
       "         -8.02981342e-02-8.45865085e-02j,  4.47886180e-04-6.57740403e-03j,\n",
       "          4.78662082e-03-5.59272362e-03j,  1.41063298e-02-5.40146884e-02j,\n",
       "          7.01621897e-02-4.12444430e-04j, -2.89134019e-02-1.32073101e-02j,\n",
       "          5.37531523e-01+8.29557142e-01j]])>,\n",
       " 'X90m:X90m': <tf.Tensor: shape=(9, 9), dtype=complex128, numpy=\n",
       " array([[ 0.28718022+0.06296236j,  0.03225342+0.45337219j,\n",
       "          0.02166407+0.02720924j,  0.02346067+0.4461428j ,\n",
       "         -0.66929834+0.20665546j, -0.0306429 +0.04495125j,\n",
       "          0.05437661+0.02944339j, -0.02526711+0.08937651j,\n",
       "          0.00243829+0.00951403j],\n",
       "        [ 0.09352647+0.45653113j,  0.25817116-0.10185354j,\n",
       "         -0.0229579 +0.00895671j, -0.63673627+0.27161857j,\n",
       "          0.29423844+0.3549376j , -0.02186882-0.02675498j,\n",
       "         -0.01084271+0.09391514j,  0.05729047-0.00377855j,\n",
       "         -0.00133244-0.00129689j],\n",
       "        [ 0.02625801+0.06791991j,  0.031022  +0.01091778j,\n",
       "         -0.22384654-0.49001792j,  0.04999137+0.05074449j,\n",
       "         -0.04134617-0.03588497j,  0.62259112-0.5437105j ,\n",
       "          0.00608321+0.00956751j, -0.00127566+0.00320714j,\n",
       "         -0.01586139-0.10810103j],\n",
       "        [ 0.08192444+0.4285337j , -0.64815507+0.27909403j,\n",
       "         -0.0254613 +0.04358993j,  0.29287103-0.10936907j,\n",
       "          0.28623587+0.35048524j,  0.03495536+0.00952157j,\n",
       "          0.00898688+0.03787706j, -0.05767908+0.02067761j,\n",
       "          0.00159412+0.00308513j],\n",
       "        [-0.60865529+0.32911736j,  0.3159356 +0.32475524j,\n",
       "         -0.05306327+0.01941086j,  0.32095347+0.3329378j ,\n",
       "          0.16705602-0.23842049j, -0.08561171+0.00767119j,\n",
       "         -0.06428515+0.04556921j, -0.0073023 +0.01521963j,\n",
       "         -0.01536179-0.00418773j],\n",
       "        [ 0.02258018+0.05810156j, -0.02715336-0.01069477j,\n",
       "          0.56385071-0.60474965j,  0.03673914-0.01241211j,\n",
       "          0.00424054+0.01575992j, -0.49292058-0.23661533j,\n",
       "         -0.06254904-0.01745198j, -0.00736253+0.04117585j,\n",
       "          0.05035832-0.04879109j],\n",
       "        [ 0.0911899 +0.00355908j,  0.04237784+0.07465269j,\n",
       "          0.00704791+0.00615238j,  0.0253525 +0.00377322j,\n",
       "         -0.03846372+0.03925436j,  0.00208708+0.00448767j,\n",
       "         -0.52789844-0.00127308j, -0.16626438-0.81889773j,\n",
       "         -0.04533287-0.03926876j],\n",
       "        [ 0.0476115 +0.08631663j,  0.04785657-0.0382669j ,\n",
       "         -0.07042298-0.00381133j, -0.02692137+0.03957327j,\n",
       "          0.02940648+0.00722324j,  0.00566535+0.04250764j,\n",
       "         -0.2475972 -0.79405302j, -0.46549586+0.25736002j,\n",
       "          0.03305291-0.02585208j],\n",
       "        [ 0.00500002+0.00204113j,  0.00352626+0.00615764j,\n",
       "         -0.08058388-0.08373455j,  0.0063602 +0.00604022j,\n",
       "          0.0023482 -0.00684532j,  0.01508702-0.05342365j,\n",
       "         -0.06823234+0.00305961j,  0.01606085-0.02930391j,\n",
       "          0.53739059+0.82982581j]])>,\n",
       " 'X90m:Y90m': <tf.Tensor: shape=(9, 9), dtype=complex128, numpy=\n",
       " array([[ 2.85818405e-01+6.27856640e-02j,  4.54656207e-01-3.23833145e-02j,\n",
       "         -1.90847448e-02-2.56988527e-02j,  2.50127153e-02+4.47888573e-01j,\n",
       "          2.05527347e-01+6.68303892e-01j,  3.12529198e-02-4.37296225e-02j,\n",
       "          5.43717153e-02+2.94376404e-02j,  8.98698022e-02+2.55384042e-02j,\n",
       "          4.48807354e-04-6.15575930e-03j],\n",
       "        [-4.32111853e-01+8.61554125e-02j,  2.90713064e-01-1.22626420e-01j,\n",
       "          8.35848788e-03+1.88100142e-02j, -2.81351766e-01-6.49894750e-01j,\n",
       "          2.75744964e-01+3.38329608e-01j, -2.75912378e-02+2.73613131e-02j,\n",
       "         -9.19472633e-02-1.12214222e-02j,  6.09387303e-02-5.56260630e-03j,\n",
       "          3.93544532e-03+2.69195103e-03j],\n",
       "        [-1.00379402e-01-1.42058518e-02j,  2.76132931e-02-1.60113983e-02j,\n",
       "         -2.19688659e-01-4.87544112e-01j, -1.18587474e-03-1.39516538e-02j,\n",
       "         -2.14423606e-03-5.49954545e-02j,  6.23725971e-01-5.46412679e-01j,\n",
       "         -1.23002448e-02-3.01210894e-03j, -7.46827542e-06-9.40388131e-04j,\n",
       "         -1.48940653e-02-1.07381693e-01j],\n",
       "        [ 8.30606850e-02+4.54177921e-01j,  2.73340836e-01+6.32550781e-01j,\n",
       "          2.52785105e-02-4.49582672e-02j,  2.55314878e-01-9.99421456e-02j,\n",
       "          3.72597148e-01-2.98113373e-01j, -3.40426458e-02-9.12997968e-03j,\n",
       "          7.84219958e-03+3.97009824e-02j,  2.13202755e-02+5.52503347e-02j,\n",
       "          1.65043628e-03-7.95014467e-03j],\n",
       "        [-3.32023020e-01-6.08275004e-01j,  3.10133041e-01+3.21587870e-01j,\n",
       "         -5.20093158e-02+7.64592644e-02j, -3.37433807e-01+3.18421322e-01j,\n",
       "          1.66871204e-01-2.43450385e-01j, -5.18763227e-02-5.56727995e-03j,\n",
       "         -4.09405945e-02-3.34330146e-02j,  8.51151203e-03+5.95054349e-02j,\n",
       "         -1.05830135e-02-8.15373745e-04j],\n",
       "        [-1.53589781e-02-4.95709995e-02j,  5.84697450e-03-3.09544632e-02j,\n",
       "          5.63310959e-01-6.05316403e-01j, -4.16260464e-02+2.08635160e-02j,\n",
       "         -1.69692247e-02-1.17027586e-03j, -4.92994579e-01-2.36358226e-01j,\n",
       "          1.94338132e-02-6.85929794e-02j, -3.51941803e-03+4.09226743e-02j,\n",
       "          4.77695556e-02-4.65560899e-02j],\n",
       "        [ 5.32583374e-02+1.72841394e-02j,  9.59280172e-02-5.68001006e-02j,\n",
       "         -3.33696753e-03-3.38494412e-03j,  4.06031766e-02+2.60843118e-02j,\n",
       "          2.75122282e-02+2.69080643e-02j, -1.45468497e-03-2.19217443e-03j,\n",
       "         -5.31494448e-01+6.71607218e-04j, -8.16736032e-01+1.64860882e-01j,\n",
       "          4.70342887e-02+4.07475973e-02j],\n",
       "        [-9.10830870e-02+4.75753426e-02j,  4.62246876e-02-4.08917458e-02j,\n",
       "         -6.24153898e-02-5.02244577e-03j, -3.87806488e-02-2.42470516e-02j,\n",
       "          2.86133643e-02+9.68475282e-03j,  6.03274527e-03+4.66308718e-02j,\n",
       "          7.93398534e-01-2.47698087e-01j, -4.66339776e-01+2.56477742e-01j,\n",
       "         -2.99060200e-02-3.88643638e-02j],\n",
       "        [-1.18471954e-02-1.35127263e-03j,  8.27965609e-04+1.23776175e-03j,\n",
       "         -8.12530397e-02-8.42876418e-02j, -5.90175845e-03+7.42588135e-04j,\n",
       "          3.68027486e-03-9.29116139e-03j,  1.42261661e-02-5.20066630e-02j,\n",
       "          6.77910443e-02-1.92580904e-03j,  3.10509234e-02+1.61949555e-02j,\n",
       "          5.37408063e-01+8.29729223e-01j]])>,\n",
       " 'Y90m:Id': <tf.Tensor: shape=(9, 9), dtype=complex128, numpy=\n",
       " array([[ 5.39863448e-01+5.65887086e-02j,  1.25747575e-03+1.11402066e-03j,\n",
       "          6.24114710e-05+5.19578442e-05j,  8.21932128e-01-1.30096985e-01j,\n",
       "         -8.09048574e-04-5.06561196e-04j,  1.13122641e-04+4.91978209e-05j,\n",
       "         -1.04543330e-01-4.37537314e-02j, -2.28619275e-04-1.49160878e-04j,\n",
       "         -6.14166591e-06-2.67575877e-05j],\n",
       "        [-1.49355538e-02+3.20775705e-02j,  5.40764372e-01+3.49915360e-02j,\n",
       "         -1.63468177e-04-3.69025390e-03j,  3.79355091e-03-2.30549654e-02j,\n",
       "          8.22143690e-01-1.29081949e-01j, -1.16844480e-04+1.05482013e-03j,\n",
       "          1.28942304e-03-2.67340123e-03j, -9.99737629e-02-4.39371880e-02j,\n",
       "          2.22823799e-04+4.49858895e-03j],\n",
       "        [ 5.39133019e-05+2.39012257e-04j, -3.62469033e-02+7.56977627e-02j,\n",
       "         -2.24292751e-01-4.90594802e-01j,  1.21334894e-04+3.76807520e-06j,\n",
       "          1.01572814e-02-5.36247258e-02j, -5.53117383e-01-6.17334940e-01j,\n",
       "         -3.93069032e-04+2.40805576e-03j,  3.22189015e-03-5.73710440e-03j,\n",
       "          1.63761550e-02+1.07828422e-01j],\n",
       "        [-8.02683307e-01+2.12623817e-01j, -1.32479901e-02-1.83467381e-02j,\n",
       "         -1.94514463e-04+8.16034922e-05j,  4.76801623e-01-2.76169529e-01j,\n",
       "         -2.64361102e-02-2.33894661e-02j,  9.32755178e-05-2.52810037e-05j,\n",
       "          6.92264508e-02-1.65152213e-02j,  2.86139317e-03+7.06018846e-03j,\n",
       "          1.43283742e-04-1.22147357e-04j],\n",
       "        [-1.68371115e-03+4.09957929e-03j, -8.00142984e-01+2.08632296e-01j,\n",
       "         -2.32835547e-02+4.95036328e-02j,  9.67980546e-04+1.03356651e-03j,\n",
       "          4.85568885e-01-2.52305142e-01j, -1.18745980e-02+8.23275942e-02j,\n",
       "         -2.54087444e-02+3.63797544e-02j,  6.77342855e-02-1.11095713e-02j,\n",
       "          1.30623528e-02-4.93776186e-03j],\n",
       "        [ 4.34599395e-05+1.78447641e-04j, -3.25046414e-03+7.41991910e-03j,\n",
       "          6.11650307e-01+5.59210131e-01j, -6.35374708e-05-9.18868299e-05j,\n",
       "          2.22490190e-03+2.45509463e-03j, -4.96924998e-01-2.31574144e-01j,\n",
       "         -9.62997154e-06-1.74734047e-05j, -5.59342312e-02+6.87815973e-02j,\n",
       "         -4.50275159e-02-5.13914535e-02j],\n",
       "        [-1.16974858e-01+2.95673631e-02j,  3.01799051e-02+2.14874680e-02j,\n",
       "          1.33627754e-03+2.17659983e-04j, -3.95081287e-02+4.22069495e-02j,\n",
       "         -2.27125045e-02-9.45359243e-03j,  2.02832045e-03-2.67312863e-04j,\n",
       "         -9.86279188e-01+8.57944650e-02j, -2.23780428e-03-2.01397641e-03j,\n",
       "         -1.80774458e-04-3.45716866e-04j],\n",
       "        [-7.78015732e-04+2.46351316e-03j, -1.13403053e-01+2.68410237e-02j,\n",
       "          3.61942519e-03-7.38944511e-02j, -8.22396387e-05-1.63518206e-03j,\n",
       "         -4.07377705e-02+3.78922421e-02j,  1.24109590e-02+4.77246861e-02j,\n",
       "         -8.51100662e-06-2.09661926e-04j, -9.87569329e-01+9.79650197e-03j,\n",
       "         -1.29875469e-03+4.16568136e-03j],\n",
       "        [ 1.58391860e-05+8.18901752e-07j,  3.22543964e-03+2.24727267e-03j,\n",
       "          8.26846795e-02+8.28129045e-02j,  4.97785403e-06-4.47879986e-06j,\n",
       "         -6.32672114e-03+2.29550760e-03j,  5.29358742e-02+1.54103900e-02j,\n",
       "          1.20943656e-04+4.95780683e-05j, -1.67102089e-03+5.48140212e-04j,\n",
       "          5.47471541e-01+8.26712009e-01j]])>,\n",
       " 'Y90m:X90p': <tf.Tensor: shape=(9, 9), dtype=complex128, numpy=\n",
       " array([[ 2.86770463e-01+6.17452775e-02j, -3.03147325e-02-4.54479124e-01j,\n",
       "          1.92511407e-02+2.58860147e-02j,  4.46936315e-01-2.30085157e-02j,\n",
       "         -2.07797561e-01-6.68200652e-01j,  4.38053242e-02+3.13363595e-02j,\n",
       "         -5.43253671e-02-2.94349845e-02j, -2.57691295e-02+8.98013463e-02j,\n",
       "          4.57599835e-04-6.22580216e-03j],\n",
       "        [-8.48750863e-02-4.32472076e-01j,  2.90681691e-01-1.22575320e-01j,\n",
       "          1.95868991e-02-1.14979101e-02j, -2.81796723e-01-6.50188842e-01j,\n",
       "          3.37076996e-01-2.76342909e-01j,  2.76427181e-02-2.29404552e-02j,\n",
       "         -1.15404505e-02+9.17733135e-02j, -6.07222320e-02+5.43624171e-03j,\n",
       "         -2.67551525e-03+4.08097898e-03j],\n",
       "        [ 9.97082228e-02+1.38286708e-02j,  1.61554259e-02+2.70180973e-02j,\n",
       "         -2.18704717e-01-4.88407519e-01j,  1.27013632e-02-1.78084484e-03j,\n",
       "         -2.34022975e-03-5.58712404e-02j, -5.46911801e-01-6.23122829e-01j,\n",
       "         -1.20833060e-02-2.94438554e-03j, -9.02084230e-04+1.59483382e-04j,\n",
       "          1.50715020e-02+1.06923437e-01j],\n",
       "        [-4.53667158e-01+8.14516621e-02j,  2.73804523e-01+6.32821157e-01j,\n",
       "         -4.50900535e-02-2.53134639e-02j,  2.55166058e-01-1.00095028e-01j,\n",
       "         -2.99070877e-01-3.72098506e-01j,  3.43241416e-02+9.00934393e-03j,\n",
       "          4.24701581e-02-9.71381811e-03j, -1.71997809e-02-5.38089930e-02j,\n",
       "          8.05430783e-03+1.83304370e-03j],\n",
       "        [ 3.32139520e-01+6.08340811e-01j, -3.22420443e-01+3.09462530e-01j,\n",
       "         -5.18282319e-02+7.40283095e-02j, -3.18284457e-01-3.38717548e-01j,\n",
       "          1.63420056e-01-2.44246494e-01j, -5.08655113e-03+5.23324473e-02j,\n",
       "         -3.90889328e-02-3.32113642e-02j,  6.03408709e-02-7.23882635e-03j,\n",
       "          1.41548921e-02-5.47663530e-03j],\n",
       "        [-5.05405309e-02+1.49292550e-02j, -5.50969501e-03+3.01320027e-02j,\n",
       "          6.04851698e-01+5.63689848e-01j,  3.71068120e-02-2.12339387e-02j,\n",
       "          4.73317323e-04-1.96875916e-02j, -4.93712275e-01-2.35647195e-01j,\n",
       "          6.88627354e-02+1.98932812e-02j, -3.51205589e-03+4.11798915e-02j,\n",
       "         -4.44174648e-02-4.87322586e-02j],\n",
       "        [-5.28916478e-02-1.64924020e-02j,  5.80937611e-02+9.51212019e-02j,\n",
       "         -3.44609057e-03-3.22489051e-03j, -2.64332929e-02+4.01295005e-02j,\n",
       "          2.69912285e-02+2.76404873e-02j, -2.15161374e-03+1.36237030e-03j,\n",
       "         -5.31077027e-01-3.58832756e-04j,  1.65381032e-01+8.16956183e-01j,\n",
       "         -4.71125135e-02-4.05673968e-02j],\n",
       "        [ 4.79212694e-02+9.24779942e-02j, -4.17724146e-02+4.18023865e-02j,\n",
       "          4.93553769e-03-6.23905290e-02j,  3.85690454e-02+2.36629449e-02j,\n",
       "         -1.25906390e-02+2.89046203e-02j,  6.18558721e-03+4.64473389e-02j,\n",
       "          2.47296575e-01+7.93811235e-01j, -4.65773034e-01+2.56875233e-01j,\n",
       "         -3.86274134e-02+2.81087535e-02j],\n",
       "        [-6.39663076e-03-1.25851154e-03j,  2.18165006e-03+2.50859633e-03j,\n",
       "          8.22208887e-02+8.32907104e-02j, -2.59543350e-03+6.68152506e-03j,\n",
       "         -4.75379879e-03+7.37977779e-03j,  5.15515688e-02+1.57213539e-02j,\n",
       "         -6.68085615e-02+2.55055960e-03j, -1.64437845e-02+3.14932102e-02j,\n",
       "          5.37398065e-01+8.29857727e-01j]])>,\n",
       " 'Y90m:Y90p': <tf.Tensor: shape=(9, 9), dtype=complex128, numpy=\n",
       " array([[ 2.87485567e-01+6.38416801e-02j, -4.54104674e-01+3.00171792e-02j,\n",
       "         -2.03822903e-02-2.34193907e-02j,  4.46919565e-01-2.46097271e-02j,\n",
       "         -6.68552384e-01+2.06516878e-01j, -4.31249201e-02-2.99665263e-02j,\n",
       "         -5.44567938e-02-2.93236992e-02j,  8.94053732e-02+2.55112696e-02j,\n",
       "          2.74487842e-03+3.34090931e-03j],\n",
       "        [ 4.40035442e-01-6.07544394e-02j,  2.70723103e-01-1.53898523e-01j,\n",
       "         -9.56060040e-03-2.68130169e-02j,  6.40122664e-01-2.95976723e-01j,\n",
       "          3.56092770e-01-2.58861304e-01j, -2.68769672e-02-2.46179138e-02j,\n",
       "         -9.26094918e-02-1.31606710e-02j, -5.91935556e-02+7.76951892e-03j,\n",
       "          2.33713185e-03+8.55915843e-03j],\n",
       "        [-4.58840490e-02+5.93427032e-02j,  1.89717629e-02+5.38520034e-02j,\n",
       "         -2.17607161e-01-4.91000522e-01j, -6.20697079e-02-3.67197607e-02j,\n",
       "          1.64210400e-02-1.67457013e-02j, -5.47815737e-01-6.20476263e-01j,\n",
       "          7.60360385e-03-3.47234588e-04j, -3.20233693e-03-7.30939698e-03j,\n",
       "          1.46925519e-02+1.07221074e-01j],\n",
       "        [-4.54220263e-01+5.71475099e-02j,  6.27802211e-01-2.88732181e-01j,\n",
       "          4.49219250e-02+2.70375041e-02j,  2.45521402e-01-1.38061778e-01j,\n",
       "         -3.83674559e-01+2.77817691e-01j, -3.44656935e-02-8.34190303e-03j,\n",
       "          4.13317898e-02-1.17368802e-03j, -5.39426798e-02+2.22486339e-02j,\n",
       "         -4.06300588e-03-6.93120562e-03j],\n",
       "        [-6.08093630e-01+3.39525530e-01j, -3.24002290e-01+3.03750657e-01j,\n",
       "          5.61625723e-03+7.21272369e-02j,  3.38610478e-01-3.11736370e-01j,\n",
       "          1.63600808e-01-2.48490488e-01j, -3.91886714e-02+6.50985939e-02j,\n",
       "          3.83132580e-02-8.24901052e-03j,  4.25987949e-02-5.22775157e-02j,\n",
       "          1.46756187e-02-6.83501321e-03j],\n",
       "        [ 5.72214008e-02-7.97501095e-03j, -2.58111726e-02-2.87397167e-03j,\n",
       "          6.05538102e-01+5.63096088e-01j, -3.28545602e-02+2.11966475e-02j,\n",
       "          2.18905338e-02-2.64447776e-03j, -4.91960369e-01-2.37814484e-01j,\n",
       "         -2.57236077e-02+6.66768116e-02j, -3.46963881e-03+4.51375258e-02j,\n",
       "         -4.21071287e-02-5.20233742e-02j],\n",
       "        [-3.89859607e-02+2.18127037e-02j,  1.10026929e-01-3.68452025e-02j,\n",
       "          7.90729569e-03+2.62023265e-03j, -4.17656288e-02+1.73058111e-02j,\n",
       "          1.47153879e-02-3.75798550e-02j,  4.91033882e-03-7.80176565e-06j,\n",
       "         -5.32331862e-01-1.66218263e-03j,  8.15975020e-01-1.66453702e-01j,\n",
       "          4.64576121e-02+4.13965008e-02j],\n",
       "        [-9.15909718e-02+4.29247626e-02j, -4.44996727e-02+4.22368304e-02j,\n",
       "          1.32441741e-02-6.37163349e-02j, -2.36402498e-02+4.21952399e-02j,\n",
       "         -1.12896594e-02+2.82213050e-02j,  9.89177434e-03+4.62511618e-02j,\n",
       "         -7.93391663e-01+2.47986020e-01j, -4.66651702e-01+2.55451886e-01j,\n",
       "          2.42894613e-02+4.11185146e-02j],\n",
       "        [ 1.11666384e-02-5.30953867e-05j, -5.84363904e-04-2.41781569e-03j,\n",
       "          8.19703032e-02+8.38466877e-02j, -1.12735910e-03-2.32541899e-03j,\n",
       "         -7.13569289e-03+5.97347864e-03j,  5.21846583e-02+1.49250599e-02j,\n",
       "          6.83048088e-02-4.99033021e-04j, -3.14519644e-02-1.39255103e-02j,\n",
       "          5.37528806e-01+8.29621152e-01j]])>,\n",
       " 'Y90m:X90m': <tf.Tensor: shape=(9, 9), dtype=complex128, numpy=\n",
       " array([[ 2.85388572e-01+0.06478355j,  3.08928105e-02+0.45480126j,\n",
       "          2.28518913e-02+0.02475438j,  4.47312838e-01-0.02416114j,\n",
       "          2.06687604e-01+0.66839012j,  4.44401830e-02+0.02944488j,\n",
       "         -5.41759460e-02-0.02938882j,  2.51764991e-02-0.08907527j,\n",
       "         -5.64338241e-03-0.00666753j],\n",
       "        [ 6.80041434e-02+0.4647629j ,  2.37958488e-01-0.13316927j,\n",
       "         -2.57588873e-02+0.00713239j,  2.86219635e-01+0.62671988j,\n",
       "          3.72849221e-01-0.27747289j, -2.65414205e-02+0.02446355j,\n",
       "          1.28749445e-02-0.09458689j, -5.55180426e-02+0.00614302j,\n",
       "          6.77713968e-03+0.00310723j],\n",
       "        [-2.81764120e-02-0.00517164j, -7.55140299e-03+0.05775382j,\n",
       "         -2.21921735e-01-0.49331737j,  9.89926685e-02-0.01196011j,\n",
       "         -2.18145655e-02+0.00313749j, -5.45054347e-01-0.61940481j,\n",
       "         -2.19465458e-03-0.00141773j,  8.10576935e-04-0.00623945j,\n",
       "          1.52405110e-02+0.10826369j],\n",
       "        [-4.29290742e-01+0.0561997j , -2.94193411e-01-0.64304347j,\n",
       "         -4.36065404e-02-0.02689771j,  2.82794905e-01-0.14733865j,\n",
       "          2.66107717e-01+0.36167204j,  3.53871448e-02+0.008884j  ,\n",
       "          3.33319914e-02-0.00220729j,  2.23424182e-02+0.06012565j,\n",
       "         -6.23602066e-04+0.00282489j],\n",
       "        [-3.36582967e-01-0.6098847j , -3.25054410e-01+0.30876344j,\n",
       "          2.02908085e-03+0.01712668j,  3.13586638e-01+0.33203097j,\n",
       "          1.66694286e-01-0.24560053j, -2.56028288e-02+0.09804826j,\n",
       "          1.26130652e-02+0.06999904j, -2.50680239e-03-0.03666277j,\n",
       "          9.56422161e-03-0.00146944j],\n",
       "        [-6.25680176e-02+0.0137913j ,  6.19109753e-03-0.02366578j,\n",
       "          6.05042582e-01+0.5636817j ,  3.17181822e-02-0.01601808j,\n",
       "          5.52954366e-03+0.01872603j, -4.91736923e-01-0.23809548j,\n",
       "         -6.09988134e-02-0.02350866j, -7.34258466e-03+0.04537023j,\n",
       "         -4.45429051e-02-0.05452019j],\n",
       "        [-7.71612211e-02+0.0356801j , -2.25139469e-02-0.08890352j,\n",
       "         -6.86390860e-03-0.00406841j, -1.98329085e-02+0.00227224j,\n",
       "         -4.95199567e-02-0.02645832j, -1.65905122e-04+0.00092859j,\n",
       "         -5.28666884e-01-0.00348717j, -1.67884146e-01-0.8180911j ,\n",
       "         -4.51994142e-02-0.04176642j],\n",
       "        [-4.16719766e-02-0.08384808j, -4.99616042e-02+0.04300832j,\n",
       "          1.16388573e-02-0.0714772j , -4.43285869e-02-0.02800069j,\n",
       "         -6.87453812e-03+0.02622174j,  9.58891018e-03+0.04217121j,\n",
       "         -2.47968641e-01-0.79435353j, -4.65380092e-01+0.25607758j,\n",
       "          3.50809225e-02-0.02039794j],\n",
       "        [-9.48223003e-03+0.00462754j,  4.27373949e-03-0.00523863j,\n",
       "          8.10103384e-02+0.08325623j, -3.19966876e-03-0.00146371j,\n",
       "         -5.80111831e-03+0.00356546j,  5.37838181e-02+0.01574122j,\n",
       "         -6.81526781e-02+0.00119688j,  1.34364787e-02-0.03001094j,\n",
       "          5.37543982e-01+0.82972615j]])>,\n",
       " 'Y90m:Y90m': <tf.Tensor: shape=(9, 9), dtype=complex128, numpy=\n",
       " array([[ 0.28538292+6.17588911e-02j,  0.45492501-3.04804997e-02j,\n",
       "         -0.02157453-2.70188018e-02j,  0.44803369-2.42095022e-02j,\n",
       "          0.66788923-2.06829309e-01j, -0.04484373-3.05674749e-02j,\n",
       "         -0.05423753-2.93611393e-02j, -0.08938126-2.55536474e-02j,\n",
       "          0.00243396+9.45442553e-03j],\n",
       "        [-0.4566601 +9.26971531e-02j,  0.25886807-1.01126579e-01j,\n",
       "          0.01093052+1.92167849e-02j, -0.63579121+2.72635671e-01j,\n",
       "          0.35556438-2.94161218e-01j,  0.02356346+2.97309153e-02j,\n",
       "          0.09367188+1.10754354e-02j, -0.05720131+3.54980785e-03j,\n",
       "          0.00104264-1.13222779e-03j],\n",
       "        [-0.02694606-6.84884177e-02j, -0.01041875+3.10439273e-02j,\n",
       "         -0.22302529-4.90681317e-01j, -0.05183674+4.95481728e-02j,\n",
       "         -0.04047321-3.60101907e-02j, -0.54417831-6.21943006e-01j,\n",
       "          0.0060742 +9.57761023e-03j,  0.00317466+1.26311977e-03j,\n",
       "          0.01604647+1.07627907e-01j],\n",
       "        [-0.42930138+8.22047488e-02j, -0.64799699+2.78153702e-01j,\n",
       "          0.04333096+2.54546547e-02j,  0.29251425-1.10553661e-01j,\n",
       "          0.35023704-2.86649319e-01j, -0.03484748-9.56451034e-03j,\n",
       "          0.03455094-1.08940045e-02j,  0.05998478-1.72659570e-02j,\n",
       "         -0.00307942+1.73624770e-03j],\n",
       "        [ 0.60908278-3.29690501e-01j, -0.32519094+3.13905025e-01j,\n",
       "         -0.05452464+1.86039457e-02j, -0.3313465 +3.20278083e-01j,\n",
       "          0.1676741 -2.41222643e-01j,  0.00846199+8.49229741e-02j,\n",
       "         -0.06482644+4.34410826e-02j,  0.01537834+8.44603141e-03j,\n",
       "          0.01897708-2.24526985e-03j],\n",
       "        [ 0.05850492-1.98332995e-02j,  0.02653579+9.39090429e-03j,\n",
       "          0.60436078+5.64101217e-01j, -0.03783422+1.59933711e-02j,\n",
       "         -0.01574877+1.76778669e-03j, -0.49345401-2.35814468e-01j,\n",
       "          0.01761021-6.31366194e-02j, -0.00745405+4.13942507e-02j,\n",
       "         -0.04684691-5.12207297e-02j],\n",
       "        [-0.09088716-2.53288440e-03j, -0.07380323+4.35804962e-02j,\n",
       "          0.00711473+6.14608049e-03j, -0.00411966+2.49144391e-02j,\n",
       "         -0.03923469+3.86849828e-02j,  0.00445801-2.04243265e-03j,\n",
       "         -0.5284352 -3.54178048e-04j, -0.81876419+1.65456058e-01j,\n",
       "          0.04525533+3.94692890e-02j],\n",
       "        [ 0.08458141-4.67555384e-02j, -0.04748872+4.24865466e-02j,\n",
       "          0.00384096-7.04215337e-02j,  0.02793673-4.07086048e-02j,\n",
       "         -0.00829766+2.69273828e-02j,  0.00557959+4.26875549e-02j,\n",
       "          0.793624  -2.48056563e-01j, -0.46641512+2.56398502e-01j,\n",
       "         -0.02775954-3.33827279e-02j],\n",
       "        [ 0.00509399-3.21766277e-03j,  0.00697086-3.40027822e-04j,\n",
       "          0.08125181+8.26773148e-02j,  0.00710319-2.94320735e-03j,\n",
       "         -0.00340657+4.94660362e-03j,  0.05315128+1.65279396e-02j,\n",
       "          0.06966446-1.83347903e-03j,  0.02852   +1.54927640e-02j,\n",
       "          0.53742052+8.29777327e-01j]])>}"
      ]
     },
     "execution_count": 28,
     "metadata": {},
     "output_type": "execute_result"
    }
   ],
   "source": [
    "exp.unitaries"
   ]
  },
  {
   "cell_type": "markdown",
   "metadata": {},
   "source": [
    "To investigate dynamics, we define an initial state with finite temperature we set earlier."
   ]
  },
  {
   "cell_type": "code",
   "execution_count": 29,
   "metadata": {},
   "outputs": [],
   "source": [
    "psi_init = [[0] * 9]\n",
    "psi_init[0][0] = 1\n",
    "init_state = tf.transpose(tf.constant(psi_init, tf.complex128))"
   ]
  },
  {
   "cell_type": "code",
   "execution_count": 30,
   "metadata": {},
   "outputs": [
    {
     "data": {
      "text/plain": [
       "<tf.Tensor: shape=(9, 1), dtype=complex128, numpy=\n",
       "array([[1.+0.j],\n",
       "       [0.+0.j],\n",
       "       [0.+0.j],\n",
       "       [0.+0.j],\n",
       "       [0.+0.j],\n",
       "       [0.+0.j],\n",
       "       [0.+0.j],\n",
       "       [0.+0.j],\n",
       "       [0.+0.j]])>"
      ]
     },
     "execution_count": 30,
     "metadata": {},
     "output_type": "execute_result"
    }
   ],
   "source": [
    "init_state"
   ]
  },
  {
   "cell_type": "markdown",
   "metadata": {},
   "source": [
    "Since we stored the process matrices, we can now relatively inexpesively evaluate sequences. We start with just one gate"
   ]
  },
  {
   "cell_type": "code",
   "execution_count": 31,
   "metadata": {},
   "outputs": [],
   "source": [
    "barely_a_seq = ['X90p:Id']"
   ]
  },
  {
   "cell_type": "markdown",
   "metadata": {},
   "source": [
    "and plot system dynamics. The \"debug\" options shows the plot in this notebook. Otherwise the plot is stored as a file in a given directory."
   ]
  },
  {
   "cell_type": "code",
   "execution_count": 32,
   "metadata": {},
   "outputs": [
    {
     "data": {
      "image/png": "[encoded data removed]",
      "text/plain": [
       "<Figure size 432x288 with 1 Axes>"
      ]
     },
     "metadata": {
      "needs_background": "light"
     },
     "output_type": "display_data"
    }
   ],
   "source": [
    "exp.plot_dynamics(init_state, barely_a_seq, debug=True)"
   ]
  },
  {
   "cell_type": "markdown",
   "metadata": {},
   "source": [
    "We can see a bad, un-optimized gate. The labels indicate qubit states in the product basis. Next we increase the number of repetitions of the same gate."
   ]
  },
  {
   "cell_type": "code",
   "execution_count": 33,
   "metadata": {},
   "outputs": [
    {
     "data": {
      "text/plain": [
       "['X90p:Id',\n",
       " 'X90p:Id',\n",
       " 'X90p:Id',\n",
       " 'X90p:Id',\n",
       " 'X90p:Id',\n",
       " 'X90p:Id',\n",
       " 'X90p:Id',\n",
       " 'X90p:Id',\n",
       " 'X90p:Id',\n",
       " 'X90p:Id']"
      ]
     },
     "execution_count": 33,
     "metadata": {},
     "output_type": "execute_result"
    }
   ],
   "source": [
    "barely_a_seq * 10"
   ]
  },
  {
   "cell_type": "code",
   "execution_count": 34,
   "metadata": {},
   "outputs": [
    {
     "data": {
      "image/png": "[encoded data removed]",
      "text/plain": [
       "<Figure size 432x288 with 1 Axes>"
      ]
     },
     "metadata": {
      "needs_background": "light"
     },
     "output_type": "display_data"
    }
   ],
   "source": [
    "exp.plot_dynamics(init_state, barely_a_seq * 5, debug=True)"
   ]
  },
  {
   "cell_type": "code",
   "execution_count": 35,
   "metadata": {},
   "outputs": [
    {
     "data": {
      "image/png": "[encoded data removed]",
      "text/plain": [
       "<Figure size 432x288 with 1 Axes>"
      ]
     },
     "metadata": {
      "needs_background": "light"
     },
     "output_type": "display_data"
    }
   ],
   "source": [
    "exp.plot_dynamics(init_state, barely_a_seq * 10, debug=True)"
   ]
  },
  {
   "cell_type": "markdown",
   "metadata": {},
   "source": [
    "Note that at this point, we only multiply already computed matrices. We don't need to solve the equations of motion again for new sequences."
   ]
  },
  {
   "cell_type": "markdown",
   "metadata": {},
   "source": [
    "#### Open-loop optimal control\n",
    "\n",
    "In order to improve the gate, we create the optimizer object for open-loop optimal control. We notice some leakage into the $|2,0>$ state and enable a DRAG option. Details on DRAG can be found here: https://arxiv.org/abs/1809.04919 The main principle is adding a phase-shifted component proportional to the derivative of the original signal. With automatic differentiation, our AWG can perform this operation automatically for arbitrary shapes."
   ]
  },
  {
   "cell_type": "code",
   "execution_count": 36,
   "metadata": {},
   "outputs": [],
   "source": [
    "generator.devices['awg'].enable_drag_2()"
   ]
  },
  {
   "cell_type": "markdown",
   "metadata": {},
   "source": [
    "At the moment there are two implementations of DRAG, variant 2 is independent of the AWG resolution."
   ]
  },
  {
   "cell_type": "markdown",
   "metadata": {},
   "source": [
    "To define which parameters we optimize, we write the gateset_opt_map, a nested list of tuples that identifies each parameter."
   ]
  },
  {
   "cell_type": "code",
   "execution_count": 37,
   "metadata": {},
   "outputs": [],
   "source": [
    "opt_gates = [\"X90p:Id\"]\n",
    "gateset_opt_map=[\n",
    "    [\n",
    "      (\"X90p:Id\", \"d1\", \"gauss\", \"amp\"),\n",
    "    ],\n",
    "    [\n",
    "      (\"X90p:Id\", \"d1\", \"gauss\", \"freq_offset\"),\n",
    "    ],\n",
    "    [\n",
    "      (\"X90p:Id\", \"d1\", \"gauss\", \"xy_angle\"),\n",
    "    ],\n",
    "    [\n",
    "      (\"X90p:Id\", \"d1\", \"gauss\", \"delta\"),\n",
    "    ]\n",
    "]\n",
    "parameter_map.set_opt_map(gateset_opt_map)"
   ]
  },
  {
   "cell_type": "markdown",
   "metadata": {},
   "source": [
    "We can look at the parameters this opt_map specified with"
   ]
  },
  {
   "cell_type": "code",
   "execution_count": 38,
   "metadata": {},
   "outputs": [
    {
     "name": "stdout",
     "output_type": "stream",
     "text": [
      "X90p:Id-d1-gauss-amp                  : 500.000 mV \n",
      "X90p:Id-d1-gauss-freq_offset          : -53.000 MHz 2pi \n",
      "X90p:Id-d1-gauss-xy_angle             : -444.089 arad \n",
      "X90p:Id-d1-gauss-delta                : -1.000  \n",
      "\n"
     ]
    }
   ],
   "source": [
    "parameter_map.print_parameters()"
   ]
  },
  {
   "cell_type": "code",
   "execution_count": 39,
   "metadata": {},
   "outputs": [],
   "source": [
    "from c3.optimizers.c1 import C1"
   ]
  },
  {
   "cell_type": "markdown",
   "metadata": {},
   "source": [
    "The C1 object will handle the optimization for us. As a fidelity function we choose average fidelity as well as LBFG-S (a wrapper of the scipy implementation) from our library. See those libraries for how these functions are defined and how to supply your own, if necessary."
   ]
  },
  {
   "cell_type": "code",
   "execution_count": 40,
   "metadata": {},
   "outputs": [],
   "source": [
    "opt = C1(\n",
    "    dir_path=\"/tmp/c3log/\",\n",
    "    fid_func=fidelities.average_infid_set,\n",
    "    fid_subspace=[\"Q1\", \"Q2\"],\n",
    "    pmap=parameter_map,\n",
    "    algorithm=algorithms.lbfgs,\n",
    "    options={\"maxfun\" : 10},\n",
    "    run_name=\"better_X90\"\n",
    ")"
   ]
  },
  {
   "cell_type": "markdown",
   "metadata": {},
   "source": [
    "Finally we supply our defined experiment."
   ]
  },
  {
   "cell_type": "code",
   "execution_count": 41,
   "metadata": {},
   "outputs": [],
   "source": [
    "exp.set_opt_gates(opt_gates)\n",
    "opt.set_exp(exp)"
   ]
  },
  {
   "cell_type": "markdown",
   "metadata": {},
   "source": [
    "Everything is in place to start the optimization."
   ]
  },
  {
   "cell_type": "code",
   "execution_count": 42,
   "metadata": {},
   "outputs": [
    {
     "data": {
      "text/plain": [
       "<Figure size 432x288 with 0 Axes>"
      ]
     },
     "metadata": {},
     "output_type": "display_data"
    },
    {
     "data": {
      "image/png": "[encoded data removed]",
      "text/plain": [
       "<Figure size 432x864 with 4 Axes>"
      ]
     },
     "metadata": {
      "needs_background": "light"
     },
     "output_type": "display_data"
    },
    {
     "data": {
      "text/plain": [
       "<Figure size 432x288 with 0 Axes>"
      ]
     },
     "metadata": {},
     "output_type": "display_data"
    },
    {
     "data": {
      "image/png": "[encoded data removed]",
      "text/plain": [
       "<Figure size 432x288 with 1 Axes>"
      ]
     },
     "metadata": {
      "needs_background": "light"
     },
     "output_type": "display_data"
    },
    {
     "data": {
      "text/plain": [
       "<Figure size 432x288 with 0 Axes>"
      ]
     },
     "metadata": {},
     "output_type": "display_data"
    }
   ],
   "source": [
    "opt.optimize_controls()"
   ]
  },
  {
   "cell_type": "markdown",
   "metadata": {},
   "source": [
    "After a few steps we have improved the gate significantly, as we can check with"
   ]
  },
  {
   "cell_type": "code",
   "execution_count": 43,
   "metadata": {},
   "outputs": [
    {
     "data": {
      "text/plain": [
       "0.01154"
      ]
     },
     "execution_count": 43,
     "metadata": {},
     "output_type": "execute_result"
    }
   ],
   "source": [
    "opt.current_best_goal"
   ]
  },
  {
   "cell_type": "markdown",
   "metadata": {},
   "source": [
    "And by looking at the same sequences as before."
   ]
  },
  {
   "cell_type": "code",
   "execution_count": 44,
   "metadata": {},
   "outputs": [
    {
     "data": {
      "image/png": "[encoded data removed]",
      "text/plain": [
       "<Figure size 432x288 with 1 Axes>"
      ]
     },
     "metadata": {
      "needs_background": "light"
     },
     "output_type": "display_data"
    }
   ],
   "source": [
    "exp.plot_dynamics(init_state, barely_a_seq, debug=True)"
   ]
  },
  {
   "cell_type": "code",
   "execution_count": 45,
   "metadata": {},
   "outputs": [
    {
     "data": {
      "image/png": "[encoded data removed]",
      "text/plain": [
       "<Figure size 432x288 with 1 Axes>"
      ]
     },
     "metadata": {
      "needs_background": "light"
     },
     "output_type": "display_data"
    }
   ],
   "source": [
    "exp.plot_dynamics(init_state, barely_a_seq * 5, debug=True)"
   ]
  }
 ],
 "metadata": {
  "kernelspec": {
   "display_name": "Python 3",
   "language": "python",
   "name": "python3"
  },
  "language_info": {
   "codemirror_mode": {
    "name": "ipython",
    "version": 3
   },
   "file_extension": ".py",
   "mimetype": "text/x-python",
   "name": "python",
   "nbconvert_exporter": "python",
   "pygments_lexer": "ipython3",
   "version": "3.8.6"
  }
 },
 "nbformat": 4,
 "nbformat_minor": 4
}
