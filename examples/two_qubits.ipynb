{
 "cells": [
  {
   "cell_type": "markdown",
   "metadata": {},
   "source": [
    "### Setup of a two-qubit chip with $C^3$\n",
    "\n",
    "In this example we will set-up a two qubit quantum processor and define a simple gate."
   ]
  },
  {
   "cell_type": "markdown",
   "metadata": {},
   "source": [
    "#### Imports"
   ]
  },
  {
   "cell_type": "code",
   "execution_count": 1,
   "metadata": {
    "ExecuteTime": {
     "end_time": "2020-06-10T13:45:05.684014Z",
     "start_time": "2020-06-10T13:45:04.441825Z"
    }
   },
   "outputs": [],
   "source": [
    "# System imports\n",
    "import copy\n",
    "import numpy as np\n",
    "import time\n",
    "import itertools\n",
    "import matplotlib.pyplot as plt\n",
    "import tensorflow as tf\n",
    "import tensorflow_probability as tfp\n",
    "\n",
    "# Main C3 objects\n",
    "from c3.c3objs import Quantity as Qty\n",
    "from c3.parametermap import ParameterMap as PMap\n",
    "from c3.experiment import Experiment as Exp\n",
    "from c3.system.model import Model as Mdl\n",
    "from c3.generator.generator import Generator as Gnr\n",
    "\n",
    "# Building blocks\n",
    "import c3.generator.devices as devices\n",
    "import c3.signal.gates as gates\n",
    "import c3.system.chip as chip\n",
    "import c3.signal.pulse as pulse\n",
    "import c3.system.tasks as tasks\n",
    "\n",
    "# Libs and helpers\n",
    "import c3.libraries.algorithms as algorithms\n",
    "import c3.libraries.hamiltonians as hamiltonians\n",
    "import c3.libraries.fidelities as fidelities\n",
    "import c3.libraries.envelopes as envelopes\n",
    "import c3.utils.qt_utils as qt_utils\n",
    "import c3.utils.tf_utils as tf_utils"
   ]
  },
  {
   "cell_type": "markdown",
   "metadata": {},
   "source": [
    "#### Model components\n",
    "We first create a qubit. Each parameter is a Quantity (Qty()) object with bounds and a unit. In $C^3$, the default multi-level qubit is a Transmon modelled as a Duffing oscillator with frequency $\\omega$ and anharmonicity $\\delta$ :\n",
    "$$ H/\\hbar = \\omega b^\\dagger b - \\frac{\\delta}{2}                        \\left(b^\\dagger b - 1\\right) b^\\dagger b \n",
    "$$\n",
    "The \"name\" will be used to identify this qubit (or other component) later and should thus be chosen carefully."
   ]
  },
  {
   "cell_type": "code",
   "execution_count": 2,
   "metadata": {
    "ExecuteTime": {
     "end_time": "2020-06-10T13:45:05.684014Z",
     "start_time": "2020-06-10T13:45:04.441825Z"
    }
   },
   "outputs": [],
   "source": [
    "qubit_lvls = 3\n",
    "freq_q1 = 5e9\n",
    "anhar_q1 = -210e6\n",
    "t1_q1 = 27e-6\n",
    "t2star_q1 = 39e-6\n",
    "qubit_temp = 50e-3\n",
    "\n",
    "q1 = chip.Qubit(\n",
    "    name=\"Q1\",\n",
    "    desc=\"Qubit 1\",\n",
    "    freq=Qty(\n",
    "        value=freq_q1,\n",
    "        min_val=4.995e9 ,\n",
    "        max_val=5.005e9 ,\n",
    "        unit='Hz 2pi'\n",
    "    ),\n",
    "    anhar=Qty(\n",
    "        value=anhar_q1,\n",
    "        min_val=-380e6 ,\n",
    "        max_val=-120e6 ,\n",
    "        unit='Hz 2pi'\n",
    "    ),\n",
    "    hilbert_dim=qubit_lvls,\n",
    "    t1=Qty(\n",
    "        value=t1_q1,\n",
    "        min_val=1e-6,\n",
    "        max_val=90e-6,\n",
    "        unit='s'\n",
    "    ),\n",
    "    t2star=Qty(\n",
    "        value=t2star_q1,\n",
    "        min_val=10e-6,\n",
    "        max_val=90e-3,\n",
    "        unit='s'\n",
    "    ),\n",
    "    temp=Qty(\n",
    "        value=qubit_temp,\n",
    "        min_val=0.0,\n",
    "        max_val=0.12,\n",
    "        unit='K'\n",
    "    )\n",
    ")"
   ]
  },
  {
   "cell_type": "markdown",
   "metadata": {},
   "source": [
    "And the same for a second qubit."
   ]
  },
  {
   "cell_type": "code",
   "execution_count": 3,
   "metadata": {
    "ExecuteTime": {
     "end_time": "2020-06-10T13:45:05.684014Z",
     "start_time": "2020-06-10T13:45:04.441825Z"
    }
   },
   "outputs": [],
   "source": [
    "freq_q2 = 5.6e9\n",
    "anhar_q2 = -240e6\n",
    "t1_q2 = 23e-6\n",
    "t2star_q2 = 31e-6\n",
    "q2 = chip.Qubit(\n",
    "    name=\"Q2\",\n",
    "    desc=\"Qubit 2\",\n",
    "    freq=Qty(\n",
    "        value=freq_q2,\n",
    "        min_val=5.595e9 ,\n",
    "        max_val=5.605e9 ,\n",
    "        unit='Hz 2pi'\n",
    "    ),\n",
    "    anhar=Qty(\n",
    "        value=anhar_q2,\n",
    "        min_val=-380e6 ,\n",
    "        max_val=-120e6 ,\n",
    "        unit='Hz 2pi'\n",
    "    ),\n",
    "    hilbert_dim=qubit_lvls,\n",
    "    t1=Qty(\n",
    "        value=t1_q2,\n",
    "        min_val=1e-6,\n",
    "        max_val=90e-6,\n",
    "        unit='s'\n",
    "    ),\n",
    "    t2star=Qty(\n",
    "        value=t2star_q2,\n",
    "        min_val=10e-6,\n",
    "        max_val=90e-6,\n",
    "        unit='s'\n",
    "    ),\n",
    "    temp=Qty(\n",
    "        value=qubit_temp,\n",
    "        min_val=0.0,\n",
    "        max_val=0.12,\n",
    "        unit='K'\n",
    "    )\n",
    ")"
   ]
  },
  {
   "cell_type": "markdown",
   "metadata": {},
   "source": [
    "A static coupling between the two is realized in the following way. We supply the type of coupling by selecting int_XX $(b_1+b_1^\\dagger)(b_2+b_2^\\dagger)$ from the hamiltonian library. The \"connected\" property contains the list of qubit names to be coupled, in this case \"Q1\" and \"Q2\"."
   ]
  },
  {
   "cell_type": "code",
   "execution_count": 4,
   "metadata": {
    "ExecuteTime": {
     "end_time": "2020-06-10T13:45:05.684014Z",
     "start_time": "2020-06-10T13:45:04.441825Z"
    }
   },
   "outputs": [],
   "source": [
    "coupling_strength = 20e6\n",
    "q1q2 = chip.Coupling(\n",
    "    name=\"Q1-Q2\",\n",
    "    desc=\"coupling\",\n",
    "    comment=\"Coupling qubit 1 to qubit 2\",\n",
    "    connected=[\"Q1\", \"Q2\"],\n",
    "    strength=Qty(\n",
    "        value=coupling_strength,\n",
    "        min_val=-1 * 1e3 ,\n",
    "        max_val=200e6 ,\n",
    "        unit='Hz 2pi'\n",
    "    ),\n",
    "    hamiltonian_func=hamiltonians.int_XX\n",
    ")"
   ]
  },
  {
   "cell_type": "markdown",
   "metadata": {},
   "source": [
    "In the same spirit, we specify control Hamiltonians to drive the system. Again \"connected\" connected tells us which qubit this drive acts on and \"name\" will later be used to assign the correct control signal to this drive line."
   ]
  },
  {
   "cell_type": "code",
   "execution_count": 5,
   "metadata": {
    "ExecuteTime": {
     "end_time": "2020-06-10T13:45:05.684014Z",
     "start_time": "2020-06-10T13:45:04.441825Z"
    }
   },
   "outputs": [],
   "source": [
    "drive = chip.Drive(\n",
    "    name=\"d1\",\n",
    "    desc=\"Drive 1\",\n",
    "    comment=\"Drive line 1 on qubit 1\",\n",
    "    connected=[\"Q1\"],\n",
    "    hamiltonian_func=hamiltonians.x_drive\n",
    ")\n",
    "drive2 = chip.Drive(\n",
    "    name=\"d2\",\n",
    "    desc=\"Drive 2\",\n",
    "    comment=\"Drive line 2 on qubit 2\",\n",
    "    connected=[\"Q2\"],\n",
    "    hamiltonian_func=hamiltonians.x_drive\n",
    ")"
   ]
  },
  {
   "cell_type": "markdown",
   "metadata": {},
   "source": [
    "#### SPAM errors\n",
    "In experimental practice, the qubit state can be mis-classified during read-out. We simulate this by constructing a _confusion matrix_, containing the probabilities for one qubit state being mistaken for another."
   ]
  },
  {
   "cell_type": "code",
   "execution_count": 6,
   "metadata": {
    "ExecuteTime": {
     "end_time": "2020-06-10T13:45:05.684014Z",
     "start_time": "2020-06-10T13:45:04.441825Z"
    }
   },
   "outputs": [],
   "source": [
    "m00_q1 = 0.97  # Prop to read qubit 1 state 0 as 0\n",
    "m01_q1 = 0.04  # Prop to read qubit 1 state 0 as 1\n",
    "m00_q2 = 0.96  # Prop to read qubit 2 state 0 as 0\n",
    "m01_q2 = 0.05  # Prop to read qubit 2 state 0 as 1\n",
    "one_zeros = np.array([0] * qubit_lvls)\n",
    "zero_ones = np.array([1] * qubit_lvls)\n",
    "one_zeros[0] = 1\n",
    "zero_ones[0] = 0\n",
    "val1 = one_zeros * m00_q1 + zero_ones * m01_q1\n",
    "val2 = one_zeros * m00_q2 + zero_ones * m01_q2\n",
    "min_val = one_zeros * 0.8 + zero_ones * 0.0\n",
    "max_val = one_zeros * 1.0 + zero_ones * 0.2\n",
    "confusion_row1 = Qty(value=val1, min_val=min_val, max_val=max_val, unit=\"\")\n",
    "confusion_row2 = Qty(value=val2, min_val=min_val, max_val=max_val, unit=\"\")\n",
    "conf_matrix = tasks.ConfusionMatrix(Q1=confusion_row1, Q2=confusion_row2)"
   ]
  },
  {
   "cell_type": "markdown",
   "metadata": {},
   "source": [
    "The following task creates an initial thermal state with given temperature."
   ]
  },
  {
   "cell_type": "code",
   "execution_count": 7,
   "metadata": {
    "ExecuteTime": {
     "end_time": "2020-06-10T13:45:05.684014Z",
     "start_time": "2020-06-10T13:45:04.441825Z"
    }
   },
   "outputs": [],
   "source": [
    "init_temp = 50e-3\n",
    "init_ground = tasks.InitialiseGround(\n",
    "    init_temp=Qty(\n",
    "        value=init_temp,\n",
    "        min_val=-0.001,\n",
    "        max_val=0.22,\n",
    "        unit='K'\n",
    "    )\n",
    ")"
   ]
  },
  {
   "cell_type": "markdown",
   "metadata": {},
   "source": [
    "We collect the parts specified above in the Model."
   ]
  },
  {
   "cell_type": "code",
   "execution_count": 8,
   "metadata": {
    "ExecuteTime": {
     "end_time": "2020-06-10T13:45:05.684014Z",
     "start_time": "2020-06-10T13:45:04.441825Z"
    }
   },
   "outputs": [],
   "source": [
    "model = Mdl(\n",
    "    [q1, q2], # Individual, self-contained components\n",
    "    [drive, drive2, q1q2],  # Interactions between components\n",
    "    [conf_matrix, init_ground] # SPAM processing\n",
    ")"
   ]
  },
  {
   "cell_type": "markdown",
   "metadata": {},
   "source": [
    "Further, we can decide between coherent or open-system dynamics using set_lindbladian() and whether to eliminate the static coupling by going to the dressed frame with set_dressed()."
   ]
  },
  {
   "cell_type": "code",
   "execution_count": 9,
   "metadata": {
    "ExecuteTime": {
     "end_time": "2020-06-10T13:45:05.684014Z",
     "start_time": "2020-06-10T13:45:04.441825Z"
    }
   },
   "outputs": [],
   "source": [
    "model.set_lindbladian(False)\n",
    "model.set_dressed(True)"
   ]
  },
  {
   "cell_type": "markdown",
   "metadata": {},
   "source": [
    "#### Control signals\n",
    "With the system model taken care of, we now specify the control electronics and signal chain. Complex shaped controls are often realized by creating an envelope signal with an arbitrary waveform generator (AWG) with limited bandwith and mixing it with a fast, stable local oscillator (LO)."
   ]
  },
  {
   "cell_type": "code",
   "execution_count": 10,
   "metadata": {
    "ExecuteTime": {
     "end_time": "2020-06-10T13:45:05.684014Z",
     "start_time": "2020-06-10T13:45:04.441825Z"
    }
   },
   "outputs": [],
   "source": [
    "sim_res = 100e9 # Resolution for numerical simulation\n",
    "awg_res = 2e9 # Realistic, limited resolution of an AWG\n",
    "lo = devices.LO(name='lo', resolution=sim_res)\n",
    "awg = devices.AWG(name='awg', resolution=awg_res)\n",
    "mixer = devices.Mixer(name='mixer')"
   ]
  },
  {
   "cell_type": "markdown",
   "metadata": {},
   "source": [
    "Waveform generators exhibit a rise time, the time it takes until the target voltage is set. This has a smoothing effect on the resulting pulse shape."
   ]
  },
  {
   "cell_type": "code",
   "execution_count": 11,
   "metadata": {},
   "outputs": [],
   "source": [
    "resp = devices.Response(\n",
    "    name='resp',\n",
    "    rise_time=Qty(\n",
    "        value=0.3e-9,\n",
    "        min_val=0.05e-9,\n",
    "        max_val=0.6e-9,\n",
    "        unit='s'\n",
    "    ),\n",
    "    resolution=sim_res\n",
    ")"
   ]
  },
  {
   "cell_type": "markdown",
   "metadata": {},
   "source": [
    "In simulation, we translate between AWG resolution and simulation (or \"analog\") resolultion by including an up-sampling device."
   ]
  },
  {
   "cell_type": "code",
   "execution_count": 12,
   "metadata": {},
   "outputs": [],
   "source": [
    "dig_to_an = devices.DigitalToAnalog(\n",
    "    name=\"dac\",\n",
    "    resolution=sim_res\n",
    ")"
   ]
  },
  {
   "cell_type": "markdown",
   "metadata": {},
   "source": [
    "Control electronics apply voltages to lines, whereas in a Hamiltonian we usually write the control fields in energy or frequency units. In practice, this conversion can be highly non-trivial if it involves multiple stages of attenuation and for example the conversion of a line voltage in an antenna to a dipole field coupling to the qubit. The following device represents a simple, linear conversion factor."
   ]
  },
  {
   "cell_type": "code",
   "execution_count": 13,
   "metadata": {
    "ExecuteTime": {
     "end_time": "2020-06-10T13:45:05.684014Z",
     "start_time": "2020-06-10T13:45:04.441825Z"
    }
   },
   "outputs": [],
   "source": [
    "v2hz = 1e9\n",
    "v_to_hz = devices.VoltsToHertz(\n",
    "    name='v_to_hz',\n",
    "    V_to_Hz=Qty(\n",
    "        value=v2hz,\n",
    "        min_val=0.9e9,\n",
    "        max_val=1.1e9,\n",
    "        unit='Hz/V'\n",
    "    )\n",
    ")"
   ]
  },
  {
   "cell_type": "markdown",
   "metadata": {},
   "source": [
    "The generator combines the parts of the signal generation."
   ]
  },
  {
   "cell_type": "code",
   "execution_count": 14,
   "metadata": {
    "ExecuteTime": {
     "end_time": "2020-06-10T13:45:05.684014Z",
     "start_time": "2020-06-10T13:45:04.441825Z"
    }
   },
   "outputs": [],
   "source": [
    "generator = Gnr(\n",
    "        devices={\n",
    "            \"LO\": devices.LO(name='lo', resolution=sim_res, outputs=1),\n",
    "            \"AWG\": devices.AWG(name='awg', resolution=awg_res, outputs=1),\n",
    "            \"DigitalToAnalog\": devices.DigitalToAnalog(\n",
    "                name=\"dac\",\n",
    "                resolution=sim_res,\n",
    "                inputs=1,\n",
    "                outputs=1\n",
    "            ),\n",
    "            \"Response\": devices.Response(\n",
    "                name='resp',\n",
    "                rise_time=Qty(\n",
    "                    value=0.3e-9,\n",
    "                    min_val=0.05e-9,\n",
    "                    max_val=0.6e-9,\n",
    "                    unit='s'\n",
    "                ),\n",
    "                resolution=sim_res,\n",
    "                inputs=1,\n",
    "                outputs=1\n",
    "            ),\n",
    "            \"Mixer\": devices.Mixer(name='mixer', inputs=2, outputs=1),\n",
    "            \"VoltsToHertz\": devices.VoltsToHertz(\n",
    "                name='v_to_hz',\n",
    "                V_to_Hz=Qty(\n",
    "                    value=1e9,\n",
    "                    min_val=0.9e9,\n",
    "                    max_val=1.1e9,\n",
    "                    unit='Hz/V'\n",
    "                ),\n",
    "                inputs=1,\n",
    "                outputs=1\n",
    "            )\n",
    "        },\n",
    "        chain=[\n",
    "            \"LO\", \"AWG\", \"DigitalToAnalog\", \"Response\", \"Mixer\", \"VoltsToHertz\"\n",
    "        ]\n",
    "    )"
   ]
  },
  {
   "cell_type": "markdown",
   "metadata": {},
   "source": [
    "#### Gates-set and Parameter map\n",
    "It remains to write down what kind of operations we want to perform on the device. For a gate based quantum computing chip, we define a gate-set.\n",
    "\n",
    "We choose a gate time and a gaussian envelope shape with a list of parameters."
   ]
  },
  {
   "cell_type": "code",
   "execution_count": 15,
   "metadata": {
    "ExecuteTime": {
     "end_time": "2020-06-10T13:45:05.684014Z",
     "start_time": "2020-06-10T13:45:04.441825Z"
    }
   },
   "outputs": [],
   "source": [
    "t_final = 7e-9   # Time for single qubit gates\n",
    "sideband = 50e6 \n",
    "gauss_params_single = {\n",
    "    'amp': Qty(\n",
    "        value=0.5,\n",
    "        min_val=0.4,\n",
    "        max_val=0.6,\n",
    "        unit=\"V\"\n",
    "    ),\n",
    "    't_final': Qty(\n",
    "        value=t_final,\n",
    "        min_val=0.5 * t_final,\n",
    "        max_val=1.5 * t_final,\n",
    "        unit=\"s\"\n",
    "    ),\n",
    "    'sigma': Qty(\n",
    "        value=t_final / 4,\n",
    "        min_val=t_final / 8,\n",
    "        max_val=t_final / 2,\n",
    "        unit=\"s\"\n",
    "    ),\n",
    "    'xy_angle': Qty(\n",
    "        value=0.0,\n",
    "        min_val=-0.5 * np.pi,\n",
    "        max_val=2.5 * np.pi,\n",
    "        unit='rad'\n",
    "    ),\n",
    "    'freq_offset': Qty(\n",
    "        value=-sideband - 3e6 ,\n",
    "        min_val=-56 * 1e6 ,\n",
    "        max_val=-52 * 1e6 ,\n",
    "        unit='Hz 2pi'\n",
    "    ),\n",
    "    'delta': Qty(\n",
    "        value=-1,\n",
    "        min_val=-5,\n",
    "        max_val=3,\n",
    "        unit=\"\"\n",
    "    )\n",
    "}"
   ]
  },
  {
   "cell_type": "markdown",
   "metadata": {},
   "source": [
    "Here we take `gaussian_nonorm()` from the libraries as the function to define the shape."
   ]
  },
  {
   "cell_type": "code",
   "execution_count": 16,
   "metadata": {
    "ExecuteTime": {
     "end_time": "2020-06-10T13:45:05.684014Z",
     "start_time": "2020-06-10T13:45:04.441825Z"
    }
   },
   "outputs": [],
   "source": [
    "gauss_env_single = pulse.Envelope(\n",
    "    name=\"gauss\",\n",
    "    desc=\"Gaussian comp for single-qubit gates\",\n",
    "    params=gauss_params_single,\n",
    "    shape=envelopes.gaussian_nonorm\n",
    ")"
   ]
  },
  {
   "cell_type": "markdown",
   "metadata": {},
   "source": [
    "We also define a gate that represents no driving."
   ]
  },
  {
   "cell_type": "code",
   "execution_count": 17,
   "metadata": {
    "ExecuteTime": {
     "end_time": "2020-06-10T13:45:05.684014Z",
     "start_time": "2020-06-10T13:45:04.441825Z"
    }
   },
   "outputs": [],
   "source": [
    "nodrive_env = pulse.Envelope(\n",
    "    name=\"no_drive\",\n",
    "    params={\n",
    "        't_final': Qty(\n",
    "            value=t_final,\n",
    "            min_val=0.5 * t_final,\n",
    "            max_val=1.5 * t_final,\n",
    "            unit=\"s\"\n",
    "        )\n",
    "    },\n",
    "    shape=envelopes.no_drive\n",
    ")"
   ]
  },
  {
   "cell_type": "markdown",
   "metadata": {},
   "source": [
    "We specify the drive tones with an offset from the qubit frequencies. As in experiment, we will later adjust the resonance by modulating the envelope function."
   ]
  },
  {
   "cell_type": "code",
   "execution_count": 18,
   "metadata": {
    "ExecuteTime": {
     "end_time": "2020-06-10T13:45:05.684014Z",
     "start_time": "2020-06-10T13:45:04.441825Z"
    }
   },
   "outputs": [],
   "source": [
    "lo_freq_q1 = 5e9  + sideband\n",
    "carrier_parameters = {\n",
    "    'freq': Qty(\n",
    "        value=lo_freq_q1,\n",
    "        min_val=4.5e9 ,\n",
    "        max_val=6e9 ,\n",
    "        unit='Hz 2pi'\n",
    "    ),\n",
    "    'framechange': Qty(\n",
    "        value=0.0,\n",
    "        min_val= -np.pi,\n",
    "        max_val= 3 * np.pi,\n",
    "        unit='rad'\n",
    "    )\n",
    "}\n",
    "carr = pulse.Carrier(\n",
    "    name=\"carrier\",\n",
    "    desc=\"Frequency of the local oscillator\",\n",
    "    params=carrier_parameters\n",
    ")"
   ]
  },
  {
   "cell_type": "markdown",
   "metadata": {},
   "source": [
    "For the second qubit drive tone, we copy the first one and replace the frequency. The deepcopy is to ensure that we don't just create a pointer to the first drive."
   ]
  },
  {
   "cell_type": "code",
   "execution_count": 19,
   "metadata": {
    "ExecuteTime": {
     "end_time": "2020-06-10T13:45:05.684014Z",
     "start_time": "2020-06-10T13:45:04.441825Z"
    }
   },
   "outputs": [],
   "source": [
    "lo_freq_q2 = 5.6e9  + sideband\n",
    "carr_2 = copy.deepcopy(carr)\n",
    "carr_2.params['freq'].set_value(lo_freq_q2)"
   ]
  },
  {
   "cell_type": "markdown",
   "metadata": {},
   "source": [
    "#### Instructions\n",
    "We define the gates we want to perform with a \"name\" that will identify them later and \"channels\" relating to the control Hamiltonians and drive lines we specified earlier. As a start we write down 90 degree rotations in the positive $x$-direction and identity gates for both qubits. Then we add a carrier and envelope to each."
   ]
  },
  {
   "cell_type": "code",
   "execution_count": 20,
   "metadata": {
    "ExecuteTime": {
     "end_time": "2020-06-10T13:45:05.684014Z",
     "start_time": "2020-06-10T13:45:04.441825Z"
    }
   },
   "outputs": [],
   "source": [
    "X90p_q1 = gates.Instruction(\n",
    "    name=\"X90p\",\n",
    "    t_start=0.0,\n",
    "    t_end=t_final,\n",
    "    channels=[\"d1\"]\n",
    ")\n",
    "X90p_q2 = gates.Instruction(\n",
    "    name=\"X90p\",\n",
    "    t_start=0.0,\n",
    "    t_end=t_final,\n",
    "    channels=[\"d2\"]\n",
    ")\n",
    "QId_q1 = gates.Instruction(\n",
    "    name=\"Id\",\n",
    "    t_start=0.0,\n",
    "    t_end=t_final,\n",
    "    channels=[\"d1\"]\n",
    ")\n",
    "QId_q2 = gates.Instruction(\n",
    "    name=\"Id\",\n",
    "    t_start=0.0,\n",
    "    t_end=t_final,\n",
    "    channels=[\"d2\"]\n",
    ")\n",
    "\n",
    "X90p_q1.add_component(gauss_env_single, \"d1\")\n",
    "X90p_q1.add_component(carr, \"d1\")\n",
    "QId_q1.add_component(nodrive_env, \"d1\")\n",
    "QId_q1.add_component(copy.deepcopy(carr), \"d1\")\n",
    "\n",
    "X90p_q2.add_component(copy.deepcopy(gauss_env_single), \"d2\")\n",
    "X90p_q2.add_component(carr_2, \"d2\")\n",
    "QId_q2.add_component(copy.deepcopy(nodrive_env), \"d2\")\n",
    "QId_q2.add_component(copy.deepcopy(carr_2), \"d2\")"
   ]
  },
  {
   "cell_type": "markdown",
   "metadata": {},
   "source": [
    "When later compiling gates into sequences, we have to take care of the relative rotating frames of the qubits and local oscillators. We do this by adding a phase after each gate that realigns the frames."
   ]
  },
  {
   "cell_type": "code",
   "execution_count": 21,
   "metadata": {
    "ExecuteTime": {
     "end_time": "2020-06-10T13:45:05.684014Z",
     "start_time": "2020-06-10T13:45:04.441825Z"
    }
   },
   "outputs": [],
   "source": [
    "QId_q1.comps['d1']['carrier'].params['framechange'].set_value(\n",
    "    (-sideband * t_final) * 2 * np.pi  % (2*np.pi)\n",
    ")\n",
    "QId_q2.comps['d2']['carrier'].params['framechange'].set_value(\n",
    "    (-sideband * t_final) * 2 * np.pi  % (2*np.pi)\n",
    ")"
   ]
  },
  {
   "cell_type": "markdown",
   "metadata": {},
   "source": [
    "The remainder of the gates-set can be derived from the X90p gate by shifting its phase by multiples of $\\pi/2$."
   ]
  },
  {
   "cell_type": "code",
   "execution_count": 22,
   "metadata": {
    "ExecuteTime": {
     "end_time": "2020-06-10T13:45:05.684014Z",
     "start_time": "2020-06-10T13:45:04.441825Z"
    }
   },
   "outputs": [],
   "source": [
    "Y90p_q1 = copy.deepcopy(X90p_q1)\n",
    "Y90p_q1.name = \"Y90p\"\n",
    "X90m_q1 = copy.deepcopy(X90p_q1)\n",
    "X90m_q1.name = \"X90m\"\n",
    "Y90m_q1 = copy.deepcopy(X90p_q1)\n",
    "Y90m_q1.name = \"Y90m\"\n",
    "Y90p_q1.comps['d1']['gauss'].params['xy_angle'].set_value(0.5 * np.pi)\n",
    "X90m_q1.comps['d1']['gauss'].params['xy_angle'].set_value(np.pi)\n",
    "Y90m_q1.comps['d1']['gauss'].params['xy_angle'].set_value(1.5 * np.pi)\n",
    "Q1_gates = [QId_q1, X90p_q1, Y90p_q1, X90m_q1, Y90m_q1]\n",
    "\n",
    "\n",
    "Y90p_q2 = copy.deepcopy(X90p_q2)\n",
    "Y90p_q2.name = \"Y90p\"\n",
    "X90m_q2 = copy.deepcopy(X90p_q2)\n",
    "X90m_q2.name = \"X90m\"\n",
    "Y90m_q2 = copy.deepcopy(X90p_q2)\n",
    "Y90m_q2.name = \"Y90m\"\n",
    "Y90p_q2.comps['d2']['gauss'].params['xy_angle'].set_value(0.5 * np.pi)\n",
    "X90m_q2.comps['d2']['gauss'].params['xy_angle'].set_value(np.pi)\n",
    "Y90m_q2.comps['d2']['gauss'].params['xy_angle'].set_value(1.5 * np.pi)\n",
    "Q2_gates = [QId_q2, X90p_q2, Y90p_q2, X90m_q2, Y90m_q2]"
   ]
  },
  {
   "cell_type": "markdown",
   "metadata": {},
   "source": [
    "With the single qubit gates in place, we can combine them to get all possible combinations of simultaneous gates on both qubits."
   ]
  },
  {
   "cell_type": "code",
   "execution_count": 23,
   "metadata": {
    "ExecuteTime": {
     "end_time": "2020-06-10T13:45:05.684014Z",
     "start_time": "2020-06-10T13:45:04.441825Z"
    }
   },
   "outputs": [],
   "source": [
    "all_1q_gates_comb = []\n",
    "for g1 in Q1_gates:\n",
    "    for g2 in Q2_gates:\n",
    "        g = gates.Instruction(\n",
    "            name=\"NONE\",\n",
    "            t_start=0.0,\n",
    "            t_end=t_final,\n",
    "            channels=[]\n",
    "        )\n",
    "        g.name = g1.name + \":\" + g2.name\n",
    "        channels = []\n",
    "        channels.extend(g1.comps.keys())\n",
    "        channels.extend(g2.comps.keys())\n",
    "        for chan in channels:\n",
    "            g.comps[chan] = {}\n",
    "            if chan in g1.comps:\n",
    "                g.comps[chan].update(g1.comps[chan])\n",
    "            if chan in g2.comps:\n",
    "                g.comps[chan].update(g2.comps[chan])\n",
    "        all_1q_gates_comb.append(g)"
   ]
  },
  {
   "cell_type": "markdown",
   "metadata": {},
   "source": [
    "With every component defined, we collect them in the parameter map, our object that holds information and methods to manipulate and examine model and control parameters."
   ]
  },
  {
   "cell_type": "code",
   "execution_count": 24,
   "metadata": {
    "ExecuteTime": {
     "end_time": "2020-06-10T13:45:05.684014Z",
     "start_time": "2020-06-10T13:45:04.441825Z"
    }
   },
   "outputs": [],
   "source": [
    "parameter_map = PMap(instructions=all_1q_gates_comb, model=model, generator=generator)"
   ]
  },
  {
   "cell_type": "markdown",
   "metadata": {},
   "source": [
    "#### The experiment\n",
    "Finally everything is collected in the experiment that provides the functions to interact with the system."
   ]
  },
  {
   "cell_type": "code",
   "execution_count": 25,
   "metadata": {
    "ExecuteTime": {
     "end_time": "2020-06-10T13:45:05.684014Z",
     "start_time": "2020-06-10T13:45:04.441825Z"
    }
   },
   "outputs": [],
   "source": [
    "exp = Exp(pmap=parameter_map)"
   ]
  },
  {
   "cell_type": "markdown",
   "metadata": {},
   "source": [
    "#### Simulation\n",
    "With our experiment all set-up, we can perform simulations. We first decide which basic gates to simulate, in this case only the 90 degree rotation on one qubit and the identity."
   ]
  },
  {
   "cell_type": "code",
   "execution_count": 26,
   "metadata": {},
   "outputs": [],
   "source": [
    "exp.set_opt_gates(['X90p:Id', 'Id:Id'])"
   ]
  },
  {
   "cell_type": "markdown",
   "metadata": {},
   "source": [
    "The actual numerical simulation is done by calling exp.get_gates(). \n",
    "*WARNING:* This is resource intensive."
   ]
  },
  {
   "cell_type": "code",
   "execution_count": 27,
   "metadata": {},
   "outputs": [],
   "source": [
    "unitaries = exp.get_gates()"
   ]
  },
  {
   "cell_type": "markdown",
   "metadata": {},
   "source": [
    "After this step the unitaries or process matrices are stored in the exp object. We can look at their names and matrix representations."
   ]
  },
  {
   "cell_type": "code",
   "execution_count": 28,
   "metadata": {},
   "outputs": [
    {
     "data": {
      "text/plain": [
       "{'X90p:Id': <tf.Tensor: shape=(9, 9), dtype=complex128, numpy=\n",
       " array([[ 5.398e-01+5.546e-02j, -1.147e-03+1.167e-03j,\n",
       "          6.355e-05+5.225e-05j, -1.293e-01-8.222e-01j,\n",
       "         -1.135e-03-6.079e-04j,  5.077e-05-1.148e-04j,\n",
       "          1.047e-01+4.355e-02j, -5.215e-05-4.345e-05j,\n",
       "         -3.685e-06+2.991e-05j],\n",
       "        [-3.209e-02-1.493e-02j,  5.407e-01+3.387e-02j,\n",
       "          1.007e-03+1.036e-03j,  3.805e-03-2.302e-02j,\n",
       "         -1.283e-01-8.223e-01j,  5.398e-04+2.197e-03j,\n",
       "         -2.743e-03-1.246e-03j,  1.004e-01+4.373e-02j,\n",
       "         -4.127e-03+3.171e-04j],\n",
       "        [ 4.559e-05-3.701e-04j, -7.574e-02-3.624e-02j,\n",
       "         -2.252e-01-4.899e-01j, -2.365e-04+3.465e-05j,\n",
       "          1.018e-02-5.355e-02j, -6.179e-01+5.526e-01j,\n",
       "         -3.657e-04+2.387e-03j, -5.908e-03-3.149e-03j,\n",
       "         -1.621e-02-1.084e-01j],\n",
       "        [-2.132e-01-8.026e-01j, -1.378e-02-1.879e-02j,\n",
       "          3.067e-05-1.391e-04j,  4.772e-01-2.752e-01j,\n",
       "         -2.350e-02+2.672e-02j,  1.114e-04-7.850e-05j,\n",
       "         -1.875e-02-6.945e-02j,  2.550e-04-2.238e-03j,\n",
       "          1.278e-04+1.244e-04j],\n",
       "        [ 3.092e-03-5.783e-03j, -2.092e-01-8.000e-01j,\n",
       "         -2.339e-02+5.051e-02j, -4.107e-03-3.062e-04j,\n",
       "          4.859e-01-2.514e-01j,  8.276e-02+1.183e-02j,\n",
       "         -2.503e-02+3.612e-02j, -1.331e-02-6.810e-02j,\n",
       "         -9.637e-03-2.626e-03j],\n",
       "        [-1.529e-04+2.931e-05j,  5.228e-03-9.932e-03j,\n",
       "         -5.588e-01+6.121e-01j, -4.056e-05-1.069e-04j,\n",
       "         -6.896e-03+3.991e-04j, -4.963e-01-2.324e-01j,\n",
       "         -1.376e-05-6.735e-06j, -5.540e-02+6.843e-02j,\n",
       "         -5.053e-02+4.711e-02j],\n",
       "        [ 1.177e-01-2.793e-02j, -2.147e-02+3.021e-02j,\n",
       "          1.344e-03+1.853e-04j, -4.298e-02-3.873e-02j,\n",
       "         -2.267e-02-9.497e-03j, -2.799e-04-2.027e-03j,\n",
       "         -9.862e-01+8.595e-02j, -1.944e-03+2.269e-03j,\n",
       "          5.082e-05+5.732e-04j],\n",
       "        [-2.125e-03-6.585e-04j,  1.140e-01-2.516e-02j,\n",
       "          7.395e-02+3.547e-03j,  2.100e-04-1.559e-03j,\n",
       "         -3.858e-02-3.979e-02j,  1.228e-02+4.769e-02j,\n",
       "         -2.110e-04-1.914e-04j, -9.876e-01+9.945e-03j,\n",
       "          4.152e-03+1.160e-03j],\n",
       "        [-1.592e-05-7.114e-06j, -4.397e-03-5.285e-03j,\n",
       "         -8.186e-02-8.396e-02j,  7.227e-07+9.442e-06j,\n",
       "          6.690e-03-6.899e-03j, -1.378e-02+5.324e-02j,\n",
       "          1.221e-04+4.890e-05j, -1.134e-03-2.005e-03j,\n",
       "          5.475e-01+8.266e-01j]])>,\n",
       " 'Id:Id': <tf.Tensor: shape=(9, 9), dtype=complex128, numpy=\n",
       " array([[ 1.000e+00+1.663e-03j,  3.139e-19+4.848e-19j,\n",
       "          1.280e-04+1.050e-04j,  3.341e-20+1.355e-20j,\n",
       "         -1.191e-03-1.862e-03j, -7.364e-21-9.061e-22j,\n",
       "          3.597e-05-6.853e-05j,  4.958e-22-1.556e-22j,\n",
       "         -4.924e-06+1.476e-06j],\n",
       "        [-3.036e-19+4.032e-19j,  9.989e-01-2.692e-02j,\n",
       "         -2.540e-16-1.474e-16j,  2.400e-02-3.086e-02j,\n",
       "          1.428e-17-2.880e-17j, -1.171e-03+2.980e-03j,\n",
       "          3.284e-16-2.370e-17j,  1.868e-04-1.080e-04j,\n",
       "          2.971e-18-5.862e-18j],\n",
       "        [ 9.310e-05-1.369e-04j, -2.613e-16-1.255e-16j,\n",
       "         -5.145e-01-8.526e-01j, -2.184e-16-1.207e-16j,\n",
       "          5.796e-02-7.070e-02j, -1.147e-18+1.069e-19j,\n",
       "         -5.350e-05+2.123e-03j, -1.323e-18+6.872e-19j,\n",
       "          1.092e-04-3.443e-04j],\n",
       "        [-2.968e-21-2.250e-20j, -2.379e-02-3.103e-02j,\n",
       "         -2.102e-16-1.202e-16j,  9.987e-01+3.370e-02j,\n",
       "          2.478e-18-1.783e-17j,  2.086e-04+3.374e-05j,\n",
       "          1.289e-17-6.426e-18j,  2.045e-03+2.453e-03j,\n",
       "         -9.980e-18+1.739e-17j],\n",
       "        [ 1.303e-03-1.786e-03j, -2.299e-18-1.437e-17j,\n",
       "         -3.599e-02+8.404e-02j,  1.160e-18+3.542e-18j,\n",
       "          9.929e-01+6.344e-02j,  2.935e-18-2.692e-18j,\n",
       "         -1.910e-02+3.624e-02j, -4.923e-20+2.004e-19j,\n",
       "          1.396e-03-4.400e-03j],\n",
       "        [ 9.939e-23-2.128e-21j,  1.809e-03-2.642e-03j,\n",
       "         -1.755e-18+1.198e-18j,  2.756e-05-2.095e-04j,\n",
       "          1.161e-18+5.511e-18j, -5.384e-01-8.387e-01j,\n",
       "          4.139e-17-7.984e-17j, -4.335e-02+6.925e-02j,\n",
       "         -2.569e-16-3.750e-16j],\n",
       "        [-4.560e-05+6.253e-05j,  3.272e-16-3.200e-17j,\n",
       "          2.052e-03+5.491e-04j,  2.059e-17-5.374e-18j,\n",
       "         -2.202e-02-3.455e-02j,  3.307e-17-8.250e-17j,\n",
       "         -9.888e-01+1.433e-01j, -3.845e-18+5.597e-18j,\n",
       "         -5.498e-05+1.357e-04j],\n",
       "        [-6.756e-23+1.728e-22j, -1.913e-04+9.980e-05j,\n",
       "         -3.689e-19+1.798e-18j,  1.966e-03-2.516e-03j,\n",
       "         -4.377e-20-3.846e-19j, -3.003e-02+7.598e-02j,\n",
       "         -2.275e-18+5.738e-18j, -9.946e-01+6.414e-02j,\n",
       "          1.646e-17+3.009e-17j],\n",
       "        [-1.434e-06-4.936e-06j,  4.168e-18-7.299e-18j,\n",
       "         -1.424e-04+3.320e-04j, -8.902e-18+1.787e-17j,\n",
       "          2.929e-03-3.568e-03j, -2.571e-16-3.753e-16j,\n",
       "          1.420e-04+3.577e-05j,  1.485e-17+2.540e-17j,\n",
       "          5.934e-01+8.049e-01j]])>}"
      ]
     },
     "execution_count": 28,
     "metadata": {},
     "output_type": "execute_result"
    }
   ],
   "source": [
    "unitaries"
   ]
  },
  {
   "cell_type": "markdown",
   "metadata": {},
   "source": [
    "### Dynamics\n",
    "\n",
    "To investigate dynamics, we choose the ground state as an initial state."
   ]
  },
  {
   "cell_type": "code",
   "execution_count": 29,
   "metadata": {},
   "outputs": [],
   "source": [
    "psi_init = [[0] * 9]\n",
    "psi_init[0][0] = 1\n",
    "init_state = tf.transpose(tf.constant(psi_init, tf.complex128))"
   ]
  },
  {
   "cell_type": "code",
   "execution_count": 30,
   "metadata": {},
   "outputs": [
    {
     "data": {
      "text/plain": [
       "<tf.Tensor: shape=(9, 1), dtype=complex128, numpy=\n",
       "array([[1.+0.j],\n",
       "       [0.+0.j],\n",
       "       [0.+0.j],\n",
       "       [0.+0.j],\n",
       "       [0.+0.j],\n",
       "       [0.+0.j],\n",
       "       [0.+0.j],\n",
       "       [0.+0.j],\n",
       "       [0.+0.j]])>"
      ]
     },
     "execution_count": 30,
     "metadata": {},
     "output_type": "execute_result"
    }
   ],
   "source": [
    "init_state"
   ]
  },
  {
   "cell_type": "markdown",
   "metadata": {},
   "source": [
    "Since we stored the process matrices, we can now relatively inexpesively evaluate sequences. We start with just one gate"
   ]
  },
  {
   "cell_type": "code",
   "execution_count": 31,
   "metadata": {},
   "outputs": [],
   "source": [
    "barely_a_seq = ['X90p:Id']"
   ]
  },
  {
   "cell_type": "markdown",
   "metadata": {},
   "source": [
    "and plot system dynamics."
   ]
  },
  {
   "cell_type": "code",
   "execution_count": 32,
   "metadata": {},
   "outputs": [],
   "source": [
    "def plot_dynamics(exp, psi_init, seq, goal=-1):\n",
    "        \"\"\"\n",
    "        Plotting code for time-resolved populations.\n",
    "\n",
    "        Parameters\n",
    "        ----------\n",
    "        psi_init: tf.Tensor\n",
    "            Initial state or density matrix.\n",
    "        seq: list\n",
    "            List of operations to apply to the initial state.\n",
    "        goal: tf.float64\n",
    "            Value of the goal function, if used.\n",
    "        debug: boolean\n",
    "            If true, return a matplotlib figure instead of saving.\n",
    "        \"\"\"\n",
    "        model = exp.pmap.model\n",
    "        dUs = exp.dUs\n",
    "        psi_t = psi_init.numpy()\n",
    "        pop_t = exp.populations(psi_t, model.lindbladian)\n",
    "        for gate in seq:\n",
    "            for du in dUs[gate]:\n",
    "                psi_t = np.matmul(du.numpy(), psi_t)\n",
    "                pops = exp.populations(psi_t, model.lindbladian)\n",
    "                pop_t = np.append(pop_t, pops, axis=1)\n",
    "\n",
    "        fig, axs = plt.subplots(1, 1)\n",
    "        ts = exp.ts\n",
    "        dt = ts[1] - ts[0]\n",
    "        ts = np.linspace(0.0, dt*pop_t.shape[1], pop_t.shape[1])\n",
    "        axs.plot(ts / 1e-9, pop_t.T)\n",
    "        axs.grid(linestyle=\"--\")\n",
    "        axs.tick_params(\n",
    "            direction=\"in\", left=True, right=True, top=True, bottom=True\n",
    "        )\n",
    "        axs.set_xlabel('Time [ns]')\n",
    "        axs.set_ylabel('Population')\n",
    "        plt.legend(model.state_labels)\n",
    "        pass"
   ]
  },
  {
   "cell_type": "code",
   "execution_count": 33,
   "metadata": {},
   "outputs": [
    {
     "data": {
      "image/png": "[encoded data removed]",
      "text/plain": [
       "<Figure size 432x288 with 1 Axes>"
      ]
     },
     "metadata": {
      "needs_background": "light"
     },
     "output_type": "display_data"
    }
   ],
   "source": [
    "plot_dynamics(exp, init_state, barely_a_seq)"
   ]
  },
  {
   "cell_type": "markdown",
   "metadata": {},
   "source": [
    "We can see a bad, un-optimized gate. The labels indicate qubit states in the product basis. Next we increase the number of repetitions of the same gate."
   ]
  },
  {
   "cell_type": "code",
   "execution_count": 34,
   "metadata": {},
   "outputs": [
    {
     "data": {
      "text/plain": [
       "['X90p:Id',\n",
       " 'X90p:Id',\n",
       " 'X90p:Id',\n",
       " 'X90p:Id',\n",
       " 'X90p:Id',\n",
       " 'X90p:Id',\n",
       " 'X90p:Id',\n",
       " 'X90p:Id',\n",
       " 'X90p:Id',\n",
       " 'X90p:Id']"
      ]
     },
     "execution_count": 34,
     "metadata": {},
     "output_type": "execute_result"
    }
   ],
   "source": [
    "barely_a_seq * 10"
   ]
  },
  {
   "cell_type": "code",
   "execution_count": 35,
   "metadata": {},
   "outputs": [
    {
     "data": {
      "image/png": "[encoded data removed]",
      "text/plain": [
       "<Figure size 432x288 with 1 Axes>"
      ]
     },
     "metadata": {
      "needs_background": "light"
     },
     "output_type": "display_data"
    }
   ],
   "source": [
    "plot_dynamics(exp, init_state, barely_a_seq * 5)"
   ]
  },
  {
   "cell_type": "code",
   "execution_count": 36,
   "metadata": {},
   "outputs": [
    {
     "data": {
      "image/png": "[encoded data removed]",
      "text/plain": [
       "<Figure size 432x288 with 1 Axes>"
      ]
     },
     "metadata": {
      "needs_background": "light"
     },
     "output_type": "display_data"
    }
   ],
   "source": [
    "plot_dynamics(exp, init_state, barely_a_seq * 10)"
   ]
  },
  {
   "cell_type": "markdown",
   "metadata": {},
   "source": [
    "Note that at this point, we only multiply already computed matrices. We don't need to solve the equations of motion again for new sequences."
   ]
  },
  {
   "cell_type": "markdown",
   "metadata": {},
   "source": [
    "#### Open-loop optimal control\n",
    "\n",
    "In order to improve the gate, we create the optimizer object for open-loop optimal control. We notice some leakage into the $|2,0>$ state and enable a DRAG option. Details on DRAG can be found here: https://arxiv.org/abs/1809.04919 The main principle is adding a phase-shifted component proportional to the derivative of the original signal. With automatic differentiation, our AWG can perform this operation automatically for arbitrary shapes."
   ]
  },
  {
   "cell_type": "code",
   "execution_count": 37,
   "metadata": {},
   "outputs": [],
   "source": [
    "generator.devices['AWG'].enable_drag_2()"
   ]
  },
  {
   "cell_type": "markdown",
   "metadata": {},
   "source": [
    "At the moment there are two implementations of DRAG, variant 2 is independent of the AWG resolution."
   ]
  },
  {
   "cell_type": "markdown",
   "metadata": {},
   "source": [
    "To define which parameters we optimize, we write the gateset_opt_map, a nested list of tuples that identifies each parameter."
   ]
  },
  {
   "cell_type": "code",
   "execution_count": 38,
   "metadata": {},
   "outputs": [],
   "source": [
    "opt_gates = [\"X90p:Id\"]\n",
    "gateset_opt_map=[\n",
    "    [\n",
    "      (\"X90p:Id\", \"d1\", \"gauss\", \"amp\"),\n",
    "    ],\n",
    "    [\n",
    "      (\"X90p:Id\", \"d1\", \"gauss\", \"freq_offset\"),\n",
    "    ],\n",
    "    [\n",
    "      (\"X90p:Id\", \"d1\", \"gauss\", \"xy_angle\"),\n",
    "    ],\n",
    "    [\n",
    "      (\"X90p:Id\", \"d1\", \"gauss\", \"delta\"),\n",
    "    ]\n",
    "]\n",
    "parameter_map.set_opt_map(gateset_opt_map)"
   ]
  },
  {
   "cell_type": "markdown",
   "metadata": {},
   "source": [
    "We can look at the parameters this opt_map specified with"
   ]
  },
  {
   "cell_type": "code",
   "execution_count": 39,
   "metadata": {},
   "outputs": [
    {
     "name": "stdout",
     "output_type": "stream",
     "text": [
      "X90p:Id-d1-gauss-amp                  : 500.000 mV \n",
      "X90p:Id-d1-gauss-freq_offset          : -53.000 MHz 2pi \n",
      "X90p:Id-d1-gauss-xy_angle             : -444.089 arad \n",
      "X90p:Id-d1-gauss-delta                : -1.000  \n",
      "\n"
     ]
    }
   ],
   "source": [
    "parameter_map.print_parameters()"
   ]
  },
  {
   "cell_type": "code",
   "execution_count": 40,
   "metadata": {},
   "outputs": [],
   "source": [
    "from c3.optimizers.c1 import C1"
   ]
  },
  {
   "cell_type": "markdown",
   "metadata": {},
   "source": [
    "The C1 object will handle the optimization for us. As a fidelity function we choose average fidelity as well as LBFG-S (a wrapper of the scipy implementation) from our library. See those libraries for how these functions are defined and how to supply your own, if necessary."
   ]
  },
  {
   "cell_type": "code",
   "execution_count": 41,
   "metadata": {},
   "outputs": [],
   "source": [
    "opt = C1(\n",
    "    dir_path=\"/tmp/c3log/\",\n",
    "    fid_func=fidelities.average_infid_set,\n",
    "    fid_subspace=[\"Q1\", \"Q2\"],\n",
    "    pmap=parameter_map,\n",
    "    algorithm=algorithms.lbfgs,\n",
    "    options={\"maxfun\" : 10},\n",
    "    run_name=\"better_X90\"\n",
    ")"
   ]
  },
  {
   "cell_type": "markdown",
   "metadata": {},
   "source": [
    "Finally we supply our defined experiment."
   ]
  },
  {
   "cell_type": "code",
   "execution_count": 42,
   "metadata": {},
   "outputs": [],
   "source": [
    "exp.set_opt_gates(opt_gates)\n",
    "opt.set_exp(exp)"
   ]
  },
  {
   "cell_type": "markdown",
   "metadata": {},
   "source": [
    "Everything is in place to start the optimization."
   ]
  },
  {
   "cell_type": "code",
   "execution_count": 43,
   "metadata": {},
   "outputs": [
    {
     "name": "stdout",
     "output_type": "stream",
     "text": [
      "C3:STATUS:Saving as: /tmp/c3log/better_X90/2020_12_22_T_12_47_34/open_loop.log\n"
     ]
    }
   ],
   "source": [
    "opt.optimize_controls()"
   ]
  },
  {
   "cell_type": "markdown",
   "metadata": {},
   "source": [
    "After a few steps we have improved the gate significantly, as we can check with"
   ]
  },
  {
   "cell_type": "code",
   "execution_count": 44,
   "metadata": {},
   "outputs": [
    {
     "data": {
      "text/plain": [
       "0.0038 "
      ]
     },
     "execution_count": 44,
     "metadata": {},
     "output_type": "execute_result"
    }
   ],
   "source": [
    "opt.current_best_goal"
   ]
  },
  {
   "cell_type": "markdown",
   "metadata": {},
   "source": [
    "And by looking at the same sequences as before."
   ]
  },
  {
   "cell_type": "code",
   "execution_count": 45,
   "metadata": {},
   "outputs": [
    {
     "data": {
      "image/png": "[encoded data removed]",
      "text/plain": [
       "<Figure size 432x288 with 1 Axes>"
      ]
     },
     "metadata": {
      "needs_background": "light"
     },
     "output_type": "display_data"
    }
   ],
   "source": [
    "plot_dynamics(exp, init_state, barely_a_seq)"
   ]
  },
  {
   "cell_type": "code",
   "execution_count": 46,
   "metadata": {},
   "outputs": [
    {
     "data": {
      "image/png": "[encoded data removed]",
      "text/plain": [
       "<Figure size 432x288 with 1 Axes>"
      ]
     },
     "metadata": {
      "needs_background": "light"
     },
     "output_type": "display_data"
    }
   ],
   "source": [
    "plot_dynamics(exp, init_state, barely_a_seq * 5)"
   ]
  }
 ],
 "metadata": {
  "kernelspec": {
   "display_name": "Python 3",
   "language": "python",
   "name": "python3"
  },
  "language_info": {
   "codemirror_mode": {
    "name": "ipython",
    "version": 3
   },
   "file_extension": ".py",
   "mimetype": "text/x-python",
   "name": "python",
   "nbconvert_exporter": "python",
   "pygments_lexer": "ipython3",
   "version": "3.8.6"
  }
 },
 "nbformat": 4,
 "nbformat_minor": 4
}
