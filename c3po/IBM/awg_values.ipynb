{
 "cells": [
  {
   "cell_type": "code",
   "execution_count": null,
   "metadata": {},
   "outputs": [],
   "source": [
    "\"\"\"Save AWG values for the best data from the DRAG.\"\"\"\n",
    "\n",
    "import os\n",
    "import pickle\n",
    "from datetime import datetime\n",
    "\n",
    "import numpy as np\n",
    "import tensorflow as tf\n",
    "from c3po.utils import log_setup\n",
    "from c3po.tf_utils import tf_abs, tf_ave\n",
    "from c3po.qt_utils import basis, xy_basis, perfect_gate, single_length_RB\n",
    "\n",
    "from scipy.linalg import expm\n",
    "import c3po.hamiltonians as hamiltonians\n",
    "from c3po.simulator import Simulator as Sim\n",
    "from c3po.optimizer import Optimizer as Opt\n",
    "from c3po.experiment import Experiment as Exp\n",
    "from single_qubit import create_chip_model, create_generator, create_gates\n",
    "\n",
    "# Script parameters\n",
    "lindbladian = False\n",
    "IBM_angles = False\n",
    "search_fid = 'unit'  # 'state' 'unit' 'orbit'\n",
    "pulse_type = 'drag'  # 'gauss' 'drag' 'pwc'\n",
    "sim_res = 3e11\n",
    "awg_res = 2.4e9\n",
    "awg_sample = 1 / awg_res\n",
    "sample_numbers = np.arange(4, 20, 1)\n",
    "logdir = log_setup(\"/tmp/c3logs/\")\n",
    "\n",
    "# System\n",
    "qubit_freq = 5.1173e9 * 2 * np.pi\n",
    "qubit_anhar = -315.513734e6 * 2 * np.pi\n",
    "qubit_lvls = 4\n",
    "drive_ham = hamiltonians.x_drive\n",
    "v_hz_conversion = 1"
   ]
  },
  {
   "cell_type": "code",
   "execution_count": null,
   "metadata": {},
   "outputs": [],
   "source": [
    "base_dir = '/home/usersFWM/froy/Documents/PHD/'\n",
    "dir_name_drag = 'hockey_open/2019-11-07_13:15/'\n",
    "savefile_drag = 'drag_N4.pickle'\n",
    "with open('{}{}{}'.format(base_dir,\n",
    "                          dir_name_drag, \n",
    "                          savefile_drag), 'rb') as file:\n",
    "    unit_inf = pickle.load(file)\n",
    "    times = pickle.load(file)\n",
    "    best_params = pickle.load(file)"
   ]
  },
  {
   "cell_type": "code",
   "execution_count": null,
   "metadata": {},
   "outputs": [],
   "source": [
    "AWG_values = []\n",
    "for indx in range(len(times)):\n",
    "    print(\"#: \", sample_num)\n",
    "    # Update experiment time\n",
    "    t_final = times[indx]\n",
    "    params = best_barams[indx]\n",
    "    \n",
    "    # Create system\n",
    "    model = create_chip_model(qubit_freq, qubit_anhar, qubit_lvls, drive_ham)\n",
    "    gen = create_generator(sim_res, awg_res, v_hz_conversion, logdir=logdir)\n",
    "    gen.devices['awg'].options = 'drag'\n",
    "    gates = create_gates(t_final, v_hz_conversion, qubit_freq, qubit_anhar)\n",
    "    exp = Exp(model, gen)\n",
    "    sim = Sim(exp, gates)\n",
    "\n",
    "    gateset_opt_map = [\n",
    "        [('X90p', 'd1', 'gauss', 'amp')],\n",
    "        [('X90p', 'd1', 'gauss', 'freq_offset')],\n",
    "        [('X90p', 'd1', 'gauss', 'delta')],\n",
    "        [('X90p', 'd1', 'gauss', 'xy_angle')]\n",
    "    ]\n",
    "    \n",
    "    \n",
    "    \n"
   ]
  }
 ],
 "metadata": {
  "kernelspec": {
   "display_name": "Python 3",
   "language": "python",
   "name": "python3"
  },
  "language_info": {
   "codemirror_mode": {
    "name": "ipython",
    "version": 3
   },
   "file_extension": ".py",
   "mimetype": "text/x-python",
   "name": "python",
   "nbconvert_exporter": "python",
   "pygments_lexer": "ipython3",
   "version": "3.7.4"
  }
 },
 "nbformat": 4,
 "nbformat_minor": 2
}
