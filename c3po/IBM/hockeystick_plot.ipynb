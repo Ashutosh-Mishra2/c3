{
 "cells": [
  {
   "cell_type": "code",
   "execution_count": 13,
   "metadata": {},
   "outputs": [],
   "source": [
    "import pickle\n",
    "import numpy as np\n",
    "import matplotlib.pyplot as plt"
   ]
  },
  {
   "cell_type": "code",
   "execution_count": 14,
   "metadata": {},
   "outputs": [],
   "source": [
    "base_dir = '/home/usersFWM/froy/Documents/PHD/'\n",
    "#dir_name_drag = 'hockey_open/2019-10-31_12:35/'\n",
    "#dir_name_drag = 'hockey_open/2019-10-31_13:30/'\n",
    "#dir_name_drag = 'hockey_open/2019-11-04_16:23/'\n",
    "#dir_name_drag = 'hockey_open/2019-11-05_11:15/'\n",
    "#dir_name_drag = 'hockey_open/2019-11-05_13:41/'\n",
    "#dir_name_drag = 'hockey_open/2019-11-05_15:19/'\n",
    "dir_name_drag = 'hockey_open/2019-11-06_13:07/'\n",
    "savefile_drag = 'drag_N4.pickle'\n",
    "with open('{}{}{}'.format(base_dir,\n",
    "                          dir_name_drag, \n",
    "                          savefile_drag), 'rb') as file:\n",
    "    unit_inf_drag = pickle.load(file)\n",
    "    times_drag = pickle.load(file)\n",
    "    best_params_drag = pickle.load(file)"
   ]
  },
  {
   "cell_type": "code",
   "execution_count": 15,
   "metadata": {},
   "outputs": [],
   "source": [
    "base_dir = '/home/usersFWM/froy/Documents/PHD/'\n",
    "#dir_name_gauss = 'hockey_open/2019-10-31_12:33/'\n",
    "#dir_name_gauss = 'hockey_open/2019-10-31_15:22/'\n",
    "#dir_name_gauss = 'hockey_open/2019-11-04_16:09/'\n",
    "#dir_name_gauss = 'hockey_open/2019-11-05_11:43/'\n",
    "#dir_name_gauss = 'hockey_open/2019-11-05_13:45/'\n",
    "#dir_name_gauss = 'hockey_open/2019-11-05_15:20/'\n",
    "dir_name_gauss = 'hockey_open/2019-11-06_12:57/'\n",
    "savefile_gauss = 'gauss_N4.pickle'\n",
    "with open('{}{}{}'.format(base_dir,\n",
    "                          dir_name_gauss, \n",
    "                          savefile_gauss), 'rb') as file:\n",
    "    unit_inf_gauss = pickle.load(file)\n",
    "    times_gauss = pickle.load(file)\n",
    "    best_params_gauss = pickle.load(file)"
   ]
  },
  {
   "cell_type": "code",
   "execution_count": 16,
   "metadata": {},
   "outputs": [
    {
     "data": {
      "text/plain": [
       "(0, 1)"
      ]
     },
     "execution_count": 16,
     "metadata": {},
     "output_type": "execute_result"
    },
    {
     "data": {
      "image/png": "[encoded data removed]",
      "text/plain": [
       "<Figure size 432x288 with 1 Axes>"
      ]
     },
     "metadata": {
      "needs_background": "light"
     },
     "output_type": "display_data"
    }
   ],
   "source": [
    "plt.plot(times_drag,unit_inf_drag,'r',\n",
    "         times_gauss,unit_inf_gauss,'b')\n",
    "plt.ylim([0,1])"
   ]
  },
  {
   "cell_type": "code",
   "execution_count": null,
   "metadata": {},
   "outputs": [],
   "source": [
    "plt.plot(times_gauss,unit_inf_gauss,'b')"
   ]
  },
  {
   "cell_type": "code",
   "execution_count": null,
   "metadata": {},
   "outputs": [],
   "source": [
    "plt.plot(times_drag,unit_inf_drag,'r')"
   ]
  },
  {
   "cell_type": "code",
   "execution_count": 17,
   "metadata": {},
   "outputs": [
    {
     "data": {
      "text/plain": [
       "[array([ 4.60571552e+00,  8.49725573e+07, -7.56965546e-01, -8.07486211e-01]),\n",
       " array([ 2.47150526e+00, -9.69363359e+07,  3.42157370e-01, -4.34232153e-01]),\n",
       " array([ 3.15666617e+00, -1.68631869e+07,  1.03758511e+00,  4.17742508e-01]),\n",
       " array([ 3.30354918e+00,  8.03452370e+06, -1.42745112e+00, -9.21539710e-01]),\n",
       " array([ 1.71466209e+00,  2.00867811e+07, -5.02873544e-01, -9.70017837e-01])]"
      ]
     },
     "execution_count": 17,
     "metadata": {},
     "output_type": "execute_result"
    }
   ],
   "source": [
    "best_params_drag"
   ]
  },
  {
   "cell_type": "code",
   "execution_count": 18,
   "metadata": {},
   "outputs": [
    {
     "data": {
      "text/plain": [
       "[2.5e-09,\n",
       " 3.3333333333333334e-09,\n",
       " 4.166666666666667e-09,\n",
       " 5e-09,\n",
       " 5.8333333333333335e-09]"
      ]
     },
     "execution_count": 18,
     "metadata": {},
     "output_type": "execute_result"
    }
   ],
   "source": [
    "times_drag"
   ]
  },
  {
   "cell_type": "code",
   "execution_count": 19,
   "metadata": {},
   "outputs": [
    {
     "data": {
      "text/plain": [
       "[0.04673937317934851,\n",
       " 0.020999599681502668,\n",
       " 0.1129981721797021,\n",
       " 0.18780297710945426,\n",
       " 0.0365953444559185]"
      ]
     },
     "execution_count": 19,
     "metadata": {},
     "output_type": "execute_result"
    }
   ],
   "source": [
    "unit_inf_drag"
   ]
  },
  {
   "cell_type": "code",
   "execution_count": 20,
   "metadata": {},
   "outputs": [
    {
     "data": {
      "text/plain": [
       "[array([ 3.87148712e+00,  9.98913524e+07, -8.88231981e-01]),\n",
       " array([ 2.57067968e+00, -9.97815435e+07,  4.11052061e-01]),\n",
       " array([ 2.97242732e+00, -8.98392650e+07,  1.19136349e+00]),\n",
       " array([ 3.63762614e+00,  8.25537351e+07, -1.49854086e+00]),\n",
       " array([ 1.62071175e+00,  9.62021651e+07, -7.44614629e-01])]"
      ]
     },
     "execution_count": 20,
     "metadata": {},
     "output_type": "execute_result"
    }
   ],
   "source": [
    "best_params_gauss"
   ]
  },
  {
   "cell_type": "code",
   "execution_count": 21,
   "metadata": {},
   "outputs": [
    {
     "data": {
      "text/plain": [
       "[2.5e-09,\n",
       " 3.3333333333333334e-09,\n",
       " 4.166666666666667e-09,\n",
       " 5e-09,\n",
       " 5.8333333333333335e-09]"
      ]
     },
     "execution_count": 21,
     "metadata": {},
     "output_type": "execute_result"
    }
   ],
   "source": [
    "times_gauss"
   ]
  },
  {
   "cell_type": "code",
   "execution_count": 22,
   "metadata": {},
   "outputs": [
    {
     "data": {
      "text/plain": [
       "[0.18637394286342324,\n",
       " 0.01101188853450119,\n",
       " 0.29964883503823936,\n",
       " 0.4585976947177184,\n",
       " 0.07852041912772045]"
      ]
     },
     "execution_count": 22,
     "metadata": {},
     "output_type": "execute_result"
    }
   ],
   "source": [
    "unit_inf_gauss"
   ]
  },
  {
   "cell_type": "code",
   "execution_count": null,
   "metadata": {},
   "outputs": [],
   "source": []
  }
 ],
 "metadata": {
  "kernelspec": {
   "display_name": "Python 3",
   "language": "python",
   "name": "python3"
  },
  "language_info": {
   "codemirror_mode": {
    "name": "ipython",
    "version": 3
   },
   "file_extension": ".py",
   "mimetype": "text/x-python",
   "name": "python",
   "nbconvert_exporter": "python",
   "pygments_lexer": "ipython3",
   "version": "3.7.4"
  }
 },
 "nbformat": 4,
 "nbformat_minor": 2
}
