{
 "cells": [
  {
   "cell_type": "code",
   "execution_count": 32,
   "metadata": {},
   "outputs": [],
   "source": [
    "import pickle\n",
    "import numpy as np\n",
    "import matplotlib.pyplot as plt"
   ]
  },
  {
   "cell_type": "code",
   "execution_count": 33,
   "metadata": {},
   "outputs": [],
   "source": [
    "base_dir = '/home/usersFWM/froy/Documents/PHD/'\n",
    "#dir_name_drag = 'hockey_open/2019-10-31_12:35/'\n",
    "#dir_name_drag = 'hockey_open/2019-10-31_13:30/'\n",
    "#dir_name_drag = 'hockey_open/2019-11-04_16:23/'\n",
    "#dir_name_drag = 'hockey_open/2019-11-05_11:15/'\n",
    "#dir_name_drag = 'hockey_open/2019-11-05_13:41/'\n",
    "#dir_name_drag = 'hockey_open/2019-11-05_15:19/'\n",
    "#dir_name_drag = 'hockey_open/2019-11-06_13:07/'\n",
    "#dir_name_drag = 'hockey_open/2019-11-07_13:47/'\n",
    "dir_name_drag = 'hockey_open/2019-11-07_13:15/'\n",
    "savefile_drag = 'drag_N4.pickle'\n",
    "with open('{}{}{}'.format(base_dir,\n",
    "                          dir_name_drag, \n",
    "                          savefile_drag), 'rb') as file:\n",
    "    unit_inf_drag = pickle.load(file)\n",
    "    times_drag = pickle.load(file)\n",
    "    best_params_drag = pickle.load(file)"
   ]
  },
  {
   "cell_type": "code",
   "execution_count": 34,
   "metadata": {},
   "outputs": [],
   "source": [
    "base_dir = '/home/usersFWM/froy/Documents/PHD/'\n",
    "#dir_name_gauss = 'hockey_open/2019-10-31_12:33/'\n",
    "#dir_name_gauss = 'hockey_open/2019-10-31_15:22/'\n",
    "#dir_name_gauss = 'hockey_open/2019-11-04_16:09/'\n",
    "#dir_name_gauss = 'hockey_open/2019-11-05_11:43/'\n",
    "#dir_name_gauss = 'hockey_open/2019-11-05_13:45/'\n",
    "#dir_name_gauss = 'hockey_open/2019-11-05_15:20/'\n",
    "#dir_name_gauss = 'hockey_open/2019-11-06_12:57/'\n",
    "##dir_name_gauss = 'hockey_open/2019-11-06_15:19/'\n",
    "#dir_name_gauss = 'hockey_open/2019-11-06_15:54/'\n",
    "dir_name_gauss = 'hockey_open/2019-11-07_13:10/'\n",
    "savefile_gauss = 'gauss_N4.pickle'\n",
    "with open('{}{}{}'.format(base_dir,\n",
    "                          dir_name_gauss, \n",
    "                          savefile_gauss), 'rb') as file:\n",
    "    unit_inf_gauss = pickle.load(file)\n",
    "    times_gauss = pickle.load(file)\n",
    "    best_params_gauss = pickle.load(file)"
   ]
  },
  {
   "cell_type": "code",
   "execution_count": 35,
   "metadata": {},
   "outputs": [
    {
     "data": {
      "text/plain": [
       "(0.01, 0.3)"
      ]
     },
     "execution_count": 35,
     "metadata": {},
     "output_type": "execute_result"
    },
    {
     "data": {
      "image/png": "[encoded data removed]",
      "text/plain": [
       "<Figure size 432x288 with 1 Axes>"
      ]
     },
     "metadata": {
      "needs_background": "light"
     },
     "output_type": "display_data"
    }
   ],
   "source": [
    "plt.semilogy(times_drag,unit_inf_drag,'r',\n",
    "         times_gauss,unit_inf_gauss,'b')\n",
    "plt.ylim([0.01,0.3])"
   ]
  },
  {
   "cell_type": "code",
   "execution_count": 24,
   "metadata": {},
   "outputs": [
    {
     "data": {
      "text/plain": [
       "[<matplotlib.lines.Line2D at 0x7f99cd2025d0>]"
      ]
     },
     "execution_count": 24,
     "metadata": {},
     "output_type": "execute_result"
    },
    {
     "data": {
      "image/png": "[encoded data removed]",
      "text/plain": [
       "<Figure size 432x288 with 1 Axes>"
      ]
     },
     "metadata": {
      "needs_background": "light"
     },
     "output_type": "display_data"
    }
   ],
   "source": [
    "plt.plot(times_gauss,unit_inf_gauss,'b')"
   ]
  },
  {
   "cell_type": "code",
   "execution_count": 25,
   "metadata": {},
   "outputs": [
    {
     "data": {
      "text/plain": [
       "[<matplotlib.lines.Line2D at 0x7f99ccff0510>]"
      ]
     },
     "execution_count": 25,
     "metadata": {},
     "output_type": "execute_result"
    },
    {
     "data": {
      "image/png": "[encoded data removed]",
      "text/plain": [
       "<Figure size 432x288 with 1 Axes>"
      ]
     },
     "metadata": {
      "needs_background": "light"
     },
     "output_type": "display_data"
    }
   ],
   "source": [
    "plt.plot(times_drag,unit_inf_drag,'r')"
   ]
  },
  {
   "cell_type": "code",
   "execution_count": 26,
   "metadata": {},
   "outputs": [
    {
     "data": {
      "text/plain": [
       "[array([ 1.14709081e+00, -6.26435412e+08, -4.78270642e-10,  5.59379715e-01]),\n",
       " array([ 1.45341896e+00, -7.99681164e+06, -3.45397371e-10,  5.62430762e-03]),\n",
       " array([ 1.16355472e+00, -5.98726792e+08, -6.01236262e-10,  7.49053038e-01])]"
      ]
     },
     "execution_count": 26,
     "metadata": {},
     "output_type": "execute_result"
    }
   ],
   "source": [
    "best_params_drag"
   ]
  },
  {
   "cell_type": "code",
   "execution_count": 27,
   "metadata": {},
   "outputs": [
    {
     "data": {
      "text/plain": [
       "[1.6666666666666667e-09, 2.0833333333333334e-09, 2.5e-09]"
      ]
     },
     "execution_count": 27,
     "metadata": {},
     "output_type": "execute_result"
    }
   ],
   "source": [
    "times_drag"
   ]
  },
  {
   "cell_type": "code",
   "execution_count": 28,
   "metadata": {},
   "outputs": [
    {
     "data": {
      "text/plain": [
       "[0.05297918643356325, 0.044580796165294534, 0.02243534424739635]"
      ]
     },
     "execution_count": 28,
     "metadata": {},
     "output_type": "execute_result"
    }
   ],
   "source": [
    "unit_inf_drag"
   ]
  },
  {
   "cell_type": "code",
   "execution_count": 29,
   "metadata": {},
   "outputs": [
    {
     "data": {
      "text/plain": [
       "[array([8.28087582e-01, 3.80479305e+07, 1.71239353e-02]),\n",
       " array([8.17059795e-01, 6.84320496e+07, 5.67919179e-02]),\n",
       " array([8.00169137e-01, 1.01572783e+08, 5.71108062e-02]),\n",
       " array([7.80374758e-01, 1.31687285e+08, 1.84536147e-02])]"
      ]
     },
     "execution_count": 29,
     "metadata": {},
     "output_type": "execute_result"
    }
   ],
   "source": [
    "best_params_gauss"
   ]
  },
  {
   "cell_type": "code",
   "execution_count": 30,
   "metadata": {},
   "outputs": [
    {
     "data": {
      "text/plain": [
       "[1.6666666666666667e-09,\n",
       " 2.0833333333333334e-09,\n",
       " 2.5e-09,\n",
       " 2.9166666666666667e-09]"
      ]
     },
     "execution_count": 30,
     "metadata": {},
     "output_type": "execute_result"
    }
   ],
   "source": [
    "times_gauss"
   ]
  },
  {
   "cell_type": "code",
   "execution_count": 31,
   "metadata": {},
   "outputs": [
    {
     "data": {
      "text/plain": [
       "[0.226432181016457,\n",
       " 0.21799869846549824,\n",
       " 0.21066065393975997,\n",
       " 0.20355070024807898]"
      ]
     },
     "execution_count": 31,
     "metadata": {},
     "output_type": "execute_result"
    }
   ],
   "source": [
    "unit_inf_gauss"
   ]
  }
 ],
 "metadata": {
  "kernelspec": {
   "display_name": "Python 3",
   "language": "python",
   "name": "python3"
  },
  "language_info": {
   "codemirror_mode": {
    "name": "ipython",
    "version": 3
   },
   "file_extension": ".py",
   "mimetype": "text/x-python",
   "name": "python",
   "nbconvert_exporter": "python",
   "pygments_lexer": "ipython3",
   "version": "3.7.4"
  }
 },
 "nbformat": 4,
 "nbformat_minor": 2
}
