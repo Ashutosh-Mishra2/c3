{
 "cells": [
  {
   "cell_type": "code",
   "execution_count": 1,
   "metadata": {},
   "outputs": [],
   "source": [
    "import pickle\n",
    "import numpy as np\n",
    "import matplotlib.pyplot as plt"
   ]
  },
  {
   "cell_type": "code",
   "execution_count": 2,
   "metadata": {},
   "outputs": [],
   "source": [
    "base_dir = '/home/usersFWM/froy/Documents/PHD/'\n",
    "#dir_name_drag = 'hockey_open/2019-10-31_12:35/'\n",
    "#dir_name_drag = 'hockey_open/2019-10-31_13:30/'\n",
    "#dir_name_drag = 'hockey_open/2019-11-04_16:23/'\n",
    "#dir_name_drag = 'hockey_open/2019-11-05_11:15/'\n",
    "#dir_name_drag = 'hockey_open/2019-11-05_13:41/'\n",
    "#dir_name_drag = 'hockey_open/2019-11-05_15:19/'\n",
    "#dir_name_drag = 'hockey_open/2019-11-06_13:07/'\n",
    "#dir_name_drag = 'hockey_open/2019-11-07_13:47/'\n",
    "dir_name_drag = 'hockey_open/2019-11-07_13:15/'\n",
    "savefile_drag = 'drag_N4.pickle'\n",
    "with open('{}{}{}'.format(base_dir,\n",
    "                          dir_name_drag, \n",
    "                          savefile_drag), 'rb') as file:\n",
    "    unit_inf_drag = pickle.load(file)\n",
    "    times_drag = pickle.load(file)\n",
    "    best_params_drag = pickle.load(file)"
   ]
  },
  {
   "cell_type": "code",
   "execution_count": 3,
   "metadata": {},
   "outputs": [],
   "source": [
    "base_dir = '/home/usersFWM/froy/Documents/PHD/'\n",
    "#dir_name_gauss = 'hockey_open/2019-10-31_12:33/'\n",
    "#dir_name_gauss = 'hockey_open/2019-10-31_15:22/'\n",
    "#dir_name_gauss = 'hockey_open/2019-11-04_16:09/'\n",
    "#dir_name_gauss = 'hockey_open/2019-11-05_11:43/'\n",
    "#dir_name_gauss = 'hockey_open/2019-11-05_13:45/'\n",
    "#dir_name_gauss = 'hockey_open/2019-11-05_15:20/'\n",
    "#dir_name_gauss = 'hockey_open/2019-11-06_12:57/'\n",
    "##dir_name_gauss = 'hockey_open/2019-11-06_15:19/'\n",
    "#dir_name_gauss = 'hockey_open/2019-11-06_15:54/'\n",
    "dir_name_gauss = 'hockey_open/2019-11-07_13:10/'\n",
    "savefile_gauss = 'gauss_N4.pickle'\n",
    "with open('{}{}{}'.format(base_dir,\n",
    "                          dir_name_gauss, \n",
    "                          savefile_gauss), 'rb') as file:\n",
    "    unit_inf_gauss = pickle.load(file)\n",
    "    times_gauss = pickle.load(file)\n",
    "    best_params_gauss = pickle.load(file)"
   ]
  },
  {
   "cell_type": "code",
   "execution_count": 16,
   "metadata": {},
   "outputs": [
    {
     "data": {
      "text/plain": [
       "(1e-05, 0.3)"
      ]
     },
     "execution_count": 16,
     "metadata": {},
     "output_type": "execute_result"
    },
    {
     "data": {
      "image/png": "[encoded data removed]",
      "text/plain": [
       "<Figure size 432x288 with 1 Axes>"
      ]
     },
     "metadata": {
      "needs_background": "light"
     },
     "output_type": "display_data"
    }
   ],
   "source": [
    "plt.semilogy(times_drag,unit_inf_drag,'rx-',\n",
    "         times_gauss,unit_inf_gauss,'bx-')\n",
    "plt.grid()\n",
    "plt.ylim([0.00001,0.3])"
   ]
  },
  {
   "cell_type": "code",
   "execution_count": 17,
   "metadata": {},
   "outputs": [
    {
     "data": {
      "text/plain": [
       "[<matplotlib.lines.Line2D at 0x7f991beae750>,\n",
       " <matplotlib.lines.Line2D at 0x7f991beae990>]"
      ]
     },
     "execution_count": 17,
     "metadata": {},
     "output_type": "execute_result"
    },
    {
     "data": {
      "image/png": "[encoded data removed]",
      "text/plain": [
       "<Figure size 432x288 with 1 Axes>"
      ]
     },
     "metadata": {
      "needs_background": "light"
     },
     "output_type": "display_data"
    }
   ],
   "source": [
    "plt.plot(times_gauss,unit_inf_gauss,'bx-',\n",
    "         times_drag,unit_inf_drag,'rx-')"
   ]
  },
  {
   "cell_type": "code",
   "execution_count": 7,
   "metadata": {},
   "outputs": [
    {
     "data": {
      "text/plain": [
       "[array([ 1.14709081e+00, -6.26435412e+08, -4.78270642e-10,  5.59379715e-01]),\n",
       " array([ 1.45341896e+00, -7.99681164e+06, -3.45397371e-10,  5.62430762e-03]),\n",
       " array([ 1.16355472e+00, -5.98726792e+08, -6.01236262e-10,  7.49053038e-01]),\n",
       " array([ 1.15551718e+00, -6.19250608e+08, -6.44637699e-10,  9.05488339e-01]),\n",
       " array([ 1.15865957e+00, -6.25204997e+08, -6.79232481e-10,  1.04705097e+00]),\n",
       " array([ 1.19647028e+00, -5.83162044e+08, -6.83303325e-10,  1.09732397e+00]),\n",
       " array([ 1.25171287e+00, -5.08950598e+08, -6.62945735e-10,  1.06221837e+00]),\n",
       " array([ 1.29668345e+00, -4.42742488e+08, -6.44243578e-10,  1.01477052e+00]),\n",
       " array([ 1.33469762e+00, -3.84363109e+08, -6.28097678e-10,  9.60951760e-01]),\n",
       " array([ 1.36571666e+00, -3.37293350e+08, -6.17107172e-10,  9.13776119e-01]),\n",
       " array([ 1.38843854e+00, -3.01751734e+08, -6.12424183e-10,  8.80195667e-01]),\n",
       " array([ 1.40509393e+00, -2.73449816e+08, -6.12223517e-10,  8.54580118e-01]),\n",
       " array([ 1.41917258e+00, -2.49146383e+08, -6.13977325e-10,  8.30782851e-01]),\n",
       " array([ 1.43161017e+00, -2.28229190e+08, -6.16639493e-10,  8.08616013e-01]),\n",
       " array([ 1.44119523e+00, -2.10945223e+08, -6.21669643e-10,  7.91126101e-01]),\n",
       " array([ 1.44765084e+00, -1.97143742e+08, -6.31223968e-10,  7.80426364e-01])]"
      ]
     },
     "execution_count": 7,
     "metadata": {},
     "output_type": "execute_result"
    }
   ],
   "source": [
    "best_params_drag"
   ]
  },
  {
   "cell_type": "code",
   "execution_count": 8,
   "metadata": {},
   "outputs": [
    {
     "data": {
      "text/plain": [
       "[1.6666666666666667e-09,\n",
       " 2.0833333333333334e-09,\n",
       " 2.5e-09,\n",
       " 2.9166666666666667e-09,\n",
       " 3.3333333333333334e-09,\n",
       " 3.7500000000000005e-09,\n",
       " 4.166666666666667e-09,\n",
       " 4.583333333333333e-09,\n",
       " 5e-09,\n",
       " 5.416666666666667e-09,\n",
       " 5.8333333333333335e-09,\n",
       " 6.25e-09,\n",
       " 6.666666666666667e-09,\n",
       " 7.083333333333334e-09,\n",
       " 7.500000000000001e-09,\n",
       " 7.916666666666666e-09]"
      ]
     },
     "execution_count": 8,
     "metadata": {},
     "output_type": "execute_result"
    }
   ],
   "source": [
    "times_drag"
   ]
  },
  {
   "cell_type": "code",
   "execution_count": 9,
   "metadata": {},
   "outputs": [
    {
     "data": {
      "text/plain": [
       "[0.05297918643356325,\n",
       " 0.044580796165294534,\n",
       " 0.02243534424739635,\n",
       " 0.014270135572339915,\n",
       " 0.009186626358974492,\n",
       " 0.006163443989234518,\n",
       " 0.004175477748382561,\n",
       " 0.0027846704231477837,\n",
       " 0.0018565817333459078,\n",
       " 0.0012557468469533983,\n",
       " 0.0008413956400021849,\n",
       " 0.0005385562197065541,\n",
       " 0.00032787442599069294,\n",
       " 0.00019494649314932833,\n",
       " 0.00011492219089259681,\n",
       " 6.612629411473225e-05]"
      ]
     },
     "execution_count": 9,
     "metadata": {},
     "output_type": "execute_result"
    }
   ],
   "source": [
    "unit_inf_drag"
   ]
  },
  {
   "cell_type": "code",
   "execution_count": 10,
   "metadata": {},
   "outputs": [
    {
     "data": {
      "text/plain": [
       "[array([8.28087582e-01, 3.80479305e+07, 1.71239353e-02]),\n",
       " array([8.17059795e-01, 6.84320496e+07, 5.67919179e-02]),\n",
       " array([8.00169137e-01, 1.01572783e+08, 5.71108062e-02]),\n",
       " array([7.80374758e-01, 1.31687285e+08, 1.84536147e-02]),\n",
       " array([ 1.39666719e+00,  4.44587931e+08, -7.81407706e-01]),\n",
       " array([ 1.52764530e+00,  5.36180582e+08, -1.07716132e+00]),\n",
       " array([ 1.84615514e+00,  6.26853612e+08, -1.34175722e+00]),\n",
       " array([ 1.83100956e+00,  6.27347838e+08, -1.48134386e+00]),\n",
       " array([ 1.72482161e+00,  5.63630501e+08, -1.40840169e+00]),\n",
       " array([ 1.69390988e+00,  4.56497838e+08, -1.23581196e+00]),\n",
       " array([ 1.66991703e+00,  3.72997152e+08, -1.08770972e+00]),\n",
       " array([ 1.65173912e+00,  3.08708468e+08, -9.64651278e-01]),\n",
       " array([ 1.63819542e+00,  2.59042989e+08, -8.63382330e-01]),\n",
       " array([ 1.62787928e+00,  2.20219472e+08, -7.79866858e-01]),\n",
       " array([ 1.61971871e+00,  1.89755541e+08, -7.11566872e-01]),\n",
       " array([ 1.61330202e+00,  1.65877278e+08, -6.56567395e-01])]"
      ]
     },
     "execution_count": 10,
     "metadata": {},
     "output_type": "execute_result"
    }
   ],
   "source": [
    "best_params_gauss"
   ]
  },
  {
   "cell_type": "code",
   "execution_count": 11,
   "metadata": {},
   "outputs": [
    {
     "data": {
      "text/plain": [
       "[1.6666666666666667e-09,\n",
       " 2.0833333333333334e-09,\n",
       " 2.5e-09,\n",
       " 2.9166666666666667e-09,\n",
       " 3.3333333333333334e-09,\n",
       " 3.7500000000000005e-09,\n",
       " 4.166666666666667e-09,\n",
       " 4.583333333333333e-09,\n",
       " 5e-09,\n",
       " 5.416666666666667e-09,\n",
       " 5.8333333333333335e-09,\n",
       " 6.25e-09,\n",
       " 6.666666666666667e-09,\n",
       " 7.083333333333334e-09,\n",
       " 7.500000000000001e-09,\n",
       " 7.916666666666666e-09]"
      ]
     },
     "execution_count": 11,
     "metadata": {},
     "output_type": "execute_result"
    }
   ],
   "source": [
    "times_gauss"
   ]
  },
  {
   "cell_type": "code",
   "execution_count": 12,
   "metadata": {},
   "outputs": [
    {
     "data": {
      "text/plain": [
       "[0.226432181016457,\n",
       " 0.21799869846549824,\n",
       " 0.21066065393975997,\n",
       " 0.20355070024807898,\n",
       " 0.08782968990840279,\n",
       " 0.05441125890220566,\n",
       " 0.034680037523115326,\n",
       " 0.01978136641003958,\n",
       " 0.011194886660471082,\n",
       " 0.007629159588725787,\n",
       " 0.005074429316611839,\n",
       " 0.0033081887559375245,\n",
       " 0.002116475506257043,\n",
       " 0.0013291553897947228,\n",
       " 0.0008217671822994266,\n",
       " 0.0005039041527696853]"
      ]
     },
     "execution_count": 12,
     "metadata": {},
     "output_type": "execute_result"
    }
   ],
   "source": [
    "unit_inf_gauss"
   ]
  }
 ],
 "metadata": {
  "kernelspec": {
   "display_name": "Python 3",
   "language": "python",
   "name": "python3"
  },
  "language_info": {
   "codemirror_mode": {
    "name": "ipython",
    "version": 3
   },
   "file_extension": ".py",
   "mimetype": "text/x-python",
   "name": "python",
   "nbconvert_exporter": "python",
   "pygments_lexer": "ipython3",
   "version": "3.7.4"
  }
 },
 "nbformat": 4,
 "nbformat_minor": 2
}
