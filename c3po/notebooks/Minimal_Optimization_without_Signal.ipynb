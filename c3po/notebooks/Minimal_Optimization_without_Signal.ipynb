{
 "cells": [
  {
   "cell_type": "markdown",
   "metadata": {},
   "source": [
    "# Import and definitions"
   ]
  },
  {
   "cell_type": "code",
   "execution_count": null,
   "metadata": {},
   "outputs": [],
   "source": [
    "# Jupyter Notebook nicer display\n",
    "from IPython.display import clear_output\n",
    "\n",
    "# Additional utils\n",
    "import numpy as np\n",
    "\n",
    "# c3 Imports\n",
    "from c3po.optimizer.optimizer import Optimizer as Optimizer"
   ]
  },
  {
   "cell_type": "markdown",
   "metadata": {},
   "source": [
    "\n",
    "# Evaluation function\n",
    "\n",
    "Provide an evaluate_pulse function and its helpers, specific to your experimental setup, that takes a several sets of parameters and provides a figure of merit for each.\n"
   ]
  },
  {
   "cell_type": "code",
   "execution_count": null,
   "metadata": {},
   "outputs": [],
   "source": [
    "def evaluate_signals_dbg(samples_rescaled):\n",
    "    \"\"\"\n",
    "    Evaluate function to debug an optimizer call. Returns random results for all input samples.\n",
    "    \"\"\"\n",
    "    return np.random.rand(len(samples_rescaled))"
   ]
  },
  {
   "cell_type": "markdown",
   "metadata": {},
   "source": [
    "# Calibration"
   ]
  },
  {
   "cell_type": "code",
   "execution_count": null,
   "metadata": {},
   "outputs": [],
   "source": [
    "# Provide a simple list with the current (physical) values you want to optimize\n",
    "values = [5e-09, 2.5e-08, 4.5e-08, 3e-08, 37699111843.077515]\n",
    "\n",
    "# Set boundaries of the corresponding physical values \n",
    "bounds = [[2e-09, 9.8e-08], [2e-09, 9.8e-08], [2e-09, 9.8e-08], [2e-09, 9.8e-08], [12566370614.359173, 62831853071.79586]]\n",
    "\n",
    "# Initial cloud will be sampled +- around these values \n",
    "initial_spread = [5e-9, 5e-9, 5e-9, 5e-9, 5e6*2*np.pi]\n",
    "\n",
    "\n",
    "opt_params = {}\n",
    "opt_params['values'] = values\n",
    "opt_params['bounds'] = bounds\n",
    "\n",
    "\n",
    "# specify additional options for the optimizer module\n",
    "# i.e. see http://cma.gforge.inria.fr/apidocs-pycma/cma.evolution_strategy.CMAEvolutionStrategy.html\n",
    "opt_settings = {\n",
    "    'CMA_stds': initial_spread,\n",
    "    'ftarget' : 1e-4,\n",
    "    'popsize' : 5\n",
    "}"
   ]
  },
  {
   "cell_type": "code",
   "execution_count": null,
   "metadata": {},
   "outputs": [],
   "source": [
    "optim = Optimizer()\n",
    "optim.cmaes(\n",
    "    opt_params = opt_params,\n",
    "    settings = opt_settings,\n",
    "    eval_func = evaluate_samples_dbg,\n",
    "    signals=None\n",
    ")"
   ]
  }
 ],
 "metadata": {
  "kernelspec": {
   "display_name": "Python 3",
   "language": "python",
   "name": "python3"
  },
  "language_info": {
   "codemirror_mode": {
    "name": "ipython",
    "version": 3
   },
   "file_extension": ".py",
   "mimetype": "text/x-python",
   "name": "python",
   "nbconvert_exporter": "python",
   "pygments_lexer": "ipython3",
   "version": "3.7.3"
  },
  "varInspector": {
   "cols": {
    "lenName": 16,
    "lenType": 16,
    "lenVar": 40
   },
   "kernels_config": {
    "python": {
     "delete_cmd_postfix": "",
     "delete_cmd_prefix": "del ",
     "library": "var_list.py",
     "varRefreshCmd": "print(var_dic_list())"
    },
    "r": {
     "delete_cmd_postfix": ") ",
     "delete_cmd_prefix": "rm(",
     "library": "var_list.r",
     "varRefreshCmd": "cat(var_dic_list()) "
    }
   },
   "types_to_exclude": [
    "module",
    "function",
    "builtin_function_or_method",
    "instance",
    "_Feature"
   ],
   "window_display": true
  }
 },
 "nbformat": 4,
 "nbformat_minor": 2
}
