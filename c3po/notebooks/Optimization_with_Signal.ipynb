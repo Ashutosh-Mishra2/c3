{
 "cells": [
  {
   "cell_type": "markdown",
   "metadata": {},
   "source": [
    "# Import and definitions"
   ]
  },
  {
   "cell_type": "code",
   "execution_count": 1,
   "metadata": {},
   "outputs": [
    {
     "ename": "ImportError",
     "evalue": "cannot import name 'IQ' from 'c3po.signals.signal' (/localdisk/nwittler/repos/c3po/c3po/signals/signal.py)",
     "output_type": "error",
     "traceback": [
      "\u001b[0;31m---------------------------------------------------------------------------\u001b[0m",
      "\u001b[0;31mImportError\u001b[0m                               Traceback (most recent call last)",
      "\u001b[0;32m<ipython-input-1-00acb3f75ae3>\u001b[0m in \u001b[0;36m<module>\u001b[0;34m\u001b[0m\n\u001b[1;32m      9\u001b[0m \u001b[0;32mfrom\u001b[0m \u001b[0mc3po\u001b[0m\u001b[0;34m.\u001b[0m\u001b[0msignals\u001b[0m\u001b[0;34m.\u001b[0m\u001b[0menvelopes\u001b[0m \u001b[0;32mimport\u001b[0m \u001b[0;34m*\u001b[0m\u001b[0;34m\u001b[0m\u001b[0;34m\u001b[0m\u001b[0m\n\u001b[1;32m     10\u001b[0m \u001b[0;32mfrom\u001b[0m \u001b[0mc3po\u001b[0m\u001b[0;34m.\u001b[0m\u001b[0msignals\u001b[0m\u001b[0;34m.\u001b[0m\u001b[0mcomponent\u001b[0m \u001b[0;32mimport\u001b[0m \u001b[0mComponent\u001b[0m \u001b[0;32mas\u001b[0m \u001b[0mComp\u001b[0m\u001b[0;34m\u001b[0m\u001b[0;34m\u001b[0m\u001b[0m\n\u001b[0;32m---> 11\u001b[0;31m \u001b[0;32mfrom\u001b[0m \u001b[0mc3po\u001b[0m\u001b[0;34m.\u001b[0m\u001b[0msignals\u001b[0m\u001b[0;34m.\u001b[0m\u001b[0msignal\u001b[0m \u001b[0;32mimport\u001b[0m \u001b[0mIQ\u001b[0m \u001b[0;32mas\u001b[0m \u001b[0mIQ\u001b[0m\u001b[0;34m\u001b[0m\u001b[0;34m\u001b[0m\u001b[0m\n\u001b[0m\u001b[1;32m     12\u001b[0m \u001b[0;34m\u001b[0m\u001b[0m\n\u001b[1;32m     13\u001b[0m \u001b[0;32mfrom\u001b[0m \u001b[0mc3po\u001b[0m\u001b[0;34m.\u001b[0m\u001b[0moptimizer\u001b[0m\u001b[0;34m.\u001b[0m\u001b[0moptimizer\u001b[0m \u001b[0;32mimport\u001b[0m \u001b[0mOptimizer\u001b[0m \u001b[0;32mas\u001b[0m \u001b[0mOptimizer\u001b[0m\u001b[0;34m\u001b[0m\u001b[0;34m\u001b[0m\u001b[0m\n",
      "\u001b[0;31mImportError\u001b[0m: cannot import name 'IQ' from 'c3po.signals.signal' (/localdisk/nwittler/repos/c3po/c3po/signals/signal.py)"
     ]
    }
   ],
   "source": [
    "# Jupyter Notebook \n",
    "from IPython.display import clear_output\n",
    "\n",
    "# Additional utils\n",
    "import numpy as np\n",
    "import pprint\n",
    "\n",
    "# c3 Imports\n",
    "from c3po.signals.envelopes import *\n",
    "from c3po.signals.component import Component as Comp\n",
    "from c3po.signals.signal import IQ as IQ\n",
    "\n",
    "from c3po.optimizer.optimizer import Optimizer as Optimizer"
   ]
  },
  {
   "cell_type": "markdown",
   "metadata": {},
   "source": [
    "# Specify Initial Signal/Pulse and Bounds\n",
    "\n",
    "### Initialize and set parameters + bounds of Components of the Signal/Pulse"
   ]
  },
  {
   "cell_type": "code",
   "execution_count": 2,
   "metadata": {},
   "outputs": [
    {
     "ename": "TypeError",
     "evalue": "__init__() got an unexpected keyword argument 'shape'",
     "output_type": "error",
     "traceback": [
      "\u001b[0;31m---------------------------------------------------------------------------\u001b[0m",
      "\u001b[0;31mTypeError\u001b[0m                                 Traceback (most recent call last)",
      "\u001b[0;32m<ipython-input-2-a68eb860e408>\u001b[0m in \u001b[0;36m<module>\u001b[0;34m\u001b[0m\n\u001b[1;32m     47\u001b[0m     \u001b[0mshape\u001b[0m \u001b[0;34m=\u001b[0m \u001b[0mmy_flattop\u001b[0m\u001b[0;34m,\u001b[0m\u001b[0;34m\u001b[0m\u001b[0;34m\u001b[0m\u001b[0m\n\u001b[1;32m     48\u001b[0m     \u001b[0mparams\u001b[0m \u001b[0;34m=\u001b[0m \u001b[0mflattop_params\u001b[0m\u001b[0;34m,\u001b[0m\u001b[0;34m\u001b[0m\u001b[0;34m\u001b[0m\u001b[0m\n\u001b[0;32m---> 49\u001b[0;31m     \u001b[0mbounds\u001b[0m \u001b[0;34m=\u001b[0m \u001b[0mflattop_bounds\u001b[0m\u001b[0;34m\u001b[0m\u001b[0;34m\u001b[0m\u001b[0m\n\u001b[0m\u001b[1;32m     50\u001b[0m )\n\u001b[1;32m     51\u001b[0m \u001b[0;34m\u001b[0m\u001b[0m\n",
      "\u001b[0;31mTypeError\u001b[0m: __init__() got an unexpected keyword argument 'shape'"
     ]
    }
   ],
   "source": [
    "flattop_params = {\n",
    "    'amp' : 15e6 * 2 * np.pi,\n",
    "    'T_up' : 5e-9,\n",
    "    'T_down' : 45e-9,\n",
    "    'xy_angle' : 0,\n",
    "    'freq_offset' : 0e6 * 2 * np.pi\n",
    "}\n",
    "\n",
    "flattop_bounds = {\n",
    "    'amp': [1e3*2*np.pi, 1e9*2*np.pi],\n",
    "    'T_up': [2e-9, 200e-9],\n",
    "    'T_down': [2e-9, 200e-9],\n",
    "    'xy_angle': [-np.pi, np.pi],\n",
    "    'freq_offset': [-1e9*2*np.pi, 1e9*2*np.pi]\n",
    "}\n",
    "\n",
    "drag_params = {\n",
    "    'amp' : 3e6 * 2 * np.pi,\n",
    "    'T_up' : 25e-9,\n",
    "    'T_down' : 30e-9,\n",
    "    'xy_angle' : np.pi / 2.0,\n",
    "    'freq_offset' : 0e6 * 2 * np.pi\n",
    "}\n",
    "\n",
    "drag_bounds = {\n",
    "    'amp': [1e3*2*np.pi, 1e9*2*np.pi],\n",
    "    'T_up': [2e-9, 200e-9],\n",
    "    'T_down': [2e-9, 200e-9],\n",
    "    'xy_angle': [-np.pi, np.pi],\n",
    "    'freq_offset': [-1e9*2*np.pi, 1e9*2*np.pi]\n",
    "}\n",
    "\n",
    "carrier_parameters = {\n",
    "    'freq' : 6e9 * 2 * np.pi\n",
    "}\n",
    "\n",
    "\n",
    "def my_flattop(t, params):\n",
    "    t_up = params['T_up']\n",
    "    t_down = params['T_down']\n",
    "    return flattop(t, t_up, t_down)\n",
    "\n",
    "\n",
    "# Component 1 of the signal\n",
    "flat = Comp(\n",
    "    desc = \"pulse1\",\n",
    "    shape = my_flattop,\n",
    "    params = flattop_params,\n",
    "    bounds = flattop_bounds\n",
    ")\n",
    "\n",
    "# Each component has a Universally unique identifier (UUID) that identifies/represents the instance of the object\n",
    "print(\"flat uuid: \" + str(flat.get_uuid()))\n",
    "\n",
    "# Component 2 of the signal\n",
    "drag = Comp(\n",
    "    desc = \"pulse2\",\n",
    "    shape = my_flattop,\n",
    "    params = drag_params,\n",
    "    bounds = drag_bounds\n",
    ")\n",
    "\n",
    "# Each component has a Universally unique identifier (UUID) that identifies/represents the instance of the object\n",
    "print(\"drag uuid: \" + str(drag.get_uuid()))\n",
    "\n",
    "# Component 3 of the signal; the carrier doesn't have a shape only parameters\n",
    "carr = Comp(\n",
    "    desc = \"carrier\",\n",
    "    params = carrier_parameters\n",
    ")\n",
    "\n",
    "# Each component has a Universally unique identifier (UUID) that identifies/represents the instance of the object\n",
    "print(\"carr uuid: \" + str(carr.get_uuid()))"
   ]
  },
  {
   "cell_type": "markdown",
   "metadata": {},
   "source": [
    "### Build Signal with Components "
   ]
  },
  {
   "cell_type": "code",
   "execution_count": null,
   "metadata": {},
   "outputs": [],
   "source": [
    "comps = []\n",
    "comps.append(carr)\n",
    "comps.append(flat)\n",
    "comps.append(drag)"
   ]
  },
  {
   "cell_type": "code",
   "execution_count": null,
   "metadata": {},
   "outputs": [],
   "source": [
    "sig = IQ()\n",
    "sig.t_start = 0\n",
    "sig.t_end = 150e-9\n",
    "sig.res = [1e9, 1e12]\n",
    "\n",
    "sig.calc_slice_num()\n",
    "sig.create_ts()\n",
    "\n",
    "sig.comps = comps\n",
    "\n",
    "sig.save_params_to_history(\"initial\")"
   ]
  },
  {
   "cell_type": "code",
   "execution_count": null,
   "metadata": {
    "scrolled": true
   },
   "outputs": [],
   "source": [
    "pprint.pprint(sig.get_parameters())"
   ]
  },
  {
   "cell_type": "code",
   "execution_count": null,
   "metadata": {
    "scrolled": true
   },
   "outputs": [],
   "source": [
    "#sig.plot_IQ_components()"
   ]
  },
  {
   "cell_type": "code",
   "execution_count": null,
   "metadata": {
    "scrolled": true
   },
   "outputs": [],
   "source": [
    "#sig.plot_fft_IQ_components()"
   ]
  },
  {
   "cell_type": "code",
   "execution_count": null,
   "metadata": {
    "scrolled": true
   },
   "outputs": [],
   "source": [
    "sig.plot_signal()"
   ]
  },
  {
   "cell_type": "code",
   "execution_count": null,
   "metadata": {},
   "outputs": [],
   "source": [
    "#sig.plot_fft_signal()"
   ]
  },
  {
   "cell_type": "markdown",
   "metadata": {},
   "source": [
    "# Calibration"
   ]
  },
  {
   "cell_type": "code",
   "execution_count": null,
   "metadata": {},
   "outputs": [],
   "source": [
    "optim = Optimizer()"
   ]
  },
  {
   "cell_type": "code",
   "execution_count": null,
   "metadata": {},
   "outputs": [],
   "source": [
    "opt_map = {\n",
    "    'amp' : [(sig.get_uuid(), flat.get_uuid()), (sig.get_uuid(), drag.get_uuid())],\n",
    "    'T_up' : [(sig.get_uuid(), flat.get_uuid()), (sig.get_uuid(), drag.get_uuid())],\n",
    "    'T_down' : [(sig.get_uuid(), flat.get_uuid()), (sig.get_uuid(), drag.get_uuid())],\n",
    "    'xy_angle': [(sig.get_uuid(), flat.get_uuid()), (sig.get_uuid(), drag.get_uuid())],\n",
    "    'freq_offset': [(sig.get_uuid(), flat.get_uuid())]\n",
    "}"
   ]
  },
  {
   "cell_type": "code",
   "execution_count": null,
   "metadata": {
    "scrolled": false
   },
   "outputs": [],
   "source": [
    "pprint.pprint(opt_map)"
   ]
  },
  {
   "cell_type": "code",
   "execution_count": null,
   "metadata": {},
   "outputs": [],
   "source": [
    "opt_params = optim.get_corresponding_signal_parameters([sig], opt_map)"
   ]
  },
  {
   "cell_type": "code",
   "execution_count": null,
   "metadata": {},
   "outputs": [],
   "source": [
    "pprint.pprint(opt_params)"
   ]
  },
  {
   "cell_type": "code",
   "execution_count": null,
   "metadata": {},
   "outputs": [],
   "source": [
    "initial_spread = [ 5e6*2*np.pi, 5e6*2*np.pi, 5e-9, 5e-9, 5e-9, 5e-9, 0.1, 0.1, 20e6*2*np.pi]\n",
    "\n",
    "opt_settings = {\n",
    "    'CMA_stds': initial_spread,\n",
    "    'ftarget' : 1e-4,\n",
    "    'popsize' : 5\n",
    "}"
   ]
  },
  {
   "cell_type": "code",
   "execution_count": null,
   "metadata": {},
   "outputs": [],
   "source": [
    "import random\n",
    "\n",
    "def evaluate_signals(samples_rescaled):\n",
    "#     print(samples_rescaled)\n",
    "#     i = 0\n",
    "#     for sample in samples_rescaled:\n",
    "#         sample.plot_signal()\n",
    "#         print(\"sample: \" + str(i))\n",
    "#         i += 1\n",
    "    return [random.uniform(0, 1), random.uniform(0, 1), random.uniform(0, 1), random.uniform(0, 1), random.uniform(0, 1)]"
   ]
  },
  {
   "cell_type": "code",
   "execution_count": null,
   "metadata": {},
   "outputs": [],
   "source": [
    "optim = Optimizer()"
   ]
  },
  {
   "cell_type": "code",
   "execution_count": null,
   "metadata": {},
   "outputs": [],
   "source": [
    "optim.optimize_signal(\n",
    "    signals = [sig],\n",
    "    opt_map = opt_map,\n",
    "    opt = 'cmaes',\n",
    "    settings = opt_settings,\n",
    "    calib_name = 'test',\n",
    "    eval_func = evaluate_signals\n",
    "    )"
   ]
  },
  {
   "cell_type": "code",
   "execution_count": null,
   "metadata": {},
   "outputs": [],
   "source": [
    "pprint.pprint(sig.get_history())"
   ]
  }
 ],
 "metadata": {
  "kernelspec": {
   "display_name": "Python 3",
   "language": "python",
   "name": "python3"
  },
  "varInspector": {
   "cols": {
    "lenName": 16,
    "lenType": 16,
    "lenVar": 40
   },
   "kernels_config": {
    "python": {
     "delete_cmd_postfix": "",
     "delete_cmd_prefix": "del ",
     "library": "var_list.py",
     "varRefreshCmd": "print(var_dic_list())"
    },
    "r": {
     "delete_cmd_postfix": ") ",
     "delete_cmd_prefix": "rm(",
     "library": "var_list.r",
     "varRefreshCmd": "cat(var_dic_list()) "
    }
   },
   "types_to_exclude": [
    "module",
    "function",
    "builtin_function_or_method",
    "instance",
    "_Feature"
   ],
   "window_display": true
  }
 },
 "nbformat": 4,
 "nbformat_minor": 2
}
