{
 "cells": [
  {
   "cell_type": "markdown",
   "metadata": {},
   "source": [
    "# Config"
   ]
  },
  {
   "cell_type": "code",
   "execution_count": 1,
   "metadata": {
    "ExecuteTime": {
     "end_time": "2019-11-06T00:56:47.821826Z",
     "start_time": "2019-11-06T00:56:47.218734Z"
    }
   },
   "outputs": [],
   "source": [
    "import matplotlib.pyplot as plt\n",
    "import numpy as np\n",
    "import scipy as sp\n",
    "from scipy.optimize import minimize as scipy_optimize_minimize\n",
    "import inspect\n",
    "import time\n",
    "\n",
    "from pprint import pprint as pprint"
   ]
  },
  {
   "cell_type": "code",
   "execution_count": 2,
   "metadata": {
    "ExecuteTime": {
     "end_time": "2019-11-06T00:56:47.826814Z",
     "start_time": "2019-11-06T00:56:47.823823Z"
    }
   },
   "outputs": [],
   "source": [
    "do_test = True"
   ]
  },
  {
   "cell_type": "markdown",
   "metadata": {},
   "source": [
    "# Goal functions (models)"
   ]
  },
  {
   "cell_type": "markdown",
   "metadata": {
    "ExecuteTime": {
     "end_time": "2019-11-04T13:37:54.637582Z",
     "start_time": "2019-11-04T13:37:54.633591Z"
    }
   },
   "source": [
    "## Rosenbrock"
   ]
  },
  {
   "cell_type": "code",
   "execution_count": 3,
   "metadata": {
    "ExecuteTime": {
     "end_time": "2019-11-06T00:56:47.836786Z",
     "start_time": "2019-11-06T00:56:47.827811Z"
    }
   },
   "outputs": [],
   "source": [
    "def rosenbrock(p, x): \n",
    "    if np.isnan(x[0]): # In this case return the minimum\n",
    "        return np.ones(x.shape)\n",
    "    else:\n",
    "        return 42 + sum(p[0]*((x[1:] - x[:-1]**2.0)**2.0) + (p[1] - x[:-1])**2.0)\n",
    "\n",
    "def rosenbrock_and_grad_f(p,x):\n",
    "    y_shift = 42 # We should not assume minimum is at 0\n",
    "    y = y_shift + sum(p[0]*((x[1:] - x[:-1]**2.0)**2.0) + (p[1] - x[:-1])**2.0)\n",
    "    dy_dp = np.array([sum((x[1:] - x[:-1]**2.0)**2.0), sum(2*(p[1] - x[:-1]))])\n",
    "    return y, dy_dp"
   ]
  },
  {
   "cell_type": "code",
   "execution_count": 4,
   "metadata": {
    "ExecuteTime": {
     "end_time": "2019-11-06T00:56:47.853746Z",
     "start_time": "2019-11-06T00:56:47.839778Z"
    }
   },
   "outputs": [
    {
     "name": "stdout",
     "output_type": "stream",
     "text": [
      "f(x): 44.0\n",
      "f_and_grad(p_true,x): (44.0, array([0., 4.]))\n",
      "noisy_f(x, noise_level): 45.0456024594339\n",
      "\n",
      "f1:             497551.36279999994\n",
      "df_dp:          [4783.    -18.28]\n",
      "df_dp_fin_diff: [4783.00004033  -18.2800286 ]\n",
      "rel_err:        1.0337300167897221e-08\n"
     ]
    }
   ],
   "source": [
    "\n",
    "if do_test:\n",
    "    p_true = np.array([100,1])\n",
    "\n",
    "    f = lambda x_: rosenbrock(p_true,x_)\n",
    "    f_and_grad = lambda p_,x_: rosenbrock_and_grad_f(p_,x_)\n",
    "    noisy_f = lambda x,noise_level: (1 + noise_level*np.random.random()) * f(x)\n",
    "    \n",
    "    noise_level = 0.03\n",
    "    x = np.array([0,0,0])\n",
    "    print(f\"f(x): {f(x)}\")\n",
    "    print(f\"f_and_grad(p_true,x): {f_and_grad(p_true,x)}\")\n",
    "    print(f\"noisy_f(x, noise_level): {noisy_f(x, noise_level)}\\n\")\n",
    "\n",
    "    p1 = np.array([104,0.98])\n",
    "    dp = 1e-6 * np.array([1,-4])\n",
    "    xx = np.array([1,6,8,1,0,0,0,2])\n",
    "    f1,df_dp = f_and_grad(p1,xx)\n",
    "    df_dp_fin_diff = 0 * df_dp\n",
    "    for k in range(len(p1)):\n",
    "        p2 = p1.copy()\n",
    "        p2[k] += dp[k]\n",
    "        f2,df_dp2 = f_and_grad(p2,xx)\n",
    "        df_dp_fin_diff[k] = (f2-f1)/dp[k]\n",
    "\n",
    "    print(f\"f1:             {f1}\")\n",
    "    print(f\"df_dp:          {df_dp}\")\n",
    "    print(f\"df_dp_fin_diff: {df_dp_fin_diff}\")\n",
    "    \n",
    "    rel_err = np.linalg.norm(df_dp - df_dp_fin_diff) / np.linalg.norm(df_dp_fin_diff)\n",
    "    print(f\"rel_err:        {rel_err}\")\n",
    "    assert rel_err < 1e-6, \"Gradient relative error too big. Please debug.\"\n"
   ]
  },
  {
   "cell_type": "markdown",
   "metadata": {},
   "source": [
    "# Optimization helper functions"
   ]
  },
  {
   "cell_type": "code",
   "execution_count": 5,
   "metadata": {
    "ExecuteTime": {
     "end_time": "2019-11-06T00:56:47.861767Z",
     "start_time": "2019-11-06T00:56:47.857731Z"
    }
   },
   "outputs": [],
   "source": [
    "def post_process_search_logger(the_log):\n",
    "    Z = {}\n",
    "    if the_log is None or len(the_log) == 0: return Z\n",
    "    for key in the_log[0]:\n",
    "        Z[key] = [the_log[0][key]]\n",
    "    for k in range(1,len(the_log)):\n",
    "        for key in the_log[k]:\n",
    "            Z[key].append(the_log[k][key])\n",
    "    return Z\n",
    "\n",
    "search_logger = []"
   ]
  },
  {
   "cell_type": "code",
   "execution_count": 6,
   "metadata": {
    "ExecuteTime": {
     "end_time": "2019-11-06T00:56:47.873690Z",
     "start_time": "2019-11-06T00:56:47.863715Z"
    }
   },
   "outputs": [],
   "source": [
    "def minibatch_loss_model_and_grad_wrapper_f(f_model_and_grad_f, f, Xs,Ys,true_Ys, batch_size, p):\n",
    "    ks = np.random.choice(len(Ys),size=(batch_size,))\n",
    "    ks = list(range(batch_size))\n",
    "    loss = 0\n",
    "    noiseless_loss = 0\n",
    "    dloss_dp = np.zeros(shape=p.shape)\n",
    "    for k in ks:\n",
    "        y, dy_dp = f_model_and_grad_f(p,Xs[k,:])        \n",
    "        loss += (y-Ys[k])**2\n",
    "        dloss_dp += 2 * (y-Ys[k]) * dy_dp\n",
    "        \n",
    "        noiseless_y = f(p, Xs[k,:])        \n",
    "        noiseless_loss += (noiseless_y - true_Ys[k])**2\n",
    "        \n",
    "    loss = loss / batch_size\n",
    "    dloss_dp = dloss_dp / batch_size\n",
    "    loss = np.sqrt(loss)\n",
    "    if loss == 0:\n",
    "        dloss_dp = 0\n",
    "    else:\n",
    "        dloss_dp = dloss_dp / (2*loss)\n",
    "    \n",
    "    noiseless_loss = np.sqrt(noiseless_loss  / batch_size)\n",
    "    search_logger.append ({'p': p, 'loss': loss, 'noiseless_loss':noiseless_loss})\n",
    "\n",
    "    return loss, dloss_dp"
   ]
  },
  {
   "cell_type": "code",
   "execution_count": 7,
   "metadata": {
    "ExecuteTime": {
     "end_time": "2019-11-06T00:56:48.291346Z",
     "start_time": "2019-11-06T00:56:47.874721Z"
    }
   },
   "outputs": [
    {
     "name": "stdout",
     "output_type": "stream",
     "text": [
      "loss:     [11910.90219738]\n",
      "dloss_dp: [118.73695303  71.82550904]\n",
      "\n",
      "f1:             [9235.22885997]\n",
      "df_dp:          [88.40404466 40.19517861]\n",
      "df_dp_fin_diff: [88.40404735 40.19509379]\n",
      "rel_err:        8.738618365645482e-07\n"
     ]
    }
   ],
   "source": [
    "if do_test:\n",
    "    batch_size = 32\n",
    "\n",
    "    N = 7700\n",
    "    D = 25\n",
    "    r = 1 # radius of points\n",
    "    noise_level = 1e-13\n",
    "\n",
    "    p_true = np.array([100,1])\n",
    "\n",
    "    f = lambda p_,x_: rosenbrock(p_,x_)\n",
    "\n",
    "    f = lambda p_,x_: rosenbrock(p_,x_)\n",
    "    f_and_grad = lambda p_,x_: rosenbrock_and_grad_f(p_,x_)\n",
    "\n",
    "    true_f = lambda x_: f(p_true,x_)\n",
    "    x_true_minimum = true_f(np.nan*np.zeros((D,1)))\n",
    "    f_true_minimum = true_f(x_true_minimum)\n",
    "    \n",
    "    noisy_true_f = lambda x_,noise_level_: (1 + noise_level_*np.random.random()) * (true_f(x) - f_true_minimum) + f_true_minimum\n",
    "\n",
    "    Xs = r * np.random.normal(size=(N,D))\n",
    "    Ys = np.zeros(shape=(N,1))\n",
    "    true_Ys = np.zeros(shape=(N,1))\n",
    "    for n in range(N): \n",
    "        true_Ys[n]=true_f(Xs[n,:])\n",
    "        Ys[n]=noisy_true_f(Xs[n,:],noise_level)\n",
    "    \n",
    "    p0 = p_true + np.random.normal(size=p_true.shape)\n",
    "    loss, dloss_dp = minibatch_loss_model_and_grad_wrapper_f(f_and_grad, f, Xs,Ys, true_Ys, batch_size, p0)\n",
    "    print(f\"loss:     {loss}\")\n",
    "    print(f\"dloss_dp: {dloss_dp}\\n\")\n",
    "\n",
    "    batch_size = 4\n",
    "    fff = lambda p_: minibatch_loss_model_and_grad_wrapper_f(f_and_grad, f, Xs,Ys, true_Ys, batch_size, p_)\n",
    "    p1 = np.array([104,0.97])\n",
    "    dp = 1e-6 * np.array([1,-4])\n",
    "    f1,df_dp = fff(p1)\n",
    "    df_dp_fin_diff = 0 * df_dp\n",
    "    for k in range(len(p1)):\n",
    "        p2 = p1.copy()\n",
    "        p2[k] += dp[k]\n",
    "        f2,df_dp2 = fff(p2)\n",
    "        df_dp_fin_diff[k] = (f2-f1)/dp[k]\n",
    "\n",
    "    print(f\"f1:             {f1}\")\n",
    "    print(f\"df_dp:          {df_dp}\")\n",
    "    print(f\"df_dp_fin_diff: {df_dp_fin_diff}\")\n",
    "    \n",
    "    rel_err = np.linalg.norm(df_dp - df_dp_fin_diff) / np.linalg.norm(df_dp_fin_diff)\n",
    "    print(f\"rel_err:        {rel_err}\")\n",
    "    assert rel_err < 1e-5, \"Gradient relative error too big. Please debug.\""
   ]
  },
  {
   "cell_type": "markdown",
   "metadata": {},
   "source": [
    "# Optimization algorithms"
   ]
  },
  {
   "cell_type": "markdown",
   "metadata": {
    "ExecuteTime": {
     "end_time": "2019-11-04T13:59:47.950228Z",
     "start_time": "2019-11-04T13:59:47.946270Z"
    }
   },
   "source": [
    "## Gradient descent"
   ]
  },
  {
   "cell_type": "code",
   "execution_count": 8,
   "metadata": {
    "ExecuteTime": {
     "end_time": "2019-11-06T00:56:48.298294Z",
     "start_time": "2019-11-06T00:56:48.293307Z"
    }
   },
   "outputs": [],
   "source": [
    "def gradient_descent(loss_and_grad_func, p0, learning_rate=0.01,func_call_budget=10,stopping_func=None):    \n",
    "    p = p0.copy() # Better safe than sorry\n",
    "    \n",
    "    for k in range(func_call_budget):\n",
    "        loss, loss_grad = loss_and_grad_func(p)\n",
    "        \n",
    "        if stopping_func is not None:\n",
    "            if stopping_func(k_iter, p, loss, loss_grad):\n",
    "                return p\n",
    "        \n",
    "        p = p - learning_rate * loss_grad\n",
    "    return p\n",
    "\n"
   ]
  },
  {
   "cell_type": "markdown",
   "metadata": {},
   "source": [
    "## Adam\n",
    "\n",
    "Taken from: https://gluon.mxnet.io/chapter06_optimization/adam-scratch.html"
   ]
  },
  {
   "cell_type": "code",
   "execution_count": 9,
   "metadata": {
    "ExecuteTime": {
     "end_time": "2019-11-06T00:56:48.315288Z",
     "start_time": "2019-11-06T00:56:48.300289Z"
    }
   },
   "outputs": [],
   "source": [
    "# Adam.\n",
    "# Adapted from: https://gluon.mxnet.io/chapter06_optimization/adam-scratch.html\n",
    "\n",
    "def Adam_update(p, grad, vs, sqrs, k_iter, alpha=0.1, beta1 = 0.9, beta2 = 0.999, eps_stable = 1e-8):\n",
    "    if k_iter == 0:\n",
    "        vs   = eps_stable * np.ones(len(p))\n",
    "        sqrs = eps_stable * np.ones(len(p))\n",
    "\n",
    "    for k in range(len(p)):\n",
    "        vs[k]   = beta1 * vs[k]    + (1 - beta1) * grad[k]\n",
    "        sqrs[k] = beta2 * sqrs[k]  + (1 - beta2) * np.square(grad[k])\n",
    "\n",
    "        v_bias_corr   = vs[k]   / (1 - beta1 ** (k_iter+1)) # Here we want to count from 1\n",
    "        sqr_bias_corr = sqrs[k] / (1 - beta2 ** (k_iter+1)) # but Python natively counts form 0\n",
    "\n",
    "        div  = v_bias_corr / (np.sqrt(sqr_bias_corr) + eps_stable)\n",
    "        p[k] = p[k] - alpha * div\n",
    "        \n",
    "    return p,vs,sqrs\n",
    "        \n",
    "        \n",
    "def Adam(loss_and_grad_func, p0, \n",
    "         func_call_budget=10, \n",
    "         alpha=0.1, beta1 = 0.9, beta2 = 0.999, eps_stable = 1e-8, \n",
    "         stopping_func=None):    \n",
    "    \n",
    "    p = p0.copy() # Better safe than sorry\n",
    "    vs = []\n",
    "    sqrs = []\n",
    "    for k_iter in range(func_call_budget):        \n",
    "        loss, loss_grad = loss_and_grad_func(p)\n",
    "        \n",
    "        if stopping_func is not None:\n",
    "            if stopping_func(k_iter, p, loss, loss_grad):\n",
    "                return p\n",
    "            \n",
    "        new_p, vs, sqrs = Adam_update(p, loss_grad, vs, sqrs, k_iter, alpha,beta1,beta2,eps_stable)\n",
    "        p = new_p\n",
    "        \n",
    "    return p\n",
    "     "
   ]
  },
  {
   "cell_type": "markdown",
   "metadata": {},
   "source": [
    "# Compare optimization algorithms"
   ]
  },
  {
   "cell_type": "markdown",
   "metadata": {},
   "source": [
    "## Config"
   ]
  },
  {
   "cell_type": "code",
   "execution_count": 10,
   "metadata": {
    "ExecuteTime": {
     "end_time": "2019-11-06T00:56:48.322229Z",
     "start_time": "2019-11-06T00:56:48.317245Z"
    }
   },
   "outputs": [],
   "source": [
    "N = 7700\n",
    "D = 2\n",
    "r = 1 # radius of points\n",
    "total_budget = 100_000\n",
    "\n",
    "batch_size = 20\n",
    "\n",
    "noise_level = 1e-3\n",
    "\n",
    "p_true = np.array([100,1])\n",
    "\n",
    "f = lambda p_,x_: rosenbrock(p_,x_)\n",
    "f_and_grad = lambda p_,x_: rosenbrock_and_grad_f(p_,x_)\n"
   ]
  },
  {
   "cell_type": "markdown",
   "metadata": {},
   "source": [
    "## Prep data"
   ]
  },
  {
   "cell_type": "code",
   "execution_count": 11,
   "metadata": {
    "ExecuteTime": {
     "end_time": "2019-11-06T00:56:48.608496Z",
     "start_time": "2019-11-06T00:56:48.323226Z"
    }
   },
   "outputs": [
    {
     "name": "stdout",
     "output_type": "stream",
     "text": [
      "p_true:  [100   1]\n",
      "p0:      [104.44467957  -0.19125302]\n"
     ]
    }
   ],
   "source": [
    "true_f = lambda x_: f(p_true,x_)\n",
    "x_true_minimum = true_f(np.nan*np.zeros((D,1)))\n",
    "f_true_minimum = true_f(x_true_minimum)\n",
    "noisy_f = lambda x,noise_level_: (1 + noise_level_*np.random.random()) * (true_f(x) - f_true_minimum) + f_true_minimum\n",
    "\n",
    "Xs = r * np.random.normal(size=(N,D))\n",
    "Ys = np.zeros(shape=(N,1))\n",
    "true_Ys = np.zeros(shape=(N,1))\n",
    "for n in range(N): \n",
    "    true_Ys[n] = true_f(Xs[n,:])\n",
    "    Ys[n]=noisy_f(Xs[n,:],noise_level)\n",
    "    \n",
    "    \n",
    "p0 = p_true + 5 * np.random.normal(size=p_true.shape)\n",
    "\n",
    "loss_and_grad_func = lambda p_: minibatch_loss_model_and_grad_wrapper_f(\n",
    "    f_and_grad, f, Xs,Ys, true_Ys, batch_size, p_)\n",
    "tmp_loss, tmp_grad = loss_and_grad_func(p0) # Just testing the call works\n",
    "\n",
    "print(f\"p_true:  {p_true}\")\n",
    "print(f\"p0:      {p0}\")\n",
    "\n",
    "\n",
    "loss_history = {}"
   ]
  },
  {
   "cell_type": "markdown",
   "metadata": {
    "slideshow": {
     "slide_type": "fragment"
    }
   },
   "source": [
    "## SGD (Stochastic) GD"
   ]
  },
  {
   "cell_type": "code",
   "execution_count": 12,
   "metadata": {
    "ExecuteTime": {
     "end_time": "2019-11-06T00:57:11.871271Z",
     "start_time": "2019-11-06T00:56:48.609461Z"
    }
   },
   "outputs": [
    {
     "name": "stdout",
     "output_type": "stream",
     "text": [
      "SGD(alpha=10^range(-4, 0))\n",
      "\n",
      "    p_true:  [100   1]\n",
      "    p0:      [104.44467957  -0.19125302]\n",
      "    SGD(alpha=10^-4) ... done in 5.595s\n",
      "        p_last:  [100.06605117   0.54229544] with loss 0.819\n",
      "    SGD(alpha=10^-3) ... done in 5.512s\n",
      "        p_last:  [100.05567615   0.98692182] with loss 1.08\n",
      "    SGD(alpha=10^-2) ... done in 6.215s\n",
      "        p_last:  [100.30942836   0.98890372] with loss 10.7\n",
      "    SGD(alpha=10^-1) ... done in 5.911s\n",
      "        p_last:  [98.15627177  1.46754282] with loss 89.9\n"
     ]
    }
   ],
   "source": [
    "alpha_range = range(-4,0)\n",
    "\n",
    "print(f\"SGD(alpha=10^{alpha_range})\\n\")\n",
    "print(f\"    p_true:  {p_true}\")\n",
    "print(f\"    p0:      {p0}\")\n",
    "\n",
    "for alpha_log10 in alpha_range:\n",
    "    alpha = 10**alpha_log10\n",
    "    search_method_name = f\"SGD(alpha=10^{alpha_log10})\"\n",
    "    print(f\"    {search_method_name} ... \", flush=True, end='')\n",
    "\n",
    "    t0=time.time()\n",
    "    search_logger = []\n",
    "    p_last = gradient_descent(loss_and_grad_func, p0, \n",
    "                              learning_rate=alpha,\n",
    "                              func_call_budget=total_budget//batch_size,\n",
    "                              stopping_func=None)\n",
    "    elapsed_t = time.time()-t0\n",
    "    print(f\"done in {elapsed_t:.3f}s\")\n",
    "\n",
    "    search_log = post_process_search_logger(search_logger)\n",
    "    loss_history[search_method_name] = search_log\n",
    "\n",
    "    print(f\"        p_last:  {search_log['p'][-1]} with loss {(search_log['loss'][-1][0]):.3g}\")"
   ]
  },
  {
   "cell_type": "markdown",
   "metadata": {},
   "source": [
    "## L-BFGS-B (from scipy)"
   ]
  },
  {
   "cell_type": "code",
   "execution_count": 13,
   "metadata": {
    "ExecuteTime": {
     "end_time": "2019-11-06T00:57:11.976991Z",
     "start_time": "2019-11-06T00:57:11.873267Z"
    }
   },
   "outputs": [
    {
     "name": "stdout",
     "output_type": "stream",
     "text": [
      "scipy(L-BFGS-B) ... done in 0.094s\n",
      "\n",
      "p_true:  [100   1]\n",
      "p0:      [104.44467957  -0.19125302]\n",
      "p_last:  [100.07867839   0.98624661] with loss 0.153\n"
     ]
    }
   ],
   "source": [
    "search_method_name = 'scipy(L-BFGS-B)'\n",
    "print(f\"{search_method_name} ... \", flush=True, end='')\n",
    "\n",
    "t0=time.time()\n",
    "search_logger = []\n",
    "opt_res = scipy_optimize_minimize(loss_and_grad_func, p0, method='L-BFGS-B', \n",
    "                                  jac=True, tol=1e-12, \n",
    "                                  options={'maxiter':total_budget//batch_size, 'disp':True})\n",
    "print(f\"done in {(time.time()-t0):.3f}s\\n\")\n",
    "\n",
    "search_log = post_process_search_logger(search_logger)\n",
    "loss_history[search_method_name] = search_log\n",
    "\n",
    "print(f\"p_true:  {p_true}\")\n",
    "print(f\"p0:      {p0}\")\n",
    "print(f\"p_last:  {search_log['p'][-1]} with loss {(search_log['loss'][-1][0]):.3g}\")"
   ]
  },
  {
   "cell_type": "markdown",
   "metadata": {},
   "source": [
    "## Adam"
   ]
  },
  {
   "cell_type": "code",
   "execution_count": 14,
   "metadata": {
    "ExecuteTime": {
     "end_time": "2019-11-06T00:57:40.568648Z",
     "start_time": "2019-11-06T00:57:11.980979Z"
    }
   },
   "outputs": [
    {
     "name": "stdout",
     "output_type": "stream",
     "text": [
      "Adam(alpha=10^range(-4, 1))\n",
      "\n",
      "    p_true:  [100   1]\n",
      "    p0:      [104.44467957  -0.19125302]\n",
      "    Adam(alpha=10^-4) ... done in 6.441s\n",
      "        p_last:  [103.94467836   0.29766664] with loss 181\n",
      "    Adam(alpha=10^-3) ... done in 5.628s\n",
      "        p_last:  [100.07867839   0.98624683] with loss 0.153\n",
      "    Adam(alpha=10^-2) ... done in 5.383s\n",
      "        p_last:  [100.07884453   0.98608856] with loss 0.153\n",
      "    Adam(alpha=10^-1) ... done in 5.563s\n",
      "        p_last:  [100.08131085   0.98365336] with loss 0.198\n",
      "    Adam(alpha=10^0) ... done in 5.542s\n",
      "        p_last:  [100.13786941   0.96440314] with loss 4.7\n"
     ]
    }
   ],
   "source": [
    "alpha_range = range(-4,1)\n",
    "\n",
    "print(f\"Adam(alpha=10^{alpha_range})\\n\")\n",
    "print(f\"    p_true:  {p_true}\")\n",
    "print(f\"    p0:      {p0}\")\n",
    "\n",
    "for alpha_log10 in alpha_range:\n",
    "    alpha = 10**alpha_log10\n",
    "    search_method_name = f\"Adam(alpha=10^{alpha_log10})\"\n",
    "    print(f\"    {search_method_name} ... \", flush=True, end='')\n",
    "\n",
    "    t0=time.time()\n",
    "    search_logger = []\n",
    "    p_last = Adam(loss_and_grad_func, p0, \n",
    "                  func_call_budget=total_budget//batch_size,\n",
    "                  alpha=alpha)\n",
    "    elapsed_t = time.time()-t0\n",
    "    print(f\"done in {elapsed_t:.3f}s\")\n",
    "\n",
    "    search_log = post_process_search_logger(search_logger)\n",
    "    loss_history[search_method_name] = search_log\n",
    "\n",
    "    print(f\"        p_last:  {search_log['p'][-1]} with loss {(search_log['loss'][-1][0]):.3g}\")      "
   ]
  },
  {
   "cell_type": "markdown",
   "metadata": {},
   "source": [
    "# Plot results"
   ]
  },
  {
   "cell_type": "code",
   "execution_count": 15,
   "metadata": {
    "ExecuteTime": {
     "end_time": "2019-11-06T00:57:41.508905Z",
     "start_time": "2019-11-06T00:57:40.569645Z"
    }
   },
   "outputs": [
    {
     "data": {
      "image/png": "[encoded data removed]",
      "text/plain": [
       "<Figure size 864x432 with 1 Axes>"
      ]
     },
     "metadata": {
      "needs_background": "light"
     },
     "output_type": "display_data"
    }
   ],
   "source": [
    "fig, ax = plt.subplots(figsize=(12,6))\n",
    "for key in loss_history:\n",
    "    label = key\n",
    "    losses = loss_history[key]['loss']\n",
    "    ax.loglog(np.array(list(range(1,1+len(losses))))*batch_size,losses, label=label)    \n",
    "x1,x2,y1,y2 = plt.axis()\n",
    "ax.set_xlim([batch_size,total_budget])\n",
    "ax.set_ylim([1e-2,y2])\n",
    "plt.ylabel('loss')\n",
    "plt.ylabel('num f calls')\n",
    "plt.grid(True)\n",
    "plt.legend(loc='lower left')\n",
    "plt.title ('Loss function progress in the search process')\n",
    "plt.show()\n",
    "\n",
    "if False:\n",
    "    fig, ax = plt.subplots(figsize=(12,6))\n",
    "    for key in loss_history:\n",
    "        label = key\n",
    "        noiseless_loss = loss_history[key]['noiseless_loss']\n",
    "        ax.loglog(np.array(list(range(1,1+len(noiseless_loss))))*batch_size,noiseless_loss, label=label)    \n",
    "    x1,x2,y1,y2 = plt.axis()\n",
    "    ax.set_xlim([batch_size,total_budget])\n",
    "    ax.set_ylim([1e-8,y2])\n",
    "    plt.ylabel('Noiseless loss')\n",
    "    plt.ylabel('num f calls')\n",
    "    plt.grid(True)\n",
    "    plt.legend(loc='lower left')\n",
    "    plt.title ('Noiseless loss function progress in the search process')\n",
    "    plt.show()"
   ]
  }
 ],
 "metadata": {
  "kernelspec": {
   "display_name": "Python 3",
   "language": "python",
   "name": "python3"
  },
  "language_info": {
   "codemirror_mode": {
    "name": "ipython",
    "version": 3
   },
   "file_extension": ".py",
   "mimetype": "text/x-python",
   "name": "python",
   "nbconvert_exporter": "python",
   "pygments_lexer": "ipython3",
   "version": "3.7.2"
  },
  "latex_envs": {
   "LaTeX_envs_menu_present": true,
   "autoclose": false,
   "autocomplete": true,
   "bibliofile": "biblio.bib",
   "cite_by": "apalike",
   "current_citInitial": 1,
   "eqLabelWithNumbers": true,
   "eqNumInitial": 1,
   "hotkeys": {
    "equation": "Ctrl-E",
    "itemize": "Ctrl-I"
   },
   "labels_anchors": false,
   "latex_user_defs": false,
   "report_style_numbering": false,
   "user_envs_cfg": false
  },
  "toc": {
   "base_numbering": 1,
   "nav_menu": {},
   "number_sections": true,
   "sideBar": true,
   "skip_h1_title": false,
   "title_cell": "Table of Contents",
   "title_sidebar": "Contents",
   "toc_cell": false,
   "toc_position": {
    "height": "calc(100% - 180px)",
    "left": "10px",
    "top": "150px",
    "width": "209.533px"
   },
   "toc_section_display": true,
   "toc_window_display": true
  }
 },
 "nbformat": 4,
 "nbformat_minor": 2
}
