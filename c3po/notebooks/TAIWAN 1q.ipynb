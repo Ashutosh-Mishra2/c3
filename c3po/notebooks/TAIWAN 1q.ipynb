{
 "cells": [
  {
   "cell_type": "markdown",
   "metadata": {},
   "source": [
    "# Example of openloop gate optimization"
   ]
  },
  {
   "cell_type": "markdown",
   "metadata": {},
   "source": [
    "### Import and definitions"
   ]
  },
  {
   "cell_type": "code",
   "execution_count": 36,
   "metadata": {},
   "outputs": [],
   "source": [
    "import numpy as np\n",
    "import tensorflow as tf\n",
    "from scipy.linalg import expm"
   ]
  },
  {
   "cell_type": "code",
   "execution_count": 37,
   "metadata": {},
   "outputs": [],
   "source": [
    "import c3po.control as control\n",
    "import c3po.component as component\n",
    "import c3po.generator as generator\n",
    "import c3po.envelopes as envelopes\n",
    "import c3po.hamiltonians as hamiltonians"
   ]
  },
  {
   "cell_type": "code",
   "execution_count": 38,
   "metadata": {},
   "outputs": [],
   "source": [
    "from c3po.model import Model as Mdl\n",
    "from c3po.simulator import Simulator as Sim\n",
    "from c3po.optimizer import Optimizer as Opt\n",
    "from c3po.experiment import Experiment as Exp"
   ]
  },
  {
   "cell_type": "code",
   "execution_count": 39,
   "metadata": {},
   "outputs": [],
   "source": [
    "from c3po.utils import log_setup\n",
    "from c3po.tf_utils import tf_limit_gpu_memory, tf_abs, tf_ave, tf_kron\n",
    "from c3po.qt_utils import basis, xy_basis, perfect_gate"
   ]
  },
  {
   "cell_type": "markdown",
   "metadata": {},
   "source": [
    "### Specify parameters of the system"
   ]
  },
  {
   "cell_type": "code",
   "execution_count": 40,
   "metadata": {},
   "outputs": [],
   "source": [
    "# System\n",
    "qubit_freq1 = 5.805e9 * 2 * np.pi\n",
    "qubit_anhar1 = -0.217e9 * 2 * np.pi \n",
    "# here  a negative anharmonicity gives a smaller spacing of 1-2 than 0-1\n",
    "# from the email this should be positive but we're assuming it was a type (in case it's not fell free to change it)\n",
    "qubit_freq2 = 5.238e9 * 2 * np.pi\n",
    "qubit_anhar2 = -0.226e9 * 2 * np.pi\n",
    "g_coupling = 4.22e9 * 2 * np.pi\n",
    "qubit_lvls = 4\n",
    "\n",
    "coupling_ham = hamiltonians.int_YY\n",
    "drive_ham = hamiltonians.y_drive\n",
    "v_hz_conversion = 1 # this allows you to put voltage as amplitude and it will convert them to Hz\n",
    "t_final = 5e-9 # length of the gates\n",
    "\n",
    "env_freq = 0.5 / t_final * 2 * np.pi\n",
    "carr_freq = qubit_freq1"
   ]
  },
  {
   "cell_type": "code",
   "execution_count": 41,
   "metadata": {},
   "outputs": [],
   "source": [
    "# Resolutions\n",
    "sim_res = 250e9\n",
    "awg_res = 250e9 # this high resolution is needed to simulate the high frequency components in the drive "
   ]
  },
  {
   "cell_type": "code",
   "execution_count": 42,
   "metadata": {},
   "outputs": [],
   "source": [
    "# Directory to log into\n",
    "logdir = log_setup(\"/tmp/c3logs/\")"
   ]
  },
  {
   "cell_type": "markdown",
   "metadata": {},
   "source": [
    "### Create model object that contains information on the Hamiltonians"
   ]
  },
  {
   "cell_type": "code",
   "execution_count": 43,
   "metadata": {},
   "outputs": [],
   "source": [
    "q1 = component.Qubit(\n",
    "    name=\"Q1\",\n",
    "    desc=\"Qubit 1\",\n",
    "    comment=\"the higher frequency qubit\",\n",
    "    freq=qubit_freq1,\n",
    "    anhar=qubit_anhar1,\n",
    "    hilbert_dim=qubit_lvls\n",
    ")\n",
    "drive = component.Drive(\n",
    "    name=\"D1\",\n",
    "    desc=\"Drive line 1, driving both qubits\",\n",
    "    connected=[\"Q1\"],\n",
    "    hamiltonian=drive_ham\n",
    ")\n",
    "\n",
    "chip_elements = [q1, drive]\n",
    "model = Mdl(chip_elements)"
   ]
  },
  {
   "cell_type": "markdown",
   "metadata": {},
   "source": [
    "### Create generator object that contains information of the control lines"
   ]
  },
  {
   "cell_type": "code",
   "execution_count": 44,
   "metadata": {},
   "outputs": [],
   "source": [
    "# Takes parameters and get AWG bin values\n",
    "awg = generator.AWG(resolution=awg_res, logdir=logdir)\n",
    "# Reshapes the signal from the AWG samples to the simulation resolution\n",
    "dig_to_an = generator.Digital_to_Analog(resolution=sim_res)\n",
    "# Creates the LO signal\n",
    "lo = generator.LO(resolution=sim_res)\n",
    "# Mixes LO and AWG signals\n",
    "mixer = generator.Mixer()\n",
    "# Transforms signal from a given voltage on the device to Hz (that go in front of the Hamiltonian)\n",
    "v_to_hz = generator.Volts_to_Hertz(V_to_Hz=v_hz_conversion)"
   ]
  },
  {
   "cell_type": "code",
   "execution_count": 45,
   "metadata": {},
   "outputs": [],
   "source": [
    "# Pass all of these devices to the generator object that uses them to make signal from parameters\n",
    "devices = [lo, awg, mixer, v_to_hz, dig_to_an]\n",
    "gen = generator.Generator(devices)"
   ]
  },
  {
   "cell_type": "markdown",
   "metadata": {},
   "source": [
    "### Create gates/operations to implement"
   ]
  },
  {
   "cell_type": "code",
   "execution_count": 46,
   "metadata": {},
   "outputs": [],
   "source": [
    "# Define parameters and bounds of given envelope functions\n",
    "fsin_params = {\n",
    "    'amp': 0.5 * np.pi / t_final, # power in Volts (rescaled with v_hz_conversion)\n",
    "    'amps': 1 / np.arange(1, 10, 2), # relative amplitude of each component\n",
    "    # you can also just adjust the amps in volts directly and not include amp (it will default to 1)\n",
    "    'freqs': np.arange(1, 10, 2) * env_freq,\n",
    "    'xy_angle': 0.0, # this angle makes this envelope mix with the cos of the carrier\n",
    "}\n",
    "fsin_bounds = {\n",
    "    'amp': [0.0, np.pi / t_final],\n",
    "    'amps': [0.0, 2.0] * 5,\n",
    "    'freqs': np.arange(0.5, 10, 1) * env_freq,\n",
    "    'xy_angle': [-np.pi/4, np.pi/4]\n",
    "}\n",
    "# Create envelope object, the function is taken from our library in envelopes.py\n",
    "fsin = control.Envelope(\n",
    "    name=\"I_fsin\",\n",
    "    desc=\"Inphase envelope with 5 sin components\",\n",
    "    params=fsin_params,\n",
    "    bounds=fsin_bounds,\n",
    "    shape=envelopes.fourier_sin\n",
    ")"
   ]
  },
  {
   "cell_type": "code",
   "execution_count": 47,
   "metadata": {},
   "outputs": [],
   "source": [
    "# Define parameters and bounds of given envelope functions\n",
    "fcos_params = {\n",
    "    'amp': 0.25 * np.pi / t_final,\n",
    "    'amps': np.zeros(5),\n",
    "    'freqs': np.arange(1, 10, 2) * env_freq,\n",
    "    'xy_angle': np.pi/2, # this angle makes this envelope mix with the sin of the carrier\n",
    "}\n",
    "fcos_bounds = {\n",
    "    'amp': [0.0, 0.5 * np.pi / t_final],\n",
    "    'amps': [-1.0, 1.0] * 5,\n",
    "    'freqs': np.arange(0.5, 10, 1) * env_freq,\n",
    "    'xy_angle': [np.pi/4, 3*np.pi/4]\n",
    "}\n",
    "# Create envelope object, the function is taken from our library in envelopes.py\n",
    "fcos = control.Envelope(\n",
    "    name=\"Q_fcos\",\n",
    "    desc=\"Quadrature envelope with 5 cos components\",\n",
    "    params=fcos_params,\n",
    "    bounds=fcos_bounds,\n",
    "    shape=envelopes.fourier_cos\n",
    ")"
   ]
  },
  {
   "cell_type": "code",
   "execution_count": 48,
   "metadata": {},
   "outputs": [],
   "source": [
    "# Define parameters and bounds of the carrier (this will be used by the LO)\n",
    "carrier_params = {\n",
    "    'freq': carr_freq\n",
    "}\n",
    "carrier_bounds = {\n",
    "    'freq': [4e9 * 2 * np.pi, 7e9 * 2 * np.pi]\n",
    "}\n",
    "# Create carrier object\n",
    "carr = control.Carrier(\n",
    "    name=\"carrier1\",\n",
    "    desc=\"Frequency of the local oscillator 1\",\n",
    "    params=carrier_params,\n",
    "    bounds=carrier_bounds\n",
    ")"
   ]
  },
  {
   "cell_type": "code",
   "execution_count": 49,
   "metadata": {},
   "outputs": [],
   "source": [
    "# Create Gate/operation and pass envelopes and carrier\n",
    "\n",
    "### Single qubit rotation for qubit 1\n",
    "Y90p_Q1 = control.Instruction(\n",
    "    name=\"Y90p_Q1\",\n",
    "    desc=\"pi/2 rotation around Y for qubit1\",\n",
    "    t_start=0.0,\n",
    "    t_end=t_final,\n",
    "    channels=[\"D1\"]\n",
    ")\n",
    "Y90p_Q1.add_component(fsin, \"D1\")\n",
    "Y90p_Q1.add_component(fcos, \"D1\")\n",
    "Y90p_Q1.add_component(carr, \"D1\")"
   ]
  },
  {
   "cell_type": "code",
   "execution_count": 50,
   "metadata": {},
   "outputs": [],
   "source": [
    "# Create gateset object and pass the gate created\n",
    "gates = control.GateSet()\n",
    "gates.add_instruction(Y90p_Q1)"
   ]
  },
  {
   "cell_type": "markdown",
   "metadata": {},
   "source": [
    "### Create experiment class and simulator (this is where the computation of the unitary is done)"
   ]
  },
  {
   "cell_type": "code",
   "execution_count": 51,
   "metadata": {},
   "outputs": [],
   "source": [
    "# Simulation class and fidelity function\n",
    "exp = Exp(model, gen)\n",
    "sim = Sim(exp, gates)"
   ]
  },
  {
   "cell_type": "code",
   "execution_count": 52,
   "metadata": {},
   "outputs": [],
   "source": [
    "# Introduce a Z rotation of the unitary after the gate to rotate back into the qubit frame\n",
    "a_q1 = model.ann_opers[model.names.index('Q1')]\n",
    "sim.VZ = expm(1.0j * np.matmul(a_q1.T.conj(), a_q1) * qubit_freq1 * t_final)"
   ]
  },
  {
   "cell_type": "markdown",
   "metadata": {},
   "source": [
    "### Create optimizer object"
   ]
  },
  {
   "cell_type": "code",
   "execution_count": 53,
   "metadata": {},
   "outputs": [],
   "source": [
    "# Optimizer object\n",
    "opt = Opt(data_path=logdir)"
   ]
  },
  {
   "cell_type": "code",
   "execution_count": 54,
   "metadata": {},
   "outputs": [],
   "source": [
    "# Define the map of which parameters will be optimized. The rest will be fixed\n",
    "opt_map = [\n",
    "#     [('Y90p_Q1', 'D1', 'I_fsin', 'amp')],\n",
    "#     [('Y90p_Q1', 'D1', 'Q_fcos', 'amp')],\n",
    "     [('Y90p_Q1', 'D1', 'I_fsin', 'amps')],\n",
    "     [('Y90p_Q1', 'D1', 'Q_fcos', 'amps')],\n",
    "]\n",
    "# in this case we will only optimize the X90p operation on Q1"
   ]
  },
  {
   "cell_type": "code",
   "execution_count": 55,
   "metadata": {},
   "outputs": [],
   "source": [
    "# Define states & unitaries\n",
    "ket_0 = tf.constant(basis(qubit_lvls, 0), dtype=tf.complex128)\n",
    "bra_0 = tf.constant(basis(qubit_lvls, 0).T, dtype=tf.complex128)\n",
    "bra_xm = tf.constant(xy_basis(qubit_lvls, 'xm').T, dtype=tf.complex128)\n",
    "ket_00 = tf_kron(ket_0, ket_0)\n",
    "bra_xm0 = tf_kron(bra_xm, bra_0)\n",
    "Y90p_ideal = tf.constant(perfect_gate(qubit_lvls, 'Y90p', proj=True), dtype=tf.complex128)\n",
    "Id = tf.constant(perfect_gate(qubit_lvls, 'Id'), dtype=tf.complex128)\n",
    "Y90p_Q1_ideal = tf_kron(Y90p_ideal, Id)"
   ]
  },
  {
   "cell_type": "code",
   "execution_count": 56,
   "metadata": {},
   "outputs": [],
   "source": [
    "def unitary_infid(U_dict: dict):\n",
    "    U = U_dict['Y90p_Q1']\n",
    "    unit_fid = tf_abs(\n",
    "                tf.linalg.trace(\n",
    "                    tf.matmul(U, tf.linalg.adjoint(Y90p_ideal))\n",
    "                    ) / 2\n",
    "                )**2\n",
    "    infid = 1 - unit_fid\n",
    "    return infid"
   ]
  },
  {
   "cell_type": "code",
   "execution_count": 57,
   "metadata": {
    "scrolled": false
   },
   "outputs": [
    {
     "name": "stdout",
     "output_type": "stream",
     "text": [
      "Saving as:\n",
      "/tmp/c3logs/2019_11_22_T_14_17_54/openloop.log\n"
     ]
    }
   ],
   "source": [
    "with tf.device('/CPU:0'):\n",
    "    opt.optimize_controls(\n",
    "        sim=sim,\n",
    "        opt_map=opt_map,\n",
    "        opt='lbfgs',\n",
    "        opt_name='openloop',\n",
    "        fid_func=unitary_infid\n",
    "    )"
   ]
  },
  {
   "cell_type": "code",
   "execution_count": null,
   "metadata": {},
   "outputs": [],
   "source": [
    "gates.instructions['Y90p_Q1'].comps['D1']['I_fsin'].params"
   ]
  },
  {
   "cell_type": "code",
   "execution_count": null,
   "metadata": {
    "scrolled": true
   },
   "outputs": [],
   "source": [
    "gates.instructions['Y90p_Q1'].comps['D1']['Q_fcos'].params"
   ]
  },
  {
   "cell_type": "code",
   "execution_count": 31,
   "metadata": {},
   "outputs": [
    {
     "data": {
      "text/plain": [
       "<tf.Tensor: id=436314, shape=(4, 4), dtype=complex128, numpy=\n",
       "array([[ 0.72747577+0.01534741j, -0.67471192+0.06037841j,\n",
       "        -0.00929963+0.10731073j,  0.0070862 +0.00307224j],\n",
       "       [ 0.67471345-0.06043168j,  0.71961464-0.13504934j,\n",
       "        -0.06439322+0.02928488j,  0.00365696+0.00295813j],\n",
       "       [-0.0092987 +0.10727171j,  0.0644187 -0.02937441j,\n",
       "         0.82697761+0.54406786j, -0.02433038-0.05385083j],\n",
       "       [-0.00707876-0.00307057j,  0.0036582 +0.00295178j,\n",
       "         0.02444763+0.05379904j, -0.15371666+0.98630499j]])>"
      ]
     },
     "execution_count": 31,
     "metadata": {},
     "output_type": "execute_result"
    }
   ],
   "source": [
    "#Check unitary\n",
    "params, _ = gates.get_parameters(opt_map)\n",
    "U_dict = sim.get_gates(params, opt_map)\n",
    "U_dict['Y90p_Q1']"
   ]
  },
  {
   "cell_type": "code",
   "execution_count": 62,
   "metadata": {},
   "outputs": [
    {
     "data": {
      "text/plain": [
       "<tf.Tensor: id=5901969, shape=(1,), dtype=float64, numpy=array([0.44521121])>"
      ]
     },
     "execution_count": 62,
     "metadata": {},
     "output_type": "execute_result"
    }
   ],
   "source": [
    "# check if projected unitary fidelity and not projected are at least close\n",
    "Y90p_ideal = tf.constant(perfect_gate(qubit_lvls, 'Y90p', proj=False), dtype=tf.complex128)\n",
    "U = U_dict['Y90p_Q1']\n",
    "unit_fid = tf_abs(\n",
    "            tf.linalg.trace(\n",
    "                tf.matmul(U, tf.linalg.adjoint(Y90p_ideal))\n",
    "                ) / qubit_lvls\n",
    "            )**2\n",
    "infid = 1 - unit_fid\n",
    "infid"
   ]
  },
  {
   "cell_type": "code",
   "execution_count": 65,
   "metadata": {},
   "outputs": [],
   "source": [
    "import qutip as qt"
   ]
  },
  {
   "cell_type": "code",
   "execution_count": 91,
   "metadata": {},
   "outputs": [
    {
     "data": {
      "text/plain": [
       "<tf.Tensor: id=436314, shape=(4, 4), dtype=complex128, numpy=\n",
       "array([[ 0.72747577+0.01534741j, -0.67471192+0.06037841j,\n",
       "        -0.00929963+0.10731073j,  0.0070862 +0.00307224j],\n",
       "       [ 0.67471345-0.06043168j,  0.71961464-0.13504934j,\n",
       "        -0.06439322+0.02928488j,  0.00365696+0.00295813j],\n",
       "       [-0.0092987 +0.10727171j,  0.0644187 -0.02937441j,\n",
       "         0.82697761+0.54406786j, -0.02433038-0.05385083j],\n",
       "       [-0.00707876-0.00307057j,  0.0036582 +0.00295178j,\n",
       "         0.02444763+0.05379904j, -0.15371666+0.98630499j]])>"
      ]
     },
     "execution_count": 91,
     "metadata": {},
     "output_type": "execute_result"
    }
   ],
   "source": [
    "U"
   ]
  },
  {
   "cell_type": "code",
   "execution_count": 68,
   "metadata": {
    "scrolled": true
   },
   "outputs": [
    {
     "data": {
      "text/plain": [
       "(<Figure size 576x432 with 2 Axes>,\n",
       " <matplotlib.axes._subplots.AxesSubplot at 0x7efabc22a760>)"
      ]
     },
     "execution_count": 68,
     "metadata": {},
     "output_type": "execute_result"
    },
    {
     "data": {
      "image/png": "[encoded data removed]",
      "text/plain": [
       "<Figure size 576x432 with 2 Axes>"
      ]
     },
     "metadata": {
      "needs_background": "light"
     },
     "output_type": "display_data"
    }
   ],
   "source": [
    "qt.hinton(U.numpy())"
   ]
  },
  {
   "cell_type": "code",
   "execution_count": 71,
   "metadata": {},
   "outputs": [
    {
     "data": {
      "text/plain": [
       "(<Figure size 576x432 with 2 Axes>,\n",
       " <matplotlib.axes._subplots.AxesSubplot at 0x7efa50552040>)"
      ]
     },
     "execution_count": 71,
     "metadata": {},
     "output_type": "execute_result"
    },
    {
     "data": {
      "image/png": "[encoded data removed]",
      "text/plain": [
       "<Figure size 576x432 with 2 Axes>"
      ]
     },
     "metadata": {
      "needs_background": "light"
     },
     "output_type": "display_data"
    }
   ],
   "source": [
    "Y90p_ideal = tf.constant(perfect_gate(qubit_lvls, 'Y90p', proj=False), dtype=tf.complex128)\n",
    "qt.hinton(Y90p_ideal.numpy())"
   ]
  },
  {
   "cell_type": "code",
   "execution_count": 90,
   "metadata": {},
   "outputs": [
    {
     "data": {
      "text/plain": [
       "array([[ 1.00000000e+00+9.52526357e-19j,  6.45404412e-16-7.30851389e-16j,\n",
       "        -1.09526125e-15+5.11685642e-17j, -1.40982109e-16+2.02828108e-16j],\n",
       "       [ 6.45404412e-16+7.28775916e-16j,  1.00000000e+00-1.52949692e-18j,\n",
       "        -3.87654864e-16+5.84555571e-15j,  7.82508532e-16+6.37587147e-16j],\n",
       "       [-1.09526125e-15-4.70774942e-17j, -3.87654864e-16-5.83897038e-15j,\n",
       "         1.00000000e+00-1.57615047e-17j,  3.65674574e-15-1.28670929e-14j],\n",
       "       [-1.40982109e-16-2.03456911e-16j,  7.82508532e-16-6.37681934e-16j,\n",
       "         3.65674574e-15+1.28721778e-14j,  1.00000000e+00-1.00432216e-17j]])"
      ]
     },
     "execution_count": 90,
     "metadata": {},
     "output_type": "execute_result"
    },
    {
     "data": {
      "image/png": "[encoded data removed]",
      "text/plain": [
       "<Figure size 576x432 with 2 Axes>"
      ]
     },
     "metadata": {
      "needs_background": "light"
     },
     "output_type": "display_data"
    }
   ],
   "source": [
    "qt.hinton((tf.linalg.adjoint(U)@U).numpy())\n",
    "(tf.linalg.adjoint(U)@U).numpy()"
   ]
  },
  {
   "cell_type": "code",
   "execution_count": 72,
   "metadata": {},
   "outputs": [
    {
     "data": {
      "text/plain": [
       "(<Figure size 576x432 with 2 Axes>,\n",
       " <matplotlib.axes._subplots.AxesSubplot at 0x7efa50332220>)"
      ]
     },
     "execution_count": 72,
     "metadata": {},
     "output_type": "execute_result"
    },
    {
     "data": {
      "image/png": "[encoded data removed]",
      "text/plain": [
       "<Figure size 576x432 with 2 Axes>"
      ]
     },
     "metadata": {
      "needs_background": "light"
     },
     "output_type": "display_data"
    }
   ],
   "source": [
    "qt.hinton((U-Y90p_ideal).numpy())"
   ]
  },
  {
   "cell_type": "code",
   "execution_count": 63,
   "metadata": {},
   "outputs": [
    {
     "data": {
      "text/plain": [
       "<tf.Tensor: id=436314, shape=(4, 4), dtype=complex128, numpy=\n",
       "array([[ 0.72747577+0.01534741j, -0.67471192+0.06037841j,\n",
       "        -0.00929963+0.10731073j,  0.0070862 +0.00307224j],\n",
       "       [ 0.67471345-0.06043168j,  0.71961464-0.13504934j,\n",
       "        -0.06439322+0.02928488j,  0.00365696+0.00295813j],\n",
       "       [-0.0092987 +0.10727171j,  0.0644187 -0.02937441j,\n",
       "         0.82697761+0.54406786j, -0.02433038-0.05385083j],\n",
       "       [-0.00707876-0.00307057j,  0.0036582 +0.00295178j,\n",
       "         0.02444763+0.05379904j, -0.15371666+0.98630499j]])>"
      ]
     },
     "execution_count": 63,
     "metadata": {},
     "output_type": "execute_result"
    }
   ],
   "source": [
    "U"
   ]
  },
  {
   "cell_type": "code",
   "execution_count": 86,
   "metadata": {},
   "outputs": [],
   "source": [
    "X90p = tf.constant(perfect_gate(2, 'X90p', proj=False), dtype=tf.complex128)"
   ]
  },
  {
   "cell_type": "code",
   "execution_count": 87,
   "metadata": {},
   "outputs": [
    {
     "data": {
      "text/plain": [
       "<tf.Tensor: id=5903179, shape=(2, 2), dtype=complex128, numpy=\n",
       "array([[0.70710678+0.j        , 0.        -0.70710678j],\n",
       "       [0.        -0.70710678j, 0.70710678+0.j        ]])>"
      ]
     },
     "execution_count": 87,
     "metadata": {},
     "output_type": "execute_result"
    }
   ],
   "source": [
    "X90p"
   ]
  },
  {
   "cell_type": "code",
   "execution_count": 89,
   "metadata": {},
   "outputs": [
    {
     "data": {
      "text/plain": [
       "array([[1.+0.j, 0.+0.j],\n",
       "       [0.+0.j, 1.+0.j]])"
      ]
     },
     "execution_count": 89,
     "metadata": {},
     "output_type": "execute_result"
    }
   ],
   "source": [
    "X90p.numpy().T.conj()@X90p.numpy()"
   ]
  },
  {
   "cell_type": "code",
   "execution_count": 81,
   "metadata": {},
   "outputs": [
    {
     "data": {
      "text/plain": [
       "<tf.Tensor: id=5903178, shape=(2, 2), dtype=complex128, numpy=\n",
       "array([[ 0.70710678-0.j,  0.70710678-0.j],\n",
       "       [-0.70710678-0.j,  0.70710678-0.j]])>"
      ]
     },
     "execution_count": 81,
     "metadata": {},
     "output_type": "execute_result"
    }
   ],
   "source": [
    "tf.linalg.adjoint(Y90p)"
   ]
  },
  {
   "cell_type": "markdown",
   "metadata": {},
   "source": [
    "# Plotting"
   ]
  },
  {
   "cell_type": "markdown",
   "metadata": {},
   "source": [
    "You can run the code below in a different kernel to get a live plot. Or look a the log e.g.\n",
    "\n",
    "$ less +F /tmp/c3logs/recent/openloop.log"
   ]
  },
  {
   "cell_type": "code",
   "execution_count": null,
   "metadata": {},
   "outputs": [],
   "source": [
    "from c3po.display import plot_OC_logs\n",
    "plot_OC_logs(\"/tmp/c3logs/recent/openloop.log\")"
   ]
  },
  {
   "cell_type": "code",
   "execution_count": null,
   "metadata": {},
   "outputs": [],
   "source": []
  }
 ],
 "metadata": {
  "kernelspec": {
   "display_name": "Python 3",
   "language": "python",
   "name": "python3"
  },
  "language_info": {
   "codemirror_mode": {
    "name": "ipython",
    "version": 3
   },
   "file_extension": ".py",
   "mimetype": "text/x-python",
   "name": "python",
   "nbconvert_exporter": "python",
   "pygments_lexer": "ipython3",
   "version": "3.8.0"
  },
  "varInspector": {
   "cols": {
    "lenName": 16,
    "lenType": 16,
    "lenVar": 40
   },
   "kernels_config": {
    "python": {
     "delete_cmd_postfix": "",
     "delete_cmd_prefix": "del ",
     "library": "var_list.py",
     "varRefreshCmd": "print(var_dic_list())"
    },
    "r": {
     "delete_cmd_postfix": ") ",
     "delete_cmd_prefix": "rm(",
     "library": "var_list.r",
     "varRefreshCmd": "cat(var_dic_list()) "
    }
   },
   "types_to_exclude": [
    "module",
    "function",
    "builtin_function_or_method",
    "instance",
    "_Feature"
   ],
   "window_display": true
  }
 },
 "nbformat": 4,
 "nbformat_minor": 2
}
