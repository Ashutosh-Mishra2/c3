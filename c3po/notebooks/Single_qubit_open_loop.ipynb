{
 "cells": [
  {
   "cell_type": "markdown",
   "metadata": {},
   "source": [
    "# Import and definitions"
   ]
  },
  {
   "cell_type": "code",
   "execution_count": 1,
   "metadata": {},
   "outputs": [],
   "source": [
    "\"\"\"General clean OC script.\"\"\"\n",
    "\n",
    "import numpy as np\n",
    "import tensorflow as tf\n",
    "from scipy.linalg import expm\n",
    "import copy\n",
    "\n",
    "import c3po.component as component\n",
    "import c3po.generator as generator\n",
    "import c3po.hamiltonians as hamiltonians\n",
    "import c3po.envelopes as envelopes\n",
    "import c3po.control as control\n",
    "from c3po.model import Model as Mdl\n",
    "from c3po.simulator import Simulator as Sim\n",
    "from c3po.optimizer import Optimizer as Opt\n",
    "from c3po.experiment import Experiment as Exp\n",
    "from c3po.utils import log_setup\n",
    "from c3po.tf_utils import tf_abs, tf_ave\n",
    "from c3po.tf_utils import tf_limit_gpu_memory as tf_limit_gpu_memory\n",
    "from c3po.qt_utils import basis, xy_basis, perfect_gate"
   ]
  },
  {
   "cell_type": "code",
   "execution_count": 2,
   "metadata": {},
   "outputs": [],
   "source": [
    "def create_gates(t_final, v_hz_conversion, qubit_freq, qubit_anhar=None):\n",
    "    \"\"\"\n",
    "    Define the atomic gates.\n",
    "\n",
    "    Parameters\n",
    "    ----------\n",
    "    t_final : type\n",
    "        Total simulation time == longest possible gate time.\n",
    "    v_hz_conversion : type\n",
    "        Constant relating control voltage to energy in Hertz.\n",
    "    qubit_freq : type\n",
    "        Qubit frequency. Determines the carrier frequency.\n",
    "    qubit_anhar : type\n",
    "        Qubit anharmonicity. DRAG is used if this is given.\n",
    "\n",
    "    \"\"\"\n",
    "    gauss_params = {\n",
    "        'amp': 0.7 * np.pi / v_hz_conversion,  # Slightly off from ideal 0.5\n",
    "        't_final': t_final,\n",
    "        'xy_angle': 0.0,\n",
    "        'freq_offset': 5e6 * 2 * np.pi,  # Slightly off from ideal 0\n",
    "        'delta': 1 / qubit_anhar\n",
    "    }\n",
    "    gauss_bounds = {\n",
    "        'amp': [0.01 * np.pi / v_hz_conversion, 1.5 * np.pi / v_hz_conversion],\n",
    "        't_final': [1e-9, 30e-9],\n",
    "        'xy_angle': [-1 * np.pi/2, 1 * np.pi/2],\n",
    "        'freq_offset': [-100 * 1e6 * 2 * np.pi, 100 * 1e6 * 2 * np.pi],\n",
    "        'delta': [10/qubit_anhar, 0.1/qubit_anhar]\n",
    "    }\n",
    "\n",
    "    gauss_env = control.Envelope(\n",
    "        name=\"gauss\",\n",
    "        desc=\"Gaussian comp 1 of signal 1\",\n",
    "        params=gauss_params,\n",
    "        bounds=gauss_bounds,\n",
    "        shape=envelopes.gaussian\n",
    "    )\n",
    "    carrier_parameters = {\n",
    "        'freq': qubit_freq\n",
    "    }\n",
    "    carrier_bounds = {\n",
    "        'freq': [4e9 * 2 * np.pi, 7e9 * 2 * np.pi]\n",
    "    }\n",
    "    carr = control.Carrier(\n",
    "        name=\"carrier\",\n",
    "        desc=\"Frequency of the local oscillator\",\n",
    "        params=carrier_parameters,\n",
    "        bounds=carrier_bounds\n",
    "    )\n",
    "    X90p = control.Instruction(\n",
    "        name=\"X90p\",\n",
    "        t_start=0.0,\n",
    "        t_end=t_final,\n",
    "        channels=[\"d1\"]\n",
    "    )\n",
    "    X90p.add_component(gauss_env, \"d1\")\n",
    "    X90p.add_component(carr, \"d1\")\n",
    "\n",
    "    gates = control.GateSet()\n",
    "    gates.add_instruction(X90p)\n",
    "        \n",
    "    # Define more gates accordingly:\n",
    "    #\n",
    "    # Y90p = copy.deepcopy(X90p)\n",
    "    # Y90p.name = \"Y90p\"\n",
    "    # Y90p.comps['d1']['gauss'].params['xy_angle'] = np.pi / 2\n",
    "    # Y90p.comps['d1']['gauss'].bounds['xy_angle'] = [0 * np.pi/2, 2 * np.pi/2]\n",
    "    #\n",
    "    # X90m = copy.deepcopy(X90p)\n",
    "    # X90m.name = \"X90m\"\n",
    "    # X90m.comps['d1']['gauss'].params['xy_angle'] = np.pi\n",
    "    # X90m.comps['d1']['gauss'].bounds['xy_angle'] = [1 * np.pi/2, 3 * np.pi/2]\n",
    "    #\n",
    "    # Y90m = copy.deepcopy(X90p)\n",
    "    # Y90m.name = \"Y90m\"\n",
    "    # Y90m.comps['d1']['gauss'].params['xy_angle'] = - np.pi / 2\n",
    "    # Y90m.comps['d1']['gauss'].bounds['xy_angle'] = [-2 * np.pi/2, 0 * np.pi/2]\n",
    "    #\n",
    "    # gates.add_instruction(X90m)\n",
    "    # gates.add_instruction(Y90m)\n",
    "    # gates.add_instruction(Y90p)\n",
    "    return gates\n",
    "\n",
    "\n",
    "def create_chip_model(qubit_freq, qubit_anhar, qubit_lvls, drive_ham):\n",
    "    q1 = component.Qubit(\n",
    "        name=\"Q1\",\n",
    "        desc=\"Qubit 1\",\n",
    "        comment=\"The one and only qubit in this chip\",\n",
    "        freq=qubit_freq,\n",
    "        anhar=qubit_anhar,\n",
    "        hilbert_dim=qubit_lvls\n",
    "    )\n",
    "    drive = component.Drive(\n",
    "        name=\"D1\",\n",
    "        desc=\"Drive 1\",\n",
    "        comment=\"Drive line 1 on qubit 1\",\n",
    "        connected=[\"Q1\"],\n",
    "        hamiltonian=drive_ham\n",
    "    )\n",
    "    chip_elements = [q1, drive]\n",
    "    model = Mdl(chip_elements)\n",
    "    return model\n",
    "\n",
    "\n",
    "# Devices and generator\n",
    "def create_generator(sim_res, awg_res, v_hz_conversion, logdir):\n",
    "    lo = generator.LO(resolution=sim_res)\n",
    "    awg = generator.AWG(resolution=awg_res, logdir=logdir)\n",
    "    mixer = generator.Mixer()\n",
    "    v_to_hz = generator.Volts_to_Hertz(V_to_Hz=v_hz_conversion)\n",
    "    dig_to_an = generator.Digital_to_Analog(resolution=sim_res)\n",
    "    resp = generator.Response(rise_time=0.1e-9, resolution=sim_res)\n",
    "    devices = [lo, awg, mixer, v_to_hz, dig_to_an, resp]\n",
    "    gen = generator.Generator(devices)\n",
    "    return gen"
   ]
  },
  {
   "cell_type": "code",
   "execution_count": 3,
   "metadata": {},
   "outputs": [],
   "source": [
    "logdir = log_setup(\"/tmp/c3logs/\")\n",
    "\n",
    "# System\n",
    "qubit_freq = 5e9 * 2 * np.pi\n",
    "qubit_anhar = -250e6 * 2 * np.pi\n",
    "qubit_lvls = 4\n",
    "drive_ham = hamiltonians.x_drive\n",
    "v_hz_conversion = 1\n",
    "t_final = 25e-9\n",
    "\n",
    "# Resolutions\n",
    "sim_res = 250e9\n",
    "awg_res = 1e9\n",
    "\n",
    "# Create system\n",
    "model = create_chip_model(qubit_freq, qubit_anhar, qubit_lvls, drive_ham)\n",
    "gen = create_generator(sim_res, awg_res, v_hz_conversion, logdir=logdir)\n",
    "gates = create_gates(t_final, v_hz_conversion, qubit_freq, qubit_anhar)\n",
    "\n",
    "# Enable this to automatically use DRAG corrections\n",
    "#gen.devices['awg'].options = 'drag'\n",
    "\n",
    "# Simulation class and fidelity function\n",
    "exp = Exp(model, gen)\n",
    "sim = Sim(exp, gates)\n",
    "a_q = model.ann_opers[0]\n",
    "\n",
    "# Virtual Z rotations\n",
    "sim.VZ = expm(1.0j * np.matmul(a_q.T.conj(), a_q) * qubit_freq * t_final)\n",
    "\n",
    "# Define states & unitaries\n",
    "ket_0 = tf.constant(basis(qubit_lvls, 0), dtype=tf.complex128)\n",
    "bra_2 = tf.constant(basis(qubit_lvls, 2).T, dtype=tf.complex128)\n",
    "bra_yp = tf.constant(xy_basis(qubit_lvls, 'yp').T, dtype=tf.complex128)\n",
    "X90p = tf.constant(perfect_gate(qubit_lvls, 'X90p'), dtype=tf.complex128)"
   ]
  },
  {
   "cell_type": "code",
   "execution_count": 4,
   "metadata": {},
   "outputs": [],
   "source": [
    "def state_transfer_infid(U_dict: dict):\n",
    "    U = U_dict['X90p']\n",
    "    ket_actual = tf.matmul(U, ket_0)\n",
    "    overlap = tf_abs(tf.matmul(bra_yp, ket_actual))\n",
    "    infid = 1 - overlap\n",
    "    return infid\n",
    "\n",
    "def unitary_infid(U_dict: dict):\n",
    "    U = U_dict['X90p']\n",
    "    unit_fid = tf_abs(\n",
    "                tf.linalg.trace(\n",
    "                    tf.matmul(U, tf.linalg.adjoint(X90p))\n",
    "                    ) / 2\n",
    "                )**2\n",
    "    infid = 1 - unit_fid\n",
    "    return infid\n",
    "\n",
    "def pop_leak(U_dict: dict):\n",
    "    U = U_dict['X90p']\n",
    "    ket_actual = tf.matmul(U, ket_0)\n",
    "    overlap = tf_abs(tf.matmul(bra_2, ket_actual))\n",
    "    return overlap\n",
    "\n",
    "# Optimizer object\n",
    "opt = Opt(data_path=logdir)"
   ]
  },
  {
   "cell_type": "markdown",
   "metadata": {},
   "source": [
    "This map defines which parameters to optmize. The rest will be fixed."
   ]
  },
  {
   "cell_type": "code",
   "execution_count": 5,
   "metadata": {},
   "outputs": [],
   "source": [
    "opt_map = [\n",
    "    [('X90p', 'd1', 'gauss', 'amp')],\n",
    "    [('X90p', 'd1', 'gauss', 'freq_offset')],\n",
    "    [('X90p', 'd1', 'gauss', 'xy_angle')],\n",
    "    # [('X90p', 'd1', 'gauss', 'delta')] # This is a DRAG parameter.\n",
    "]"
   ]
  },
  {
   "cell_type": "markdown",
   "metadata": {},
   "source": [
    "Run the optimization"
   ]
  },
  {
   "cell_type": "code",
   "execution_count": 6,
   "metadata": {},
   "outputs": [
    {
     "name": "stdout",
     "output_type": "stream",
     "text": [
      "Saving as:\n",
      "/tmp/c3logs/2019_11_13_T_14_56_38/openloop.log\n"
     ]
    }
   ],
   "source": [
    "opt.optimize_controls(\n",
    "    sim=sim,\n",
    "    opt_map=opt_map,\n",
    "    opt='lbfgs',\n",
    "    opt_name='openloop',\n",
    "    fid_func=unitary_infid\n",
    ")"
   ]
  },
  {
   "cell_type": "markdown",
   "metadata": {},
   "source": [
    "# Plotting"
   ]
  },
  {
   "cell_type": "markdown",
   "metadata": {},
   "source": [
    "You can run the below in a different kernel to get a live plot. Or look a the log e.g.\n",
    "\n",
    "$ less /tmp/c3logs/recent/openloop.log"
   ]
  },
  {
   "cell_type": "code",
   "execution_count": 7,
   "metadata": {},
   "outputs": [
    {
     "data": {
      "image/png": "[encoded data removed]",
      "text/plain": [
       "<Figure size 864x720 with 4 Axes>"
      ]
     },
     "metadata": {
      "needs_background": "light"
     },
     "output_type": "display_data"
    }
   ],
   "source": [
    "from c3po.display import plot_OC_logs\n",
    "plot_OC_logs(\"/tmp/c3logs/recent/openloop.log\")"
   ]
  }
 ],
 "metadata": {
  "kernelspec": {
   "display_name": "Python 3",
   "language": "python",
   "name": "python3"
  },
  "language_info": {
   "codemirror_mode": {
    "name": "ipython",
    "version": 3
   },
   "file_extension": ".py",
   "mimetype": "text/x-python",
   "name": "python",
   "nbconvert_exporter": "python",
   "pygments_lexer": "ipython3",
   "version": "3.7.4"
  },
  "varInspector": {
   "cols": {
    "lenName": 16,
    "lenType": 16,
    "lenVar": 40
   },
   "kernels_config": {
    "python": {
     "delete_cmd_postfix": "",
     "delete_cmd_prefix": "del ",
     "library": "var_list.py",
     "varRefreshCmd": "print(var_dic_list())"
    },
    "r": {
     "delete_cmd_postfix": ") ",
     "delete_cmd_prefix": "rm(",
     "library": "var_list.r",
     "varRefreshCmd": "cat(var_dic_list()) "
    }
   },
   "types_to_exclude": [
    "module",
    "function",
    "builtin_function_or_method",
    "instance",
    "_Feature"
   ],
   "window_display": true
  }
 },
 "nbformat": 4,
 "nbformat_minor": 2
}
