{
 "cells": [
  {
   "cell_type": "markdown",
   "metadata": {},
   "source": [
    "# Import and definitions"
   ]
  },
  {
   "cell_type": "code",
   "execution_count": 1,
   "metadata": {},
   "outputs": [],
   "source": [
    "import glob\n",
    "import os\n",
    "import sys\n",
    "import time\n",
    "import uuid\n",
    "import yaml\n",
    "import zmq\n",
    "from numpy import pi\n",
    "from IPython.display import clear_output\n",
    "import matplotlib.pyplot as plt\n",
    "import numpy as np\n",
    "import qutip as qt"
   ]
  },
  {
   "cell_type": "markdown",
   "metadata": {},
   "source": [
    "# Specify initial pulse and bounds"
   ]
  },
  {
   "cell_type": "code",
   "execution_count": 2,
   "metadata": {
    "code_folding": []
   },
   "outputs": [],
   "source": [
    "from c3po.utils.envelopes import flattop\n",
    "\n",
    "def my_flattop(t, idx, guess):\n",
    "    t_up = guess[idx['t_up']]\n",
    "    t_down = guess[idx['t_down']]\n",
    "    return flattop(t, t_up, t_down)\n",
    "\n",
    "handmade_pulse = {\n",
    "        'control1': {\n",
    "            'carrier1': {\n",
    "                'freq': 6.234e9*2*pi,\n",
    "                'pulses': {\n",
    "                    'pulse': {\n",
    "                        'params': {\n",
    "                            'amp': 25e6*2*pi,\n",
    "                            't_up': 50e-9,\n",
    "                            't_down': 180e-9,\n",
    "                            'xy_angle': 0,\n",
    "                            'freq_offset': 0e6*2*pi\n",
    "                            },\n",
    "                        'func': my_flattop\n",
    "                        },\n",
    "                    'drag': {\n",
    "                        'params': {\n",
    "                            'amp': 25e6*2*pi,\n",
    "                            't_up': 50e-9,\n",
    "                            't_down': 180e-9,\n",
    "                            'xy_angle': 0,\n",
    "                            'freq_offset': 0e6*2*pi\n",
    "                            },\n",
    "                        'func': my_flattop\n",
    "                        }\n",
    "                    }\n",
    "                }\n",
    "            }\n",
    "        }\n",
    "\n",
    "pulse_bounds = {\n",
    "        'control1': {\n",
    "            'carrier1': {\n",
    "                'pulses': {\n",
    "                    'pulse': {\n",
    "                        'params': {\n",
    "                            'amp': [1e3*2*pi, 1e9*2*pi],\n",
    "                            't_up': [2e-9, 200e-9],\n",
    "                            't_down': [2e-9, 200e-9],\n",
    "#                            'xy_angle': [-pi, pi],\n",
    "                            'freq_offset': [-1e9*2*pi, 1e9*2*pi]\n",
    "                            }\n",
    "                        }\n",
    "                    }\n",
    "                }\n",
    "            }\n",
    "        }\n",
    "\n",
    "initial_spread = {\n",
    "        'control1': {\n",
    "            'carrier1': {\n",
    "                'pulses': {\n",
    "                    'pulse': {\n",
    "                        'params': {\n",
    "                            'amp': 5e6*2*pi,\n",
    "                            't_up': 5e-9,\n",
    "                            't_down': 5e-9,\n",
    "#                            'xy_angle': [-pi, pi],\n",
    "                            'freq_offset': 20e6*2*pi\n",
    "                            }\n",
    "                        }\n",
    "                    }\n",
    "                }\n",
    "            }\n",
    "        }"
   ]
  },
  {
   "cell_type": "markdown",
   "metadata": {},
   "source": [
    "# Evaluation function\n",
    "\n",
    "Provide an *evaluate_pulse* function and its helpers, specific to your experimental setup, that takes a several sets of parameters and provides a figure of merit for each."
   ]
  },
  {
   "cell_type": "code",
   "execution_count": 3,
   "metadata": {},
   "outputs": [],
   "source": [
    "######################\n",
    "# Display functions  #\n",
    "######################\n",
    "def plot_IQ(ts, Is, Qs):\n",
    "    plt.cla()\n",
    "    plt.plot(ts / 1e-9, Is)\n",
    "    plt.plot(ts / 1e-9, Qs)\n",
    "    plt.legend((\"I\", \"Q\"))\n",
    "    plt.ylabel('I/Q')\n",
    "    plt.xlabel('Time[ns]')\n",
    "    plt.tick_params('both',direction='in')\n",
    "    plt.tick_params('both', direction='in')\n",
    "    fig.canvas.draw()\n",
    "    fig.canvas.flush_events()\n",
    "    \n",
    "def print_current_params(gate, q):\n",
    "    clear_output(wait=True)\n",
    "    gate.print_pulse(q)\n",
    "    \n",
    "##########################\n",
    "# Labview communication #\n",
    "##########################\n",
    "def LV_send_pulse(search_id, pulse_id, pulse):\n",
    "    request = {\n",
    "            'search_id': search_id,\n",
    "            'pulse_id': pulse_id,\n",
    "            'pulse': pulse,\n",
    "            'fidelity': 0,\n",
    "            'do_stop': False\n",
    "            }\n",
    "    socketreq.send_json(request)\n",
    "    \n",
    "\n",
    "def LV_recieve_fidelity(search_id):\n",
    "    receive_message = socketreq.recv_string()        \n",
    "    reply = socketrep.recv_json()\n",
    "    socketrep.send_string(search_id)    \n",
    "    return reply['fidelity']\n",
    "\n",
    "def evaluate_pulse(gate, samples):\n",
    "    global search_id\n",
    "    infidelities = []\n",
    "    for q in samples:\n",
    "        pulse_id = str(uuid.uuid4())\n",
    "        print_current_params(gate, q)\n",
    "        IQ = gate.get_IQ(q)\n",
    "        \n",
    "        T_final = gate.T_final\n",
    "        ts = np.linspace(0, T_final, T_final*1e9)\n",
    "        Is = np.array(IQ['control1']['carrier1']['I'])\n",
    "        Qs = np.array(IQ['control1']['carrier1']['Q'])\n",
    "        plot_IQ(ts, Is, Qs)\n",
    "        \n",
    "        non0_mask = np.nonzero(Is * Qs)\n",
    "        pulse = {}\n",
    "        pulse['I'] = list(Is[non0_mask])  \n",
    "        pulse['Q'] = list(Qs[non0_mask])\n",
    "        pulse['omegas'] = [IQ['control1']['carrier1']['omega']]\n",
    "        pulse['carrier_amp'] = IQ['control1']['carrier1']['amp']\n",
    "        print(pulse)\n",
    "        LV_send_pulse(search_id, pulse_id, pulse)\n",
    "        fidelity = LV_recieve_fidelity(search_id)\n",
    "        infidelities.append(1-fidelity)\n",
    "    return infidelities"
   ]
  },
  {
   "cell_type": "markdown",
   "metadata": {},
   "source": [
    "# Import C3PO"
   ]
  },
  {
   "cell_type": "code",
   "execution_count": 10,
   "metadata": {},
   "outputs": [],
   "source": [
    "from c3po.main.gate import Gate as gt\n",
    "from c3po.fidelity.measurement import Experiment as exp_backend"
   ]
  },
  {
   "cell_type": "code",
   "execution_count": 11,
   "metadata": {},
   "outputs": [],
   "source": [
    "X_gate = gt('qubit_1', qt.sigmax(), T_final=250e-9)\n",
    "X_gate.set_parameters('initial', handmade_pulse)\n",
    "X_gate.set_bounds(pulse_bounds)\n",
    "\n",
    "fridge = exp_backend(evaluate_pulse)"
   ]
  },
  {
   "cell_type": "markdown",
   "metadata": {},
   "source": [
    "# Communication setup\n",
    "Replace '127.0.0.1' with the IP of the LabView machine. Hostnames might confuse the queue interface."
   ]
  },
  {
   "cell_type": "code",
   "execution_count": 12,
   "metadata": {},
   "outputs": [
    {
     "name": "stdout",
     "output_type": "stream",
     "text": [
      "I am the calibration searcher.\n",
      "My ID for this run is b1ba3f60-bf3e-46d9-a84a-c61966cb70bd\n",
      "\n",
      "Connecting to client tcp://127.0.0.1:5559 ... done\n",
      "\n",
      "\n"
     ]
    }
   ],
   "source": [
    "calibration_daemon_experiment_URI = \"tcp://127.0.0.1:5559\"\n",
    "calibration_daemon_searcher_URI = \"tcp://127.0.0.1:5560\"\n",
    "\n",
    "   \n",
    "rcvtimeout = 30000\n",
    "search_id = str(uuid.uuid4())\n",
    "print(f\"I am the calibration searcher.\\nMy ID for this run is {search_id}\\n\")\n",
    "\n",
    "# Start communication\n",
    "print(f\"Connecting to client {calibration_daemon_experiment_URI} ... \", flush=True, end='')\n",
    "context = zmq.Context()\n",
    "socketrep = context.socket(zmq.REP)\n",
    "\n",
    "socketrep.bind(calibration_daemon_searcher_URI)\n",
    "\n",
    "socketreq = context.socket(zmq.REQ)\n",
    "socketreq.setsockopt(zmq.LINGER, 0)  #NEW Added by Edwar to flush the queue\n",
    "socketreq.connect(calibration_daemon_experiment_URI)\n",
    "\n",
    "socketrep.RCVTIMEO = rcvtimeout  # added timeout to kill rcv if nothing comes\n",
    "socketreq.RCVTIMEO = rcvtimeout\n",
    "print(f\"done\\n\\n\", flush=True)\n"
   ]
  },
  {
   "cell_type": "markdown",
   "metadata": {},
   "source": [
    "# Calibration"
   ]
  },
  {
   "cell_type": "code",
   "execution_count": 13,
   "metadata": {},
   "outputs": [],
   "source": [
    "data_path = \"/tmp/c3_data/\"\n",
    "optim_name = data_path + \"x_gate_calibration\"\n",
    "if not os.path.isdir(data_path):\n",
    "    os.makedirs(data_path)\n",
    "if not os.path.isdir(optim_name):\n",
    "    os.makedirs(optim_name)"
   ]
  },
  {
   "cell_type": "code",
   "execution_count": 14,
   "metadata": {
    "scrolled": true
   },
   "outputs": [
    {
     "name": "stdout",
     "output_type": "stream",
     "text": [
      "{\n",
      "    \"control1\": {\n",
      "        \"carrier1\": {\n",
      "            \"freq\": 39169377204.95754,\n",
      "            \"pulses\": {\n",
      "                \"drag\": {\n",
      "                    \"params\": {\n",
      "                        \"amp\": 157079632.67948964,\n",
      "                        \"freq_offset\": 0.0,\n",
      "                        \"t_down\": 1.8e-07,\n",
      "                        \"t_up\": 5e-08,\n",
      "                        \"xy_angle\": 0.0\n",
      "                    }\n",
      "                },\n",
      "                \"pulse\": {\n",
      "                    \"params\": {\n",
      "                        \"amp\": 184021318.15110484,\n",
      "                        \"freq_offset\": 10082915.529673576,\n",
      "                        \"t_down\": 1.8268595748695583e-07,\n",
      "                        \"t_up\": 5.1153777094515716e-08,\n",
      "                        \"xy_angle\": 0.0\n",
      "                    }\n",
      "                }\n",
      "            }\n",
      "        }\n",
      "    }\n",
      "}\n",
      "{'I': [2.2171177501245032e-08, 2.2786080269001463e-05, 0.0034485328477554433, 0.08498820478319864, 0.4563146892037653, 0.9702927306152563, 1.2616569913798064, 1.3017707665408214, 1.2989724029585497, 1.2949413388845905, 1.2908393027189193, 1.2866715103951663, 1.2824383918900657, 1.278140381024583, 1.2737779182697797, 1.2693514507019104, 1.2648614319566058, 1.2603083221823816, 1.2556925879934837, 1.2510147024220655, 1.2462751448697122, 1.241474401058311, 1.2366129629802713, 1.2316913288481053, 1.2267100030433695, 1.2216694960649743, 1.2165703244768677, 1.2114130108550951, 1.2061980837342454, 1.2009260775532846, 1.1955975326007864, 1.1902129949595608, 1.1847730164506909, 1.1792781545769802, 1.173728972465819, 1.1681260388114738, 1.162469927816805, 1.1567612191344223, 1.1510004978072792, 1.1451883542087178, 1.1393253839819646, 1.133412187979089, 1.1274493721994234, 1.121437547727463, 1.1153773306702364, 1.1092693420941682, 1.1031142079614296, 1.096912559065787, 1.0906650309679593, 1.0843722639304811, 1.0780349028520892, 1.0716535972016303, 1.065229000951503, 1.0587617725106357, 1.0522525746570128, 1.0457020744697498, 1.0391109432607302, 1.0324798565058089, 1.0258094937755846, 1.0191005386657594, 1.0123536787270797, 1.005569605394875, 0.9987490139181973, 0.9918926032885717, 0.9850010761683603, 0.9780751388187524, 0.9711155010273853, 0.9641228760356028, 0.9570979804653603, 0.950041534245785, 0.9429542605393936, 0.9358368856679831, 0.928690139038193, 0.9215147530667557, 0.9143114631054368, 0.9070810073656722, 0.8998241268429165, 0.8925415652407032, 0.8852340688944278, 0.8779023866948615, 0.8705472700114034, 0.863169472615078, 0.8557697506012866, 0.8483488623123208, 0.8409075682596464, 0.8334466310459631, 0.8259668152870516, 0.8184688875334145, 0.8109536161917166, 0.8034217714460384, 0.7958741251789447, 0.7883114508923798, 0.7807345236283983, 0.7731441198897361, 0.7655410175602314, 0.7579259958251077, 0.750299835091118, 0.7426633169065696, 0.7350172238812261, 0.7273623396061066, 0.7196994485731789, 0.7120293360949632, 0.7043527882240531, 0.6966705916725566, 0.6889835337314727, 0.6812924021900089, 0.6735979852548445, 0.6659010714693551, 0.6582024496327993, 0.6505029087194817, 0.6428032377978955, 0.635104225949858, 0.627406662189643, 0.6197113353831203, 0.6120190341669107, 0.604330546867566, 0.5966466614207767, 0.5889681652906248, 0.5812958453888812, 0.5736304879943606, 0.5659728786723431, 0.5583238021940663, 0.550684042456301, 0.5430543824010133, 0.5354356039351295, 0.5278284878504026, 0.5202338137433951, 0.5126523599355842, 0.5050849033935761, 0.49753221925243984, 0.48999404244706385, 0.48208263825399306, 0.4525244907306684, 0.24319384472202352, -0.08915983510153323, -0.17471768569415924, -0.09683550073133328, -0.014587653117577924, -0.0004040174095525017, -1.7390763472987386e-06, -1.0852831289192293e-09, -9.50267570823543e-14], 'Q': [3.596230258156405e-13, 3.5779892973670326e-09, 5.009413233491244e-06, 0.0010221263810700147, 0.03277368992934426, 0.19853950434485698, 0.3562244591863042, 0.38808865885981275, 0.3953816726895522, 0.4019418345895804, 0.4084578850939373, 0.414932074022913, 0.4213637396597295, 0.42775222287112036, 0.4340968689491128, 0.44039702767827454, 0.4466520534023498, 0.45286130509042766, 0.4590241464026364, 0.4651399457553578, 0.4712080763859527, 0.4772279164169937, 0.4831988489199965, 0.4891202619786448, 0.4949915487514998, 0.5008121075341927, 0.506581341821087, 0.5122986603664113, 0.517963477244851, 0.5235752119115956, 0.5291332892618343, 0.5346371396896944, 0.5400861991466156, 0.5454799091991556, 0.5508177170862195, 0.556099075775708, 0.5613234440205792, 0.566490286414316, 0.5715990734457973, 0.5766492815535621, 0.5816403931794666, 0.5865718968217246, 0.5914432870873267, 0.5962540647438357, 0.6010037367705477, 0.6056918164090196, 0.6103178232129515, 0.614881283097426, 0.6193817283874928, 0.6238186978660962, 0.6281917368213438, 0.632500397093105, 0.63674423711894, 0.6409228219793526, 0.6450357234423615, 0.6490825200073863, 0.6530627969484448, 0.6569761463566542, 0.6608221671820358, 0.6646004652746144, 0.6683106534248124, 0.6719523514031319, 0.6755251859991223, 0.6790287910596259, 0.6824628075263047, 0.6858268834724359, 0.6891206741389788, 0.6923438419699065, 0.6954960566467996, 0.6985769951226979, 0.7015863416552073, 0.7045237878388576, 0.7073890326367089, 0.7101817824112029, 0.7129017509542545, 0.7155486595165844, 0.7181222368362858, 0.7206222191666233, 0.723048350303063, 0.7254003816095285, 0.7276780720438826, 0.7298811881826287, 0.7320095042448338, 0.7340628021152663, 0.7360408713667493, 0.7379435092817258, 0.7397705208730334, 0.7415217189038875, 0.7431969239070696, 0.7447959642033194, 0.7463186759189291, 0.7477649030025375, 0.7491344972411227, 0.7504273182751913, 0.7516432336131624, 0.7527821186449467, 0.7538438566547155, 0.754828338832863, 0.7557354642871571, 0.756565140053079, 0.7573172811033503, 0.7579918103566478, 0.7585886586855013, 0.7591077649233795, 0.7595490758709577, 0.75991254630157, 0.760198138965844, 0.7604058245955189, 0.7605355819064442, 0.7605873976007613, 0.7605612663682666, 0.7604571908869548, 0.7602751818227456, 0.7600152578283895, 0.7596774455415575, 0.7592617795821098, 0.7587683025485491, 0.758197065013654, 0.757548125519297, 0.7568215505704442, 0.7560174146283405, 0.755135800102878, 0.7541767973441508, 0.7531405046331955, 0.752027028171919, 0.7508364820722152, 0.7495689883442698, 0.7482246768840566, 0.7468036854600261, 0.7453061596989857, 0.7437322530711759, 0.7420821268738076, 0.7403559429830603, 0.738543871725769, 0.7346503271040121, 0.6704334506494329, 0.34777165174564423, 0.050390895153780146, 0.001344505803490102, 5.581714582863077e-06, 3.363046408307612e-09, 2.845768293782539e-13], 'omegas': [39169377204.95754], 'carrier_amp': 184021318.15110484}\n"
     ]
    },
    {
     "ename": "KeyboardInterrupt",
     "evalue": "",
     "output_type": "error",
     "traceback": [
      "\u001b[0;31m---------------------------------------------------------------------------\u001b[0m",
      "\u001b[0;31mKeyboardInterrupt\u001b[0m                         Traceback (most recent call last)",
      "\u001b[0;32m<ipython-input-14-36e17af211d6>\u001b[0m in \u001b[0;36m<module>\u001b[0;34m\u001b[0m\n\u001b[1;32m     15\u001b[0m \u001b[0mfig\u001b[0m \u001b[0;34m=\u001b[0m \u001b[0mplt\u001b[0m\u001b[0;34m.\u001b[0m\u001b[0mfigure\u001b[0m\u001b[0;34m(\u001b[0m\u001b[0mfigsize\u001b[0m\u001b[0;34m=\u001b[0m\u001b[0;34m(\u001b[0m\u001b[0;36m5\u001b[0m\u001b[0;34m,\u001b[0m \u001b[0;36m4\u001b[0m\u001b[0;34m)\u001b[0m\u001b[0;34m)\u001b[0m\u001b[0;34m\u001b[0m\u001b[0;34m\u001b[0m\u001b[0m\n\u001b[1;32m     16\u001b[0m \u001b[0;34m\u001b[0m\u001b[0m\n\u001b[0;32m---> 17\u001b[0;31m \u001b[0mfridge\u001b[0m\u001b[0;34m.\u001b[0m\u001b[0mcalibrate\u001b[0m\u001b[0;34m(\u001b[0m\u001b[0mX_gate\u001b[0m\u001b[0;34m,\u001b[0m \u001b[0mopts\u001b[0m\u001b[0;34m)\u001b[0m\u001b[0;34m\u001b[0m\u001b[0;34m\u001b[0m\u001b[0m\n\u001b[0m",
      "\u001b[0;32m/localdisk/nwittler/repos/c3po/c3po/fidelity/measurement.py\u001b[0m in \u001b[0;36mcalibrate\u001b[0;34m(self, gate, opts, start_name, calib_name)\u001b[0m\n\u001b[1;32m    142\u001b[0m                     self.evaluate_gate(\n\u001b[1;32m    143\u001b[0m                         \u001b[0mgate\u001b[0m\u001b[0;34m,\u001b[0m\u001b[0;34m\u001b[0m\u001b[0;34m\u001b[0m\u001b[0m\n\u001b[0;32m--> 144\u001b[0;31m                         \u001b[0msamples_rescaled\u001b[0m\u001b[0;34m,\u001b[0m\u001b[0;34m\u001b[0m\u001b[0;34m\u001b[0m\u001b[0m\n\u001b[0m\u001b[1;32m    145\u001b[0m                         )\n\u001b[1;32m    146\u001b[0m                     )\n",
      "\u001b[0;32m<ipython-input-3-662ee3c45266>\u001b[0m in \u001b[0;36mevaluate_pulse\u001b[0;34m(gate, samples)\u001b[0m\n\u001b[1;32m     60\u001b[0m         \u001b[0mprint\u001b[0m\u001b[0;34m(\u001b[0m\u001b[0mpulse\u001b[0m\u001b[0;34m)\u001b[0m\u001b[0;34m\u001b[0m\u001b[0;34m\u001b[0m\u001b[0m\n\u001b[1;32m     61\u001b[0m         \u001b[0mLV_send_pulse\u001b[0m\u001b[0;34m(\u001b[0m\u001b[0msearch_id\u001b[0m\u001b[0;34m,\u001b[0m \u001b[0mpulse_id\u001b[0m\u001b[0;34m,\u001b[0m \u001b[0mpulse\u001b[0m\u001b[0;34m)\u001b[0m\u001b[0;34m\u001b[0m\u001b[0;34m\u001b[0m\u001b[0m\n\u001b[0;32m---> 62\u001b[0;31m         \u001b[0mfidelity\u001b[0m \u001b[0;34m=\u001b[0m \u001b[0mLV_recieve_fidelity\u001b[0m\u001b[0;34m(\u001b[0m\u001b[0msearch_id\u001b[0m\u001b[0;34m)\u001b[0m\u001b[0;34m\u001b[0m\u001b[0;34m\u001b[0m\u001b[0m\n\u001b[0m\u001b[1;32m     63\u001b[0m         \u001b[0minfidelities\u001b[0m\u001b[0;34m.\u001b[0m\u001b[0mappend\u001b[0m\u001b[0;34m(\u001b[0m\u001b[0;36m1\u001b[0m\u001b[0;34m-\u001b[0m\u001b[0mfidelity\u001b[0m\u001b[0;34m)\u001b[0m\u001b[0;34m\u001b[0m\u001b[0;34m\u001b[0m\u001b[0m\n\u001b[1;32m     64\u001b[0m     \u001b[0;32mreturn\u001b[0m \u001b[0minfidelities\u001b[0m\u001b[0;34m\u001b[0m\u001b[0;34m\u001b[0m\u001b[0m\n",
      "\u001b[0;32m<ipython-input-3-662ee3c45266>\u001b[0m in \u001b[0;36mLV_recieve_fidelity\u001b[0;34m(search_id)\u001b[0m\n\u001b[1;32m     34\u001b[0m \u001b[0;32mdef\u001b[0m \u001b[0mLV_recieve_fidelity\u001b[0m\u001b[0;34m(\u001b[0m\u001b[0msearch_id\u001b[0m\u001b[0;34m)\u001b[0m\u001b[0;34m:\u001b[0m\u001b[0;34m\u001b[0m\u001b[0;34m\u001b[0m\u001b[0m\n\u001b[1;32m     35\u001b[0m     \u001b[0mreceive_message\u001b[0m \u001b[0;34m=\u001b[0m \u001b[0msocketreq\u001b[0m\u001b[0;34m.\u001b[0m\u001b[0mrecv_string\u001b[0m\u001b[0;34m(\u001b[0m\u001b[0;34m)\u001b[0m\u001b[0;34m\u001b[0m\u001b[0;34m\u001b[0m\u001b[0m\n\u001b[0;32m---> 36\u001b[0;31m     \u001b[0mreply\u001b[0m \u001b[0;34m=\u001b[0m \u001b[0msocketrep\u001b[0m\u001b[0;34m.\u001b[0m\u001b[0mrecv_json\u001b[0m\u001b[0;34m(\u001b[0m\u001b[0;34m)\u001b[0m\u001b[0;34m\u001b[0m\u001b[0;34m\u001b[0m\u001b[0m\n\u001b[0m\u001b[1;32m     37\u001b[0m     \u001b[0msocketrep\u001b[0m\u001b[0;34m.\u001b[0m\u001b[0msend_string\u001b[0m\u001b[0;34m(\u001b[0m\u001b[0msearch_id\u001b[0m\u001b[0;34m)\u001b[0m\u001b[0;34m\u001b[0m\u001b[0;34m\u001b[0m\u001b[0m\n\u001b[1;32m     38\u001b[0m     \u001b[0;32mreturn\u001b[0m \u001b[0mreply\u001b[0m\u001b[0;34m[\u001b[0m\u001b[0;34m'fidelity'\u001b[0m\u001b[0;34m]\u001b[0m\u001b[0;34m\u001b[0m\u001b[0;34m\u001b[0m\u001b[0m\n",
      "\u001b[0;32m/usr/lib/python3.7/site-packages/zmq/sugar/socket.py\u001b[0m in \u001b[0;36mrecv_json\u001b[0;34m(self, flags, **kwargs)\u001b[0m\n\u001b[1;32m    666\u001b[0m             \u001b[0;32mfor\u001b[0m \u001b[0many\u001b[0m \u001b[0mof\u001b[0m \u001b[0mthe\u001b[0m \u001b[0mreasons\u001b[0m \u001b[0;34m:\u001b[0m\u001b[0mfunc\u001b[0m\u001b[0;34m:\u001b[0m\u001b[0;31m`\u001b[0m\u001b[0;34m~\u001b[0m\u001b[0mSocket\u001b[0m\u001b[0;34m.\u001b[0m\u001b[0mrecv\u001b[0m\u001b[0;31m`\u001b[0m \u001b[0mmight\u001b[0m \u001b[0mfail\u001b[0m\u001b[0;34m\u001b[0m\u001b[0;34m\u001b[0m\u001b[0m\n\u001b[1;32m    667\u001b[0m         \"\"\"\n\u001b[0;32m--> 668\u001b[0;31m         \u001b[0mmsg\u001b[0m \u001b[0;34m=\u001b[0m \u001b[0mself\u001b[0m\u001b[0;34m.\u001b[0m\u001b[0mrecv\u001b[0m\u001b[0;34m(\u001b[0m\u001b[0mflags\u001b[0m\u001b[0;34m)\u001b[0m\u001b[0;34m\u001b[0m\u001b[0;34m\u001b[0m\u001b[0m\n\u001b[0m\u001b[1;32m    669\u001b[0m         \u001b[0;32mreturn\u001b[0m \u001b[0mself\u001b[0m\u001b[0;34m.\u001b[0m\u001b[0m_deserialize\u001b[0m\u001b[0;34m(\u001b[0m\u001b[0mmsg\u001b[0m\u001b[0;34m,\u001b[0m \u001b[0;32mlambda\u001b[0m \u001b[0mbuf\u001b[0m\u001b[0;34m:\u001b[0m \u001b[0mjsonapi\u001b[0m\u001b[0;34m.\u001b[0m\u001b[0mloads\u001b[0m\u001b[0;34m(\u001b[0m\u001b[0mbuf\u001b[0m\u001b[0;34m,\u001b[0m \u001b[0;34m**\u001b[0m\u001b[0mkwargs\u001b[0m\u001b[0;34m)\u001b[0m\u001b[0;34m)\u001b[0m\u001b[0;34m\u001b[0m\u001b[0;34m\u001b[0m\u001b[0m\n\u001b[1;32m    670\u001b[0m \u001b[0;34m\u001b[0m\u001b[0m\n",
      "\u001b[0;32mzmq/backend/cython/socket.pyx\u001b[0m in \u001b[0;36mzmq.backend.cython.socket.Socket.recv\u001b[0;34m()\u001b[0m\n",
      "\u001b[0;32mzmq/backend/cython/socket.pyx\u001b[0m in \u001b[0;36mzmq.backend.cython.socket.Socket.recv\u001b[0;34m()\u001b[0m\n",
      "\u001b[0;32mzmq/backend/cython/socket.pyx\u001b[0m in \u001b[0;36mzmq.backend.cython.socket._recv_copy\u001b[0;34m()\u001b[0m\n",
      "\u001b[0;32m/usr/lib/python3.7/site-packages/zmq/backend/cython/checkrc.pxd\u001b[0m in \u001b[0;36mzmq.backend.cython.checkrc._check_rc\u001b[0;34m()\u001b[0m\n",
      "\u001b[0;31mKeyboardInterrupt\u001b[0m: "
     ]
    }
   ],
   "source": [
    "pwd = optim_name+\"/\"+time.strftime(\"%d%m%y-%H%M%S\", time.localtime())\n",
    "os.makedirs(pwd)\n",
    "\n",
    "opts = {\n",
    "    'CMA_stds': initial_spread,\n",
    "    'ftarget' : 1e-4,\n",
    "    'popsize' : 20\n",
    "}\n",
    "\n",
    "\n",
    "%matplotlib\n",
    "plt.rcParams['figure.dpi'] = 100\n",
    "plt.ion()\n",
    "plt.show()\n",
    "fig = plt.figure(figsize=(5, 4))\n",
    "\n",
    "fridge.calibrate(X_gate, opts)"
   ]
  },
  {
   "cell_type": "markdown",
   "metadata": {},
   "source": [
    "### Network shutdown \n",
    "After we're done:"
   ]
  },
  {
   "cell_type": "code",
   "execution_count": 20,
   "metadata": {},
   "outputs": [],
   "source": [
    "socketrep.unbind(calibration_daemon_searcher_URI)\n",
    "socketreq.disconnect(calibration_daemon_experiment_URI)"
   ]
  }
 ],
 "metadata": {
  "kernelspec": {
   "display_name": "Python 3",
   "language": "python",
   "name": "python3"
  },
  "language_info": {
   "codemirror_mode": {
    "name": "ipython",
    "version": 3
   },
   "file_extension": ".py",
   "mimetype": "text/x-python",
   "name": "python",
   "nbconvert_exporter": "python",
   "pygments_lexer": "ipython3",
   "version": "3.7.3"
  },
  "toc": {
   "base_numbering": 1,
   "nav_menu": {},
   "number_sections": true,
   "sideBar": true,
   "skip_h1_title": false,
   "title_cell": "Table of Contents",
   "title_sidebar": "Contents",
   "toc_cell": false,
   "toc_position": {
    "height": "calc(100% - 180px)",
    "left": "10px",
    "top": "150px",
    "width": "260px"
   },
   "toc_section_display": true,
   "toc_window_display": true
  },
  "varInspector": {
   "cols": {
    "lenName": 16,
    "lenType": 16,
    "lenVar": 40
   },
   "kernels_config": {
    "python": {
     "delete_cmd_postfix": "",
     "delete_cmd_prefix": "del ",
     "library": "var_list.py",
     "varRefreshCmd": "print(var_dic_list())"
    },
    "r": {
     "delete_cmd_postfix": ") ",
     "delete_cmd_prefix": "rm(",
     "library": "var_list.r",
     "varRefreshCmd": "cat(var_dic_list()) "
    }
   },
   "position": {
    "height": "1194px",
    "left": "1854px",
    "right": "20px",
    "top": "131px",
    "width": "686px"
   },
   "types_to_exclude": [
    "module",
    "function",
    "builtin_function_or_method",
    "instance",
    "_Feature"
   ],
   "window_display": true
  }
 },
 "nbformat": 4,
 "nbformat_minor": 2
}
