{
 "cells": [
  {
   "cell_type": "markdown",
   "metadata": {},
   "source": [
    "# Import and definitions"
   ]
  },
  {
   "cell_type": "code",
   "execution_count": 1,
   "metadata": {},
   "outputs": [],
   "source": [
    "# Jupyter Notebook nicer display\n",
    "from IPython.display import clear_output\n",
    "\n",
    "from c3po.control.envelopes import *\n",
    "from c3po.cobj.component import InstructionComponent as CtrlComp\n",
    "from c3po.cobj.group import ComponentGroup as CompGroup\n",
    "from c3po.control.control import Instruction as Instruction\n",
    "from c3po.control.control import GateSet as GateSet\n",
    "\n",
    "from c3po.control.generator import Device as Device\n",
    "from c3po.control.generator import AWG as AWG\n",
    "from c3po.control.generator import Mixer as Mixer\n",
    "from c3po.control.generator import Generator as Generator\n",
    "\n",
    "from c3po.utils.tf_utils import *\n",
    "\n",
    "from c3po.cobj.component import *\n",
    "from c3po.main.model import Model as mdl\n",
    "\n",
    "from c3po.optimizer.optimizer import Optimizer as Opt\n",
    "from c3po.simulation.simulator import Simulator as Sim\n",
    "\n",
    "import uuid\n",
    "import copy\n",
    "import pickle\n",
    "\n",
    "import tensorflow as tf\n",
    "\n",
    "import matplotlib.pyplot as plt\n",
    "%matplotlib qt5"
   ]
  },
  {
   "cell_type": "code",
   "execution_count": 2,
   "metadata": {},
   "outputs": [],
   "source": [
    "# System\n",
    "qubit_freq = 6e9 * 2 * np.pi\n",
    "qubit_anhar = -100e6 *2 * np.pi\n",
    "qubit_lvls = 6\n",
    "mV_to_Amp = 2e9*np.pi\n",
    "\n",
    "# For pwc calculate the number of slices beforehand:\n",
    "awg_res = 1.2e9 #1.2GHz\n",
    "T_final = 12e-9 #12ns\n",
    "slice_num = int(T_final * awg_res)\n",
    "amp_limit = 500e-3 #300mV"
   ]
  },
  {
   "cell_type": "code",
   "execution_count": 3,
   "metadata": {},
   "outputs": [],
   "source": [
    "qubit_g = np.zeros([qubit_lvls, 1])\n",
    "qubit_g[0] = 1\n",
    "\n",
    "qubit_e = np.zeros([qubit_lvls, 1])\n",
    "qubit_e[1] = 1\n",
    "\n",
    "ket_init = tf.constant(qubit_g, tf.complex128)\n",
    "bra_goal = tf.constant(qubit_e.T, tf.complex128)"
   ]
  },
  {
   "cell_type": "code",
   "execution_count": 4,
   "metadata": {},
   "outputs": [],
   "source": [
    "q1 = Qubit(\n",
    "    name = \"Q1\",\n",
    "    desc = \"Qubit 1\",\n",
    "    comment = \"The one and only qubit in this chip\",\n",
    "    freq = qubit_freq,\n",
    "    delta = qubit_anhar,\n",
    "    hilbert_dim = qubit_lvls\n",
    "    )\n",
    "\n",
    "drive = Drive(\n",
    "    name = \"D1\",\n",
    "    desc = \"Drive 1\",\n",
    "    comment = \"Drive line 1 on qubit 1\",\n",
    "    connected = [q1.name]\n",
    "    )\n",
    "\n",
    "chip_elements = [\n",
    "    q1,\n",
    "     drive\n",
    "     ]\n",
    "\n",
    "simple_model = mdl(chip_elements, mV_to_Amp)"
   ]
  },
  {
   "cell_type": "code",
   "execution_count": 5,
   "metadata": {},
   "outputs": [],
   "source": [
    "def pwc(t, params):\n",
    "    return params\n",
    "\n",
    "pwc_params = {\n",
    "    'Inphase' : np.ones(slice_num)*0.5*amp_limit,\n",
    "    'Quadrature' : np.ones(slice_num)*0.5*amp_limit\n",
    "}\n",
    "\n",
    "pwc_bounds = {\n",
    "    'Inphase' : [-amp_limit, amp_limit]*slice_num,\n",
    "    'Quadrature' : [-amp_limit, amp_limit]*slice_num\n",
    "    }\n",
    "\n",
    "carrier_parameters = {\n",
    "    'freq' : 5.95e9 * 2 * np.pi\n",
    "}\n",
    "\n",
    "# Devices\n",
    "\n",
    "awg = AWG()\n",
    "mixer = Mixer()\n",
    "\n",
    "\n",
    "devices = {\n",
    "    \"awg\" : awg,\n",
    "    \"mixer\" : mixer\n",
    "}\n",
    "\n",
    "resolutions = {\n",
    "    \"awg\" : awg_res,\n",
    "    \"sim\" : 5e10\n",
    "}\n"
   ]
  },
  {
   "cell_type": "code",
   "execution_count": 6,
   "metadata": {},
   "outputs": [],
   "source": [
    "env_group = CompGroup()\n",
    "env_group.name = \"env_group\"\n",
    "env_group.desc = \"group containing all components of type envelop\"\n",
    "carr_group = CompGroup()\n",
    "carr_group.name = \"carr_group\"\n",
    "carr_group.desc = \"group containing all components of type carrier\"\n",
    "\n",
    "p1 = CtrlComp(\n",
    "    name = \"pwc\",\n",
    "    desc = \"PWC comp 1 of signal 1\",\n",
    "    shape = pwc,\n",
    "    params = pwc_params,\n",
    "    bounds = pwc_bounds,\n",
    "    groups = [env_group.get_uuid()]\n",
    ")\n",
    "\n",
    "env_group.add_element(p1)\n",
    "\n",
    "carr = CtrlComp(\n",
    "    name = \"carrier\",\n",
    "    desc = \"Frequency of the local oscillator\",\n",
    "    params = carrier_parameters,\n",
    "    groups = [carr_group.get_uuid()]\n",
    ")\n",
    "carr_group.add_element(carr)\n",
    "\n",
    "comps = []\n",
    "comps.append(carr)\n",
    "comps.append(p1)\n",
    "\n",
    "ctrl = Instruction()\n",
    "ctrl.name = \"control1\"\n",
    "ctrl.t_start = 0.0\n",
    "ctrl.t_end = T_final\n",
    "ctrl.comps = comps\n",
    "\n",
    "ctrls = GateSet([ctrl])\n",
    "\n",
    "resources = [ctrl]\n",
    "\n",
    "\n",
    "resource_groups = {\n",
    "    \"env\" : env_group,\n",
    "    \"carr\" : carr_group\n",
    "}\n",
    "\n",
    "\n",
    "gen = Generator()\n",
    "gen.devices = devices\n",
    "gen.resolutions = resolutions\n",
    "gen.resources = resources\n",
    "gen.resource_groups = resource_groups"
   ]
  },
  {
   "cell_type": "code",
   "execution_count": 7,
   "metadata": {},
   "outputs": [],
   "source": [
    "%matplotlib qt5\n",
    "sim = Sim(simple_model, gen, ctrls)\n",
    "\n",
    "opt = Opt()\n",
    "\n",
    "def evaluate_signals(pulse_params, opt_params):\n",
    "\n",
    "    model_params = sim.model.params\n",
    "    U = sim.propagation(pulse_params, opt_params, model_params)\n",
    "    psi_actual = tf.matmul(U, ket_init)\n",
    "    overlap = tf.matmul(bra_goal, psi_actual)\n",
    "\n",
    "    return 1-tf.cast(tf.math.conj(overlap)*overlap, tf.float64)"
   ]
  },
  {
   "cell_type": "code",
   "execution_count": 8,
   "metadata": {
    "scrolled": true
   },
   "outputs": [
    {
     "name": "stdout",
     "output_type": "stream",
     "text": [
      "WARNING:tensorflow:From /home/usersFWM/niwitt/.local/lib/python3.7/site-packages/tensorflow_core/python/ops/array_grad.py:502: _EagerTensorBase.cpu (from tensorflow.python.framework.ops) is deprecated and will be removed in a future version.\n",
      "Instructions for updating:\n",
      "Use tf.identity instead.\n"
     ]
    },
    {
     "name": "stderr",
     "output_type": "stream",
     "text": [
      "WARNING:tensorflow:From /home/usersFWM/niwitt/.local/lib/python3.7/site-packages/tensorflow_core/python/ops/array_grad.py:502: _EagerTensorBase.cpu (from tensorflow.python.framework.ops) is deprecated and will be removed in a future version.\n",
      "Instructions for updating:\n",
      "Use tf.identity instead.\n"
     ]
    }
   ],
   "source": [
    "opt_map = {\n",
    "    'Inphase' : [(ctrl.get_uuid(), p1.get_uuid())],\n",
    "    'Quadrature' : [(ctrl.get_uuid(), p1.get_uuid())]\n",
    "}\n",
    "\n",
    "opt_params = ctrls.get_corresponding_control_parameters(opt_map)\n",
    "\n",
    "opt.optimize_controls(\n",
    "    controls = ctrls,\n",
    "    opt_map = opt_map,\n",
    "    opt = 'lbfgs',\n",
    "    calib_name = 'openloop',\n",
    "    eval_func = evaluate_signals\n",
    "    )"
   ]
  },
  {
   "cell_type": "code",
   "execution_count": 29,
   "metadata": {},
   "outputs": [],
   "source": [
    "sim.plot_dynamics(ket_init)"
   ]
  },
  {
   "cell_type": "code",
   "execution_count": 32,
   "metadata": {},
   "outputs": [
    {
     "data": {
      "text/plain": [
       "{'freq': [('control1', 'carrier')],\n",
       " 'Inphase': [('control1', 'pwc')],\n",
       " 'Quadrature': [('control1', 'pwc')]}"
      ]
     },
     "execution_count": 32,
     "metadata": {},
     "output_type": "execute_result"
    }
   ],
   "source": [
    "ctrl.generate_opt_map()"
   ]
  },
  {
   "cell_type": "code",
   "execution_count": 33,
   "metadata": {},
   "outputs": [
    {
     "data": {
      "text/plain": [
       "{'values': [array([0.25, 0.25, 0.25, 0.25, 0.25, 0.25, 0.25, 0.25, 0.25, 0.25, 0.25,\n",
       "         0.25, 0.25, 0.25]),\n",
       "  array([0.25, 0.25, 0.25, 0.25, 0.25, 0.25, 0.25, 0.25, 0.25, 0.25, 0.25,\n",
       "         0.25, 0.25, 0.25])],\n",
       " 'bounds': [[-0.5 ,\n",
       "   0.5 ,\n",
       "   -0.5 ,\n",
       "   0.5 ,\n",
       "   -0.5 ,\n",
       "   0.5 ,\n",
       "   -0.5 ,\n",
       "   0.5 ,\n",
       "   -0.5 ,\n",
       "   0.5 ,\n",
       "   -0.5 ,\n",
       "   0.5 ,\n",
       "   -0.5 ,\n",
       "   0.5 ,\n",
       "   -0.5 ,\n",
       "   0.5 ,\n",
       "   -0.5 ,\n",
       "   0.5 ,\n",
       "   -0.5 ,\n",
       "   0.5 ,\n",
       "   -0.5 ,\n",
       "   0.5 ,\n",
       "   -0.5 ,\n",
       "   0.5 ,\n",
       "   -0.5 ,\n",
       "   0.5 ,\n",
       "   -0.5 ,\n",
       "   0.5 ],\n",
       "  [-0.5 ,\n",
       "   0.5 ,\n",
       "   -0.5 ,\n",
       "   0.5 ,\n",
       "   -0.5 ,\n",
       "   0.5 ,\n",
       "   -0.5 ,\n",
       "   0.5 ,\n",
       "   -0.5 ,\n",
       "   0.5 ,\n",
       "   -0.5 ,\n",
       "   0.5 ,\n",
       "   -0.5 ,\n",
       "   0.5 ,\n",
       "   -0.5 ,\n",
       "   0.5 ,\n",
       "   -0.5 ,\n",
       "   0.5 ,\n",
       "   -0.5 ,\n",
       "   0.5 ,\n",
       "   -0.5 ,\n",
       "   0.5 ,\n",
       "   -0.5 ,\n",
       "   0.5 ,\n",
       "   -0.5 ,\n",
       "   0.5 ,\n",
       "   -0.5 ,\n",
       "   0.5 ]],\n",
       " 'origin': [('Inphase',\n",
       "   (UUID('17b56bd8-03fe-4f45-ad3c-0d18a1405f79'),\n",
       "    UUID('ec7d3b58-e16c-4c81-9e71-e9025d7370fa'))),\n",
       "  ('Quadrature',\n",
       "   (UUID('17b56bd8-03fe-4f45-ad3c-0d18a1405f79'),\n",
       "    UUID('ec7d3b58-e16c-4c81-9e71-e9025d7370fa')))]}"
      ]
     },
     "execution_count": 33,
     "metadata": {},
     "output_type": "execute_result"
    }
   ],
   "source": [
    "opt_params"
   ]
  },
  {
   "cell_type": "code",
   "execution_count": 34,
   "metadata": {},
   "outputs": [],
   "source": [
    "ts = awg.ts"
   ]
  },
  {
   "cell_type": "code",
   "execution_count": 38,
   "metadata": {},
   "outputs": [
    {
     "data": {
      "text/plain": [
       "14"
      ]
     },
     "execution_count": 38,
     "metadata": {},
     "output_type": "execute_result"
    }
   ],
   "source": [
    "ts.shape[0]"
   ]
  },
  {
   "cell_type": "code",
   "execution_count": 49,
   "metadata": {},
   "outputs": [],
   "source": [
    "from c3po.utils.tf_utils import tf_interp_sin as interp"
   ]
  },
  {
   "cell_type": "code",
   "execution_count": 50,
   "metadata": {},
   "outputs": [
    {
     "ename": "InvalidArgumentError",
     "evalue": "OpKernel 'ConcatV2' has constraint on attr 'T' not in NodeDef '[N=0, Tidx=DT_DOUBLE]', KernelDef: 'op: \"ConcatV2\" device_type: \"GPU\" constraint { name: \"T\" allowed_values { list { type: DT_INT32 } } } host_memory_arg: \"values\" host_memory_arg: \"axis\" host_memory_arg: \"output\"' [Op:ConcatV2] name: concat",
     "output_type": "error",
     "traceback": [
      "\u001b[0;31m---------------------------------------------------------------------------\u001b[0m",
      "\u001b[0;31mInvalidArgumentError\u001b[0m                      Traceback (most recent call last)",
      "\u001b[0;32m<ipython-input-50-e7519f66b5d6>\u001b[0m in \u001b[0;36m<module>\u001b[0;34m\u001b[0m\n\u001b[0;32m----> 1\u001b[0;31m \u001b[0minterp\u001b[0m\u001b[0;34m(\u001b[0m\u001b[0mawg\u001b[0m\u001b[0;34m.\u001b[0m\u001b[0mInphase\u001b[0m\u001b[0;34m,\u001b[0m \u001b[0mawg\u001b[0m\u001b[0;34m.\u001b[0m\u001b[0mts\u001b[0m\u001b[0;34m,\u001b[0m \u001b[0mmixer\u001b[0m\u001b[0;34m.\u001b[0m\u001b[0mts\u001b[0m\u001b[0;34m)\u001b[0m\u001b[0;34m\u001b[0m\u001b[0;34m\u001b[0m\u001b[0m\n\u001b[0m",
      "\u001b[0;32m~/c3po/c3po/utils/tf_utils.py\u001b[0m in \u001b[0;36mtf_interp_sin\u001b[0;34m(y_lo, x_lo, x_hi)\u001b[0m\n\u001b[1;32m    164\u001b[0m         \u001b[0mx\u001b[0m \u001b[0;34m=\u001b[0m \u001b[0mtf\u001b[0m\u001b[0;34m.\u001b[0m\u001b[0mlinspace\u001b[0m\u001b[0;34m(\u001b[0m\u001b[0mx_left\u001b[0m\u001b[0;34m,\u001b[0m \u001b[0mx_right\u001b[0m\u001b[0;34m,\u001b[0m \u001b[0mn\u001b[0m\u001b[0;34m)\u001b[0m\u001b[0;34m\u001b[0m\u001b[0;34m\u001b[0m\u001b[0m\n\u001b[1;32m    165\u001b[0m         \u001b[0my\u001b[0m \u001b[0;34m=\u001b[0m \u001b[0;34m(\u001b[0m\u001b[0my_lo\u001b[0m\u001b[0;34m[\u001b[0m\u001b[0mxi\u001b[0m\u001b[0;34m-\u001b[0m\u001b[0;36m1\u001b[0m\u001b[0;34m]\u001b[0m \u001b[0;34m+\u001b[0m \u001b[0;34m(\u001b[0m\u001b[0my_lo\u001b[0m\u001b[0;34m[\u001b[0m\u001b[0mxi\u001b[0m\u001b[0;34m]\u001b[0m \u001b[0;34m-\u001b[0m \u001b[0my_lo\u001b[0m\u001b[0;34m[\u001b[0m\u001b[0mxi\u001b[0m\u001b[0;34m-\u001b[0m\u001b[0;36m1\u001b[0m\u001b[0;34m]\u001b[0m\u001b[0;34m)\u001b[0m \u001b[0;34m*\u001b[0m \u001b[0mtf\u001b[0m\u001b[0;34m.\u001b[0m\u001b[0msin\u001b[0m\u001b[0;34m(\u001b[0m\u001b[0mnp\u001b[0m\u001b[0;34m.\u001b[0m\u001b[0mpi\u001b[0m\u001b[0;34m/\u001b[0m\u001b[0mdx\u001b[0m\u001b[0;34m*\u001b[0m\u001b[0mx\u001b[0m\u001b[0;34m)\u001b[0m\u001b[0;34m)\u001b[0m\u001b[0;34m\u001b[0m\u001b[0;34m\u001b[0m\u001b[0m\n\u001b[0;32m--> 166\u001b[0;31m         \u001b[0my_hi\u001b[0m \u001b[0;34m=\u001b[0m \u001b[0mtf\u001b[0m\u001b[0;34m.\u001b[0m\u001b[0mconcat\u001b[0m\u001b[0;34m(\u001b[0m\u001b[0my_hi\u001b[0m\u001b[0;34m,\u001b[0m \u001b[0my\u001b[0m\u001b[0;34m)\u001b[0m\u001b[0;34m\u001b[0m\u001b[0;34m\u001b[0m\u001b[0m\n\u001b[0m\u001b[1;32m    167\u001b[0m         \u001b[0mx_left\u001b[0m \u001b[0;34m=\u001b[0m \u001b[0mx_right\u001b[0m\u001b[0;34m\u001b[0m\u001b[0;34m\u001b[0m\u001b[0m\n\u001b[1;32m    168\u001b[0m     \u001b[0;32mreturn\u001b[0m \u001b[0my_hi\u001b[0m\u001b[0;34m\u001b[0m\u001b[0;34m\u001b[0m\u001b[0m\n",
      "\u001b[0;32m~/.local/lib/python3.7/site-packages/tensorflow_core/python/util/dispatch.py\u001b[0m in \u001b[0;36mwrapper\u001b[0;34m(*args, **kwargs)\u001b[0m\n\u001b[1;32m    178\u001b[0m     \u001b[0;34m\"\"\"Call target, and fall back on dispatchers if there is a TypeError.\"\"\"\u001b[0m\u001b[0;34m\u001b[0m\u001b[0;34m\u001b[0m\u001b[0m\n\u001b[1;32m    179\u001b[0m     \u001b[0;32mtry\u001b[0m\u001b[0;34m:\u001b[0m\u001b[0;34m\u001b[0m\u001b[0;34m\u001b[0m\u001b[0m\n\u001b[0;32m--> 180\u001b[0;31m       \u001b[0;32mreturn\u001b[0m \u001b[0mtarget\u001b[0m\u001b[0;34m(\u001b[0m\u001b[0;34m*\u001b[0m\u001b[0margs\u001b[0m\u001b[0;34m,\u001b[0m \u001b[0;34m**\u001b[0m\u001b[0mkwargs\u001b[0m\u001b[0;34m)\u001b[0m\u001b[0;34m\u001b[0m\u001b[0;34m\u001b[0m\u001b[0m\n\u001b[0m\u001b[1;32m    181\u001b[0m     \u001b[0;32mexcept\u001b[0m \u001b[0;34m(\u001b[0m\u001b[0mTypeError\u001b[0m\u001b[0;34m,\u001b[0m \u001b[0mValueError\u001b[0m\u001b[0;34m)\u001b[0m\u001b[0;34m:\u001b[0m\u001b[0;34m\u001b[0m\u001b[0;34m\u001b[0m\u001b[0m\n\u001b[1;32m    182\u001b[0m       \u001b[0;31m# Note: convert_to_eager_tensor currently raises a ValueError, not a\u001b[0m\u001b[0;34m\u001b[0m\u001b[0;34m\u001b[0m\u001b[0;34m\u001b[0m\u001b[0m\n",
      "\u001b[0;32m~/.local/lib/python3.7/site-packages/tensorflow_core/python/ops/array_ops.py\u001b[0m in \u001b[0;36mconcat\u001b[0;34m(values, axis, name)\u001b[0m\n\u001b[1;32m   1429\u001b[0m           dtype=dtypes.int32).get_shape().assert_has_rank(0)\n\u001b[1;32m   1430\u001b[0m       \u001b[0;32mreturn\u001b[0m \u001b[0midentity\u001b[0m\u001b[0;34m(\u001b[0m\u001b[0mvalues\u001b[0m\u001b[0;34m[\u001b[0m\u001b[0;36m0\u001b[0m\u001b[0;34m]\u001b[0m\u001b[0;34m,\u001b[0m \u001b[0mname\u001b[0m\u001b[0;34m=\u001b[0m\u001b[0mname\u001b[0m\u001b[0;34m)\u001b[0m\u001b[0;34m\u001b[0m\u001b[0;34m\u001b[0m\u001b[0m\n\u001b[0;32m-> 1431\u001b[0;31m   \u001b[0;32mreturn\u001b[0m \u001b[0mgen_array_ops\u001b[0m\u001b[0;34m.\u001b[0m\u001b[0mconcat_v2\u001b[0m\u001b[0;34m(\u001b[0m\u001b[0mvalues\u001b[0m\u001b[0;34m=\u001b[0m\u001b[0mvalues\u001b[0m\u001b[0;34m,\u001b[0m \u001b[0maxis\u001b[0m\u001b[0;34m=\u001b[0m\u001b[0maxis\u001b[0m\u001b[0;34m,\u001b[0m \u001b[0mname\u001b[0m\u001b[0;34m=\u001b[0m\u001b[0mname\u001b[0m\u001b[0;34m)\u001b[0m\u001b[0;34m\u001b[0m\u001b[0;34m\u001b[0m\u001b[0m\n\u001b[0m\u001b[1;32m   1432\u001b[0m \u001b[0;34m\u001b[0m\u001b[0m\n\u001b[1;32m   1433\u001b[0m \u001b[0;34m\u001b[0m\u001b[0m\n",
      "\u001b[0;32m~/.local/lib/python3.7/site-packages/tensorflow_core/python/ops/gen_array_ops.py\u001b[0m in \u001b[0;36mconcat_v2\u001b[0;34m(values, axis, name)\u001b[0m\n\u001b[1;32m   1247\u001b[0m       \u001b[0;32melse\u001b[0m\u001b[0;34m:\u001b[0m\u001b[0;34m\u001b[0m\u001b[0;34m\u001b[0m\u001b[0m\n\u001b[1;32m   1248\u001b[0m         \u001b[0mmessage\u001b[0m \u001b[0;34m=\u001b[0m \u001b[0me\u001b[0m\u001b[0;34m.\u001b[0m\u001b[0mmessage\u001b[0m\u001b[0;34m\u001b[0m\u001b[0;34m\u001b[0m\u001b[0m\n\u001b[0;32m-> 1249\u001b[0;31m       \u001b[0m_six\u001b[0m\u001b[0;34m.\u001b[0m\u001b[0mraise_from\u001b[0m\u001b[0;34m(\u001b[0m\u001b[0m_core\u001b[0m\u001b[0;34m.\u001b[0m\u001b[0m_status_to_exception\u001b[0m\u001b[0;34m(\u001b[0m\u001b[0me\u001b[0m\u001b[0;34m.\u001b[0m\u001b[0mcode\u001b[0m\u001b[0;34m,\u001b[0m \u001b[0mmessage\u001b[0m\u001b[0;34m)\u001b[0m\u001b[0;34m,\u001b[0m \u001b[0;32mNone\u001b[0m\u001b[0;34m)\u001b[0m\u001b[0;34m\u001b[0m\u001b[0;34m\u001b[0m\u001b[0m\n\u001b[0m\u001b[1;32m   1250\u001b[0m   \u001b[0;31m# Add nodes to the TensorFlow graph.\u001b[0m\u001b[0;34m\u001b[0m\u001b[0;34m\u001b[0m\u001b[0;34m\u001b[0m\u001b[0m\n\u001b[1;32m   1251\u001b[0m   \u001b[0;32mif\u001b[0m \u001b[0;32mnot\u001b[0m \u001b[0misinstance\u001b[0m\u001b[0;34m(\u001b[0m\u001b[0mvalues\u001b[0m\u001b[0;34m,\u001b[0m \u001b[0;34m(\u001b[0m\u001b[0mlist\u001b[0m\u001b[0;34m,\u001b[0m \u001b[0mtuple\u001b[0m\u001b[0;34m)\u001b[0m\u001b[0;34m)\u001b[0m\u001b[0;34m:\u001b[0m\u001b[0;34m\u001b[0m\u001b[0;34m\u001b[0m\u001b[0m\n",
      "\u001b[0;32m~/.local/lib/python3.7/site-packages/six.py\u001b[0m in \u001b[0;36mraise_from\u001b[0;34m(value, from_value)\u001b[0m\n",
      "\u001b[0;31mInvalidArgumentError\u001b[0m: OpKernel 'ConcatV2' has constraint on attr 'T' not in NodeDef '[N=0, Tidx=DT_DOUBLE]', KernelDef: 'op: \"ConcatV2\" device_type: \"GPU\" constraint { name: \"T\" allowed_values { list { type: DT_INT32 } } } host_memory_arg: \"values\" host_memory_arg: \"axis\" host_memory_arg: \"output\"' [Op:ConcatV2] name: concat"
     ]
    }
   ],
   "source": [
    "interp(awg.Inphase, awg.ts, mixer.ts)"
   ]
  },
  {
   "cell_type": "code",
   "execution_count": 43,
   "metadata": {},
   "outputs": [
    {
     "data": {
      "text/plain": [
       "TensorShape([14])"
      ]
     },
     "execution_count": 43,
     "metadata": {},
     "output_type": "execute_result"
    }
   ],
   "source": [
    "awg.ts.shape"
   ]
  },
  {
   "cell_type": "code",
   "execution_count": 44,
   "metadata": {},
   "outputs": [
    {
     "data": {
      "text/plain": [
       "42.86 "
      ]
     },
     "execution_count": 44,
     "metadata": {},
     "output_type": "execute_result"
    }
   ],
   "source": [
    "600/14"
   ]
  },
  {
   "cell_type": "code",
   "execution_count": null,
   "metadata": {},
   "outputs": [],
   "source": []
  }
 ],
 "metadata": {
  "kernelspec": {
   "display_name": "Python 3",
   "language": "python",
   "name": "python3"
  },
  "language_info": {
   "codemirror_mode": {
    "name": "ipython",
    "version": 3
   },
   "file_extension": ".py",
   "mimetype": "text/x-python",
   "name": "python",
   "nbconvert_exporter": "python",
   "pygments_lexer": "ipython3",
   "version": "3.7.4"
  },
  "varInspector": {
   "cols": {
    "lenName": 16,
    "lenType": 16,
    "lenVar": 40
   },
   "kernels_config": {
    "python": {
     "delete_cmd_postfix": "",
     "delete_cmd_prefix": "del ",
     "library": "var_list.py",
     "varRefreshCmd": "print(var_dic_list())"
    },
    "r": {
     "delete_cmd_postfix": ") ",
     "delete_cmd_prefix": "rm(",
     "library": "var_list.r",
     "varRefreshCmd": "cat(var_dic_list()) "
    }
   },
   "types_to_exclude": [
    "module",
    "function",
    "builtin_function_or_method",
    "instance",
    "_Feature"
   ],
   "window_display": true
  }
 },
 "nbformat": 4,
 "nbformat_minor": 2
}
