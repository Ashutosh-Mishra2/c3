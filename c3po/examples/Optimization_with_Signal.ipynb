{
 "cells": [
  {
   "cell_type": "markdown",
   "metadata": {},
   "source": [
    "# Import and definitions"
   ]
  },
  {
   "cell_type": "code",
   "execution_count": 1,
   "metadata": {},
   "outputs": [],
   "source": [
    "# Jupyter Notebook \n",
    "from IPython.display import clear_output\n",
    "\n",
    "# Additional utils\n",
    "import numpy as np\n",
    "import pprint\n",
    "\n",
    "# c3 Imports\n",
    "from c3po.signals.envelopes import *\n",
    "from c3po.signals.component import Component as Comp\n",
    "from c3po.signals.signal import IQ as IQ\n",
    "\n",
    "from c3po.optimizer.optimizer import Optimizer as Optimizer"
   ]
  },
  {
   "cell_type": "markdown",
   "metadata": {},
   "source": [
    "# Specify Initial Signal/Pulse and Bounds\n",
    "\n",
    "### Initialize and set parameters + bounds of Components of the Signal/Pulse"
   ]
  },
  {
   "cell_type": "code",
   "execution_count": 2,
   "metadata": {},
   "outputs": [
    {
     "name": "stdout",
     "output_type": "stream",
     "text": [
      "flat uuid: 382738e8-d7a0-42af-a374-803026c9223a\n",
      "drag uuid: e9f0bf55-f9de-4dfb-9a9d-6e9039b5aaa4\n",
      "carr uuid: ebd4dacc-f3f4-416e-adf1-c2e32cc0221d\n"
     ]
    }
   ],
   "source": [
    "flattop_params = {\n",
    "    'amp' : 15e6 * 2 * np.pi,\n",
    "    'T_up' : 5e-9,\n",
    "    'T_down' : 45e-9,\n",
    "    'xy_angle' : 0,\n",
    "    'freq_offset' : 0e6 * 2 * np.pi\n",
    "}\n",
    "\n",
    "flattop_bounds = {\n",
    "    'amp': [1e3*2*np.pi, 1e9*2*np.pi],\n",
    "    'T_up': [2e-9, 200e-9],\n",
    "    'T_down': [2e-9, 200e-9],\n",
    "    'xy_angle': [-np.pi, np.pi],\n",
    "    'freq_offset': [-1e9*2*np.pi, 1e9*2*np.pi]\n",
    "}\n",
    "\n",
    "drag_params = {\n",
    "    'amp' : 3e6 * 2 * np.pi,\n",
    "    'T_up' : 25e-9,\n",
    "    'T_down' : 30e-9,\n",
    "    'xy_angle' : np.pi / 2.0,\n",
    "    'freq_offset' : 0e6 * 2 * np.pi\n",
    "}\n",
    "\n",
    "drag_bounds = {\n",
    "    'amp': [1e3*2*np.pi, 1e9*2*np.pi],\n",
    "    'T_up': [2e-9, 200e-9],\n",
    "    'T_down': [2e-9, 200e-9],\n",
    "    'xy_angle': [-np.pi, np.pi],\n",
    "    'freq_offset': [-1e9*2*np.pi, 1e9*2*np.pi]\n",
    "}\n",
    "\n",
    "carrier_parameters = {\n",
    "    'freq' : 6e9 * 2 * np.pi\n",
    "}\n",
    "\n",
    "\n",
    "def my_flattop(t, params):\n",
    "    t_up = params['T_up']\n",
    "    t_down = params['T_down']\n",
    "    return flattop(t, t_up, t_down)\n",
    "\n",
    "\n",
    "# Component 1 of the signal\n",
    "flat = Comp(\n",
    "    desc = \"pulse1\",\n",
    "    shape = my_flattop,\n",
    "    params = flattop_params,\n",
    "    bounds = flattop_bounds\n",
    ")\n",
    "\n",
    "# Each component has a Universally unique identifier (UUID) that identifies/represents the instance of the object\n",
    "print(\"flat uuid: \" + str(flat.get_uuid()))\n",
    "\n",
    "# Component 2 of the signal\n",
    "drag = Comp(\n",
    "    desc = \"pulse2\",\n",
    "    shape = my_flattop,\n",
    "    params = drag_params,\n",
    "    bounds = drag_bounds\n",
    ")\n",
    "\n",
    "# Each component has a Universally unique identifier (UUID) that identifies/represents the instance of the object\n",
    "print(\"drag uuid: \" + str(drag.get_uuid()))\n",
    "\n",
    "# Component 3 of the signal; the carrier doesn't have a shape only parameters\n",
    "carr = Comp(\n",
    "    desc = \"carrier\",\n",
    "    params = carrier_parameters\n",
    ")\n",
    "\n",
    "# Each component has a Universally unique identifier (UUID) that identifies/represents the instance of the object\n",
    "print(\"carr uuid: \" + str(carr.get_uuid()))"
   ]
  },
  {
   "cell_type": "markdown",
   "metadata": {},
   "source": [
    "### Build Signal with Components "
   ]
  },
  {
   "cell_type": "code",
   "execution_count": 3,
   "metadata": {},
   "outputs": [],
   "source": [
    "comps = []\n",
    "comps.append(carr)\n",
    "comps.append(flat)\n",
    "comps.append(drag)"
   ]
  },
  {
   "cell_type": "code",
   "execution_count": 4,
   "metadata": {},
   "outputs": [],
   "source": [
    "sig = IQ()\n",
    "sig.t_start = 0\n",
    "sig.t_end = 150e-9\n",
    "sig.res = 1e9\n",
    "\n",
    "sig.calc_slice_num()\n",
    "sig.create_ts()\n",
    "\n",
    "sig.comps = comps\n",
    "\n",
    "sig.save_params_to_history(\"initial\")"
   ]
  },
  {
   "cell_type": "code",
   "execution_count": 5,
   "metadata": {
    "scrolled": true
   },
   "outputs": [
    {
     "name": "stdout",
     "output_type": "stream",
     "text": [
      "{'T_down': {UUID('382738e8-d7a0-42af-a374-803026c9223a'): {'bounds': [2e-09,\n",
      "                                                                      2e-07],\n",
      "                                                           'value': 4.5e-08},\n",
      "            UUID('e9f0bf55-f9de-4dfb-9a9d-6e9039b5aaa4'): {'bounds': [2e-09,\n",
      "                                                                      2e-07],\n",
      "                                                           'value': 3e-08}},\n",
      " 'T_up': {UUID('382738e8-d7a0-42af-a374-803026c9223a'): {'bounds': [2e-09,\n",
      "                                                                    2e-07],\n",
      "                                                         'value': 5e-09},\n",
      "          UUID('e9f0bf55-f9de-4dfb-9a9d-6e9039b5aaa4'): {'bounds': [2e-09,\n",
      "                                                                    2e-07],\n",
      "                                                         'value': 2.5e-08}},\n",
      " 'amp': {UUID('382738e8-d7a0-42af-a374-803026c9223a'): {'bounds': [6283.185307179586,\n",
      "                                                                   6283185307.179586],\n",
      "                                                        'value': 94247779.60769379},\n",
      "         UUID('e9f0bf55-f9de-4dfb-9a9d-6e9039b5aaa4'): {'bounds': [6283.185307179586,\n",
      "                                                                   6283185307.179586],\n",
      "                                                        'value': 18849555.92153876}},\n",
      " 'freq': {UUID('ebd4dacc-f3f4-416e-adf1-c2e32cc0221d'): {'value': 37699111843.077515}},\n",
      " 'freq_offset': {UUID('382738e8-d7a0-42af-a374-803026c9223a'): {'bounds': [-6283185307.179586,\n",
      "                                                                           6283185307.179586],\n",
      "                                                                'value': 0.0},\n",
      "                 UUID('e9f0bf55-f9de-4dfb-9a9d-6e9039b5aaa4'): {'bounds': [-6283185307.179586,\n",
      "                                                                           6283185307.179586],\n",
      "                                                                'value': 0.0}},\n",
      " 'xy_angle': {UUID('382738e8-d7a0-42af-a374-803026c9223a'): {'bounds': [-3.141592653589793,\n",
      "                                                                        3.141592653589793],\n",
      "                                                             'value': 0},\n",
      "              UUID('e9f0bf55-f9de-4dfb-9a9d-6e9039b5aaa4'): {'bounds': [-3.141592653589793,\n",
      "                                                                        3.141592653589793],\n",
      "                                                             'value': 1.5707963267948966}}}\n"
     ]
    }
   ],
   "source": [
    "pprint.pprint(sig.get_parameters())"
   ]
  },
  {
   "cell_type": "code",
   "execution_count": 6,
   "metadata": {
    "scrolled": true
   },
   "outputs": [],
   "source": [
    "#sig.plot_IQ_components()"
   ]
  },
  {
   "cell_type": "code",
   "execution_count": 7,
   "metadata": {
    "scrolled": true
   },
   "outputs": [],
   "source": [
    "#sig.plot_fft_IQ_components()"
   ]
  },
  {
   "cell_type": "code",
   "execution_count": 8,
   "metadata": {
    "scrolled": true
   },
   "outputs": [
    {
     "data": {
      "image/png": "[encoded data removed]",
      "text/plain": [
       "<Figure size 600x400 with 1 Axes>"
      ]
     },
     "metadata": {
      "needs_background": "light"
     },
     "output_type": "display_data"
    }
   ],
   "source": [
    "sig.plot_signal()"
   ]
  },
  {
   "cell_type": "code",
   "execution_count": 9,
   "metadata": {},
   "outputs": [],
   "source": [
    "#sig.plot_fft_signal()"
   ]
  },
  {
   "cell_type": "markdown",
   "metadata": {},
   "source": [
    "# Calibration"
   ]
  },
  {
   "cell_type": "code",
   "execution_count": 10,
   "metadata": {},
   "outputs": [],
   "source": [
    "optim = Optimizer()"
   ]
  },
  {
   "cell_type": "code",
   "execution_count": 11,
   "metadata": {},
   "outputs": [],
   "source": [
    "opt_map = {\n",
    "    'amp' : [(sig.get_uuid(), flat.get_uuid()), (sig.get_uuid(), drag.get_uuid())],\n",
    "    'T_up' : [(sig.get_uuid(), flat.get_uuid()), (sig.get_uuid(), drag.get_uuid())],\n",
    "    'T_down' : [(sig.get_uuid(), flat.get_uuid()), (sig.get_uuid(), drag.get_uuid())],\n",
    "    'xy_angle': [(sig.get_uuid(), flat.get_uuid()), (sig.get_uuid(), drag.get_uuid())],\n",
    "    'freq_offset': [(sig.get_uuid(), flat.get_uuid())]\n",
    "}"
   ]
  },
  {
   "cell_type": "code",
   "execution_count": 12,
   "metadata": {
    "scrolled": false
   },
   "outputs": [
    {
     "name": "stdout",
     "output_type": "stream",
     "text": [
      "{'T_down': [(UUID('0826bf8d-9fc9-4d80-8f18-9f86a6eff633'),\n",
      "             UUID('382738e8-d7a0-42af-a374-803026c9223a')),\n",
      "            (UUID('0826bf8d-9fc9-4d80-8f18-9f86a6eff633'),\n",
      "             UUID('e9f0bf55-f9de-4dfb-9a9d-6e9039b5aaa4'))],\n",
      " 'T_up': [(UUID('0826bf8d-9fc9-4d80-8f18-9f86a6eff633'),\n",
      "           UUID('382738e8-d7a0-42af-a374-803026c9223a')),\n",
      "          (UUID('0826bf8d-9fc9-4d80-8f18-9f86a6eff633'),\n",
      "           UUID('e9f0bf55-f9de-4dfb-9a9d-6e9039b5aaa4'))],\n",
      " 'amp': [(UUID('0826bf8d-9fc9-4d80-8f18-9f86a6eff633'),\n",
      "          UUID('382738e8-d7a0-42af-a374-803026c9223a')),\n",
      "         (UUID('0826bf8d-9fc9-4d80-8f18-9f86a6eff633'),\n",
      "          UUID('e9f0bf55-f9de-4dfb-9a9d-6e9039b5aaa4'))],\n",
      " 'freq_offset': [(UUID('0826bf8d-9fc9-4d80-8f18-9f86a6eff633'),\n",
      "                  UUID('382738e8-d7a0-42af-a374-803026c9223a'))],\n",
      " 'xy_angle': [(UUID('0826bf8d-9fc9-4d80-8f18-9f86a6eff633'),\n",
      "               UUID('382738e8-d7a0-42af-a374-803026c9223a')),\n",
      "              (UUID('0826bf8d-9fc9-4d80-8f18-9f86a6eff633'),\n",
      "               UUID('e9f0bf55-f9de-4dfb-9a9d-6e9039b5aaa4'))]}\n"
     ]
    }
   ],
   "source": [
    "pprint.pprint(opt_map)"
   ]
  },
  {
   "cell_type": "code",
   "execution_count": 13,
   "metadata": {},
   "outputs": [],
   "source": [
    "opt_params = optim.get_corresponding_signal_parameters([sig], opt_map)"
   ]
  },
  {
   "cell_type": "code",
   "execution_count": 14,
   "metadata": {},
   "outputs": [
    {
     "name": "stdout",
     "output_type": "stream",
     "text": [
      "{'bounds': [[6283.185307179586, 6283185307.179586],\n",
      "            [6283.185307179586, 6283185307.179586],\n",
      "            [2e-09, 2e-07],\n",
      "            [2e-09, 2e-07],\n",
      "            [2e-09, 2e-07],\n",
      "            [2e-09, 2e-07],\n",
      "            [-3.141592653589793, 3.141592653589793],\n",
      "            [-3.141592653589793, 3.141592653589793],\n",
      "            [-6283185307.179586, 6283185307.179586]],\n",
      " 'origin': [('amp',\n",
      "             (UUID('0826bf8d-9fc9-4d80-8f18-9f86a6eff633'),\n",
      "              UUID('382738e8-d7a0-42af-a374-803026c9223a'))),\n",
      "            ('amp',\n",
      "             (UUID('0826bf8d-9fc9-4d80-8f18-9f86a6eff633'),\n",
      "              UUID('e9f0bf55-f9de-4dfb-9a9d-6e9039b5aaa4'))),\n",
      "            ('T_up',\n",
      "             (UUID('0826bf8d-9fc9-4d80-8f18-9f86a6eff633'),\n",
      "              UUID('382738e8-d7a0-42af-a374-803026c9223a'))),\n",
      "            ('T_up',\n",
      "             (UUID('0826bf8d-9fc9-4d80-8f18-9f86a6eff633'),\n",
      "              UUID('e9f0bf55-f9de-4dfb-9a9d-6e9039b5aaa4'))),\n",
      "            ('T_down',\n",
      "             (UUID('0826bf8d-9fc9-4d80-8f18-9f86a6eff633'),\n",
      "              UUID('382738e8-d7a0-42af-a374-803026c9223a'))),\n",
      "            ('T_down',\n",
      "             (UUID('0826bf8d-9fc9-4d80-8f18-9f86a6eff633'),\n",
      "              UUID('e9f0bf55-f9de-4dfb-9a9d-6e9039b5aaa4'))),\n",
      "            ('xy_angle',\n",
      "             (UUID('0826bf8d-9fc9-4d80-8f18-9f86a6eff633'),\n",
      "              UUID('382738e8-d7a0-42af-a374-803026c9223a'))),\n",
      "            ('xy_angle',\n",
      "             (UUID('0826bf8d-9fc9-4d80-8f18-9f86a6eff633'),\n",
      "              UUID('e9f0bf55-f9de-4dfb-9a9d-6e9039b5aaa4'))),\n",
      "            ('freq_offset',\n",
      "             (UUID('0826bf8d-9fc9-4d80-8f18-9f86a6eff633'),\n",
      "              UUID('382738e8-d7a0-42af-a374-803026c9223a')))],\n",
      " 'values': [94247779.60769379,\n",
      "            18849555.92153876,\n",
      "            5e-09,\n",
      "            2.5e-08,\n",
      "            4.5e-08,\n",
      "            3e-08,\n",
      "            0,\n",
      "            1.5707963267948966,\n",
      "            0.0]}\n"
     ]
    }
   ],
   "source": [
    "pprint.pprint(opt_params)"
   ]
  },
  {
   "cell_type": "code",
   "execution_count": 15,
   "metadata": {},
   "outputs": [],
   "source": [
    "initial_spread = [ 5e6*2*np.pi, 5e6*2*np.pi, 5e-9, 5e-9, 5e-9, 5e-9, 0.1, 0.1, 20e6*2*np.pi]\n",
    "\n",
    "opt_settings = {\n",
    "    'CMA_stds': initial_spread,\n",
    "    'ftarget' : 1e-4,\n",
    "    'popsize' : 5\n",
    "}"
   ]
  },
  {
   "cell_type": "code",
   "execution_count": 16,
   "metadata": {},
   "outputs": [],
   "source": [
    "import random\n",
    "\n",
    "def evaluate_signals(samples_rescaled):\n",
    "#     print(samples_rescaled)\n",
    "#     i = 0\n",
    "#     for sample in samples_rescaled:\n",
    "#         sample.plot_signal()\n",
    "#         print(\"sample: \" + str(i))\n",
    "#         i += 1\n",
    "    return [random.uniform(0, 1), random.uniform(0, 1), random.uniform(0, 1), random.uniform(0, 1), random.uniform(0, 1)]"
   ]
  },
  {
   "cell_type": "code",
   "execution_count": 17,
   "metadata": {},
   "outputs": [],
   "source": [
    "optim = Optimizer()"
   ]
  },
  {
   "cell_type": "code",
   "execution_count": 18,
   "metadata": {},
   "outputs": [
    {
     "name": "stdout",
     "output_type": "stream",
     "text": [
      "(2_w,5mirr1)-aCMA-ES (mu_w=1.6,w_1=73%) in dimension 9 (seed=417084, Thu Aug  8 17:15:05 2019)\n",
      "Iterat #Fevals   function value  axis ratio  sigma  min&max std  t[m:s]\n",
      "    1      5 1.805537725887136e-01 1.0e+00 8.73e-01  4e-03  2e-02 0:00.0\n",
      "    2     10 1.967231975711797e-01 1.1e+00 7.79e-01  4e-03  2e-02 0:00.0\n",
      "    3     15 1.111152823362934e-01 1.1e+00 7.41e-01  4e-03  2e-02 0:00.0\n",
      "  100    500 9.913022355379986e-02 2.9e+00 1.90e-01  1e-03  5e-03 0:00.2\n",
      "  200   1000 8.677163989016679e-02 6.9e+00 2.25e+00  1e-02  8e-02 0:00.3\n",
      "  300   1500 2.945180462221109e-02 1.4e+01 2.44e+01  7e-02  1e+00 0:00.5\n",
      "  337   1685 6.700722874097842e-05 2.1e+01 4.38e+01  1e-01  2e+00 0:00.6\n"
     ]
    }
   ],
   "source": [
    "optim.optimize_signal(\n",
    "    signals = [sig],\n",
    "    opt_map = opt_map,\n",
    "    opt = 'cmaes',\n",
    "    settings = opt_settings,\n",
    "    calib_name = 'test',\n",
    "    eval_func = evaluate_signals\n",
    "    )"
   ]
  },
  {
   "cell_type": "code",
   "execution_count": 19,
   "metadata": {},
   "outputs": [
    {
     "name": "stdout",
     "output_type": "stream",
     "text": [
      "[('initial',\n",
      "  {'T_down': {UUID('382738e8-d7a0-42af-a374-803026c9223a'): {'bounds': [2e-09,\n",
      "                                                                        2e-07],\n",
      "                                                             'value': 4.5e-08},\n",
      "              UUID('e9f0bf55-f9de-4dfb-9a9d-6e9039b5aaa4'): {'bounds': [2e-09,\n",
      "                                                                        2e-07],\n",
      "                                                             'value': 3e-08}},\n",
      "   'T_up': {UUID('382738e8-d7a0-42af-a374-803026c9223a'): {'bounds': [2e-09,\n",
      "                                                                      2e-07],\n",
      "                                                           'value': 5e-09},\n",
      "            UUID('e9f0bf55-f9de-4dfb-9a9d-6e9039b5aaa4'): {'bounds': [2e-09,\n",
      "                                                                      2e-07],\n",
      "                                                           'value': 2.5e-08}},\n",
      "   'amp': {UUID('382738e8-d7a0-42af-a374-803026c9223a'): {'bounds': [6283.185307179586,\n",
      "                                                                     6283185307.179586],\n",
      "                                                          'value': 94247779.60769379},\n",
      "           UUID('e9f0bf55-f9de-4dfb-9a9d-6e9039b5aaa4'): {'bounds': [6283.185307179586,\n",
      "                                                                     6283185307.179586],\n",
      "                                                          'value': 18849555.92153876}},\n",
      "   'freq': {UUID('ebd4dacc-f3f4-416e-adf1-c2e32cc0221d'): {'value': 37699111843.077515}},\n",
      "   'freq_offset': {UUID('382738e8-d7a0-42af-a374-803026c9223a'): {'bounds': [-6283185307.179586,\n",
      "                                                                             6283185307.179586],\n",
      "                                                                  'value': 0.0},\n",
      "                   UUID('e9f0bf55-f9de-4dfb-9a9d-6e9039b5aaa4'): {'bounds': [-6283185307.179586,\n",
      "                                                                             6283185307.179586],\n",
      "                                                                  'value': 0.0}},\n",
      "   'xy_angle': {UUID('382738e8-d7a0-42af-a374-803026c9223a'): {'bounds': [-3.141592653589793,\n",
      "                                                                          3.141592653589793],\n",
      "                                                               'value': 0},\n",
      "                UUID('e9f0bf55-f9de-4dfb-9a9d-6e9039b5aaa4'): {'bounds': [-3.141592653589793,\n",
      "                                                                          3.141592653589793],\n",
      "                                                               'value': 1.5707963267948966}}}),\n",
      " ('test',\n",
      "  {'T_down': {UUID('382738e8-d7a0-42af-a374-803026c9223a'): {'bounds': [2e-09,\n",
      "                                                                        2e-07],\n",
      "                                                             'value': 1.1878542161126166e-07},\n",
      "              UUID('e9f0bf55-f9de-4dfb-9a9d-6e9039b5aaa4'): {'bounds': [2e-09,\n",
      "                                                                        2e-07],\n",
      "                                                             'value': 1.2611392412739688e-07}},\n",
      "   'T_up': {UUID('382738e8-d7a0-42af-a374-803026c9223a'): {'bounds': [2e-09,\n",
      "                                                                      2e-07],\n",
      "                                                           'value': 3.0994716416357116e-08},\n",
      "            UUID('e9f0bf55-f9de-4dfb-9a9d-6e9039b5aaa4'): {'bounds': [2e-09,\n",
      "                                                                      2e-07],\n",
      "                                                           'value': 1.386601819967668e-07}},\n",
      "   'amp': {UUID('382738e8-d7a0-42af-a374-803026c9223a'): {'bounds': [6283.185307179586,\n",
      "                                                                     6283185307.179586],\n",
      "                                                          'value': 3783126881.7870536},\n",
      "           UUID('e9f0bf55-f9de-4dfb-9a9d-6e9039b5aaa4'): {'bounds': [6283.185307179586,\n",
      "                                                                     6283185307.179586],\n",
      "                                                          'value': 1567866254.2502725}},\n",
      "   'freq': {UUID('ebd4dacc-f3f4-416e-adf1-c2e32cc0221d'): {'value': 37699111843.077515}},\n",
      "   'freq_offset': {UUID('382738e8-d7a0-42af-a374-803026c9223a'): {'bounds': [-6283185307.179586,\n",
      "                                                                             6283185307.179586],\n",
      "                                                                  'value': -4957358791.99514},\n",
      "                   UUID('e9f0bf55-f9de-4dfb-9a9d-6e9039b5aaa4'): {'bounds': [-6283185307.179586,\n",
      "                                                                             6283185307.179586],\n",
      "                                                                  'value': 0.0}},\n",
      "   'xy_angle': {UUID('382738e8-d7a0-42af-a374-803026c9223a'): {'bounds': [-3.141592653589793,\n",
      "                                                                          3.141592653589793],\n",
      "                                                               'value': -2.4073945388538687},\n",
      "                UUID('e9f0bf55-f9de-4dfb-9a9d-6e9039b5aaa4'): {'bounds': [-3.141592653589793,\n",
      "                                                                          3.141592653589793],\n",
      "                                                               'value': 1.5594197807584278}}})]\n"
     ]
    }
   ],
   "source": [
    "pprint.pprint(sig.get_history())"
   ]
  }
 ],
 "metadata": {
  "kernelspec": {
   "display_name": "c3po",
   "language": "python",
   "name": "c3po"
  },
  "language_info": {
   "codemirror_mode": {
    "name": "ipython",
    "version": 3
   },
   "file_extension": ".py",
   "mimetype": "text/x-python",
   "name": "python",
   "nbconvert_exporter": "python",
   "pygments_lexer": "ipython3",
   "version": "3.7.3"
  }
 },
 "nbformat": 4,
 "nbformat_minor": 2
}
