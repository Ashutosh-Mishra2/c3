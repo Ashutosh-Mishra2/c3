{
 "cells": [
  {
   "cell_type": "markdown",
   "metadata": {},
   "source": [
    "# Import and definitions"
   ]
  },
  {
   "cell_type": "code",
   "execution_count": 1,
   "metadata": {},
   "outputs": [],
   "source": [
    "import sys\n",
    "import zmq\n",
    "import uuid\n",
    "import glob\n",
    "import yaml\n",
    "from numpy import pi\n",
    "import numpy as np\n",
    "import qutip as qt\n",
    "\n",
    "reconnect = False"
   ]
  },
  {
   "cell_type": "markdown",
   "metadata": {},
   "source": [
    "# Specify initial pulse and bounds"
   ]
  },
  {
   "cell_type": "code",
   "execution_count": 10,
   "metadata": {},
   "outputs": [],
   "source": [
    "handmade_pulse = {\n",
    "        'control1': {\n",
    "            'carrier1': {\n",
    "                'freq': 6e9*2*pi,\n",
    "                'pulses': {\n",
    "                    'pulse1': {\n",
    "                        'amp': 15e6*2*pi,\n",
    "                        't_up': 5e-9,\n",
    "                        't_down': 45e-9,\n",
    "                        'xy_angle': 0\n",
    "                        }\n",
    "                    }\n",
    "                }\n",
    "            }\n",
    "        }\n",
    "pulse_bounds = {\n",
    "        'control1': {\n",
    "            'carrier1': {\n",
    "                'freq': [1e9*2*pi, 15e9*2*pi],\n",
    "                'pulses': {\n",
    "                    'pulse1': {\n",
    "                        'amp':  [1e3*2*pi, 10e9*2*pi],\n",
    "                        't_up': [2e-9, 98e-9],\n",
    "                        't_down': [2e-9, 98e-9],\n",
    "                        'xy_angle': [-pi, pi]\n",
    "                        }\n",
    "                    }\n",
    "                }\n",
    "            }\n",
    "        }"
   ]
  },
  {
   "cell_type": "markdown",
   "metadata": {},
   "source": [
    "# Evaluation function\n",
    "\n",
    "Provide a function, specific to your experimental setup, that takes a several sets of parameters and provides a figure of merit for each."
   ]
  },
  {
   "cell_type": "code",
   "execution_count": 29,
   "metadata": {},
   "outputs": [],
   "source": [
    "def evaluate_pulse(gate, samples):\n",
    "    global search_id\n",
    "    infidelities = []\n",
    "    for q in samples:\n",
    "        pulse_id = str(uuid.uuid4())\n",
    "        gate.print_pulse(q)\n",
    "        gate.plot_control_fields(q)\n",
    "        pulse = gate.get_IQ(q)\n",
    "        T_final = gate.T_final\n",
    "        ts = np.linspace(0, T_final, T_final*1e9)\n",
    "        Is = pulse['I'](ts)\n",
    "        Qs = pulse['Q'](ts)\n",
    "        non0_mask = np.nonzero(Is * Qs) \n",
    "        pulse['I'] = list(Is[non0_mask])  \n",
    "        pulse['Q'] = list(Qs[non0_mask])\n",
    "        request = {\n",
    "                'search_id': search_id,\n",
    "                'pulse_id': pulse_id,\n",
    "                'pulse': pulse,\n",
    "                'fidelity': 0,\n",
    "                'do_stop': False\n",
    "                }\n",
    "        \n",
    "        socketreq.send_json(request)\n",
    "        receive_message = socketreq.recv_string()\n",
    "        \n",
    "        reply = socketrep.recv_json()\n",
    "        socketrep.send_string(search_id)    \n",
    "\n",
    "        # Extract the fidelity\n",
    "        infidelities.append(1-reply['fidelity'])\n",
    "    return infidelities"
   ]
  },
  {
   "cell_type": "markdown",
   "metadata": {},
   "source": [
    "# Import C3PO"
   ]
  },
  {
   "cell_type": "code",
   "execution_count": 30,
   "metadata": {},
   "outputs": [],
   "source": [
    "from c3po.main.gate import Gate as gt\n",
    "from c3po.fidelity.measurement import Experiment as exp_backend"
   ]
  },
  {
   "cell_type": "code",
   "execution_count": 31,
   "metadata": {},
   "outputs": [],
   "source": [
    "X_gate = gt('qubit_1', qt.sigmax())\n",
    "X_gate.set_parameters('initial', handmade_pulse)\n",
    "X_gate.set_bounds(pulse_bounds)\n",
    "\n",
    "fridge = exp_backend(evaluate_pulse)"
   ]
  },
  {
   "cell_type": "markdown",
   "metadata": {},
   "source": [
    "# Communication setup\n",
    "Replace '127.0.0.1' with the IP of the LabView machine. Hostnames might confuse the queue interface."
   ]
  },
  {
   "cell_type": "code",
   "execution_count": 38,
   "metadata": {},
   "outputs": [
    {
     "name": "stdout",
     "output_type": "stream",
     "text": [
      "I am the calibration searcher.\n",
      "My ID for this run is 5ed8fd9a-7dbe-4270-9872-7e5fd0b9ec6f\n",
      "\n",
      "Connecting to client tcp://127.0.0.1:5559 ... done\n",
      "\n",
      "\n"
     ]
    }
   ],
   "source": [
    "calibration_daemon_experiment_URI = \"tcp://127.0.0.1:5559\"\n",
    "calibration_daemon_searcher_URI = \"tcp://127.0.0.1:5560\"\n",
    "\n",
    "if reconnect:\n",
    "    socketreq.unbind(calibration_daemon_experiment_URI)\n",
    "    socketrep.close()\n",
    "\n",
    "rcvtimeout = 30000\n",
    "search_id = str(uuid.uuid4())\n",
    "print(f\"I am the calibration searcher.\\nMy ID for this run is {search_id}\\n\")\n",
    "\n",
    "# Start communication\n",
    "print(f\"Connecting to client {calibration_daemon_experiment_URI} ... \", flush=True, end='')\n",
    "context = zmq.Context()\n",
    "socketrep = context.socket(zmq.REP)\n",
    "\n",
    "socketrep.bind(calibration_daemon_searcher_URI)\n",
    "\n",
    "socketreq = context.socket(zmq.REQ)\n",
    "socketreq.setsockopt(zmq.LINGER, 0)  #NEW Added by Edwar to flush the queue\n",
    "socketreq.connect(calibration_daemon_experiment_URI)\n",
    "\n",
    "socketrep.RCVTIMEO = rcvtimeout  # added timeout to kill rcv if nothing comes\n",
    "socketreq.RCVTIMEO = rcvtimeout\n",
    "print(f\"done\\n\\n\", flush=True)\n",
    "reconnect = True"
   ]
  },
  {
   "cell_type": "markdown",
   "metadata": {},
   "source": [
    "# Calibration"
   ]
  },
  {
   "cell_type": "code",
   "execution_count": 39,
   "metadata": {
    "scrolled": false
   },
   "outputs": [
    {
     "name": "stdout",
     "output_type": "stream",
     "text": [
      "(4_w,8)-aCMA-ES (mu_w=2.6,w_1=52%) in dimension 5 (seed=550567, Tue May 21 18:46:06 2019)\n",
      "{\n",
      "    \"control1\": {\n",
      "        \"carrier1\": {\n",
      "            \"freq\": 21446496265.860058,\n",
      "            \"pulses\": {\n",
      "                \"pulse1\": {\n",
      "                    \"amp\": 4284235315.552861,\n",
      "                    \"t_down\": 3.4515132981982545e-08,\n",
      "                    \"t_up\": 1.0774129719360074e-08,\n",
      "                    \"xy_angle\": -0.5373725183588056\n",
      "                }\n",
      "            }\n",
      "        }\n",
      "    }\n",
      "}\n"
     ]
    },
    {
     "data": {
      "image/png": "[encoded data removed]",
      "text/plain": [
       "<Figure size 600x400 with 2 Axes>"
      ]
     },
     "metadata": {
      "needs_background": "light"
     },
     "output_type": "display_data"
    },
    {
     "name": "stderr",
     "output_type": "stream",
     "text": [
      "/usr/lib/python3.7/site-packages/ipykernel_launcher.py:10: DeprecationWarning: object of type <class 'float'> cannot be safely interpreted as an integer.\n",
      "  # Remove the CWD from sys.path while we load stuff.\n"
     ]
    },
    {
     "name": "stdout",
     "output_type": "stream",
     "text": [
      "{\n",
      "    \"control1\": {\n",
      "        \"carrier1\": {\n",
      "            \"freq\": 23269311070.773525,\n",
      "            \"pulses\": {\n",
      "                \"pulse1\": {\n",
      "                    \"amp\": 14266916139.369673,\n",
      "                    \"t_down\": 5.828467741168205e-08,\n",
      "                    \"t_up\": 1.756936534300884e-08,\n",
      "                    \"xy_angle\": -1.5930192862882693\n",
      "                }\n",
      "            }\n",
      "        }\n",
      "    }\n",
      "}\n"
     ]
    },
    {
     "data": {
      "image/png": "[encoded data removed]",
      "text/plain": [
       "<Figure size 600x400 with 2 Axes>"
      ]
     },
     "metadata": {
      "needs_background": "light"
     },
     "output_type": "display_data"
    },
    {
     "ename": "KeyboardInterrupt",
     "evalue": "",
     "output_type": "error",
     "traceback": [
      "\u001b[0;31m---------------------------------------------------------------------------\u001b[0m",
      "\u001b[0;31mKeyboardInterrupt\u001b[0m                         Traceback (most recent call last)",
      "\u001b[0;32m<ipython-input-39-6d9a122de9ff>\u001b[0m in \u001b[0;36m<module>\u001b[0;34m\u001b[0m\n\u001b[0;32m----> 1\u001b[0;31m \u001b[0mfridge\u001b[0m\u001b[0;34m.\u001b[0m\u001b[0mcalibrate\u001b[0m\u001b[0;34m(\u001b[0m\u001b[0mX_gate\u001b[0m\u001b[0;34m)\u001b[0m\u001b[0;34m\u001b[0m\u001b[0;34m\u001b[0m\u001b[0m\n\u001b[0m",
      "\u001b[0;32m/localdisk/nwittler/c3po/c3po/fidelity/measurement.py\u001b[0m in \u001b[0;36mcalibrate\u001b[0;34m(self, gate, opts, start_name, calib_name)\u001b[0m\n\u001b[1;32m     60\u001b[0m                     self.evaluate_gate(\n\u001b[1;32m     61\u001b[0m                         \u001b[0mgate\u001b[0m\u001b[0;34m,\u001b[0m\u001b[0;34m\u001b[0m\u001b[0;34m\u001b[0m\u001b[0m\n\u001b[0;32m---> 62\u001b[0;31m                         \u001b[0msamples_rescaled\u001b[0m\u001b[0;34m,\u001b[0m\u001b[0;34m\u001b[0m\u001b[0;34m\u001b[0m\u001b[0m\n\u001b[0m\u001b[1;32m     63\u001b[0m                         )\n\u001b[1;32m     64\u001b[0m                     )\n",
      "\u001b[0;32m<ipython-input-29-d70f820bec63>\u001b[0m in \u001b[0;36mevaluate_pulse\u001b[0;34m(gate, samples)\u001b[0m\n\u001b[1;32m     25\u001b[0m         \u001b[0mreceive_message\u001b[0m \u001b[0;34m=\u001b[0m \u001b[0msocketreq\u001b[0m\u001b[0;34m.\u001b[0m\u001b[0mrecv_string\u001b[0m\u001b[0;34m(\u001b[0m\u001b[0;34m)\u001b[0m\u001b[0;34m\u001b[0m\u001b[0;34m\u001b[0m\u001b[0m\n\u001b[1;32m     26\u001b[0m \u001b[0;34m\u001b[0m\u001b[0m\n\u001b[0;32m---> 27\u001b[0;31m         \u001b[0mreply\u001b[0m \u001b[0;34m=\u001b[0m \u001b[0msocketrep\u001b[0m\u001b[0;34m.\u001b[0m\u001b[0mrecv_json\u001b[0m\u001b[0;34m(\u001b[0m\u001b[0;34m)\u001b[0m\u001b[0;34m\u001b[0m\u001b[0;34m\u001b[0m\u001b[0m\n\u001b[0m\u001b[1;32m     28\u001b[0m         \u001b[0msocketrep\u001b[0m\u001b[0;34m.\u001b[0m\u001b[0msend_string\u001b[0m\u001b[0;34m(\u001b[0m\u001b[0msearch_id\u001b[0m\u001b[0;34m)\u001b[0m\u001b[0;34m\u001b[0m\u001b[0;34m\u001b[0m\u001b[0m\n\u001b[1;32m     29\u001b[0m \u001b[0;34m\u001b[0m\u001b[0m\n",
      "\u001b[0;32m/usr/lib/python3.7/site-packages/zmq/sugar/socket.py\u001b[0m in \u001b[0;36mrecv_json\u001b[0;34m(self, flags, **kwargs)\u001b[0m\n\u001b[1;32m    666\u001b[0m             \u001b[0;32mfor\u001b[0m \u001b[0many\u001b[0m \u001b[0mof\u001b[0m \u001b[0mthe\u001b[0m \u001b[0mreasons\u001b[0m \u001b[0;34m:\u001b[0m\u001b[0mfunc\u001b[0m\u001b[0;34m:\u001b[0m\u001b[0;31m`\u001b[0m\u001b[0;34m~\u001b[0m\u001b[0mSocket\u001b[0m\u001b[0;34m.\u001b[0m\u001b[0mrecv\u001b[0m\u001b[0;31m`\u001b[0m \u001b[0mmight\u001b[0m \u001b[0mfail\u001b[0m\u001b[0;34m\u001b[0m\u001b[0;34m\u001b[0m\u001b[0m\n\u001b[1;32m    667\u001b[0m         \"\"\"\n\u001b[0;32m--> 668\u001b[0;31m         \u001b[0mmsg\u001b[0m \u001b[0;34m=\u001b[0m \u001b[0mself\u001b[0m\u001b[0;34m.\u001b[0m\u001b[0mrecv\u001b[0m\u001b[0;34m(\u001b[0m\u001b[0mflags\u001b[0m\u001b[0;34m)\u001b[0m\u001b[0;34m\u001b[0m\u001b[0;34m\u001b[0m\u001b[0m\n\u001b[0m\u001b[1;32m    669\u001b[0m         \u001b[0;32mreturn\u001b[0m \u001b[0mself\u001b[0m\u001b[0;34m.\u001b[0m\u001b[0m_deserialize\u001b[0m\u001b[0;34m(\u001b[0m\u001b[0mmsg\u001b[0m\u001b[0;34m,\u001b[0m \u001b[0;32mlambda\u001b[0m \u001b[0mbuf\u001b[0m\u001b[0;34m:\u001b[0m \u001b[0mjsonapi\u001b[0m\u001b[0;34m.\u001b[0m\u001b[0mloads\u001b[0m\u001b[0;34m(\u001b[0m\u001b[0mbuf\u001b[0m\u001b[0;34m,\u001b[0m \u001b[0;34m**\u001b[0m\u001b[0mkwargs\u001b[0m\u001b[0;34m)\u001b[0m\u001b[0;34m)\u001b[0m\u001b[0;34m\u001b[0m\u001b[0;34m\u001b[0m\u001b[0m\n\u001b[1;32m    670\u001b[0m \u001b[0;34m\u001b[0m\u001b[0m\n",
      "\u001b[0;32mzmq/backend/cython/socket.pyx\u001b[0m in \u001b[0;36mzmq.backend.cython.socket.Socket.recv\u001b[0;34m()\u001b[0m\n",
      "\u001b[0;32mzmq/backend/cython/socket.pyx\u001b[0m in \u001b[0;36mzmq.backend.cython.socket.Socket.recv\u001b[0;34m()\u001b[0m\n",
      "\u001b[0;32mzmq/backend/cython/socket.pyx\u001b[0m in \u001b[0;36mzmq.backend.cython.socket._recv_copy\u001b[0;34m()\u001b[0m\n",
      "\u001b[0;32m/usr/lib/python3.7/site-packages/zmq/backend/cython/checkrc.pxd\u001b[0m in \u001b[0;36mzmq.backend.cython.checkrc._check_rc\u001b[0;34m()\u001b[0m\n",
      "\u001b[0;31mKeyboardInterrupt\u001b[0m: "
     ]
    }
   ],
   "source": [
    "fridge.calibrate(X_gate)"
   ]
  }
 ],
 "metadata": {
  "kernelspec": {
   "display_name": "Python 3",
   "language": "python",
   "name": "python3"
  },
  "language_info": {
   "codemirror_mode": {
    "name": "ipython",
    "version": 3
   },
   "file_extension": ".py",
   "mimetype": "text/x-python",
   "name": "python",
   "nbconvert_exporter": "python",
   "pygments_lexer": "ipython3",
   "version": "3.7.3"
  },
  "toc": {
   "base_numbering": 1,
   "nav_menu": {},
   "number_sections": true,
   "sideBar": true,
   "skip_h1_title": false,
   "title_cell": "Table of Contents",
   "title_sidebar": "Contents",
   "toc_cell": false,
   "toc_position": {
    "height": "calc(100% - 180px)",
    "left": "10px",
    "top": "150px",
    "width": "260px"
   },
   "toc_section_display": true,
   "toc_window_display": true
  },
  "varInspector": {
   "cols": {
    "lenName": 16,
    "lenType": 16,
    "lenVar": 40
   },
   "kernels_config": {
    "python": {
     "delete_cmd_postfix": "",
     "delete_cmd_prefix": "del ",
     "library": "var_list.py",
     "varRefreshCmd": "print(var_dic_list())"
    },
    "r": {
     "delete_cmd_postfix": ") ",
     "delete_cmd_prefix": "rm(",
     "library": "var_list.r",
     "varRefreshCmd": "cat(var_dic_list()) "
    }
   },
   "position": {
    "height": "1194px",
    "left": "1857px",
    "right": "20px",
    "top": "132px",
    "width": "686px"
   },
   "types_to_exclude": [
    "module",
    "function",
    "builtin_function_or_method",
    "instance",
    "_Feature"
   ],
   "window_display": true
  }
 },
 "nbformat": 4,
 "nbformat_minor": 2
}
