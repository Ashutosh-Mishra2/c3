{
 "cells": [
  {
   "cell_type": "markdown",
   "metadata": {},
   "source": [
    "# Import and definitions"
   ]
  },
  {
   "cell_type": "code",
   "execution_count": 1,
   "metadata": {},
   "outputs": [],
   "source": [
    "from numpy import pi\n",
    "from IPython.display import clear_output\n",
    "import matplotlib.pyplot as plt\n",
    "import numpy as np\n",
    "import qutip as qt"
   ]
  },
  {
   "cell_type": "markdown",
   "metadata": {},
   "source": [
    "# Specify initial pulse and bounds"
   ]
  },
  {
   "cell_type": "code",
   "execution_count": 2,
   "metadata": {
    "code_folding": []
   },
   "outputs": [],
   "source": [
    "handmade_pulse = {\n",
    "        'A' : 5,\n",
    "        'L' : 150e-9,\n",
    "        'alpha' : 1.001\n",
    "}\n",
    "\n",
    "pulse_bounds = { # Pairs of [min, max] values for each parameter\n",
    "        'A' : [1, 10],\n",
    "        'L' : [25e-9, 220e-9],\n",
    "#        'alpha' : [0.999, 1.001]  # fix this parameter by commenting this line\n",
    "}\n",
    "\n",
    "initial_spread = { # Initial cloud will be sampled +- around these values \n",
    "        'A' : 0.2,\n",
    "        'L' : 10e-9,\n",
    " #       'alpha' : 1.001\n",
    "}"
   ]
  },
  {
   "cell_type": "markdown",
   "metadata": {},
   "source": [
    "# Evaluation function\n",
    "\n",
    "Provide an *evaluate_pulse* function and its helpers, specific to your experimental setup, that takes a several sets of parameters and provides a figure of merit for each."
   ]
  },
  {
   "cell_type": "code",
   "execution_count": 3,
   "metadata": {},
   "outputs": [],
   "source": [
    "def print_current_params(gate, q):\n",
    "    \"\"\"\n",
    "    Print the current sample q to console in JSON format.\n",
    "    \"\"\"\n",
    "    clear_output(wait=True)\n",
    "    gate.print_pulse(q)\n",
    "\n",
    "def evaluate_pulse(gate, samples):\n",
    "    \"\"\"\n",
    "    Give a function that sends samples to the experiment \n",
    "    to be evaluated. Compute and return an infidelity for every\n",
    "    point, that is to be minimized.\n",
    "    \n",
    "    Parameters\n",
    "    ----------\n",
    "    gate : C3 gate object\n",
    "        Collection of parameters and helpers to represent a logical gate.\n",
    "    samples : list\n",
    "        List of points in parameter space to be evaluated. \n",
    "        samples = [s1, s2, s3, ...] where\n",
    "        s1 = [param1, param2, param3, ...]\n",
    "\n",
    "    Returns\n",
    "    -------\n",
    "    list\n",
    "        Fidelity for each sample.\n",
    "    \"\"\"\n",
    "    infidelities = None\n",
    "    for q in samples:\n",
    "        print_current_params(gate, q)\n",
    "    return infidelities"
   ]
  },
  {
   "cell_type": "markdown",
   "metadata": {},
   "source": [
    "# Import C3PO"
   ]
  },
  {
   "cell_type": "code",
   "execution_count": 4,
   "metadata": {},
   "outputs": [],
   "source": [
    "from c3po.main.gate import Gate as gt\n",
    "from c3po.fidelity.measurement import Experiment as exp_backend"
   ]
  },
  {
   "cell_type": "code",
   "execution_count": 5,
   "metadata": {},
   "outputs": [],
   "source": [
    "CP_gate = gt('qubit_12', T_final = 250e-9)\n",
    "CP_gate.env_shape = 'flat' # Pulses are specified by a list of parameters without nested structure.\n",
    "CP_gate.set_parameters('initial', handmade_pulse)\n",
    "CP_gate.set_bounds(pulse_bounds)\n",
    "\n",
    "fridge = exp_backend(evaluate_pulse)"
   ]
  },
  {
   "cell_type": "markdown",
   "metadata": {},
   "source": [
    "# Calibration"
   ]
  },
  {
   "cell_type": "code",
   "execution_count": 6,
   "metadata": {
    "scrolled": false
   },
   "outputs": [
    {
     "name": "stdout",
     "output_type": "stream",
     "text": [
      "{\n",
      "    \"A\": 5.068838993668959,\n",
      "    \"L\": 1.4389762680311458e-07,\n",
      "    \"alpha\": 1.001\n",
      "}\n"
     ]
    },
    {
     "ename": "TypeError",
     "evalue": "object of type 'NoneType' has no len()",
     "output_type": "error",
     "traceback": [
      "\u001b[0;31m---------------------------------------------------------------------------\u001b[0m",
      "\u001b[0;31mTypeError\u001b[0m                                 Traceback (most recent call last)",
      "\u001b[0;32m<ipython-input-6-af444fc7b17d>\u001b[0m in \u001b[0;36m<module>\u001b[0;34m\u001b[0m\n\u001b[1;32m      5\u001b[0m }\n\u001b[1;32m      6\u001b[0m \u001b[0;34m\u001b[0m\u001b[0m\n\u001b[0;32m----> 7\u001b[0;31m \u001b[0mfridge\u001b[0m\u001b[0;34m.\u001b[0m\u001b[0mcalibrate\u001b[0m\u001b[0;34m(\u001b[0m\u001b[0mCP_gate\u001b[0m\u001b[0;34m,\u001b[0m \u001b[0mopts\u001b[0m\u001b[0;34m)\u001b[0m\u001b[0;34m\u001b[0m\u001b[0;34m\u001b[0m\u001b[0m\n\u001b[0m",
      "\u001b[0;32m/localdisk/nwittler/repos/c3po/c3po/fidelity/measurement.py\u001b[0m in \u001b[0;36mcalibrate\u001b[0;34m(self, gate, opts, start_name, calib_name)\u001b[0m\n\u001b[1;32m    142\u001b[0m                     self.evaluate_gate(\n\u001b[1;32m    143\u001b[0m                         \u001b[0mgate\u001b[0m\u001b[0;34m,\u001b[0m\u001b[0;34m\u001b[0m\u001b[0;34m\u001b[0m\u001b[0m\n\u001b[0;32m--> 144\u001b[0;31m                         \u001b[0msamples_rescaled\u001b[0m\u001b[0;34m,\u001b[0m\u001b[0;34m\u001b[0m\u001b[0;34m\u001b[0m\u001b[0m\n\u001b[0m\u001b[1;32m    145\u001b[0m                         )\n\u001b[1;32m    146\u001b[0m                     )\n",
      "\u001b[0;32m~/.local/lib/python3.7/site-packages/cma/evolution_strategy.py\u001b[0m in \u001b[0;36mtell\u001b[0;34m(self, solutions, function_values, check_points, copy)\u001b[0m\n\u001b[1;32m   2380\u001b[0m \u001b[0;34m\u001b[0m\u001b[0m\n\u001b[1;32m   2381\u001b[0m         \u001b[0mlam\u001b[0m \u001b[0;34m=\u001b[0m \u001b[0mlen\u001b[0m\u001b[0;34m(\u001b[0m\u001b[0msolutions\u001b[0m\u001b[0;34m)\u001b[0m\u001b[0;34m\u001b[0m\u001b[0;34m\u001b[0m\u001b[0m\n\u001b[0;32m-> 2382\u001b[0;31m         \u001b[0;32mif\u001b[0m \u001b[0mlam\u001b[0m \u001b[0;34m!=\u001b[0m \u001b[0mlen\u001b[0m\u001b[0;34m(\u001b[0m\u001b[0mfunction_values\u001b[0m\u001b[0;34m)\u001b[0m\u001b[0;34m:\u001b[0m\u001b[0;34m\u001b[0m\u001b[0;34m\u001b[0m\u001b[0m\n\u001b[0m\u001b[1;32m   2383\u001b[0m             raise ValueError('#f-values = %d must equal #solutions = %d'\n\u001b[1;32m   2384\u001b[0m                              % (len(function_values), lam))\n",
      "\u001b[0;31mTypeError\u001b[0m: object of type 'NoneType' has no len()"
     ]
    }
   ],
   "source": [
    "opts = {\n",
    "    'CMA_stds': initial_spread,\n",
    "    'ftarget' : 1e-4,\n",
    "    'popsize' : 20\n",
    "}\n",
    "\n",
    "fridge.calibrate(CP_gate, opts)"
   ]
  },
  {
   "cell_type": "code",
   "execution_count": null,
   "metadata": {},
   "outputs": [],
   "source": []
  }
 ],
 "metadata": {
  "kernelspec": {
   "display_name": "Python 3",
   "language": "python",
   "name": "python3"
  },
  "language_info": {
   "codemirror_mode": {
    "name": "ipython",
    "version": 3
   },
   "file_extension": ".py",
   "mimetype": "text/x-python",
   "name": "python",
   "nbconvert_exporter": "python",
   "pygments_lexer": "ipython3",
   "version": "3.7.3"
  },
  "toc": {
   "base_numbering": 1,
   "nav_menu": {},
   "number_sections": true,
   "sideBar": true,
   "skip_h1_title": false,
   "title_cell": "Table of Contents",
   "title_sidebar": "Contents",
   "toc_cell": false,
   "toc_position": {
    "height": "calc(100% - 180px)",
    "left": "10px",
    "top": "150px",
    "width": "260px"
   },
   "toc_section_display": true,
   "toc_window_display": true
  },
  "varInspector": {
   "cols": {
    "lenName": 16,
    "lenType": 16,
    "lenVar": 40
   },
   "kernels_config": {
    "python": {
     "delete_cmd_postfix": "",
     "delete_cmd_prefix": "del ",
     "library": "var_list.py",
     "varRefreshCmd": "print(var_dic_list())"
    },
    "r": {
     "delete_cmd_postfix": ") ",
     "delete_cmd_prefix": "rm(",
     "library": "var_list.r",
     "varRefreshCmd": "cat(var_dic_list()) "
    }
   },
   "position": {
    "height": "1194px",
    "left": "1854px",
    "right": "20px",
    "top": "131px",
    "width": "686px"
   },
   "types_to_exclude": [
    "module",
    "function",
    "builtin_function_or_method",
    "instance",
    "_Feature"
   ],
   "window_display": true
  }
 },
 "nbformat": 4,
 "nbformat_minor": 2
}
