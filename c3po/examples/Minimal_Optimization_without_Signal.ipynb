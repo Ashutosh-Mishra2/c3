{
 "cells": [
  {
   "cell_type": "markdown",
   "metadata": {},
   "source": [
    "# Import and definitions"
   ]
  },
  {
   "cell_type": "code",
   "execution_count": 1,
   "metadata": {},
   "outputs": [],
   "source": [
    "# Jupyter Notebook nicer display\n",
    "from IPython.display import clear_output\n",
    "\n",
    "# Additional utils\n",
    "import numpy as np\n",
    "\n",
    "# c3 Imports\n",
    "from c3po.optimizer.optimizer import Optimizer as Optimizer"
   ]
  },
  {
   "cell_type": "markdown",
   "metadata": {},
   "source": [
    "\n",
    "# Evaluation function\n",
    "\n",
    "Provide an evaluate_pulse function and its helpers, specific to your experimental setup, that takes a several sets of parameters and provides a figure of merit for each.\n"
   ]
  },
  {
   "cell_type": "code",
   "execution_count": 2,
   "metadata": {},
   "outputs": [],
   "source": [
    "def evaluate_signals_dbg(samples_rescaled):\n",
    "    \"\"\"\n",
    "    Evaluate function to debug an optimizer call. Returns random results for all input samples.\n",
    "    \"\"\"\n",
    "    return np.random.rand(len(samples_rescaled))"
   ]
  },
  {
   "cell_type": "markdown",
   "metadata": {},
   "source": [
    "# Calibration"
   ]
  },
  {
   "cell_type": "code",
   "execution_count": 3,
   "metadata": {},
   "outputs": [],
   "source": [
    "# Provide a simple list with the current (physical) values you want to optimize\n",
    "values = [5e-09, 2.5e-08, 4.5e-08, 3e-08, 37699111843.077515]\n",
    "\n",
    "# Set boundaries of the corresponding physical values \n",
    "bounds = [[2e-09, 9.8e-08], [2e-09, 9.8e-08], [2e-09, 9.8e-08], [2e-09, 9.8e-08], [12566370614.359173, 62831853071.79586]]\n",
    "\n",
    "# Initial cloud will be sampled +- around these values \n",
    "initial_spread = [5e-9, 5e-9, 5e-9, 5e-9, 5e6*2*np.pi]\n",
    "\n",
    "\n",
    "opt_params = {}\n",
    "opt_params['values'] = values\n",
    "opt_params['bounds'] = bounds\n",
    "\n",
    "\n",
    "# specify additional options for the optimizer module\n",
    "# i.e. see http://cma.gforge.inria.fr/apidocs-pycma/cma.evolution_strategy.CMAEvolutionStrategy.html\n",
    "opt_settings = {\n",
    "    'CMA_stds': initial_spread,\n",
    "    'ftarget' : 1e-4,\n",
    "    'popsize' : 5\n",
    "}"
   ]
  },
  {
   "cell_type": "code",
   "execution_count": 4,
   "metadata": {},
   "outputs": [
    {
     "name": "stdout",
     "output_type": "stream",
     "text": [
      "(2_w,5mirr1)-aCMA-ES (mu_w=1.6,w_1=73%) in dimension 5 (seed=440021, Fri Aug  9 11:09:55 2019)\n",
      "Iterat #Fevals   function value  axis ratio  sigma  min&max std  t[m:s]\n",
      "    1      5 2.828408458103067e-01 1.0e+00 9.70e-01  6e-04  5e-02 0:00.0\n",
      "    2     10 1.603801623557339e-01 1.2e+00 1.05e+00  6e-04  6e-02 0:00.0\n",
      "    3     15 6.970952138010023e-03 1.3e+00 1.37e+00  8e-04  8e-02 0:00.0\n",
      "  100    500 2.698574905742912e-02 6.3e+00 2.09e+00  7e-04  1e-01 0:00.4\n",
      "  200   1000 4.313426930434813e-01 1.8e+01 7.55e+00  1e-03  3e-01 0:00.8\n",
      "  300   1500 2.992929524035881e-02 6.9e+01 2.19e+01  1e-03  1e+00 0:01.2\n",
      "  400   2000 1.217956251949908e-01 9.6e+01 8.44e+00  5e-04  2e-01 0:01.8\n",
      "  500   2500 5.444672010375187e-01 1.5e+02 7.80e+01  3e-03  2e+00 0:02.2\n",
      "  505   2525 2.317234290586079e-02 1.5e+02 1.40e+02  5e-03  4e+00 0:02.2\n"
     ]
    },
    {
     "data": {
      "text/plain": [
       "[8.671388062779821e-08,\n",
       " 6.346935329263006e-08,\n",
       " 6.042124458611261e-08,\n",
       " 3.4791401208605933e-08,\n",
       " 37078437758.32912]"
      ]
     },
     "execution_count": 4,
     "metadata": {},
     "output_type": "execute_result"
    }
   ],
   "source": [
    "optim = Optimizer()\n",
    "optim.cmaes(\n",
    "    opt_params = opt_params,\n",
    "    settings = opt_settings,\n",
    "    eval_func = evaluate_samples_dbg,\n",
    "    signals=None\n",
    ")"
   ]
  }
 ],
 "metadata": {
  "kernelspec": {
   "display_name": "Python 3",
   "language": "python",
   "name": "python3"
  },
  "language_info": {
   "codemirror_mode": {
    "name": "ipython",
    "version": 3
   },
   "file_extension": ".py",
   "mimetype": "text/x-python",
   "name": "python",
   "nbconvert_exporter": "python",
   "pygments_lexer": "ipython3",
   "version": "3.7.3"
  },
  "varInspector": {
   "cols": {
    "lenName": 16,
    "lenType": 16,
    "lenVar": 40
   },
   "kernels_config": {
    "python": {
     "delete_cmd_postfix": "",
     "delete_cmd_prefix": "del ",
     "library": "var_list.py",
     "varRefreshCmd": "print(var_dic_list())"
    },
    "r": {
     "delete_cmd_postfix": ") ",
     "delete_cmd_prefix": "rm(",
     "library": "var_list.r",
     "varRefreshCmd": "cat(var_dic_list()) "
    }
   },
   "types_to_exclude": [
    "module",
    "function",
    "builtin_function_or_method",
    "instance",
    "_Feature"
   ],
   "window_display": true
  }
 },
 "nbformat": 4,
 "nbformat_minor": 2
}
