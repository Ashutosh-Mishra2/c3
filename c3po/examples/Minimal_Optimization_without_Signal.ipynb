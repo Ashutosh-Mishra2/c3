{
 "cells": [
  {
   "cell_type": "markdown",
   "metadata": {},
   "source": [
    "# Import and definitions"
   ]
  },
  {
   "cell_type": "code",
   "execution_count": 1,
   "metadata": {},
   "outputs": [],
   "source": [
    "# Jupyter Notebook nicer display\n",
    "from IPython.display import clear_output\n",
    "\n",
    "# Additional utils\n",
    "import numpy as np\n",
    "\n",
    "# c3 Imports\n",
    "from c3po.optimizer.optimizer import Optimizer as Optimizer"
   ]
  },
  {
   "cell_type": "markdown",
   "metadata": {},
   "source": [
    "\n",
    "# Evaluation function\n",
    "\n",
    "Provide an evaluate_pulse function and its helpers, specific to your experimental setup, that takes a several sets of parameters and provides a figure of merit for each.\n"
   ]
  },
  {
   "cell_type": "code",
   "execution_count": 2,
   "metadata": {},
   "outputs": [],
   "source": [
    "import random\n",
    "\n",
    "def evaluate_samples(samples_rescaled):\n",
    "#     print(samples_rescaled)\n",
    "#     i = 0\n",
    "#     for sample in samples_rescaled:\n",
    "#         sample.plot_signal()\n",
    "#         print(\"sample: \" + str(i))\n",
    "#         i += 1\n",
    "    return [random.uniform(0, 1), random.uniform(0, 1), random.uniform(0, 1), random.uniform(0, 1), random.uniform(0, 1)]\n"
   ]
  },
  {
   "cell_type": "markdown",
   "metadata": {},
   "source": [
    "# Calibration"
   ]
  },
  {
   "cell_type": "code",
   "execution_count": 3,
   "metadata": {},
   "outputs": [],
   "source": [
    "# Provide a simple list with the current (physical) values you want to optimize\n",
    "values = [5e-09, 2.5e-08, 4.5e-08, 3e-08, 37699111843.077515]\n",
    "\n",
    "# Set boundaries of the corresponding physical values \n",
    "bounds = [[2e-09, 9.8e-08], [2e-09, 9.8e-08], [2e-09, 9.8e-08], [2e-09, 9.8e-08], [12566370614.359173, 62831853071.79586]]\n",
    "\n",
    "# Initial cloud will be sampled +- around these values \n",
    "initial_spread = [5e-9, 5e-9, 5e-9, 5e-9, 5e6*2*np.pi]\n",
    "\n",
    "\n",
    "opt_params = {}\n",
    "opt_params['values'] = values\n",
    "opt_params['bounds'] = bounds\n",
    "\n",
    "\n",
    "# specify additional options for the optimizer module\n",
    "# i.e. see http://cma.gforge.inria.fr/apidocs-pycma/cma.evolution_strategy.CMAEvolutionStrategy.html\n",
    "opt_settings = {\n",
    "    'CMA_stds': initial_spread,\n",
    "    'ftarget' : 1e-4,\n",
    "    'popsize' : 5\n",
    "}"
   ]
  },
  {
   "cell_type": "code",
   "execution_count": 6,
   "metadata": {},
   "outputs": [
    {
     "name": "stdout",
     "output_type": "stream",
     "text": [
      "(2_w,5mirr1)-aCMA-ES (mu_w=1.6,w_1=73%) in dimension 5 (seed=400951, Thu Aug  8 17:12:04 2019)\n",
      "Iterat #Fevals   function value  axis ratio  sigma  min&max std  t[m:s]\n",
      "    1      5 9.659888651485393e-02 1.0e+00 8.48e-01  1e-14  5e+05 0:00.0\n",
      "    2     10 7.211405685650485e-02 1.1e+00 6.55e-01  8e-15  4e+05 0:00.0\n",
      "    3     15 1.118153403947689e-01 1.2e+00 5.87e-01  7e-15  3e+05 0:00.0\n",
      "   90    450 3.791531600079112e-02 1.5e+01 5.43e+02  5e-12  7e+08 0:00.1\n"
     ]
    },
    {
     "data": {
      "text/plain": [
       "[6.266200461599932e-08,\n",
       " 4.236996043477074e-08,\n",
       " 8.754293870146703e-08,\n",
       " 2.7559613256768587e-08,\n",
       " 37699111843.07443]"
      ]
     },
     "execution_count": 6,
     "metadata": {},
     "output_type": "execute_result"
    }
   ],
   "source": [
    "optim = Optimizer()\n",
    "optim.cmaes(\n",
    "    opt_params = opt_params,\n",
    "    settings = opt_settings,\n",
    "    eval_func = evaluate_samples,\n",
    "    signals=None\n",
    ")"
   ]
  }
 ],
 "metadata": {
  "kernelspec": {
   "display_name": "c3po",
   "language": "python",
   "name": "c3po"
  },
  "language_info": {
   "codemirror_mode": {
    "name": "ipython",
    "version": 3
   },
   "file_extension": ".py",
   "mimetype": "text/x-python",
   "name": "python",
   "nbconvert_exporter": "python",
   "pygments_lexer": "ipython3",
   "version": "3.7.3"
  }
 },
 "nbformat": 4,
 "nbformat_minor": 2
}
